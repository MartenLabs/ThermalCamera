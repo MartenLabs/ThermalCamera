{
 "cells": [
  {
   "cell_type": "code",
   "execution_count": 1,
   "metadata": {},
   "outputs": [],
   "source": [
    "# MobileNetV3 -> SSD -> GRU"
   ]
  },
  {
   "cell_type": "code",
   "execution_count": 2,
   "metadata": {},
   "outputs": [
    {
     "name": "stderr",
     "output_type": "stream",
     "text": [
      "2023-12-18 13:16:37.225485: I tensorflow/core/util/port.cc:110] oneDNN custom operations are on. You may see slightly different numerical results due to floating-point round-off errors from different computation orders. To turn them off, set the environment variable `TF_ENABLE_ONEDNN_OPTS=0`.\n",
      "2023-12-18 13:16:37.265768: I tensorflow/core/platform/cpu_feature_guard.cc:182] This TensorFlow binary is optimized to use available CPU instructions in performance-critical operations.\n",
      "To enable the following instructions: AVX2 AVX512F AVX512_VNNI FMA, in other operations, rebuild TensorFlow with the appropriate compiler flags.\n",
      "2023-12-18 13:16:38.039722: W tensorflow/compiler/tf2tensorrt/utils/py_utils.cc:38] TF-TRT Warning: Could not find TensorRT\n"
     ]
    }
   ],
   "source": [
    "import tensorflow as tf\n",
    "from tensorflow import keras \n",
    "# from skimage import color\n",
    "import numpy as np\n",
    "import matplotlib.pyplot as plt\n",
    "import seaborn as sns\n",
    "import warnings \n",
    "from IPython.display import Image\n",
    "\n",
    "warnings.filterwarnings('ignore')\n",
    "%matplotlib inline"
   ]
  },
  {
   "cell_type": "code",
   "execution_count": 3,
   "metadata": {},
   "outputs": [
    {
     "name": "stdout",
     "output_type": "stream",
     "text": [
      "(13276, 24, 32)\n",
      "(13276, 24, 32)\n",
      "(13276,)\n",
      "(13276, 4, 8)\n"
     ]
    }
   ],
   "source": [
    "dataset1_origin = np.load('npz/dataset1_origin.npz', allow_pickle=True)\n",
    "dataset1_horizon = np.load('npz/dataset1_horizon.npz', allow_pickle=True)\n",
    "dataset1_vertical = np.load('npz/dataset1_vertical.npz', allow_pickle=True)\n",
    "dataset1_vh = np.load('npz/dataset1_vh.npz', allow_pickle=True)\n",
    "dataset2_origin = np.load('npz/dataset2_origin.npz', allow_pickle=True)\n",
    "dataset2_horizon = np.load('npz/dataset2_horizon.npz', allow_pickle=True)\n",
    "dataset2_vertical = np.load('npz/dataset2_vertical.npz', allow_pickle=True)\n",
    "dataset2_vh = np.load('npz/dataset2_vh.npz', allow_pickle=True)\n",
    "\n",
    "d1o_origin_images, d1o_target_images, d1o_number_labels, d1o_coordinates = dataset1_origin['images'], dataset1_origin['filters'], dataset1_origin['numbers'],  dataset1_origin['coordinates']\n",
    "d1h_origin_images, d1h_target_images, d1h_number_labels, d1h_coordinates = dataset1_horizon['images'], dataset1_horizon['filters'], dataset1_horizon['numbers'],  dataset1_horizon['coordinates']\n",
    "d1v_origin_images, d1v_target_images, d1v_number_labels, d1v_coordinates = dataset1_vertical['images'], dataset1_vertical['filters'], dataset1_vertical['numbers'],  dataset1_vertical['coordinates']\n",
    "d1vh_origin_images, d1vh_target_images, d1vh_number_labels, d1vh_coordinates = dataset1_vh['images'], dataset1_vh['filters'], dataset1_vh['numbers'],  dataset1_vh['coordinates']\n",
    "d2o_origin_images, d2o_target_images, d2o_number_labels, d2o_coordinates = dataset2_origin['images'], dataset2_origin['filters'], dataset2_origin['numbers'],  dataset2_origin['coordinates']\n",
    "d2h_origin_images, d2h_target_images, d2h_number_labels, d2h_coordinates = dataset2_horizon['images'], dataset2_horizon['filters'], dataset2_horizon['numbers'],  dataset2_horizon['coordinates']\n",
    "d2v_origin_images, d2v_target_images, d2v_number_labels, d2v_coordinates = dataset2_vertical['images'], dataset2_vertical['filters'], dataset2_vertical['numbers'],  dataset2_vertical['coordinates']\n",
    "d2vh_origin_images, d2vh_target_images, d2vh_number_labels, d2vh_coordinates = dataset2_vh['images'], dataset2_vh['filters'], dataset2_vh['numbers'],  dataset2_vh['coordinates']\n",
    "\n",
    "origin_images = np.concatenate([d1o_origin_images, d2o_origin_images, d1h_origin_images, d2h_origin_images, d1v_origin_images, d2v_origin_images, d1vh_origin_images, d2vh_origin_images], axis = 0)\n",
    "target_images = np.concatenate([d1o_target_images, d2o_target_images, d1h_target_images, d2h_target_images, d1v_target_images, d2v_target_images, d1vh_target_images, d2vh_target_images], axis = 0)\n",
    "numbers_labels = np.concatenate([d1o_number_labels, d2o_number_labels, d1h_number_labels, d2h_number_labels, d1v_number_labels, d2v_number_labels, d1vh_number_labels, d2vh_number_labels], axis = 0)\n",
    "coordinates = np.concatenate([d1o_coordinates, d2o_coordinates, d1h_coordinates, d2h_coordinates, d1v_coordinates, d2v_coordinates, d1vh_coordinates, d2vh_coordinates], axis = 0)\n",
    "\n",
    "print(origin_images.shape)\n",
    "print(target_images.shape)\n",
    "print(numbers_labels.shape)\n",
    "print(coordinates.shape)\n"
   ]
  },
  {
   "cell_type": "code",
   "execution_count": 4,
   "metadata": {},
   "outputs": [
    {
     "name": "stdout",
     "output_type": "stream",
     "text": [
      "(13276, 24, 32, 1)\n",
      "(13276, 24, 32, 1)\n"
     ]
    }
   ],
   "source": [
    "origin_images = origin_images.reshape(13276, 24, 32, 1)\n",
    "target_images = target_images.reshape(13276, 24, 32, 1)\n",
    "print(origin_images.shape)\n",
    "print(target_images.shape)"
   ]
  },
  {
   "cell_type": "code",
   "execution_count": 5,
   "metadata": {},
   "outputs": [
    {
     "name": "stdout",
     "output_type": "stream",
     "text": [
      "255 0\n",
      "255 0\n",
      "1.0 0.0\n",
      "1.0 0.0\n",
      "(13276, 24, 32, 1)\n",
      "(13276, 24, 32, 1)\n"
     ]
    }
   ],
   "source": [
    "print(origin_images.max(), origin_images.min())\n",
    "print(target_images.max(), target_images.min())\n",
    "\n",
    "origin_images = origin_images / origin_images.max()\n",
    "target_images = target_images / target_images.max()\n",
    "\n",
    "print(origin_images.max(), origin_images.min())\n",
    "print(target_images.max(), target_images.min())\n",
    "\n",
    "print(origin_images.shape)\n",
    "print(target_images.shape)"
   ]
  },
  {
   "cell_type": "code",
   "execution_count": 6,
   "metadata": {},
   "outputs": [],
   "source": [
    "shuffle_indices = np.random.permutation(origin_images.shape[0])\n",
    "origin_images_shuffled = origin_images[shuffle_indices]\n",
    "target_images_shuffled = target_images[shuffle_indices]\n",
    "numbers_labels_shuffled = numbers_labels[shuffle_indices]\n",
    "coordinates_shuffled = coordinates[shuffle_indices]\n"
   ]
  },
  {
   "cell_type": "code",
   "execution_count": 7,
   "metadata": {},
   "outputs": [
    {
     "name": "stdout",
     "output_type": "stream",
     "text": [
      "(13276, 5)\n"
     ]
    }
   ],
   "source": [
    "# norm_location = normalize_coordinates(coordinates)\n",
    "# print(norm_location.shape)\n",
    "\n",
    "from keras.utils import to_categorical\n",
    "\n",
    "number_labels_shuffled = to_categorical(numbers_labels_shuffled, num_classes=5)\n",
    "print(number_labels_shuffled.shape)"
   ]
  },
  {
   "cell_type": "code",
   "execution_count": 8,
   "metadata": {},
   "outputs": [
    {
     "data": {
      "image/png": "[encoded data removed]",
      "text/plain": [
       "<Figure size 640x480 with 1 Axes>"
      ]
     },
     "metadata": {},
     "output_type": "display_data"
    },
    {
     "name": "stdout",
     "output_type": "stream",
     "text": [
      "0\n",
      "[1. 0. 0. 0. 0.]\n"
     ]
    },
    {
     "data": {
      "image/png": "[encoded data removed]",
      "text/plain": [
       "<Figure size 640x480 with 1 Axes>"
      ]
     },
     "metadata": {},
     "output_type": "display_data"
    },
    {
     "name": "stdout",
     "output_type": "stream",
     "text": [
      "1\n",
      "[0. 1. 0. 0. 0.]\n"
     ]
    },
    {
     "data": {
      "image/png": "[encoded data removed]",
      "text/plain": [
       "<Figure size 640x480 with 1 Axes>"
      ]
     },
     "metadata": {},
     "output_type": "display_data"
    },
    {
     "name": "stdout",
     "output_type": "stream",
     "text": [
      "3\n",
      "[0. 0. 0. 1. 0.]\n"
     ]
    },
    {
     "data": {
      "image/png": "[encoded data removed]",
      "text/plain": [
       "<Figure size 640x480 with 1 Axes>"
      ]
     },
     "metadata": {},
     "output_type": "display_data"
    },
    {
     "name": "stdout",
     "output_type": "stream",
     "text": [
      "4\n",
      "[0. 0. 0. 0. 1.]\n"
     ]
    },
    {
     "data": {
      "image/png": "[encoded data removed]",
      "text/plain": [
       "<Figure size 640x480 with 1 Axes>"
      ]
     },
     "metadata": {},
     "output_type": "display_data"
    },
    {
     "name": "stdout",
     "output_type": "stream",
     "text": [
      "3\n",
      "[0. 0. 0. 1. 0.]\n"
     ]
    },
    {
     "data": {
      "image/png": "[encoded data removed]",
      "text/plain": [
       "<Figure size 640x480 with 1 Axes>"
      ]
     },
     "metadata": {},
     "output_type": "display_data"
    },
    {
     "name": "stdout",
     "output_type": "stream",
     "text": [
      "2\n",
      "[0. 0. 1. 0. 0.]\n"
     ]
    },
    {
     "data": {
      "image/png": "[encoded data removed]",
      "text/plain": [
       "<Figure size 640x480 with 1 Axes>"
      ]
     },
     "metadata": {},
     "output_type": "display_data"
    },
    {
     "name": "stdout",
     "output_type": "stream",
     "text": [
      "2\n",
      "[0. 0. 1. 0. 0.]\n"
     ]
    },
    {
     "data": {
      "image/png": "[encoded data removed]",
      "text/plain": [
       "<Figure size 640x480 with 1 Axes>"
      ]
     },
     "metadata": {},
     "output_type": "display_data"
    },
    {
     "name": "stdout",
     "output_type": "stream",
     "text": [
      "2\n",
      "[0. 0. 1. 0. 0.]\n"
     ]
    },
    {
     "data": {
      "image/png": "[encoded data removed]",
      "text/plain": [
       "<Figure size 640x480 with 1 Axes>"
      ]
     },
     "metadata": {},
     "output_type": "display_data"
    },
    {
     "name": "stdout",
     "output_type": "stream",
     "text": [
      "1\n",
      "[0. 1. 0. 0. 0.]\n"
     ]
    },
    {
     "data": {
      "image/png": "[encoded data removed]",
      "text/plain": [
       "<Figure size 640x480 with 1 Axes>"
      ]
     },
     "metadata": {},
     "output_type": "display_data"
    },
    {
     "name": "stdout",
     "output_type": "stream",
     "text": [
      "3\n",
      "[0. 0. 0. 1. 0.]\n"
     ]
    }
   ],
   "source": [
    "for i in range(1000, 1010):\n",
    "    plt.imshow(origin_images_shuffled[i])\n",
    "    plt.show()\n",
    "    print(numbers_labels_shuffled[i])\n",
    "    print(number_labels_shuffled[i])\n"
   ]
  },
  {
   "cell_type": "code",
   "execution_count": 9,
   "metadata": {},
   "outputs": [
    {
     "name": "stdout",
     "output_type": "stream",
     "text": [
      "[[1. 0. 0. 0. 0.]\n",
      " [0. 1. 0. 0. 0.]\n",
      " [0. 0. 0. 1. 0.]\n",
      " [0. 0. 0. 0. 1.]\n",
      " [0. 0. 0. 1. 0.]\n",
      " [0. 0. 1. 0. 0.]\n",
      " [0. 0. 1. 0. 0.]\n",
      " [0. 0. 1. 0. 0.]\n",
      " [0. 1. 0. 0. 0.]\n",
      " [0. 0. 0. 1. 0.]]\n"
     ]
    }
   ],
   "source": [
    "print(number_labels_shuffled[1000:1010])"
   ]
  },
  {
   "cell_type": "code",
   "execution_count": null,
   "metadata": {},
   "outputs": [],
   "source": []
  },
  {
   "cell_type": "code",
   "execution_count": 10,
   "metadata": {},
   "outputs": [],
   "source": [
    "# train_dataset = origin_images[:11949]\n",
    "# train_number_labels = number_labels[:11949]\n",
    "# train_target_image = target_images[:11949]\n",
    "# test_dataset = origin_images[11949:]\n",
    "# test_number_labels = number_labels[11949:]\n",
    "# test_target_image = target_images[11949:]"
   ]
  },
  {
   "cell_type": "markdown",
   "metadata": {},
   "source": [
    "# Original 72.xx%"
   ]
  },
  {
   "cell_type": "code",
   "execution_count": 11,
   "metadata": {},
   "outputs": [],
   "source": [
    "# import tensorflow as tf\n",
    "# from tensorflow import keras \n",
    "# import numpy as np\n",
    "# import matplotlib.pyplot as plt\n",
    "# import seaborn as sns\n",
    "# import warnings \n",
    "# from IPython.display import Image\n",
    "\n",
    "# warnings.filterwarnings('ignore')\n",
    "# from keras.layers import Dense, Input, MaxPool2D, Conv2D, Conv2DTranspose, Flatten, Reshape, Activation\n",
    "# from keras.layers import BatchNormalization, Dropout, Activation, concatenate\n",
    "# from keras.models import Model\n",
    "# from keras.layers import GRU, Concatenate, MaxPooling2D\n",
    "# from keras.models import Model\n",
    "# from keras.layers import Multiply\n",
    "# from keras.layers import MultiHeadAttention\n",
    "\n",
    "# # strategy = tf.distribute.MirroredStrategy()\n",
    "\n",
    "# # print('Number of devices: {}'.format(strategy.num_replicas_in_sync))\n",
    "\n",
    "# from tensorflow.keras.layers import DepthwiseConv2D, Conv2D, MaxPooling2D, concatenate\n",
    "\n",
    "# from keras.layers import ZeroPadding2D\n",
    "# from keras.regularizers import l2\n",
    "\n",
    "# l2_regularizer = l2(0.001)\n",
    "\n",
    "# def STMModel():\n",
    "#     # 이미지 입력\n",
    "#     inputs_image = Input(shape=(24, 32, 1))\n",
    "    \n",
    "#     # inputs_image_norm = inputs_image / 255\n",
    "\n",
    "#     x1 = Conv2D(16, kernel_size=(2, 2), padding='same', kernel_regularizer=l2_regularizer)(inputs_image)\n",
    "#     x1 = Activation('relu')(x1)\n",
    "#     # x1 = DepthwiseConv2D(kernel_size=(3, 3))(x1)\n",
    "#     x1 = BatchNormalization()(x1)\n",
    "    \n",
    "#     x2 = Conv2D(16, kernel_size=(4, 4), padding='same', kernel_regularizer=l2_regularizer)(x1)\n",
    "#     x2 = Activation('relu')(x2)\n",
    "#     # x2 = DepthwiseConv2D(kernel_size=(1, 1))(x2)\n",
    "#     x2 = BatchNormalization()(x2)\n",
    "    \n",
    "#     x3 = Conv2D(16, kernel_size=(6, 6), padding='same', kernel_regularizer=l2_regularizer)(x2)\n",
    "#     x3 = Activation('relu')(x3)\n",
    "#     # x3 = DepthwiseConv2D(kernel_size=(1, 1))(x3)\n",
    "#     x3 = BatchNormalization()(x3)\n",
    "\n",
    "#     x4 = Conv2D(32, kernel_size=(3, 3), padding='same', kernel_regularizer=l2_regularizer)(x3)\n",
    "#     x4 = Activation('relu')(x4)\n",
    "#     x4 = DepthwiseConv2D(kernel_size=(1, 1))(x4)\n",
    "#     x4 = BatchNormalization()(x4)\n",
    "\n",
    "#     x5 = Conv2D(64, kernel_size=(1, 1), padding='same', kernel_regularizer=l2_regularizer)(x4)\n",
    "#     x5 = Activation('relu')(x5)\n",
    "#     x5 = DepthwiseConv2D(kernel_size=(1, 1))(x5)\n",
    "#     x5 = BatchNormalization()(x5)\n",
    "\n",
    "#     # x6 = concatenate([x1, x2, x3, x4, x5])\n",
    "\n",
    "#     # 분류를 위한 완전 연결 레이어\n",
    "#     latent = keras.layers.GlobalAveragePooling2D()(x5)\n",
    "#     latent= Dense(128, activation='relu', dtype = 'float32')(latent)\n",
    "#     latent = Dropout(0.4)(latent)\n",
    "#     latent= Dense(64, activation='relu', dtype = 'float32')(latent)\n",
    "#     latent = Dropout(0.4)(latent)\n",
    "#     latent= Dense(32, activation='relu', dtype = 'float32')(latent)\n",
    "#     latent = Dropout(0.4)(latent)\n",
    "#     number_output = Dense(5, activation='softmax', name='number_output', dtype = 'float32')(latent)\n",
    "    \n",
    "#     model2 = Model(inputs_image, number_output)\n",
    "#     model2.compile(optimizer='adam', loss=['categorical_crossentropy'], metrics=['accuracy'])\n",
    "#     return model2\n",
    "\n",
    "\n",
    "# model2 = STMModel()\n",
    "# model2.summary()\n"
   ]
  },
  {
   "cell_type": "markdown",
   "metadata": {},
   "source": [
    "# test 정확도 80%"
   ]
  },
  {
   "cell_type": "code",
   "execution_count": 12,
   "metadata": {},
   "outputs": [
    {
     "name": "stderr",
     "output_type": "stream",
     "text": [
      "2023-12-18 13:16:50.942565: I tensorflow/core/common_runtime/gpu/gpu_device.cc:1639] Created device /job:localhost/replica:0/task:0/device:GPU:0 with 22292 MB memory:  -> device: 0, name: NVIDIA GeForce RTX 3090, pci bus id: 0000:1d:00.0, compute capability: 8.6\n",
      "2023-12-18 13:16:50.944240: I tensorflow/core/common_runtime/gpu/gpu_device.cc:1639] Created device /job:localhost/replica:0/task:0/device:GPU:1 with 22292 MB memory:  -> device: 1, name: NVIDIA GeForce RTX 3090, pci bus id: 0000:1f:00.0, compute capability: 8.6\n",
      "2023-12-18 13:16:50.945721: I tensorflow/core/common_runtime/gpu/gpu_device.cc:1639] Created device /job:localhost/replica:0/task:0/device:GPU:2 with 22292 MB memory:  -> device: 2, name: NVIDIA GeForce RTX 3090, pci bus id: 0000:20:00.0, compute capability: 8.6\n",
      "2023-12-18 13:16:50.947860: I tensorflow/core/common_runtime/gpu/gpu_device.cc:1639] Created device /job:localhost/replica:0/task:0/device:GPU:3 with 22292 MB memory:  -> device: 3, name: NVIDIA GeForce RTX 3090, pci bus id: 0000:21:00.0, compute capability: 8.6\n",
      "2023-12-18 13:16:50.949323: I tensorflow/core/common_runtime/gpu/gpu_device.cc:1639] Created device /job:localhost/replica:0/task:0/device:GPU:4 with 22292 MB memory:  -> device: 4, name: NVIDIA GeForce RTX 3090, pci bus id: 0000:22:00.0, compute capability: 8.6\n",
      "2023-12-18 13:16:50.950722: I tensorflow/core/common_runtime/gpu/gpu_device.cc:1639] Created device /job:localhost/replica:0/task:0/device:GPU:5 with 22292 MB memory:  -> device: 5, name: NVIDIA GeForce RTX 3090, pci bus id: 0000:23:00.0, compute capability: 8.6\n",
      "2023-12-18 13:16:50.952170: I tensorflow/core/common_runtime/gpu/gpu_device.cc:1639] Created device /job:localhost/replica:0/task:0/device:GPU:6 with 22292 MB memory:  -> device: 6, name: NVIDIA GeForce RTX 3090, pci bus id: 0000:24:00.0, compute capability: 8.6\n"
     ]
    },
    {
     "name": "stdout",
     "output_type": "stream",
     "text": [
      "Model: \"model\"\n",
      "_________________________________________________________________\n",
      " Layer (type)                Output Shape              Param #   \n",
      "=================================================================\n",
      " input_1 (InputLayer)        [(None, 24, 32, 1)]       0         \n",
      "                                                                 \n",
      " conv2d (Conv2D)             (None, 24, 32, 16)        80        \n",
      "                                                                 \n",
      " activation (Activation)     (None, 24, 32, 16)        0         \n",
      "                                                                 \n",
      " depthwise_conv2d (Depthwis  (None, 22, 30, 16)        160       \n",
      " eConv2D)                                                        \n",
      "                                                                 \n",
      " batch_normalization (Batch  (None, 22, 30, 16)        64        \n",
      " Normalization)                                                  \n",
      "                                                                 \n",
      " conv2d_1 (Conv2D)           (None, 22, 30, 16)        4112      \n",
      "                                                                 \n",
      " activation_1 (Activation)   (None, 22, 30, 16)        0         \n",
      "                                                                 \n",
      " batch_normalization_1 (Bat  (None, 22, 30, 16)        64        \n",
      " chNormalization)                                                \n",
      "                                                                 \n",
      " conv2d_2 (Conv2D)           (None, 22, 30, 16)        9232      \n",
      "                                                                 \n",
      " activation_2 (Activation)   (None, 22, 30, 16)        0         \n",
      "                                                                 \n",
      " depthwise_conv2d_1 (Depthw  (None, 22, 30, 16)        32        \n",
      " iseConv2D)                                                      \n",
      "                                                                 \n",
      " batch_normalization_2 (Bat  (None, 22, 30, 16)        64        \n",
      " chNormalization)                                                \n",
      "                                                                 \n",
      " conv2d_3 (Conv2D)           (None, 22, 30, 32)        4640      \n",
      "                                                                 \n",
      " activation_3 (Activation)   (None, 22, 30, 32)        0         \n",
      "                                                                 \n",
      " depthwise_conv2d_2 (Depthw  (None, 22, 30, 32)        64        \n",
      " iseConv2D)                                                      \n",
      "                                                                 \n",
      " batch_normalization_3 (Bat  (None, 22, 30, 32)        128       \n",
      " chNormalization)                                                \n",
      "                                                                 \n",
      " conv2d_4 (Conv2D)           (None, 22, 30, 64)        2112      \n",
      "                                                                 \n",
      " activation_4 (Activation)   (None, 22, 30, 64)        0         \n",
      "                                                                 \n",
      " depthwise_conv2d_3 (Depthw  (None, 22, 30, 64)        128       \n",
      " iseConv2D)                                                      \n",
      "                                                                 \n",
      " batch_normalization_4 (Bat  (None, 22, 30, 64)        256       \n",
      " chNormalization)                                                \n",
      "                                                                 \n",
      " global_average_pooling2d (  (None, 64)                0         \n",
      " GlobalAveragePooling2D)                                         \n",
      "                                                                 \n",
      " dense (Dense)               (None, 128)               8320      \n",
      "                                                                 \n",
      " dropout (Dropout)           (None, 128)               0         \n",
      "                                                                 \n",
      " dense_1 (Dense)             (None, 64)                8256      \n",
      "                                                                 \n",
      " dropout_1 (Dropout)         (None, 64)                0         \n",
      "                                                                 \n",
      " dense_2 (Dense)             (None, 32)                2080      \n",
      "                                                                 \n",
      " dropout_2 (Dropout)         (None, 32)                0         \n",
      "                                                                 \n",
      " number_output (Dense)       (None, 5)                 165       \n",
      "                                                                 \n",
      "=================================================================\n",
      "Total params: 39957 (156.08 KB)\n",
      "Trainable params: 39669 (154.96 KB)\n",
      "Non-trainable params: 288 (1.12 KB)\n",
      "_________________________________________________________________\n"
     ]
    }
   ],
   "source": [
    "import tensorflow as tf\n",
    "from tensorflow import keras \n",
    "import numpy as np\n",
    "import matplotlib.pyplot as plt\n",
    "import seaborn as sns\n",
    "import warnings \n",
    "from IPython.display import Image\n",
    "\n",
    "warnings.filterwarnings('ignore')\n",
    "from keras.layers import Dense, Input, MaxPool2D, Conv2D, Conv2DTranspose, Flatten, Reshape, Activation\n",
    "from keras.layers import BatchNormalization, Dropout, Activation, concatenate\n",
    "from keras.models import Model\n",
    "from keras.layers import GRU, Concatenate, MaxPooling2D\n",
    "from keras.models import Model\n",
    "from keras.layers import Multiply\n",
    "from keras.layers import MultiHeadAttention\n",
    "\n",
    "# strategy = tf.distribute.MirroredStrategy()\n",
    "\n",
    "# print('Number of devices: {}'.format(strategy.num_replicas_in_sync))\n",
    "\n",
    "from tensorflow.keras.layers import DepthwiseConv2D, Conv2D, MaxPooling2D, concatenate\n",
    "\n",
    "from keras.layers import ZeroPadding2D\n",
    "from keras.regularizers import l2\n",
    "\n",
    "l2_regularizer = l2(0.001)\n",
    "\n",
    "def STMModel():\n",
    "    # 이미지 입력\n",
    "    inputs_image = Input(shape=(24, 32, 1))\n",
    "    \n",
    "    # inputs_image_norm = inputs_image / 255\n",
    "\n",
    "    x1 = Conv2D(16, kernel_size=(2, 2), padding='same', kernel_regularizer=l2_regularizer)(inputs_image)\n",
    "    x1 = Activation('relu')(x1)\n",
    "    x1 = DepthwiseConv2D(kernel_size=(3, 3))(x1)\n",
    "    x1 = BatchNormalization()(x1)\n",
    "    \n",
    "    x2 = Conv2D(16, kernel_size=(4, 4), padding='same', kernel_regularizer=l2_regularizer)(x1)\n",
    "    x2 = Activation('relu')(x2)\n",
    "    # x2 = DepthwiseConv2D(kernel_size=(1, 1))(x2)\n",
    "    x2 = BatchNormalization()(x2)\n",
    "    \n",
    "    x3 = Conv2D(16, kernel_size=(6, 6), padding='same', kernel_regularizer=l2_regularizer)(x2)\n",
    "    x3 = Activation('relu')(x3)\n",
    "    x3 = DepthwiseConv2D(kernel_size=(1, 1))(x3)\n",
    "    x3 = BatchNormalization()(x3)\n",
    "\n",
    "    x4 = Conv2D(32, kernel_size=(3, 3), padding='same', kernel_regularizer=l2_regularizer)(x3)\n",
    "    x4 = Activation('relu')(x4)\n",
    "    x4 = DepthwiseConv2D(kernel_size=(1, 1))(x4)\n",
    "    x4 = BatchNormalization()(x4)\n",
    "\n",
    "    x5 = Conv2D(64, kernel_size=(1, 1), padding='same', kernel_regularizer=l2_regularizer)(x4)\n",
    "    x5 = Activation('relu')(x5)\n",
    "    x5 = DepthwiseConv2D(kernel_size=(1, 1))(x5)\n",
    "    x5 = BatchNormalization()(x5)\n",
    "\n",
    "    # x6 = concatenate([x1, x2, x3, x4, x5])\n",
    "\n",
    "    # 분류를 위한 완전 연결 레이어\n",
    "    latent = keras.layers.GlobalAveragePooling2D()(x5)\n",
    "    latent= Dense(128, activation='relu', dtype = 'float32')(latent)\n",
    "    latent = Dropout(0.4)(latent)\n",
    "    latent= Dense(64, activation='relu', dtype = 'float32')(latent)\n",
    "    latent = Dropout(0.4)(latent)\n",
    "    latent= Dense(32, activation='relu', dtype = 'float32')(latent)\n",
    "    latent = Dropout(0.4)(latent)\n",
    "    \n",
    "    number_output = Dense(5, activation='softmax', name='number_output', dtype = 'float32')(latent)\n",
    "    \n",
    "    model2 = Model(inputs_image, number_output)\n",
    "    model2.compile(optimizer='adam', loss=['categorical_crossentropy'], metrics=['accuracy'])\n",
    "    return model2\n",
    "\n",
    "\n",
    "model2 = STMModel()\n",
    "model2.summary()\n"
   ]
  },
  {
   "cell_type": "code",
   "execution_count": 13,
   "metadata": {},
   "outputs": [],
   "source": [
    "# from tensorflow.keras.layers import Input, Conv2D, Activation, BatchNormalization, GlobalAveragePooling2D, Dense, Dropout, DepthwiseConv2D\n",
    "# from tensorflow.keras.models import Model\n",
    "# from tensorflow.keras.regularizers import l2\n",
    "\n",
    "# # strategy = tf.distribute.MirroredStrategy()\n",
    "# # print('Number of devices: {}'.format(strategy.num_replicas_in_sync))\n",
    "\n",
    "# def STMModel():\n",
    "#     l2_regularizer = l2(0.002)\n",
    "\n",
    "#     inputs_image = Input(shape=(24, 32, 1))\n",
    "\n",
    "#     # Depthwise Separable Convolution 적용\n",
    "#     x = DepthwiseConv2D(kernel_size=(3, 3), padding='same', depthwise_regularizer=l2_regularizer)(inputs_image)\n",
    "#     x = BatchNormalization()(x)\n",
    "#     x = Activation('relu')(x)\n",
    "\n",
    "#     # 필터 수 감소\n",
    "#     x = Conv2D(16, kernel_size=(3, 3), padding='same', kernel_regularizer=l2_regularizer)(x)\n",
    "#     x = BatchNormalization()(x)\n",
    "#     x = Activation('relu')(x)\n",
    "\n",
    "#     # 글로벌 평균 풀링 적용\n",
    "#     x = GlobalAveragePooling2D()(x)\n",
    "\n",
    "#     # 완전 연결 레이어 및 드롭아웃\n",
    "#     x = Dense(32, activation='relu', kernel_regularizer=l2_regularizer)(x)\n",
    "#     x = Dropout(0.3)(x)\n",
    "\n",
    "#     number_output = Dense(5, activation='softmax', name='number_output')(x)\n",
    "\n",
    "#     model = Model(inputs_image, number_output)\n",
    "#     model.compile(optimizer='adam', loss='categorical_crossentropy', metrics=['accuracy'])\n",
    "\n",
    "#     return model\n",
    "\n",
    "# model2 = STMModel()\n",
    "# model2.summary()\n"
   ]
  },
  {
   "cell_type": "code",
   "execution_count": 14,
   "metadata": {},
   "outputs": [],
   "source": [
    "# model2.compile(optimizer='adam', loss=['categorical_crossentropy', 'mse'],  metrics=['accuracy'])"
   ]
  },
  {
   "cell_type": "code",
   "execution_count": 15,
   "metadata": {},
   "outputs": [],
   "source": [
    "# import os\n",
    "# from keras.utils import plot_model\n",
    "\n",
    "# # 모델을 생성\n",
    "# model2 = DetectionModel()\n",
    "\n",
    "# # 모델을 이미지로 그리고 저장\n",
    "# plot_model(model2, to_file='./detection_model.png', show_shapes=True, show_layer_names=True)\n",
    "\n",
    "# # 이미지를 표시\n",
    "# # Image(filename='./detection_model.png')\n"
   ]
  },
  {
   "cell_type": "code",
   "execution_count": 16,
   "metadata": {},
   "outputs": [],
   "source": [
    "# import tensorflow as tf\n",
    "\n",
    "# def smooth_l1_loss(y_true, y_pred, delta=1.0):\n",
    "#     abs_diff = tf.abs(y_true - y_pred)\n",
    "#     loss = tf.where(tf.less(abs_diff, delta), 0.5 * tf.square(abs_diff), delta * (abs_diff - 0.5 * delta))\n",
    "#     return tf.reduce_mean(loss)"
   ]
  },
  {
   "cell_type": "code",
   "execution_count": 17,
   "metadata": {},
   "outputs": [],
   "source": [
    "# import tensorflow as tf\n",
    "\n",
    "# def iou(y_true, y_pred):\n",
    "#     \"\"\"\n",
    "#     TensorFlow를 사용하여 IoU를 계산하는 함수.\n",
    "#     y_true: 실제 바운딩 박스 좌표, 형태는 [batch, num_boxes, 4] (여기서 4는 xmin, ymin, xmax, ymax)\n",
    "#     y_pred: 예측된 바운딩 박스 좌표, 형태는 [batch, num_boxes, 4]\n",
    "#     \"\"\"\n",
    "#     # 좌표를 분리\n",
    "#     y_true = tf.cast(y_true, tf.float32)\n",
    "#     y_pred = tf.cast(y_pred, tf.float32)\n",
    "#     true_xmin, true_ymin, true_xmax, true_ymax = tf.split(y_true, 4, axis=-1)\n",
    "#     pred_xmin, pred_ymin, pred_xmax, pred_ymax = tf.split(y_pred, 4, axis=-1)\n",
    "\n",
    "#     # 교차 영역의 좌표 계산\n",
    "#     intersect_xmin = tf.maximum(true_xmin, pred_xmin)\n",
    "#     intersect_ymin = tf.maximum(true_ymin, pred_ymin)\n",
    "#     intersect_xmax = tf.minimum(true_xmax, pred_xmax)\n",
    "#     intersect_ymax = tf.minimum(true_ymax, pred_ymax)\n",
    "\n",
    "#     # 교차 영역의 넓이와 높이\n",
    "#     intersect_width = tf.maximum(0., intersect_xmax - intersect_xmin)\n",
    "#     intersect_height = tf.maximum(0., intersect_ymax - intersect_ymin)\n",
    "\n",
    "#     # 교차 영역의 면적\n",
    "#     intersect_area = intersect_width * intersect_height\n",
    "\n",
    "#     # 각 바운딩 박스의 면적\n",
    "#     true_area = (true_xmax - true_xmin) * (true_ymax - true_ymin)\n",
    "#     pred_area = (pred_xmax - pred_xmin) * (pred_ymax - pred_ymin)\n",
    "\n",
    "#     # 합집합 영역의 면적\n",
    "#     union_area = true_area + pred_area - intersect_area\n",
    "\n",
    "#     # IoU 계산\n",
    "#     iou = intersect_area / tf.maximum(union_area, tf.keras.backend.epsilon())\n",
    "\n",
    "#     return iou"
   ]
  },
  {
   "cell_type": "code",
   "execution_count": 18,
   "metadata": {},
   "outputs": [],
   "source": [
    "# from tensorflow.keras.metrics import Precision, Recall\n",
    "\n",
    "# learning_rate = 0.0001\n",
    "# N_TRAIN = 13276\n",
    "# N_BATCH = 32\n",
    "# N_EPOCHS = 100\n",
    "\n",
    "# lr_schedule = keras.optimizers.schedules.ExponentialDecay(initial_learning_rate=learning_rate,\n",
    "#                                                           decay_steps = N_TRAIN / N_BATCH * 10,\n",
    "#                                                           decay_rate = 0.5,\n",
    "#                                                           staircase = True)\n",
    "\n",
    "# model.compile(\n",
    "#     keras.optimizers.Adam(lr_schedule), \n",
    "#     loss = 'categorical_crossentropy',\n",
    "#     metrics=['accuracy', Precision(), Recall()])"
   ]
  },
  {
   "cell_type": "code",
   "execution_count": 19,
   "metadata": {},
   "outputs": [],
   "source": [
    "# 13276 - 1327\n",
    "# origin_images\n",
    "# number_labels\n",
    "\n",
    "\n",
    "# train_dataset = origin_images[:11949]\n",
    "# train_number_labels = number_labels[:11949]\n",
    "# train_target_image = target_images[:11949]\n",
    "# test_dataset = origin_images[11949:]\n",
    "# test_number_labels = number_labels[11949:]\n",
    "# test_target_image = target_images[11949:]\n",
    "\n",
    "# for i in range(10):\n",
    "#     plt.imshow(origin_images[i], cmap='gray')\n",
    "#     plt.show()\n",
    "#     print(number_labels[i])"
   ]
  },
  {
   "cell_type": "code",
   "execution_count": 20,
   "metadata": {},
   "outputs": [
    {
     "data": {
      "text/plain": [
       "1.0"
      ]
     },
     "execution_count": 20,
     "metadata": {},
     "output_type": "execute_result"
    }
   ],
   "source": [
    "origin_images[0].max()"
   ]
  },
  {
   "cell_type": "code",
   "execution_count": 21,
   "metadata": {},
   "outputs": [
    {
     "name": "stdout",
     "output_type": "stream",
     "text": [
      "Epoch 1/45\n"
     ]
    },
    {
     "name": "stderr",
     "output_type": "stream",
     "text": [
      "2023-12-18 13:16:54.672964: I tensorflow/compiler/xla/stream_executor/cuda/cuda_dnn.cc:432] Loaded cuDNN version 8905\n",
      "2023-12-18 13:16:55.485241: I tensorflow/compiler/xla/stream_executor/cuda/cuda_blas.cc:606] TensorFloat-32 will be used for the matrix multiplication. This will only be logged once.\n",
      "2023-12-18 13:16:55.489098: I tensorflow/compiler/xla/service/service.cc:168] XLA service 0x5a169070 initialized for platform CUDA (this does not guarantee that XLA will be used). Devices:\n",
      "2023-12-18 13:16:55.489150: I tensorflow/compiler/xla/service/service.cc:176]   StreamExecutor device (0): NVIDIA GeForce RTX 3090, Compute Capability 8.6\n",
      "2023-12-18 13:16:55.489164: I tensorflow/compiler/xla/service/service.cc:176]   StreamExecutor device (1): NVIDIA GeForce RTX 3090, Compute Capability 8.6\n",
      "2023-12-18 13:16:55.489175: I tensorflow/compiler/xla/service/service.cc:176]   StreamExecutor device (2): NVIDIA GeForce RTX 3090, Compute Capability 8.6\n",
      "2023-12-18 13:16:55.489186: I tensorflow/compiler/xla/service/service.cc:176]   StreamExecutor device (3): NVIDIA GeForce RTX 3090, Compute Capability 8.6\n",
      "2023-12-18 13:16:55.489196: I tensorflow/compiler/xla/service/service.cc:176]   StreamExecutor device (4): NVIDIA GeForce RTX 3090, Compute Capability 8.6\n",
      "2023-12-18 13:16:55.489207: I tensorflow/compiler/xla/service/service.cc:176]   StreamExecutor device (5): NVIDIA GeForce RTX 3090, Compute Capability 8.6\n",
      "2023-12-18 13:16:55.489218: I tensorflow/compiler/xla/service/service.cc:176]   StreamExecutor device (6): NVIDIA GeForce RTX 3090, Compute Capability 8.6\n",
      "2023-12-18 13:16:55.500760: I tensorflow/compiler/mlir/tensorflow/utils/dump_mlir_util.cc:255] disabling MLIR crash reproducer, set env var `MLIR_CRASH_REPRODUCER_DIRECTORY` to enable.\n",
      "2023-12-18 13:16:55.645655: I ./tensorflow/compiler/jit/device_compiler.h:186] Compiled cluster using XLA!  This line is logged at most once for the lifetime of the process.\n"
     ]
    },
    {
     "name": "stdout",
     "output_type": "stream",
     "text": [
      "830/830 [==============================] - 18s 14ms/step - loss: 0.9513 - accuracy: 0.6376\n",
      "Epoch 2/45\n",
      "830/830 [==============================] - 11s 13ms/step - loss: 0.6337 - accuracy: 0.7636\n",
      "Epoch 3/45\n",
      "830/830 [==============================] - 11s 13ms/step - loss: 0.5477 - accuracy: 0.8041\n",
      "Epoch 4/45\n",
      "830/830 [==============================] - 11s 13ms/step - loss: 0.4897 - accuracy: 0.8296\n",
      "Epoch 5/45\n",
      "830/830 [==============================] - 11s 13ms/step - loss: 0.4780 - accuracy: 0.8378\n",
      "Epoch 6/45\n",
      "830/830 [==============================] - 11s 13ms/step - loss: 0.4447 - accuracy: 0.8519\n",
      "Epoch 7/45\n",
      "830/830 [==============================] - 11s 13ms/step - loss: 0.4303 - accuracy: 0.8562\n",
      "Epoch 8/45\n",
      "830/830 [==============================] - 11s 13ms/step - loss: 0.4065 - accuracy: 0.8692\n",
      "Epoch 9/45\n",
      "830/830 [==============================] - 11s 13ms/step - loss: 0.3963 - accuracy: 0.8743\n",
      "Epoch 10/45\n",
      "830/830 [==============================] - 11s 13ms/step - loss: 0.3843 - accuracy: 0.8801\n",
      "Epoch 11/45\n",
      "830/830 [==============================] - 11s 13ms/step - loss: 0.3754 - accuracy: 0.8811\n",
      "Epoch 12/45\n",
      "830/830 [==============================] - 11s 13ms/step - loss: 0.3821 - accuracy: 0.8837\n",
      "Epoch 13/45\n",
      "830/830 [==============================] - 11s 13ms/step - loss: 0.3694 - accuracy: 0.8884\n",
      "Epoch 14/45\n",
      "830/830 [==============================] - 11s 13ms/step - loss: 0.3524 - accuracy: 0.8995\n",
      "Epoch 15/45\n",
      "830/830 [==============================] - 11s 13ms/step - loss: 0.3606 - accuracy: 0.8963\n",
      "Epoch 16/45\n",
      "830/830 [==============================] - 11s 13ms/step - loss: 0.3385 - accuracy: 0.9042\n",
      "Epoch 17/45\n",
      "830/830 [==============================] - 11s 13ms/step - loss: 0.3442 - accuracy: 0.8998\n",
      "Epoch 18/45\n",
      "830/830 [==============================] - 11s 13ms/step - loss: 0.3364 - accuracy: 0.9039\n",
      "Epoch 19/45\n",
      "830/830 [==============================] - 11s 13ms/step - loss: 0.3378 - accuracy: 0.9021\n",
      "Epoch 20/45\n",
      "830/830 [==============================] - 11s 14ms/step - loss: 0.3457 - accuracy: 0.9040\n",
      "Epoch 21/45\n",
      "830/830 [==============================] - 11s 13ms/step - loss: 0.3255 - accuracy: 0.9116\n",
      "Epoch 22/45\n",
      "830/830 [==============================] - 11s 13ms/step - loss: 0.3182 - accuracy: 0.9122\n",
      "Epoch 23/45\n",
      "830/830 [==============================] - 11s 13ms/step - loss: 0.3162 - accuracy: 0.9122\n",
      "Epoch 24/45\n",
      "830/830 [==============================] - 11s 13ms/step - loss: 0.3143 - accuracy: 0.9121\n",
      "Epoch 25/45\n",
      "830/830 [==============================] - 11s 13ms/step - loss: 0.3158 - accuracy: 0.9110\n",
      "Epoch 26/45\n",
      "830/830 [==============================] - 11s 13ms/step - loss: 0.3093 - accuracy: 0.9164\n",
      "Epoch 27/45\n",
      "830/830 [==============================] - 11s 13ms/step - loss: 0.3135 - accuracy: 0.9150\n",
      "Epoch 28/45\n",
      "830/830 [==============================] - 11s 13ms/step - loss: 0.3127 - accuracy: 0.9142\n",
      "Epoch 29/45\n",
      "830/830 [==============================] - 11s 13ms/step - loss: 0.3014 - accuracy: 0.9173\n",
      "Epoch 30/45\n",
      "830/830 [==============================] - 11s 13ms/step - loss: 0.2994 - accuracy: 0.9185\n",
      "Epoch 31/45\n",
      "830/830 [==============================] - 11s 13ms/step - loss: 0.3145 - accuracy: 0.9160\n",
      "Epoch 32/45\n",
      "830/830 [==============================] - 11s 13ms/step - loss: 0.3077 - accuracy: 0.9170\n",
      "Epoch 33/45\n",
      "830/830 [==============================] - 11s 13ms/step - loss: 0.2949 - accuracy: 0.9236\n",
      "Epoch 34/45\n",
      "830/830 [==============================] - 11s 13ms/step - loss: 0.2804 - accuracy: 0.9254\n",
      "Epoch 35/45\n",
      "830/830 [==============================] - 11s 13ms/step - loss: 0.2912 - accuracy: 0.9250\n",
      "Epoch 36/45\n",
      "830/830 [==============================] - 11s 14ms/step - loss: 0.2883 - accuracy: 0.9237\n",
      "Epoch 37/45\n",
      "830/830 [==============================] - 11s 13ms/step - loss: 0.2977 - accuracy: 0.9208\n",
      "Epoch 38/45\n",
      "830/830 [==============================] - 11s 13ms/step - loss: 0.3004 - accuracy: 0.9202\n",
      "Epoch 39/45\n",
      "830/830 [==============================] - 11s 13ms/step - loss: 0.2883 - accuracy: 0.9203\n",
      "Epoch 40/45\n",
      "830/830 [==============================] - 11s 13ms/step - loss: 0.2835 - accuracy: 0.9282\n",
      "Epoch 41/45\n",
      "830/830 [==============================] - 11s 14ms/step - loss: 0.2960 - accuracy: 0.9196\n",
      "Epoch 42/45\n",
      "830/830 [==============================] - 11s 13ms/step - loss: 0.2904 - accuracy: 0.9236\n",
      "Epoch 43/45\n",
      "830/830 [==============================] - 11s 14ms/step - loss: 0.2744 - accuracy: 0.9272\n",
      "Epoch 44/45\n",
      "830/830 [==============================] - 11s 13ms/step - loss: 0.2933 - accuracy: 0.9245\n",
      "Epoch 45/45\n",
      "830/830 [==============================] - 11s 13ms/step - loss: 0.2769 - accuracy: 0.9279\n"
     ]
    }
   ],
   "source": [
    "N_BATCH = 16 \n",
    "hist = model2.fit(\n",
    "    origin_images_shuffled, number_labels_shuffled,\n",
    "    # validation_data=(test_dataset, test_number_labels),\n",
    "    epochs=45,\n",
    "    batch_size= N_BATCH,\n",
    "    # validation_data=\n",
    "    verbose=1,  # 사용자 정의 콜백 추가\n",
    ")\n",
    "\n",
    "# train_dataset = origin_images[:11949]\n",
    "# train_number_labels = number_labels[:11949]\n",
    "# train_target_image = target_images[:11949]\n",
    "# test_dataset = origin_images[11949:]\n",
    "# test_number_labels = number_labels[11949:]\n",
    "# test_target_image = target_images[11949:]"
   ]
  },
  {
   "cell_type": "code",
   "execution_count": 22,
   "metadata": {},
   "outputs": [
    {
     "name": "stdout",
     "output_type": "stream",
     "text": [
      "(395, 24, 32)\n",
      "1/1 [==============================] - 0s 215ms/step\n"
     ]
    },
    {
     "data": {
      "image/png": "[encoded data removed]",
      "text/plain": [
       "<Figure size 640x480 with 1 Axes>"
      ]
     },
     "metadata": {},
     "output_type": "display_data"
    },
    {
     "name": "stdout",
     "output_type": "stream",
     "text": [
      "4\n",
      "0\n"
     ]
    }
   ],
   "source": [
    "import numpy as np\n",
    "from sklearn.metrics import accuracy_score\n",
    "\n",
    "# Assuming model2 is your pre-trained model and is already loaded\n",
    "\n",
    "# Your test data\n",
    "test_1 = np.load('npz/test/test_origin.npz', allow_pickle=True)\n",
    "test_2 = np.load('npz/test/test_horizon.npz', allow_pickle=True)\n",
    "test_3 = np.load('npz/test/test_vertical.npz', allow_pickle=True)\n",
    "test_4 = np.load('npz/test/test_test.npz', allow_pickle=True)\n",
    "\n",
    "# Extracting images and labels\n",
    "origin_images1, number_labels1 = test_1['images'], test_1['numbers']\n",
    "origin_images2, number_labels2 = test_2['images'], test_2['numbers']\n",
    "origin_images3, number_labels3 = test_3['images'], test_3['numbers']\n",
    "origin_images4, number_labels4 = test_4['images'], test_4['numbers']\n",
    "\n",
    "print(origin_images1.shape)\n",
    "\n",
    "# # Combining datasets\n",
    "test_images = np.concatenate([origin_images1, origin_images2, origin_images3, origin_images4], axis=0)\n",
    "test_labels = np.concatenate([number_labels1, number_labels2, number_labels3, number_labels4], axis=0)\n",
    "\n",
    "test_images = test_images / test_images.max()\n",
    "# test_labels = keras.utils.to_categorical(number_labels1, num_classes=5)\n",
    "\n",
    "# Normalize or preprocess your test_images here if necessary\n",
    "\n",
    "# Predicting labels with the model\n",
    "predicted_labels = model2.predict(test_images[400:401])\n",
    "plt.imshow(test_images[100])\n",
    "plt.show()\n",
    "print(test_labels[100])\n",
    "print(predicted_labels.argmax())\n",
    "# print(predicted_labels[0])"
   ]
  },
  {
   "cell_type": "code",
   "execution_count": 23,
   "metadata": {},
   "outputs": [
    {
     "name": "stdout",
     "output_type": "stream",
     "text": [
      "50/50 [==============================] - 0s 3ms/step\n",
      "Test Accuracy: 80.25%\n"
     ]
    }
   ],
   "source": [
    "predicted_labels = model2.predict(test_images)\n",
    "\n",
    "predicted_labels = np.argmax(predicted_labels, axis=1)\n",
    "# Calculate accuracy\n",
    "accuracy = accuracy_score(test_labels, predicted_labels)\n",
    "print(f\"Test Accuracy: {accuracy * 100:.2f}%\")\n"
   ]
  },
  {
   "cell_type": "code",
   "execution_count": 24,
   "metadata": {},
   "outputs": [],
   "source": [
    "# plt.imshow(test_dataset[0])\n",
    "# for i in range(20):\n",
    "#     plt.imshow(test_dataset[i], cmap='gray')\n",
    "#     plt.show()\n",
    "#     res = model.predict(test_dataset[i].reshape(1, 24, 32, 1))\n",
    "#     print(res[0].argmax())"
   ]
  },
  {
   "cell_type": "code",
   "execution_count": 25,
   "metadata": {},
   "outputs": [],
   "source": [
    "# print(test_dataset[0].shape)\n",
    "# print(test_dataset[0].shape)\n",
    "# print(test_dataset[0].reshape(1, 24, 32, 1).shape)\n",
    "# plt.imshow(test_dataset[0])\n",
    "# for i in range(20):\n",
    "#     plt.imshow(test_dataset[i], cmap='gray')\n",
    "#     plt.show()\n",
    "#     res = model2.predict(test_dataset[i].reshape(1, 24, 32, 1))\n",
    "#     print(res[0].argmax())\n"
   ]
  },
  {
   "cell_type": "code",
   "execution_count": 26,
   "metadata": {},
   "outputs": [
    {
     "ename": "SyntaxError",
     "evalue": "invalid syntax (1920608814.py, line 1)",
     "output_type": "error",
     "traceback": [
      "\u001b[0;36m  Cell \u001b[0;32mIn[26], line 1\u001b[0;36m\u001b[0m\n\u001b[0;31m    dsd qq !!\u001b[0m\n\u001b[0m        ^\u001b[0m\n\u001b[0;31mSyntaxError\u001b[0m\u001b[0;31m:\u001b[0m invalid syntax\n"
     ]
    }
   ],
   "source": [
    "dsd qq !!"
   ]
  },
  {
   "cell_type": "code",
   "execution_count": 27,
   "metadata": {},
   "outputs": [],
   "source": [
    "model2.save('./v2_4(80).h5')"
   ]
  },
  {
   "cell_type": "code",
   "execution_count": null,
   "metadata": {},
   "outputs": [
    {
     "name": "stdout",
     "output_type": "stream",
     "text": [
      "(13276, 24, 32, 1) (13276, 5)\n"
     ]
    }
   ],
   "source": [
    "print(origin_images.shape, number_labels.shape)"
   ]
  },
  {
   "cell_type": "code",
   "execution_count": null,
   "metadata": {},
   "outputs": [],
   "source": [
    "import tensorflow as tf\n",
    "from tensorflow_model_optimization.sparsity import keras as sparsity\n",
    "from tensorflow_model_optimization.sparsity.keras import UpdatePruningStep\n",
    "\n",
    "# train_dataset, train_number_labels,\n",
    "\n",
    "# 초기 모델 로드\n",
    "model = tf.keras.models.load_model('./v1_13.h5')\n",
    "\n",
    "# 프루닝 설정\n",
    "epochs = 100\n",
    "batch_size = 128\n",
    "num_train_samples = origin_images.shape[0]\n",
    "end_step = np.ceil(num_train_samples / batch_size).astype(np.int32) * epochs\n",
    "pruning_params = {\n",
    "    'pruning_schedule': sparsity.PolynomialDecay(initial_sparsity=0.50,\n",
    "                                                 final_sparsity=0.80,\n",
    "                                                 begin_step=0,\n",
    "                                                 end_step=end_step)\n",
    "}\n",
    "\n",
    "# 모델에 프루닝 래퍼 적용\n",
    "model_for_pruning = sparsity.prune_low_magnitude(model, **pruning_params)\n",
    "\n",
    "# 프루닝 모델 컴파일 및 훈련\n",
    "model_for_pruning.compile(optimizer='adam',\n",
    "                          loss=tf.keras.losses.categorical_crossentropy,\n",
    "                          metrics=['accuracy'])\n",
    "\n",
    "callbacks = [\n",
    "    UpdatePruningStep()\n",
    "]\n",
    "\n",
    "model_for_pruning.fit(origin_images, number_labels, epochs=epochs, callbacks=callbacks)\n",
    "\n",
    "# 프루닝 제거 및 최종 모델 저장\n",
    "final_model = sparsity.strip_pruning(model_for_pruning)\n",
    "final_model.save('pruned_model.h5')\n"
   ]
  },
  {
   "cell_type": "code",
   "execution_count": null,
   "metadata": {},
   "outputs": [
    {
     "name": "stdout",
     "output_type": "stream",
     "text": [
      "Model: \"model\"\n",
      "_________________________________________________________________\n",
      " Layer (type)                Output Shape              Param #   \n",
      "=================================================================\n",
      " input_1 (InputLayer)        [(None, 24, 32, 1)]       0         \n",
      "                                                                 \n",
      " conv2d (Conv2D)             (None, 24, 32, 16)        160       \n",
      "                                                                 \n",
      " conv2d_1 (Conv2D)           (None, 24, 32, 16)        2320      \n",
      "                                                                 \n",
      " conv2d_2 (Conv2D)           (None, 24, 32, 16)        2320      \n",
      "                                                                 \n",
      " global_average_pooling2d (  (None, 16)                0         \n",
      " GlobalAveragePooling2D)                                         \n",
      "                                                                 \n",
      " dense (Dense)               (None, 128)               2176      \n",
      "                                                                 \n",
      " dropout (Dropout)           (None, 128)               0         \n",
      "                                                                 \n",
      " dense_1 (Dense)             (None, 64)                8256      \n",
      "                                                                 \n",
      " dropout_1 (Dropout)         (None, 64)                0         \n",
      "                                                                 \n",
      " dense_2 (Dense)             (None, 32)                2080      \n",
      "                                                                 \n",
      " dropout_2 (Dropout)         (None, 32)                0         \n",
      "                                                                 \n",
      " number_output (Dense)       (None, 5)                 165       \n",
      "                                                                 \n",
      "=================================================================\n",
      "Total params: 17477 (68.27 KB)\n",
      "Trainable params: 17477 (68.27 KB)\n",
      "Non-trainable params: 0 (0.00 Byte)\n",
      "_________________________________________________________________\n"
     ]
    }
   ],
   "source": [
    "final_model.summary()"
   ]
  },
  {
   "cell_type": "code",
   "execution_count": null,
   "metadata": {},
   "outputs": [],
   "source": [
    "# train_dataset.dtype"
   ]
  },
  {
   "cell_type": "code",
   "execution_count": null,
   "metadata": {},
   "outputs": [],
   "source": []
  },
  {
   "cell_type": "code",
   "execution_count": null,
   "metadata": {},
   "outputs": [],
   "source": [
    "# print(train_dataset[0].max(), train_dataset[0].min())"
   ]
  },
  {
   "cell_type": "code",
   "execution_count": null,
   "metadata": {},
   "outputs": [],
   "source": [
    "# qt_dataset = train_dataset / train_dataset.max()"
   ]
  },
  {
   "cell_type": "code",
   "execution_count": null,
   "metadata": {},
   "outputs": [],
   "source": [
    "# print(qt_dataset.shape, qt_dataset.max(), qt_dataset.min())"
   ]
  },
  {
   "cell_type": "code",
   "execution_count": null,
   "metadata": {},
   "outputs": [],
   "source": []
  },
  {
   "cell_type": "code",
   "execution_count": null,
   "metadata": {},
   "outputs": [],
   "source": [
    "batch_size = 32\n",
    "train_dataset_tf = tf.data.Dataset.from_tensor_slices(test_dataset)\n",
    "# train_dataset을 배치로 만듦\n",
    "batched_train_dataset = train_dataset_tf.batch(batch_size)"
   ]
  },
  {
   "cell_type": "code",
   "execution_count": null,
   "metadata": {},
   "outputs": [
    {
     "name": "stdout",
     "output_type": "stream",
     "text": [
      "WARNING:tensorflow:No training configuration found in the save file, so the model was *not* compiled. Compile it manually.\n",
      "INFO:tensorflow:Assets written to: /tmp/tmp45rkeuc_/assets\n"
     ]
    },
    {
     "name": "stderr",
     "output_type": "stream",
     "text": [
      "INFO:tensorflow:Assets written to: /tmp/tmp45rkeuc_/assets\n",
      "2023-12-11 07:39:43.285664: W tensorflow/compiler/mlir/lite/python/tf_tfl_flatbuffer_helpers.cc:364] Ignored output_format.\n",
      "2023-12-11 07:39:43.285700: W tensorflow/compiler/mlir/lite/python/tf_tfl_flatbuffer_helpers.cc:367] Ignored drop_control_dependency.\n",
      "2023-12-11 07:39:43.286080: I tensorflow/cc/saved_model/reader.cc:45] Reading SavedModel from: /tmp/tmp45rkeuc_\n",
      "2023-12-11 07:39:43.287234: I tensorflow/cc/saved_model/reader.cc:91] Reading meta graph with tags { serve }\n",
      "2023-12-11 07:39:43.287248: I tensorflow/cc/saved_model/reader.cc:132] Reading SavedModel debug info (if present) from: /tmp/tmp45rkeuc_\n",
      "2023-12-11 07:39:43.292248: I tensorflow/compiler/mlir/mlir_graph_optimization_pass.cc:375] MLIR V1 optimization pass is not enabled\n",
      "2023-12-11 07:39:43.293061: I tensorflow/cc/saved_model/loader.cc:231] Restoring SavedModel bundle.\n",
      "2023-12-11 07:39:43.319716: I tensorflow/cc/saved_model/loader.cc:215] Running initialization op on SavedModel bundle at path: /tmp/tmp45rkeuc_\n",
      "2023-12-11 07:39:43.328731: I tensorflow/cc/saved_model/loader.cc:314] SavedModel load for tags { serve }; Status: success: OK. Took 42652 microseconds.\n",
      "fully_quantize: 0, inference_type: 6, input_inference_type: FLOAT32, output_inference_type: FLOAT32\n"
     ]
    }
   ],
   "source": [
    "import tensorflow as tf\n",
    "\n",
    "# 기존 모델 로드\n",
    "model = tf.keras.models.load_model('pruned_model.h5')\n",
    "\n",
    "# 대표 데이터셋을 준비하는 함수\n",
    "def representative_data_gen():\n",
    "    for input_value in batched_train_dataset.take(100):\n",
    "        yield [input_value]\n",
    "\n",
    "# 훈련 데이터셋을 로드하고 배치 처리\n",
    "# 여기서 test_dataset와 batch_size는 적절한 값으로 설정해야 합니다.\n",
    "batched_train_dataset = tf.data.Dataset.from_tensor_slices(test_dataset).batch(batch_size)\n",
    "batched_train_dataset = batched_train_dataset.map(lambda x: tf.cast(x, tf.float32))\n",
    "\n",
    "# TFLite 변환기 설정\n",
    "converter = tf.lite.TFLiteConverter.from_keras_model(model)\n",
    "converter.optimizations = [tf.lite.Optimize.DEFAULT]\n",
    "converter.representative_dataset = representative_data_gen\n",
    "\n",
    "# 모든 연산을 float32로 제한\n",
    "converter.target_spec.supported_ops = [tf.lite.OpsSet.TFLITE_BUILTINS]\n",
    "\n",
    "# 입력과 출력을 float32로 설정\n",
    "converter.inference_input_type = tf.float32\n",
    "converter.inference_output_type = tf.float32\n",
    "\n",
    "# 모델을 TFLite 모델로 변환\n",
    "tflite_quant_model = converter.convert()\n",
    "\n",
    "# TFLite 모델 저장\n",
    "with open('quantized_model.tflite', 'wb') as f:\n",
    "    f.write(tflite_quant_model)\n"
   ]
  },
  {
   "cell_type": "code",
   "execution_count": null,
   "metadata": {},
   "outputs": [],
   "source": [
    "\n",
    "\n",
    "# from PIL import Image\n",
    "# import numpy as np\n",
    "\n",
    "# # Load the uploaded image file\n",
    "# image_path = 'test/2023-11-04 03-29-16/1041_png.png'\n",
    "# image = Image.open(image_path)\n",
    "\n",
    "# # It seems there was an issue with the conversion process that led to a uniform array of zeros.\n",
    "# # Let's first check the original image and its array to see if the conversion was done correctly.\n",
    "# image_gray = image.convert('L')\n",
    "\n",
    "# image_resized = image_gray.resize((32, 24))\n",
    "\n",
    "# # Convert the image to a numpy array again without normalization to check its content\n",
    "# image_array_check = np.asarray(image_resized)\n",
    "\n",
    "# # Display the unique values in the array to verify the content\n",
    "# np.unique(image_array_check)\n",
    "\n",
    "# # The array contains a variety of values, indicating the image is not uniform and the conversion to a flat array of zeros was incorrect.\n",
    "# # Let's correct the conversion process.\n",
    "\n",
    "# # Normalize the image array properly\n",
    "# image_array_normalized = image_array_check / 255.0\n",
    "\n",
    "# # Convert the normalized array to a 1D array suitable for C array initialization\n",
    "# # We'll use integer values scaled to [0, 255] for the C array\n",
    "# image_array_int = image_array_check.flatten()\n",
    "\n",
    "# # Convert the image array to a list of hex values\n",
    "# image_array_hex = ['0x{:02x}'.format(pixel) for pixel in image_array_int]\n",
    "\n",
    "# # Format the C array\n",
    "# c_array = ', '.join(image_array_hex)\n",
    "# c_array_formatted = f'const uint8_t image_data[24*32] = {{{c_array}}};'\n",
    "\n",
    "# # Based on the provided code snippet, let's save the image data to a binary file.\n",
    "# # The image data is already flattened and normalized, we just need to save it.\n",
    "\n",
    "# # Convert the normalized array to bytes\n",
    "# binary_data = image_array_normalized.astype(np.uint8).tobytes()\n",
    "\n",
    "# # Define the path for the binary file\n",
    "# binary_file_path = './image_data.bin'\n",
    "\n",
    "# # Write the binary data to the file\n",
    "# with open(binary_file_path, 'wb') as bin_file:\n",
    "#     bin_file.write(binary_data)\n",
    "\n",
    "# binary_file_path  # Return the file path for the user to download the binary file\n",
    "\n",
    "\n",
    "# print(c_array_formatted)  # Print the first 500 characters for brevity\n",
    "\n",
    "\n",
    "\n"
   ]
  },
  {
   "cell_type": "markdown",
   "metadata": {},
   "source": []
  },
  {
   "cell_type": "code",
   "execution_count": null,
   "metadata": {},
   "outputs": [],
   "source": []
  },
  {
   "cell_type": "code",
   "execution_count": null,
   "metadata": {},
   "outputs": [],
   "source": [
    "# import os\n",
    "# import re\n",
    "# import cv2\n",
    "# import numpy as np\n",
    "\n",
    "# def extract_number(filename):\n",
    "#     match = re.search(r'(\\d+)_png', filename)\n",
    "#     if match:\n",
    "#         return int(match.group(1))\n",
    "#     return None\n",
    "\n",
    "# def make_video_from_images(image_folder, video_name, fps=10.0):\n",
    "#     # 이미지 폴더 내의 모든 파일들을 가져옵니다.\n",
    "#     images = [img for img in os.listdir(image_folder) if img.endswith(\".png\") or img.endswith(\".jpg\")]\n",
    "\n",
    "#     # 숫자 기준으로 이미지들을 정렬합니다.\n",
    "#     images.sort(key=extract_number)\n",
    "\n",
    "#     # 첫 번째 이미지를 통해 프레임의 너비와 높이를 가져옵니다.\n",
    "#     frame = cv2.imread(os.path.join(image_folder, images[0]))\n",
    "#     h, w, layers = frame.shape\n",
    "#     size = (w, h)\n",
    "\n",
    "#     # VideoWriter 객체를 초기화합니다.\n",
    "#     out = cv2.VideoWriter(video_name, cv2.VideoWriter_fourcc(*'DIVX'), fps, size)\n",
    "\n",
    "#     # 이미지들을 하나씩 동영상에 추가합니다.\n",
    "#     for image in images:\n",
    "#         img_path = os.path.join(image_folder, image)\n",
    "#         img = cv2.imread(img_path)\n",
    "#         out.write(img)\n",
    "\n",
    "#     # 작업 완료 후, VideoWriter 객체를 해제합니다.\n",
    "#     out.release()\n",
    "\n",
    "# def save_draw_boxes_on_image(image, normalized_coords, save_path, num_people=None, width=32, height=24):\n",
    "#     normalized_coords = normalized_coords.squeeze()\n",
    "#     # Denormalize the coordinates\n",
    "#     denormalized_coords = normalized_coords * [width, height, width, height, width, height, width, height]\n",
    "#     if image.ndim == 4:\n",
    "#         image = image[0]\n",
    "#     # Create a figure and axis\n",
    "#     fig, ax = plt.subplots(1, figsize=(12, 9))\n",
    "#     # Display the image\n",
    "#     ax.imshow(image[:, :, 0], cmap='gray')\n",
    "#     if num_people is not None:\n",
    "#         ax.text(0.5, 0.1, f\"Number of people: {num_people}\", \n",
    "#                 transform=ax.transAxes, \n",
    "#                 color='white', \n",
    "#                 ha=\"center\", \n",
    "#                 va=\"center\", \n",
    "#                 fontsize=12, \n",
    "#                 bbox=dict(boxstyle=\"round\", fc=\"red\"))\n",
    "#     # Loop over each set of coordinates and draw the bounding box\n",
    "#     for coord in denormalized_coords:\n",
    "#         # Extract coordinates for the bounding box\n",
    "#         top_left_x, top_left_y, top_right_x, top_right_y, bottom_right_x, bottom_right_y, bottom_left_x, bottom_left_y = coord\n",
    "#         # Create a rectangle patch using top left and bottom right coordinates\n",
    "#         rect = patches.Rectangle((top_left_x, top_left_y), bottom_right_x - top_left_x, bottom_right_y - top_left_y, linewidth=1, edgecolor='r', facecolor='none')\n",
    "#         # Add the patch to the axis\n",
    "#         ax.add_patch(rect)\n",
    "#     plt.savefig(save_path)\n",
    "#     plt.close()  # 이 라인을 추가하여 화면에 표시되는 창을 닫습니다.\n",
    "#     return save_path\n",
    "\n",
    "# def generate_video_from_images():\n",
    "#     # 예측할 이미지 경로(예측 후 동영상으로 변환될 이미지)\n",
    "#     image_dir = '/Users/mac/Dev/Project/ThermalCamera/Model/Custom/Datasets/original/Video/2023-11-04 03-32-16/'\n",
    "#     image_files = sorted([f for f in os.listdir(image_dir) if f.endswith('.png')], key=extract_number)\n",
    "#     print(image_files)\n",
    "#     frame_height, frame_width = 24, 32\n",
    "    \n",
    "#     for image_file in image_files:\n",
    "#         image_path = os.path.join(image_dir, image_file)\n",
    "#         img = cv2.imread(image_path, cv2.IMREAD_GRAYSCALE)\n",
    "        \n",
    "#         img = img.reshape(24, 32, 1)\n",
    "#         img_batch = np.expand_dims(img, axis=0)\n",
    "#         res = model.predict(img_batch / img_batch.max())\n",
    "#         # 예측 한 이미지를 저장할 폴더\n",
    "#         output_folder = \"/Users/mac/Dev/Project/ThermalCamera/Model/Custom/Datasets/Video/img2/\"\n",
    "#         save_path = os.path.join(output_folder, image_file)\n",
    "\n",
    "#         saved_image_path = save_draw_boxes_on_image(img, res[2][:], save_path, res[1].argmax())\n",
    "#         saved_image_gray = cv2.imread(saved_image_path, cv2.IMREAD_GRAYSCALE)\n",
    "        \n",
    "#         saved_image = cv2.cvtColor(saved_image_gray, cv2.COLOR_GRAY2BGR)\n",
    "\n",
    "#     # 이 부분에서 이미지들을 동영상으로 만드는 함수를 호출합니다.\n",
    "#     # 예측 한 이미지를 저장할 폴더와 같은 폴더\n",
    "#     image_folder = '/Users/mac/Dev/Project/ThermalCamera/Model/Custom/Datasets/Video/img2/'  # 이미지 폴더 경로\n",
    "#     video_name = '/Users/mac/Dev/Project/ThermalCamera/Model/Custom/Datasets/Video/video4.avi'  # 저장될 동영상 파일 이름\n",
    "#     make_video_from_images(image_folder, video_name)\n",
    "#     print(\"Video generated successfully.\")\n",
    "\n",
    "# if __name__ == \"__main__\":\n",
    "#     generate_video_from_images()\n"
   ]
  }
 ],
 "metadata": {
  "kernelspec": {
   "display_name": "api",
   "language": "python",
   "name": "python3"
  },
  "language_info": {
   "codemirror_mode": {
    "name": "ipython",
    "version": 3
   },
   "file_extension": ".py",
   "mimetype": "text/x-python",
   "name": "python",
   "nbconvert_exporter": "python",
   "pygments_lexer": "ipython3",
   "version": "3.8.18"
  }
 },
 "nbformat": 4,
 "nbformat_minor": 2
}
