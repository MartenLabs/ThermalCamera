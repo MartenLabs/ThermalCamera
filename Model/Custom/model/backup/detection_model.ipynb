{
 "cells": [
  {
   "cell_type": "code",
   "execution_count": 1,
   "metadata": {},
   "outputs": [],
   "source": [
    "import tensorflow as tf\n",
    "from tensorflow import keras \n",
    "from skimage import color\n",
    "import numpy as np\n",
    "import matplotlib.pyplot as plt\n",
    "import seaborn as sns\n",
    "import warnings \n",
    "from IPython.display import Image\n",
    "\n",
    "warnings.filterwarnings('ignore')\n",
    "%matplotlib inline"
   ]
  },
  {
   "cell_type": "code",
   "execution_count": 75,
   "metadata": {},
   "outputs": [
    {
     "name": "stdout",
     "output_type": "stream",
     "text": [
      "(2203, 24, 32)\n",
      "(2203, 24, 32)\n",
      "(2203,)\n",
      "(2203, 4, 8)\n"
     ]
    }
   ],
   "source": [
    "\n",
    "dataset = np.load('/Users/mac/Dev/Project/ThermalCamera/Model/Custom/model/detection_dataset.npz')\n",
    "\n",
    "\n",
    "origin_images, target_images, number_labels, coordinates = dataset['images'], dataset['filters'], dataset['numbers'],  dataset['coordinates']\n",
    "\n",
    "\n",
    "print(origin_images.shape)\n",
    "print(target_images.shape)\n",
    "print(number_labels.shape)\n",
    "print(coordinates.shape)\n"
   ]
  },
  {
   "cell_type": "code",
   "execution_count": 76,
   "metadata": {},
   "outputs": [
    {
     "name": "stdout",
     "output_type": "stream",
     "text": [
      "(2203, 24, 32, 1)\n",
      "(2203, 24, 32, 1)\n"
     ]
    }
   ],
   "source": [
    "origin_images = origin_images.reshape(2203, 24, 32, 1)\n",
    "target_images = target_images.reshape(2203, 24, 32, 1)\n",
    "print(origin_images.shape)\n",
    "print(target_images.shape)"
   ]
  },
  {
   "cell_type": "code",
   "execution_count": 77,
   "metadata": {},
   "outputs": [
    {
     "name": "stdout",
     "output_type": "stream",
     "text": [
      "255 0\n",
      "255 0\n",
      "1.0 0.0\n",
      "1.0 0.0\n"
     ]
    }
   ],
   "source": [
    "print(origin_images.max(), origin_images.min())\n",
    "print(target_images.max(), target_images.min())\n",
    "\n",
    "origin_images = origin_images / origin_images.max()\n",
    "target_images = target_images / target_images.max()\n",
    "\n",
    "print(origin_images.max(), origin_images.min())\n",
    "print(target_images.max(), target_images.min())"
   ]
  },
  {
   "cell_type": "code",
   "execution_count": 78,
   "metadata": {},
   "outputs": [
    {
     "name": "stdout",
     "output_type": "stream",
     "text": [
      "(5, 48, 32, 1)\n"
     ]
    },
    {
     "data": {
      "image/png": "[encoded data removed]",
      "text/plain": [
       "<Figure size 640x480 with 1 Axes>"
      ]
     },
     "metadata": {},
     "output_type": "display_data"
    },
    {
     "name": "stdout",
     "output_type": "stream",
     "text": [
      "[0 0 0 0 0]\n",
      "[[[0 0 0 0 0 0 0 0]\n",
      "  [0 0 0 0 0 0 0 0]\n",
      "  [0 0 0 0 0 0 0 0]\n",
      "  [0 0 0 0 0 0 0 0]]\n",
      "\n",
      " [[0 0 0 0 0 0 0 0]\n",
      "  [0 0 0 0 0 0 0 0]\n",
      "  [0 0 0 0 0 0 0 0]\n",
      "  [0 0 0 0 0 0 0 0]]\n",
      "\n",
      " [[0 0 0 0 0 0 0 0]\n",
      "  [0 0 0 0 0 0 0 0]\n",
      "  [0 0 0 0 0 0 0 0]\n",
      "  [0 0 0 0 0 0 0 0]]\n",
      "\n",
      " [[0 0 0 0 0 0 0 0]\n",
      "  [0 0 0 0 0 0 0 0]\n",
      "  [0 0 0 0 0 0 0 0]\n",
      "  [0 0 0 0 0 0 0 0]]\n",
      "\n",
      " [[0 0 0 0 0 0 0 0]\n",
      "  [0 0 0 0 0 0 0 0]\n",
      "  [0 0 0 0 0 0 0 0]\n",
      "  [0 0 0 0 0 0 0 0]]]\n",
      "[  82   83   84   85   86   87   88   89   90   91   92   93   94   95\n",
      "   96   97  201  209  211  212  213  214  215  216  217  218  219  220\n",
      "  221  222  223  260  261  262  263  264  265  266  267  268  269  270\n",
      "  271  272  273  274  275  276  277  278  279  280  281  282  299  300\n",
      "  301  302  303  304  305  306  307  308  309  382  410  411  412  413\n",
      "  414  415  416  417  418  419  420  421  422  423  424  468  469  470\n",
      "  471  472  473  474  475  476  477  478  479  480  481  502  503  504\n",
      "  505  506  507  508  514  516  517  518  519  520  521  522  523  524\n",
      "  525  526  529  530  531  532  533  534  535  536  537  538  539  540\n",
      "  541  542  543  563  564  565  566  567  568  569  570  571  572  573\n",
      "  574  575  576  577  578  579  580  581  582  583  584  594  595  596\n",
      "  597  598  599  600  601  602  603  604  605  606  607  608  609  610\n",
      "  611  612  613  614  615  616  617  618  619  620  621  622  623  624\n",
      "  625  626  627  628  629  630  631  632  633  634  698  735  807  808\n",
      "  809  810  811  812  813  814  815  816  817  818  819  820  821  822\n",
      "  823  824  825  826  827  828  846  878  879  882  883  884  885  886\n",
      "  887  888  889  890  891  892  893  894  895  896  897  898  899  900\n",
      "  901  902  903  904  905  906  907  908  934  935  936  937  938  939\n",
      "  940  941  942  943  944  945  946  947  948  949  950  951  952  953\n",
      "  954  955  956 1176 1177 1178 1179 1180 1181 1182 1183 1184 1185 1186\n",
      " 1187 1188 1189 1190 1192 1264 1303 1360 1361 1362 1363 1364 1365 1366\n",
      " 1367 1368 1369 1575 1577 1578 1579 1580 1581 1582 1583 1584 1585 1586\n",
      " 1587 1588 1589 1593 1594 1595 1596 1597 1605 1607 1668 1669 1670 1671\n",
      " 1672 1674 1675 1676 1677 1678 1679 1680 1681 1682 1683 1684 1685 1686\n",
      " 1687 1688 1689 1690 1691 1692 1693 1694 1695 1696 1697 1698 1699 1700\n",
      " 1701 1702 1703 1704 1705 1706 1707 1708 1709 1710 1711 1712 1713 1714\n",
      " 1715 1716 1717 1718 1719 1720 1721 1722 1723 1724 1725 1726 1727 1728\n",
      " 1730 1731 1732 1733 1734 1735 1736 1737 1738 1739 1740 1741 1742 1743\n",
      " 1744 1745 1746 1747 1748 1749 1750 1751 1752 1753 1754 1755 1756 1757\n",
      " 1758 1759 1760 1761 1762 1763 1764 1765 1766 1832 1833 1834 1835 1836\n",
      " 1837 1838 1839 1840 1841 1842 1843 1844 1845 1846 1847 1848 1849 1850\n",
      " 1851 1898 1899 1900 1901 1902 1903 1904 1905 1906 1907 1908 1909 1910\n",
      " 1911 1912 1913 1914 1915 2056 2057 2058 2059 2060 2104 2105 2106 2107\n",
      " 2129 2147 2149 2150 2151 2152 2153 2154 2155 2156 2157 2158 2159 2160\n",
      " 2161 2162 2163 2164 2165 2166 2167 2168 2169 2170 2171 2172 2173 2174\n",
      " 2175 2176 2177 2178 2179 2180 2181 2182 2183 2184 2185 2186 2187 2188\n",
      " 2189 2190 2191 2192 2193 2194 2195 2196 2197 2198 2199 2200 2201 2202]\n"
     ]
    }
   ],
   "source": [
    "imgs = np.concatenate([origin_images[0:5], target_images[0:5]], axis = 1)\n",
    "print(imgs.shape)\n",
    "\n",
    "plt.imshow(imgs.transpose(1, 0, 2, 3).reshape(48, -1, 1), cmap = 'gray')\n",
    "plt.show()\n",
    "print(number_labels[0:5])\n",
    "\n",
    "print(coordinates[0:5])\n",
    "\n",
    "indices = np.argwhere(number_labels == 1).flatten()\n",
    "print(indices)"
   ]
  },
  {
   "cell_type": "code",
   "execution_count": null,
   "metadata": {},
   "outputs": [],
   "source": [
    "from keras.utils import to_categorical\n",
    "\n",
    "trian_labels = to_categorical(number_labels, num_classes=5)"
   ]
  },
  {
   "cell_type": "code",
   "execution_count": 82,
   "metadata": {},
   "outputs": [],
   "source": [
    "from keras.layers import Dense, Input, MaxPool2D, Conv2D, Conv2DTranspose, Flatten, Reshape, Activation\n",
    "from keras.layers import BatchNormalization, Dropout, Activation, concatenate\n",
    "from keras.models import Model\n",
    "# 24, 32, 1\n",
    "def SupervisedAutoEncoder():\n",
    "    # 이미지 입력\n",
    "    inputs_image = Input(shape=(24, 32, 1))\n",
    "\n",
    "    # Encoder 부분\n",
    "    x = Conv2D(filters=32, kernel_size=3, strides=2, padding='same', activation='relu')(inputs_image)\n",
    "    x = Conv2D(filters=64, kernel_size=3, strides=2, padding='same', activation='relu')(x)\n",
    "    x = Conv2D(filters=128, kernel_size=3, strides=2, padding='same', activation='relu')(x)\n",
    "    x = Flatten()(x)\n",
    "    latent_vector = Dense(units = 32)(x)\n",
    "\n",
    "    # Decoder 부분 (이미지 재구성)\n",
    "    x = Dense(3 * 4 * 128)(latent_vector)\n",
    "    x = Reshape(target_shape=(3, 4, 128))(x)\n",
    "    x = Conv2DTranspose(filters=128, kernel_size=3, strides=2, padding='same', activation='relu')(x)\n",
    "    x = Conv2DTranspose(filters=64, kernel_size=3, strides=2, padding='same', activation='relu')(x)\n",
    "    x = Conv2DTranspose(filters=32, kernel_size=3, strides=2, padding='same', activation='sigmoid')(x)\n",
    "    reconstructed_image = Conv2DTranspose(filters=1, kernel_size=3, padding='same', activation='sigmoid')(x)\n",
    "\n",
    "    # 추가적인 출력 계층 (좌표 예측)\n",
    "    coords_output = Dense(4*8, activation='sigmoid')(latent_vector)  # 좌표값이 8개라고 가정\n",
    "    coords_output = Reshape((4, 8))(coords_output)  # 출력의 형태를 [batch_size, 4, 8]로 변환\n",
    "\n",
    "    return Model(inputs_image, [reconstructed_image, coords_output])\n",
    "\n",
    "model = SupervisedAutoEncoder()\n"
   ]
  },
  {
   "cell_type": "code",
   "execution_count": 83,
   "metadata": {},
   "outputs": [
    {
     "name": "stdout",
     "output_type": "stream",
     "text": [
      "Model: \"model_17\"\n",
      "__________________________________________________________________________________________________\n",
      " Layer (type)                Output Shape                 Param #   Connected to                  \n",
      "==================================================================================================\n",
      " input_19 (InputLayer)       [(None, 24, 32, 1)]          0         []                            \n",
      "                                                                                                  \n",
      " conv2d_54 (Conv2D)          (None, 12, 16, 32)           320       ['input_19[0][0]']            \n",
      "                                                                                                  \n",
      " conv2d_55 (Conv2D)          (None, 6, 8, 64)             18496     ['conv2d_54[0][0]']           \n",
      "                                                                                                  \n",
      " conv2d_56 (Conv2D)          (None, 3, 4, 128)            73856     ['conv2d_55[0][0]']           \n",
      "                                                                                                  \n",
      " flatten_18 (Flatten)        (None, 1536)                 0         ['conv2d_56[0][0]']           \n",
      "                                                                                                  \n",
      " dense_53 (Dense)            (None, 32)                   49184     ['flatten_18[0][0]']          \n",
      "                                                                                                  \n",
      " dense_54 (Dense)            (None, 1536)                 50688     ['dense_53[0][0]']            \n",
      "                                                                                                  \n",
      " reshape_32 (Reshape)        (None, 3, 4, 128)            0         ['dense_54[0][0]']            \n",
      "                                                                                                  \n",
      " conv2d_transpose_72 (Conv2  (None, 6, 8, 128)            147584    ['reshape_32[0][0]']          \n",
      " DTranspose)                                                                                      \n",
      "                                                                                                  \n",
      " conv2d_transpose_73 (Conv2  (None, 12, 16, 64)           73792     ['conv2d_transpose_72[0][0]'] \n",
      " DTranspose)                                                                                      \n",
      "                                                                                                  \n",
      " conv2d_transpose_74 (Conv2  (None, 24, 32, 32)           18464     ['conv2d_transpose_73[0][0]'] \n",
      " DTranspose)                                                                                      \n",
      "                                                                                                  \n",
      " dense_55 (Dense)            (None, 32)                   1056      ['dense_53[0][0]']            \n",
      "                                                                                                  \n",
      " conv2d_transpose_75 (Conv2  (None, 24, 32, 1)            289       ['conv2d_transpose_74[0][0]'] \n",
      " DTranspose)                                                                                      \n",
      "                                                                                                  \n",
      " reshape_33 (Reshape)        (None, 4, 8)                 0         ['dense_55[0][0]']            \n",
      "                                                                                                  \n",
      "==================================================================================================\n",
      "Total params: 433729 (1.65 MB)\n",
      "Trainable params: 433729 (1.65 MB)\n",
      "Non-trainable params: 0 (0.00 Byte)\n",
      "__________________________________________________________________________________________________\n"
     ]
    }
   ],
   "source": [
    "model = SupervisedAutoEncoder()\n",
    "model.summary()"
   ]
  },
  {
   "cell_type": "code",
   "execution_count": 84,
   "metadata": {},
   "outputs": [],
   "source": [
    "model.compile(optimizer='adam', \n",
    "              loss=['mse', 'mse'], \n",
    "              loss_weights=[1, 0.1],\n",
    "              metrics = ['accuracy']\n",
    "              )  # 재구성 손실과 좌표 손실을 조절하기 위해 loss_weights 사용"
   ]
  },
  {
   "cell_type": "code",
   "execution_count": 85,
   "metadata": {},
   "outputs": [],
   "source": [
    "location = coordinates / 100"
   ]
  },
  {
   "cell_type": "code",
   "execution_count": 86,
   "metadata": {},
   "outputs": [
    {
     "name": "stdout",
     "output_type": "stream",
     "text": [
      "[[[0.07 0.01 0.16 0.01 0.16 0.22 0.07 0.22]\n",
      "  [0.23 0.05 0.32 0.05 0.32 0.12 0.23 0.12]\n",
      "  [0.   0.   0.   0.   0.   0.   0.   0.  ]\n",
      "  [0.   0.   0.   0.   0.   0.   0.   0.  ]]\n",
      "\n",
      " [[0.06 0.01 0.16 0.01 0.16 0.18 0.06 0.18]\n",
      "  [0.23 0.06 0.32 0.06 0.32 0.13 0.23 0.13]\n",
      "  [0.   0.   0.   0.   0.   0.   0.   0.  ]\n",
      "  [0.   0.   0.   0.   0.   0.   0.   0.  ]]\n",
      "\n",
      " [[0.06 0.03 0.14 0.03 0.14 0.15 0.06 0.15]\n",
      "  [0.22 0.06 0.32 0.06 0.32 0.13 0.22 0.13]\n",
      "  [0.   0.   0.   0.   0.   0.   0.   0.  ]\n",
      "  [0.   0.   0.   0.   0.   0.   0.   0.  ]]]\n"
     ]
    }
   ],
   "source": [
    "print(location[110:113])"
   ]
  },
  {
   "cell_type": "code",
   "execution_count": 87,
   "metadata": {},
   "outputs": [
    {
     "name": "stdout",
     "output_type": "stream",
     "text": [
      "Epoch 1/50\n"
     ]
    },
    {
     "name": "stderr",
     "output_type": "stream",
     "text": [
      "2023-11-02 11:57:50.384515: I tensorflow/core/grappler/optimizers/custom_graph_optimizer_registry.cc:114] Plugin optimizer for device_type GPU is enabled.\n"
     ]
    },
    {
     "name": "stdout",
     "output_type": "stream",
     "text": [
      "69/69 [==============================] - 2s 20ms/step - loss: 0.0381 - conv2d_transpose_75_loss: 0.0344 - reshape_33_loss: 0.0371 - conv2d_transpose_75_accuracy: 0.8326 - reshape_33_accuracy: 0.2169\n",
      "Epoch 2/50\n",
      "69/69 [==============================] - 1s 17ms/step - loss: 0.0216 - conv2d_transpose_75_loss: 0.0211 - reshape_33_loss: 0.0052 - conv2d_transpose_75_accuracy: 0.8341 - reshape_33_accuracy: 0.3485\n",
      "Epoch 3/50\n",
      "69/69 [==============================] - 1s 16ms/step - loss: 0.0141 - conv2d_transpose_75_loss: 0.0136 - reshape_33_loss: 0.0048 - conv2d_transpose_75_accuracy: 0.8340 - reshape_33_accuracy: 0.2149\n",
      "Epoch 4/50\n",
      "69/69 [==============================] - 1s 16ms/step - loss: 0.0080 - conv2d_transpose_75_loss: 0.0076 - reshape_33_loss: 0.0039 - conv2d_transpose_75_accuracy: 0.8340 - reshape_33_accuracy: 0.2182\n",
      "Epoch 5/50\n",
      "69/69 [==============================] - 1s 16ms/step - loss: 0.0053 - conv2d_transpose_75_loss: 0.0050 - reshape_33_loss: 0.0033 - conv2d_transpose_75_accuracy: 0.8343 - reshape_33_accuracy: 0.2209\n",
      "Epoch 6/50\n",
      "69/69 [==============================] - 1s 16ms/step - loss: 0.0041 - conv2d_transpose_75_loss: 0.0039 - reshape_33_loss: 0.0027 - conv2d_transpose_75_accuracy: 0.8344 - reshape_33_accuracy: 0.2112\n",
      "Epoch 7/50\n",
      "69/69 [==============================] - 1s 16ms/step - loss: 0.0036 - conv2d_transpose_75_loss: 0.0033 - reshape_33_loss: 0.0024 - conv2d_transpose_75_accuracy: 0.8344 - reshape_33_accuracy: 0.2077\n",
      "Epoch 8/50\n",
      "69/69 [==============================] - 1s 16ms/step - loss: 0.0032 - conv2d_transpose_75_loss: 0.0030 - reshape_33_loss: 0.0022 - conv2d_transpose_75_accuracy: 0.8345 - reshape_33_accuracy: 0.2195\n",
      "Epoch 9/50\n",
      "69/69 [==============================] - 1s 17ms/step - loss: 0.0029 - conv2d_transpose_75_loss: 0.0027 - reshape_33_loss: 0.0020 - conv2d_transpose_75_accuracy: 0.8345 - reshape_33_accuracy: 0.2185\n",
      "Epoch 10/50\n",
      "69/69 [==============================] - 1s 17ms/step - loss: 0.0027 - conv2d_transpose_75_loss: 0.0025 - reshape_33_loss: 0.0018 - conv2d_transpose_75_accuracy: 0.8345 - reshape_33_accuracy: 0.2222\n",
      "Epoch 11/50\n",
      "69/69 [==============================] - 1s 16ms/step - loss: 0.0025 - conv2d_transpose_75_loss: 0.0024 - reshape_33_loss: 0.0017 - conv2d_transpose_75_accuracy: 0.8345 - reshape_33_accuracy: 0.2333\n",
      "Epoch 12/50\n",
      "69/69 [==============================] - 1s 16ms/step - loss: 0.0025 - conv2d_transpose_75_loss: 0.0023 - reshape_33_loss: 0.0016 - conv2d_transpose_75_accuracy: 0.8345 - reshape_33_accuracy: 0.2178\n",
      "Epoch 13/50\n",
      "69/69 [==============================] - 1s 16ms/step - loss: 0.0024 - conv2d_transpose_75_loss: 0.0022 - reshape_33_loss: 0.0015 - conv2d_transpose_75_accuracy: 0.8345 - reshape_33_accuracy: 0.2298\n",
      "Epoch 14/50\n",
      "69/69 [==============================] - 1s 16ms/step - loss: 0.0023 - conv2d_transpose_75_loss: 0.0021 - reshape_33_loss: 0.0014 - conv2d_transpose_75_accuracy: 0.8345 - reshape_33_accuracy: 0.2275\n",
      "Epoch 15/50\n",
      "69/69 [==============================] - 1s 16ms/step - loss: 0.0022 - conv2d_transpose_75_loss: 0.0021 - reshape_33_loss: 0.0013 - conv2d_transpose_75_accuracy: 0.8345 - reshape_33_accuracy: 0.2239\n",
      "Epoch 16/50\n",
      "69/69 [==============================] - 1s 16ms/step - loss: 0.0021 - conv2d_transpose_75_loss: 0.0020 - reshape_33_loss: 0.0013 - conv2d_transpose_75_accuracy: 0.8345 - reshape_33_accuracy: 0.2232\n",
      "Epoch 17/50\n",
      "69/69 [==============================] - 1s 16ms/step - loss: 0.0021 - conv2d_transpose_75_loss: 0.0020 - reshape_33_loss: 0.0013 - conv2d_transpose_75_accuracy: 0.8345 - reshape_33_accuracy: 0.2230\n",
      "Epoch 18/50\n",
      "69/69 [==============================] - 1s 16ms/step - loss: 0.0021 - conv2d_transpose_75_loss: 0.0020 - reshape_33_loss: 0.0012 - conv2d_transpose_75_accuracy: 0.8345 - reshape_33_accuracy: 0.2255\n",
      "Epoch 19/50\n",
      "69/69 [==============================] - 1s 16ms/step - loss: 0.0020 - conv2d_transpose_75_loss: 0.0019 - reshape_33_loss: 0.0012 - conv2d_transpose_75_accuracy: 0.8345 - reshape_33_accuracy: 0.2265\n",
      "Epoch 20/50\n",
      "69/69 [==============================] - 1s 16ms/step - loss: 0.0020 - conv2d_transpose_75_loss: 0.0019 - reshape_33_loss: 0.0012 - conv2d_transpose_75_accuracy: 0.8345 - reshape_33_accuracy: 0.2355\n",
      "Epoch 21/50\n",
      "69/69 [==============================] - 1s 16ms/step - loss: 0.0020 - conv2d_transpose_75_loss: 0.0018 - reshape_33_loss: 0.0012 - conv2d_transpose_75_accuracy: 0.8345 - reshape_33_accuracy: 0.2197\n",
      "Epoch 22/50\n",
      "69/69 [==============================] - 1s 16ms/step - loss: 0.0019 - conv2d_transpose_75_loss: 0.0018 - reshape_33_loss: 0.0011 - conv2d_transpose_75_accuracy: 0.8345 - reshape_33_accuracy: 0.2209\n",
      "Epoch 23/50\n",
      "69/69 [==============================] - 1s 16ms/step - loss: 0.0019 - conv2d_transpose_75_loss: 0.0018 - reshape_33_loss: 0.0011 - conv2d_transpose_75_accuracy: 0.8345 - reshape_33_accuracy: 0.2224\n",
      "Epoch 24/50\n",
      "69/69 [==============================] - 1s 16ms/step - loss: 0.0019 - conv2d_transpose_75_loss: 0.0018 - reshape_33_loss: 0.0011 - conv2d_transpose_75_accuracy: 0.8345 - reshape_33_accuracy: 0.2251\n",
      "Epoch 25/50\n",
      "69/69 [==============================] - 1s 16ms/step - loss: 0.0018 - conv2d_transpose_75_loss: 0.0017 - reshape_33_loss: 0.0010 - conv2d_transpose_75_accuracy: 0.8345 - reshape_33_accuracy: 0.2138\n",
      "Epoch 26/50\n",
      "69/69 [==============================] - 1s 16ms/step - loss: 0.0018 - conv2d_transpose_75_loss: 0.0017 - reshape_33_loss: 0.0010 - conv2d_transpose_75_accuracy: 0.8345 - reshape_33_accuracy: 0.2314\n",
      "Epoch 27/50\n",
      "69/69 [==============================] - 1s 16ms/step - loss: 0.0018 - conv2d_transpose_75_loss: 0.0017 - reshape_33_loss: 0.0010 - conv2d_transpose_75_accuracy: 0.8345 - reshape_33_accuracy: 0.2234\n",
      "Epoch 28/50\n",
      "69/69 [==============================] - 1s 16ms/step - loss: 0.0018 - conv2d_transpose_75_loss: 0.0017 - reshape_33_loss: 9.6898e-04 - conv2d_transpose_75_accuracy: 0.8345 - reshape_33_accuracy: 0.2245\n",
      "Epoch 29/50\n",
      "69/69 [==============================] - 1s 16ms/step - loss: 0.0018 - conv2d_transpose_75_loss: 0.0017 - reshape_33_loss: 9.4459e-04 - conv2d_transpose_75_accuracy: 0.8345 - reshape_33_accuracy: 0.2127\n",
      "Epoch 30/50\n",
      "69/69 [==============================] - 1s 16ms/step - loss: 0.0017 - conv2d_transpose_75_loss: 0.0016 - reshape_33_loss: 9.8264e-04 - conv2d_transpose_75_accuracy: 0.8345 - reshape_33_accuracy: 0.2310\n",
      "Epoch 31/50\n",
      "69/69 [==============================] - 1s 16ms/step - loss: 0.0017 - conv2d_transpose_75_loss: 0.0016 - reshape_33_loss: 9.1674e-04 - conv2d_transpose_75_accuracy: 0.8345 - reshape_33_accuracy: 0.2186\n",
      "Epoch 32/50\n",
      "69/69 [==============================] - 1s 16ms/step - loss: 0.0017 - conv2d_transpose_75_loss: 0.0016 - reshape_33_loss: 8.9564e-04 - conv2d_transpose_75_accuracy: 0.8345 - reshape_33_accuracy: 0.2256\n",
      "Epoch 33/50\n",
      "69/69 [==============================] - 1s 16ms/step - loss: 0.0017 - conv2d_transpose_75_loss: 0.0016 - reshape_33_loss: 9.1256e-04 - conv2d_transpose_75_accuracy: 0.8345 - reshape_33_accuracy: 0.2180\n",
      "Epoch 34/50\n",
      "69/69 [==============================] - 1s 16ms/step - loss: 0.0017 - conv2d_transpose_75_loss: 0.0016 - reshape_33_loss: 8.8217e-04 - conv2d_transpose_75_accuracy: 0.8345 - reshape_33_accuracy: 0.2242\n",
      "Epoch 35/50\n",
      "69/69 [==============================] - 1s 16ms/step - loss: 0.0017 - conv2d_transpose_75_loss: 0.0016 - reshape_33_loss: 9.3501e-04 - conv2d_transpose_75_accuracy: 0.8345 - reshape_33_accuracy: 0.2265\n",
      "Epoch 36/50\n",
      "69/69 [==============================] - 1s 16ms/step - loss: 0.0016 - conv2d_transpose_75_loss: 0.0016 - reshape_33_loss: 8.4630e-04 - conv2d_transpose_75_accuracy: 0.8345 - reshape_33_accuracy: 0.2212\n",
      "Epoch 37/50\n",
      "69/69 [==============================] - 1s 16ms/step - loss: 0.0016 - conv2d_transpose_75_loss: 0.0015 - reshape_33_loss: 8.3160e-04 - conv2d_transpose_75_accuracy: 0.8345 - reshape_33_accuracy: 0.2242\n",
      "Epoch 38/50\n",
      "69/69 [==============================] - 1s 17ms/step - loss: 0.0016 - conv2d_transpose_75_loss: 0.0015 - reshape_33_loss: 8.5910e-04 - conv2d_transpose_75_accuracy: 0.8345 - reshape_33_accuracy: 0.2180\n",
      "Epoch 39/50\n",
      "69/69 [==============================] - 1s 17ms/step - loss: 0.0016 - conv2d_transpose_75_loss: 0.0015 - reshape_33_loss: 8.2381e-04 - conv2d_transpose_75_accuracy: 0.8345 - reshape_33_accuracy: 0.2187\n",
      "Epoch 40/50\n",
      "69/69 [==============================] - 1s 17ms/step - loss: 0.0016 - conv2d_transpose_75_loss: 0.0015 - reshape_33_loss: 8.4545e-04 - conv2d_transpose_75_accuracy: 0.8345 - reshape_33_accuracy: 0.2234\n",
      "Epoch 41/50\n",
      "69/69 [==============================] - 1s 16ms/step - loss: 0.0016 - conv2d_transpose_75_loss: 0.0015 - reshape_33_loss: 8.6759e-04 - conv2d_transpose_75_accuracy: 0.8345 - reshape_33_accuracy: 0.2202\n",
      "Epoch 42/50\n",
      "69/69 [==============================] - 1s 16ms/step - loss: 0.0016 - conv2d_transpose_75_loss: 0.0015 - reshape_33_loss: 7.9607e-04 - conv2d_transpose_75_accuracy: 0.8345 - reshape_33_accuracy: 0.2232\n",
      "Epoch 43/50\n",
      "69/69 [==============================] - 1s 16ms/step - loss: 0.0016 - conv2d_transpose_75_loss: 0.0015 - reshape_33_loss: 8.2113e-04 - conv2d_transpose_75_accuracy: 0.8345 - reshape_33_accuracy: 0.2207\n",
      "Epoch 44/50\n",
      "69/69 [==============================] - 1s 16ms/step - loss: 0.0016 - conv2d_transpose_75_loss: 0.0015 - reshape_33_loss: 8.1157e-04 - conv2d_transpose_75_accuracy: 0.8345 - reshape_33_accuracy: 0.2245\n",
      "Epoch 45/50\n",
      "69/69 [==============================] - 1s 16ms/step - loss: 0.0015 - conv2d_transpose_75_loss: 0.0015 - reshape_33_loss: 7.6472e-04 - conv2d_transpose_75_accuracy: 0.8345 - reshape_33_accuracy: 0.2268\n",
      "Epoch 46/50\n",
      "69/69 [==============================] - 1s 16ms/step - loss: 0.0015 - conv2d_transpose_75_loss: 0.0015 - reshape_33_loss: 7.6967e-04 - conv2d_transpose_75_accuracy: 0.8345 - reshape_33_accuracy: 0.2158\n",
      "Epoch 47/50\n",
      "69/69 [==============================] - 1s 16ms/step - loss: 0.0015 - conv2d_transpose_75_loss: 0.0014 - reshape_33_loss: 7.5162e-04 - conv2d_transpose_75_accuracy: 0.8345 - reshape_33_accuracy: 0.2211\n",
      "Epoch 48/50\n",
      "69/69 [==============================] - 1s 16ms/step - loss: 0.0015 - conv2d_transpose_75_loss: 0.0014 - reshape_33_loss: 7.5603e-04 - conv2d_transpose_75_accuracy: 0.8345 - reshape_33_accuracy: 0.2204\n",
      "Epoch 49/50\n",
      "69/69 [==============================] - 1s 16ms/step - loss: 0.0015 - conv2d_transpose_75_loss: 0.0014 - reshape_33_loss: 7.4048e-04 - conv2d_transpose_75_accuracy: 0.8345 - reshape_33_accuracy: 0.2163\n",
      "Epoch 50/50\n",
      "69/69 [==============================] - 1s 16ms/step - loss: 0.0015 - conv2d_transpose_75_loss: 0.0014 - reshape_33_loss: 7.6113e-04 - conv2d_transpose_75_accuracy: 0.8345 - reshape_33_accuracy: 0.2328\n"
     ]
    }
   ],
   "source": [
    "hist = model.fit(\n",
    "    origin_images, [target_images, location], \n",
    "    epochs=50,\n",
    "    verbose = 1\n",
    ")"
   ]
  },
  {
   "cell_type": "code",
   "execution_count": 92,
   "metadata": {},
   "outputs": [
    {
     "name": "stdout",
     "output_type": "stream",
     "text": [
      "1/1 [==============================] - 0s 14ms/step\n"
     ]
    },
    {
     "data": {
      "image/png": "[encoded data removed]",
      "text/plain": [
       "<Figure size 640x480 with 1 Axes>"
      ]
     },
     "metadata": {},
     "output_type": "display_data"
    },
    {
     "name": "stdout",
     "output_type": "stream",
     "text": [
      "[[[ 7  1 16  1 16 22  7 22]\n",
      "  [23  5 32  5 32 12 23 12]\n",
      "  [ 0  0  0  0  0  0  0  0]\n",
      "  [ 0  0  0  0  0  0  0  0]]\n",
      "\n",
      " [[ 6  1 16  1 16 18  6 18]\n",
      "  [23  6 32  6 32 13 23 13]\n",
      "  [ 0  0  0  0  0  0  0  0]\n",
      "  [ 0  0  0  0  0  0  0  0]]\n",
      "\n",
      " [[ 6  3 14  3 14 15  6 15]\n",
      "  [22  6 32  6 32 13 22 13]\n",
      "  [ 0  0  0  0  0  0  0  0]\n",
      "  [ 0  0  0  0  0  0  0  0]]\n",
      "\n",
      " [[ 6  4 15  4 15 14  6 14]\n",
      "  [23  6 32  6 32 14 23 14]\n",
      "  [ 0  0  0  0  0  0  0  0]\n",
      "  [ 0  0  0  0  0  0  0  0]]\n",
      "\n",
      " [[ 5  3 14  3 14 16  5 16]\n",
      "  [24  5 32  5 32 13 24 13]\n",
      "  [ 0  0  0  0  0  0  0  0]\n",
      "  [ 0  0  0  0  0  0  0  0]]]\n"
     ]
    }
   ],
   "source": [
    "res = model.predict(origin_images[110:115])\n",
    "images = np.concatenate([origin_images[110:115],  target_images[110:115], res[0][:6]], axis = 1).transpose(1, 0, 2, 3).reshape(72, -1, 1)\n",
    "\n",
    "plt.imshow(images, cmap='gray')\n",
    "plt.show()\n",
    "\n",
    "print(coordinates[110:115])\n",
    "# print(res[1][:6])"
   ]
  },
  {
   "cell_type": "code",
   "execution_count": 116,
   "metadata": {},
   "outputs": [],
   "source": [
    "def normalize_coordinates(coords, width=32, height=24):\n",
    "    \"\"\"\n",
    "    Normalize coordinates based on width and height.\n",
    "\n",
    "    Args:\n",
    "    - coords (numpy.ndarray): The original coordinates with shape (n_samples, 4, 8).\n",
    "    - width (int): The width of the image. Default is 32.\n",
    "    - height (int): The height of the image. Default is 24.\n",
    "\n",
    "    Returns:\n",
    "    - numpy.ndarray: Normalized coordinates with the same shape as input.\n",
    "    \"\"\"\n",
    "\n",
    "    # Check the shape of the input coordinates\n",
    "    if coords.shape[-1] != 8:\n",
    "        raise ValueError(\"The last dimension of the input coordinates should be 8.\")\n",
    "\n",
    "    # Create a normalization array\n",
    "    normalization_factors = np.array([width, height, width, height, width, height, width, height])\n",
    "\n",
    "    # Normalize the coordinates\n",
    "    normalized_coords = coords / normalization_factors\n",
    "\n",
    "    return normalized_coords\n"
   ]
  },
  {
   "cell_type": "code",
   "execution_count": 117,
   "metadata": {},
   "outputs": [
    {
     "name": "stdout",
     "output_type": "stream",
     "text": [
      "(2203, 4, 8)\n"
     ]
    }
   ],
   "source": [
    "norm_location = normalize_coordinates(coordinates)\n",
    "print(norm_location.shape)"
   ]
  },
  {
   "cell_type": "code",
   "execution_count": 120,
   "metadata": {},
   "outputs": [
    {
     "name": "stdout",
     "output_type": "stream",
     "text": [
      "(5, 48, 32, 1)\n"
     ]
    },
    {
     "data": {
      "image/png": "[encoded data removed]",
      "text/plain": [
       "<Figure size 640x480 with 1 Axes>"
      ]
     },
     "metadata": {},
     "output_type": "display_data"
    },
    {
     "name": "stdout",
     "output_type": "stream",
     "text": [
      "[2 2 2 2 2]\n",
      "[[[0.375      0.         0.65625    0.         0.65625    0.25\n",
      "   0.375      0.25      ]\n",
      "  [0.8125     0.29166667 1.         0.29166667 1.         0.58333333\n",
      "   0.8125     0.58333333]\n",
      "  [0.         0.         0.         0.         0.         0.\n",
      "   0.         0.        ]\n",
      "  [0.         0.         0.         0.         0.         0.\n",
      "   0.         0.        ]]\n",
      "\n",
      " [[0.375      0.         0.625      0.         0.625      0.25\n",
      "   0.375      0.25      ]\n",
      "  [0.78125    0.29166667 1.         0.29166667 1.         0.58333333\n",
      "   0.78125    0.58333333]\n",
      "  [0.         0.         0.         0.         0.         0.\n",
      "   0.         0.        ]\n",
      "  [0.         0.         0.         0.         0.         0.\n",
      "   0.         0.        ]]\n",
      "\n",
      " [[0.375      0.         0.65625    0.         0.65625    0.25\n",
      "   0.375      0.25      ]\n",
      "  [0.8125     0.33333333 1.         0.33333333 1.         0.625\n",
      "   0.8125     0.625     ]\n",
      "  [0.         0.         0.         0.         0.         0.\n",
      "   0.         0.        ]\n",
      "  [0.         0.         0.         0.         0.         0.\n",
      "   0.         0.        ]]\n",
      "\n",
      " [[0.34375    0.         0.625      0.         0.625      0.25\n",
      "   0.34375    0.25      ]\n",
      "  [0.78125    0.33333333 1.         0.33333333 1.         0.625\n",
      "   0.78125    0.625     ]\n",
      "  [0.         0.         0.         0.         0.         0.\n",
      "   0.         0.        ]\n",
      "  [0.         0.         0.         0.         0.         0.\n",
      "   0.         0.        ]]\n",
      "\n",
      " [[0.34375    0.         0.59375    0.         0.59375    0.20833333\n",
      "   0.34375    0.20833333]\n",
      "  [0.78125    0.29166667 1.         0.29166667 1.         0.625\n",
      "   0.78125    0.625     ]\n",
      "  [0.         0.         0.         0.         0.         0.\n",
      "   0.         0.        ]\n",
      "  [0.         0.         0.         0.         0.         0.\n",
      "   0.         0.        ]]]\n"
     ]
    }
   ],
   "source": [
    "imgs = np.concatenate([origin_images[1000:1005], target_images[1000:1005]], axis = 1)\n",
    "print(imgs.shape)\n",
    "\n",
    "plt.imshow(imgs.transpose(1, 0, 2, 3).reshape(48, -1, 1), cmap = 'gray')\n",
    "plt.show()\n",
    "print(number_labels[1000:1005])\n",
    "\n",
    "print(norm_location[1000:1005])"
   ]
  },
  {
   "cell_type": "code",
   "execution_count": 128,
   "metadata": {},
   "outputs": [
    {
     "data": {
      "image/png": "[encoded data removed]",
      "text/plain": [
       "<Figure size 1200x900 with 1 Axes>"
      ]
     },
     "metadata": {},
     "output_type": "display_data"
    }
   ],
   "source": [
    "import matplotlib.pyplot as plt\n",
    "import matplotlib.patches as patches\n",
    "\n",
    "def draw_boxes_on_image(image, normalized_coords, width=32, height=24):\n",
    "    \"\"\"\n",
    "    Draw bounding boxes on the given image using normalized coordinates.\n",
    "\n",
    "    Args:\n",
    "    - image (numpy.ndarray): The input image with shape (height, width).\n",
    "    - normalized_coords (numpy.ndarray): The normalized coordinates with shape (1, 4, 8).\n",
    "    - width (int): The width of the image. Default is 32.\n",
    "    - height (int): The height of the image. Default is 24.\n",
    "    \"\"\"\n",
    "\n",
    "    # Remove the first dimension from normalized_coords\n",
    "    normalized_coords = normalized_coords.squeeze()\n",
    "\n",
    "    # Denormalize the coordinates\n",
    "    denormalized_coords = normalized_coords * [width, height, width, height, width, height, width, height]\n",
    "\n",
    "    # Create a figure and axis\n",
    "    fig, ax = plt.subplots(1, figsize=(12, 9))\n",
    "    \n",
    "    # Display the image\n",
    "    ax.imshow(image[0, :, :, 0], cmap='gray')\n",
    "\n",
    "    # Loop over each set of coordinates and draw the bounding box\n",
    "    for coord in denormalized_coords:\n",
    "        # Extract coordinates for the bounding box\n",
    "        top_left_x, top_left_y, top_right_x, top_right_y, bottom_right_x, bottom_right_y, bottom_left_x, bottom_left_y = coord\n",
    "        \n",
    "        # Create a rectangle patch using top left and bottom right coordinates\n",
    "        rect = patches.Rectangle((top_left_x, top_left_y), bottom_right_x - top_left_x, bottom_right_y - top_left_y, linewidth=1, edgecolor='r', facecolor='none')\n",
    "        \n",
    "        # Add the patch to the axis\n",
    "        ax.add_patch(rect)\n",
    "\n",
    "    plt.show()\n",
    "\n",
    "\n",
    "\n",
    "\n",
    "draw_boxes_on_image(origin_images[1000:1001], norm_location[1000:1001])\n"
   ]
  },
  {
   "cell_type": "code",
   "execution_count": 125,
   "metadata": {},
   "outputs": [
    {
     "name": "stdout",
     "output_type": "stream",
     "text": [
      "(1, 4, 8)\n",
      "[[[0.375      0.         0.65625    0.         0.65625    0.25\n",
      "   0.375      0.25      ]\n",
      "  [0.8125     0.29166667 1.         0.29166667 1.         0.58333333\n",
      "   0.8125     0.58333333]\n",
      "  [0.         0.         0.         0.         0.         0.\n",
      "   0.         0.        ]\n",
      "  [0.         0.         0.         0.         0.         0.\n",
      "   0.         0.        ]]]\n"
     ]
    }
   ],
   "source": [
    "print(norm_location[1000:1001].shape)\n",
    "print(norm_location[1000:1001])\n"
   ]
  },
  {
   "cell_type": "code",
   "execution_count": 150,
   "metadata": {},
   "outputs": [],
   "source": [
    "from keras.layers import GRU, Dense, Input, Conv2D, Reshape\n",
    "from keras.models import Model\n",
    "\n",
    "def SupervisedAutoEncoder():\n",
    "    # 이미지 입력\n",
    "    inputs_image = Input(shape=(24, 32, 1))\n",
    "\n",
    "    # Encoder 부분\n",
    "    x = Conv2D(filters=32, kernel_size=3, strides=2, padding='same', activation='relu')(inputs_image)\n",
    "    x = Conv2D(filters=64, kernel_size=3, strides=2, padding='same', activation='relu')(x)\n",
    "    x = Conv2D(filters=128, kernel_size=3, strides=2, padding='same', activation='relu')(x)\n",
    "    x = Flatten()(x)\n",
    "    latent_vector = Dense(units = 32)(x)\n",
    "\n",
    "    # Decoder 부분 (이미지 재구성)\n",
    "    x = Dense(3 * 4 * 128)(latent_vector)\n",
    "    x = Reshape(target_shape=(3, 4, 128))(x)\n",
    "    x = Conv2DTranspose(filters=128, kernel_size=3, strides=2, padding='same', activation='relu')(x)\n",
    "    x = Conv2DTranspose(filters=64, kernel_size=3, strides=2, padding='same', activation='relu')(x)\n",
    "    x = Conv2DTranspose(filters=32, kernel_size=3, strides=2, padding='same', activation='sigmoid')(x)\n",
    "    reconstructed_image = Conv2DTranspose(filters=1, kernel_size=3, padding='same', activation='sigmoid')(x)\n",
    "    \n",
    "    # 추가적인 출력 계층 (좌표 예측)\n",
    "    coords_output = Dense(4*8, activation='sigmoid')(latent_vector)  # 좌표값이 8개라고 가정\n",
    "    coords_output = Reshape((4, 8))(coords_output)  # 출력의 형태를 [batch_size, 4, 8]로 변환\n",
    "\n",
    "    return Model(inputs_image, [reconstructed_image, coords_output])\n",
    "\n",
    "def Sequence(SupervisedAutoEncoder):\n",
    "    reconstruction_input = Input(shape=(24, 32, 1))\n",
    "    coords_input = Input(shape=(4, 8))\n",
    "    x = model.layers[-1].output\n",
    "    x = Conv2D(32, (3, 3), activation='relu', padding='same')(reconstruction_input)\n",
    "    x = Conv2D(64, (3, 3), activation='relu', padding='same')(x)\n",
    "    x = Conv2D(64, (3, 3), strides=(4, 4), activation='relu', padding='same')(x) \n",
    "\n",
    "    x = Reshape((6, 8*64))(x)  # 6x(8*64) 형태로 변환\n",
    "\n",
    "    # coords_input의 정보를 압축하고 적절한 형태로 변환\n",
    "    compressed_coords = Dense(6*8, activation='relu')(Flatten()(coords_input))\n",
    "    reshaped_coords = Reshape((6, 8))(compressed_coords)\n",
    "    \n",
    "    x = concatenate([x, reshaped_coords], axis=-1)\n",
    "\n",
    "\n",
    "    # GRU 계층\n",
    "    x = GRU(64, return_sequences=True)(x)\n",
    "    x = GRU(64)(x)\n",
    "\n",
    "    # 사람 수 예측 계층\n",
    "    number_output = Dense(5, activation='softmax', name='number_output')(x)\n",
    "\n",
    "    # 좌표값 예측 계층 (32개의 값을 예측합니다. 4명 * 8개의 좌표값)\n",
    "    coords_output = Dense(4*8, activation='linear', name='coords_output')(x)\n",
    "\n",
    "\n",
    "    sequence_model = Model(inputs=[reconstruction_input, coords_input], outputs=[number_output, coords_output])\n",
    "    return sequence_model"
   ]
  },
  {
   "cell_type": "code",
   "execution_count": 151,
   "metadata": {},
   "outputs": [],
   "source": [
    "def IntegratedModel(SupervisedAutoEncoder, Sequence):\n",
    "    # 입력 이미지\n",
    "    input_image = Input(shape=(24, 32, 1))\n",
    "    \n",
    "    # SupervisedAutoEncoder를 통과\n",
    "    reconstructed_image, predicted_coords = SupervisedAutoEncoder(input_image)\n",
    "    \n",
    "    # Sequence 모델을 통과\n",
    "    number_output, coords_output = Sequence([reconstructed_image, predicted_coords])\n",
    "    \n",
    "    return Model(inputs=input_image, outputs=[number_output, coords_output])\n",
    "\n",
    "# 모델 생성\n",
    "supervised_autoEncoder = SupervisedAutoEncoder()\n",
    "sequence = Sequence(supervised_autoEncoder)\n",
    "integrated_model = IntegratedModel(supervised_autoEncoder, sequence)\n"
   ]
  },
  {
   "cell_type": "code",
   "execution_count": 155,
   "metadata": {},
   "outputs": [
    {
     "name": "stdout",
     "output_type": "stream",
     "text": [
      "Model: \"model_39\"\n",
      "__________________________________________________________________________________________________\n",
      " Layer (type)                Output Shape                 Param #   Connected to                  \n",
      "==================================================================================================\n",
      " input_52 (InputLayer)       [(None, 24, 32, 1)]          0         []                            \n",
      "                                                                                                  \n",
      " model_37 (Functional)       [(None, 24, 32, 1),          433729    ['input_52[0][0]']            \n",
      "                              (None, 4, 8)]                                                       \n",
      "                                                                                                  \n",
      " model_38 (Functional)       [(None, 5),                  197205    ['model_37[0][0]',            \n",
      "                              (None, 32)]                            'model_37[0][1]']            \n",
      "                                                                                                  \n",
      "==================================================================================================\n",
      "Total params: 630934 (2.41 MB)\n",
      "Trainable params: 630934 (2.41 MB)\n",
      "Non-trainable params: 0 (0.00 Byte)\n",
      "__________________________________________________________________________________________________\n",
      "Model: \"model_37\"\n",
      "__________________________________________________________________________________________________\n",
      " Layer (type)                Output Shape                 Param #   Connected to                  \n",
      "==================================================================================================\n",
      " input_49 (InputLayer)       [(None, 24, 32, 1)]          0         []                            \n",
      "                                                                                                  \n",
      " conv2d_111 (Conv2D)         (None, 12, 16, 32)           320       ['input_49[0][0]']            \n",
      "                                                                                                  \n",
      " conv2d_112 (Conv2D)         (None, 6, 8, 64)             18496     ['conv2d_111[0][0]']          \n",
      "                                                                                                  \n",
      " conv2d_113 (Conv2D)         (None, 3, 4, 128)            73856     ['conv2d_112[0][0]']          \n",
      "                                                                                                  \n",
      " flatten_34 (Flatten)        (None, 1536)                 0         ['conv2d_113[0][0]']          \n",
      "                                                                                                  \n",
      " dense_95 (Dense)            (None, 32)                   49184     ['flatten_34[0][0]']          \n",
      "                                                                                                  \n",
      " dense_96 (Dense)            (None, 1536)                 50688     ['dense_95[0][0]']            \n",
      "                                                                                                  \n",
      " reshape_68 (Reshape)        (None, 3, 4, 128)            0         ['dense_96[0][0]']            \n",
      "                                                                                                  \n",
      " conv2d_transpose_120 (Conv  (None, 6, 8, 128)            147584    ['reshape_68[0][0]']          \n",
      " 2DTranspose)                                                                                     \n",
      "                                                                                                  \n",
      " conv2d_transpose_121 (Conv  (None, 12, 16, 64)           73792     ['conv2d_transpose_120[0][0]']\n",
      " 2DTranspose)                                                                                     \n",
      "                                                                                                  \n",
      " conv2d_transpose_122 (Conv  (None, 24, 32, 32)           18464     ['conv2d_transpose_121[0][0]']\n",
      " 2DTranspose)                                                                                     \n",
      "                                                                                                  \n",
      " dense_97 (Dense)            (None, 32)                   1056      ['dense_95[0][0]']            \n",
      "                                                                                                  \n",
      " conv2d_transpose_123 (Conv  (None, 24, 32, 1)            289       ['conv2d_transpose_122[0][0]']\n",
      " 2DTranspose)                                                                                     \n",
      "                                                                                                  \n",
      " reshape_69 (Reshape)        (None, 4, 8)                 0         ['dense_97[0][0]']            \n",
      "                                                                                                  \n",
      "==================================================================================================\n",
      "Total params: 433729 (1.65 MB)\n",
      "Trainable params: 433729 (1.65 MB)\n",
      "Non-trainable params: 0 (0.00 Byte)\n",
      "__________________________________________________________________________________________________\n",
      "Model: \"model_38\"\n",
      "__________________________________________________________________________________________________\n",
      " Layer (type)                Output Shape                 Param #   Connected to                  \n",
      "==================================================================================================\n",
      " input_50 (InputLayer)       [(None, 24, 32, 1)]          0         []                            \n",
      "                                                                                                  \n",
      " conv2d_114 (Conv2D)         (None, 24, 32, 32)           320       ['input_50[0][0]']            \n",
      "                                                                                                  \n",
      " input_51 (InputLayer)       [(None, 4, 8)]               0         []                            \n",
      "                                                                                                  \n",
      " conv2d_115 (Conv2D)         (None, 24, 32, 64)           18496     ['conv2d_114[0][0]']          \n",
      "                                                                                                  \n",
      " flatten_35 (Flatten)        (None, 32)                   0         ['input_51[0][0]']            \n",
      "                                                                                                  \n",
      " conv2d_116 (Conv2D)         (None, 6, 8, 64)             36928     ['conv2d_115[0][0]']          \n",
      "                                                                                                  \n",
      " dense_98 (Dense)            (None, 48)                   1584      ['flatten_35[0][0]']          \n",
      "                                                                                                  \n",
      " reshape_70 (Reshape)        (None, 6, 512)               0         ['conv2d_116[0][0]']          \n",
      "                                                                                                  \n",
      " reshape_71 (Reshape)        (None, 6, 8)                 0         ['dense_98[0][0]']            \n",
      "                                                                                                  \n",
      " concatenate_6 (Concatenate  (None, 6, 520)               0         ['reshape_70[0][0]',          \n",
      " )                                                                   'reshape_71[0][0]']          \n",
      "                                                                                                  \n",
      " gru_8 (GRU)                 (None, 6, 64)                112512    ['concatenate_6[0][0]']       \n",
      "                                                                                                  \n",
      " gru_9 (GRU)                 (None, 64)                   24960     ['gru_8[0][0]']               \n",
      "                                                                                                  \n",
      " number_output (Dense)       (None, 5)                    325       ['gru_9[0][0]']               \n",
      "                                                                                                  \n",
      " coords_output (Dense)       (None, 32)                   2080      ['gru_9[0][0]']               \n",
      "                                                                                                  \n",
      "==================================================================================================\n",
      "Total params: 197205 (770.33 KB)\n",
      "Trainable params: 197205 (770.33 KB)\n",
      "Non-trainable params: 0 (0.00 Byte)\n",
      "__________________________________________________________________________________________________\n"
     ]
    }
   ],
   "source": [
    "integrated_model.summary()\n",
    "supervised_autoEncoder.summary()\n",
    "sequence.summary()"
   ]
  },
  {
   "cell_type": "code",
   "execution_count": 133,
   "metadata": {},
   "outputs": [
    {
     "name": "stdout",
     "output_type": "stream",
     "text": [
      "model_31/number_output/Softmax:0\n",
      "model_31/coords_output/BiasAdd:0\n"
     ]
    }
   ],
   "source": []
  },
  {
   "cell_type": "markdown",
   "metadata": {},
   "source": []
  },
  {
   "cell_type": "code",
   "execution_count": null,
   "metadata": {},
   "outputs": [],
   "source": []
  }
 ],
 "metadata": {
  "kernelspec": {
   "display_name": "api",
   "language": "python",
   "name": "python3"
  },
  "language_info": {
   "codemirror_mode": {
    "name": "ipython",
    "version": 3
   },
   "file_extension": ".py",
   "mimetype": "text/x-python",
   "name": "python",
   "nbconvert_exporter": "python",
   "pygments_lexer": "ipython3",
   "version": "3.8.18"
  }
 },
 "nbformat": 4,
 "nbformat_minor": 2
}
