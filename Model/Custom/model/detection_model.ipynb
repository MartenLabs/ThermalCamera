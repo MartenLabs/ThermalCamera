{
 "cells": [
  {
   "cell_type": "code",
   "execution_count": 1,
   "metadata": {},
   "outputs": [],
   "source": [
    "import tensorflow as tf\n",
    "from tensorflow import keras \n",
    "from skimage import color\n",
    "import numpy as np\n",
    "import matplotlib.pyplot as plt\n",
    "import seaborn as sns\n",
    "import warnings \n",
    "from IPython.display import Image\n",
    "\n",
    "warnings.filterwarnings('ignore')\n",
    "%matplotlib inline"
   ]
  },
  {
   "cell_type": "code",
   "execution_count": 2,
   "metadata": {},
   "outputs": [
    {
     "name": "stdout",
     "output_type": "stream",
     "text": [
      "(2203, 24, 32)\n",
      "(2203, 24, 32)\n",
      "(2203,)\n",
      "(2203, 4, 8)\n"
     ]
    }
   ],
   "source": [
    "\n",
    "dataset = np.load('/Users/mac/Dev/Project/ThermalCamera/Model/Custom/model/detection_dataset.npz')\n",
    "\n",
    "\n",
    "origin_images, target_images, number_labels, coordinates = dataset['images'], dataset['filters'], dataset['numbers'],  dataset['coordinates']\n",
    "\n",
    "\n",
    "print(origin_images.shape)\n",
    "print(target_images.shape)\n",
    "print(number_labels.shape)\n",
    "print(coordinates.shape)\n"
   ]
  },
  {
   "cell_type": "code",
   "execution_count": 3,
   "metadata": {},
   "outputs": [
    {
     "name": "stdout",
     "output_type": "stream",
     "text": [
      "(2203, 24, 32, 1)\n",
      "(2203, 24, 32, 1)\n"
     ]
    }
   ],
   "source": [
    "origin_images = origin_images.reshape(2203, 24, 32, 1)\n",
    "target_images = target_images.reshape(2203, 24, 32, 1)\n",
    "print(origin_images.shape)\n",
    "print(target_images.shape)"
   ]
  },
  {
   "cell_type": "code",
   "execution_count": 4,
   "metadata": {},
   "outputs": [
    {
     "name": "stdout",
     "output_type": "stream",
     "text": [
      "255 0\n",
      "255 0\n",
      "1.0 0.0\n",
      "1.0 0.0\n"
     ]
    }
   ],
   "source": [
    "print(origin_images.max(), origin_images.min())\n",
    "print(target_images.max(), target_images.min())\n",
    "\n",
    "origin_images = origin_images / origin_images.max()\n",
    "target_images = target_images / target_images.max()\n",
    "\n",
    "print(origin_images.max(), origin_images.min())\n",
    "print(target_images.max(), target_images.min())"
   ]
  },
  {
   "cell_type": "code",
   "execution_count": 5,
   "metadata": {},
   "outputs": [],
   "source": [
    "def normalize_coordinates(coords, width=32, height=24):\n",
    "    # Check the shape of the input coordinates\n",
    "    if coords.shape[-1] != 8:\n",
    "        raise ValueError(\"The last dimension of the input coordinates should be 8.\")\n",
    "\n",
    "    # Create a normalization array\n",
    "    normalization_factors = np.array([width, height, width, height, width, height, width, height])\n",
    "\n",
    "    # Normalize the coordinates\n",
    "    normalized_coords = coords / normalization_factors\n",
    "\n",
    "    return normalized_coords\n"
   ]
  },
  {
   "cell_type": "code",
   "execution_count": 6,
   "metadata": {},
   "outputs": [
    {
     "name": "stdout",
     "output_type": "stream",
     "text": [
      "(2203, 4, 8)\n"
     ]
    }
   ],
   "source": [
    "norm_location = normalize_coordinates(coordinates)\n",
    "print(norm_location.shape)\n",
    "\n",
    "from keras.utils import to_categorical\n",
    "\n",
    "trian_labels = to_categorical(number_labels, num_classes=5)"
   ]
  },
  {
   "cell_type": "code",
   "execution_count": 7,
   "metadata": {},
   "outputs": [
    {
     "name": "stdout",
     "output_type": "stream",
     "text": [
      "(5, 48, 32, 1)\n"
     ]
    },
    {
     "data": {
      "image/png": "[encoded data removed]",
      "text/plain": [
       "<Figure size 640x480 with 1 Axes>"
      ]
     },
     "metadata": {},
     "output_type": "display_data"
    },
    {
     "name": "stdout",
     "output_type": "stream",
     "text": [
      "[2 2 2 2 2]\n",
      "[[[0.375      0.         0.65625    0.         0.65625    0.25\n",
      "   0.375      0.25      ]\n",
      "  [0.8125     0.29166667 1.         0.29166667 1.         0.58333333\n",
      "   0.8125     0.58333333]\n",
      "  [0.         0.         0.         0.         0.         0.\n",
      "   0.         0.        ]\n",
      "  [0.         0.         0.         0.         0.         0.\n",
      "   0.         0.        ]]\n",
      "\n",
      " [[0.375      0.         0.625      0.         0.625      0.25\n",
      "   0.375      0.25      ]\n",
      "  [0.78125    0.29166667 1.         0.29166667 1.         0.58333333\n",
      "   0.78125    0.58333333]\n",
      "  [0.         0.         0.         0.         0.         0.\n",
      "   0.         0.        ]\n",
      "  [0.         0.         0.         0.         0.         0.\n",
      "   0.         0.        ]]\n",
      "\n",
      " [[0.375      0.         0.65625    0.         0.65625    0.25\n",
      "   0.375      0.25      ]\n",
      "  [0.8125     0.33333333 1.         0.33333333 1.         0.625\n",
      "   0.8125     0.625     ]\n",
      "  [0.         0.         0.         0.         0.         0.\n",
      "   0.         0.        ]\n",
      "  [0.         0.         0.         0.         0.         0.\n",
      "   0.         0.        ]]\n",
      "\n",
      " [[0.34375    0.         0.625      0.         0.625      0.25\n",
      "   0.34375    0.25      ]\n",
      "  [0.78125    0.33333333 1.         0.33333333 1.         0.625\n",
      "   0.78125    0.625     ]\n",
      "  [0.         0.         0.         0.         0.         0.\n",
      "   0.         0.        ]\n",
      "  [0.         0.         0.         0.         0.         0.\n",
      "   0.         0.        ]]\n",
      "\n",
      " [[0.34375    0.         0.59375    0.         0.59375    0.20833333\n",
      "   0.34375    0.20833333]\n",
      "  [0.78125    0.29166667 1.         0.29166667 1.         0.625\n",
      "   0.78125    0.625     ]\n",
      "  [0.         0.         0.         0.         0.         0.\n",
      "   0.         0.        ]\n",
      "  [0.         0.         0.         0.         0.         0.\n",
      "   0.         0.        ]]]\n"
     ]
    }
   ],
   "source": [
    "imgs = np.concatenate([origin_images[1000:1005], target_images[1000:1005]], axis = 1)\n",
    "print(imgs.shape)\n",
    "\n",
    "plt.imshow(imgs.transpose(1, 0, 2, 3).reshape(48, -1, 1), cmap = 'gray')\n",
    "plt.show()\n",
    "print(number_labels[1000:1005])\n",
    "\n",
    "print(norm_location[1000:1005])"
   ]
  },
  {
   "cell_type": "code",
   "execution_count": 47,
   "metadata": {},
   "outputs": [
    {
     "data": {
      "image/png": "[encoded data removed]",
      "text/plain": [
       "<Figure size 1200x900 with 1 Axes>"
      ]
     },
     "metadata": {},
     "output_type": "display_data"
    }
   ],
   "source": [
    "import matplotlib.pyplot as plt\n",
    "import matplotlib.patches as patches\n",
    "\n",
    "def draw_boxes_on_image(image, normalized_coords, width=32, height=24):\n",
    "\n",
    "    # Remove the first dimension from normalized_coords\n",
    "    normalized_coords = normalized_coords.squeeze()\n",
    "\n",
    "    # Denormalize the coordinates\n",
    "    denormalized_coords = normalized_coords * [width, height, width, height, width, height, width, height]\n",
    "\n",
    "    if image.ndim == 4:\n",
    "        image = image[0]\n",
    "\n",
    "    # Create a figure and axis\n",
    "    fig, ax = plt.subplots(1, figsize=(12, 9))\n",
    "    \n",
    "    # Display the image\n",
    "    ax.imshow(image[:, :, 0], cmap='gray')\n",
    "\n",
    "    # Loop over each set of coordinates and draw the bounding box\n",
    "    for coord in denormalized_coords:\n",
    "        # Extract coordinates for the bounding box\n",
    "        top_left_x, top_left_y, top_right_x, top_right_y, bottom_right_x, bottom_right_y, bottom_left_x, bottom_left_y = coord\n",
    "        \n",
    "        # Create a rectangle patch using top left and bottom right coordinates\n",
    "        rect = patches.Rectangle((top_left_x, top_left_y), bottom_right_x - top_left_x, bottom_right_y - top_left_y, linewidth=1, edgecolor='r', facecolor='none')\n",
    "        \n",
    "        # Add the patch to the axis\n",
    "        ax.add_patch(rect)\n",
    "\n",
    "    plt.show()\n",
    "\n",
    "\n",
    "\n",
    "\n",
    "\n",
    "draw_boxes_on_image(origin_images[1000:1001], norm_location[1000:1001])\n"
   ]
  },
  {
   "cell_type": "code",
   "execution_count": 9,
   "metadata": {},
   "outputs": [],
   "source": [
    "from keras.layers import Dense, Input, MaxPool2D, Conv2D, Conv2DTranspose, Flatten, Reshape, Activation\n",
    "from keras.layers import BatchNormalization, Dropout, Activation, concatenate\n",
    "from keras.models import Model\n",
    "\n",
    "def SupervisedAutoEncoder():\n",
    "    # 이미지 입력\n",
    "    inputs_image = Input(shape=(24, 32, 1))\n",
    "\n",
    "    # Encoder 부분\n",
    "    e1 = Conv2D(filters=32, kernel_size=3, strides=2, padding='same', activation='relu')(inputs_image)\n",
    "    e2 = Conv2D(filters=64, kernel_size=3, strides=2, padding='same', activation='relu')(e1)\n",
    "    e3 = Conv2D(filters=128, kernel_size=3, strides=2, padding='same', activation='relu')(e2)\n",
    "    e4 = Flatten()(e3)\n",
    "    latent_vector = Dense(units = 32)(e4)\n",
    "\n",
    "    # Decoder 부분 (이미지 재구성)\n",
    "    x = Dense(3 * 4 * 128)(latent_vector)\n",
    "    x = Reshape(target_shape=(3, 4, 128))(x)\n",
    "    d1 = Conv2DTranspose(filters=128, kernel_size=3, strides=2, padding='same', activation='relu')(x)\n",
    "    d2 = Conv2DTranspose(filters=64, kernel_size=3, strides=2, padding='same', activation='relu')(d1)\n",
    "    d3 = Conv2DTranspose(filters=32, kernel_size=3, strides=2, padding='same', activation='relu')(d2)\n",
    "    reconstructed_image = Conv2DTranspose(filters=1, kernel_size=3, padding='same', activation='sigmoid')(d3)\n",
    "    \n",
    "    # 추가적인 출력 계층 (좌표 예측)\n",
    "    # rec_img = Flatten()(c3)\n",
    "    coords_output = Dense(4*8, activation='tanh')(latent_vector)  # 좌표값이 8개라고 가정\n",
    "    coords_output = Reshape((4, 8))(coords_output)  # 출력의 형태를 [batch_size, 4, 8]로 변환\n",
    "\n",
    "    return Model(inputs_image, [reconstructed_image, coords_output])"
   ]
  },
  {
   "cell_type": "code",
   "execution_count": 10,
   "metadata": {},
   "outputs": [
    {
     "name": "stderr",
     "output_type": "stream",
     "text": [
      "2023-11-02 16:12:31.741830: I metal_plugin/src/device/metal_device.cc:1154] Metal device set to: Apple M1 Pro\n",
      "2023-11-02 16:12:31.741857: I metal_plugin/src/device/metal_device.cc:296] systemMemory: 32.00 GB\n",
      "2023-11-02 16:12:31.741862: I metal_plugin/src/device/metal_device.cc:313] maxCacheSize: 10.67 GB\n",
      "2023-11-02 16:12:31.741899: I tensorflow/core/common_runtime/pluggable_device/pluggable_device_factory.cc:303] Could not identify NUMA node of platform GPU ID 0, defaulting to 0. Your kernel may not have been built with NUMA support.\n",
      "2023-11-02 16:12:31.741916: I tensorflow/core/common_runtime/pluggable_device/pluggable_device_factory.cc:269] Created TensorFlow device (/job:localhost/replica:0/task:0/device:GPU:0 with 0 MB memory) -> physical PluggableDevice (device: 0, name: METAL, pci bus id: <undefined>)\n"
     ]
    },
    {
     "name": "stdout",
     "output_type": "stream",
     "text": [
      "Model: \"model\"\n",
      "__________________________________________________________________________________________________\n",
      " Layer (type)                Output Shape                 Param #   Connected to                  \n",
      "==================================================================================================\n",
      " input_1 (InputLayer)        [(None, 24, 32, 1)]          0         []                            \n",
      "                                                                                                  \n",
      " conv2d (Conv2D)             (None, 12, 16, 32)           320       ['input_1[0][0]']             \n",
      "                                                                                                  \n",
      " conv2d_1 (Conv2D)           (None, 6, 8, 64)             18496     ['conv2d[0][0]']              \n",
      "                                                                                                  \n",
      " conv2d_2 (Conv2D)           (None, 3, 4, 128)            73856     ['conv2d_1[0][0]']            \n",
      "                                                                                                  \n",
      " flatten (Flatten)           (None, 1536)                 0         ['conv2d_2[0][0]']            \n",
      "                                                                                                  \n",
      " dense (Dense)               (None, 32)                   49184     ['flatten[0][0]']             \n",
      "                                                                                                  \n",
      " dense_1 (Dense)             (None, 1536)                 50688     ['dense[0][0]']               \n",
      "                                                                                                  \n",
      " reshape (Reshape)           (None, 3, 4, 128)            0         ['dense_1[0][0]']             \n",
      "                                                                                                  \n",
      " conv2d_transpose (Conv2DTr  (None, 6, 8, 128)            147584    ['reshape[0][0]']             \n",
      " anspose)                                                                                         \n",
      "                                                                                                  \n",
      " conv2d_transpose_1 (Conv2D  (None, 12, 16, 64)           73792     ['conv2d_transpose[0][0]']    \n",
      " Transpose)                                                                                       \n",
      "                                                                                                  \n",
      " conv2d_transpose_2 (Conv2D  (None, 24, 32, 32)           18464     ['conv2d_transpose_1[0][0]']  \n",
      " Transpose)                                                                                       \n",
      "                                                                                                  \n",
      " dense_2 (Dense)             (None, 32)                   1056      ['dense[0][0]']               \n",
      "                                                                                                  \n",
      " conv2d_transpose_3 (Conv2D  (None, 24, 32, 1)            289       ['conv2d_transpose_2[0][0]']  \n",
      " Transpose)                                                                                       \n",
      "                                                                                                  \n",
      " reshape_1 (Reshape)         (None, 4, 8)                 0         ['dense_2[0][0]']             \n",
      "                                                                                                  \n",
      "==================================================================================================\n",
      "Total params: 433729 (1.65 MB)\n",
      "Trainable params: 433729 (1.65 MB)\n",
      "Non-trainable params: 0 (0.00 Byte)\n",
      "__________________________________________________________________________________________________\n"
     ]
    }
   ],
   "source": [
    "supervised_autoEncoder = SupervisedAutoEncoder()\n",
    "supervised_autoEncoder.summary()"
   ]
  },
  {
   "cell_type": "code",
   "execution_count": 11,
   "metadata": {},
   "outputs": [
    {
     "name": "stdout",
     "output_type": "stream",
     "text": [
      "Epoch 1/50\n"
     ]
    },
    {
     "name": "stderr",
     "output_type": "stream",
     "text": [
      "2023-11-02 16:12:32.636024: I tensorflow/core/grappler/optimizers/custom_graph_optimizer_registry.cc:114] Plugin optimizer for device_type GPU is enabled.\n"
     ]
    },
    {
     "name": "stdout",
     "output_type": "stream",
     "text": [
      "69/69 [==============================] - 2s 21ms/step - loss: 0.0674 - conv2d_transpose_3_loss: 0.0548 - reshape_1_loss: 0.1258 - conv2d_transpose_3_accuracy: 0.8307 - reshape_1_accuracy: 0.2007\n",
      "Epoch 2/50\n",
      "69/69 [==============================] - 1s 17ms/step - loss: 0.0280 - conv2d_transpose_3_loss: 0.0244 - reshape_1_loss: 0.0364 - conv2d_transpose_3_accuracy: 0.8341 - reshape_1_accuracy: 0.1919\n",
      "Epoch 3/50\n",
      "69/69 [==============================] - 1s 17ms/step - loss: 0.0176 - conv2d_transpose_3_loss: 0.0148 - reshape_1_loss: 0.0283 - conv2d_transpose_3_accuracy: 0.8341 - reshape_1_accuracy: 0.2229\n",
      "Epoch 4/50\n",
      "69/69 [==============================] - 1s 17ms/step - loss: 0.0105 - conv2d_transpose_3_loss: 0.0082 - reshape_1_loss: 0.0232 - conv2d_transpose_3_accuracy: 0.8341 - reshape_1_accuracy: 0.1885\n",
      "Epoch 5/50\n",
      "69/69 [==============================] - 1s 18ms/step - loss: 0.0079 - conv2d_transpose_3_loss: 0.0058 - reshape_1_loss: 0.0207 - conv2d_transpose_3_accuracy: 0.8342 - reshape_1_accuracy: 0.2084\n",
      "Epoch 6/50\n",
      "69/69 [==============================] - 1s 18ms/step - loss: 0.0059 - conv2d_transpose_3_loss: 0.0040 - reshape_1_loss: 0.0191 - conv2d_transpose_3_accuracy: 0.8344 - reshape_1_accuracy: 0.2090\n",
      "Epoch 7/50\n",
      "69/69 [==============================] - 1s 17ms/step - loss: 0.0051 - conv2d_transpose_3_loss: 0.0034 - reshape_1_loss: 0.0175 - conv2d_transpose_3_accuracy: 0.8345 - reshape_1_accuracy: 0.2369\n",
      "Epoch 8/50\n",
      "69/69 [==============================] - 1s 17ms/step - loss: 0.0046 - conv2d_transpose_3_loss: 0.0030 - reshape_1_loss: 0.0161 - conv2d_transpose_3_accuracy: 0.8345 - reshape_1_accuracy: 0.2421\n",
      "Epoch 9/50\n",
      "69/69 [==============================] - 1s 17ms/step - loss: 0.0042 - conv2d_transpose_3_loss: 0.0028 - reshape_1_loss: 0.0142 - conv2d_transpose_3_accuracy: 0.8345 - reshape_1_accuracy: 0.2404\n",
      "Epoch 10/50\n",
      "69/69 [==============================] - 1s 17ms/step - loss: 0.0038 - conv2d_transpose_3_loss: 0.0026 - reshape_1_loss: 0.0125 - conv2d_transpose_3_accuracy: 0.8345 - reshape_1_accuracy: 0.2268\n",
      "Epoch 11/50\n",
      "69/69 [==============================] - 1s 17ms/step - loss: 0.0036 - conv2d_transpose_3_loss: 0.0025 - reshape_1_loss: 0.0112 - conv2d_transpose_3_accuracy: 0.8345 - reshape_1_accuracy: 0.2098\n",
      "Epoch 12/50\n",
      "69/69 [==============================] - 1s 17ms/step - loss: 0.0034 - conv2d_transpose_3_loss: 0.0024 - reshape_1_loss: 0.0102 - conv2d_transpose_3_accuracy: 0.8345 - reshape_1_accuracy: 0.2000\n",
      "Epoch 13/50\n",
      "69/69 [==============================] - 1s 18ms/step - loss: 0.0032 - conv2d_transpose_3_loss: 0.0023 - reshape_1_loss: 0.0095 - conv2d_transpose_3_accuracy: 0.8345 - reshape_1_accuracy: 0.1904\n",
      "Epoch 14/50\n",
      "69/69 [==============================] - 1s 18ms/step - loss: 0.0031 - conv2d_transpose_3_loss: 0.0022 - reshape_1_loss: 0.0087 - conv2d_transpose_3_accuracy: 0.8345 - reshape_1_accuracy: 0.1938\n",
      "Epoch 15/50\n",
      "69/69 [==============================] - 1s 18ms/step - loss: 0.0031 - conv2d_transpose_3_loss: 0.0023 - reshape_1_loss: 0.0086 - conv2d_transpose_3_accuracy: 0.8345 - reshape_1_accuracy: 0.1939\n",
      "Epoch 16/50\n",
      "69/69 [==============================] - 1s 17ms/step - loss: 0.0029 - conv2d_transpose_3_loss: 0.0021 - reshape_1_loss: 0.0080 - conv2d_transpose_3_accuracy: 0.8345 - reshape_1_accuracy: 0.1972\n",
      "Epoch 17/50\n",
      "69/69 [==============================] - 1s 18ms/step - loss: 0.0028 - conv2d_transpose_3_loss: 0.0021 - reshape_1_loss: 0.0077 - conv2d_transpose_3_accuracy: 0.8345 - reshape_1_accuracy: 0.1978\n",
      "Epoch 18/50\n",
      "69/69 [==============================] - 1s 18ms/step - loss: 0.0027 - conv2d_transpose_3_loss: 0.0020 - reshape_1_loss: 0.0074 - conv2d_transpose_3_accuracy: 0.8345 - reshape_1_accuracy: 0.1989\n",
      "Epoch 19/50\n",
      "69/69 [==============================] - 1s 18ms/step - loss: 0.0027 - conv2d_transpose_3_loss: 0.0020 - reshape_1_loss: 0.0072 - conv2d_transpose_3_accuracy: 0.8345 - reshape_1_accuracy: 0.1992\n",
      "Epoch 20/50\n",
      "69/69 [==============================] - 1s 18ms/step - loss: 0.0026 - conv2d_transpose_3_loss: 0.0019 - reshape_1_loss: 0.0067 - conv2d_transpose_3_accuracy: 0.8345 - reshape_1_accuracy: 0.1976\n",
      "Epoch 21/50\n",
      "69/69 [==============================] - 1s 17ms/step - loss: 0.0025 - conv2d_transpose_3_loss: 0.0019 - reshape_1_loss: 0.0065 - conv2d_transpose_3_accuracy: 0.8345 - reshape_1_accuracy: 0.1972\n",
      "Epoch 22/50\n",
      "69/69 [==============================] - 1s 17ms/step - loss: 0.0025 - conv2d_transpose_3_loss: 0.0019 - reshape_1_loss: 0.0062 - conv2d_transpose_3_accuracy: 0.8345 - reshape_1_accuracy: 0.2019\n",
      "Epoch 23/50\n",
      "69/69 [==============================] - 1s 17ms/step - loss: 0.0025 - conv2d_transpose_3_loss: 0.0019 - reshape_1_loss: 0.0060 - conv2d_transpose_3_accuracy: 0.8345 - reshape_1_accuracy: 0.2005\n",
      "Epoch 24/50\n",
      "69/69 [==============================] - 1s 17ms/step - loss: 0.0024 - conv2d_transpose_3_loss: 0.0018 - reshape_1_loss: 0.0058 - conv2d_transpose_3_accuracy: 0.8345 - reshape_1_accuracy: 0.2019\n",
      "Epoch 25/50\n",
      "69/69 [==============================] - 1s 16ms/step - loss: 0.0024 - conv2d_transpose_3_loss: 0.0018 - reshape_1_loss: 0.0056 - conv2d_transpose_3_accuracy: 0.8345 - reshape_1_accuracy: 0.2105\n",
      "Epoch 26/50\n",
      "69/69 [==============================] - 1s 17ms/step - loss: 0.0023 - conv2d_transpose_3_loss: 0.0018 - reshape_1_loss: 0.0055 - conv2d_transpose_3_accuracy: 0.8345 - reshape_1_accuracy: 0.2163\n",
      "Epoch 27/50\n",
      "69/69 [==============================] - 1s 17ms/step - loss: 0.0023 - conv2d_transpose_3_loss: 0.0018 - reshape_1_loss: 0.0054 - conv2d_transpose_3_accuracy: 0.8345 - reshape_1_accuracy: 0.2138\n",
      "Epoch 28/50\n",
      "69/69 [==============================] - 1s 17ms/step - loss: 0.0022 - conv2d_transpose_3_loss: 0.0017 - reshape_1_loss: 0.0052 - conv2d_transpose_3_accuracy: 0.8345 - reshape_1_accuracy: 0.2155\n",
      "Epoch 29/50\n",
      "69/69 [==============================] - 1s 17ms/step - loss: 0.0022 - conv2d_transpose_3_loss: 0.0017 - reshape_1_loss: 0.0049 - conv2d_transpose_3_accuracy: 0.8346 - reshape_1_accuracy: 0.2217\n",
      "Epoch 30/50\n",
      "69/69 [==============================] - 1s 17ms/step - loss: 0.0021 - conv2d_transpose_3_loss: 0.0017 - reshape_1_loss: 0.0048 - conv2d_transpose_3_accuracy: 0.8345 - reshape_1_accuracy: 0.2263\n",
      "Epoch 31/50\n",
      "69/69 [==============================] - 1s 17ms/step - loss: 0.0021 - conv2d_transpose_3_loss: 0.0017 - reshape_1_loss: 0.0047 - conv2d_transpose_3_accuracy: 0.8346 - reshape_1_accuracy: 0.2212\n",
      "Epoch 32/50\n",
      "69/69 [==============================] - 1s 16ms/step - loss: 0.0021 - conv2d_transpose_3_loss: 0.0017 - reshape_1_loss: 0.0045 - conv2d_transpose_3_accuracy: 0.8345 - reshape_1_accuracy: 0.2279\n",
      "Epoch 33/50\n",
      "69/69 [==============================] - 1s 17ms/step - loss: 0.0021 - conv2d_transpose_3_loss: 0.0016 - reshape_1_loss: 0.0044 - conv2d_transpose_3_accuracy: 0.8345 - reshape_1_accuracy: 0.2254\n",
      "Epoch 34/50\n",
      "69/69 [==============================] - 1s 17ms/step - loss: 0.0021 - conv2d_transpose_3_loss: 0.0016 - reshape_1_loss: 0.0042 - conv2d_transpose_3_accuracy: 0.8346 - reshape_1_accuracy: 0.2400\n",
      "Epoch 35/50\n",
      "69/69 [==============================] - 1s 17ms/step - loss: 0.0020 - conv2d_transpose_3_loss: 0.0016 - reshape_1_loss: 0.0040 - conv2d_transpose_3_accuracy: 0.8346 - reshape_1_accuracy: 0.2270\n",
      "Epoch 36/50\n",
      "69/69 [==============================] - 1s 17ms/step - loss: 0.0020 - conv2d_transpose_3_loss: 0.0016 - reshape_1_loss: 0.0039 - conv2d_transpose_3_accuracy: 0.8346 - reshape_1_accuracy: 0.2419\n",
      "Epoch 37/50\n",
      "69/69 [==============================] - 1s 17ms/step - loss: 0.0019 - conv2d_transpose_3_loss: 0.0016 - reshape_1_loss: 0.0039 - conv2d_transpose_3_accuracy: 0.8346 - reshape_1_accuracy: 0.2411\n",
      "Epoch 38/50\n",
      "69/69 [==============================] - 1s 17ms/step - loss: 0.0019 - conv2d_transpose_3_loss: 0.0015 - reshape_1_loss: 0.0037 - conv2d_transpose_3_accuracy: 0.8346 - reshape_1_accuracy: 0.2381\n",
      "Epoch 39/50\n",
      "69/69 [==============================] - 1s 17ms/step - loss: 0.0019 - conv2d_transpose_3_loss: 0.0015 - reshape_1_loss: 0.0036 - conv2d_transpose_3_accuracy: 0.8346 - reshape_1_accuracy: 0.2431\n",
      "Epoch 40/50\n",
      "69/69 [==============================] - 1s 17ms/step - loss: 0.0019 - conv2d_transpose_3_loss: 0.0015 - reshape_1_loss: 0.0035 - conv2d_transpose_3_accuracy: 0.8346 - reshape_1_accuracy: 0.2482\n",
      "Epoch 41/50\n",
      "69/69 [==============================] - 1s 17ms/step - loss: 0.0018 - conv2d_transpose_3_loss: 0.0015 - reshape_1_loss: 0.0034 - conv2d_transpose_3_accuracy: 0.8346 - reshape_1_accuracy: 0.2407\n",
      "Epoch 42/50\n",
      "69/69 [==============================] - 1s 16ms/step - loss: 0.0018 - conv2d_transpose_3_loss: 0.0015 - reshape_1_loss: 0.0033 - conv2d_transpose_3_accuracy: 0.8346 - reshape_1_accuracy: 0.2459\n",
      "Epoch 43/50\n",
      "69/69 [==============================] - 1s 17ms/step - loss: 0.0018 - conv2d_transpose_3_loss: 0.0015 - reshape_1_loss: 0.0031 - conv2d_transpose_3_accuracy: 0.8346 - reshape_1_accuracy: 0.2500\n",
      "Epoch 44/50\n",
      "69/69 [==============================] - 1s 17ms/step - loss: 0.0018 - conv2d_transpose_3_loss: 0.0015 - reshape_1_loss: 0.0031 - conv2d_transpose_3_accuracy: 0.8346 - reshape_1_accuracy: 0.2453\n",
      "Epoch 45/50\n",
      "69/69 [==============================] - 1s 17ms/step - loss: 0.0017 - conv2d_transpose_3_loss: 0.0015 - reshape_1_loss: 0.0029 - conv2d_transpose_3_accuracy: 0.8346 - reshape_1_accuracy: 0.2523\n",
      "Epoch 46/50\n",
      "69/69 [==============================] - 1s 17ms/step - loss: 0.0017 - conv2d_transpose_3_loss: 0.0014 - reshape_1_loss: 0.0028 - conv2d_transpose_3_accuracy: 0.8346 - reshape_1_accuracy: 0.2433\n",
      "Epoch 47/50\n",
      "69/69 [==============================] - 1s 17ms/step - loss: 0.0017 - conv2d_transpose_3_loss: 0.0014 - reshape_1_loss: 0.0028 - conv2d_transpose_3_accuracy: 0.8346 - reshape_1_accuracy: 0.2554\n",
      "Epoch 48/50\n",
      "69/69 [==============================] - 1s 17ms/step - loss: 0.0017 - conv2d_transpose_3_loss: 0.0014 - reshape_1_loss: 0.0027 - conv2d_transpose_3_accuracy: 0.8346 - reshape_1_accuracy: 0.2542\n",
      "Epoch 49/50\n",
      "69/69 [==============================] - 1s 17ms/step - loss: 0.0016 - conv2d_transpose_3_loss: 0.0014 - reshape_1_loss: 0.0025 - conv2d_transpose_3_accuracy: 0.8346 - reshape_1_accuracy: 0.2584\n",
      "Epoch 50/50\n",
      "69/69 [==============================] - 1s 17ms/step - loss: 0.0016 - conv2d_transpose_3_loss: 0.0014 - reshape_1_loss: 0.0025 - conv2d_transpose_3_accuracy: 0.8346 - reshape_1_accuracy: 0.2621\n"
     ]
    }
   ],
   "source": [
    "supervised_autoEncoder.compile(optimizer='adam', \n",
    "              loss=['mse', 'mse'], \n",
    "              loss_weights=[1, 0.1],\n",
    "              metrics = ['accuracy']\n",
    "              )  # 재구성 손실과 좌표 손실을 조절하기 위해 loss_weights 사용\n",
    "\n",
    "hist = supervised_autoEncoder.fit(\n",
    "    origin_images, [target_images, norm_location], \n",
    "    epochs=50,\n",
    "    verbose = 1\n",
    ")"
   ]
  },
  {
   "cell_type": "code",
   "execution_count": 48,
   "metadata": {},
   "outputs": [
    {
     "name": "stdout",
     "output_type": "stream",
     "text": [
      "1/1 [==============================] - 0s 17ms/step\n"
     ]
    },
    {
     "data": {
      "image/png": "[encoded data removed]",
      "text/plain": [
       "<Figure size 1200x900 with 1 Axes>"
      ]
     },
     "metadata": {},
     "output_type": "display_data"
    }
   ],
   "source": [
    "res = supervised_autoEncoder.predict(origin_images[110:111])\n",
    "# images = np.concatenate([origin_images[110:115],  target_images[110:115], res[0][:6]], axis = 1).transpose(1, 0, 2, 3).reshape(72, -1, 1)\n",
    "\n",
    "# plt.imshow(images, cmap='gray')\n",
    "# plt.show()\n",
    "\n",
    "# print(res[1][:6])\n",
    "# print(res[1][:6])\n",
    "\n",
    "draw_boxes_on_image(origin_images[110:111], res[1][:])"
   ]
  },
  {
   "cell_type": "code",
   "execution_count": null,
   "metadata": {},
   "outputs": [],
   "source": []
  },
  {
   "cell_type": "code",
   "execution_count": 13,
   "metadata": {},
   "outputs": [],
   "source": [
    "from keras.layers import GRU, Dense, Input, Conv2D, Reshape\n",
    "from keras.models import Model\n",
    "\n",
    "def Sequence():\n",
    "    supervised_autoEncoder.trainable = False\n",
    "    reconstruction_input = supervised_autoEncoder.layers[-2].output\n",
    "    coords_input = supervised_autoEncoder.layers[-1].output\n",
    "\n",
    "    x = Conv2D(32, (3, 3), activation='relu', padding='same')(reconstruction_input)\n",
    "    x = Conv2D(64, (3, 3), activation='relu', padding='same')(x)\n",
    "    x = Conv2D(64, (3, 3), strides=(4, 4), activation='relu', padding='same')(x) \n",
    "\n",
    "    x = Reshape((6, 8*64))(x)  # 6x(8*64) 형태로 변환\n",
    "\n",
    "    # coords_input의 정보를 압축하고 적절한 형태로 변환\n",
    "    compressed_coords = Dense(6*8, activation='relu')(Flatten()(coords_input))\n",
    "    reshaped_coords = Reshape((6, 8))(compressed_coords)\n",
    "    \n",
    "    x = concatenate([x, reshaped_coords], axis=-1)\n",
    "\n",
    "    # GRU 계층\n",
    "    x = GRU(64, return_sequences=True)(x)\n",
    "    x = GRU(64)(x)\n",
    "\n",
    "    # 사람 수 예측 계층\n",
    "    number_output = Dense(5, activation='softmax', name='number_output')(x)\n",
    "\n",
    "    # 좌표값 예측 계층 (32개의 값을 예측합니다. 4명 * 8개의 좌표값)\n",
    "    coords_output = Dense(4*8, activation='tanh', name='coords_output')(x)\n",
    "    coords_output =  Reshape((4, 8))(coords_output)\n",
    "\n",
    "\n",
    "    sequence_model = Model(inputs=supervised_autoEncoder.input, outputs=[number_output, coords_output])\n",
    "    return sequence_model"
   ]
  },
  {
   "cell_type": "code",
   "execution_count": 2,
   "metadata": {},
   "outputs": [
    {
     "name": "stdout",
     "output_type": "stream",
     "text": [
      "나는 함수이다.\n"
     ]
    }
   ],
   "source": [
    "class 나는_클래스이다:\n",
    "    def 나는_함수이다():\n",
    "        print(\"나는 함수이다.\")\n",
    "\n",
    "나는_클래스이다.나는_함수이다()"
   ]
  },
  {
   "cell_type": "code",
   "execution_count": 14,
   "metadata": {},
   "outputs": [
    {
     "name": "stdout",
     "output_type": "stream",
     "text": [
      "Model: \"model_1\"\n",
      "__________________________________________________________________________________________________\n",
      " Layer (type)                Output Shape                 Param #   Connected to                  \n",
      "==================================================================================================\n",
      " input_1 (InputLayer)        [(None, 24, 32, 1)]          0         []                            \n",
      "                                                                                                  \n",
      " conv2d (Conv2D)             (None, 12, 16, 32)           320       ['input_1[0][0]']             \n",
      "                                                                                                  \n",
      " conv2d_1 (Conv2D)           (None, 6, 8, 64)             18496     ['conv2d[0][0]']              \n",
      "                                                                                                  \n",
      " conv2d_2 (Conv2D)           (None, 3, 4, 128)            73856     ['conv2d_1[0][0]']            \n",
      "                                                                                                  \n",
      " flatten (Flatten)           (None, 1536)                 0         ['conv2d_2[0][0]']            \n",
      "                                                                                                  \n",
      " dense (Dense)               (None, 32)                   49184     ['flatten[0][0]']             \n",
      "                                                                                                  \n",
      " dense_1 (Dense)             (None, 1536)                 50688     ['dense[0][0]']               \n",
      "                                                                                                  \n",
      " reshape (Reshape)           (None, 3, 4, 128)            0         ['dense_1[0][0]']             \n",
      "                                                                                                  \n",
      " conv2d_transpose (Conv2DTr  (None, 6, 8, 128)            147584    ['reshape[0][0]']             \n",
      " anspose)                                                                                         \n",
      "                                                                                                  \n",
      " conv2d_transpose_1 (Conv2D  (None, 12, 16, 64)           73792     ['conv2d_transpose[0][0]']    \n",
      " Transpose)                                                                                       \n",
      "                                                                                                  \n",
      " conv2d_transpose_2 (Conv2D  (None, 24, 32, 32)           18464     ['conv2d_transpose_1[0][0]']  \n",
      " Transpose)                                                                                       \n",
      "                                                                                                  \n",
      " conv2d_transpose_3 (Conv2D  (None, 24, 32, 1)            289       ['conv2d_transpose_2[0][0]']  \n",
      " Transpose)                                                                                       \n",
      "                                                                                                  \n",
      " dense_2 (Dense)             (None, 32)                   1056      ['dense[0][0]']               \n",
      "                                                                                                  \n",
      " conv2d_3 (Conv2D)           (None, 24, 32, 32)           320       ['conv2d_transpose_3[0][0]']  \n",
      "                                                                                                  \n",
      " reshape_1 (Reshape)         (None, 4, 8)                 0         ['dense_2[0][0]']             \n",
      "                                                                                                  \n",
      " conv2d_4 (Conv2D)           (None, 24, 32, 64)           18496     ['conv2d_3[0][0]']            \n",
      "                                                                                                  \n",
      " flatten_1 (Flatten)         (None, 32)                   0         ['reshape_1[0][0]']           \n",
      "                                                                                                  \n",
      " conv2d_5 (Conv2D)           (None, 6, 8, 64)             36928     ['conv2d_4[0][0]']            \n",
      "                                                                                                  \n",
      " dense_3 (Dense)             (None, 48)                   1584      ['flatten_1[0][0]']           \n",
      "                                                                                                  \n",
      " reshape_2 (Reshape)         (None, 6, 512)               0         ['conv2d_5[0][0]']            \n",
      "                                                                                                  \n",
      " reshape_3 (Reshape)         (None, 6, 8)                 0         ['dense_3[0][0]']             \n",
      "                                                                                                  \n",
      " concatenate (Concatenate)   (None, 6, 520)               0         ['reshape_2[0][0]',           \n",
      "                                                                     'reshape_3[0][0]']           \n",
      "                                                                                                  \n",
      " gru (GRU)                   (None, 6, 64)                112512    ['concatenate[0][0]']         \n",
      "                                                                                                  \n",
      " gru_1 (GRU)                 (None, 64)                   24960     ['gru[0][0]']                 \n",
      "                                                                                                  \n",
      " coords_output (Dense)       (None, 32)                   2080      ['gru_1[0][0]']               \n",
      "                                                                                                  \n",
      " number_output (Dense)       (None, 5)                    325       ['gru_1[0][0]']               \n",
      "                                                                                                  \n",
      " reshape_4 (Reshape)         (None, 4, 8)                 0         ['coords_output[0][0]']       \n",
      "                                                                                                  \n",
      "==================================================================================================\n",
      "Total params: 630934 (2.41 MB)\n",
      "Trainable params: 197205 (770.33 KB)\n",
      "Non-trainable params: 433729 (1.65 MB)\n",
      "__________________________________________________________________________________________________\n"
     ]
    }
   ],
   "source": [
    "model = Sequence()\n",
    "model.summary()"
   ]
  },
  {
   "cell_type": "code",
   "execution_count": 15,
   "metadata": {},
   "outputs": [
    {
     "name": "stdout",
     "output_type": "stream",
     "text": [
      "Epoch 1/50\n"
     ]
    },
    {
     "name": "stderr",
     "output_type": "stream",
     "text": [
      "2023-11-02 16:13:34.713237: I tensorflow/core/grappler/optimizers/custom_graph_optimizer_registry.cc:114] Plugin optimizer for device_type GPU is enabled.\n",
      "2023-11-02 16:13:35.079898: I tensorflow/core/grappler/optimizers/custom_graph_optimizer_registry.cc:114] Plugin optimizer for device_type GPU is enabled.\n",
      "2023-11-02 16:13:35.140966: I tensorflow/core/grappler/optimizers/custom_graph_optimizer_registry.cc:114] Plugin optimizer for device_type GPU is enabled.\n",
      "2023-11-02 16:13:35.334681: I tensorflow/core/grappler/optimizers/custom_graph_optimizer_registry.cc:114] Plugin optimizer for device_type GPU is enabled.\n",
      "2023-11-02 16:13:35.456382: I tensorflow/core/grappler/optimizers/custom_graph_optimizer_registry.cc:114] Plugin optimizer for device_type GPU is enabled.\n"
     ]
    },
    {
     "name": "stdout",
     "output_type": "stream",
     "text": [
      "69/69 [==============================] - 5s 34ms/step - loss: 0.6259 - number_output_loss: 0.6161 - reshape_4_loss: 0.0977 - number_output_accuracy: 0.7626 - reshape_4_accuracy: 0.1521\n",
      "Epoch 2/50\n",
      "69/69 [==============================] - 2s 29ms/step - loss: 0.1328 - number_output_loss: 0.1305 - reshape_4_loss: 0.0228 - number_output_accuracy: 0.9750 - reshape_4_accuracy: 0.2526\n",
      "Epoch 3/50\n",
      "69/69 [==============================] - 2s 29ms/step - loss: 0.0173 - number_output_loss: 0.0155 - reshape_4_loss: 0.0183 - number_output_accuracy: 0.9977 - reshape_4_accuracy: 0.2738\n",
      "Epoch 4/50\n",
      "69/69 [==============================] - 2s 29ms/step - loss: 0.0104 - number_output_loss: 0.0087 - reshape_4_loss: 0.0174 - number_output_accuracy: 0.9977 - reshape_4_accuracy: 0.2619\n",
      "Epoch 5/50\n",
      "69/69 [==============================] - 2s 30ms/step - loss: 0.0087 - number_output_loss: 0.0072 - reshape_4_loss: 0.0152 - number_output_accuracy: 0.9982 - reshape_4_accuracy: 0.2981\n",
      "Epoch 6/50\n",
      "69/69 [==============================] - 2s 29ms/step - loss: 0.0052 - number_output_loss: 0.0039 - reshape_4_loss: 0.0130 - number_output_accuracy: 0.9995 - reshape_4_accuracy: 0.2823\n",
      "Epoch 7/50\n",
      "69/69 [==============================] - 2s 28ms/step - loss: 0.0037 - number_output_loss: 0.0026 - reshape_4_loss: 0.0113 - number_output_accuracy: 0.9995 - reshape_4_accuracy: 0.2989\n",
      "Epoch 8/50\n",
      "69/69 [==============================] - 2s 27ms/step - loss: 0.0035 - number_output_loss: 0.0025 - reshape_4_loss: 0.0101 - number_output_accuracy: 0.9991 - reshape_4_accuracy: 0.2806\n",
      "Epoch 9/50\n",
      "69/69 [==============================] - 2s 27ms/step - loss: 0.0032 - number_output_loss: 0.0023 - reshape_4_loss: 0.0090 - number_output_accuracy: 0.9991 - reshape_4_accuracy: 0.2860\n",
      "Epoch 10/50\n",
      "69/69 [==============================] - 2s 28ms/step - loss: 0.0017 - number_output_loss: 8.6819e-04 - reshape_4_loss: 0.0083 - number_output_accuracy: 1.0000 - reshape_4_accuracy: 0.2754\n",
      "Epoch 11/50\n",
      "69/69 [==============================] - 2s 28ms/step - loss: 0.0019 - number_output_loss: 0.0011 - reshape_4_loss: 0.0078 - number_output_accuracy: 0.9995 - reshape_4_accuracy: 0.2490\n",
      "Epoch 12/50\n",
      "69/69 [==============================] - 2s 28ms/step - loss: 0.0015 - number_output_loss: 7.3533e-04 - reshape_4_loss: 0.0075 - number_output_accuracy: 1.0000 - reshape_4_accuracy: 0.2272\n",
      "Epoch 13/50\n",
      "69/69 [==============================] - 2s 28ms/step - loss: 0.0024 - number_output_loss: 0.0017 - reshape_4_loss: 0.0071 - number_output_accuracy: 0.9995 - reshape_4_accuracy: 0.2185\n",
      "Epoch 14/50\n",
      "69/69 [==============================] - 2s 27ms/step - loss: 0.0021 - number_output_loss: 0.0014 - reshape_4_loss: 0.0073 - number_output_accuracy: 0.9995 - reshape_4_accuracy: 0.1925\n",
      "Epoch 15/50\n",
      "69/69 [==============================] - 2s 28ms/step - loss: 0.0041 - number_output_loss: 0.0034 - reshape_4_loss: 0.0072 - number_output_accuracy: 0.9982 - reshape_4_accuracy: 0.1900\n",
      "Epoch 16/50\n",
      "69/69 [==============================] - 2s 27ms/step - loss: 0.0012 - number_output_loss: 6.0648e-04 - reshape_4_loss: 0.0064 - number_output_accuracy: 1.0000 - reshape_4_accuracy: 0.1773\n",
      "Epoch 17/50\n",
      "69/69 [==============================] - 2s 27ms/step - loss: 9.7358e-04 - number_output_loss: 3.6357e-04 - reshape_4_loss: 0.0061 - number_output_accuracy: 1.0000 - reshape_4_accuracy: 0.1938\n",
      "Epoch 18/50\n",
      "69/69 [==============================] - 2s 27ms/step - loss: 9.8785e-04 - number_output_loss: 4.0615e-04 - reshape_4_loss: 0.0058 - number_output_accuracy: 1.0000 - reshape_4_accuracy: 0.2003\n",
      "Epoch 19/50\n",
      "69/69 [==============================] - 2s 27ms/step - loss: 9.1896e-04 - number_output_loss: 3.5026e-04 - reshape_4_loss: 0.0057 - number_output_accuracy: 1.0000 - reshape_4_accuracy: 0.2046\n",
      "Epoch 20/50\n",
      "69/69 [==============================] - 2s 27ms/step - loss: 8.6740e-04 - number_output_loss: 3.3460e-04 - reshape_4_loss: 0.0053 - number_output_accuracy: 1.0000 - reshape_4_accuracy: 0.2086\n",
      "Epoch 21/50\n",
      "69/69 [==============================] - 2s 27ms/step - loss: 7.2628e-04 - number_output_loss: 2.1337e-04 - reshape_4_loss: 0.0051 - number_output_accuracy: 1.0000 - reshape_4_accuracy: 0.2095\n",
      "Epoch 22/50\n",
      "69/69 [==============================] - 2s 27ms/step - loss: 6.5509e-04 - number_output_loss: 1.6309e-04 - reshape_4_loss: 0.0049 - number_output_accuracy: 1.0000 - reshape_4_accuracy: 0.2177\n",
      "Epoch 23/50\n",
      "69/69 [==============================] - 2s 27ms/step - loss: 6.3057e-04 - number_output_loss: 1.5447e-04 - reshape_4_loss: 0.0048 - number_output_accuracy: 1.0000 - reshape_4_accuracy: 0.2259\n",
      "Epoch 24/50\n",
      "69/69 [==============================] - 2s 27ms/step - loss: 5.8107e-04 - number_output_loss: 1.2312e-04 - reshape_4_loss: 0.0046 - number_output_accuracy: 1.0000 - reshape_4_accuracy: 0.2240\n",
      "Epoch 25/50\n",
      "69/69 [==============================] - 2s 27ms/step - loss: 5.4377e-04 - number_output_loss: 1.0390e-04 - reshape_4_loss: 0.0044 - number_output_accuracy: 1.0000 - reshape_4_accuracy: 0.2207\n",
      "Epoch 26/50\n",
      "69/69 [==============================] - 2s 27ms/step - loss: 5.2621e-04 - number_output_loss: 1.0267e-04 - reshape_4_loss: 0.0042 - number_output_accuracy: 1.0000 - reshape_4_accuracy: 0.2227\n",
      "Epoch 27/50\n",
      "69/69 [==============================] - 2s 27ms/step - loss: 5.0798e-04 - number_output_loss: 9.9122e-05 - reshape_4_loss: 0.0041 - number_output_accuracy: 1.0000 - reshape_4_accuracy: 0.2266\n",
      "Epoch 28/50\n",
      "69/69 [==============================] - 2s 27ms/step - loss: 4.8512e-04 - number_output_loss: 8.8587e-05 - reshape_4_loss: 0.0040 - number_output_accuracy: 1.0000 - reshape_4_accuracy: 0.2317\n",
      "Epoch 29/50\n",
      "69/69 [==============================] - 2s 27ms/step - loss: 4.7295e-04 - number_output_loss: 9.2963e-05 - reshape_4_loss: 0.0038 - number_output_accuracy: 1.0000 - reshape_4_accuracy: 0.2256\n",
      "Epoch 30/50\n",
      "69/69 [==============================] - 2s 27ms/step - loss: 4.4553e-04 - number_output_loss: 7.9155e-05 - reshape_4_loss: 0.0037 - number_output_accuracy: 1.0000 - reshape_4_accuracy: 0.2265\n",
      "Epoch 31/50\n",
      "69/69 [==============================] - 2s 27ms/step - loss: 4.2521e-04 - number_output_loss: 6.9162e-05 - reshape_4_loss: 0.0036 - number_output_accuracy: 1.0000 - reshape_4_accuracy: 0.2183\n",
      "Epoch 32/50\n",
      "69/69 [==============================] - 2s 27ms/step - loss: 4.1245e-04 - number_output_loss: 6.4227e-05 - reshape_4_loss: 0.0035 - number_output_accuracy: 1.0000 - reshape_4_accuracy: 0.2194\n",
      "Epoch 33/50\n",
      "69/69 [==============================] - 2s 27ms/step - loss: 3.9662e-04 - number_output_loss: 6.1819e-05 - reshape_4_loss: 0.0033 - number_output_accuracy: 1.0000 - reshape_4_accuracy: 0.2247\n",
      "Epoch 34/50\n",
      "69/69 [==============================] - 2s 27ms/step - loss: 3.8235e-04 - number_output_loss: 5.7103e-05 - reshape_4_loss: 0.0033 - number_output_accuracy: 1.0000 - reshape_4_accuracy: 0.2309\n",
      "Epoch 35/50\n",
      "69/69 [==============================] - 2s 27ms/step - loss: 3.7074e-04 - number_output_loss: 5.4756e-05 - reshape_4_loss: 0.0032 - number_output_accuracy: 1.0000 - reshape_4_accuracy: 0.2236\n",
      "Epoch 36/50\n",
      "69/69 [==============================] - 2s 27ms/step - loss: 3.5542e-04 - number_output_loss: 5.0071e-05 - reshape_4_loss: 0.0031 - number_output_accuracy: 1.0000 - reshape_4_accuracy: 0.2262\n",
      "Epoch 37/50\n",
      "69/69 [==============================] - 2s 27ms/step - loss: 3.4662e-04 - number_output_loss: 4.9378e-05 - reshape_4_loss: 0.0030 - number_output_accuracy: 1.0000 - reshape_4_accuracy: 0.2295\n",
      "Epoch 38/50\n",
      "69/69 [==============================] - 2s 27ms/step - loss: 3.3097e-04 - number_output_loss: 4.5626e-05 - reshape_4_loss: 0.0029 - number_output_accuracy: 1.0000 - reshape_4_accuracy: 0.2265\n",
      "Epoch 39/50\n",
      "69/69 [==============================] - 2s 27ms/step - loss: 3.1829e-04 - number_output_loss: 4.1752e-05 - reshape_4_loss: 0.0028 - number_output_accuracy: 1.0000 - reshape_4_accuracy: 0.2436\n",
      "Epoch 40/50\n",
      "69/69 [==============================] - 2s 27ms/step - loss: 3.0873e-04 - number_output_loss: 3.9836e-05 - reshape_4_loss: 0.0027 - number_output_accuracy: 1.0000 - reshape_4_accuracy: 0.2321\n",
      "Epoch 41/50\n",
      "69/69 [==============================] - 2s 27ms/step - loss: 3.0041e-04 - number_output_loss: 3.7631e-05 - reshape_4_loss: 0.0026 - number_output_accuracy: 1.0000 - reshape_4_accuracy: 0.2320\n",
      "Epoch 42/50\n",
      "69/69 [==============================] - 2s 27ms/step - loss: 2.9118e-04 - number_output_loss: 3.6468e-05 - reshape_4_loss: 0.0025 - number_output_accuracy: 1.0000 - reshape_4_accuracy: 0.2287\n",
      "Epoch 43/50\n",
      "69/69 [==============================] - 2s 27ms/step - loss: 2.8106e-04 - number_output_loss: 3.3936e-05 - reshape_4_loss: 0.0025 - number_output_accuracy: 1.0000 - reshape_4_accuracy: 0.2413\n",
      "Epoch 44/50\n",
      "69/69 [==============================] - 2s 27ms/step - loss: 2.7363e-04 - number_output_loss: 3.1986e-05 - reshape_4_loss: 0.0024 - number_output_accuracy: 1.0000 - reshape_4_accuracy: 0.2318\n",
      "Epoch 45/50\n",
      "69/69 [==============================] - 2s 27ms/step - loss: 2.6634e-04 - number_output_loss: 3.0388e-05 - reshape_4_loss: 0.0024 - number_output_accuracy: 1.0000 - reshape_4_accuracy: 0.2444\n",
      "Epoch 46/50\n",
      "69/69 [==============================] - 2s 27ms/step - loss: 2.5610e-04 - number_output_loss: 2.8274e-05 - reshape_4_loss: 0.0023 - number_output_accuracy: 1.0000 - reshape_4_accuracy: 0.2398\n",
      "Epoch 47/50\n",
      "69/69 [==============================] - 2s 27ms/step - loss: 2.5316e-04 - number_output_loss: 2.7271e-05 - reshape_4_loss: 0.0023 - number_output_accuracy: 1.0000 - reshape_4_accuracy: 0.2449\n",
      "Epoch 48/50\n",
      "69/69 [==============================] - 2s 27ms/step - loss: 2.4469e-04 - number_output_loss: 2.5385e-05 - reshape_4_loss: 0.0022 - number_output_accuracy: 1.0000 - reshape_4_accuracy: 0.2343\n",
      "Epoch 49/50\n",
      "69/69 [==============================] - 2s 27ms/step - loss: 2.3916e-04 - number_output_loss: 2.4767e-05 - reshape_4_loss: 0.0021 - number_output_accuracy: 1.0000 - reshape_4_accuracy: 0.2367\n",
      "Epoch 50/50\n",
      "69/69 [==============================] - 2s 27ms/step - loss: 2.3513e-04 - number_output_loss: 2.3449e-05 - reshape_4_loss: 0.0021 - number_output_accuracy: 1.0000 - reshape_4_accuracy: 0.2481\n"
     ]
    }
   ],
   "source": [
    "model.compile(optimizer='adam', \n",
    "              loss=['categorical_crossentropy', 'mse'], \n",
    "              loss_weights=[1, 0.1],\n",
    "              metrics = ['accuracy']\n",
    "              )  # 재구성 손실과 좌표 손실을 조절하기 위해 loss_weights 사용\n",
    "\n",
    "hist = model.fit(\n",
    "    origin_images, [trian_labels, norm_location], \n",
    "    epochs=50,\n",
    "    verbose = 1\n",
    ")"
   ]
  },
  {
   "cell_type": "code",
   "execution_count": 49,
   "metadata": {},
   "outputs": [
    {
     "name": "stdout",
     "output_type": "stream",
     "text": [
      "1/1 [==============================] - 0s 20ms/step\n"
     ]
    },
    {
     "name": "stdout",
     "output_type": "stream",
     "text": [
      "2\n"
     ]
    },
    {
     "data": {
      "image/png": "[encoded data removed]",
      "text/plain": [
       "<Figure size 1200x900 with 1 Axes>"
      ]
     },
     "metadata": {},
     "output_type": "display_data"
    }
   ],
   "source": [
    "res = model.predict(origin_images[2000:2001])\n",
    "# print(origin_images[2000:2001].shape)\n",
    "# images = np.concatenate([origin_images[110:115],  target_images[110:115], res[0][:6]], axis = 1).transpose(1, 0, 2, 3).reshape(72, -1, 1)\n",
    "\n",
    "# plt.imshow(images, cmap='gray')\n",
    "# plt.show()\n",
    "\n",
    "# print(res[1][:6])\n",
    "# print(res[1][:6])\n",
    "\n",
    "print(res[0].argmax())\n",
    "draw_boxes_on_image(origin_images[2000:2001], res[1][:])\n"
   ]
  },
  {
   "cell_type": "code",
   "execution_count": 82,
   "metadata": {},
   "outputs": [
    {
     "name": "stdout",
     "output_type": "stream",
     "text": [
      "1/1 [==============================] - 0s 36ms/step\n",
      "1/1 [==============================] - 0s 24ms/step\n",
      "1/1 [==============================] - 0s 17ms/step\n",
      "1/1 [==============================] - 0s 24ms/step\n",
      "1/1 [==============================] - 0s 20ms/step\n",
      "1/1 [==============================] - 0s 18ms/step\n",
      "1/1 [==============================] - 0s 18ms/step\n",
      "1/1 [==============================] - 0s 19ms/step\n",
      "1/1 [==============================] - 0s 24ms/step\n",
      "1/1 [==============================] - 0s 20ms/step\n",
      "1/1 [==============================] - 0s 19ms/step\n",
      "1/1 [==============================] - 0s 20ms/step\n",
      "1/1 [==============================] - 0s 20ms/step\n",
      "1/1 [==============================] - 0s 19ms/step\n",
      "1/1 [==============================] - 0s 18ms/step\n",
      "1/1 [==============================] - 0s 20ms/step\n",
      "1/1 [==============================] - 0s 18ms/step\n",
      "1/1 [==============================] - 0s 20ms/step\n",
      "1/1 [==============================] - 0s 19ms/step\n",
      "1/1 [==============================] - 0s 19ms/step\n",
      "1/1 [==============================] - 0s 18ms/step\n"
     ]
    },
    {
     "ename": "KeyboardInterrupt",
     "evalue": "",
     "output_type": "error",
     "traceback": [
      "\u001b[0;31m---------------------------------------------------------------------------\u001b[0m",
      "\u001b[0;31mKeyboardInterrupt\u001b[0m                         Traceback (most recent call last)",
      "\u001b[1;32m/Users/mac/Dev/Project/ThermalCamera/Model/Custom/model/detection_model.ipynb 셀 18\u001b[0m line \u001b[0;36m9\n\u001b[1;32m     <a href='vscode-notebook-cell:/Users/mac/Dev/Project/ThermalCamera/Model/Custom/model/detection_model.ipynb#X63sZmlsZQ%3D%3D?line=94'>95</a>\u001b[0m     \u001b[39mprint\u001b[39m(\u001b[39m\"\u001b[39m\u001b[39mVideo generated successfully.\u001b[39m\u001b[39m\"\u001b[39m)\n\u001b[1;32m     <a href='vscode-notebook-cell:/Users/mac/Dev/Project/ThermalCamera/Model/Custom/model/detection_model.ipynb#X63sZmlsZQ%3D%3D?line=96'>97</a>\u001b[0m \u001b[39mif\u001b[39;00m \u001b[39m__name__\u001b[39m \u001b[39m==\u001b[39m \u001b[39m\"\u001b[39m\u001b[39m__main__\u001b[39m\u001b[39m\"\u001b[39m:\n\u001b[0;32m---> <a href='vscode-notebook-cell:/Users/mac/Dev/Project/ThermalCamera/Model/Custom/model/detection_model.ipynb#X63sZmlsZQ%3D%3D?line=97'>98</a>\u001b[0m     generate_video_from_images()\n",
      "\u001b[1;32m/Users/mac/Dev/Project/ThermalCamera/Model/Custom/model/detection_model.ipynb 셀 18\u001b[0m line \u001b[0;36m7\n\u001b[1;32m     <a href='vscode-notebook-cell:/Users/mac/Dev/Project/ThermalCamera/Model/Custom/model/detection_model.ipynb#X63sZmlsZQ%3D%3D?line=76'>77</a>\u001b[0m img \u001b[39m=\u001b[39m img\u001b[39m.\u001b[39mreshape(\u001b[39m24\u001b[39m, \u001b[39m32\u001b[39m, \u001b[39m1\u001b[39m)\n\u001b[1;32m     <a href='vscode-notebook-cell:/Users/mac/Dev/Project/ThermalCamera/Model/Custom/model/detection_model.ipynb#X63sZmlsZQ%3D%3D?line=77'>78</a>\u001b[0m img_batch \u001b[39m=\u001b[39m np\u001b[39m.\u001b[39mexpand_dims(img, axis\u001b[39m=\u001b[39m\u001b[39m0\u001b[39m)\n\u001b[0;32m---> <a href='vscode-notebook-cell:/Users/mac/Dev/Project/ThermalCamera/Model/Custom/model/detection_model.ipynb#X63sZmlsZQ%3D%3D?line=78'>79</a>\u001b[0m res \u001b[39m=\u001b[39m model\u001b[39m.\u001b[39;49mpredict(img_batch \u001b[39m/\u001b[39;49m img_batch\u001b[39m.\u001b[39;49mmax())\n\u001b[1;32m     <a href='vscode-notebook-cell:/Users/mac/Dev/Project/ThermalCamera/Model/Custom/model/detection_model.ipynb#X63sZmlsZQ%3D%3D?line=80'>81</a>\u001b[0m \u001b[39m# 예측 한 이미지를 저장할 폴더\u001b[39;00m\n\u001b[1;32m     <a href='vscode-notebook-cell:/Users/mac/Dev/Project/ThermalCamera/Model/Custom/model/detection_model.ipynb#X63sZmlsZQ%3D%3D?line=81'>82</a>\u001b[0m output_folder \u001b[39m=\u001b[39m \u001b[39m\"\u001b[39m\u001b[39m/Users/mac/Dev/Project/ThermalCamera/Model/Custom/Datasets/Video/img2/\u001b[39m\u001b[39m\"\u001b[39m\n",
      "File \u001b[0;32m~/anaconda3/envs/api/lib/python3.8/site-packages/keras/src/utils/traceback_utils.py:65\u001b[0m, in \u001b[0;36mfilter_traceback.<locals>.error_handler\u001b[0;34m(*args, **kwargs)\u001b[0m\n\u001b[1;32m     63\u001b[0m filtered_tb \u001b[39m=\u001b[39m \u001b[39mNone\u001b[39;00m\n\u001b[1;32m     64\u001b[0m \u001b[39mtry\u001b[39;00m:\n\u001b[0;32m---> 65\u001b[0m     \u001b[39mreturn\u001b[39;00m fn(\u001b[39m*\u001b[39;49margs, \u001b[39m*\u001b[39;49m\u001b[39m*\u001b[39;49mkwargs)\n\u001b[1;32m     66\u001b[0m \u001b[39mexcept\u001b[39;00m \u001b[39mException\u001b[39;00m \u001b[39mas\u001b[39;00m e:\n\u001b[1;32m     67\u001b[0m     filtered_tb \u001b[39m=\u001b[39m _process_traceback_frames(e\u001b[39m.\u001b[39m__traceback__)\n",
      "File \u001b[0;32m~/anaconda3/envs/api/lib/python3.8/site-packages/keras/src/engine/training.py:2521\u001b[0m, in \u001b[0;36mModel.predict\u001b[0;34m(self, x, batch_size, verbose, steps, callbacks, max_queue_size, workers, use_multiprocessing)\u001b[0m\n\u001b[1;32m   2512\u001b[0m     \u001b[39mexcept\u001b[39;00m \u001b[39mValueError\u001b[39;00m:\n\u001b[1;32m   2513\u001b[0m         warnings\u001b[39m.\u001b[39mwarn(\n\u001b[1;32m   2514\u001b[0m             \u001b[39m\"\u001b[39m\u001b[39mUsing Model.predict with MultiWorkerMirroredStrategy \u001b[39m\u001b[39m\"\u001b[39m\n\u001b[1;32m   2515\u001b[0m             \u001b[39m\"\u001b[39m\u001b[39mor TPUStrategy and AutoShardPolicy.FILE might lead to \u001b[39m\u001b[39m\"\u001b[39m\n\u001b[0;32m   (...)\u001b[0m\n\u001b[1;32m   2518\u001b[0m             stacklevel\u001b[39m=\u001b[39m\u001b[39m2\u001b[39m,\n\u001b[1;32m   2519\u001b[0m         )\n\u001b[0;32m-> 2521\u001b[0m data_handler \u001b[39m=\u001b[39m data_adapter\u001b[39m.\u001b[39;49mget_data_handler(\n\u001b[1;32m   2522\u001b[0m     x\u001b[39m=\u001b[39;49mx,\n\u001b[1;32m   2523\u001b[0m     batch_size\u001b[39m=\u001b[39;49mbatch_size,\n\u001b[1;32m   2524\u001b[0m     steps_per_epoch\u001b[39m=\u001b[39;49msteps,\n\u001b[1;32m   2525\u001b[0m     initial_epoch\u001b[39m=\u001b[39;49m\u001b[39m0\u001b[39;49m,\n\u001b[1;32m   2526\u001b[0m     epochs\u001b[39m=\u001b[39;49m\u001b[39m1\u001b[39;49m,\n\u001b[1;32m   2527\u001b[0m     max_queue_size\u001b[39m=\u001b[39;49mmax_queue_size,\n\u001b[1;32m   2528\u001b[0m     workers\u001b[39m=\u001b[39;49mworkers,\n\u001b[1;32m   2529\u001b[0m     use_multiprocessing\u001b[39m=\u001b[39;49muse_multiprocessing,\n\u001b[1;32m   2530\u001b[0m     model\u001b[39m=\u001b[39;49m\u001b[39mself\u001b[39;49m,\n\u001b[1;32m   2531\u001b[0m     steps_per_execution\u001b[39m=\u001b[39;49m\u001b[39mself\u001b[39;49m\u001b[39m.\u001b[39;49m_steps_per_execution,\n\u001b[1;32m   2532\u001b[0m )\n\u001b[1;32m   2534\u001b[0m \u001b[39m# Container that configures and calls `tf.keras.Callback`s.\u001b[39;00m\n\u001b[1;32m   2535\u001b[0m \u001b[39mif\u001b[39;00m \u001b[39mnot\u001b[39;00m \u001b[39misinstance\u001b[39m(callbacks, callbacks_module\u001b[39m.\u001b[39mCallbackList):\n",
      "File \u001b[0;32m~/anaconda3/envs/api/lib/python3.8/site-packages/keras/src/engine/data_adapter.py:1678\u001b[0m, in \u001b[0;36mget_data_handler\u001b[0;34m(*args, **kwargs)\u001b[0m\n\u001b[1;32m   1676\u001b[0m         \u001b[39mreturn\u001b[39;00m _ClusterCoordinatorExactEvalDataHandler(\u001b[39m*\u001b[39margs, \u001b[39m*\u001b[39m\u001b[39m*\u001b[39mkwargs)\n\u001b[1;32m   1677\u001b[0m     \u001b[39mreturn\u001b[39;00m _ClusterCoordinatorDataHandler(\u001b[39m*\u001b[39margs, \u001b[39m*\u001b[39m\u001b[39m*\u001b[39mkwargs)\n\u001b[0;32m-> 1678\u001b[0m \u001b[39mreturn\u001b[39;00m DataHandler(\u001b[39m*\u001b[39;49margs, \u001b[39m*\u001b[39;49m\u001b[39m*\u001b[39;49mkwargs)\n",
      "File \u001b[0;32m~/anaconda3/envs/api/lib/python3.8/site-packages/keras/src/engine/data_adapter.py:1285\u001b[0m, in \u001b[0;36mDataHandler.__init__\u001b[0;34m(self, x, y, sample_weight, batch_size, steps_per_epoch, initial_epoch, epochs, shuffle, class_weight, max_queue_size, workers, use_multiprocessing, model, steps_per_execution, distribute, pss_evaluation_shards)\u001b[0m\n\u001b[1;32m   1282\u001b[0m     \u001b[39mself\u001b[39m\u001b[39m.\u001b[39m_steps_per_execution \u001b[39m=\u001b[39m steps_per_execution\n\u001b[1;32m   1284\u001b[0m adapter_cls \u001b[39m=\u001b[39m select_data_adapter(x, y)\n\u001b[0;32m-> 1285\u001b[0m \u001b[39mself\u001b[39m\u001b[39m.\u001b[39m_adapter \u001b[39m=\u001b[39m adapter_cls(\n\u001b[1;32m   1286\u001b[0m     x,\n\u001b[1;32m   1287\u001b[0m     y,\n\u001b[1;32m   1288\u001b[0m     batch_size\u001b[39m=\u001b[39;49mbatch_size,\n\u001b[1;32m   1289\u001b[0m     steps\u001b[39m=\u001b[39;49msteps_per_epoch,\n\u001b[1;32m   1290\u001b[0m     epochs\u001b[39m=\u001b[39;49mepochs \u001b[39m-\u001b[39;49m initial_epoch,\n\u001b[1;32m   1291\u001b[0m     sample_weights\u001b[39m=\u001b[39;49msample_weight,\n\u001b[1;32m   1292\u001b[0m     shuffle\u001b[39m=\u001b[39;49mshuffle,\n\u001b[1;32m   1293\u001b[0m     max_queue_size\u001b[39m=\u001b[39;49mmax_queue_size,\n\u001b[1;32m   1294\u001b[0m     workers\u001b[39m=\u001b[39;49mworkers,\n\u001b[1;32m   1295\u001b[0m     use_multiprocessing\u001b[39m=\u001b[39;49muse_multiprocessing,\n\u001b[1;32m   1296\u001b[0m     distribution_strategy\u001b[39m=\u001b[39;49mtf\u001b[39m.\u001b[39;49mdistribute\u001b[39m.\u001b[39;49mget_strategy(),\n\u001b[1;32m   1297\u001b[0m     model\u001b[39m=\u001b[39;49mmodel,\n\u001b[1;32m   1298\u001b[0m     pss_evaluation_shards\u001b[39m=\u001b[39;49mpss_evaluation_shards,\n\u001b[1;32m   1299\u001b[0m )\n\u001b[1;32m   1301\u001b[0m strategy \u001b[39m=\u001b[39m tf\u001b[39m.\u001b[39mdistribute\u001b[39m.\u001b[39mget_strategy()\n\u001b[1;32m   1303\u001b[0m \u001b[39mself\u001b[39m\u001b[39m.\u001b[39m_current_step \u001b[39m=\u001b[39m \u001b[39m0\u001b[39m\n",
      "File \u001b[0;32m~/anaconda3/envs/api/lib/python3.8/site-packages/keras/src/engine/data_adapter.py:355\u001b[0m, in \u001b[0;36mTensorLikeDataAdapter.__init__\u001b[0;34m(self, x, y, sample_weights, sample_weight_modes, batch_size, epochs, steps, shuffle, **kwargs)\u001b[0m\n\u001b[1;32m    351\u001b[0m     \u001b[39mreturn\u001b[39;00m flat_dataset\n\u001b[1;32m    353\u001b[0m indices_dataset \u001b[39m=\u001b[39m indices_dataset\u001b[39m.\u001b[39mflat_map(slice_batch_indices)\n\u001b[0;32m--> 355\u001b[0m dataset \u001b[39m=\u001b[39m \u001b[39mself\u001b[39;49m\u001b[39m.\u001b[39;49mslice_inputs(indices_dataset, inputs)\n\u001b[1;32m    357\u001b[0m \u001b[39mif\u001b[39;00m shuffle \u001b[39m==\u001b[39m \u001b[39m\"\u001b[39m\u001b[39mbatch\u001b[39m\u001b[39m\"\u001b[39m:\n\u001b[1;32m    359\u001b[0m     \u001b[39mdef\u001b[39;00m \u001b[39mshuffle_batch\u001b[39m(\u001b[39m*\u001b[39mbatch):\n",
      "File \u001b[0;32m~/anaconda3/envs/api/lib/python3.8/site-packages/keras/src/engine/data_adapter.py:396\u001b[0m, in \u001b[0;36mTensorLikeDataAdapter.slice_inputs\u001b[0;34m(self, indices_dataset, inputs)\u001b[0m\n\u001b[1;32m    391\u001b[0m \u001b[39mdef\u001b[39;00m \u001b[39mgrab_batch\u001b[39m(i, data):\n\u001b[1;32m    392\u001b[0m     \u001b[39mreturn\u001b[39;00m tf\u001b[39m.\u001b[39mnest\u001b[39m.\u001b[39mmap_structure(\n\u001b[1;32m    393\u001b[0m         \u001b[39mlambda\u001b[39;00m d: tf\u001b[39m.\u001b[39mgather(d, i, axis\u001b[39m=\u001b[39m\u001b[39m0\u001b[39m), data\n\u001b[1;32m    394\u001b[0m     )\n\u001b[0;32m--> 396\u001b[0m dataset \u001b[39m=\u001b[39m dataset\u001b[39m.\u001b[39;49mmap(grab_batch, num_parallel_calls\u001b[39m=\u001b[39;49mtf\u001b[39m.\u001b[39;49mdata\u001b[39m.\u001b[39;49mAUTOTUNE)\n\u001b[1;32m    398\u001b[0m \u001b[39m# Default optimizations are disabled to avoid the overhead of\u001b[39;00m\n\u001b[1;32m    399\u001b[0m \u001b[39m# (unnecessary) input pipeline graph serialization and deserialization\u001b[39;00m\n\u001b[1;32m    400\u001b[0m options \u001b[39m=\u001b[39m tf\u001b[39m.\u001b[39mdata\u001b[39m.\u001b[39mOptions()\n",
      "File \u001b[0;32m~/anaconda3/envs/api/lib/python3.8/site-packages/tensorflow/python/data/ops/dataset_ops.py:2278\u001b[0m, in \u001b[0;36mDatasetV2.map\u001b[0;34m(self, map_func, num_parallel_calls, deterministic, name)\u001b[0m\n\u001b[1;32m   2274\u001b[0m \u001b[39m# Loaded lazily due to a circular dependency (dataset_ops -> map_op ->\u001b[39;00m\n\u001b[1;32m   2275\u001b[0m \u001b[39m# dataset_ops).\u001b[39;00m\n\u001b[1;32m   2276\u001b[0m \u001b[39m# pylint: disable=g-import-not-at-top,protected-access\u001b[39;00m\n\u001b[1;32m   2277\u001b[0m \u001b[39mfrom\u001b[39;00m \u001b[39mtensorflow\u001b[39;00m\u001b[39m.\u001b[39;00m\u001b[39mpython\u001b[39;00m\u001b[39m.\u001b[39;00m\u001b[39mdata\u001b[39;00m\u001b[39m.\u001b[39;00m\u001b[39mops\u001b[39;00m \u001b[39mimport\u001b[39;00m map_op\n\u001b[0;32m-> 2278\u001b[0m \u001b[39mreturn\u001b[39;00m map_op\u001b[39m.\u001b[39;49m_map_v2(\n\u001b[1;32m   2279\u001b[0m     \u001b[39mself\u001b[39;49m,\n\u001b[1;32m   2280\u001b[0m     map_func,\n\u001b[1;32m   2281\u001b[0m     num_parallel_calls\u001b[39m=\u001b[39;49mnum_parallel_calls,\n\u001b[1;32m   2282\u001b[0m     deterministic\u001b[39m=\u001b[39;49mdeterministic,\n\u001b[1;32m   2283\u001b[0m     name\u001b[39m=\u001b[39;49mname)\n",
      "File \u001b[0;32m~/anaconda3/envs/api/lib/python3.8/site-packages/tensorflow/python/data/ops/map_op.py:40\u001b[0m, in \u001b[0;36m_map_v2\u001b[0;34m(input_dataset, map_func, num_parallel_calls, deterministic, name)\u001b[0m\n\u001b[1;32m     37\u001b[0m   \u001b[39mreturn\u001b[39;00m _MapDataset(\n\u001b[1;32m     38\u001b[0m       input_dataset, map_func, preserve_cardinality\u001b[39m=\u001b[39m\u001b[39mTrue\u001b[39;00m, name\u001b[39m=\u001b[39mname)\n\u001b[1;32m     39\u001b[0m \u001b[39melse\u001b[39;00m:\n\u001b[0;32m---> 40\u001b[0m   \u001b[39mreturn\u001b[39;00m _ParallelMapDataset(\n\u001b[1;32m     41\u001b[0m       input_dataset,\n\u001b[1;32m     42\u001b[0m       map_func,\n\u001b[1;32m     43\u001b[0m       num_parallel_calls\u001b[39m=\u001b[39;49mnum_parallel_calls,\n\u001b[1;32m     44\u001b[0m       deterministic\u001b[39m=\u001b[39;49mdeterministic,\n\u001b[1;32m     45\u001b[0m       preserve_cardinality\u001b[39m=\u001b[39;49m\u001b[39mTrue\u001b[39;49;00m,\n\u001b[1;32m     46\u001b[0m       name\u001b[39m=\u001b[39;49mname)\n",
      "File \u001b[0;32m~/anaconda3/envs/api/lib/python3.8/site-packages/tensorflow/python/data/ops/map_op.py:163\u001b[0m, in \u001b[0;36m_ParallelMapDataset.__init__\u001b[0;34m(self, input_dataset, map_func, num_parallel_calls, deterministic, use_inter_op_parallelism, preserve_cardinality, use_legacy_function, name)\u001b[0m\n\u001b[1;32m    160\u001b[0m \u001b[39mself\u001b[39m\u001b[39m.\u001b[39m_num_parallel_calls \u001b[39m=\u001b[39m ops\u001b[39m.\u001b[39mconvert_to_tensor(\n\u001b[1;32m    161\u001b[0m     num_parallel_calls, dtype\u001b[39m=\u001b[39mdtypes\u001b[39m.\u001b[39mint64, name\u001b[39m=\u001b[39m\u001b[39m\"\u001b[39m\u001b[39mnum_parallel_calls\u001b[39m\u001b[39m\"\u001b[39m)\n\u001b[1;32m    162\u001b[0m \u001b[39mself\u001b[39m\u001b[39m.\u001b[39m_name \u001b[39m=\u001b[39m name\n\u001b[0;32m--> 163\u001b[0m variant_tensor \u001b[39m=\u001b[39m gen_dataset_ops\u001b[39m.\u001b[39;49mparallel_map_dataset_v2(\n\u001b[1;32m    164\u001b[0m     input_dataset\u001b[39m.\u001b[39;49m_variant_tensor,  \u001b[39m# pylint: disable=protected-access\u001b[39;49;00m\n\u001b[1;32m    165\u001b[0m     \u001b[39mself\u001b[39;49m\u001b[39m.\u001b[39;49m_map_func\u001b[39m.\u001b[39;49mfunction\u001b[39m.\u001b[39;49mcaptured_inputs,\n\u001b[1;32m    166\u001b[0m     f\u001b[39m=\u001b[39;49m\u001b[39mself\u001b[39;49m\u001b[39m.\u001b[39;49m_map_func\u001b[39m.\u001b[39;49mfunction,\n\u001b[1;32m    167\u001b[0m     num_parallel_calls\u001b[39m=\u001b[39;49m\u001b[39mself\u001b[39;49m\u001b[39m.\u001b[39;49m_num_parallel_calls,\n\u001b[1;32m    168\u001b[0m     deterministic\u001b[39m=\u001b[39;49m\u001b[39mself\u001b[39;49m\u001b[39m.\u001b[39;49m_deterministic,\n\u001b[1;32m    169\u001b[0m     use_inter_op_parallelism\u001b[39m=\u001b[39;49m\u001b[39mself\u001b[39;49m\u001b[39m.\u001b[39;49m_use_inter_op_parallelism,\n\u001b[1;32m    170\u001b[0m     preserve_cardinality\u001b[39m=\u001b[39;49m\u001b[39mself\u001b[39;49m\u001b[39m.\u001b[39;49m_preserve_cardinality,\n\u001b[1;32m    171\u001b[0m     \u001b[39m*\u001b[39;49m\u001b[39m*\u001b[39;49m\u001b[39mself\u001b[39;49m\u001b[39m.\u001b[39;49m_common_args)\n\u001b[1;32m    172\u001b[0m \u001b[39msuper\u001b[39m()\u001b[39m.\u001b[39m\u001b[39m__init__\u001b[39m(input_dataset, variant_tensor)\n",
      "File \u001b[0;32m~/anaconda3/envs/api/lib/python3.8/site-packages/tensorflow/python/ops/gen_dataset_ops.py:5796\u001b[0m, in \u001b[0;36mparallel_map_dataset_v2\u001b[0;34m(input_dataset, other_arguments, num_parallel_calls, f, output_types, output_shapes, use_inter_op_parallelism, deterministic, preserve_cardinality, metadata, name)\u001b[0m\n\u001b[1;32m   5794\u001b[0m \u001b[39mif\u001b[39;00m tld\u001b[39m.\u001b[39mis_eager:\n\u001b[1;32m   5795\u001b[0m   \u001b[39mtry\u001b[39;00m:\n\u001b[0;32m-> 5796\u001b[0m     _result \u001b[39m=\u001b[39m pywrap_tfe\u001b[39m.\u001b[39;49mTFE_Py_FastPathExecute(\n\u001b[1;32m   5797\u001b[0m       _ctx, \u001b[39m\"\u001b[39;49m\u001b[39mParallelMapDatasetV2\u001b[39;49m\u001b[39m\"\u001b[39;49m, name, input_dataset, other_arguments,\n\u001b[1;32m   5798\u001b[0m       num_parallel_calls, \u001b[39m\"\u001b[39;49m\u001b[39mf\u001b[39;49m\u001b[39m\"\u001b[39;49m, f, \u001b[39m\"\u001b[39;49m\u001b[39moutput_types\u001b[39;49m\u001b[39m\"\u001b[39;49m, output_types,\n\u001b[1;32m   5799\u001b[0m       \u001b[39m\"\u001b[39;49m\u001b[39moutput_shapes\u001b[39;49m\u001b[39m\"\u001b[39;49m, output_shapes, \u001b[39m\"\u001b[39;49m\u001b[39muse_inter_op_parallelism\u001b[39;49m\u001b[39m\"\u001b[39;49m,\n\u001b[1;32m   5800\u001b[0m       use_inter_op_parallelism, \u001b[39m\"\u001b[39;49m\u001b[39mdeterministic\u001b[39;49m\u001b[39m\"\u001b[39;49m, deterministic,\n\u001b[1;32m   5801\u001b[0m       \u001b[39m\"\u001b[39;49m\u001b[39mpreserve_cardinality\u001b[39;49m\u001b[39m\"\u001b[39;49m, preserve_cardinality, \u001b[39m\"\u001b[39;49m\u001b[39mmetadata\u001b[39;49m\u001b[39m\"\u001b[39;49m, metadata)\n\u001b[1;32m   5802\u001b[0m     \u001b[39mreturn\u001b[39;00m _result\n\u001b[1;32m   5803\u001b[0m   \u001b[39mexcept\u001b[39;00m _core\u001b[39m.\u001b[39m_NotOkStatusException \u001b[39mas\u001b[39;00m e:\n",
      "\u001b[0;31mKeyboardInterrupt\u001b[0m: "
     ]
    }
   ],
   "source": [
    "import os\n",
    "import re\n",
    "import cv2\n",
    "import numpy as np\n",
    "\n",
    "def extract_number(filename):\n",
    "    match = re.search(r'(\\d+)_png', filename)\n",
    "    if match:\n",
    "        return int(match.group(1))\n",
    "    return None\n",
    "\n",
    "def make_video_from_images(image_folder, video_name, fps=10.0):\n",
    "    # 이미지 폴더 내의 모든 파일들을 가져옵니다.\n",
    "    images = [img for img in os.listdir(image_folder) if img.endswith(\".png\") or img.endswith(\".jpg\")]\n",
    "\n",
    "    # 숫자 기준으로 이미지들을 정렬합니다.\n",
    "    images.sort(key=extract_number)\n",
    "\n",
    "    # 첫 번째 이미지를 통해 프레임의 너비와 높이를 가져옵니다.\n",
    "    frame = cv2.imread(os.path.join(image_folder, images[0]))\n",
    "    h, w, layers = frame.shape\n",
    "    size = (w, h)\n",
    "\n",
    "    # VideoWriter 객체를 초기화합니다.\n",
    "    out = cv2.VideoWriter(video_name, cv2.VideoWriter_fourcc(*'DIVX'), fps, size)\n",
    "\n",
    "    # 이미지들을 하나씩 동영상에 추가합니다.\n",
    "    for image in images:\n",
    "        img_path = os.path.join(image_folder, image)\n",
    "        img = cv2.imread(img_path)\n",
    "        out.write(img)\n",
    "\n",
    "    # 작업 완료 후, VideoWriter 객체를 해제합니다.\n",
    "    out.release()\n",
    "\n",
    "def save_draw_boxes_on_image(image, normalized_coords, save_path, num_people=None, width=32, height=24):\n",
    "    normalized_coords = normalized_coords.squeeze()\n",
    "    # Denormalize the coordinates\n",
    "    denormalized_coords = normalized_coords * [width, height, width, height, width, height, width, height]\n",
    "    if image.ndim == 4:\n",
    "        image = image[0]\n",
    "    # Create a figure and axis\n",
    "    fig, ax = plt.subplots(1, figsize=(12, 9))\n",
    "    # Display the image\n",
    "    ax.imshow(image[:, :, 0], cmap='gray')\n",
    "    if num_people is not None:\n",
    "        ax.text(0.5, 0.1, f\"Number of people: {num_people}\", \n",
    "                transform=ax.transAxes, \n",
    "                color='white', \n",
    "                ha=\"center\", \n",
    "                va=\"center\", \n",
    "                fontsize=12, \n",
    "                bbox=dict(boxstyle=\"round\", fc=\"red\"))\n",
    "    # Loop over each set of coordinates and draw the bounding box\n",
    "    for coord in denormalized_coords:\n",
    "        # Extract coordinates for the bounding box\n",
    "        top_left_x, top_left_y, top_right_x, top_right_y, bottom_right_x, bottom_right_y, bottom_left_x, bottom_left_y = coord\n",
    "        # Create a rectangle patch using top left and bottom right coordinates\n",
    "        rect = patches.Rectangle((top_left_x, top_left_y), bottom_right_x - top_left_x, bottom_right_y - top_left_y, linewidth=1, edgecolor='r', facecolor='none')\n",
    "        # Add the patch to the axis\n",
    "        ax.add_patch(rect)\n",
    "    plt.savefig(save_path)\n",
    "    plt.close()  # 이 라인을 추가하여 화면에 표시되는 창을 닫습니다.\n",
    "    return save_path\n",
    "\n",
    "def generate_video_from_images():\n",
    "    # 예측할 이미지 경로(예측 후 동영상으로 변환될 이미지)\n",
    "    image_dir = '/Users/mac/Dev/Project/ThermalCamera/Model/Custom/Datasets/original/Video/img/'\n",
    "    image_files = sorted([f for f in os.listdir(image_dir) if f.endswith('.png')], key=extract_number)\n",
    "    \n",
    "    frame_height, frame_width = 24, 32\n",
    "    \n",
    "    for image_file in image_files:\n",
    "        image_path = os.path.join(image_dir, image_file)\n",
    "        img = cv2.imread(image_path, cv2.IMREAD_GRAYSCALE)\n",
    "        \n",
    "        img = img.reshape(24, 32, 1)\n",
    "        img_batch = np.expand_dims(img, axis=0)\n",
    "        res = model.predict(img_batch / img_batch.max())\n",
    "\n",
    "        # 예측 한 이미지를 저장할 폴더\n",
    "        output_folder = \"/Users/mac/Dev/Project/ThermalCamera/Model/Custom/Datasets/Video/img2/\"\n",
    "        save_path = os.path.join(output_folder, image_file)\n",
    "\n",
    "        saved_image_path = save_draw_boxes_on_image(img, res[1][:], save_path, res[0].argmax())\n",
    "        saved_image_gray = cv2.imread(saved_image_path, cv2.IMREAD_GRAYSCALE)\n",
    "        \n",
    "        saved_image = cv2.cvtColor(saved_image_gray, cv2.COLOR_GRAY2BGR)\n",
    "\n",
    "    # 이 부분에서 이미지들을 동영상으로 만드는 함수를 호출합니다.\n",
    "    # 예측 한 이미지를 저장할 폴더와 같은 폴더\n",
    "    image_folder = '/Users/mac/Dev/Project/ThermalCamera/Model/Custom/Datasets/Video/img2'  # 이미지 폴더 경로\n",
    "    video_name = '/Users/mac/Dev/Project/ThermalCamera/Model/Custom/Datasets/Video/video2.avi'  # 저장될 동영상 파일 이름\n",
    "    make_video_from_images(image_folder, video_name)\n",
    "    print(\"Video generated successfully.\")\n",
    "\n",
    "if __name__ == \"__main__\":\n",
    "    generate_video_from_images()\n"
   ]
  },
  {
   "cell_type": "code",
   "execution_count": null,
   "metadata": {},
   "outputs": [],
   "source": []
  }
 ],
 "metadata": {
  "kernelspec": {
   "display_name": "api",
   "language": "python",
   "name": "python3"
  },
  "language_info": {
   "codemirror_mode": {
    "name": "ipython",
    "version": 3
   },
   "file_extension": ".py",
   "mimetype": "text/x-python",
   "name": "python",
   "nbconvert_exporter": "python",
   "pygments_lexer": "ipython3",
   "version": "3.8.18"
  }
 },
 "nbformat": 4,
 "nbformat_minor": 2
}
