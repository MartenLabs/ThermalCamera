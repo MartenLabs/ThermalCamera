{
 "cells": [
  {
   "cell_type": "code",
   "execution_count": null,
   "metadata": {},
   "outputs": [],
   "source": [
    "# MobileNetV3 -> SSD -> GRU"
   ]
  },
  {
   "cell_type": "code",
   "execution_count": 24,
   "metadata": {},
   "outputs": [],
   "source": [
    "import tensorflow as tf\n",
    "from tensorflow import keras \n",
    "from skimage import color\n",
    "import numpy as np\n",
    "import matplotlib.pyplot as plt\n",
    "import seaborn as sns\n",
    "import warnings \n",
    "from IPython.display import Image\n",
    "\n",
    "warnings.filterwarnings('ignore')\n",
    "%matplotlib inline"
   ]
  },
  {
   "cell_type": "code",
   "execution_count": 42,
   "metadata": {},
   "outputs": [
    {
     "name": "stdout",
     "output_type": "stream",
     "text": [
      "(13276, 24, 32)\n",
      "(13276, 24, 32)\n",
      "(13276,)\n",
      "(13276, 4, 8)\n"
     ]
    }
   ],
   "source": [
    "dataset1_origin = np.load('/Users/mac/Dev/Project/ThermalCamera/Model/Custom/model/npz/dataset1_origin.npz', allow_pickle=True)\n",
    "dataset1_horizon = np.load('/Users/mac/Dev/Project/ThermalCamera/Model/Custom/model/npz/dataset1_horizon.npz', allow_pickle=True)\n",
    "dataset1_vertical = np.load('/Users/mac/Dev/Project/ThermalCamera/Model/Custom/model/npz/dataset1_vertical.npz', allow_pickle=True)\n",
    "dataset1_vh = np.load('/Users/mac/Dev/Project/ThermalCamera/Model/Custom/model/npz/dataset1_vh.npz', allow_pickle=True)\n",
    "dataset2_origin = np.load('/Users/mac/Dev/Project/ThermalCamera/Model/Custom/model/npz/dataset2_origin.npz', allow_pickle=True)\n",
    "dataset2_horizon = np.load('/Users/mac/Dev/Project/ThermalCamera/Model/Custom/model/npz/dataset2_horizon.npz', allow_pickle=True)\n",
    "dataset2_vertical = np.load('/Users/mac/Dev/Project/ThermalCamera/Model/Custom/model/npz/dataset2_vertical.npz', allow_pickle=True)\n",
    "dataset2_vh = np.load('/Users/mac/Dev/Project/ThermalCamera/Model/Custom/model/npz/dataset2_vh.npz', allow_pickle=True)\n",
    "\n",
    "d1o_origin_images, d1o_target_images, d1o_number_labels, d1o_coordinates = dataset1_origin['images'], dataset1_origin['filters'], dataset1_origin['numbers'],  dataset1_origin['coordinates']\n",
    "d1h_origin_images, d1h_target_images, d1h_number_labels, d1h_coordinates = dataset1_horizon['images'], dataset1_horizon['filters'], dataset1_horizon['numbers'],  dataset1_horizon['coordinates']\n",
    "d1v_origin_images, d1v_target_images, d1v_number_labels, d1v_coordinates = dataset1_vertical['images'], dataset1_vertical['filters'], dataset1_vertical['numbers'],  dataset1_vertical['coordinates']\n",
    "d1vh_origin_images, d1vh_target_images, d1vh_number_labels, d1vh_coordinates = dataset1_vh['images'], dataset1_vh['filters'], dataset1_vh['numbers'],  dataset1_vh['coordinates']\n",
    "d2o_origin_images, d2o_target_images, d2o_number_labels, d2o_coordinates = dataset2_origin['images'], dataset2_origin['filters'], dataset2_origin['numbers'],  dataset2_origin['coordinates']\n",
    "d2h_origin_images, d2h_target_images, d2h_number_labels, d2h_coordinates = dataset2_horizon['images'], dataset2_horizon['filters'], dataset2_horizon['numbers'],  dataset2_horizon['coordinates']\n",
    "d2v_origin_images, d2v_target_images, d2v_number_labels, d2v_coordinates = dataset2_vertical['images'], dataset2_vertical['filters'], dataset2_vertical['numbers'],  dataset2_vertical['coordinates']\n",
    "d2vh_origin_images, d2vh_target_images, d2vh_number_labels, d2vh_coordinates = dataset2_vh['images'], dataset2_vh['filters'], dataset2_vh['numbers'],  dataset2_vh['coordinates']\n",
    "\n",
    "origin_images = np.concatenate([d1o_origin_images, d2o_origin_images, d1h_origin_images, d2h_origin_images, d1v_origin_images, d2v_origin_images, d1vh_origin_images, d2vh_origin_images], axis = 0)\n",
    "target_images = np.concatenate([d1o_target_images, d2o_target_images, d1h_target_images, d2h_target_images, d1v_target_images, d2v_target_images, d1vh_target_images, d2vh_target_images], axis = 0)\n",
    "numbers_labels = np.concatenate([d1o_number_labels, d2o_number_labels, d1h_number_labels, d2h_number_labels, d1v_number_labels, d2v_number_labels, d1vh_number_labels, d2vh_number_labels], axis = 0)\n",
    "coordinates = np.concatenate([d1o_coordinates, d2o_coordinates, d1h_coordinates, d2h_coordinates, d1v_coordinates, d2v_coordinates, d1vh_coordinates, d2vh_coordinates], axis = 0)\n",
    "\n",
    "print(origin_images.shape)\n",
    "print(target_images.shape)\n",
    "print(numbers_labels.shape)\n",
    "print(coordinates.shape)\n"
   ]
  },
  {
   "cell_type": "code",
   "execution_count": 43,
   "metadata": {},
   "outputs": [
    {
     "name": "stdout",
     "output_type": "stream",
     "text": [
      "(13276, 24, 32, 1)\n",
      "(13276, 24, 32, 1)\n"
     ]
    }
   ],
   "source": [
    "origin_images = origin_images.reshape(13276, 24, 32, 1)\n",
    "target_images = target_images.reshape(13276, 24, 32, 1)\n",
    "print(origin_images.shape)\n",
    "print(target_images.shape)"
   ]
  },
  {
   "cell_type": "code",
   "execution_count": 44,
   "metadata": {},
   "outputs": [
    {
     "name": "stdout",
     "output_type": "stream",
     "text": [
      "255 0\n",
      "255 0\n",
      "1.0 0.0\n",
      "1.0 0.0\n",
      "(13276, 24, 32, 1)\n",
      "(13276, 24, 32, 1)\n"
     ]
    }
   ],
   "source": [
    "print(origin_images.max(), origin_images.min())\n",
    "print(target_images.max(), target_images.min())\n",
    "\n",
    "origin_images = origin_images / origin_images.max()\n",
    "target_images = target_images / target_images.max()\n",
    "\n",
    "print(origin_images.max(), origin_images.min())\n",
    "print(target_images.max(), target_images.min())\n",
    "\n",
    "print(origin_images.shape)\n",
    "print(target_images.shape)"
   ]
  },
  {
   "cell_type": "code",
   "execution_count": 45,
   "metadata": {},
   "outputs": [],
   "source": [
    "def normalize_coordinates(coords, width=32, height=24):\n",
    "    # Check the shape of the input coordinates\n",
    "    if coords.shape[-1] != 8:\n",
    "        raise ValueError(\"The last dimension of the input coordinates should be 8.\")\n",
    "\n",
    "    # Create a normalization array\n",
    "    normalization_factors = np.array([width, height, width, height, width, height, width, height])\n",
    "\n",
    "    # Normalize the coordinates\n",
    "    normalized_coords = coords / normalization_factors\n",
    "\n",
    "    return normalized_coords"
   ]
  },
  {
   "cell_type": "code",
   "execution_count": 46,
   "metadata": {},
   "outputs": [
    {
     "name": "stdout",
     "output_type": "stream",
     "text": [
      "(13276, 4, 8)\n",
      "(13276, 5)\n"
     ]
    }
   ],
   "source": [
    "norm_location = normalize_coordinates(coordinates)\n",
    "print(norm_location.shape)\n",
    "\n",
    "from keras.utils import to_categorical\n",
    "\n",
    "number_labels = to_categorical(numbers_labels, num_classes=5)\n",
    "print(number_labels.shape)"
   ]
  },
  {
   "cell_type": "code",
   "execution_count": 47,
   "metadata": {},
   "outputs": [],
   "source": [
    "transformed_data_list = []\n",
    "\n",
    "for i in range(norm_location.shape[0]):\n",
    "    xmin = norm_location[i, :, 0::2].min(axis=1)\n",
    "    ymin = norm_location[i, :, 1::2].min(axis=1)\n",
    "    xmax = norm_location[i, :, 0::2].max(axis=1)\n",
    "    ymax = norm_location[i, :, 1::2].max(axis=1)\n",
    "    bounding_box = np.array([xmin, ymin, xmax, ymax]).T.reshape(1, -1)\n",
    "    transformed_data_list.append(bounding_box)\n",
    "\n",
    "norm_location = np.array(transformed_data_list)"
   ]
  },
  {
   "cell_type": "code",
   "execution_count": 58,
   "metadata": {},
   "outputs": [
    {
     "name": "stdout",
     "output_type": "stream",
     "text": [
      "[[0.25       0.625      0.46875    1.         0.         0.\n",
      "  0.25       0.33333333 0.46875    0.54166667 0.71875    0.95833333\n",
      "  0.8125     0.66666667 1.         1.        ]]\n"
     ]
    }
   ],
   "source": [
    "print(norm_location[9000])"
   ]
  },
  {
   "cell_type": "code",
   "execution_count": 57,
   "metadata": {},
   "outputs": [
    {
     "data": {
      "image/png": "[encoded data removed]",
      "text/plain": [
       "<Figure size 1200x900 with 1 Axes>"
      ]
     },
     "metadata": {},
     "output_type": "display_data"
    }
   ],
   "source": [
    "import matplotlib.patches as patches\n",
    "\n",
    "def draw_boxes_on_normalized_coords(image, normalized_coords, width=32, height=24):\n",
    "    \"\"\"\n",
    "    정규화된 좌표를 사용하여 이미지 위에 바운딩 박스를 그리는 함수.\n",
    "    image: 대상 이미지.\n",
    "    normalized_coords: 정규화된 좌표.\n",
    "    width: 이미지의 너비.\n",
    "    height: 이미지의 높이.\n",
    "    \"\"\"\n",
    "    # Remove the first dimension from normalized_coords\n",
    "    normalized_coords = normalized_coords.squeeze()\n",
    "\n",
    "    # Denormalize the coordinates\n",
    "    denormalization_factors = np.tile([width, height], 8)  # 형태를 (16,)으로 조정\n",
    "    denormalized_coords = normalized_coords * denormalization_factors\n",
    "\n",
    "    # 이미지가 4차원 배열인 경우 첫 번째 이미지만 사용\n",
    "    if image.ndim == 4:\n",
    "        image = image[0]\n",
    "\n",
    "    # Create a figure and axis\n",
    "    fig, ax = plt.subplots(1, figsize=(12, 9))\n",
    "    \n",
    "    # Display the image\n",
    "    ax.imshow(image, cmap='gray')\n",
    "\n",
    "    # Loop over each set of coordinates and draw the bounding box\n",
    "    for i in range(0, len(denormalized_coords), 4):\n",
    "        xmin, ymin, xmax, ymax = denormalized_coords[i:i+4]\n",
    "\n",
    "        # Create a rectangle patch\n",
    "        rect = patches.Rectangle((xmin, ymin), xmax - xmin, ymax - ymin, linewidth=1, edgecolor='r', facecolor='none')\n",
    "        \n",
    "        # Add the patch to the axis\n",
    "        ax.add_patch(rect)\n",
    "\n",
    "    plt.show()\n",
    "\n",
    "\n",
    "draw_boxes_on_normalized_coords(origin_images[9000:9001], norm_location[9000:9001])"
   ]
  },
  {
   "cell_type": "code",
   "execution_count": null,
   "metadata": {},
   "outputs": [],
   "source": []
  },
  {
   "cell_type": "code",
   "execution_count": 64,
   "metadata": {},
   "outputs": [
    {
     "name": "stdout",
     "output_type": "stream",
     "text": [
      "Model: \"model_8\"\n",
      "__________________________________________________________________________________________________\n",
      " Layer (type)                Output Shape                 Param #   Connected to                  \n",
      "==================================================================================================\n",
      " input_29 (InputLayer)       [(None, None, None, 1)]      0         []                            \n",
      "                                                                                                  \n",
      " lambda_2 (Lambda)           (None, 320, 240, 1)          0         ['input_29[0][0]']            \n",
      "                                                                                                  \n",
      " MobilenetV3small (Function  (None, 10, 8, 576)           938832    ['lambda_2[0][0]']            \n",
      " al)                                                                                              \n",
      "                                                                                                  \n",
      " conv2d_88 (Conv2D)          (None, 10, 8, 512)           2654720   ['MobilenetV3small[0][0]']    \n",
      "                                                                                                  \n",
      " conv2d_89 (Conv2D)          (None, 5, 4, 256)            1179904   ['conv2d_88[0][0]']           \n",
      "                                                                                                  \n",
      " conv2d_90 (Conv2D)          (None, 3, 2, 128)            295040    ['conv2d_89[0][0]']           \n",
      "                                                                                                  \n",
      " conv2d_91 (Conv2D)          (None, 10, 8, 16)            73744     ['conv2d_88[0][0]']           \n",
      "                                                                                                  \n",
      " conv2d_92 (Conv2D)          (None, 5, 4, 16)             36880     ['conv2d_89[0][0]']           \n",
      "                                                                                                  \n",
      " conv2d_93 (Conv2D)          (None, 3, 2, 16)             18448     ['conv2d_90[0][0]']           \n",
      "                                                                                                  \n",
      " global_average_pooling2d_3  (None, 16)                   0         ['conv2d_91[0][0]']           \n",
      " 0 (GlobalAveragePooling2D)                                                                       \n",
      "                                                                                                  \n",
      " global_average_pooling2d_3  (None, 16)                   0         ['conv2d_92[0][0]']           \n",
      " 1 (GlobalAveragePooling2D)                                                                       \n",
      "                                                                                                  \n",
      " global_average_pooling2d_3  (None, 16)                   0         ['conv2d_93[0][0]']           \n",
      " 2 (GlobalAveragePooling2D)                                                                       \n",
      "                                                                                                  \n",
      " concatenate_14 (Concatenat  (None, 48)                   0         ['global_average_pooling2d_30[\n",
      " e)                                                                 0][0]',                       \n",
      "                                                                     'global_average_pooling2d_31[\n",
      "                                                                    0][0]',                       \n",
      "                                                                     'global_average_pooling2d_32[\n",
      "                                                                    0][0]']                       \n",
      "                                                                                                  \n",
      " reshape_14 (Reshape)        (None, 1, 48)                0         ['concatenate_14[0][0]']      \n",
      "                                                                                                  \n",
      " gru_10 (GRU)                (None, 128)                  68352     ['reshape_14[0][0]']          \n",
      "                                                                                                  \n",
      " dense_8 (Dense)             (None, 16)                   2064      ['gru_10[0][0]']              \n",
      "                                                                                                  \n",
      "==================================================================================================\n",
      "Total params: 5267984 (20.10 MB)\n",
      "Trainable params: 5255872 (20.05 MB)\n",
      "Non-trainable params: 12112 (47.31 KB)\n",
      "__________________________________________________________________________________________________\n"
     ]
    }
   ],
   "source": [
    "from tensorflow.keras.layers import Conv2D, Reshape, GRU, TimeDistributed, Flatten, Dense, Input, Lambda\n",
    "from tensorflow.keras.models import Model\n",
    "import tensorflow as tf\n",
    "\n",
    "# def add_ssd_layers(base_model_output):\n",
    "#     # 여러 SSD 레이어 추가\n",
    "#     x1 = Conv2D(512, (3, 3), activation='relu', padding='same')(base_model_output)\n",
    "#     x2 = Conv2D(256, (3, 3), activation='relu', padding='same', strides=(2, 2))(x1)\n",
    "#     x3 = Conv2D(128, (3, 3), activation='relu', padding='same', strides=(2, 2))(x2)\n",
    "\n",
    "#     # 각 레이어에서 바운딩 박스 예측\n",
    "#     detections1 = Conv2D(4 * 4, (3, 3), padding='same')(x1)  # 4개 바운딩 박스 오프셋\n",
    "#     detections2 = Conv2D(4 * 4, (3, 3), padding='same')(x2)\n",
    "#     detections3 = Conv2D(4 * 4, (3, 3), padding='same')(x3)\n",
    "\n",
    "#     # 각 레이어의 출력을 플래튼하고 하나로 결합\n",
    "#     flattened1 = Flatten()(detections1)\n",
    "#     flattened2 = Flatten()(detections2)\n",
    "#     flattened3 = Flatten()(detections3)\n",
    "#     combined_detections = tf.keras.layers.Concatenate(axis=-1)([flattened1, flattened2, flattened3])\n",
    "\n",
    "#     return combined_detections\n",
    "\n",
    "from tensorflow.keras.layers import GlobalAveragePooling2D\n",
    "\n",
    "def add_ssd_layers(base_model_output):\n",
    "    # 여러 SSD 레이어 추가\n",
    "    x1 = Conv2D(512, (3, 3), activation='relu', padding='same')(base_model_output)\n",
    "    x2 = Conv2D(256, (3, 3), activation='relu', padding='same', strides=(2, 2))(x1)\n",
    "    x3 = Conv2D(128, (3, 3), activation='relu', padding='same', strides=(2, 2))(x2)\n",
    "\n",
    "    # 각 레이어에서 바운딩 박스 예측\n",
    "    detections1 = Conv2D(4 * 4, (3, 3), padding='same')(x1)\n",
    "    detections2 = Conv2D(4 * 4, (3, 3), padding='same')(x2)\n",
    "    detections3 = Conv2D(4 * 4, (3, 3), padding='same')(x3)\n",
    "\n",
    "    # 각 레이어의 출력을 전역 평균 풀링을 통해 처리\n",
    "    pooled1 = Flatten()(detections1)\n",
    "    pooled2 = Flatten()(detections2)\n",
    "    pooled3 = Flatten()(detections3)\n",
    "    combined_detections = tf.keras.layers.Concatenate(axis=-1)([pooled1, pooled2, pooled3])\n",
    "\n",
    "    return combined_detections\n",
    "\n",
    "def resize_images(image):\n",
    "    # TensorFlow 함수를 사용하여 이미지 크기 조정\n",
    "    return tf.image.resize(image, [320, 240])\n",
    "\n",
    "def Main():\n",
    "    input_layer = tf.keras.Input(shape=(None, None, 1))\n",
    "\n",
    "    resized_input = Lambda(resize_images)(input_layer)\n",
    "    \n",
    "    # 기능 추출을 위한 기본 모델 정의\n",
    "    base_model = tf.keras.applications.MobileNetV3Small(include_top=False, weights=None, input_shape=(320, 240, 1))\n",
    "\n",
    "    mobile_net_output = base_model(resized_input)\n",
    "\n",
    "    processed_detections = add_ssd_layers(mobile_net_output)\n",
    "    reshaped_detections = Reshape((1, -1))(processed_detections)\n",
    "    \n",
    "    # GRU 레이어 추가\n",
    "    gru_output = GRU(128, return_sequences=False)(reshaped_detections)\n",
    "\n",
    "    # 최종 탐지 레이어\n",
    "    final_detections = Dense(4 * 4, activation='sigmoid')(gru_output)  # 이미지 당 최대 4개 바운딩 박스 예측\n",
    "\n",
    "    # 모델 정의\n",
    "    model = Model(inputs=input_layer, outputs=final_detections)\n",
    "    \n",
    "    return model\n",
    "\n",
    "\n",
    "model = Main()\n",
    "model.summary()\n"
   ]
  },
  {
   "cell_type": "code",
   "execution_count": 65,
   "metadata": {},
   "outputs": [],
   "source": [
    "import tensorflow as tf\n",
    "\n",
    "def smooth_l1_loss(y_true, y_pred, delta=1.0):\n",
    "    abs_diff = tf.abs(y_true - y_pred)\n",
    "    loss = tf.where(tf.less(abs_diff, delta), 0.5 * tf.square(abs_diff), delta * (abs_diff - 0.5 * delta))\n",
    "    return tf.reduce_mean(loss)"
   ]
  },
  {
   "cell_type": "code",
   "execution_count": null,
   "metadata": {},
   "outputs": [],
   "source": [
    "import tensorflow as tf\n",
    "\n",
    "def iou(y_true, y_pred):\n",
    "    \"\"\"\n",
    "    TensorFlow를 사용하여 IoU를 계산하는 함수.\n",
    "    y_true: 실제 바운딩 박스 좌표, 형태는 [batch, num_boxes, 4] (여기서 4는 xmin, ymin, xmax, ymax)\n",
    "    y_pred: 예측된 바운딩 박스 좌표, 형태는 [batch, num_boxes, 4]\n",
    "    \"\"\"\n",
    "    # 좌표를 분리\n",
    "    y_true = tf.cast(y_true, tf.float32)\n",
    "    y_pred = tf.cast(y_pred, tf.float32)\n",
    "    true_xmin, true_ymin, true_xmax, true_ymax = tf.split(y_true, 4, axis=-1)\n",
    "    pred_xmin, pred_ymin, pred_xmax, pred_ymax = tf.split(y_pred, 4, axis=-1)\n",
    "\n",
    "    # 교차 영역의 좌표 계산\n",
    "    intersect_xmin = tf.maximum(true_xmin, pred_xmin)\n",
    "    intersect_ymin = tf.maximum(true_ymin, pred_ymin)\n",
    "    intersect_xmax = tf.minimum(true_xmax, pred_xmax)\n",
    "    intersect_ymax = tf.minimum(true_ymax, pred_ymax)\n",
    "\n",
    "    # 교차 영역의 넓이와 높이\n",
    "    intersect_width = tf.maximum(0., intersect_xmax - intersect_xmin)\n",
    "    intersect_height = tf.maximum(0., intersect_ymax - intersect_ymin)\n",
    "\n",
    "    # 교차 영역의 면적\n",
    "    intersect_area = intersect_width * intersect_height\n",
    "\n",
    "    # 각 바운딩 박스의 면적\n",
    "    true_area = (true_xmax - true_xmin) * (true_ymax - true_ymin)\n",
    "    pred_area = (pred_xmax - pred_xmin) * (pred_ymax - pred_ymin)\n",
    "\n",
    "    # 합집합 영역의 면적\n",
    "    union_area = true_area + pred_area - intersect_area\n",
    "\n",
    "    # IoU 계산\n",
    "    iou = intersect_area / tf.maximum(union_area, tf.keras.backend.epsilon())\n",
    "\n",
    "    return iou"
   ]
  },
  {
   "cell_type": "code",
   "execution_count": 66,
   "metadata": {},
   "outputs": [],
   "source": [
    "learning_rate = 0.0001\n",
    "N_TRAIN = 13276\n",
    "N_BATCH = 32\n",
    "N_EPOCHS = 100\n",
    "\n",
    "lr_schedule = keras.optimizers.schedules.ExponentialDecay(initial_learning_rate=learning_rate,\n",
    "                                                          decay_steps = N_TRAIN / N_BATCH * 10,\n",
    "                                                          decay_rate = 0.5,\n",
    "                                                          staircase = True)\n",
    "\n",
    "model.compile(\n",
    "    keras.optimizers.ADAM(lr_schedule), \n",
    "    loss = smooth_l1_loss,\n",
    "    metrics=[iou])"
   ]
  },
  {
   "cell_type": "code",
   "execution_count": 1,
   "metadata": {},
   "outputs": [
    {
     "ename": "NameError",
     "evalue": "name 'model' is not defined",
     "output_type": "error",
     "traceback": [
      "\u001b[0;31m---------------------------------------------------------------------------\u001b[0m",
      "\u001b[0;31mNameError\u001b[0m                                 Traceback (most recent call last)",
      "\u001b[1;32m/Users/mac/Dev/Project/ThermalCamera/Model/Custom/model/detection_model_v3.ipynb 셀 16\u001b[0m line \u001b[0;36m1\n\u001b[0;32m----> <a href='vscode-notebook-cell:/Users/mac/Dev/Project/ThermalCamera/Model/Custom/model/detection_model_v3.ipynb#X21sZmlsZQ%3D%3D?line=0'>1</a>\u001b[0m hist \u001b[39m=\u001b[39m model\u001b[39m.\u001b[39mfit(\n\u001b[1;32m      <a href='vscode-notebook-cell:/Users/mac/Dev/Project/ThermalCamera/Model/Custom/model/detection_model_v3.ipynb#X21sZmlsZQ%3D%3D?line=1'>2</a>\u001b[0m     origin_images, norm_location, \n\u001b[1;32m      <a href='vscode-notebook-cell:/Users/mac/Dev/Project/ThermalCamera/Model/Custom/model/detection_model_v3.ipynb#X21sZmlsZQ%3D%3D?line=2'>3</a>\u001b[0m     epochs\u001b[39m=\u001b[39m\u001b[39m100\u001b[39m,\n\u001b[1;32m      <a href='vscode-notebook-cell:/Users/mac/Dev/Project/ThermalCamera/Model/Custom/model/detection_model_v3.ipynb#X21sZmlsZQ%3D%3D?line=3'>4</a>\u001b[0m     batch_size\u001b[39m=\u001b[39m N_BATCH,\n\u001b[1;32m      <a href='vscode-notebook-cell:/Users/mac/Dev/Project/ThermalCamera/Model/Custom/model/detection_model_v3.ipynb#X21sZmlsZQ%3D%3D?line=4'>5</a>\u001b[0m     verbose\u001b[39m=\u001b[39m\u001b[39m1\u001b[39m,  \u001b[39m# 사용자 정의 콜백 추가\u001b[39;00m\n\u001b[1;32m      <a href='vscode-notebook-cell:/Users/mac/Dev/Project/ThermalCamera/Model/Custom/model/detection_model_v3.ipynb#X21sZmlsZQ%3D%3D?line=5'>6</a>\u001b[0m )\n",
      "\u001b[0;31mNameError\u001b[0m: name 'model' is not defined"
     ]
    }
   ],
   "source": [
    "hist = model.fit(\n",
    "    origin_images, norm_location, \n",
    "    epochs=100,\n",
    "    batch_size= N_BATCH,\n",
    "    verbose=1,  # 사용자 정의 콜백 추가\n",
    ")"
   ]
  },
  {
   "cell_type": "code",
   "execution_count": null,
   "metadata": {},
   "outputs": [],
   "source": []
  }
 ],
 "metadata": {
  "kernelspec": {
   "display_name": "api",
   "language": "python",
   "name": "python3"
  },
  "language_info": {
   "codemirror_mode": {
    "name": "ipython",
    "version": 3
   },
   "file_extension": ".py",
   "mimetype": "text/x-python",
   "name": "python",
   "nbconvert_exporter": "python",
   "pygments_lexer": "ipython3",
   "version": "3.8.18"
  }
 },
 "nbformat": 4,
 "nbformat_minor": 2
}
