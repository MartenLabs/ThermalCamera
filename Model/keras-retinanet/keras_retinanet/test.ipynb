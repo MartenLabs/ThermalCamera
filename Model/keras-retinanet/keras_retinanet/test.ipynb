{
 "cells": [
  {
   "cell_type": "code",
   "execution_count": 3,
   "metadata": {},
   "outputs": [
    {
     "name": "stdout",
     "output_type": "stream",
     "text": [
      "/Users/mac/Dev/Project/ThermalCamera/Model/keras-retinanet/keras_retinanet\n"
     ]
    }
   ],
   "source": [
    "!pwd"
   ]
  },
  {
   "cell_type": "code",
   "execution_count": 16,
   "metadata": {},
   "outputs": [
    {
     "name": "stdout",
     "output_type": "stream",
     "text": [
      "Python 3.8.18\n"
     ]
    }
   ],
   "source": [
    "!python --version"
   ]
  },
  {
   "cell_type": "code",
   "execution_count": 20,
   "metadata": {},
   "outputs": [
    {
     "name": "stdout",
     "output_type": "stream",
     "text": [
      "2023-09-19 17:09:20.053924: I metal_plugin/src/device/metal_device.cc:1154] Metal device set to: Apple M1 Pro\n",
      "2023-09-19 17:09:20.053960: I metal_plugin/src/device/metal_device.cc:296] systemMemory: 32.00 GB\n",
      "2023-09-19 17:09:20.053966: I metal_plugin/src/device/metal_device.cc:313] maxCacheSize: 10.67 GB\n",
      "2023-09-19 17:09:20.054002: I tensorflow/core/common_runtime/pluggable_device/pluggable_device_factory.cc:303] Could not identify NUMA node of platform GPU ID 0, defaulting to 0. Your kernel may not have been built with NUMA support.\n",
      "2023-09-19 17:09:20.054022: I tensorflow/core/common_runtime/pluggable_device/pluggable_device_factory.cc:269] Created TensorFlow device (/job:localhost/replica:0/task:0/device:GPU:0 with 0 MB memory) -> physical PluggableDevice (device: 0, name: METAL, pci bus id: <undefined>)\n",
      "1 Physical GPUs, 1 Logical GPUs\n",
      "Traceback (most recent call last):\n",
      "  File \"bin/train.py\", line 553, in <module>\n",
      "    main()\n",
      "  File \"bin/train.py\", line 483, in main\n",
      "    train_generator, validation_generator = create_generators(args, backbone.preprocess_image)\n",
      "  File \"bin/train.py\", line 298, in create_generators\n",
      "    train_generator = CSVGenerator(\n",
      "  File \"/Users/mac/Dev/Project/ThermalCamera/Model/keras-retinanet/keras_retinanet/bin/../../keras_retinanet/preprocessing/csv_generator.py\", line 144, in __init__\n",
      "    with _open_for_csv(csv_class_file) as file:\n",
      "  File \"/Users/mac/Dev/Project/ThermalCamera/Model/keras-retinanet/keras_retinanet/bin/../../keras_retinanet/preprocessing/csv_generator.py\", line 111, in _open_for_csv\n",
      "    return open(path, 'r', newline='')\n",
      "FileNotFoundError: [Errno 2] No such file or directory: 'train/_classes.csv'\n"
     ]
    }
   ],
   "source": [
    "!python bin/train.py --batch-size 32 --gpu 0 --epochs=5 --workers=0 csv train/_annotations.csv train/_classes.csv\n"
   ]
  },
  {
   "cell_type": "code",
   "execution_count": null,
   "metadata": {},
   "outputs": [],
   "source": []
  }
 ],
 "metadata": {
  "kernelspec": {
   "display_name": "tf2",
   "language": "python",
   "name": "python3"
  },
  "language_info": {
   "codemirror_mode": {
    "name": "ipython",
    "version": 3
   },
   "file_extension": ".py",
   "mimetype": "text/x-python",
   "name": "python",
   "nbconvert_exporter": "python",
   "pygments_lexer": "ipython3",
   "version": "3.8.18"
  },
  "orig_nbformat": 4
 },
 "nbformat": 4,
 "nbformat_minor": 2
}
