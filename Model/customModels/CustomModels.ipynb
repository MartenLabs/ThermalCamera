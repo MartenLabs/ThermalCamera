{
 "cells": [
  {
   "cell_type": "code",
   "execution_count": 128,
   "metadata": {},
   "outputs": [],
   "source": [
    "import tensorflow as tf\n",
    "from tensorflow.keras.preprocessing.image import ImageDataGenerator\n",
    "from tensorflow.keras.models import Sequential\n",
    "from tensorflow import keras\n",
    "from tensorflow.keras.layers import Conv2D, MaxPooling2D, Flatten, Dense, Input, Concatenate\n",
    "\n",
    "\n",
    "# 하이퍼파라미터 설정\n",
    "image_height = 24\n",
    "image_width = 32\n",
    "batch_size = 32\n",
    "epochs = 100\n"
   ]
  },
  {
   "cell_type": "code",
   "execution_count": 86,
   "metadata": {},
   "outputs": [
    {
     "name": "stdout",
     "output_type": "stream",
     "text": [
      "False\n",
      "False\n",
      "False\n"
     ]
    }
   ],
   "source": [
    "import os\n",
    "import cv2\n",
    "import json\n",
    "import numpy as np\n",
    "from collections import defaultdict\n",
    "from sklearn.model_selection import train_test_split\n",
    "\n",
    "# 데이터셋 경로 설정\n",
    "dataset_dir = '/Users/mac/Dev/Project/ThermalCamera/Model/customModels/'\n",
    "without_human_dir = os.path.join(dataset_dir, 'without_human')\n",
    "\n",
    "# 이미지 파일 목록 읽기\n",
    "without_human_images = [os.path.join(without_human_dir, filename) for filename in os.listdir(without_human_dir)]\n",
    "\n",
    "test_dir = os.path.join(dataset_dir, 'test')\n",
    "train_dir = os.path.join(dataset_dir, 'train')\n",
    "valid_dir = os.path.join(dataset_dir, 'valid')\n",
    "\n",
    "test_images = [os.path.join(test_dir, filename) for filename in os.listdir(test_dir)]\n",
    "train_images = [os.path.join(train_dir, filename) for filename in os.listdir(train_dir)]\n",
    "valid_images = [os.path.join(valid_dir, filename) for filename in os.listdir(valid_dir)]\n",
    "\n",
    "print(test_images.__contains__('_groundtruth.json'))\n",
    "print(train_images.__contains__('_groundtruth.json'))\n",
    "print(valid_images.__contains__('_groundtruth.json'))\n",
    "# print(valid_images)\n",
    "\n",
    "\n",
    "# JSON 파일에서 이미지 이름 로드\n",
    "test_json = os.path.join(test_dir, '_groundtruth.json')\n",
    "with open(test_json, 'r') as f:\n",
    "    test_image_names = json.load(f)\n",
    "\n",
    "train_json = os.path.join(train_dir, '_groundtruth.json')\n",
    "with open(train_json, 'r') as f:\n",
    "    train_image_names = json.load(f)\n",
    "    \n",
    "valid_json = os.path.join(valid_dir, '_groundtruth.json')\n",
    "with open(valid_json, 'r') as f:\n",
    "    valid_image_names = json.load(f)\n",
    "\n",
    "\n",
    "# for image_path in test_images:\n",
    "#     count = 0\n",
    "#     for item in test_image_names:\n",
    "#         filename = item.get(\"filename\")\n",
    "#         if filename == os.path.basename(image_path):\n",
    "#             print(os.path.basename(image_path))\n",
    "#             count += 1\n",
    "#     print(count)\n",
    "\n",
    "# for image_path in train_images:\n",
    "#     print(list(filter(lambda x:x[\"filename\"]==os.path.basename(image_path),train_image_names)))\n",
    "#     break;\n",
    "\n",
    "\n",
    "\n"
   ]
  },
  {
   "cell_type": "code",
   "execution_count": 129,
   "metadata": {},
   "outputs": [
    {
     "name": "stdout",
     "output_type": "stream",
     "text": [
      "Train data shape: (2191, 24, 32)\n",
      "Validation data shape: (244, 24, 32)\n",
      "Test data shape: (244, 24, 32)\n"
     ]
    }
   ],
   "source": [
    "data = []\n",
    "numberOfPerson = []\n",
    "\n",
    "# 'with_human' 이미지와 레이블(1) 추가\n",
    "for image_path in train_images:\n",
    "    if not image_path.endswith('.DS_Store') and not image_path.endswith('_groundtruth.json'):  # .DS_Store 파일 건너뛰기\n",
    "        image = cv2.imread(image_path, cv2.IMREAD_GRAYSCALE)  # 이미지를 흑백으로 읽어옴\n",
    "        image = cv2.resize(image, (image_width, image_height))  # 이미지 크기 조절\n",
    "        data.append(image)\n",
    "        count = 0\n",
    "        for item in train_image_names:\n",
    "            filename = item.get(\"filename\")\n",
    "            if filename == os.path.basename(image_path):\n",
    "                count += 1\n",
    "        numberOfPerson.append(count)\n",
    "\n",
    "for image_path in valid_images:\n",
    "    if not image_path.endswith('.DS_Store') and not image_path.endswith('_groundtruth.json'):  # .DS_Store 파일 건너뛰기\n",
    "        image = cv2.imread(image_path, cv2.IMREAD_GRAYSCALE)  # 이미지를 흑백으로 읽어옴\n",
    "        image = cv2.resize(image, (image_width, image_height))  # 이미지 크기 조절\n",
    "        data.append(image)\n",
    "        count = 0\n",
    "        for item in valid_image_names:\n",
    "            filename = item.get(\"filename\")\n",
    "            if filename == os.path.basename(image_path):\n",
    "                count += 1\n",
    "        numberOfPerson.append(count)\n",
    "        \n",
    "for image_path in test_images:\n",
    "    if not image_path.endswith('.DS_Store') and not image_path.endswith('_groundtruth.json'):  # .DS_Store 파일 건너뛰기\n",
    "        image = cv2.imread(image_path, cv2.IMREAD_GRAYSCALE)  # 이미지를 흑백으로 읽어옴\n",
    "        image = cv2.resize(image, (image_width, image_height))  # 이미지 크기 조절\n",
    "        data.append(image)\n",
    "        count = 0\n",
    "        for item in test_image_names:\n",
    "            filename = item.get(\"filename\")\n",
    "            if filename == os.path.basename(image_path):\n",
    "                count += 1\n",
    "        numberOfPerson.append(count)\n",
    "\n",
    "# # 'without_human' 이미지와 레이블(0) 추가\n",
    "# for image_path in without_human_images:\n",
    "#     if not image_path.endswith('.DS_Store') and not image_path.endswith('_groundtruth.json'):  # .DS_Store 파일 건너뛰기\n",
    "#         image = cv2.imread(image_path, cv2.IMREAD_GRAYSCALE)\n",
    "#         image = cv2.resize(image, (image_width, image_height))\n",
    "#         data.append(image)\n",
    "#         numberOfPerson.append(0)\n",
    "\n",
    "\n",
    "one_hot = tf.one_hot(numberOfPerson, 3)\n",
    "\n",
    "# 데이터를 NumPy 배열로 변환\n",
    "data = np.array(data, dtype=np.float32)\n",
    "one_hot = np.array(one_hot, dtype = np.int32)\n",
    "# 데이터를 0에서 1 사이의 값으로 정규화\n",
    "data /= 255.0\n",
    "\n",
    "# 첫 번째 호출로 훈련 데이터와 검증 데이터 생성\n",
    "train_data, validation_data, train_numberOfPerson, validation_numberOfPerson = train_test_split(data, one_hot, test_size=0.1, random_state=42)\n",
    "\n",
    "# 두 번째 호출로 테스트 데이터 생성 (훈련 데이터를 기반으로 생성하지 않음)\n",
    "data_temp, test_data, numberOfPerson_temp, test_numberOfPerson = train_test_split(data, one_hot, test_size=0.1, random_state=42)\n",
    "\n",
    "# 데이터의 shape 확인\n",
    "print(\"Train data shape:\", train_data.shape)\n",
    "print(\"Validation data shape:\", validation_data.shape)\n",
    "print(\"Test data shape:\", test_data.shape)"
   ]
  },
  {
   "cell_type": "code",
   "execution_count": 132,
   "metadata": {},
   "outputs": [],
   "source": [
    "model = Sequential()\n",
    "\n",
    "# Convolutional 레이어\n",
    "model.add(Conv2D(32, (3, 3), activation='relu', input_shape=(image_height, image_width, 1)))\n",
    "model.add(MaxPooling2D((2, 2)))\n",
    "model.add(Conv2D(64, (3, 3), activation='relu'))\n",
    "model.add(MaxPooling2D((2, 2)))\n",
    "model.add(Conv2D(128, (3, 3), activation='relu'))\n",
    "model.add(MaxPooling2D((2, 2)))\n",
    "\n",
    "# Fully Connected 레이어\n",
    "model.add(Flatten())\n",
    "model.add(Dense(256, activation='relu'))\n",
    "model.add(Dense(128, activation='relu'))\n",
    "model.add(Dense(64, activation='relu'))\n",
    "model.add(Dense(32, activation='relu'))\n",
    "\n",
    "# 출력 레이어\n",
    "model.add(Dense(3, activation='softmax'))\n",
    "\n",
    "model.compile(optimizer='adam', loss='categorical_crossentropy', metrics=['accuracy'])\n"
   ]
  },
  {
   "cell_type": "code",
   "execution_count": 133,
   "metadata": {},
   "outputs": [
    {
     "name": "stdout",
     "output_type": "stream",
     "text": [
      "Epoch 1/100\n"
     ]
    },
    {
     "name": "stderr",
     "output_type": "stream",
     "text": [
      "2023-09-15 15:49:19.234150: I tensorflow/core/grappler/optimizers/custom_graph_optimizer_registry.cc:114] Plugin optimizer for device_type GPU is enabled.\n"
     ]
    },
    {
     "name": "stdout",
     "output_type": "stream",
     "text": [
      "69/69 [==============================] - ETA: 0s - loss: 0.6869 - accuracy: 0.6194"
     ]
    },
    {
     "name": "stderr",
     "output_type": "stream",
     "text": [
      "2023-09-15 15:49:26.923453: I tensorflow/core/grappler/optimizers/custom_graph_optimizer_registry.cc:114] Plugin optimizer for device_type GPU is enabled.\n"
     ]
    },
    {
     "name": "stdout",
     "output_type": "stream",
     "text": [
      "69/69 [==============================] - 10s 100ms/step - loss: 0.6869 - accuracy: 0.6194 - val_loss: 0.7687 - val_accuracy: 0.6148\n",
      "Epoch 2/100\n",
      "69/69 [==============================] - 4s 57ms/step - loss: 4.6685 - accuracy: 0.5755 - val_loss: 30.1474 - val_accuracy: 0.3279\n",
      "Epoch 3/100\n",
      "69/69 [==============================] - 4s 59ms/step - loss: 237.8934 - accuracy: 0.5212 - val_loss: 2667.8010 - val_accuracy: 0.6107\n",
      "Epoch 4/100\n",
      "69/69 [==============================] - 4s 56ms/step - loss: 7564.5771 - accuracy: 0.5436 - val_loss: 59493.3789 - val_accuracy: 0.6107\n",
      "Epoch 5/100\n",
      "69/69 [==============================] - 4s 57ms/step - loss: 104546.3984 - accuracy: 0.5299 - val_loss: 209264.0938 - val_accuracy: 0.3279\n",
      "Epoch 6/100\n",
      "69/69 [==============================] - 4s 56ms/step - loss: 679269.9375 - accuracy: 0.5253 - val_loss: 2754592.5000 - val_accuracy: 0.6107\n",
      "Epoch 7/100\n",
      "69/69 [==============================] - 4s 57ms/step - loss: 4001550.7500 - accuracy: 0.5367 - val_loss: 27671276.0000 - val_accuracy: 0.6107\n",
      "Epoch 8/100\n",
      "69/69 [==============================] - 4s 60ms/step - loss: 16763595.0000 - accuracy: 0.5349 - val_loss: 24591914.0000 - val_accuracy: 0.6107\n",
      "Epoch 9/100\n",
      "69/69 [==============================] - 4s 58ms/step - loss: 88722800.0000 - accuracy: 0.5294 - val_loss: 58603200.0000 - val_accuracy: 0.6107\n",
      "Epoch 10/100\n",
      "69/69 [==============================] - 4s 57ms/step - loss: 568444864.0000 - accuracy: 0.5112 - val_loss: 1312622976.0000 - val_accuracy: 0.0615\n",
      "Epoch 11/100\n",
      "69/69 [==============================] - 4s 57ms/step - loss: 1638469376.0000 - accuracy: 0.5367 - val_loss: 1392128128.0000 - val_accuracy: 0.3279\n",
      "Epoch 12/100\n",
      "69/69 [==============================] - 4s 57ms/step - loss: 6129804800.0000 - accuracy: 0.5235 - val_loss: 16031888384.0000 - val_accuracy: 0.6107\n",
      "Epoch 13/100\n",
      "69/69 [==============================] - 4s 57ms/step - loss: 15356439552.0000 - accuracy: 0.5290 - val_loss: 3061227264.0000 - val_accuracy: 0.3279\n",
      "Epoch 14/100\n",
      "69/69 [==============================] - 4s 57ms/step - loss: 24903340032.0000 - accuracy: 0.5367 - val_loss: 9889967104.0000 - val_accuracy: 0.6107\n",
      "Epoch 15/100\n",
      "69/69 [==============================] - 4s 57ms/step - loss: 54914490368.0000 - accuracy: 0.5130 - val_loss: 47019405312.0000 - val_accuracy: 0.6107\n",
      "Epoch 16/100\n",
      "69/69 [==============================] - 4s 57ms/step - loss: 111214387200.0000 - accuracy: 0.5472 - val_loss: 146574622720.0000 - val_accuracy: 0.3279\n",
      "Epoch 17/100\n",
      "69/69 [==============================] - 4s 57ms/step - loss: 227533881344.0000 - accuracy: 0.5167 - val_loss: 397988921344.0000 - val_accuracy: 0.6107\n",
      "Epoch 18/100\n",
      "69/69 [==============================] - 4s 57ms/step - loss: 462590902272.0000 - accuracy: 0.5404 - val_loss: 227438477312.0000 - val_accuracy: 0.6107\n",
      "Epoch 19/100\n",
      "69/69 [==============================] - 4s 58ms/step - loss: 501670019072.0000 - accuracy: 0.5199 - val_loss: 906090053632.0000 - val_accuracy: 0.3279\n",
      "Epoch 20/100\n",
      "69/69 [==============================] - 4s 57ms/step - loss: 632791040000.0000 - accuracy: 0.5180 - val_loss: 1269754363904.0000 - val_accuracy: 0.6107\n",
      "Epoch 21/100\n",
      "69/69 [==============================] - 4s 57ms/step - loss: 1146825605120.0000 - accuracy: 0.5363 - val_loss: 1148969549824.0000 - val_accuracy: 0.6107\n",
      "Epoch 22/100\n",
      "69/69 [==============================] - 4s 58ms/step - loss: 1924872798208.0000 - accuracy: 0.5363 - val_loss: 483269902336.0000 - val_accuracy: 0.6107\n",
      "Epoch 23/100\n",
      "69/69 [==============================] - 4s 60ms/step - loss: 1824027967488.0000 - accuracy: 0.5431 - val_loss: 1880173576192.0000 - val_accuracy: 0.6107\n",
      "Epoch 24/100\n",
      "69/69 [==============================] - 4s 56ms/step - loss: 3075244556288.0000 - accuracy: 0.5390 - val_loss: 10120643739648.0000 - val_accuracy: 0.3279\n",
      "Epoch 25/100\n",
      "69/69 [==============================] - 4s 56ms/step - loss: 6392312758272.0000 - accuracy: 0.5472 - val_loss: 3020285018112.0000 - val_accuracy: 0.6107\n",
      "Epoch 26/100\n",
      "69/69 [==============================] - 4s 58ms/step - loss: 5662597709824.0000 - accuracy: 0.5208 - val_loss: 3343748694016.0000 - val_accuracy: 0.6107\n",
      "Epoch 27/100\n",
      "69/69 [==============================] - 4s 59ms/step - loss: 10798186364928.0000 - accuracy: 0.5240 - val_loss: 8943981035520.0000 - val_accuracy: 0.3279\n",
      "Epoch 28/100\n",
      " 1/69 [..............................] - ETA: 3s - loss: 7565844938752.0000 - accuracy: 0.3125"
     ]
    },
    {
     "ename": "KeyboardInterrupt",
     "evalue": "",
     "output_type": "error",
     "traceback": [
      "\u001b[0;31m---------------------------------------------------------------------------\u001b[0m",
      "\u001b[0;31mKeyboardInterrupt\u001b[0m                         Traceback (most recent call last)",
      "\u001b[1;32m/Users/mac/Dev/Project/ThermalCamera/Model/customModels/CustomModels.ipynb 셀 5\u001b[0m line \u001b[0;36m1\n\u001b[0;32m----> <a href='vscode-notebook-cell:/Users/mac/Dev/Project/ThermalCamera/Model/customModels/CustomModels.ipynb#W3sZmlsZQ%3D%3D?line=0'>1</a>\u001b[0m model\u001b[39m.\u001b[39;49mfit(\n\u001b[1;32m      <a href='vscode-notebook-cell:/Users/mac/Dev/Project/ThermalCamera/Model/customModels/CustomModels.ipynb#W3sZmlsZQ%3D%3D?line=1'>2</a>\u001b[0m     train_data,  \u001b[39m# 훈련 데이터\u001b[39;49;00m\n\u001b[1;32m      <a href='vscode-notebook-cell:/Users/mac/Dev/Project/ThermalCamera/Model/customModels/CustomModels.ipynb#W3sZmlsZQ%3D%3D?line=2'>3</a>\u001b[0m     train_numberOfPerson,  \u001b[39m# 훈련 레이블\u001b[39;49;00m\n\u001b[1;32m      <a href='vscode-notebook-cell:/Users/mac/Dev/Project/ThermalCamera/Model/customModels/CustomModels.ipynb#W3sZmlsZQ%3D%3D?line=3'>4</a>\u001b[0m     epochs\u001b[39m=\u001b[39;49mepochs,  \u001b[39m# 에포크 횟수\u001b[39;49;00m\n\u001b[1;32m      <a href='vscode-notebook-cell:/Users/mac/Dev/Project/ThermalCamera/Model/customModels/CustomModels.ipynb#W3sZmlsZQ%3D%3D?line=4'>5</a>\u001b[0m     validation_data\u001b[39m=\u001b[39;49m(validation_data, validation_numberOfPerson),  \u001b[39m# 검증 데이터\u001b[39;49;00m\n\u001b[1;32m      <a href='vscode-notebook-cell:/Users/mac/Dev/Project/ThermalCamera/Model/customModels/CustomModels.ipynb#W3sZmlsZQ%3D%3D?line=5'>6</a>\u001b[0m     batch_size\u001b[39m=\u001b[39;49mbatch_size  \u001b[39m# 배치 크기\u001b[39;49;00m\n\u001b[1;32m      <a href='vscode-notebook-cell:/Users/mac/Dev/Project/ThermalCamera/Model/customModels/CustomModels.ipynb#W3sZmlsZQ%3D%3D?line=6'>7</a>\u001b[0m )\n",
      "File \u001b[0;32m~/anaconda3/envs/tf2/lib/python3.8/site-packages/keras/src/utils/traceback_utils.py:65\u001b[0m, in \u001b[0;36mfilter_traceback.<locals>.error_handler\u001b[0;34m(*args, **kwargs)\u001b[0m\n\u001b[1;32m     63\u001b[0m filtered_tb \u001b[39m=\u001b[39m \u001b[39mNone\u001b[39;00m\n\u001b[1;32m     64\u001b[0m \u001b[39mtry\u001b[39;00m:\n\u001b[0;32m---> 65\u001b[0m     \u001b[39mreturn\u001b[39;00m fn(\u001b[39m*\u001b[39;49margs, \u001b[39m*\u001b[39;49m\u001b[39m*\u001b[39;49mkwargs)\n\u001b[1;32m     66\u001b[0m \u001b[39mexcept\u001b[39;00m \u001b[39mException\u001b[39;00m \u001b[39mas\u001b[39;00m e:\n\u001b[1;32m     67\u001b[0m     filtered_tb \u001b[39m=\u001b[39m _process_traceback_frames(e\u001b[39m.\u001b[39m__traceback__)\n",
      "File \u001b[0;32m~/anaconda3/envs/tf2/lib/python3.8/site-packages/keras/src/engine/training.py:1742\u001b[0m, in \u001b[0;36mModel.fit\u001b[0;34m(self, x, y, batch_size, epochs, verbose, callbacks, validation_split, validation_data, shuffle, class_weight, sample_weight, initial_epoch, steps_per_epoch, validation_steps, validation_batch_size, validation_freq, max_queue_size, workers, use_multiprocessing)\u001b[0m\n\u001b[1;32m   1734\u001b[0m \u001b[39mwith\u001b[39;00m tf\u001b[39m.\u001b[39mprofiler\u001b[39m.\u001b[39mexperimental\u001b[39m.\u001b[39mTrace(\n\u001b[1;32m   1735\u001b[0m     \u001b[39m\"\u001b[39m\u001b[39mtrain\u001b[39m\u001b[39m\"\u001b[39m,\n\u001b[1;32m   1736\u001b[0m     epoch_num\u001b[39m=\u001b[39mepoch,\n\u001b[0;32m   (...)\u001b[0m\n\u001b[1;32m   1739\u001b[0m     _r\u001b[39m=\u001b[39m\u001b[39m1\u001b[39m,\n\u001b[1;32m   1740\u001b[0m ):\n\u001b[1;32m   1741\u001b[0m     callbacks\u001b[39m.\u001b[39mon_train_batch_begin(step)\n\u001b[0;32m-> 1742\u001b[0m     tmp_logs \u001b[39m=\u001b[39m \u001b[39mself\u001b[39;49m\u001b[39m.\u001b[39;49mtrain_function(iterator)\n\u001b[1;32m   1743\u001b[0m     \u001b[39mif\u001b[39;00m data_handler\u001b[39m.\u001b[39mshould_sync:\n\u001b[1;32m   1744\u001b[0m         context\u001b[39m.\u001b[39masync_wait()\n",
      "File \u001b[0;32m~/anaconda3/envs/tf2/lib/python3.8/site-packages/tensorflow/python/util/traceback_utils.py:150\u001b[0m, in \u001b[0;36mfilter_traceback.<locals>.error_handler\u001b[0;34m(*args, **kwargs)\u001b[0m\n\u001b[1;32m    148\u001b[0m filtered_tb \u001b[39m=\u001b[39m \u001b[39mNone\u001b[39;00m\n\u001b[1;32m    149\u001b[0m \u001b[39mtry\u001b[39;00m:\n\u001b[0;32m--> 150\u001b[0m   \u001b[39mreturn\u001b[39;00m fn(\u001b[39m*\u001b[39;49margs, \u001b[39m*\u001b[39;49m\u001b[39m*\u001b[39;49mkwargs)\n\u001b[1;32m    151\u001b[0m \u001b[39mexcept\u001b[39;00m \u001b[39mException\u001b[39;00m \u001b[39mas\u001b[39;00m e:\n\u001b[1;32m    152\u001b[0m   filtered_tb \u001b[39m=\u001b[39m _process_traceback_frames(e\u001b[39m.\u001b[39m__traceback__)\n",
      "File \u001b[0;32m~/anaconda3/envs/tf2/lib/python3.8/site-packages/tensorflow/python/eager/polymorphic_function/polymorphic_function.py:825\u001b[0m, in \u001b[0;36mFunction.__call__\u001b[0;34m(self, *args, **kwds)\u001b[0m\n\u001b[1;32m    822\u001b[0m compiler \u001b[39m=\u001b[39m \u001b[39m\"\u001b[39m\u001b[39mxla\u001b[39m\u001b[39m\"\u001b[39m \u001b[39mif\u001b[39;00m \u001b[39mself\u001b[39m\u001b[39m.\u001b[39m_jit_compile \u001b[39melse\u001b[39;00m \u001b[39m\"\u001b[39m\u001b[39mnonXla\u001b[39m\u001b[39m\"\u001b[39m\n\u001b[1;32m    824\u001b[0m \u001b[39mwith\u001b[39;00m OptionalXlaContext(\u001b[39mself\u001b[39m\u001b[39m.\u001b[39m_jit_compile):\n\u001b[0;32m--> 825\u001b[0m   result \u001b[39m=\u001b[39m \u001b[39mself\u001b[39;49m\u001b[39m.\u001b[39;49m_call(\u001b[39m*\u001b[39;49margs, \u001b[39m*\u001b[39;49m\u001b[39m*\u001b[39;49mkwds)\n\u001b[1;32m    827\u001b[0m new_tracing_count \u001b[39m=\u001b[39m \u001b[39mself\u001b[39m\u001b[39m.\u001b[39mexperimental_get_tracing_count()\n\u001b[1;32m    828\u001b[0m without_tracing \u001b[39m=\u001b[39m (tracing_count \u001b[39m==\u001b[39m new_tracing_count)\n",
      "File \u001b[0;32m~/anaconda3/envs/tf2/lib/python3.8/site-packages/tensorflow/python/eager/polymorphic_function/polymorphic_function.py:857\u001b[0m, in \u001b[0;36mFunction._call\u001b[0;34m(self, *args, **kwds)\u001b[0m\n\u001b[1;32m    854\u001b[0m   \u001b[39mself\u001b[39m\u001b[39m.\u001b[39m_lock\u001b[39m.\u001b[39mrelease()\n\u001b[1;32m    855\u001b[0m   \u001b[39m# In this case we have created variables on the first call, so we run the\u001b[39;00m\n\u001b[1;32m    856\u001b[0m   \u001b[39m# defunned version which is guaranteed to never create variables.\u001b[39;00m\n\u001b[0;32m--> 857\u001b[0m   \u001b[39mreturn\u001b[39;00m \u001b[39mself\u001b[39;49m\u001b[39m.\u001b[39;49m_no_variable_creation_fn(\u001b[39m*\u001b[39;49margs, \u001b[39m*\u001b[39;49m\u001b[39m*\u001b[39;49mkwds)  \u001b[39m# pylint: disable=not-callable\u001b[39;00m\n\u001b[1;32m    858\u001b[0m \u001b[39melif\u001b[39;00m \u001b[39mself\u001b[39m\u001b[39m.\u001b[39m_variable_creation_fn \u001b[39mis\u001b[39;00m \u001b[39mnot\u001b[39;00m \u001b[39mNone\u001b[39;00m:\n\u001b[1;32m    859\u001b[0m   \u001b[39m# Release the lock early so that multiple threads can perform the call\u001b[39;00m\n\u001b[1;32m    860\u001b[0m   \u001b[39m# in parallel.\u001b[39;00m\n\u001b[1;32m    861\u001b[0m   \u001b[39mself\u001b[39m\u001b[39m.\u001b[39m_lock\u001b[39m.\u001b[39mrelease()\n",
      "File \u001b[0;32m~/anaconda3/envs/tf2/lib/python3.8/site-packages/tensorflow/python/eager/polymorphic_function/tracing_compiler.py:148\u001b[0m, in \u001b[0;36mTracingCompiler.__call__\u001b[0;34m(self, *args, **kwargs)\u001b[0m\n\u001b[1;32m    145\u001b[0m \u001b[39mwith\u001b[39;00m \u001b[39mself\u001b[39m\u001b[39m.\u001b[39m_lock:\n\u001b[1;32m    146\u001b[0m   (concrete_function,\n\u001b[1;32m    147\u001b[0m    filtered_flat_args) \u001b[39m=\u001b[39m \u001b[39mself\u001b[39m\u001b[39m.\u001b[39m_maybe_define_function(args, kwargs)\n\u001b[0;32m--> 148\u001b[0m \u001b[39mreturn\u001b[39;00m concrete_function\u001b[39m.\u001b[39;49m_call_flat(\n\u001b[1;32m    149\u001b[0m     filtered_flat_args, captured_inputs\u001b[39m=\u001b[39;49mconcrete_function\u001b[39m.\u001b[39;49mcaptured_inputs)\n",
      "File \u001b[0;32m~/anaconda3/envs/tf2/lib/python3.8/site-packages/tensorflow/python/eager/polymorphic_function/monomorphic_function.py:1349\u001b[0m, in \u001b[0;36mConcreteFunction._call_flat\u001b[0;34m(self, args, captured_inputs)\u001b[0m\n\u001b[1;32m   1345\u001b[0m possible_gradient_type \u001b[39m=\u001b[39m gradients_util\u001b[39m.\u001b[39mPossibleTapeGradientTypes(args)\n\u001b[1;32m   1346\u001b[0m \u001b[39mif\u001b[39;00m (possible_gradient_type \u001b[39m==\u001b[39m gradients_util\u001b[39m.\u001b[39mPOSSIBLE_GRADIENT_TYPES_NONE\n\u001b[1;32m   1347\u001b[0m     \u001b[39mand\u001b[39;00m executing_eagerly):\n\u001b[1;32m   1348\u001b[0m   \u001b[39m# No tape is watching; skip to running the function.\u001b[39;00m\n\u001b[0;32m-> 1349\u001b[0m   \u001b[39mreturn\u001b[39;00m \u001b[39mself\u001b[39m\u001b[39m.\u001b[39m_build_call_outputs(\u001b[39mself\u001b[39;49m\u001b[39m.\u001b[39;49m_inference_function(\u001b[39m*\u001b[39;49margs))\n\u001b[1;32m   1350\u001b[0m forward_backward \u001b[39m=\u001b[39m \u001b[39mself\u001b[39m\u001b[39m.\u001b[39m_select_forward_and_backward_functions(\n\u001b[1;32m   1351\u001b[0m     args,\n\u001b[1;32m   1352\u001b[0m     possible_gradient_type,\n\u001b[1;32m   1353\u001b[0m     executing_eagerly)\n\u001b[1;32m   1354\u001b[0m forward_function, args_with_tangents \u001b[39m=\u001b[39m forward_backward\u001b[39m.\u001b[39mforward()\n",
      "File \u001b[0;32m~/anaconda3/envs/tf2/lib/python3.8/site-packages/tensorflow/python/eager/polymorphic_function/atomic_function.py:196\u001b[0m, in \u001b[0;36mAtomicFunction.__call__\u001b[0;34m(self, *args)\u001b[0m\n\u001b[1;32m    194\u001b[0m \u001b[39mwith\u001b[39;00m record\u001b[39m.\u001b[39mstop_recording():\n\u001b[1;32m    195\u001b[0m   \u001b[39mif\u001b[39;00m \u001b[39mself\u001b[39m\u001b[39m.\u001b[39m_bound_context\u001b[39m.\u001b[39mexecuting_eagerly():\n\u001b[0;32m--> 196\u001b[0m     outputs \u001b[39m=\u001b[39m \u001b[39mself\u001b[39;49m\u001b[39m.\u001b[39;49m_bound_context\u001b[39m.\u001b[39;49mcall_function(\n\u001b[1;32m    197\u001b[0m         \u001b[39mself\u001b[39;49m\u001b[39m.\u001b[39;49mname,\n\u001b[1;32m    198\u001b[0m         \u001b[39mlist\u001b[39;49m(args),\n\u001b[1;32m    199\u001b[0m         \u001b[39mlen\u001b[39;49m(\u001b[39mself\u001b[39;49m\u001b[39m.\u001b[39;49mfunction_type\u001b[39m.\u001b[39;49mflat_outputs),\n\u001b[1;32m    200\u001b[0m     )\n\u001b[1;32m    201\u001b[0m   \u001b[39melse\u001b[39;00m:\n\u001b[1;32m    202\u001b[0m     outputs \u001b[39m=\u001b[39m make_call_op_in_graph(\u001b[39mself\u001b[39m, \u001b[39mlist\u001b[39m(args))\n",
      "File \u001b[0;32m~/anaconda3/envs/tf2/lib/python3.8/site-packages/tensorflow/python/eager/context.py:1457\u001b[0m, in \u001b[0;36mContext.call_function\u001b[0;34m(self, name, tensor_inputs, num_outputs)\u001b[0m\n\u001b[1;32m   1455\u001b[0m cancellation_context \u001b[39m=\u001b[39m cancellation\u001b[39m.\u001b[39mcontext()\n\u001b[1;32m   1456\u001b[0m \u001b[39mif\u001b[39;00m cancellation_context \u001b[39mis\u001b[39;00m \u001b[39mNone\u001b[39;00m:\n\u001b[0;32m-> 1457\u001b[0m   outputs \u001b[39m=\u001b[39m execute\u001b[39m.\u001b[39;49mexecute(\n\u001b[1;32m   1458\u001b[0m       name\u001b[39m.\u001b[39;49mdecode(\u001b[39m\"\u001b[39;49m\u001b[39mutf-8\u001b[39;49m\u001b[39m\"\u001b[39;49m),\n\u001b[1;32m   1459\u001b[0m       num_outputs\u001b[39m=\u001b[39;49mnum_outputs,\n\u001b[1;32m   1460\u001b[0m       inputs\u001b[39m=\u001b[39;49mtensor_inputs,\n\u001b[1;32m   1461\u001b[0m       attrs\u001b[39m=\u001b[39;49mattrs,\n\u001b[1;32m   1462\u001b[0m       ctx\u001b[39m=\u001b[39;49m\u001b[39mself\u001b[39;49m,\n\u001b[1;32m   1463\u001b[0m   )\n\u001b[1;32m   1464\u001b[0m \u001b[39melse\u001b[39;00m:\n\u001b[1;32m   1465\u001b[0m   outputs \u001b[39m=\u001b[39m execute\u001b[39m.\u001b[39mexecute_with_cancellation(\n\u001b[1;32m   1466\u001b[0m       name\u001b[39m.\u001b[39mdecode(\u001b[39m\"\u001b[39m\u001b[39mutf-8\u001b[39m\u001b[39m\"\u001b[39m),\n\u001b[1;32m   1467\u001b[0m       num_outputs\u001b[39m=\u001b[39mnum_outputs,\n\u001b[0;32m   (...)\u001b[0m\n\u001b[1;32m   1471\u001b[0m       cancellation_manager\u001b[39m=\u001b[39mcancellation_context,\n\u001b[1;32m   1472\u001b[0m   )\n",
      "File \u001b[0;32m~/anaconda3/envs/tf2/lib/python3.8/site-packages/tensorflow/python/eager/execute.py:53\u001b[0m, in \u001b[0;36mquick_execute\u001b[0;34m(op_name, num_outputs, inputs, attrs, ctx, name)\u001b[0m\n\u001b[1;32m     51\u001b[0m \u001b[39mtry\u001b[39;00m:\n\u001b[1;32m     52\u001b[0m   ctx\u001b[39m.\u001b[39mensure_initialized()\n\u001b[0;32m---> 53\u001b[0m   tensors \u001b[39m=\u001b[39m pywrap_tfe\u001b[39m.\u001b[39;49mTFE_Py_Execute(ctx\u001b[39m.\u001b[39;49m_handle, device_name, op_name,\n\u001b[1;32m     54\u001b[0m                                       inputs, attrs, num_outputs)\n\u001b[1;32m     55\u001b[0m \u001b[39mexcept\u001b[39;00m core\u001b[39m.\u001b[39m_NotOkStatusException \u001b[39mas\u001b[39;00m e:\n\u001b[1;32m     56\u001b[0m   \u001b[39mif\u001b[39;00m name \u001b[39mis\u001b[39;00m \u001b[39mnot\u001b[39;00m \u001b[39mNone\u001b[39;00m:\n",
      "\u001b[0;31mKeyboardInterrupt\u001b[0m: "
     ]
    }
   ],
   "source": [
    "model.fit(\n",
    "    train_data,  # 훈련 데이터\n",
    "    train_numberOfPerson,  # 훈련 레이블\n",
    "    epochs=epochs,  # 에포크 횟수\n",
    "    validation_data=(validation_data, validation_numberOfPerson),  # 검증 데이터\n",
    "    batch_size=batch_size  # 배치 크기\n",
    ")\n"
   ]
  },
  {
   "cell_type": "code",
   "execution_count": 121,
   "metadata": {},
   "outputs": [
    {
     "name": "stdout",
     "output_type": "stream",
     "text": [
      "8/8 [==============================] - 0s 46ms/step - loss: 31111405568.0000 - accuracy: 0.6107\n",
      "Test accuracy: 0.6106557250022888\n"
     ]
    }
   ],
   "source": [
    "test_loss, test_accuracy = model.evaluate(test_data, test_numberOfPerson)\n",
    "print(f\"Test accuracy: {test_accuracy}\")\n"
   ]
  },
  {
   "cell_type": "code",
   "execution_count": 127,
   "metadata": {},
   "outputs": [
    {
     "name": "stdout",
     "output_type": "stream",
     "text": [
      "1/1 [==============================] - 0s 15ms/step\n",
      "[[0. 1. 0.]]\n"
     ]
    }
   ],
   "source": [
    "import cv2\n",
    "import numpy as np\n",
    "\n",
    "# 이미지 파일 경로 설정\n",
    "img_path = '/Users/mac/Dev/Project/ThermalCamera/Model/customModels/test/2-_1-mp4_41_png.rf.1cd2ee1224fbccfe99d38870e28585b0.jpg'\n",
    "\n",
    "# 이미지 읽기 및 전처리\n",
    "image = cv2.imread(img_path, cv2.IMREAD_GRAYSCALE)  # 이미지를 흑백으로 읽어옴\n",
    "image = cv2.resize(image, (image_width, image_height))  # 이미지 크기 조절\n",
    "image = image.astype(np.float32) / 255.0  # 정규화\n",
    "\n",
    "# 모델에 이미지 입력\n",
    "predictions = model.predict(np.expand_dims(image, axis=0))  # 이미지를 배치 차원을 추가하여 모델에 전달\n",
    "\n",
    "print(predictions)\n"
   ]
  },
  {
   "cell_type": "code",
   "execution_count": null,
   "metadata": {},
   "outputs": [],
   "source": [
    "model.save(\"detect.h5\")  # 모델 저장"
   ]
  }
 ],
 "metadata": {
  "kernelspec": {
   "display_name": "tf2",
   "language": "python",
   "name": "python3"
  },
  "language_info": {
   "codemirror_mode": {
    "name": "ipython",
    "version": 3
   },
   "file_extension": ".py",
   "mimetype": "text/x-python",
   "name": "python",
   "nbconvert_exporter": "python",
   "pygments_lexer": "ipython3",
   "version": "3.8.18"
  },
  "orig_nbformat": 4
 },
 "nbformat": 4,
 "nbformat_minor": 2
}
