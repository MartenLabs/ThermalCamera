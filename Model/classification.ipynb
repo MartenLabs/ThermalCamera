{
 "cells": [
  {
   "cell_type": "code",
   "execution_count": 7,
   "metadata": {},
   "outputs": [],
   "source": [
    "import tensorflow as tf\n",
    "from tensorflow.keras.preprocessing.image import ImageDataGenerator\n",
    "from tensorflow.keras.models import Sequential\n",
    "from tensorflow.keras.layers import Conv2D, MaxPooling2D, Flatten, Dense\n",
    "\n",
    "# 하이퍼파라미터 설정\n",
    "image_height = 24\n",
    "image_width = 32\n",
    "batch_size = 32\n",
    "epochs = 15\n"
   ]
  },
  {
   "cell_type": "markdown",
   "metadata": {},
   "source": [
    "2. 데이터 전처리 및 데이터 제너레이터 설정"
   ]
  },
  {
   "cell_type": "code",
   "execution_count": 8,
   "metadata": {},
   "outputs": [
    {
     "name": "stdout",
     "output_type": "stream",
     "text": [
      "Found 1186 images belonging to 2 classes.\n",
      "Found 50 images belonging to 2 classes.\n"
     ]
    }
   ],
   "source": [
    "datagen = ImageDataGenerator(rescale=1.0 / 255)\n",
    "\n",
    "train_generator = datagen.flow_from_directory(\n",
    "    'dataset/train',\n",
    "    target_size=(image_height, image_width),\n",
    "    batch_size=batch_size,\n",
    "    class_mode='binary',\n",
    "    color_mode='grayscale'\n",
    ")\n",
    "\n",
    "validation_generator = datagen.flow_from_directory(\n",
    "    'dataset/validation',\n",
    "    target_size=(image_height, image_width),\n",
    "    batch_size=batch_size,\n",
    "    class_mode='binary',\n",
    "    color_mode='grayscale'\n",
    ")\n"
   ]
  },
  {
   "cell_type": "markdown",
   "metadata": {},
   "source": [
    "3. CNN 모델 아키텍쳐 정의"
   ]
  },
  {
   "cell_type": "code",
   "execution_count": 9,
   "metadata": {},
   "outputs": [],
   "source": [
    "model = Sequential()\n",
    "\n",
    "model.add(Conv2D(32, (3, 3), activation='relu', input_shape=(image_height, image_width, 1)))\n",
    "model.add(MaxPooling2D((2, 2)))\n",
    "\n",
    "model.add(Conv2D(64, (3, 3), activation='relu'))\n",
    "model.add(MaxPooling2D((2, 2)))\n",
    "\n",
    "model.add(Conv2D(128, (3, 3), activation='relu'))\n",
    "model.add(MaxPooling2D((2, 2)))\n",
    "\n",
    "model.add(Flatten())\n",
    "model.add(Dense(128, activation='relu'))\n",
    "model.add(Dense(1, activation='sigmoid'))\n",
    "\n",
    "model.compile(optimizer='adam', loss='binary_crossentropy', metrics=['accuracy'])\n"
   ]
  },
  {
   "cell_type": "markdown",
   "metadata": {},
   "source": [
    "model training"
   ]
  },
  {
   "cell_type": "code",
   "execution_count": 10,
   "metadata": {},
   "outputs": [
    {
     "name": "stdout",
     "output_type": "stream",
     "text": [
      "Epoch 1/100\n"
     ]
    },
    {
     "name": "stderr",
     "output_type": "stream",
     "text": [
      "loc(\"mps_select\"(\"(mpsFileLoc): /AppleInternal/Library/BuildRoots/0783246a-4091-11ee-8fca-aead88ae2785/Library/Caches/com.apple.xbs/Sources/MetalPerformanceShadersGraph/mpsgraph/MetalPerformanceShadersGraph/Core/Files/MPSGraphUtilities.mm\":294:0)): error: 'anec.gain_offset_control' op result #0 must be 4D/5D memref of 16-bit float or 8-bit signed integer or 8-bit unsigned integer values, but got 'memref<1x32x1x1xi1>'\n",
      "loc(\"mps_select\"(\"(mpsFileLoc): /AppleInternal/Library/BuildRoots/0783246a-4091-11ee-8fca-aead88ae2785/Library/Caches/com.apple.xbs/Sources/MetalPerformanceShadersGraph/mpsgraph/MetalPerformanceShadersGraph/Core/Files/MPSGraphUtilities.mm\":294:0)): error: 'anec.gain_offset_control' op result #0 must be 4D/5D memref of 16-bit float or 8-bit signed integer or 8-bit unsigned integer values, but got 'memref<1x32x1x1xi1>'\n",
      "loc(\"mps_select\"(\"(mpsFileLoc): /AppleInternal/Library/BuildRoots/0783246a-4091-11ee-8fca-aead88ae2785/Library/Caches/com.apple.xbs/Sources/MetalPerformanceShadersGraph/mpsgraph/MetalPerformanceShadersGraph/Core/Files/MPSGraphUtilities.mm\":294:0)): error: 'anec.gain_offset_control' op result #0 must be 4D/5D memref of 16-bit float or 8-bit signed integer or 8-bit unsigned integer values, but got 'memref<1x32x1x1xi1>'\n",
      "loc(\"mps_select\"(\"(mpsFileLoc): /AppleInternal/Library/BuildRoots/0783246a-4091-11ee-8fca-aead88ae2785/Library/Caches/com.apple.xbs/Sources/MetalPerformanceShadersGraph/mpsgraph/MetalPerformanceShadersGraph/Core/Files/MPSGraphUtilities.mm\":294:0)): error: 'anec.gain_offset_control' op result #0 must be 4D/5D memref of 16-bit float or 8-bit signed integer or 8-bit unsigned integer values, but got 'memref<1x32x1x1xi1>'\n",
      "loc(\"mps_select\"(\"(mpsFileLoc): /AppleInternal/Library/BuildRoots/0783246a-4091-11ee-8fca-aead88ae2785/Library/Caches/com.apple.xbs/Sources/MetalPerformanceShadersGraph/mpsgraph/MetalPerformanceShadersGraph/Core/Files/MPSGraphUtilities.mm\":294:0)): error: 'anec.gain_offset_control' op result #0 must be 4D/5D memref of 16-bit float or 8-bit signed integer or 8-bit unsigned integer values, but got 'memref<1x32x1x1xi1>'\n"
     ]
    },
    {
     "name": "stdout",
     "output_type": "stream",
     "text": [
      " 8/37 [=====>........................] - ETA: 0s - loss: 0.5330 - accuracy: 0.8398"
     ]
    },
    {
     "name": "stderr",
     "output_type": "stream",
     "text": [
      "loc(\"mps_select\"(\"(mpsFileLoc): /AppleInternal/Library/BuildRoots/0783246a-4091-11ee-8fca-aead88ae2785/Library/Caches/com.apple.xbs/Sources/MetalPerformanceShadersGraph/mpsgraph/MetalPerformanceShadersGraph/Core/Files/MPSGraphUtilities.mm\":294:0)): error: 'anec.gain_offset_control' op result #0 must be 4D/5D memref of 16-bit float or 8-bit signed integer or 8-bit unsigned integer values, but got 'memref<1x2x1x1xi1>'\n",
      "loc(\"mps_select\"(\"(mpsFileLoc): /AppleInternal/Library/BuildRoots/0783246a-4091-11ee-8fca-aead88ae2785/Library/Caches/com.apple.xbs/Sources/MetalPerformanceShadersGraph/mpsgraph/MetalPerformanceShadersGraph/Core/Files/MPSGraphUtilities.mm\":294:0)): error: 'anec.gain_offset_control' op result #0 must be 4D/5D memref of 16-bit float or 8-bit signed integer or 8-bit unsigned integer values, but got 'memref<1x2x1x1xi1>'\n",
      "loc(\"mps_select\"(\"(mpsFileLoc): /AppleInternal/Library/BuildRoots/0783246a-4091-11ee-8fca-aead88ae2785/Library/Caches/com.apple.xbs/Sources/MetalPerformanceShadersGraph/mpsgraph/MetalPerformanceShadersGraph/Core/Files/MPSGraphUtilities.mm\":294:0)): error: 'anec.gain_offset_control' op result #0 must be 4D/5D memref of 16-bit float or 8-bit signed integer or 8-bit unsigned integer values, but got 'memref<1x2x1x1xi1>'\n",
      "loc(\"mps_select\"(\"(mpsFileLoc): /AppleInternal/Library/BuildRoots/0783246a-4091-11ee-8fca-aead88ae2785/Library/Caches/com.apple.xbs/Sources/MetalPerformanceShadersGraph/mpsgraph/MetalPerformanceShadersGraph/Core/Files/MPSGraphUtilities.mm\":294:0)): error: 'anec.gain_offset_control' op result #0 must be 4D/5D memref of 16-bit float or 8-bit signed integer or 8-bit unsigned integer values, but got 'memref<1x2x1x1xi1>'\n",
      "loc(\"mps_select\"(\"(mpsFileLoc): /AppleInternal/Library/BuildRoots/0783246a-4091-11ee-8fca-aead88ae2785/Library/Caches/com.apple.xbs/Sources/MetalPerformanceShadersGraph/mpsgraph/MetalPerformanceShadersGraph/Core/Files/MPSGraphUtilities.mm\":294:0)): error: 'anec.gain_offset_control' op result #0 must be 4D/5D memref of 16-bit float or 8-bit signed integer or 8-bit unsigned integer values, but got 'memref<1x2x1x1xi1>'\n"
     ]
    },
    {
     "name": "stdout",
     "output_type": "stream",
     "text": [
      "33/37 [=========================>....] - ETA: 0s - loss: 0.3257 - accuracy: 0.8694"
     ]
    },
    {
     "name": "stderr",
     "output_type": "stream",
     "text": [
      "loc(\"mps_select\"(\"(mpsFileLoc): /AppleInternal/Library/BuildRoots/0783246a-4091-11ee-8fca-aead88ae2785/Library/Caches/com.apple.xbs/Sources/MetalPerformanceShadersGraph/mpsgraph/MetalPerformanceShadersGraph/Core/Files/MPSGraphUtilities.mm\":294:0)): error: 'anec.gain_offset_control' op result #0 must be 4D/5D memref of 16-bit float or 8-bit signed integer or 8-bit unsigned integer values, but got 'memref<1x32x1x1xi1>'\n",
      "loc(\"mps_select\"(\"(mpsFileLoc): /AppleInternal/Library/BuildRoots/0783246a-4091-11ee-8fca-aead88ae2785/Library/Caches/com.apple.xbs/Sources/MetalPerformanceShadersGraph/mpsgraph/MetalPerformanceShadersGraph/Core/Files/MPSGraphUtilities.mm\":294:0)): error: 'anec.gain_offset_control' op result #0 must be 4D/5D memref of 16-bit float or 8-bit signed integer or 8-bit unsigned integer values, but got 'memref<1x32x1x1xi1>'\n"
     ]
    },
    {
     "name": "stdout",
     "output_type": "stream",
     "text": [
      "37/37 [==============================] - 9s 137ms/step - loss: 0.3218 - accuracy: 0.8657 - val_loss: 0.5017 - val_accuracy: 0.5312\n",
      "Epoch 2/100\n",
      "37/37 [==============================] - 1s 14ms/step - loss: 0.1613 - accuracy: 0.9359 - val_loss: 0.4946 - val_accuracy: 0.9375\n",
      "Epoch 3/100\n",
      "37/37 [==============================] - 1s 13ms/step - loss: 0.1273 - accuracy: 0.9601 - val_loss: 0.2876 - val_accuracy: 0.9375\n",
      "Epoch 4/100\n",
      "37/37 [==============================] - 1s 14ms/step - loss: 0.0919 - accuracy: 0.9636 - val_loss: 0.3320 - val_accuracy: 0.9062\n",
      "Epoch 5/100\n",
      "37/37 [==============================] - 1s 13ms/step - loss: 0.0779 - accuracy: 0.9662 - val_loss: 0.2332 - val_accuracy: 0.9375\n",
      "Epoch 6/100\n",
      "37/37 [==============================] - 1s 13ms/step - loss: 0.0713 - accuracy: 0.9697 - val_loss: 0.3389 - val_accuracy: 0.8125\n",
      "Epoch 7/100\n",
      "37/37 [==============================] - 1s 13ms/step - loss: 0.0662 - accuracy: 0.9757 - val_loss: 0.2323 - val_accuracy: 0.9375\n",
      "Epoch 8/100\n",
      "37/37 [==============================] - 1s 13ms/step - loss: 0.0585 - accuracy: 0.9705 - val_loss: 0.2354 - val_accuracy: 0.8750\n",
      "Epoch 9/100\n",
      "37/37 [==============================] - 1s 14ms/step - loss: 0.0570 - accuracy: 0.9766 - val_loss: 0.2370 - val_accuracy: 0.9062\n",
      "Epoch 10/100\n",
      "37/37 [==============================] - 0s 13ms/step - loss: 0.0688 - accuracy: 0.9679 - val_loss: 0.2004 - val_accuracy: 0.9062\n",
      "Epoch 11/100\n",
      "37/37 [==============================] - 1s 13ms/step - loss: 0.0478 - accuracy: 0.9783 - val_loss: 0.0743 - val_accuracy: 1.0000\n",
      "Epoch 12/100\n",
      "37/37 [==============================] - 1s 13ms/step - loss: 0.0358 - accuracy: 0.9827 - val_loss: 0.1712 - val_accuracy: 0.8750\n",
      "Epoch 13/100\n",
      "37/37 [==============================] - 1s 13ms/step - loss: 0.0406 - accuracy: 0.9792 - val_loss: 0.1157 - val_accuracy: 0.9688\n",
      "Epoch 14/100\n",
      "37/37 [==============================] - 1s 13ms/step - loss: 0.0246 - accuracy: 0.9905 - val_loss: 0.1299 - val_accuracy: 0.9375\n",
      "Epoch 15/100\n",
      "37/37 [==============================] - 1s 14ms/step - loss: 0.0252 - accuracy: 0.9905 - val_loss: 0.1337 - val_accuracy: 0.9688\n",
      "Epoch 16/100\n",
      "37/37 [==============================] - 0s 13ms/step - loss: 0.0243 - accuracy: 0.9905 - val_loss: 0.0981 - val_accuracy: 0.9688\n",
      "Epoch 17/100\n",
      "37/37 [==============================] - 1s 13ms/step - loss: 0.0254 - accuracy: 0.9887 - val_loss: 0.1139 - val_accuracy: 0.9688\n",
      "Epoch 18/100\n",
      "37/37 [==============================] - 0s 13ms/step - loss: 0.0180 - accuracy: 0.9931 - val_loss: 0.0010 - val_accuracy: 1.0000\n",
      "Epoch 19/100\n",
      "37/37 [==============================] - 1s 13ms/step - loss: 0.0144 - accuracy: 0.9965 - val_loss: 0.1229 - val_accuracy: 0.9375\n",
      "Epoch 20/100\n",
      "37/37 [==============================] - 1s 14ms/step - loss: 0.0298 - accuracy: 0.9905 - val_loss: 0.0066 - val_accuracy: 1.0000\n",
      "Epoch 21/100\n",
      "37/37 [==============================] - 1s 13ms/step - loss: 0.0255 - accuracy: 0.9896 - val_loss: 0.0723 - val_accuracy: 0.9688\n",
      "Epoch 22/100\n",
      "37/37 [==============================] - 0s 13ms/step - loss: 0.0541 - accuracy: 0.9844 - val_loss: 0.1564 - val_accuracy: 0.9062\n",
      "Epoch 23/100\n",
      "37/37 [==============================] - 1s 13ms/step - loss: 0.0218 - accuracy: 0.9913 - val_loss: 0.0397 - val_accuracy: 1.0000\n",
      "Epoch 24/100\n",
      "37/37 [==============================] - 0s 13ms/step - loss: 0.0224 - accuracy: 0.9887 - val_loss: 0.0477 - val_accuracy: 1.0000\n",
      "Epoch 25/100\n",
      "37/37 [==============================] - 0s 13ms/step - loss: 0.0169 - accuracy: 0.9939 - val_loss: 0.0949 - val_accuracy: 0.9688\n",
      "Epoch 26/100\n",
      "37/37 [==============================] - 0s 13ms/step - loss: 0.0126 - accuracy: 0.9948 - val_loss: 0.1419 - val_accuracy: 0.9688\n",
      "Epoch 27/100\n",
      "37/37 [==============================] - 1s 13ms/step - loss: 0.0128 - accuracy: 0.9931 - val_loss: 0.0242 - val_accuracy: 1.0000\n",
      "Epoch 28/100\n",
      "37/37 [==============================] - 0s 13ms/step - loss: 0.0124 - accuracy: 0.9939 - val_loss: 0.1443 - val_accuracy: 0.9688\n",
      "Epoch 29/100\n",
      "37/37 [==============================] - 1s 13ms/step - loss: 0.0159 - accuracy: 0.9896 - val_loss: 0.1397 - val_accuracy: 0.9688\n",
      "Epoch 30/100\n",
      "37/37 [==============================] - 1s 13ms/step - loss: 0.0186 - accuracy: 0.9913 - val_loss: 0.0638 - val_accuracy: 0.9375\n",
      "Epoch 31/100\n",
      "37/37 [==============================] - 1s 14ms/step - loss: 0.0147 - accuracy: 0.9957 - val_loss: 0.1420 - val_accuracy: 0.9688\n",
      "Epoch 32/100\n",
      "37/37 [==============================] - 1s 13ms/step - loss: 0.0158 - accuracy: 0.9922 - val_loss: 0.1467 - val_accuracy: 0.9688\n",
      "Epoch 33/100\n",
      "37/37 [==============================] - 0s 13ms/step - loss: 0.0087 - accuracy: 0.9965 - val_loss: 0.0168 - val_accuracy: 1.0000\n",
      "Epoch 34/100\n",
      "37/37 [==============================] - 0s 13ms/step - loss: 0.0095 - accuracy: 0.9974 - val_loss: 0.1334 - val_accuracy: 0.9688\n",
      "Epoch 35/100\n",
      "37/37 [==============================] - 0s 13ms/step - loss: 0.0080 - accuracy: 0.9974 - val_loss: 0.1086 - val_accuracy: 0.9688\n",
      "Epoch 36/100\n",
      "37/37 [==============================] - 0s 13ms/step - loss: 0.0090 - accuracy: 0.9965 - val_loss: 0.0365 - val_accuracy: 0.9688\n",
      "Epoch 37/100\n",
      "37/37 [==============================] - 1s 13ms/step - loss: 0.0113 - accuracy: 0.9939 - val_loss: 0.0734 - val_accuracy: 0.9375\n",
      "Epoch 38/100\n",
      "37/37 [==============================] - 1s 14ms/step - loss: 0.0076 - accuracy: 0.9974 - val_loss: 0.1258 - val_accuracy: 0.9688\n",
      "Epoch 39/100\n",
      "37/37 [==============================] - 1s 13ms/step - loss: 0.0129 - accuracy: 0.9974 - val_loss: 0.1345 - val_accuracy: 0.9688\n",
      "Epoch 40/100\n",
      "37/37 [==============================] - 1s 13ms/step - loss: 0.0100 - accuracy: 0.9965 - val_loss: 0.1171 - val_accuracy: 0.9688\n",
      "Epoch 41/100\n",
      "37/37 [==============================] - 0s 13ms/step - loss: 0.0125 - accuracy: 0.9965 - val_loss: 0.0061 - val_accuracy: 1.0000\n",
      "Epoch 42/100\n",
      "37/37 [==============================] - 0s 13ms/step - loss: 0.0055 - accuracy: 0.9975 - val_loss: 0.0066 - val_accuracy: 1.0000\n",
      "Epoch 43/100\n",
      "37/37 [==============================] - 0s 13ms/step - loss: 0.0042 - accuracy: 0.9991 - val_loss: 0.1503 - val_accuracy: 0.9688\n",
      "Epoch 44/100\n",
      "37/37 [==============================] - 1s 13ms/step - loss: 0.0053 - accuracy: 0.9974 - val_loss: 0.0134 - val_accuracy: 1.0000\n",
      "Epoch 45/100\n",
      "37/37 [==============================] - 1s 13ms/step - loss: 0.0038 - accuracy: 0.9991 - val_loss: 0.0145 - val_accuracy: 1.0000\n",
      "Epoch 46/100\n",
      "37/37 [==============================] - 0s 13ms/step - loss: 0.0041 - accuracy: 0.9991 - val_loss: 1.1040e-04 - val_accuracy: 1.0000\n",
      "Epoch 47/100\n",
      "37/37 [==============================] - 1s 13ms/step - loss: 0.0026 - accuracy: 0.9991 - val_loss: 0.0097 - val_accuracy: 1.0000\n",
      "Epoch 48/100\n",
      "37/37 [==============================] - 0s 13ms/step - loss: 0.0027 - accuracy: 0.9991 - val_loss: 0.0369 - val_accuracy: 0.9688\n",
      "Epoch 49/100\n",
      "37/37 [==============================] - 0s 13ms/step - loss: 0.0038 - accuracy: 0.9983 - val_loss: 0.1497 - val_accuracy: 0.9688\n",
      "Epoch 50/100\n",
      "37/37 [==============================] - 1s 14ms/step - loss: 0.0019 - accuracy: 1.0000 - val_loss: 0.1632 - val_accuracy: 0.9688\n",
      "Epoch 51/100\n",
      "37/37 [==============================] - 0s 13ms/step - loss: 0.0025 - accuracy: 0.9991 - val_loss: 0.0173 - val_accuracy: 1.0000\n",
      "Epoch 52/100\n",
      "37/37 [==============================] - 1s 13ms/step - loss: 0.0031 - accuracy: 0.9983 - val_loss: 0.1581 - val_accuracy: 0.9688\n",
      "Epoch 53/100\n",
      "37/37 [==============================] - 0s 13ms/step - loss: 0.0018 - accuracy: 1.0000 - val_loss: 0.1688 - val_accuracy: 0.9688\n",
      "Epoch 54/100\n",
      "37/37 [==============================] - 1s 13ms/step - loss: 0.0010 - accuracy: 1.0000 - val_loss: 0.1630 - val_accuracy: 0.9688\n",
      "Epoch 55/100\n",
      "37/37 [==============================] - 0s 13ms/step - loss: 0.0059 - accuracy: 0.9983 - val_loss: 0.1763 - val_accuracy: 0.9688\n",
      "Epoch 56/100\n",
      "37/37 [==============================] - 1s 14ms/step - loss: 0.0148 - accuracy: 0.9948 - val_loss: 0.2045 - val_accuracy: 0.9688\n",
      "Epoch 57/100\n",
      "37/37 [==============================] - 1s 13ms/step - loss: 0.0287 - accuracy: 0.9965 - val_loss: 0.1899 - val_accuracy: 0.9688\n",
      "Epoch 58/100\n",
      "37/37 [==============================] - 0s 13ms/step - loss: 0.0089 - accuracy: 0.9965 - val_loss: 0.0268 - val_accuracy: 1.0000\n",
      "Epoch 59/100\n",
      "37/37 [==============================] - 0s 13ms/step - loss: 0.0062 - accuracy: 0.9983 - val_loss: 0.0050 - val_accuracy: 1.0000\n",
      "Epoch 60/100\n",
      "37/37 [==============================] - 1s 13ms/step - loss: 0.0186 - accuracy: 0.9965 - val_loss: 0.1475 - val_accuracy: 0.9688\n",
      "Epoch 61/100\n",
      "37/37 [==============================] - 0s 13ms/step - loss: 0.0094 - accuracy: 0.9983 - val_loss: 0.0071 - val_accuracy: 1.0000\n",
      "Epoch 62/100\n",
      "37/37 [==============================] - 1s 13ms/step - loss: 0.0028 - accuracy: 1.0000 - val_loss: 0.1419 - val_accuracy: 0.9688\n",
      "Epoch 63/100\n",
      "37/37 [==============================] - 1s 13ms/step - loss: 0.0015 - accuracy: 1.0000 - val_loss: 0.1644 - val_accuracy: 0.9688\n",
      "Epoch 64/100\n",
      "37/37 [==============================] - 1s 13ms/step - loss: 0.0056 - accuracy: 0.9974 - val_loss: 0.0050 - val_accuracy: 1.0000\n",
      "Epoch 65/100\n",
      "37/37 [==============================] - 0s 13ms/step - loss: 0.0028 - accuracy: 0.9991 - val_loss: 0.0021 - val_accuracy: 1.0000\n",
      "Epoch 66/100\n",
      "37/37 [==============================] - 1s 14ms/step - loss: 0.0014 - accuracy: 1.0000 - val_loss: 0.1673 - val_accuracy: 0.9688\n",
      "Epoch 67/100\n",
      "37/37 [==============================] - 1s 14ms/step - loss: 0.0018 - accuracy: 1.0000 - val_loss: 0.1919 - val_accuracy: 0.9688\n",
      "Epoch 68/100\n",
      "37/37 [==============================] - 1s 14ms/step - loss: 0.0110 - accuracy: 0.9957 - val_loss: 0.1680 - val_accuracy: 0.9688\n",
      "Epoch 69/100\n",
      "37/37 [==============================] - 1s 13ms/step - loss: 0.0019 - accuracy: 1.0000 - val_loss: 0.0103 - val_accuracy: 1.0000\n",
      "Epoch 70/100\n",
      "37/37 [==============================] - 1s 14ms/step - loss: 0.0012 - accuracy: 1.0000 - val_loss: 0.1529 - val_accuracy: 0.9688\n",
      "Epoch 71/100\n",
      "37/37 [==============================] - 1s 14ms/step - loss: 0.0010 - accuracy: 1.0000 - val_loss: 0.1183 - val_accuracy: 0.9688\n",
      "Epoch 72/100\n",
      "37/37 [==============================] - 1s 13ms/step - loss: 0.0016 - accuracy: 1.0000 - val_loss: 0.1271 - val_accuracy: 0.9688\n",
      "Epoch 73/100\n",
      "37/37 [==============================] - 0s 13ms/step - loss: 5.6377e-04 - accuracy: 1.0000 - val_loss: 0.1271 - val_accuracy: 0.9688\n",
      "Epoch 74/100\n",
      "37/37 [==============================] - 1s 13ms/step - loss: 3.8067e-04 - accuracy: 1.0000 - val_loss: 0.0014 - val_accuracy: 1.0000\n",
      "Epoch 75/100\n",
      "37/37 [==============================] - 0s 13ms/step - loss: 3.5859e-04 - accuracy: 1.0000 - val_loss: 5.0602e-04 - val_accuracy: 1.0000\n",
      "Epoch 76/100\n",
      "37/37 [==============================] - 1s 13ms/step - loss: 3.0256e-04 - accuracy: 1.0000 - val_loss: 0.1449 - val_accuracy: 0.9688\n",
      "Epoch 77/100\n",
      "37/37 [==============================] - 1s 13ms/step - loss: 2.5315e-04 - accuracy: 1.0000 - val_loss: 0.0021 - val_accuracy: 1.0000\n",
      "Epoch 78/100\n",
      "37/37 [==============================] - 1s 13ms/step - loss: 1.7539e-04 - accuracy: 1.0000 - val_loss: 0.0022 - val_accuracy: 1.0000\n",
      "Epoch 79/100\n",
      "37/37 [==============================] - 0s 13ms/step - loss: 2.1056e-04 - accuracy: 1.0000 - val_loss: 0.1554 - val_accuracy: 0.9688\n",
      "Epoch 80/100\n",
      "37/37 [==============================] - 1s 13ms/step - loss: 1.6401e-04 - accuracy: 1.0000 - val_loss: 0.1612 - val_accuracy: 0.9688\n",
      "Epoch 81/100\n",
      "37/37 [==============================] - 0s 13ms/step - loss: 1.1715e-04 - accuracy: 1.0000 - val_loss: 0.1625 - val_accuracy: 0.9688\n",
      "Epoch 82/100\n",
      "37/37 [==============================] - 1s 13ms/step - loss: 1.7889e-04 - accuracy: 1.0000 - val_loss: 0.0025 - val_accuracy: 1.0000\n",
      "Epoch 83/100\n",
      "37/37 [==============================] - 0s 13ms/step - loss: 1.4320e-04 - accuracy: 1.0000 - val_loss: 9.3138e-04 - val_accuracy: 1.0000\n",
      "Epoch 84/100\n",
      "37/37 [==============================] - 1s 13ms/step - loss: 1.3849e-04 - accuracy: 1.0000 - val_loss: 0.0015 - val_accuracy: 1.0000\n",
      "Epoch 85/100\n",
      "37/37 [==============================] - 1s 13ms/step - loss: 1.2907e-04 - accuracy: 1.0000 - val_loss: 0.1724 - val_accuracy: 0.9688\n",
      "Epoch 86/100\n",
      "37/37 [==============================] - 1s 13ms/step - loss: 1.1391e-04 - accuracy: 1.0000 - val_loss: 0.0015 - val_accuracy: 1.0000\n",
      "Epoch 87/100\n",
      "37/37 [==============================] - 1s 14ms/step - loss: 1.1517e-04 - accuracy: 1.0000 - val_loss: 0.1800 - val_accuracy: 0.9688\n",
      "Epoch 88/100\n",
      "37/37 [==============================] - 0s 13ms/step - loss: 1.0037e-04 - accuracy: 1.0000 - val_loss: 0.1838 - val_accuracy: 0.9688\n",
      "Epoch 89/100\n",
      "37/37 [==============================] - 0s 13ms/step - loss: 1.0090e-04 - accuracy: 1.0000 - val_loss: 0.1837 - val_accuracy: 0.9688\n",
      "Epoch 90/100\n",
      "37/37 [==============================] - 1s 13ms/step - loss: 9.2436e-05 - accuracy: 1.0000 - val_loss: 0.1899 - val_accuracy: 0.9688\n",
      "Epoch 91/100\n",
      "37/37 [==============================] - 0s 13ms/step - loss: 8.8777e-05 - accuracy: 1.0000 - val_loss: 0.0011 - val_accuracy: 1.0000\n",
      "Epoch 92/100\n",
      "37/37 [==============================] - 1s 14ms/step - loss: 8.2372e-05 - accuracy: 1.0000 - val_loss: 0.0014 - val_accuracy: 1.0000\n",
      "Epoch 93/100\n",
      "37/37 [==============================] - 1s 14ms/step - loss: 7.5357e-05 - accuracy: 1.0000 - val_loss: 0.1987 - val_accuracy: 0.9688\n",
      "Epoch 94/100\n",
      "37/37 [==============================] - 1s 14ms/step - loss: 8.5334e-05 - accuracy: 1.0000 - val_loss: 8.7272e-04 - val_accuracy: 1.0000\n",
      "Epoch 95/100\n",
      "37/37 [==============================] - 1s 15ms/step - loss: 6.7979e-05 - accuracy: 1.0000 - val_loss: 0.1982 - val_accuracy: 0.9688\n",
      "Epoch 96/100\n",
      "37/37 [==============================] - 1s 15ms/step - loss: 7.1916e-05 - accuracy: 1.0000 - val_loss: 0.1939 - val_accuracy: 0.9688\n",
      "Epoch 97/100\n",
      "37/37 [==============================] - 1s 14ms/step - loss: 6.8985e-05 - accuracy: 1.0000 - val_loss: 0.2027 - val_accuracy: 0.9688\n",
      "Epoch 98/100\n",
      "37/37 [==============================] - 1s 13ms/step - loss: 6.1959e-05 - accuracy: 1.0000 - val_loss: 0.2025 - val_accuracy: 0.9688\n",
      "Epoch 99/100\n",
      "37/37 [==============================] - 1s 14ms/step - loss: 5.5963e-05 - accuracy: 1.0000 - val_loss: 0.2041 - val_accuracy: 0.9688\n",
      "Epoch 100/100\n",
      "37/37 [==============================] - 1s 13ms/step - loss: 5.5137e-05 - accuracy: 1.0000 - val_loss: 0.2050 - val_accuracy: 0.9688\n"
     ]
    }
   ],
   "source": [
    "history = model.fit(\n",
    "    train_generator,\n",
    "    epochs=epochs,\n",
    "    validation_data=validation_generator,\n",
    "    steps_per_epoch=train_generator.samples // batch_size,\n",
    "    validation_steps=validation_generator.samples // batch_size\n",
    ")\n"
   ]
  },
  {
   "cell_type": "markdown",
   "metadata": {},
   "source": [
    "모델 평가"
   ]
  },
  {
   "cell_type": "code",
   "execution_count": 11,
   "metadata": {},
   "outputs": [
    {
     "name": "stdout",
     "output_type": "stream",
     "text": [
      "Found 49 images belonging to 2 classes.\n",
      "1/2 [==============>...............] - ETA: 0s - loss: 6.9127e-04 - accuracy: 1.0000"
     ]
    },
    {
     "name": "stderr",
     "output_type": "stream",
     "text": [
      "loc(\"mps_select\"(\"(mpsFileLoc): /AppleInternal/Library/BuildRoots/0783246a-4091-11ee-8fca-aead88ae2785/Library/Caches/com.apple.xbs/Sources/MetalPerformanceShadersGraph/mpsgraph/MetalPerformanceShadersGraph/Core/Files/MPSGraphUtilities.mm\":294:0)): error: 'anec.gain_offset_control' op result #0 must be 4D/5D memref of 16-bit float or 8-bit signed integer or 8-bit unsigned integer values, but got 'memref<1x17x1x1xi1>'\n",
      "loc(\"mps_select\"(\"(mpsFileLoc): /AppleInternal/Library/BuildRoots/0783246a-4091-11ee-8fca-aead88ae2785/Library/Caches/com.apple.xbs/Sources/MetalPerformanceShadersGraph/mpsgraph/MetalPerformanceShadersGraph/Core/Files/MPSGraphUtilities.mm\":294:0)): error: 'anec.gain_offset_control' op result #0 must be 4D/5D memref of 16-bit float or 8-bit signed integer or 8-bit unsigned integer values, but got 'memref<1x17x1x1xi1>'\n"
     ]
    },
    {
     "name": "stdout",
     "output_type": "stream",
     "text": [
      "2/2 [==============================] - 1s 1s/step - loss: 5.4731e-04 - accuracy: 1.0000\n",
      "Test accuracy: 100.00%\n"
     ]
    }
   ],
   "source": [
    "test_generator = datagen.flow_from_directory(\n",
    "    'dataset/test',\n",
    "    target_size=(image_height, image_width),\n",
    "    batch_size=batch_size,\n",
    "    class_mode='binary',\n",
    "    color_mode='grayscale'\n",
    ")\n",
    "\n",
    "test_loss, test_accuracy = model.evaluate(test_generator)\n",
    "print(f\"Test accuracy: {test_accuracy * 100:.2f}%\")\n"
   ]
  }
 ],
 "metadata": {
  "kernelspec": {
   "display_name": "DL",
   "language": "python",
   "name": "python3"
  },
  "language_info": {
   "codemirror_mode": {
    "name": "ipython",
    "version": 3
   },
   "file_extension": ".py",
   "mimetype": "text/x-python",
   "name": "python",
   "nbconvert_exporter": "python",
   "pygments_lexer": "ipython3",
   "version": "3.10.6"
  },
  "orig_nbformat": 4
 },
 "nbformat": 4,
 "nbformat_minor": 2
}
