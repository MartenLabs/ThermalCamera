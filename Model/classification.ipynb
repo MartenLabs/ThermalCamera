{
 "cells": [
  {
   "cell_type": "code",
   "execution_count": 11,
   "metadata": {},
   "outputs": [
    {
     "name": "stdout",
     "output_type": "stream",
     "text": [
      "이미지는 3채널 (RGB) 이미지입니다.\n"
     ]
    }
   ],
   "source": [
    "import cv2\n",
    "\n",
    "# 이미지 로드\n",
    "image = cv2.imread('/Users/mac/Dev/Project/ThermalCamera/Model/dataset/train/with_human/2023-09-11 05-33-46.mp4_4.png')\n",
    "\n",
    "# 이미지의 차원 확인\n",
    "height, width, channels = image.shape\n",
    "\n",
    "# 채널 수에 따라 이미지 유형 확인\n",
    "if channels == 1:\n",
    "    print(\"이미지는 1채널 (그레이스케일) 이미지입니다.\")\n",
    "elif channels == 3:\n",
    "    print(\"이미지는 3채널 (RGB) 이미지입니다.\")\n",
    "else:\n",
    "    print(\"이미지의 채널 수가 1 또는 3이 아닙니다.\")\n"
   ]
  },
  {
   "cell_type": "code",
   "execution_count": 83,
   "metadata": {},
   "outputs": [],
   "source": [
    "import tensorflow as tf\n",
    "from tensorflow.keras.preprocessing.image import ImageDataGenerator\n",
    "from tensorflow.keras.models import Sequential\n",
    "from tensorflow.keras.layers import Conv2D, MaxPooling2D, Flatten, Dense\n",
    "\n",
    "# 하이퍼파라미터 설정\n",
    "image_height = 24\n",
    "image_width = 32\n",
    "batch_size = 32\n",
    "epochs = 5\n"
   ]
  },
  {
   "cell_type": "markdown",
   "metadata": {},
   "source": [
    "1. 데이터 전처리"
   ]
  },
  {
   "cell_type": "code",
   "execution_count": 84,
   "metadata": {},
   "outputs": [
    {
     "name": "stdout",
     "output_type": "stream",
     "text": [
      "/Users/mac/Dev/Project/ThermalCamera/Model/dataset/train/with_human\n",
      "['/Users/mac/Dev/Project/ThermalCamera/Model/dataset/train/with_human/2023-09-11 05-33-46.mp4_136.png', '/Users/mac/Dev/Project/ThermalCamera/Model/dataset/train/with_human/2023-09-11 05-33-46.mp4_122.png', '/Users/mac/Dev/Project/ThermalCamera/Model/dataset/train/with_human/2023-09-11 06-28-34.mp4_8.png', '/Users/mac/Dev/Project/ThermalCamera/Model/dataset/train/with_human/2023-09-11 06-29-52.mp4_51.png', '/Users/mac/Dev/Project/ThermalCamera/Model/dataset/train/with_human/2023-09-11 06-08-27.mp4_24.png', '/Users/mac/Dev/Project/ThermalCamera/Model/dataset/train/with_human/2023-09-11 06-08-27.mp4_30.png', '/Users/mac/Dev/Project/ThermalCamera/Model/dataset/train/with_human/2023-09-11 06-08-27.mp4_18.png', '/Users/mac/Dev/Project/ThermalCamera/Model/dataset/train/with_human/2023-09-11 06-28-34.mp4_36.png', '/Users/mac/Dev/Project/ThermalCamera/Model/dataset/train/with_human/2023-09-11 06-28-34.mp4_22.png', '/Users/mac/Dev/Project/ThermalCamera/Model/dataset/train/with_human/2023-09-11 05-35-40.mp4_7.png', '/Users/mac/Dev/Project/ThermalCamera/Model/dataset/train/with_human/2023-09-11 05-35-40.mp4_225.png', '/Users/mac/Dev/Project/ThermalCamera/Model/dataset/train/with_human/2023-09-11 05-35-40.mp4_231.png', '/Users/mac/Dev/Project/ThermalCamera/Model/dataset/train/with_human/2023-09-11 05-33-46.mp4_17.png', '/Users/mac/Dev/Project/ThermalCamera/Model/dataset/train/with_human/2023-09-11 05-35-40.mp4_219.png', '/Users/mac/Dev/Project/ThermalCamera/Model/dataset/train/with_human/2023-09-11 05-35-40.mp4_16.png', '/Users/mac/Dev/Project/ThermalCamera/Model/dataset/train/with_human/2023-09-11 05-33-46.mp4_7.png', '/Users/mac/Dev/Project/ThermalCamera/Model/dataset/train/with_human/2023-09-11 06-29-52.mp4_3.png', '/Users/mac/Dev/Project/ThermalCamera/Model/dataset/train/with_human/2023-09-11 06-29-52.mp4_2.png', '/Users/mac/Dev/Project/ThermalCamera/Model/dataset/train/with_human/2023-09-11 05-33-46.mp4_6.png', '/Users/mac/Dev/Project/ThermalCamera/Model/dataset/train/with_human/2023-09-11 05-35-40.mp4_17.png', '/Users/mac/Dev/Project/ThermalCamera/Model/dataset/train/with_human/2023-09-11 05-33-46.mp4_16.png', '/Users/mac/Dev/Project/ThermalCamera/Model/dataset/train/with_human/2023-09-11 05-35-40.mp4_218.png', '/Users/mac/Dev/Project/ThermalCamera/Model/dataset/train/with_human/2023-09-11 05-35-40.mp4_224.png', '/Users/mac/Dev/Project/ThermalCamera/Model/dataset/train/with_human/2023-09-11 05-35-40.mp4_6.png', '/Users/mac/Dev/Project/ThermalCamera/Model/dataset/train/with_human/2023-09-11 06-28-34.mp4_23.png', '/Users/mac/Dev/Project/ThermalCamera/Model/dataset/train/with_human/2023-09-11 06-28-34.mp4_37.png', '/Users/mac/Dev/Project/ThermalCamera/Model/dataset/train/with_human/2023-09-11 06-08-27.mp4_19.png', '/Users/mac/Dev/Project/ThermalCamera/Model/dataset/train/with_human/2023-09-11 06-08-27.mp4_31.png', '/Users/mac/Dev/Project/ThermalCamera/Model/dataset/train/with_human/2023-09-11 06-08-27.mp4_25.png', '/Users/mac/Dev/Project/ThermalCamera/Model/dataset/train/with_human/2023-09-11 06-29-52.mp4_50.png', '/Users/mac/Dev/Project/ThermalCamera/Model/dataset/train/with_human/2023-09-11 06-28-34.mp4_9.png', '/Users/mac/Dev/Project/ThermalCamera/Model/dataset/train/with_human/2023-09-11 05-33-46.mp4_123.png', '/Users/mac/Dev/Project/ThermalCamera/Model/dataset/train/with_human/2023-09-11 05-33-46.mp4_137.png', '/Users/mac/Dev/Project/ThermalCamera/Model/dataset/train/with_human/2023-09-11 05-33-46.mp4_121.png', '/Users/mac/Dev/Project/ThermalCamera/Model/dataset/train/with_human/2023-09-11 05-33-46.mp4_135.png', '/Users/mac/Dev/Project/ThermalCamera/Model/dataset/train/with_human/2023-09-11 06-29-52.mp4_52.png', '/Users/mac/Dev/Project/ThermalCamera/Model/dataset/train/with_human/2023-09-11 05-33-46.mp4_109.png', '/Users/mac/Dev/Project/ThermalCamera/Model/dataset/train/with_human/2023-09-11 06-08-27.mp4_33.png', '/Users/mac/Dev/Project/ThermalCamera/Model/dataset/train/with_human/2023-09-11 06-08-27.mp4_27.png', '/Users/mac/Dev/Project/ThermalCamera/Model/dataset/train/with_human/2023-09-11 06-28-34.mp4_21.png', '/Users/mac/Dev/Project/ThermalCamera/Model/dataset/train/with_human/2023-09-11 06-28-34.mp4_35.png', '/Users/mac/Dev/Project/ThermalCamera/Model/dataset/train/with_human/2023-09-11 05-35-40.mp4_4.png', '/Users/mac/Dev/Project/ThermalCamera/Model/dataset/train/with_human/2023-09-11 05-35-40.mp4_29.png', '/Users/mac/Dev/Project/ThermalCamera/Model/dataset/train/with_human/2023-09-11 05-35-40.mp4_232.png', '/Users/mac/Dev/Project/ThermalCamera/Model/dataset/train/with_human/2023-09-11 05-35-40.mp4_226.png', '/Users/mac/Dev/Project/ThermalCamera/Model/dataset/train/with_human/2023-09-11 05-33-46.mp4_28.png', '/Users/mac/Dev/Project/ThermalCamera/Model/dataset/train/with_human/2023-09-11 05-35-40.mp4_15.png', '/Users/mac/Dev/Project/ThermalCamera/Model/dataset/train/with_human/2023-09-11 05-33-46.mp4_14.png', '/Users/mac/Dev/Project/ThermalCamera/Model/dataset/train/with_human/2023-09-11 06-29-52.mp4_0.png', '/Users/mac/Dev/Project/ThermalCamera/Model/dataset/train/with_human/2023-09-11 05-33-46.mp4_4.png', '/Users/mac/Dev/Project/ThermalCamera/Model/dataset/train/with_human/2023-09-11 05-33-46.mp4_5.png', '/Users/mac/Dev/Project/ThermalCamera/Model/dataset/train/with_human/2023-09-11 06-29-52.mp4_1.png', '/Users/mac/Dev/Project/ThermalCamera/Model/dataset/train/with_human/2023-09-11 05-33-46.mp4_15.png', '/Users/mac/Dev/Project/ThermalCamera/Model/dataset/train/with_human/2023-09-11 05-35-40.mp4_14.png', '/Users/mac/Dev/Project/ThermalCamera/Model/dataset/train/with_human/2023-09-11 05-35-40.mp4_227.png', '/Users/mac/Dev/Project/ThermalCamera/Model/dataset/train/with_human/2023-09-11 05-33-46.mp4_29.png', '/Users/mac/Dev/Project/ThermalCamera/Model/dataset/train/with_human/2023-09-11 05-35-40.mp4_233.png', '/Users/mac/Dev/Project/ThermalCamera/Model/dataset/train/with_human/2023-09-11 05-35-40.mp4_28.png', '/Users/mac/Dev/Project/ThermalCamera/Model/dataset/train/with_human/2023-09-11 05-35-40.mp4_5.png', '/Users/mac/Dev/Project/ThermalCamera/Model/dataset/train/with_human/2023-09-11 06-28-34.mp4_34.png', '/Users/mac/Dev/Project/ThermalCamera/Model/dataset/train/with_human/2023-09-11 06-28-34.mp4_20.png', '/Users/mac/Dev/Project/ThermalCamera/Model/dataset/train/with_human/2023-09-11 06-08-27.mp4_26.png', '/Users/mac/Dev/Project/ThermalCamera/Model/dataset/train/with_human/2023-09-11 06-08-27.mp4_32.png', '/Users/mac/Dev/Project/ThermalCamera/Model/dataset/train/with_human/2023-09-11 05-33-46.mp4_108.png', '/Users/mac/Dev/Project/ThermalCamera/Model/dataset/train/with_human/2023-09-11 06-29-52.mp4_53.png', '/Users/mac/Dev/Project/ThermalCamera/Model/dataset/train/with_human/2023-09-11 05-33-46.mp4_134.png', '/Users/mac/Dev/Project/ThermalCamera/Model/dataset/train/with_human/2023-09-11 05-33-46.mp4_120.png', '/Users/mac/Dev/Project/ThermalCamera/Model/dataset/train/with_human/2023-09-11 05-33-46.mp4_118.png', '/Users/mac/Dev/Project/ThermalCamera/Model/dataset/train/with_human/2023-09-11 05-33-46.mp4_124.png', '/Users/mac/Dev/Project/ThermalCamera/Model/dataset/train/with_human/2023-09-11 05-33-46.mp4_130.png', '/Users/mac/Dev/Project/ThermalCamera/Model/dataset/train/with_human/2023-09-11 06-28-34.mp4_24.png', '/Users/mac/Dev/Project/ThermalCamera/Model/dataset/train/with_human/2023-09-11 06-28-34.mp4_30.png', '/Users/mac/Dev/Project/ThermalCamera/Model/dataset/train/with_human/2023-09-11 06-08-27.mp4_36.png', '/Users/mac/Dev/Project/ThermalCamera/Model/dataset/train/with_human/2023-09-11 06-28-34.mp4_18.png', '/Users/mac/Dev/Project/ThermalCamera/Model/dataset/train/with_human/2023-09-11 06-08-27.mp4_22.png', '/Users/mac/Dev/Project/ThermalCamera/Model/dataset/train/with_human/2023-09-11 05-35-40.mp4_1.png', '/Users/mac/Dev/Project/ThermalCamera/Model/dataset/train/with_human/2023-09-11 05-35-40.mp4_10.png', '/Users/mac/Dev/Project/ThermalCamera/Model/dataset/train/with_human/.DS_Store', '/Users/mac/Dev/Project/ThermalCamera/Model/dataset/train/with_human/2023-09-11 05-33-46.mp4_11.png', '/Users/mac/Dev/Project/ThermalCamera/Model/dataset/train/with_human/2023-09-11 05-35-40.mp4_237.png', '/Users/mac/Dev/Project/ThermalCamera/Model/dataset/train/with_human/2023-09-11 05-33-46.mp4_39.png', '/Users/mac/Dev/Project/ThermalCamera/Model/dataset/train/with_human/2023-09-11 05-35-40.mp4_223.png', '/Users/mac/Dev/Project/ThermalCamera/Model/dataset/train/with_human/2023-09-11 05-35-40.mp4_38.png', '/Users/mac/Dev/Project/ThermalCamera/Model/dataset/train/with_human/2023-09-11 06-29-52.mp4_5.png', '/Users/mac/Dev/Project/ThermalCamera/Model/dataset/train/with_human/2023-09-11 05-33-46.mp4_1.png', '/Users/mac/Dev/Project/ThermalCamera/Model/dataset/train/with_human/2023-09-11 06-29-52.mp4_4.png', '/Users/mac/Dev/Project/ThermalCamera/Model/dataset/train/with_human/2023-09-11 05-35-40.mp4_39.png', '/Users/mac/Dev/Project/ThermalCamera/Model/dataset/train/with_human/2023-09-11 05-35-40.mp4_222.png', '/Users/mac/Dev/Project/ThermalCamera/Model/dataset/train/with_human/2023-09-11 05-35-40.mp4_236.png', '/Users/mac/Dev/Project/ThermalCamera/Model/dataset/train/with_human/2023-09-11 05-33-46.mp4_38.png', '/Users/mac/Dev/Project/ThermalCamera/Model/dataset/train/with_human/2023-09-11 05-33-46.mp4_10.png', '/Users/mac/Dev/Project/ThermalCamera/Model/dataset/train/with_human/2023-09-11 05-35-40.mp4_11.png', '/Users/mac/Dev/Project/ThermalCamera/Model/dataset/train/with_human/2023-09-11 05-35-40.mp4_0.png', '/Users/mac/Dev/Project/ThermalCamera/Model/dataset/train/with_human/2023-09-11 06-08-27.mp4_23.png', '/Users/mac/Dev/Project/ThermalCamera/Model/dataset/train/with_human/2023-09-11 06-28-34.mp4_19.png', '/Users/mac/Dev/Project/ThermalCamera/Model/dataset/train/with_human/2023-09-11 06-08-27.mp4_37.png', '/Users/mac/Dev/Project/ThermalCamera/Model/dataset/train/with_human/2023-09-11 06-28-34.mp4_31.png', '/Users/mac/Dev/Project/ThermalCamera/Model/dataset/train/with_human/2023-09-11 06-28-34.mp4_25.png', '/Users/mac/Dev/Project/ThermalCamera/Model/dataset/train/with_human/2023-09-11 05-33-46.mp4_131.png', '/Users/mac/Dev/Project/ThermalCamera/Model/dataset/train/with_human/2023-09-11 05-33-46.mp4_125.png', '/Users/mac/Dev/Project/ThermalCamera/Model/dataset/train/with_human/2023-09-11 05-33-46.mp4_119.png', '/Users/mac/Dev/Project/ThermalCamera/Model/dataset/train/with_human/2023-09-11 06-29-52.mp4_56.png', '/Users/mac/Dev/Project/ThermalCamera/Model/dataset/train/with_human/2023-09-11 06-29-52.mp4_54.png', '/Users/mac/Dev/Project/ThermalCamera/Model/dataset/train/with_human/2023-09-11 05-33-46.mp4_133.png', '/Users/mac/Dev/Project/ThermalCamera/Model/dataset/train/with_human/2023-09-11 05-33-46.mp4_127.png', '/Users/mac/Dev/Project/ThermalCamera/Model/dataset/train/with_human/2023-09-11 06-28-34.mp4_33.png', '/Users/mac/Dev/Project/ThermalCamera/Model/dataset/train/with_human/2023-09-11 06-28-34.mp4_27.png', '/Users/mac/Dev/Project/ThermalCamera/Model/dataset/train/with_human/2023-09-11 06-08-27.mp4_21.png', '/Users/mac/Dev/Project/ThermalCamera/Model/dataset/train/with_human/2023-09-11 06-08-27.mp4_35.png', '/Users/mac/Dev/Project/ThermalCamera/Model/dataset/train/with_human/2023-09-11 05-35-40.mp4_2.png', '/Users/mac/Dev/Project/ThermalCamera/Model/dataset/train/with_human/2023-09-11 05-33-46.mp4_12.png', '/Users/mac/Dev/Project/ThermalCamera/Model/dataset/train/with_human/2023-09-11 06-34-17.mp4_9.png', '/Users/mac/Dev/Project/ThermalCamera/Model/dataset/train/with_human/2023-09-11 05-35-40.mp4_13.png', '/Users/mac/Dev/Project/ThermalCamera/Model/dataset/train/with_human/2023-09-11 05-35-40.mp4_220.png', '/Users/mac/Dev/Project/ThermalCamera/Model/dataset/train/with_human/2023-09-11 05-35-40.mp4_234.png', '/Users/mac/Dev/Project/ThermalCamera/Model/dataset/train/with_human/2023-09-11 05-33-46.mp4_2.png', '/Users/mac/Dev/Project/ThermalCamera/Model/dataset/train/with_human/2023-09-11 06-29-52.mp4_6.png', '/Users/mac/Dev/Project/ThermalCamera/Model/dataset/train/with_human/2023-09-11 06-29-52.mp4_7.png', '/Users/mac/Dev/Project/ThermalCamera/Model/dataset/train/with_human/2023-09-11 05-33-46.mp4_3.png', '/Users/mac/Dev/Project/ThermalCamera/Model/dataset/train/with_human/2023-09-11 05-35-40.mp4_235.png', '/Users/mac/Dev/Project/ThermalCamera/Model/dataset/train/with_human/2023-09-11 05-35-40.mp4_221.png', '/Users/mac/Dev/Project/ThermalCamera/Model/dataset/train/with_human/2023-09-11 06-34-17.mp4_8.png', '/Users/mac/Dev/Project/ThermalCamera/Model/dataset/train/with_human/2023-09-11 05-35-40.mp4_12.png', '/Users/mac/Dev/Project/ThermalCamera/Model/dataset/train/with_human/2023-09-11 05-33-46.mp4_13.png', '/Users/mac/Dev/Project/ThermalCamera/Model/dataset/train/with_human/2023-09-11 05-35-40.mp4_3.png', '/Users/mac/Dev/Project/ThermalCamera/Model/dataset/train/with_human/2023-09-11 06-08-27.mp4_34.png', '/Users/mac/Dev/Project/ThermalCamera/Model/dataset/train/with_human/2023-09-11 06-08-27.mp4_20.png', '/Users/mac/Dev/Project/ThermalCamera/Model/dataset/train/with_human/2023-09-11 06-28-34.mp4_26.png', '/Users/mac/Dev/Project/ThermalCamera/Model/dataset/train/with_human/2023-09-11 06-28-34.mp4_32.png', '/Users/mac/Dev/Project/ThermalCamera/Model/dataset/train/with_human/2023-09-11 05-33-46.mp4_126.png', '/Users/mac/Dev/Project/ThermalCamera/Model/dataset/train/with_human/2023-09-11 05-33-46.mp4_132.png', '/Users/mac/Dev/Project/ThermalCamera/Model/dataset/train/with_human/2023-09-11 06-29-52.mp4_55.png', '/Users/mac/Dev/Project/ThermalCamera/Model/dataset/train/with_human/2023-09-11 05-33-46.mp4_141.png', '/Users/mac/Dev/Project/ThermalCamera/Model/dataset/train/with_human/2023-09-11 05-33-46.mp4_169.png', '/Users/mac/Dev/Project/ThermalCamera/Model/dataset/train/with_human/2023-09-11 06-29-52.mp4_26.png', '/Users/mac/Dev/Project/ThermalCamera/Model/dataset/train/with_human/2023-09-11 05-33-46.mp4_182.png', '/Users/mac/Dev/Project/ThermalCamera/Model/dataset/train/with_human/2023-09-11 06-34-17.mp4_13.png', '/Users/mac/Dev/Project/ThermalCamera/Model/dataset/train/with_human/2023-09-11 06-28-34.mp4_41.png', '/Users/mac/Dev/Project/ThermalCamera/Model/dataset/train/with_human/2023-09-11 06-08-27.mp4_4.png', '/Users/mac/Dev/Project/ThermalCamera/Model/dataset/train/with_human/2023-09-11 05-33-46.mp4_48.png', '/Users/mac/Dev/Project/ThermalCamera/Model/dataset/train/with_human/2023-09-11 05-35-40.mp4_252.png', '/Users/mac/Dev/Project/ThermalCamera/Model/dataset/train/with_human/2023-09-11 05-33-46.mp4_74.png', '/Users/mac/Dev/Project/ThermalCamera/Model/dataset/train/with_human/2023-09-11 05-33-46.mp4_60.png', '/Users/mac/Dev/Project/ThermalCamera/Model/dataset/train/with_human/2023-09-11 05-35-40.mp4_285.png', '/Users/mac/Dev/Project/ThermalCamera/Model/dataset/train/with_human/2023-09-11 06-34-17.mp4_2721.png', '/Users/mac/Dev/Project/ThermalCamera/Model/dataset/train/with_human/2023-09-11 05-35-40.mp4_291.png', '/Users/mac/Dev/Project/ThermalCamera/Model/dataset/train/with_human/2023-09-11 05-35-40.mp4_290.png', '/Users/mac/Dev/Project/ThermalCamera/Model/dataset/train/with_human/2023-09-11 06-34-17.mp4_2720.png', '/Users/mac/Dev/Project/ThermalCamera/Model/dataset/train/with_human/2023-09-11 05-33-46.mp4_61.png', '/Users/mac/Dev/Project/ThermalCamera/Model/dataset/train/with_human/2023-09-11 05-33-46.mp4_75.png', '/Users/mac/Dev/Project/ThermalCamera/Model/dataset/train/with_human/2023-09-11 05-35-40.mp4_253.png', '/Users/mac/Dev/Project/ThermalCamera/Model/dataset/train/with_human/2023-09-11 05-35-40.mp4_247.png', '/Users/mac/Dev/Project/ThermalCamera/Model/dataset/train/with_human/2023-09-11 05-33-46.mp4_49.png', '/Users/mac/Dev/Project/ThermalCamera/Model/dataset/train/with_human/2023-09-11 06-08-27.mp4_5.png', '/Users/mac/Dev/Project/ThermalCamera/Model/dataset/train/with_human/2023-09-11 06-28-34.mp4_40.png', '/Users/mac/Dev/Project/ThermalCamera/Model/dataset/train/with_human/2023-09-11 06-34-17.mp4_12.png', '/Users/mac/Dev/Project/ThermalCamera/Model/dataset/train/with_human/2023-09-11 05-33-46.mp4_168.png', '/Users/mac/Dev/Project/ThermalCamera/Model/dataset/train/with_human/2023-09-11 06-29-52.mp4_27.png', '/Users/mac/Dev/Project/ThermalCamera/Model/dataset/train/with_human/2023-09-11 05-33-46.mp4_140.png', '/Users/mac/Dev/Project/ThermalCamera/Model/dataset/train/with_human/2023-09-11 05-33-46.mp4_142.png', '/Users/mac/Dev/Project/ThermalCamera/Model/dataset/train/with_human/2023-09-11 06-29-52.mp4_25.png', '/Users/mac/Dev/Project/ThermalCamera/Model/dataset/train/with_human/2023-09-11 05-33-46.mp4_181.png', '/Users/mac/Dev/Project/ThermalCamera/Model/dataset/train/with_human/2023-09-11 06-34-17.mp4_10.png', '/Users/mac/Dev/Project/ThermalCamera/Model/dataset/train/with_human/2023-09-11 06-28-34.mp4_42.png', '/Users/mac/Dev/Project/ThermalCamera/Model/dataset/train/with_human/2023-09-11 06-08-27.mp4_7.png', '/Users/mac/Dev/Project/ThermalCamera/Model/dataset/train/with_human/2023-09-11 05-35-40.mp4_251.png', '/Users/mac/Dev/Project/ThermalCamera/Model/dataset/train/with_human/2023-09-11 05-35-40.mp4_245.png', '/Users/mac/Dev/Project/ThermalCamera/Model/dataset/train/with_human/2023-09-11 05-33-46.mp4_63.png', '/Users/mac/Dev/Project/ThermalCamera/Model/dataset/train/with_human/2023-09-11 05-33-46.mp4_77.png', '/Users/mac/Dev/Project/ThermalCamera/Model/dataset/train/with_human/2023-09-11 05-35-40.mp4_292.png', '/Users/mac/Dev/Project/ThermalCamera/Model/dataset/train/with_human/2023-09-11 05-35-40.mp4_286.png', '/Users/mac/Dev/Project/ThermalCamera/Model/dataset/train/with_human/2023-09-11 06-34-17.mp4_2722.png', '/Users/mac/Dev/Project/ThermalCamera/Model/dataset/train/with_human/2023-09-11 06-34-17.mp4_2723.png', '/Users/mac/Dev/Project/ThermalCamera/Model/dataset/train/with_human/2023-09-11 05-35-40.mp4_287.png', '/Users/mac/Dev/Project/ThermalCamera/Model/dataset/train/with_human/2023-09-11 05-35-40.mp4_293.png', '/Users/mac/Dev/Project/ThermalCamera/Model/dataset/train/with_human/2023-09-11 05-33-46.mp4_76.png', '/Users/mac/Dev/Project/ThermalCamera/Model/dataset/train/with_human/2023-09-11 05-33-46.mp4_62.png', '/Users/mac/Dev/Project/ThermalCamera/Model/dataset/train/with_human/2023-09-11 05-35-40.mp4_244.png', '/Users/mac/Dev/Project/ThermalCamera/Model/dataset/train/with_human/2023-09-11 05-35-40.mp4_250.png', '/Users/mac/Dev/Project/ThermalCamera/Model/dataset/train/with_human/2023-09-11 06-08-27.mp4_6.png', '/Users/mac/Dev/Project/ThermalCamera/Model/dataset/train/with_human/2023-09-11 06-28-34.mp4_43.png', '/Users/mac/Dev/Project/ThermalCamera/Model/dataset/train/with_human/2023-09-11 06-34-17.mp4_11.png', '/Users/mac/Dev/Project/ThermalCamera/Model/dataset/train/with_human/2023-09-11 05-33-46.mp4_180.png', '/Users/mac/Dev/Project/ThermalCamera/Model/dataset/train/with_human/2023-09-11 05-35-40.mp4_318.png', '/Users/mac/Dev/Project/ThermalCamera/Model/dataset/train/with_human/2023-09-11 05-33-46.mp4_143.png', '/Users/mac/Dev/Project/ThermalCamera/Model/dataset/train/with_human/2023-09-11 05-35-40.mp4_308.png', '/Users/mac/Dev/Project/ThermalCamera/Model/dataset/train/with_human/2023-09-11 05-33-46.mp4_147.png', '/Users/mac/Dev/Project/ThermalCamera/Model/dataset/train/with_human/2023-09-11 06-34-17.mp4_15.png', '/Users/mac/Dev/Project/ThermalCamera/Model/dataset/train/with_human/2023-09-11 06-28-34.mp4_47.png', '/Users/mac/Dev/Project/ThermalCamera/Model/dataset/train/with_human/2023-09-11 06-08-27.mp4_2.png', '/Users/mac/Dev/Project/ThermalCamera/Model/dataset/train/with_human/2023-09-11 05-33-46.mp4_66.png', '/Users/mac/Dev/Project/ThermalCamera/Model/dataset/train/with_human/2023-09-11 05-35-40.mp4_268.png', '/Users/mac/Dev/Project/ThermalCamera/Model/dataset/train/with_human/2023-09-11 05-33-46.mp4_72.png', '/Users/mac/Dev/Project/ThermalCamera/Model/dataset/train/with_human/2023-09-11 05-35-40.mp4_254.png', '/Users/mac/Dev/Project/ThermalCamera/Model/dataset/train/with_human/2023-09-11 05-35-40.mp4_240.png', '/Users/mac/Dev/Project/ThermalCamera/Model/dataset/train/with_human/2023-09-11 05-33-46.mp4_99.png', '/Users/mac/Dev/Project/ThermalCamera/Model/dataset/train/with_human/2023-09-11 05-35-40.mp4_297.png', '/Users/mac/Dev/Project/ThermalCamera/Model/dataset/train/with_human/2023-09-11 06-34-17.mp4_2727.png', '/Users/mac/Dev/Project/ThermalCamera/Model/dataset/train/with_human/2023-09-11 06-34-17.mp4_2726.png', '/Users/mac/Dev/Project/ThermalCamera/Model/dataset/train/with_human/2023-09-11 05-33-46.mp4_98.png', '/Users/mac/Dev/Project/ThermalCamera/Model/dataset/train/with_human/2023-09-11 05-35-40.mp4_296.png', '/Users/mac/Dev/Project/ThermalCamera/Model/dataset/train/with_human/2023-09-11 05-33-46.mp4_73.png', '/Users/mac/Dev/Project/ThermalCamera/Model/dataset/train/with_human/2023-09-11 05-33-46.mp4_67.png', '/Users/mac/Dev/Project/ThermalCamera/Model/dataset/train/with_human/2023-09-11 05-35-40.mp4_269.png', '/Users/mac/Dev/Project/ThermalCamera/Model/dataset/train/with_human/2023-09-11 06-08-27.mp4_3.png', '/Users/mac/Dev/Project/ThermalCamera/Model/dataset/train/with_human/2023-09-11 06-28-34.mp4_46.png', '/Users/mac/Dev/Project/ThermalCamera/Model/dataset/train/with_human/2023-09-11 06-34-17.mp4_14.png', '/Users/mac/Dev/Project/ThermalCamera/Model/dataset/train/with_human/2023-09-11 05-33-46.mp4_146.png', '/Users/mac/Dev/Project/ThermalCamera/Model/dataset/train/with_human/2023-09-11 05-35-40.mp4_309.png', '/Users/mac/Dev/Project/ThermalCamera/Model/dataset/train/with_human/2023-09-11 05-33-46.mp4_178.png', '/Users/mac/Dev/Project/ThermalCamera/Model/dataset/train/with_human/2023-09-11 05-33-46.mp4_150.png', '/Users/mac/Dev/Project/ThermalCamera/Model/dataset/train/with_human/2023-09-11 05-33-46.mp4_144.png', '/Users/mac/Dev/Project/ThermalCamera/Model/dataset/train/with_human/2023-09-11 06-28-34.mp4_44.png', '/Users/mac/Dev/Project/ThermalCamera/Model/dataset/train/with_human/2023-09-11 06-08-27.mp4_1.png', '/Users/mac/Dev/Project/ThermalCamera/Model/dataset/train/with_human/2023-09-11 05-33-46.mp4_71.png', '/Users/mac/Dev/Project/ThermalCamera/Model/dataset/train/with_human/2023-09-11 05-33-46.mp4_65.png', '/Users/mac/Dev/Project/ThermalCamera/Model/dataset/train/with_human/2023-09-11 05-35-40.mp4_243.png', '/Users/mac/Dev/Project/ThermalCamera/Model/dataset/train/with_human/2023-09-11 05-33-46.mp4_59.png', '/Users/mac/Dev/Project/ThermalCamera/Model/dataset/train/with_human/2023-09-11 06-34-17.mp4_2718.png', '/Users/mac/Dev/Project/ThermalCamera/Model/dataset/train/with_human/2023-09-11 06-34-17.mp4_2724.png', '/Users/mac/Dev/Project/ThermalCamera/Model/dataset/train/with_human/2023-09-11 06-34-17.mp4_2730.png', '/Users/mac/Dev/Project/ThermalCamera/Model/dataset/train/with_human/2023-09-11 05-35-40.mp4_294.png', '/Users/mac/Dev/Project/ThermalCamera/Model/dataset/train/with_human/2023-09-11 05-35-40.mp4_295.png', '/Users/mac/Dev/Project/ThermalCamera/Model/dataset/train/with_human/2023-09-11 06-34-17.mp4_2731.png', '/Users/mac/Dev/Project/ThermalCamera/Model/dataset/train/with_human/2023-09-11 06-34-17.mp4_2725.png', '/Users/mac/Dev/Project/ThermalCamera/Model/dataset/train/with_human/2023-09-11 06-34-17.mp4_2719.png', '/Users/mac/Dev/Project/ThermalCamera/Model/dataset/train/with_human/2023-09-11 05-33-46.mp4_58.png', '/Users/mac/Dev/Project/ThermalCamera/Model/dataset/train/with_human/2023-09-11 05-33-46.mp4_64.png', '/Users/mac/Dev/Project/ThermalCamera/Model/dataset/train/with_human/2023-09-11 05-33-46.mp4_70.png', '/Users/mac/Dev/Project/ThermalCamera/Model/dataset/train/with_human/2023-09-11 06-08-27.mp4_0.png', '/Users/mac/Dev/Project/ThermalCamera/Model/dataset/train/with_human/2023-09-11 06-28-34.mp4_45.png', '/Users/mac/Dev/Project/ThermalCamera/Model/dataset/train/with_human/2023-09-11 05-33-46.mp4_145.png', '/Users/mac/Dev/Project/ThermalCamera/Model/dataset/train/with_human/2023-09-11 05-33-46.mp4_179.png', '/Users/mac/Dev/Project/ThermalCamera/Model/dataset/train/with_human/2023-09-11 05-35-40.mp4_313.png', '/Users/mac/Dev/Project/ThermalCamera/Model/dataset/train/with_human/2023-09-11 05-33-46.mp4_174.png', '/Users/mac/Dev/Project/ThermalCamera/Model/dataset/train/with_human/2023-09-11 05-33-46.mp4_160.png', '/Users/mac/Dev/Project/ThermalCamera/Model/dataset/train/with_human/2023-09-11 05-35-40.mp4_307.png', '/Users/mac/Dev/Project/ThermalCamera/Model/dataset/train/with_human/2023-09-11 05-33-46.mp4_148.png', '/Users/mac/Dev/Project/ThermalCamera/Model/dataset/train/with_human/2023-09-11 05-35-40.mp4_267.png', '/Users/mac/Dev/Project/ThermalCamera/Model/dataset/train/with_human/2023-09-11 05-33-46.mp4_69.png', '/Users/mac/Dev/Project/ThermalCamera/Model/dataset/train/with_human/2023-09-11 05-35-40.mp4_273.png', '/Users/mac/Dev/Project/ThermalCamera/Model/dataset/train/with_human/2023-09-11 05-35-40.mp4_40.png', '/Users/mac/Dev/Project/ThermalCamera/Model/dataset/train/with_human/2023-09-11 05-33-46.mp4_55.png', '/Users/mac/Dev/Project/ThermalCamera/Model/dataset/train/with_human/2023-09-11 05-33-46.mp4_41.png', '/Users/mac/Dev/Project/ThermalCamera/Model/dataset/train/with_human/2023-09-11 05-35-40.mp4_298.png', '/Users/mac/Dev/Project/ThermalCamera/Model/dataset/train/with_human/2023-09-11 05-33-46.mp4_96.png', '/Users/mac/Dev/Project/ThermalCamera/Model/dataset/train/with_human/2023-09-11 06-34-17.mp4_2728.png', '/Users/mac/Dev/Project/ThermalCamera/Model/dataset/train/with_human/2023-09-11 06-34-17.mp4_2729.png', '/Users/mac/Dev/Project/ThermalCamera/Model/dataset/train/with_human/2023-09-11 05-35-40.mp4_299.png', '/Users/mac/Dev/Project/ThermalCamera/Model/dataset/train/with_human/2023-09-11 05-33-46.mp4_97.png', '/Users/mac/Dev/Project/ThermalCamera/Model/dataset/train/with_human/2023-09-11 05-33-46.mp4_40.png', '/Users/mac/Dev/Project/ThermalCamera/Model/dataset/train/with_human/2023-09-11 05-35-40.mp4_41.png', '/Users/mac/Dev/Project/ThermalCamera/Model/dataset/train/with_human/2023-09-11 05-33-46.mp4_54.png', '/Users/mac/Dev/Project/ThermalCamera/Model/dataset/train/with_human/2023-09-11 05-35-40.mp4_272.png', '/Users/mac/Dev/Project/ThermalCamera/Model/dataset/train/with_human/2023-09-11 05-35-40.mp4_266.png', '/Users/mac/Dev/Project/ThermalCamera/Model/dataset/train/with_human/2023-09-11 05-33-46.mp4_68.png', '/Users/mac/Dev/Project/ThermalCamera/Model/dataset/train/with_human/2023-09-11 05-33-46.mp4_149.png', '/Users/mac/Dev/Project/ThermalCamera/Model/dataset/train/with_human/2023-09-11 05-35-40.mp4_306.png', '/Users/mac/Dev/Project/ThermalCamera/Model/dataset/train/with_human/2023-09-11 05-33-46.mp4_161.png', '/Users/mac/Dev/Project/ThermalCamera/Model/dataset/train/with_human/2023-09-11 05-33-46.mp4_175.png', '/Users/mac/Dev/Project/ThermalCamera/Model/dataset/train/with_human/2023-09-11 05-35-40.mp4_312.png', '/Users/mac/Dev/Project/ThermalCamera/Model/dataset/train/with_human/2023-09-11 05-33-46.mp4_163.png', '/Users/mac/Dev/Project/ThermalCamera/Model/dataset/train/with_human/2023-09-11 05-35-40.mp4_304.png', '/Users/mac/Dev/Project/ThermalCamera/Model/dataset/train/with_human/2023-09-11 05-35-40.mp4_310.png', '/Users/mac/Dev/Project/ThermalCamera/Model/dataset/train/with_human/2023-09-11 05-33-46.mp4_177.png', '/Users/mac/Dev/Project/ThermalCamera/Model/dataset/train/with_human/2023-09-11 06-29-52.mp4_10.png', '/Users/mac/Dev/Project/ThermalCamera/Model/dataset/train/with_human/2023-09-11 05-35-40.mp4_270.png', '/Users/mac/Dev/Project/ThermalCamera/Model/dataset/train/with_human/2023-09-11 05-35-40.mp4_264.png', '/Users/mac/Dev/Project/ThermalCamera/Model/dataset/train/with_human/2023-09-11 05-33-46.mp4_42.png', '/Users/mac/Dev/Project/ThermalCamera/Model/dataset/train/with_human/2023-09-11 05-33-46.mp4_56.png', '/Users/mac/Dev/Project/ThermalCamera/Model/dataset/train/with_human/2023-09-11 05-35-40.mp4_43.png', '/Users/mac/Dev/Project/ThermalCamera/Model/dataset/train/with_human/2023-09-11 05-33-46.mp4_95.png', '/Users/mac/Dev/Project/ThermalCamera/Model/dataset/train/with_human/2023-09-11 05-33-46.mp4_94.png', '/Users/mac/Dev/Project/ThermalCamera/Model/dataset/train/with_human/2023-09-11 05-33-46.mp4_80.png', '/Users/mac/Dev/Project/ThermalCamera/Model/dataset/train/with_human/2023-09-11 05-35-40.mp4_42.png', '/Users/mac/Dev/Project/ThermalCamera/Model/dataset/train/with_human/2023-09-11 05-33-46.mp4_43.png', '/Users/mac/Dev/Project/ThermalCamera/Model/dataset/train/with_human/2023-09-11 05-35-40.mp4_265.png', '/Users/mac/Dev/Project/ThermalCamera/Model/dataset/train/with_human/2023-09-11 05-35-40.mp4_271.png', '/Users/mac/Dev/Project/ThermalCamera/Model/dataset/train/with_human/2023-09-11 05-33-46.mp4_176.png', '/Users/mac/Dev/Project/ThermalCamera/Model/dataset/train/with_human/2023-09-11 05-35-40.mp4_311.png', '/Users/mac/Dev/Project/ThermalCamera/Model/dataset/train/with_human/2023-09-11 05-35-40.mp4_305.png', '/Users/mac/Dev/Project/ThermalCamera/Model/dataset/train/with_human/2023-09-11 05-33-46.mp4_162.png', '/Users/mac/Dev/Project/ThermalCamera/Model/dataset/train/with_human/2023-09-11 06-29-52.mp4_29.png', '/Users/mac/Dev/Project/ThermalCamera/Model/dataset/train/with_human/2023-09-11 05-33-46.mp4_166.png', '/Users/mac/Dev/Project/ThermalCamera/Model/dataset/train/with_human/2023-09-11 05-35-40.mp4_301.png', '/Users/mac/Dev/Project/ThermalCamera/Model/dataset/train/with_human/2023-09-11 05-35-40.mp4_315.png', '/Users/mac/Dev/Project/ThermalCamera/Model/dataset/train/with_human/2023-09-11 05-33-46.mp4_172.png', '/Users/mac/Dev/Project/ThermalCamera/Model/dataset/train/with_human/2023-09-11 05-33-46.mp4_47.png', '/Users/mac/Dev/Project/ThermalCamera/Model/dataset/train/with_human/2023-09-11 05-35-40.mp4_249.png', '/Users/mac/Dev/Project/ThermalCamera/Model/dataset/train/with_human/2023-09-11 05-35-40.mp4_46.png', '/Users/mac/Dev/Project/ThermalCamera/Model/dataset/train/with_human/2023-09-11 05-33-46.mp4_53.png', '/Users/mac/Dev/Project/ThermalCamera/Model/dataset/train/with_human/2023-09-11 05-35-40.mp4_275.png', '/Users/mac/Dev/Project/ThermalCamera/Model/dataset/train/with_human/2023-09-11 05-35-40.mp4_274.png', '/Users/mac/Dev/Project/ThermalCamera/Model/dataset/train/with_human/2023-09-11 05-35-40.mp4_47.png', '/Users/mac/Dev/Project/ThermalCamera/Model/dataset/train/with_human/2023-09-11 05-33-46.mp4_52.png', '/Users/mac/Dev/Project/ThermalCamera/Model/dataset/train/with_human/2023-09-11 05-33-46.mp4_46.png', '/Users/mac/Dev/Project/ThermalCamera/Model/dataset/train/with_human/2023-09-11 05-35-40.mp4_248.png', '/Users/mac/Dev/Project/ThermalCamera/Model/dataset/train/with_human/2023-09-11 05-33-46.mp4_173.png', '/Users/mac/Dev/Project/ThermalCamera/Model/dataset/train/with_human/2023-09-11 05-35-40.mp4_314.png', '/Users/mac/Dev/Project/ThermalCamera/Model/dataset/train/with_human/2023-09-11 06-29-52.mp4_28.png', '/Users/mac/Dev/Project/ThermalCamera/Model/dataset/train/with_human/2023-09-11 05-35-40.mp4_300.png', '/Users/mac/Dev/Project/ThermalCamera/Model/dataset/train/with_human/2023-09-11 05-33-46.mp4_167.png', '/Users/mac/Dev/Project/ThermalCamera/Model/dataset/train/with_human/2023-09-11 05-35-40.mp4_316.png', '/Users/mac/Dev/Project/ThermalCamera/Model/dataset/train/with_human/2023-09-11 05-33-46.mp4_171.png', '/Users/mac/Dev/Project/ThermalCamera/Model/dataset/train/with_human/2023-09-11 05-33-46.mp4_165.png', '/Users/mac/Dev/Project/ThermalCamera/Model/dataset/train/with_human/2023-09-11 05-35-40.mp4_302.png', '/Users/mac/Dev/Project/ThermalCamera/Model/dataset/train/with_human/2023-09-11 06-08-27.mp4_8.png', '/Users/mac/Dev/Project/ThermalCamera/Model/dataset/train/with_human/2023-09-11 05-33-46.mp4_50.png', '/Users/mac/Dev/Project/ThermalCamera/Model/dataset/train/with_human/2023-09-11 05-35-40.mp4_45.png', '/Users/mac/Dev/Project/ThermalCamera/Model/dataset/train/with_human/2023-09-11 05-33-46.mp4_44.png', '/Users/mac/Dev/Project/ThermalCamera/Model/dataset/train/with_human/2023-09-11 05-35-40.mp4_276.png', '/Users/mac/Dev/Project/ThermalCamera/Model/dataset/train/with_human/2023-09-11 05-33-46.mp4_78.png', '/Users/mac/Dev/Project/ThermalCamera/Model/dataset/train/with_human/2023-09-11 05-35-40.mp4_289.png', '/Users/mac/Dev/Project/ThermalCamera/Model/dataset/train/with_human/2023-09-11 05-35-40.mp4_288.png', '/Users/mac/Dev/Project/ThermalCamera/Model/dataset/train/with_human/2023-09-11 05-35-40.mp4_277.png', '/Users/mac/Dev/Project/ThermalCamera/Model/dataset/train/with_human/2023-09-11 05-33-46.mp4_79.png', '/Users/mac/Dev/Project/ThermalCamera/Model/dataset/train/with_human/2023-09-11 05-33-46.mp4_45.png', '/Users/mac/Dev/Project/ThermalCamera/Model/dataset/train/with_human/2023-09-11 05-33-46.mp4_51.png', '/Users/mac/Dev/Project/ThermalCamera/Model/dataset/train/with_human/2023-09-11 05-35-40.mp4_44.png', '/Users/mac/Dev/Project/ThermalCamera/Model/dataset/train/with_human/2023-09-11 06-08-27.mp4_9.png', '/Users/mac/Dev/Project/ThermalCamera/Model/dataset/train/with_human/2023-09-11 05-35-40.mp4_303.png', '/Users/mac/Dev/Project/ThermalCamera/Model/dataset/train/with_human/2023-09-11 05-33-46.mp4_164.png', '/Users/mac/Dev/Project/ThermalCamera/Model/dataset/train/with_human/2023-09-11 05-33-46.mp4_170.png', '/Users/mac/Dev/Project/ThermalCamera/Model/dataset/train/with_human/2023-09-11 05-35-40.mp4_317.png', '/Users/mac/Dev/Project/ThermalCamera/Model/dataset/train/with_human/2023-09-11 06-28-34.mp4_1.png', '/Users/mac/Dev/Project/ThermalCamera/Model/dataset/train/with_human/2023-09-11 05-33-46.mp4_117.png', '/Users/mac/Dev/Project/ThermalCamera/Model/dataset/train/with_human/2023-09-11 05-33-46.mp4_103.png', '/Users/mac/Dev/Project/ThermalCamera/Model/dataset/train/with_human/2023-09-11 06-08-27.mp4_11.png', '/Users/mac/Dev/Project/ThermalCamera/Model/dataset/train/with_human/2023-09-11 06-28-34.mp4_17.png', '/Users/mac/Dev/Project/ThermalCamera/Model/dataset/train/with_human/2023-09-11 06-08-27.mp4_39.png', '/Users/mac/Dev/Project/ThermalCamera/Model/dataset/train/with_human/2023-09-11 06-34-17.mp4_5.png', '/Users/mac/Dev/Project/ThermalCamera/Model/dataset/train/with_human/2023-09-11 05-33-46.mp4_36.png', '/Users/mac/Dev/Project/ThermalCamera/Model/dataset/train/with_human/2023-09-11 05-35-40.mp4_238.png', '/Users/mac/Dev/Project/ThermalCamera/Model/dataset/train/with_human/2023-09-11 05-35-40.mp4_23.png', '/Users/mac/Dev/Project/ThermalCamera/Model/dataset/train/with_human/2023-09-11 05-35-40.mp4_37.png', '/Users/mac/Dev/Project/ThermalCamera/Model/dataset/train/with_human/2023-09-11 05-33-46.mp4_22.png', '/Users/mac/Dev/Project/ThermalCamera/Model/dataset/train/with_human/2023-09-11 05-35-40.mp4_36.png', '/Users/mac/Dev/Project/ThermalCamera/Model/dataset/train/with_human/2023-09-11 05-33-46.mp4_23.png', '/Users/mac/Dev/Project/ThermalCamera/Model/dataset/train/with_human/2023-09-11 05-33-46.mp4_37.png', '/Users/mac/Dev/Project/ThermalCamera/Model/dataset/train/with_human/2023-09-11 05-35-40.mp4_22.png', '/Users/mac/Dev/Project/ThermalCamera/Model/dataset/train/with_human/2023-09-11 05-35-40.mp4_239.png', '/Users/mac/Dev/Project/ThermalCamera/Model/dataset/train/with_human/2023-09-11 06-34-17.mp4_4.png', '/Users/mac/Dev/Project/ThermalCamera/Model/dataset/train/with_human/2023-09-11 06-08-27.mp4_38.png', '/Users/mac/Dev/Project/ThermalCamera/Model/dataset/train/with_human/2023-09-11 06-28-34.mp4_16.png', '/Users/mac/Dev/Project/ThermalCamera/Model/dataset/train/with_human/2023-09-11 06-08-27.mp4_10.png', '/Users/mac/Dev/Project/ThermalCamera/Model/dataset/train/with_human/2023-09-11 05-33-46.mp4_102.png', '/Users/mac/Dev/Project/ThermalCamera/Model/dataset/train/with_human/2023-09-11 06-28-34.mp4_0.png', '/Users/mac/Dev/Project/ThermalCamera/Model/dataset/train/with_human/2023-09-11 05-33-46.mp4_116.png', '/Users/mac/Dev/Project/ThermalCamera/Model/dataset/train/with_human/2023-09-11 05-33-46.mp4_100.png', '/Users/mac/Dev/Project/ThermalCamera/Model/dataset/train/with_human/2023-09-11 05-33-46.mp4_114.png', '/Users/mac/Dev/Project/ThermalCamera/Model/dataset/train/with_human/2023-09-11 06-28-34.mp4_2.png', '/Users/mac/Dev/Project/ThermalCamera/Model/dataset/train/with_human/2023-09-11 05-33-46.mp4_128.png', '/Users/mac/Dev/Project/ThermalCamera/Model/dataset/train/with_human/2023-09-11 06-08-27.mp4_12.png', '/Users/mac/Dev/Project/ThermalCamera/Model/dataset/train/with_human/2023-09-11 06-28-34.mp4_28.png', '/Users/mac/Dev/Project/ThermalCamera/Model/dataset/train/with_human/2023-09-11 06-28-34.mp4_14.png', '/Users/mac/Dev/Project/ThermalCamera/Model/dataset/train/with_human/2023-09-11 06-34-17.mp4_6.png', '/Users/mac/Dev/Project/ThermalCamera/Model/dataset/train/with_human/2023-09-11 05-33-46.mp4_21.png', '/Users/mac/Dev/Project/ThermalCamera/Model/dataset/train/with_human/2023-09-11 05-35-40.mp4_34.png', '/Users/mac/Dev/Project/ThermalCamera/Model/dataset/train/with_human/2023-09-11 05-35-40.mp4_20.png', '/Users/mac/Dev/Project/ThermalCamera/Model/dataset/train/with_human/2023-09-11 05-33-46.mp4_35.png', '/Users/mac/Dev/Project/ThermalCamera/Model/dataset/train/with_human/2023-09-11 06-29-52.mp4_9.png', '/Users/mac/Dev/Project/ThermalCamera/Model/dataset/train/with_human/2023-09-11 06-29-52.mp4_8.png', '/Users/mac/Dev/Project/ThermalCamera/Model/dataset/train/with_human/2023-09-11 05-35-40.mp4_21.png', '/Users/mac/Dev/Project/ThermalCamera/Model/dataset/train/with_human/2023-09-11 05-33-46.mp4_34.png', '/Users/mac/Dev/Project/ThermalCamera/Model/dataset/train/with_human/2023-09-11 05-33-46.mp4_20.png', '/Users/mac/Dev/Project/ThermalCamera/Model/dataset/train/with_human/2023-09-11 05-35-40.mp4_35.png', '/Users/mac/Dev/Project/ThermalCamera/Model/dataset/train/with_human/2023-09-11 06-34-17.mp4_7.png', '/Users/mac/Dev/Project/ThermalCamera/Model/dataset/train/with_human/2023-09-11 06-28-34.mp4_15.png', '/Users/mac/Dev/Project/ThermalCamera/Model/dataset/train/with_human/2023-09-11 06-28-34.mp4_29.png', '/Users/mac/Dev/Project/ThermalCamera/Model/dataset/train/with_human/2023-09-11 06-08-27.mp4_13.png', '/Users/mac/Dev/Project/ThermalCamera/Model/dataset/train/with_human/2023-09-11 05-33-46.mp4_129.png', '/Users/mac/Dev/Project/ThermalCamera/Model/dataset/train/with_human/2023-09-11 05-33-46.mp4_115.png', '/Users/mac/Dev/Project/ThermalCamera/Model/dataset/train/with_human/2023-09-11 06-28-34.mp4_3.png', '/Users/mac/Dev/Project/ThermalCamera/Model/dataset/train/with_human/2023-09-11 05-33-46.mp4_101.png', '/Users/mac/Dev/Project/ThermalCamera/Model/dataset/train/with_human/2023-09-11 05-33-46.mp4_139.png', '/Users/mac/Dev/Project/ThermalCamera/Model/dataset/train/with_human/2023-09-11 05-33-46.mp4_105.png', '/Users/mac/Dev/Project/ThermalCamera/Model/dataset/train/with_human/2023-09-11 06-28-34.mp4_7.png', '/Users/mac/Dev/Project/ThermalCamera/Model/dataset/train/with_human/2023-09-11 05-33-46.mp4_111.png', '/Users/mac/Dev/Project/ThermalCamera/Model/dataset/train/with_human/2023-09-11 06-28-34.mp4_11.png', '/Users/mac/Dev/Project/ThermalCamera/Model/dataset/train/with_human/2023-09-11 06-28-34.mp4_39.png', '/Users/mac/Dev/Project/ThermalCamera/Model/dataset/train/with_human/2023-09-11 06-08-27.mp4_17.png', '/Users/mac/Dev/Project/ThermalCamera/Model/dataset/train/with_human/2023-09-11 05-35-40.mp4_8.png', '/Users/mac/Dev/Project/ThermalCamera/Model/dataset/train/with_human/2023-09-11 05-35-40.mp4_31.png', '/Users/mac/Dev/Project/ThermalCamera/Model/dataset/train/with_human/2023-09-11 05-33-46.mp4_24.png', '/Users/mac/Dev/Project/ThermalCamera/Model/dataset/train/with_human/2023-09-11 05-33-46.mp4_30.png', '/Users/mac/Dev/Project/ThermalCamera/Model/dataset/train/with_human/2023-09-11 05-35-40.mp4_25.png', '/Users/mac/Dev/Project/ThermalCamera/Model/dataset/train/with_human/2023-09-11 05-33-46.mp4_18.png', '/Users/mac/Dev/Project/ThermalCamera/Model/dataset/train/with_human/2023-09-11 06-34-17.mp4_3.png', '/Users/mac/Dev/Project/ThermalCamera/Model/dataset/train/with_human/2023-09-11 05-35-40.mp4_19.png', '/Users/mac/Dev/Project/ThermalCamera/Model/dataset/train/with_human/2023-09-11 05-33-46.mp4_8.png', '/Users/mac/Dev/Project/ThermalCamera/Model/dataset/train/with_human/2023-09-11 05-33-46.mp4_9.png', '/Users/mac/Dev/Project/ThermalCamera/Model/dataset/train/with_human/2023-09-11 06-34-17.mp4_2.png', '/Users/mac/Dev/Project/ThermalCamera/Model/dataset/train/with_human/2023-09-11 05-35-40.mp4_18.png', '/Users/mac/Dev/Project/ThermalCamera/Model/dataset/train/with_human/2023-09-11 05-35-40.mp4_217.png', '/Users/mac/Dev/Project/ThermalCamera/Model/dataset/train/with_human/2023-09-11 05-33-46.mp4_19.png', '/Users/mac/Dev/Project/ThermalCamera/Model/dataset/train/with_human/2023-09-11 05-33-46.mp4_31.png', '/Users/mac/Dev/Project/ThermalCamera/Model/dataset/train/with_human/2023-09-11 05-35-40.mp4_24.png', '/Users/mac/Dev/Project/ThermalCamera/Model/dataset/train/with_human/2023-09-11 05-35-40.mp4_30.png', '/Users/mac/Dev/Project/ThermalCamera/Model/dataset/train/with_human/2023-09-11 05-33-46.mp4_25.png', '/Users/mac/Dev/Project/ThermalCamera/Model/dataset/train/with_human/2023-09-11 05-35-40.mp4_9.png', '/Users/mac/Dev/Project/ThermalCamera/Model/dataset/train/with_human/2023-09-11 06-08-27.mp4_16.png', '/Users/mac/Dev/Project/ThermalCamera/Model/dataset/train/with_human/2023-09-11 06-28-34.mp4_38.png', '/Users/mac/Dev/Project/ThermalCamera/Model/dataset/train/with_human/2023-09-11 06-28-34.mp4_10.png', '/Users/mac/Dev/Project/ThermalCamera/Model/dataset/train/with_human/2023-09-11 06-28-34.mp4_6.png', '/Users/mac/Dev/Project/ThermalCamera/Model/dataset/train/with_human/2023-09-11 05-33-46.mp4_110.png', '/Users/mac/Dev/Project/ThermalCamera/Model/dataset/train/with_human/2023-09-11 05-33-46.mp4_104.png', '/Users/mac/Dev/Project/ThermalCamera/Model/dataset/train/with_human/2023-09-11 05-33-46.mp4_138.png', '/Users/mac/Dev/Project/ThermalCamera/Model/dataset/train/with_human/2023-09-11 05-33-46.mp4_112.png', '/Users/mac/Dev/Project/ThermalCamera/Model/dataset/train/with_human/2023-09-11 06-28-34.mp4_4.png', '/Users/mac/Dev/Project/ThermalCamera/Model/dataset/train/with_human/2023-09-11 05-33-46.mp4_106.png', '/Users/mac/Dev/Project/ThermalCamera/Model/dataset/train/with_human/2023-09-11 06-28-34.mp4_12.png', '/Users/mac/Dev/Project/ThermalCamera/Model/dataset/train/with_human/2023-09-11 06-08-27.mp4_28.png', '/Users/mac/Dev/Project/ThermalCamera/Model/dataset/train/with_human/2023-09-11 06-08-27.mp4_14.png', '/Users/mac/Dev/Project/ThermalCamera/Model/dataset/train/with_human/2023-09-11 05-35-40.mp4_26.png', '/Users/mac/Dev/Project/ThermalCamera/Model/dataset/train/with_human/2023-09-11 05-33-46.mp4_33.png', '/Users/mac/Dev/Project/ThermalCamera/Model/dataset/train/with_human/2023-09-11 05-33-46.mp4_27.png', '/Users/mac/Dev/Project/ThermalCamera/Model/dataset/train/with_human/2023-09-11 05-35-40.mp4_32.png', '/Users/mac/Dev/Project/ThermalCamera/Model/dataset/train/with_human/2023-09-11 05-35-40.mp4_229.png', '/Users/mac/Dev/Project/ThermalCamera/Model/dataset/train/with_human/2023-09-11 06-34-17.mp4_0.png', '/Users/mac/Dev/Project/ThermalCamera/Model/dataset/train/with_human/2023-09-11 06-34-17.mp4_1.png', '/Users/mac/Dev/Project/ThermalCamera/Model/dataset/train/with_human/2023-09-11 05-33-46.mp4_26.png', '/Users/mac/Dev/Project/ThermalCamera/Model/dataset/train/with_human/2023-09-11 05-35-40.mp4_228.png', '/Users/mac/Dev/Project/ThermalCamera/Model/dataset/train/with_human/2023-09-11 05-35-40.mp4_33.png', '/Users/mac/Dev/Project/ThermalCamera/Model/dataset/train/with_human/2023-09-11 05-35-40.mp4_27.png', '/Users/mac/Dev/Project/ThermalCamera/Model/dataset/train/with_human/2023-09-11 05-33-46.mp4_32.png', '/Users/mac/Dev/Project/ThermalCamera/Model/dataset/train/with_human/2023-09-11 06-08-27.mp4_15.png', '/Users/mac/Dev/Project/ThermalCamera/Model/dataset/train/with_human/2023-09-11 06-08-27.mp4_29.png', '/Users/mac/Dev/Project/ThermalCamera/Model/dataset/train/with_human/2023-09-11 06-28-34.mp4_13.png', '/Users/mac/Dev/Project/ThermalCamera/Model/dataset/train/with_human/2023-09-11 05-33-46.mp4_107.png', '/Users/mac/Dev/Project/ThermalCamera/Model/dataset/train/with_human/2023-09-11 05-33-46.mp4_113.png', '/Users/mac/Dev/Project/ThermalCamera/Model/dataset/train/with_human/2023-09-11 06-28-34.mp4_5.png']\n",
      "Train data shape: (2700, 24, 32)\n",
      "Validation data shape: (676, 24, 32)\n",
      "Test data shape: (676, 24, 32)\n"
     ]
    }
   ],
   "source": [
    "import os\n",
    "import cv2\n",
    "import numpy as np\n",
    "from sklearn.model_selection import train_test_split\n",
    "\n",
    "# 데이터셋 경로 설정\n",
    "dataset_dir = '/Users/mac/Dev/Project/ThermalCamera/Model/dataset/'\n",
    "with_human_dir = os.path.join(dataset_dir, 'train', 'with_human')\n",
    "without_human_dir = os.path.join(dataset_dir, 'train', 'without_human')\n",
    "# print(with_human_dir)\n",
    "# 이미지 파일 목록 읽기\n",
    "with_human_images = [os.path.join(with_human_dir, filename) for filename in os.listdir(with_human_dir)]\n",
    "without_human_images = [os.path.join(without_human_dir, filename) for filename in os.listdir(without_human_dir)]\n",
    "# print(with_human_images)\n",
    "# 이미지 파일 경로와 레이블(1 또는 0)을 저장할 리스트 초기화\n",
    "data = []\n",
    "labels = []\n",
    "\n",
    "# 'with_human' 이미지와 레이블(1) 추가\n",
    "for image_path in with_human_images:\n",
    "    if not image_path.endswith('.DS_Store'):  # .DS_Store 파일 건너뛰기\n",
    "        image = cv2.imread(image_path, cv2.IMREAD_GRAYSCALE)  # 이미지를 흑백으로 읽어옴\n",
    "        image = cv2.resize(image, (image_width, image_height))  # 이미지 크기 조절\n",
    "        data.append(image)\n",
    "        labels.append(1)\n",
    "\n",
    "# 'without_human' 이미지와 레이블(0) 추가\n",
    "for image_path in without_human_images:\n",
    "    if not image_path.endswith('.DS_Store'):  # .DS_Store 파일 건너뛰기\n",
    "        image = cv2.imread(image_path, cv2.IMREAD_GRAYSCALE)\n",
    "        image = cv2.resize(image, (image_width, image_height))\n",
    "        data.append(image)\n",
    "        labels.append(0)\n",
    "\n",
    "\n",
    "\n",
    "# 데이터를 NumPy 배열로 변환\n",
    "data = np.array(data, dtype=np.float32)\n",
    "labels = np.array(labels)\n",
    "\n",
    "# 데이터를 0에서 1 사이의 값으로 정규화\n",
    "data /= 255.0\n",
    "\n",
    "# 첫 번째 호출로 훈련 데이터와 검증 데이터 생성\n",
    "train_data, validation_data, train_labels, validation_labels = train_test_split(data, labels, test_size=0.2, random_state=42)\n",
    "\n",
    "# 두 번째 호출로 테스트 데이터 생성 (훈련 데이터를 기반으로 생성하지 않음)\n",
    "data_temp, test_data, labels_temp, test_labels = train_test_split(data, labels, test_size=0.2, random_state=42)\n",
    "\n",
    "# 데이터의 shape 확인\n",
    "print(\"Train data shape:\", train_data.shape)\n",
    "print(\"Validation data shape:\", validation_data.shape)\n",
    "print(\"Test data shape:\", test_data.shape)\n",
    "\n",
    "\n"
   ]
  },
  {
   "cell_type": "markdown",
   "metadata": {},
   "source": [
    "2. CNN 모델 아키텍쳐 정의"
   ]
  },
  {
   "cell_type": "code",
   "execution_count": 85,
   "metadata": {},
   "outputs": [],
   "source": [
    "model = Sequential()\n",
    "\n",
    "model.add(Conv2D(32, (3, 3), activation='relu', input_shape=(image_height, image_width, 1)))\n",
    "model.add(MaxPooling2D((2, 2)))\n",
    "\n",
    "model.add(Conv2D(64, (3, 3), activation='relu'))\n",
    "model.add(MaxPooling2D((2, 2)))\n",
    "\n",
    "model.add(Conv2D(128, (3, 3), activation='relu'))\n",
    "model.add(MaxPooling2D((2, 2)))\n",
    "\n",
    "model.add(Flatten())\n",
    "model.add(Dense(128, activation='relu'))\n",
    "model.add(Dense(1, activation='sigmoid'))\n",
    "\n",
    "model.compile(optimizer='adam', loss='binary_crossentropy', metrics=['accuracy'])\n"
   ]
  },
  {
   "cell_type": "markdown",
   "metadata": {},
   "source": [
    "model training"
   ]
  },
  {
   "cell_type": "code",
   "execution_count": 86,
   "metadata": {},
   "outputs": [
    {
     "name": "stdout",
     "output_type": "stream",
     "text": [
      "Epoch 1/5\n"
     ]
    },
    {
     "name": "stderr",
     "output_type": "stream",
     "text": [
      "loc(\"mps_select\"(\"(mpsFileLoc): /AppleInternal/Library/BuildRoots/0783246a-4091-11ee-8fca-aead88ae2785/Library/Caches/com.apple.xbs/Sources/MetalPerformanceShadersGraph/mpsgraph/MetalPerformanceShadersGraph/Core/Files/MPSGraphUtilities.mm\":294:0)): error: 'anec.gain_offset_control' op result #0 must be 4D/5D memref of 16-bit float or 8-bit signed integer or 8-bit unsigned integer values, but got 'memref<1x32x1x1xi1>'\n",
      "loc(\"mps_select\"(\"(mpsFileLoc): /AppleInternal/Library/BuildRoots/0783246a-4091-11ee-8fca-aead88ae2785/Library/Caches/com.apple.xbs/Sources/MetalPerformanceShadersGraph/mpsgraph/MetalPerformanceShadersGraph/Core/Files/MPSGraphUtilities.mm\":294:0)): error: 'anec.gain_offset_control' op result #0 must be 4D/5D memref of 16-bit float or 8-bit signed integer or 8-bit unsigned integer values, but got 'memref<1x32x1x1xi1>'\n",
      "loc(\"mps_select\"(\"(mpsFileLoc): /AppleInternal/Library/BuildRoots/0783246a-4091-11ee-8fca-aead88ae2785/Library/Caches/com.apple.xbs/Sources/MetalPerformanceShadersGraph/mpsgraph/MetalPerformanceShadersGraph/Core/Files/MPSGraphUtilities.mm\":294:0)): error: 'anec.gain_offset_control' op result #0 must be 4D/5D memref of 16-bit float or 8-bit signed integer or 8-bit unsigned integer values, but got 'memref<1x32x1x1xi1>'\n",
      "loc(\"mps_select\"(\"(mpsFileLoc): /AppleInternal/Library/BuildRoots/0783246a-4091-11ee-8fca-aead88ae2785/Library/Caches/com.apple.xbs/Sources/MetalPerformanceShadersGraph/mpsgraph/MetalPerformanceShadersGraph/Core/Files/MPSGraphUtilities.mm\":294:0)): error: 'anec.gain_offset_control' op result #0 must be 4D/5D memref of 16-bit float or 8-bit signed integer or 8-bit unsigned integer values, but got 'memref<1x32x1x1xi1>'\n",
      "loc(\"mps_select\"(\"(mpsFileLoc): /AppleInternal/Library/BuildRoots/0783246a-4091-11ee-8fca-aead88ae2785/Library/Caches/com.apple.xbs/Sources/MetalPerformanceShadersGraph/mpsgraph/MetalPerformanceShadersGraph/Core/Files/MPSGraphUtilities.mm\":294:0)): error: 'anec.gain_offset_control' op result #0 must be 4D/5D memref of 16-bit float or 8-bit signed integer or 8-bit unsigned integer values, but got 'memref<1x32x1x1xi1>'\n"
     ]
    },
    {
     "name": "stdout",
     "output_type": "stream",
     "text": [
      "83/85 [============================>.] - ETA: 0s - loss: 0.1051 - accuracy: 0.9665"
     ]
    },
    {
     "name": "stderr",
     "output_type": "stream",
     "text": [
      "loc(\"mps_select\"(\"(mpsFileLoc): /AppleInternal/Library/BuildRoots/0783246a-4091-11ee-8fca-aead88ae2785/Library/Caches/com.apple.xbs/Sources/MetalPerformanceShadersGraph/mpsgraph/MetalPerformanceShadersGraph/Core/Files/MPSGraphUtilities.mm\":294:0)): error: 'anec.gain_offset_control' op result #0 must be 4D/5D memref of 16-bit float or 8-bit signed integer or 8-bit unsigned integer values, but got 'memref<1x12x1x1xi1>'\n",
      "loc(\"mps_select\"(\"(mpsFileLoc): /AppleInternal/Library/BuildRoots/0783246a-4091-11ee-8fca-aead88ae2785/Library/Caches/com.apple.xbs/Sources/MetalPerformanceShadersGraph/mpsgraph/MetalPerformanceShadersGraph/Core/Files/MPSGraphUtilities.mm\":294:0)): error: 'anec.gain_offset_control' op result #0 must be 4D/5D memref of 16-bit float or 8-bit signed integer or 8-bit unsigned integer values, but got 'memref<1x12x1x1xi1>'\n",
      "loc(\"mps_select\"(\"(mpsFileLoc): /AppleInternal/Library/BuildRoots/0783246a-4091-11ee-8fca-aead88ae2785/Library/Caches/com.apple.xbs/Sources/MetalPerformanceShadersGraph/mpsgraph/MetalPerformanceShadersGraph/Core/Files/MPSGraphUtilities.mm\":294:0)): error: 'anec.gain_offset_control' op result #0 must be 4D/5D memref of 16-bit float or 8-bit signed integer or 8-bit unsigned integer values, but got 'memref<1x12x1x1xi1>'\n",
      "loc(\"mps_select\"(\"(mpsFileLoc): /AppleInternal/Library/BuildRoots/0783246a-4091-11ee-8fca-aead88ae2785/Library/Caches/com.apple.xbs/Sources/MetalPerformanceShadersGraph/mpsgraph/MetalPerformanceShadersGraph/Core/Files/MPSGraphUtilities.mm\":294:0)): error: 'anec.gain_offset_control' op result #0 must be 4D/5D memref of 16-bit float or 8-bit signed integer or 8-bit unsigned integer values, but got 'memref<1x12x1x1xi1>'\n",
      "loc(\"mps_select\"(\"(mpsFileLoc): /AppleInternal/Library/BuildRoots/0783246a-4091-11ee-8fca-aead88ae2785/Library/Caches/com.apple.xbs/Sources/MetalPerformanceShadersGraph/mpsgraph/MetalPerformanceShadersGraph/Core/Files/MPSGraphUtilities.mm\":294:0)): error: 'anec.gain_offset_control' op result #0 must be 4D/5D memref of 16-bit float or 8-bit signed integer or 8-bit unsigned integer values, but got 'memref<1x12x1x1xi1>'\n"
     ]
    },
    {
     "name": "stdout",
     "output_type": "stream",
     "text": [
      "85/85 [==============================] - ETA: 0s - loss: 0.1039 - accuracy: 0.9670"
     ]
    },
    {
     "name": "stderr",
     "output_type": "stream",
     "text": [
      "loc(\"mps_select\"(\"(mpsFileLoc): /AppleInternal/Library/BuildRoots/0783246a-4091-11ee-8fca-aead88ae2785/Library/Caches/com.apple.xbs/Sources/MetalPerformanceShadersGraph/mpsgraph/MetalPerformanceShadersGraph/Core/Files/MPSGraphUtilities.mm\":294:0)): error: 'anec.gain_offset_control' op result #0 must be 4D/5D memref of 16-bit float or 8-bit signed integer or 8-bit unsigned integer values, but got 'memref<1x32x1x1xi1>'\n",
      "loc(\"mps_select\"(\"(mpsFileLoc): /AppleInternal/Library/BuildRoots/0783246a-4091-11ee-8fca-aead88ae2785/Library/Caches/com.apple.xbs/Sources/MetalPerformanceShadersGraph/mpsgraph/MetalPerformanceShadersGraph/Core/Files/MPSGraphUtilities.mm\":294:0)): error: 'anec.gain_offset_control' op result #0 must be 4D/5D memref of 16-bit float or 8-bit signed integer or 8-bit unsigned integer values, but got 'memref<1x32x1x1xi1>'\n",
      "loc(\"mps_select\"(\"(mpsFileLoc): /AppleInternal/Library/BuildRoots/0783246a-4091-11ee-8fca-aead88ae2785/Library/Caches/com.apple.xbs/Sources/MetalPerformanceShadersGraph/mpsgraph/MetalPerformanceShadersGraph/Core/Files/MPSGraphUtilities.mm\":294:0)): error: 'anec.gain_offset_control' op result #0 must be 4D/5D memref of 16-bit float or 8-bit signed integer or 8-bit unsigned integer values, but got 'memref<1x4x1x1xi1>'\n",
      "loc(\"mps_select\"(\"(mpsFileLoc): /AppleInternal/Library/BuildRoots/0783246a-4091-11ee-8fca-aead88ae2785/Library/Caches/com.apple.xbs/Sources/MetalPerformanceShadersGraph/mpsgraph/MetalPerformanceShadersGraph/Core/Files/MPSGraphUtilities.mm\":294:0)): error: 'anec.gain_offset_control' op result #0 must be 4D/5D memref of 16-bit float or 8-bit signed integer or 8-bit unsigned integer values, but got 'memref<1x4x1x1xi1>'\n"
     ]
    },
    {
     "name": "stdout",
     "output_type": "stream",
     "text": [
      "85/85 [==============================] - 14s 106ms/step - loss: 0.1039 - accuracy: 0.9670 - val_loss: 0.0079 - val_accuracy: 0.9985\n",
      "Epoch 2/5\n",
      "85/85 [==============================] - 1s 16ms/step - loss: 0.0090 - accuracy: 0.9974 - val_loss: 0.0026 - val_accuracy: 0.9985\n",
      "Epoch 3/5\n",
      "85/85 [==============================] - 1s 16ms/step - loss: 0.0043 - accuracy: 0.9981 - val_loss: 0.0062 - val_accuracy: 0.9985\n",
      "Epoch 4/5\n",
      "85/85 [==============================] - 1s 16ms/step - loss: 0.0187 - accuracy: 0.9944 - val_loss: 0.0086 - val_accuracy: 0.9956\n",
      "Epoch 5/5\n",
      "85/85 [==============================] - 1s 16ms/step - loss: 0.0078 - accuracy: 0.9978 - val_loss: 0.0027 - val_accuracy: 1.0000\n"
     ]
    },
    {
     "data": {
      "text/plain": [
       "<keras.src.callbacks.History at 0x2e8c389a0>"
      ]
     },
     "execution_count": 86,
     "metadata": {},
     "output_type": "execute_result"
    }
   ],
   "source": [
    "model.fit(\n",
    "    train_data,  # 훈련 데이터\n",
    "    train_labels,  # 훈련 레이블\n",
    "    epochs=epochs,  # 에포크 횟수\n",
    "    validation_data=(validation_data, validation_labels),  # 검증 데이터\n",
    "    batch_size=batch_size  # 배치 크기\n",
    ")\n"
   ]
  },
  {
   "cell_type": "markdown",
   "metadata": {},
   "source": [
    "모델 평가"
   ]
  },
  {
   "cell_type": "code",
   "execution_count": 87,
   "metadata": {},
   "outputs": [
    {
     "name": "stdout",
     "output_type": "stream",
     "text": [
      "22/22 [==============================] - 0s 9ms/step - loss: 0.0027 - accuracy: 1.0000\n",
      "Test accuracy: 1.0\n"
     ]
    }
   ],
   "source": [
    "test_loss, test_accuracy = model.evaluate(test_data, test_labels)\n",
    "print(f\"Test accuracy: {test_accuracy}\")\n"
   ]
  },
  {
   "cell_type": "code",
   "execution_count": 91,
   "metadata": {},
   "outputs": [
    {
     "name": "stdout",
     "output_type": "stream",
     "text": [
      "1/1 [==============================] - 0s 18ms/step\n",
      "[[1.]]\n"
     ]
    }
   ],
   "source": [
    "import cv2\n",
    "import numpy as np\n",
    "\n",
    "# 이미지 파일 경로 설정\n",
    "img_path = '/Users/mac/Dev/Project/ThermalCamera/Model/dataset/train/with_human/2023-09-11 05-33-46.mp4_28.png'\n",
    "\n",
    "# 이미지 읽기 및 전처리\n",
    "image = cv2.imread(img_path, cv2.IMREAD_GRAYSCALE)  # 이미지를 흑백으로 읽어옴\n",
    "image = cv2.resize(image, (image_width, image_height))  # 이미지 크기 조절\n",
    "image = image.astype(np.float32) / 255.0  # 정규화\n",
    "\n",
    "# 모델에 이미지 입력\n",
    "predictions = model.predict(np.expand_dims(image, axis=0))  # 이미지를 배치 차원을 추가하여 모델에 전달\n",
    "\n",
    "print(predictions)\n"
   ]
  },
  {
   "cell_type": "markdown",
   "metadata": {},
   "source": [
    "모델 저장"
   ]
  },
  {
   "cell_type": "code",
   "execution_count": 93,
   "metadata": {},
   "outputs": [],
   "source": [
    "model.save(\"detect.h5\")  # 모델 저장"
   ]
  },
  {
   "cell_type": "code",
   "execution_count": null,
   "metadata": {},
   "outputs": [],
   "source": []
  }
 ],
 "metadata": {
  "kernelspec": {
   "display_name": "DL",
   "language": "python",
   "name": "python3"
  },
  "language_info": {
   "codemirror_mode": {
    "name": "ipython",
    "version": 3
   },
   "file_extension": ".py",
   "mimetype": "text/x-python",
   "name": "python",
   "nbconvert_exporter": "python",
   "pygments_lexer": "ipython3",
   "version": "3.10.6"
  },
  "orig_nbformat": 4
 },
 "nbformat": 4,
 "nbformat_minor": 2
}
