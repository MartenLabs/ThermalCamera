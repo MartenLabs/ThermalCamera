{
 "cells": [
  {
   "cell_type": "code",
   "execution_count": null,
   "metadata": {},
   "outputs": [],
   "source": [
    "# MobileNetV3 -> SSD -> GRU"
   ]
  },
  {
   "cell_type": "code",
   "execution_count": 1,
   "metadata": {},
   "outputs": [
    {
     "name": "stderr",
     "output_type": "stream",
     "text": [
      "2023-12-04 09:36:24.432922: I tensorflow/core/util/port.cc:110] oneDNN custom operations are on. You may see slightly different numerical results due to floating-point round-off errors from different computation orders. To turn them off, set the environment variable `TF_ENABLE_ONEDNN_OPTS=0`.\n",
      "2023-12-04 09:36:24.473235: I tensorflow/core/platform/cpu_feature_guard.cc:182] This TensorFlow binary is optimized to use available CPU instructions in performance-critical operations.\n",
      "To enable the following instructions: AVX2 AVX512F AVX512_VNNI FMA, in other operations, rebuild TensorFlow with the appropriate compiler flags.\n",
      "2023-12-04 09:36:25.272055: W tensorflow/compiler/tf2tensorrt/utils/py_utils.cc:38] TF-TRT Warning: Could not find TensorRT\n"
     ]
    }
   ],
   "source": [
    "import tensorflow as tf\n",
    "from tensorflow import keras \n",
    "# from skimage import color\n",
    "import numpy as np\n",
    "import matplotlib.pyplot as plt\n",
    "import seaborn as sns\n",
    "import warnings \n",
    "from IPython.display import Image\n",
    "\n",
    "warnings.filterwarnings('ignore')\n",
    "%matplotlib inline"
   ]
  },
  {
   "cell_type": "code",
   "execution_count": 2,
   "metadata": {},
   "outputs": [
    {
     "name": "stdout",
     "output_type": "stream",
     "text": [
      "(13276, 24, 32)\n",
      "(13276, 24, 32)\n",
      "(13276,)\n",
      "(13276, 4, 8)\n"
     ]
    }
   ],
   "source": [
    "dataset1_origin = np.load('npz/dataset1_origin.npz', allow_pickle=True)\n",
    "dataset1_horizon = np.load('npz/dataset1_horizon.npz', allow_pickle=True)\n",
    "dataset1_vertical = np.load('npz/dataset1_vertical.npz', allow_pickle=True)\n",
    "dataset1_vh = np.load('npz/dataset1_vh.npz', allow_pickle=True)\n",
    "dataset2_origin = np.load('npz/dataset2_origin.npz', allow_pickle=True)\n",
    "dataset2_horizon = np.load('npz/dataset2_horizon.npz', allow_pickle=True)\n",
    "dataset2_vertical = np.load('npz/dataset2_vertical.npz', allow_pickle=True)\n",
    "dataset2_vh = np.load('npz/dataset2_vh.npz', allow_pickle=True)\n",
    "\n",
    "d1o_origin_images, d1o_target_images, d1o_number_labels, d1o_coordinates = dataset1_origin['images'], dataset1_origin['filters'], dataset1_origin['numbers'],  dataset1_origin['coordinates']\n",
    "d1h_origin_images, d1h_target_images, d1h_number_labels, d1h_coordinates = dataset1_horizon['images'], dataset1_horizon['filters'], dataset1_horizon['numbers'],  dataset1_horizon['coordinates']\n",
    "d1v_origin_images, d1v_target_images, d1v_number_labels, d1v_coordinates = dataset1_vertical['images'], dataset1_vertical['filters'], dataset1_vertical['numbers'],  dataset1_vertical['coordinates']\n",
    "d1vh_origin_images, d1vh_target_images, d1vh_number_labels, d1vh_coordinates = dataset1_vh['images'], dataset1_vh['filters'], dataset1_vh['numbers'],  dataset1_vh['coordinates']\n",
    "d2o_origin_images, d2o_target_images, d2o_number_labels, d2o_coordinates = dataset2_origin['images'], dataset2_origin['filters'], dataset2_origin['numbers'],  dataset2_origin['coordinates']\n",
    "d2h_origin_images, d2h_target_images, d2h_number_labels, d2h_coordinates = dataset2_horizon['images'], dataset2_horizon['filters'], dataset2_horizon['numbers'],  dataset2_horizon['coordinates']\n",
    "d2v_origin_images, d2v_target_images, d2v_number_labels, d2v_coordinates = dataset2_vertical['images'], dataset2_vertical['filters'], dataset2_vertical['numbers'],  dataset2_vertical['coordinates']\n",
    "d2vh_origin_images, d2vh_target_images, d2vh_number_labels, d2vh_coordinates = dataset2_vh['images'], dataset2_vh['filters'], dataset2_vh['numbers'],  dataset2_vh['coordinates']\n",
    "\n",
    "origin_images = np.concatenate([d1o_origin_images, d2o_origin_images, d1h_origin_images, d2h_origin_images, d1v_origin_images, d2v_origin_images, d1vh_origin_images, d2vh_origin_images], axis = 0)\n",
    "target_images = np.concatenate([d1o_target_images, d2o_target_images, d1h_target_images, d2h_target_images, d1v_target_images, d2v_target_images, d1vh_target_images, d2vh_target_images], axis = 0)\n",
    "numbers_labels = np.concatenate([d1o_number_labels, d2o_number_labels, d1h_number_labels, d2h_number_labels, d1v_number_labels, d2v_number_labels, d1vh_number_labels, d2vh_number_labels], axis = 0)\n",
    "coordinates = np.concatenate([d1o_coordinates, d2o_coordinates, d1h_coordinates, d2h_coordinates, d1v_coordinates, d2v_coordinates, d1vh_coordinates, d2vh_coordinates], axis = 0)\n",
    "\n",
    "print(origin_images.shape)\n",
    "print(target_images.shape)\n",
    "print(numbers_labels.shape)\n",
    "print(coordinates.shape)\n"
   ]
  },
  {
   "cell_type": "code",
   "execution_count": 3,
   "metadata": {},
   "outputs": [
    {
     "name": "stdout",
     "output_type": "stream",
     "text": [
      "(13276, 24, 32, 1)\n",
      "(13276, 24, 32, 1)\n"
     ]
    }
   ],
   "source": [
    "origin_images = origin_images.reshape(13276, 24, 32, 1)\n",
    "target_images = target_images.reshape(13276, 24, 32, 1)\n",
    "print(origin_images.shape)\n",
    "print(target_images.shape)"
   ]
  },
  {
   "cell_type": "code",
   "execution_count": 4,
   "metadata": {},
   "outputs": [
    {
     "name": "stdout",
     "output_type": "stream",
     "text": [
      "255 0\n",
      "255 0\n",
      "1.0 0.0\n",
      "1.0 0.0\n",
      "(13276, 24, 32, 1)\n",
      "(13276, 24, 32, 1)\n"
     ]
    }
   ],
   "source": [
    "print(origin_images.max(), origin_images.min())\n",
    "print(target_images.max(), target_images.min())\n",
    "\n",
    "origin_images = origin_images / origin_images.max()\n",
    "target_images = target_images / target_images.max()\n",
    "\n",
    "print(origin_images.max(), origin_images.min())\n",
    "print(target_images.max(), target_images.min())\n",
    "\n",
    "print(origin_images.shape)\n",
    "print(target_images.shape)"
   ]
  },
  {
   "cell_type": "code",
   "execution_count": 5,
   "metadata": {},
   "outputs": [],
   "source": [
    "def normalize_coordinates(coords, width=32, height=24):\n",
    "    # Check the shape of the input coordinates\n",
    "    if coords.shape[-1] != 8:\n",
    "        raise ValueError(\"The last dimension of the input coordinates should be 8.\")\n",
    "\n",
    "    # Create a normalization array\n",
    "    normalization_factors = np.array([width, height, width, height, width, height, width, height])\n",
    "\n",
    "    # Normalize the coordinates\n",
    "    normalized_coords = coords / normalization_factors\n",
    "\n",
    "    return normalized_coords"
   ]
  },
  {
   "cell_type": "code",
   "execution_count": 6,
   "metadata": {},
   "outputs": [
    {
     "name": "stdout",
     "output_type": "stream",
     "text": [
      "(13276, 4, 8)\n",
      "(13276, 5)\n"
     ]
    }
   ],
   "source": [
    "norm_location = normalize_coordinates(coordinates)\n",
    "print(norm_location.shape)\n",
    "\n",
    "from keras.utils import to_categorical\n",
    "\n",
    "number_labels = to_categorical(numbers_labels, num_classes=5)\n",
    "print(number_labels.shape)"
   ]
  },
  {
   "cell_type": "code",
   "execution_count": 7,
   "metadata": {},
   "outputs": [],
   "source": [
    "transformed_data_list = []\n",
    "\n",
    "for i in range(norm_location.shape[0]):\n",
    "    xmin = norm_location[i, :, 0::2].min(axis=1)\n",
    "    ymin = norm_location[i, :, 1::2].min(axis=1)\n",
    "    xmax = norm_location[i, :, 0::2].max(axis=1)\n",
    "    ymax = norm_location[i, :, 1::2].max(axis=1)\n",
    "    bounding_box = np.array([xmin, ymin, xmax, ymax]).T.reshape(1, -1)\n",
    "    transformed_data_list.append(bounding_box)\n",
    "\n",
    "norm_location = np.array(transformed_data_list)"
   ]
  },
  {
   "cell_type": "code",
   "execution_count": 8,
   "metadata": {},
   "outputs": [
    {
     "name": "stdout",
     "output_type": "stream",
     "text": [
      "[[0.25       0.625      0.46875    1.         0.         0.\n",
      "  0.25       0.33333333 0.46875    0.54166667 0.71875    0.95833333\n",
      "  0.8125     0.66666667 1.         1.        ]]\n"
     ]
    }
   ],
   "source": [
    "print(norm_location[9000])"
   ]
  },
  {
   "cell_type": "code",
   "execution_count": 9,
   "metadata": {},
   "outputs": [
    {
     "data": {
      "image/png": "[encoded data removed]",
      "text/plain": [
       "<Figure size 1200x900 with 1 Axes>"
      ]
     },
     "metadata": {},
     "output_type": "display_data"
    }
   ],
   "source": [
    "import matplotlib.patches as patches\n",
    "\n",
    "def draw_boxes_on_normalized_coords(image, normalized_coords, width=32, height=24):\n",
    "    \"\"\"\n",
    "    정규화된 좌표를 사용하여 이미지 위에 바운딩 박스를 그리는 함수.\n",
    "    image: 대상 이미지.\n",
    "    normalized_coords: 정규화된 좌표.\n",
    "    width: 이미지의 너비.\n",
    "    height: 이미지의 높이.\n",
    "    \"\"\"\n",
    "    # Remove the first dimension from normalized_coords\n",
    "    normalized_coords = normalized_coords.squeeze()\n",
    "\n",
    "    # Denormalize the coordinates\n",
    "    denormalization_factors = np.tile([width, height], 8)  # 형태를 (16,)으로 조정\n",
    "    denormalized_coords = normalized_coords * denormalization_factors\n",
    "\n",
    "    # 이미지가 4차원 배열인 경우 첫 번째 이미지만 사용\n",
    "    if image.ndim == 4:\n",
    "        image = image[0]\n",
    "\n",
    "    # Create a figure and axis\n",
    "    fig, ax = plt.subplots(1, figsize=(12, 9))\n",
    "    \n",
    "    # Display the image\n",
    "    ax.imshow(image, cmap='gray')\n",
    "\n",
    "    # Loop over each set of coordinates and draw the bounding box\n",
    "    for i in range(0, len(denormalized_coords), 4):\n",
    "        xmin, ymin, xmax, ymax = denormalized_coords[i:i+4]\n",
    "\n",
    "        # Create a rectangle patch\n",
    "        rect = patches.Rectangle((xmin, ymin), xmax - xmin, ymax - ymin, linewidth=1, edgecolor='r', facecolor='none')\n",
    "        \n",
    "        # Add the patch to the axis\n",
    "        ax.add_patch(rect)\n",
    "\n",
    "    plt.show()\n",
    "\n",
    "\n",
    "draw_boxes_on_normalized_coords(origin_images[9000:9001], norm_location[9000:9001])"
   ]
  },
  {
   "cell_type": "code",
   "execution_count": 10,
   "metadata": {},
   "outputs": [
    {
     "data": {
      "image/png": "[encoded data removed]",
      "text/plain": [
       "<Figure size 640x480 with 1 Axes>"
      ]
     },
     "metadata": {},
     "output_type": "display_data"
    },
    {
     "name": "stdout",
     "output_type": "stream",
     "text": [
      "4\n"
     ]
    },
    {
     "data": {
      "image/png": "[encoded data removed]",
      "text/plain": [
       "<Figure size 640x480 with 1 Axes>"
      ]
     },
     "metadata": {},
     "output_type": "display_data"
    },
    {
     "name": "stdout",
     "output_type": "stream",
     "text": [
      "4\n"
     ]
    },
    {
     "data": {
      "image/png": "[encoded data removed]",
      "text/plain": [
       "<Figure size 640x480 with 1 Axes>"
      ]
     },
     "metadata": {},
     "output_type": "display_data"
    },
    {
     "name": "stdout",
     "output_type": "stream",
     "text": [
      "4\n"
     ]
    },
    {
     "data": {
      "image/png": "[encoded data removed]",
      "text/plain": [
       "<Figure size 640x480 with 1 Axes>"
      ]
     },
     "metadata": {},
     "output_type": "display_data"
    },
    {
     "name": "stdout",
     "output_type": "stream",
     "text": [
      "4\n"
     ]
    },
    {
     "data": {
      "image/png": "[encoded data removed]",
      "text/plain": [
       "<Figure size 640x480 with 1 Axes>"
      ]
     },
     "metadata": {},
     "output_type": "display_data"
    },
    {
     "name": "stdout",
     "output_type": "stream",
     "text": [
      "4\n"
     ]
    },
    {
     "data": {
      "image/png": "[encoded data removed]",
      "text/plain": [
       "<Figure size 640x480 with 1 Axes>"
      ]
     },
     "metadata": {},
     "output_type": "display_data"
    },
    {
     "name": "stdout",
     "output_type": "stream",
     "text": [
      "4\n"
     ]
    },
    {
     "data": {
      "image/png": "[encoded data removed]",
      "text/plain": [
       "<Figure size 640x480 with 1 Axes>"
      ]
     },
     "metadata": {},
     "output_type": "display_data"
    },
    {
     "name": "stdout",
     "output_type": "stream",
     "text": [
      "4\n"
     ]
    },
    {
     "data": {
      "image/png": "[encoded data removed]",
      "text/plain": [
       "<Figure size 640x480 with 1 Axes>"
      ]
     },
     "metadata": {},
     "output_type": "display_data"
    },
    {
     "name": "stdout",
     "output_type": "stream",
     "text": [
      "3\n"
     ]
    },
    {
     "data": {
      "image/png": "[encoded data removed]",
      "text/plain": [
       "<Figure size 640x480 with 1 Axes>"
      ]
     },
     "metadata": {},
     "output_type": "display_data"
    },
    {
     "name": "stdout",
     "output_type": "stream",
     "text": [
      "3\n"
     ]
    },
    {
     "data": {
      "image/png": "[encoded data removed]",
      "text/plain": [
       "<Figure size 640x480 with 1 Axes>"
      ]
     },
     "metadata": {},
     "output_type": "display_data"
    },
    {
     "name": "stdout",
     "output_type": "stream",
     "text": [
      "3\n"
     ]
    }
   ],
   "source": [
    "for i in range(9000, 9010):\n",
    "    plt.imshow(origin_images[i])\n",
    "    plt.show()\n",
    "    print(numbers_labels[i])\n"
   ]
  },
  {
   "cell_type": "code",
   "execution_count": 11,
   "metadata": {},
   "outputs": [
    {
     "name": "stdout",
     "output_type": "stream",
     "text": [
      "[[0. 0. 0. 0. 1.]\n",
      " [0. 0. 0. 0. 1.]\n",
      " [0. 0. 0. 0. 1.]\n",
      " [0. 0. 0. 0. 1.]\n",
      " [0. 0. 0. 0. 1.]\n",
      " [0. 0. 0. 0. 1.]\n",
      " [0. 0. 0. 0. 1.]\n",
      " [0. 0. 0. 1. 0.]\n",
      " [0. 0. 0. 1. 0.]\n",
      " [0. 0. 0. 1. 0.]]\n"
     ]
    }
   ],
   "source": [
    "print(number_labels[9000:9010])"
   ]
  },
  {
   "cell_type": "code",
   "execution_count": null,
   "metadata": {},
   "outputs": [],
   "source": []
  },
  {
   "cell_type": "code",
   "execution_count": 12,
   "metadata": {},
   "outputs": [
    {
     "name": "stderr",
     "output_type": "stream",
     "text": [
      "2023-12-04 09:36:48.057600: I tensorflow/core/common_runtime/gpu/gpu_device.cc:1639] Created device /job:localhost/replica:0/task:0/device:GPU:0 with 22292 MB memory:  -> device: 0, name: NVIDIA GeForce RTX 3090, pci bus id: 0000:1d:00.0, compute capability: 8.6\n",
      "2023-12-04 09:36:48.059323: I tensorflow/core/common_runtime/gpu/gpu_device.cc:1639] Created device /job:localhost/replica:0/task:0/device:GPU:1 with 22292 MB memory:  -> device: 1, name: NVIDIA GeForce RTX 3090, pci bus id: 0000:1f:00.0, compute capability: 8.6\n",
      "2023-12-04 09:36:48.060856: I tensorflow/core/common_runtime/gpu/gpu_device.cc:1639] Created device /job:localhost/replica:0/task:0/device:GPU:2 with 22292 MB memory:  -> device: 2, name: NVIDIA GeForce RTX 3090, pci bus id: 0000:20:00.0, compute capability: 8.6\n",
      "2023-12-04 09:36:48.062440: I tensorflow/core/common_runtime/gpu/gpu_device.cc:1639] Created device /job:localhost/replica:0/task:0/device:GPU:3 with 22292 MB memory:  -> device: 3, name: NVIDIA GeForce RTX 3090, pci bus id: 0000:21:00.0, compute capability: 8.6\n",
      "2023-12-04 09:36:48.064012: I tensorflow/core/common_runtime/gpu/gpu_device.cc:1639] Created device /job:localhost/replica:0/task:0/device:GPU:4 with 22292 MB memory:  -> device: 4, name: NVIDIA GeForce RTX 3090, pci bus id: 0000:22:00.0, compute capability: 8.6\n",
      "2023-12-04 09:36:48.065534: I tensorflow/core/common_runtime/gpu/gpu_device.cc:1639] Created device /job:localhost/replica:0/task:0/device:GPU:5 with 22292 MB memory:  -> device: 5, name: NVIDIA GeForce RTX 3090, pci bus id: 0000:23:00.0, compute capability: 8.6\n",
      "2023-12-04 09:36:48.067084: I tensorflow/core/common_runtime/gpu/gpu_device.cc:1639] Created device /job:localhost/replica:0/task:0/device:GPU:6 with 22292 MB memory:  -> device: 6, name: NVIDIA GeForce RTX 3090, pci bus id: 0000:24:00.0, compute capability: 8.6\n"
     ]
    },
    {
     "name": "stdout",
     "output_type": "stream",
     "text": [
      "Model: \"model\"\n",
      "__________________________________________________________________________________________________\n",
      " Layer (type)                Output Shape                 Param #   Connected to                  \n",
      "==================================================================================================\n",
      " input_1 (InputLayer)        [(None, 24, 32, 1)]          0         []                            \n",
      "                                                                                                  \n",
      " max_pooling2d (MaxPooling2  (None, 24, 32, 1)            0         ['input_1[0][0]']             \n",
      " D)                                                                                               \n",
      "                                                                                                  \n",
      " conv2d (Conv2D)             (None, 24, 32, 16)           32        ['input_1[0][0]']             \n",
      "                                                                                                  \n",
      " conv2d_1 (Conv2D)           (None, 24, 32, 32)           64        ['max_pooling2d[0][0]']       \n",
      "                                                                                                  \n",
      " concatenate (Concatenate)   (None, 24, 32, 48)           0         ['conv2d[0][0]',              \n",
      "                                                                     'conv2d_1[0][0]']            \n",
      "                                                                                                  \n",
      " global_average_pooling2d (  (None, 48)                   0         ['concatenate[0][0]']         \n",
      " GlobalAveragePooling2D)                                                                          \n",
      "                                                                                                  \n",
      " flatten (Flatten)           (None, 48)                   0         ['global_average_pooling2d[0][\n",
      "                                                                    0]']                          \n",
      "                                                                                                  \n",
      " dense (Dense)               (None, 32)                   1568      ['flatten[0][0]']             \n",
      "                                                                                                  \n",
      " number_output (Dense)       (None, 5)                    165       ['dense[0][0]']               \n",
      "                                                                                                  \n",
      "==================================================================================================\n",
      "Total params: 1829 (7.14 KB)\n",
      "Trainable params: 1829 (7.14 KB)\n",
      "Non-trainable params: 0 (0.00 Byte)\n",
      "__________________________________________________________________________________________________\n"
     ]
    }
   ],
   "source": [
    "import tensorflow as tf\n",
    "from tensorflow import keras \n",
    "import numpy as np\n",
    "import matplotlib.pyplot as plt\n",
    "import seaborn as sns\n",
    "import warnings \n",
    "from IPython.display import Image\n",
    "\n",
    "warnings.filterwarnings('ignore')\n",
    "from keras.layers import Dense, Input, MaxPool2D, Conv2D, Conv2DTranspose, Flatten, Reshape, Activation\n",
    "from keras.layers import BatchNormalization, Dropout, Activation, concatenate\n",
    "from keras.models import Model\n",
    "from keras.layers import GRU, Concatenate, MaxPooling2D\n",
    "from keras.models import Model\n",
    "from keras.layers import Multiply\n",
    "from keras.layers import MultiHeadAttention\n",
    "\n",
    "# strategy = tf.distribute.MirroredStrategy()\n",
    "\n",
    "# print('Number of devices: {}'.format(strategy.num_replicas_in_sync))\n",
    "\n",
    "from tensorflow.keras.layers import DepthwiseConv2D, Conv2D, MaxPooling2D, concatenate\n",
    "\n",
    "\n",
    "def inception_module(x,\n",
    "                    #  filters_3x3_reduce,\n",
    "                     filters_5x5_reduce,\n",
    "                     filters_pool_proj):\n",
    "    # path2 = Conv2D(filters_3x3_reduce, (1, 1), padding='same', activation='relu')(x)\n",
    "    path3 = Conv2D(filters_5x5_reduce, (1, 1), padding='same', activation='relu')(x)\n",
    "    path4 = MaxPooling2D((3, 3), strides=(1, 1), padding='same')(x)\n",
    "    path4 = Conv2D(filters_pool_proj, (1, 1), padding='same', activation='relu')(path4)\n",
    "    # return concatenate([path2, path3, path4], axis=3)\n",
    "    return concatenate([path3, path4], axis=3)\n",
    "\n",
    "\n",
    "def STMModel():\n",
    "    # 이미지 입력\n",
    "    # input_layer = Input(shape=(None, None, 1))\n",
    "    inputs_image = Input(shape=(24, 32, 1))\n",
    "    # resized_input = Lambda(resize_images)(input_layer)\n",
    "\n",
    "    inception = inception_module(inputs_image,\n",
    "                                # filters_1x1=64,\n",
    "                                # filters_3x3=128,\n",
    "                                filters_5x5_reduce=16,\n",
    "                                # filters_5x5=32,\n",
    "                                filters_pool_proj=32)\n",
    "    \n",
    "    x1 = keras.layers.GlobalAveragePooling2D()(inception)\n",
    "    # x1 = keras.layers.MaxPool2D()(inception)\n",
    "    latent_vector = Flatten()(x1)\n",
    "\n",
    "    # latent = Dense(32, activation='relu', dtype = 'float32')(latent_vector) \n",
    "\n",
    "    number_output = Dense(5, activation='softmax', name='number_output', dtype = 'float32')(latent)\n",
    "    \n",
    "    # model2 = Model(inputs_image, [number_output, reconstructed_image])\n",
    "    model2 = Model(inputs_image, number_output)\n",
    "    model2.compile(optimizer='adam', loss=['categorical_crossentropy'], metrics=['accuracy'])\n",
    "    return model2\n",
    "\n",
    "\n",
    "model2 = STMModel()\n",
    "model2.summary()\n"
   ]
  },
  {
   "cell_type": "code",
   "execution_count": 22,
   "metadata": {},
   "outputs": [],
   "source": [
    "# import tensorflow as tf\n",
    "# from tensorflow import keras \n",
    "# import numpy as np\n",
    "# import matplotlib.pyplot as plt\n",
    "# import seaborn as sns\n",
    "# import warnings \n",
    "# from IPython.display import Image\n",
    "\n",
    "# warnings.filterwarnings('ignore')\n",
    "# from keras.layers import Dense, Input, MaxPool2D, Conv2D, Conv2DTranspose, Flatten, Reshape, Activation\n",
    "# from keras.layers import BatchNormalization, Dropout, Activation, concatenate\n",
    "# from keras.models import Model\n",
    "# from keras.layers import GRU, Concatenate, MaxPooling2D\n",
    "# from keras.models import Model\n",
    "# from keras.layers import Multiply\n",
    "# from keras.layers import MultiHeadAttention\n",
    "\n",
    "# # strategy = tf.distribute.MirroredStrategy()\n",
    "\n",
    "# # print('Number of devices: {}'.format(strategy.num_replicas_in_sync))\n",
    "\n",
    "# from tensorflow.keras.layers import DepthwiseConv2D, Conv2D, MaxPooling2D, concatenate\n",
    "\n",
    "# def inception_module(x,\n",
    "#                     filters_3x3_reduce,\n",
    "#                     filters_5x5_reduce,\n",
    "#                     filters_pool_proj):\n",
    "#     path2 = Conv2D(filters_3x3_reduce, (3, 3), padding='same', activation='relu', dtype = 'float32')(x)\n",
    "\n",
    "#     path3 = Conv2D(filters_5x5_reduce, (5, 5), padding='same', activation='relu', dtype = 'float32')(x)\n",
    "\n",
    "#     path4 = MaxPooling2D((3, 3), strides=(1, 1), padding='same')(x)\n",
    "#     path4 = Conv2D(filters_pool_proj, (1, 1), padding='same', activation='relu', dtype = 'float32')(path4)\n",
    "#     return concatenate([path2, path3, path4], axis=3)\n",
    "\n",
    "\n",
    "\n",
    "# def STMModel():\n",
    "#     # 이미지 입력\n",
    "#     # input_layer = Input(shape=(None, None, 1))\n",
    "#     inputs_image = Input(shape=(24, 32, 1))\n",
    "#     # resized_input = Lambda(resize_images)(input_layer)\n",
    "\n",
    "#     inception = inception_module(inputs_image,\n",
    "#                                 # filters_1x1=64,\n",
    "#                                 filters_3x3_reduce=96,\n",
    "#                                 # filters_3x3=128,\n",
    "#                                 filters_5x5_reduce=16,\n",
    "#                                 # filters_5x5=32,\n",
    "#                                 filters_pool_proj=32)\n",
    "    \n",
    "#     x1 = keras.layers.GlobalAveragePooling2D()(inception)\n",
    "#     latent_vector = Flatten()(x1)\n",
    "\n",
    "#     latent = Dense(32, activation='relu', dtype = 'float32')(latent_vector)\n",
    "\n",
    "#     number_output = Dense(5, activation='softmax', name='number_output', dtype = 'float32')(latent)\n",
    "    \n",
    "#     # model2 = Model(inputs_image, [number_output, reconstructed_image])\n",
    "#     model2 = Model(inputs_image, number_output)\n",
    "#     model2.compile(optimizer='adam', loss=['categorical_crossentropy'], metrics=['accuracy'])\n",
    "#     return model2\n"
   ]
  },
  {
   "cell_type": "code",
   "execution_count": null,
   "metadata": {},
   "outputs": [],
   "source": [
    "# model2 = STMModel()\n",
    "# model2.summary()"
   ]
  },
  {
   "cell_type": "code",
   "execution_count": 19,
   "metadata": {},
   "outputs": [],
   "source": [
    "# model2.compile(optimizer='adam', loss=['categorical_crossentropy', 'mse'],  metrics=['accuracy'])"
   ]
  },
  {
   "cell_type": "code",
   "execution_count": null,
   "metadata": {},
   "outputs": [],
   "source": [
    "# import os\n",
    "# from keras.utils import plot_model\n",
    "\n",
    "# # 모델을 생성\n",
    "# model2 = DetectionModel()\n",
    "\n",
    "# # 모델을 이미지로 그리고 저장\n",
    "# plot_model(model2, to_file='./detection_model.png', show_shapes=True, show_layer_names=True)\n",
    "\n",
    "# # 이미지를 표시\n",
    "# # Image(filename='./detection_model.png')\n"
   ]
  },
  {
   "cell_type": "code",
   "execution_count": null,
   "metadata": {},
   "outputs": [],
   "source": [
    "# import tensorflow as tf\n",
    "\n",
    "# def smooth_l1_loss(y_true, y_pred, delta=1.0):\n",
    "#     abs_diff = tf.abs(y_true - y_pred)\n",
    "#     loss = tf.where(tf.less(abs_diff, delta), 0.5 * tf.square(abs_diff), delta * (abs_diff - 0.5 * delta))\n",
    "#     return tf.reduce_mean(loss)"
   ]
  },
  {
   "cell_type": "code",
   "execution_count": null,
   "metadata": {},
   "outputs": [],
   "source": [
    "# import tensorflow as tf\n",
    "\n",
    "# def iou(y_true, y_pred):\n",
    "#     \"\"\"\n",
    "#     TensorFlow를 사용하여 IoU를 계산하는 함수.\n",
    "#     y_true: 실제 바운딩 박스 좌표, 형태는 [batch, num_boxes, 4] (여기서 4는 xmin, ymin, xmax, ymax)\n",
    "#     y_pred: 예측된 바운딩 박스 좌표, 형태는 [batch, num_boxes, 4]\n",
    "#     \"\"\"\n",
    "#     # 좌표를 분리\n",
    "#     y_true = tf.cast(y_true, tf.float32)\n",
    "#     y_pred = tf.cast(y_pred, tf.float32)\n",
    "#     true_xmin, true_ymin, true_xmax, true_ymax = tf.split(y_true, 4, axis=-1)\n",
    "#     pred_xmin, pred_ymin, pred_xmax, pred_ymax = tf.split(y_pred, 4, axis=-1)\n",
    "\n",
    "#     # 교차 영역의 좌표 계산\n",
    "#     intersect_xmin = tf.maximum(true_xmin, pred_xmin)\n",
    "#     intersect_ymin = tf.maximum(true_ymin, pred_ymin)\n",
    "#     intersect_xmax = tf.minimum(true_xmax, pred_xmax)\n",
    "#     intersect_ymax = tf.minimum(true_ymax, pred_ymax)\n",
    "\n",
    "#     # 교차 영역의 넓이와 높이\n",
    "#     intersect_width = tf.maximum(0., intersect_xmax - intersect_xmin)\n",
    "#     intersect_height = tf.maximum(0., intersect_ymax - intersect_ymin)\n",
    "\n",
    "#     # 교차 영역의 면적\n",
    "#     intersect_area = intersect_width * intersect_height\n",
    "\n",
    "#     # 각 바운딩 박스의 면적\n",
    "#     true_area = (true_xmax - true_xmin) * (true_ymax - true_ymin)\n",
    "#     pred_area = (pred_xmax - pred_xmin) * (pred_ymax - pred_ymin)\n",
    "\n",
    "#     # 합집합 영역의 면적\n",
    "#     union_area = true_area + pred_area - intersect_area\n",
    "\n",
    "#     # IoU 계산\n",
    "#     iou = intersect_area / tf.maximum(union_area, tf.keras.backend.epsilon())\n",
    "\n",
    "#     return iou"
   ]
  },
  {
   "cell_type": "code",
   "execution_count": null,
   "metadata": {},
   "outputs": [],
   "source": [
    "# from tensorflow.keras.metrics import Precision, Recall\n",
    "\n",
    "# learning_rate = 0.0001\n",
    "# N_TRAIN = 13276\n",
    "# N_BATCH = 32\n",
    "# N_EPOCHS = 100\n",
    "\n",
    "# lr_schedule = keras.optimizers.schedules.ExponentialDecay(initial_learning_rate=learning_rate,\n",
    "#                                                           decay_steps = N_TRAIN / N_BATCH * 10,\n",
    "#                                                           decay_rate = 0.5,\n",
    "#                                                           staircase = True)\n",
    "\n",
    "# model.compile(\n",
    "#     keras.optimizers.Adam(lr_schedule), \n",
    "#     loss = 'categorical_crossentropy',\n",
    "#     metrics=['accuracy', Precision(), Recall()])"
   ]
  },
  {
   "cell_type": "code",
   "execution_count": 13,
   "metadata": {},
   "outputs": [
    {
     "data": {
      "image/png": "[encoded data removed]",
      "text/plain": [
       "<Figure size 640x480 with 1 Axes>"
      ]
     },
     "metadata": {},
     "output_type": "display_data"
    },
    {
     "name": "stdout",
     "output_type": "stream",
     "text": [
      "[1. 0. 0. 0. 0.]\n"
     ]
    },
    {
     "data": {
      "image/png": "[encoded data removed]",
      "text/plain": [
       "<Figure size 640x480 with 1 Axes>"
      ]
     },
     "metadata": {},
     "output_type": "display_data"
    },
    {
     "name": "stdout",
     "output_type": "stream",
     "text": [
      "[1. 0. 0. 0. 0.]\n"
     ]
    },
    {
     "data": {
      "image/png": "[encoded data removed]",
      "text/plain": [
       "<Figure size 640x480 with 1 Axes>"
      ]
     },
     "metadata": {},
     "output_type": "display_data"
    },
    {
     "name": "stdout",
     "output_type": "stream",
     "text": [
      "[1. 0. 0. 0. 0.]\n"
     ]
    },
    {
     "data": {
      "image/png": "[encoded data removed]",
      "text/plain": [
       "<Figure size 640x480 with 1 Axes>"
      ]
     },
     "metadata": {},
     "output_type": "display_data"
    },
    {
     "name": "stdout",
     "output_type": "stream",
     "text": [
      "[1. 0. 0. 0. 0.]\n"
     ]
    },
    {
     "data": {
      "image/png": "[encoded data removed]",
      "text/plain": [
       "<Figure size 640x480 with 1 Axes>"
      ]
     },
     "metadata": {},
     "output_type": "display_data"
    },
    {
     "name": "stdout",
     "output_type": "stream",
     "text": [
      "[1. 0. 0. 0. 0.]\n"
     ]
    },
    {
     "data": {
      "image/png": "[encoded data removed]",
      "text/plain": [
       "<Figure size 640x480 with 1 Axes>"
      ]
     },
     "metadata": {},
     "output_type": "display_data"
    },
    {
     "name": "stdout",
     "output_type": "stream",
     "text": [
      "[1. 0. 0. 0. 0.]\n"
     ]
    },
    {
     "data": {
      "image/png": "[encoded data removed]",
      "text/plain": [
       "<Figure size 640x480 with 1 Axes>"
      ]
     },
     "metadata": {},
     "output_type": "display_data"
    },
    {
     "name": "stdout",
     "output_type": "stream",
     "text": [
      "[1. 0. 0. 0. 0.]\n"
     ]
    },
    {
     "data": {
      "image/png": "[encoded data removed]",
      "text/plain": [
       "<Figure size 640x480 with 1 Axes>"
      ]
     },
     "metadata": {},
     "output_type": "display_data"
    },
    {
     "name": "stdout",
     "output_type": "stream",
     "text": [
      "[1. 0. 0. 0. 0.]\n"
     ]
    },
    {
     "data": {
      "image/png": "[encoded data removed]",
      "text/plain": [
       "<Figure size 640x480 with 1 Axes>"
      ]
     },
     "metadata": {},
     "output_type": "display_data"
    },
    {
     "name": "stdout",
     "output_type": "stream",
     "text": [
      "[1. 0. 0. 0. 0.]\n"
     ]
    },
    {
     "data": {
      "image/png": "[encoded data removed]",
      "text/plain": [
       "<Figure size 640x480 with 1 Axes>"
      ]
     },
     "metadata": {},
     "output_type": "display_data"
    },
    {
     "name": "stdout",
     "output_type": "stream",
     "text": [
      "[1. 0. 0. 0. 0.]\n"
     ]
    }
   ],
   "source": [
    "# 13276 - 1327\n",
    "# origin_images\n",
    "# number_labels\n",
    "\n",
    "\n",
    "# train_dataset = origin_images[:11949]\n",
    "# train_number_labels = number_labels[:11949]\n",
    "# train_target_image = target_images[:11949]\n",
    "# test_dataset = origin_images[11949:]\n",
    "# test_number_labels = number_labels[11949:]\n",
    "# test_target_image = target_images[11949:]\n",
    "\n",
    "for i in range(10):\n",
    "    plt.imshow(origin_images[i], cmap='gray')\n",
    "    plt.show()\n",
    "    print(number_labels[i])"
   ]
  },
  {
   "cell_type": "code",
   "execution_count": 14,
   "metadata": {},
   "outputs": [
    {
     "data": {
      "text/plain": [
       "1.0"
      ]
     },
     "execution_count": 14,
     "metadata": {},
     "output_type": "execute_result"
    }
   ],
   "source": [
    "origin_images[0].max()"
   ]
  },
  {
   "cell_type": "code",
   "execution_count": 15,
   "metadata": {},
   "outputs": [
    {
     "name": "stdout",
     "output_type": "stream",
     "text": [
      "Epoch 1/100\n"
     ]
    },
    {
     "name": "stderr",
     "output_type": "stream",
     "text": [
      "2023-12-04 09:37:38.527091: I tensorflow/compiler/xla/stream_executor/cuda/cuda_dnn.cc:432] Loaded cuDNN version 8905\n",
      "2023-12-04 09:37:39.239853: I tensorflow/compiler/xla/stream_executor/cuda/cuda_blas.cc:606] TensorFloat-32 will be used for the matrix multiplication. This will only be logged once.\n",
      "2023-12-04 09:37:39.243852: I tensorflow/compiler/xla/service/service.cc:168] XLA service 0x7f64140376e0 initialized for platform CUDA (this does not guarantee that XLA will be used). Devices:\n",
      "2023-12-04 09:37:39.243894: I tensorflow/compiler/xla/service/service.cc:176]   StreamExecutor device (0): NVIDIA GeForce RTX 3090, Compute Capability 8.6\n",
      "2023-12-04 09:37:39.243907: I tensorflow/compiler/xla/service/service.cc:176]   StreamExecutor device (1): NVIDIA GeForce RTX 3090, Compute Capability 8.6\n",
      "2023-12-04 09:37:39.243917: I tensorflow/compiler/xla/service/service.cc:176]   StreamExecutor device (2): NVIDIA GeForce RTX 3090, Compute Capability 8.6\n",
      "2023-12-04 09:37:39.243928: I tensorflow/compiler/xla/service/service.cc:176]   StreamExecutor device (3): NVIDIA GeForce RTX 3090, Compute Capability 8.6\n",
      "2023-12-04 09:37:39.243937: I tensorflow/compiler/xla/service/service.cc:176]   StreamExecutor device (4): NVIDIA GeForce RTX 3090, Compute Capability 8.6\n",
      "2023-12-04 09:37:39.243946: I tensorflow/compiler/xla/service/service.cc:176]   StreamExecutor device (5): NVIDIA GeForce RTX 3090, Compute Capability 8.6\n",
      "2023-12-04 09:37:39.243955: I tensorflow/compiler/xla/service/service.cc:176]   StreamExecutor device (6): NVIDIA GeForce RTX 3090, Compute Capability 8.6\n",
      "2023-12-04 09:37:39.255147: I tensorflow/compiler/mlir/tensorflow/utils/dump_mlir_util.cc:255] disabling MLIR crash reproducer, set env var `MLIR_CRASH_REPRODUCER_DIRECTORY` to enable.\n",
      "2023-12-04 09:37:39.405043: I ./tensorflow/compiler/jit/device_compiler.h:186] Compiled cluster using XLA!  This line is logged at most once for the lifetime of the process.\n"
     ]
    },
    {
     "name": "stdout",
     "output_type": "stream",
     "text": [
      "415/415 [==============================] - 6s 6ms/step - loss: 1.2885 - accuracy: 0.5384\n",
      "Epoch 2/100\n",
      "415/415 [==============================] - 2s 6ms/step - loss: 1.2363 - accuracy: 0.5405\n",
      "Epoch 3/100\n",
      "415/415 [==============================] - 2s 6ms/step - loss: 1.1821 - accuracy: 0.5405\n",
      "Epoch 4/100\n",
      "415/415 [==============================] - 2s 6ms/step - loss: 1.0832 - accuracy: 0.5620\n",
      "Epoch 5/100\n",
      "415/415 [==============================] - 2s 6ms/step - loss: 0.9960 - accuracy: 0.6033\n",
      "Epoch 6/100\n",
      "415/415 [==============================] - 2s 6ms/step - loss: 0.9490 - accuracy: 0.6204\n",
      "Epoch 7/100\n",
      "415/415 [==============================] - 2s 6ms/step - loss: 0.9215 - accuracy: 0.6295\n",
      "Epoch 8/100\n",
      "415/415 [==============================] - 2s 6ms/step - loss: 0.9054 - accuracy: 0.6346\n",
      "Epoch 9/100\n",
      "415/415 [==============================] - 2s 6ms/step - loss: 0.8925 - accuracy: 0.6358\n",
      "Epoch 10/100\n",
      "415/415 [==============================] - 2s 6ms/step - loss: 0.8822 - accuracy: 0.6382\n",
      "Epoch 11/100\n",
      "415/415 [==============================] - 2s 6ms/step - loss: 0.8732 - accuracy: 0.6398\n",
      "Epoch 12/100\n",
      "415/415 [==============================] - 2s 6ms/step - loss: 0.8647 - accuracy: 0.6403\n",
      "Epoch 13/100\n",
      "415/415 [==============================] - 2s 6ms/step - loss: 0.8554 - accuracy: 0.6407\n",
      "Epoch 14/100\n",
      "415/415 [==============================] - 2s 6ms/step - loss: 0.8425 - accuracy: 0.6450\n",
      "Epoch 15/100\n",
      "415/415 [==============================] - 2s 6ms/step - loss: 0.8227 - accuracy: 0.6531\n",
      "Epoch 16/100\n",
      "415/415 [==============================] - 2s 6ms/step - loss: 0.7956 - accuracy: 0.6707\n",
      "Epoch 17/100\n",
      "415/415 [==============================] - 2s 6ms/step - loss: 0.7681 - accuracy: 0.6891\n",
      "Epoch 18/100\n",
      "415/415 [==============================] - 2s 6ms/step - loss: 0.7494 - accuracy: 0.6980\n",
      "Epoch 19/100\n",
      "415/415 [==============================] - 2s 6ms/step - loss: 0.7357 - accuracy: 0.7074\n",
      "Epoch 20/100\n",
      "415/415 [==============================] - 2s 6ms/step - loss: 0.7294 - accuracy: 0.7112\n",
      "Epoch 21/100\n",
      "415/415 [==============================] - 2s 6ms/step - loss: 0.7214 - accuracy: 0.7120\n",
      "Epoch 22/100\n",
      "415/415 [==============================] - 2s 6ms/step - loss: 0.7166 - accuracy: 0.7141\n",
      "Epoch 23/100\n",
      "415/415 [==============================] - 2s 6ms/step - loss: 0.7145 - accuracy: 0.7117\n",
      "Epoch 24/100\n",
      "415/415 [==============================] - 2s 6ms/step - loss: 0.7090 - accuracy: 0.7159\n",
      "Epoch 25/100\n",
      "415/415 [==============================] - 2s 6ms/step - loss: 0.7070 - accuracy: 0.7175\n",
      "Epoch 26/100\n",
      "415/415 [==============================] - 2s 6ms/step - loss: 0.7042 - accuracy: 0.7151\n",
      "Epoch 27/100\n",
      "415/415 [==============================] - 2s 6ms/step - loss: 0.7014 - accuracy: 0.7143\n",
      "Epoch 28/100\n",
      "415/415 [==============================] - 2s 6ms/step - loss: 0.6980 - accuracy: 0.7166\n",
      "Epoch 29/100\n",
      "415/415 [==============================] - 2s 6ms/step - loss: 0.6967 - accuracy: 0.7157\n",
      "Epoch 30/100\n",
      "415/415 [==============================] - 2s 5ms/step - loss: 0.6939 - accuracy: 0.7177\n",
      "Epoch 31/100\n",
      "415/415 [==============================] - 2s 5ms/step - loss: 0.6897 - accuracy: 0.7186\n",
      "Epoch 32/100\n",
      "415/415 [==============================] - 2s 6ms/step - loss: 0.6900 - accuracy: 0.7142\n",
      "Epoch 33/100\n",
      "415/415 [==============================] - 2s 6ms/step - loss: 0.6867 - accuracy: 0.7174\n",
      "Epoch 34/100\n",
      "415/415 [==============================] - 2s 6ms/step - loss: 0.6851 - accuracy: 0.7166\n",
      "Epoch 35/100\n",
      "415/415 [==============================] - 2s 6ms/step - loss: 0.6837 - accuracy: 0.7167\n",
      "Epoch 36/100\n",
      "415/415 [==============================] - 2s 6ms/step - loss: 0.6813 - accuracy: 0.7181\n",
      "Epoch 37/100\n",
      "415/415 [==============================] - 2s 6ms/step - loss: 0.6799 - accuracy: 0.7179\n",
      "Epoch 38/100\n",
      "415/415 [==============================] - 2s 6ms/step - loss: 0.6777 - accuracy: 0.7174\n",
      "Epoch 39/100\n",
      "415/415 [==============================] - 2s 6ms/step - loss: 0.6773 - accuracy: 0.7169\n",
      "Epoch 40/100\n",
      "415/415 [==============================] - 2s 6ms/step - loss: 0.6751 - accuracy: 0.7177\n",
      "Epoch 41/100\n",
      "415/415 [==============================] - 2s 6ms/step - loss: 0.6745 - accuracy: 0.7178\n",
      "Epoch 42/100\n",
      "415/415 [==============================] - 2s 6ms/step - loss: 0.6737 - accuracy: 0.7147\n",
      "Epoch 43/100\n",
      "415/415 [==============================] - 2s 6ms/step - loss: 0.6707 - accuracy: 0.7180\n",
      "Epoch 44/100\n",
      "415/415 [==============================] - 2s 6ms/step - loss: 0.6699 - accuracy: 0.7184\n",
      "Epoch 45/100\n",
      "415/415 [==============================] - 2s 6ms/step - loss: 0.6687 - accuracy: 0.7199\n",
      "Epoch 46/100\n",
      "415/415 [==============================] - 2s 6ms/step - loss: 0.6685 - accuracy: 0.7180\n",
      "Epoch 47/100\n",
      "415/415 [==============================] - 2s 6ms/step - loss: 0.6674 - accuracy: 0.7216\n",
      "Epoch 48/100\n",
      "415/415 [==============================] - 2s 6ms/step - loss: 0.6670 - accuracy: 0.7189\n",
      "Epoch 49/100\n",
      "415/415 [==============================] - 2s 6ms/step - loss: 0.6656 - accuracy: 0.7210\n",
      "Epoch 50/100\n",
      "415/415 [==============================] - 2s 6ms/step - loss: 0.6648 - accuracy: 0.7193\n",
      "Epoch 51/100\n",
      "415/415 [==============================] - 2s 6ms/step - loss: 0.6635 - accuracy: 0.7223\n",
      "Epoch 52/100\n",
      "415/415 [==============================] - 2s 6ms/step - loss: 0.6623 - accuracy: 0.7215\n",
      "Epoch 53/100\n",
      "415/415 [==============================] - 2s 6ms/step - loss: 0.6613 - accuracy: 0.7214\n",
      "Epoch 54/100\n",
      "415/415 [==============================] - 2s 6ms/step - loss: 0.6594 - accuracy: 0.7220\n",
      "Epoch 55/100\n",
      "415/415 [==============================] - 2s 6ms/step - loss: 0.6605 - accuracy: 0.7214\n",
      "Epoch 56/100\n",
      "415/415 [==============================] - 2s 6ms/step - loss: 0.6588 - accuracy: 0.7218\n",
      "Epoch 57/100\n",
      "415/415 [==============================] - 2s 6ms/step - loss: 0.6587 - accuracy: 0.7215\n",
      "Epoch 58/100\n",
      "415/415 [==============================] - 2s 6ms/step - loss: 0.6567 - accuracy: 0.7243\n",
      "Epoch 59/100\n",
      "415/415 [==============================] - 2s 6ms/step - loss: 0.6572 - accuracy: 0.7249\n",
      "Epoch 60/100\n",
      "415/415 [==============================] - 2s 6ms/step - loss: 0.6566 - accuracy: 0.7232\n",
      "Epoch 61/100\n",
      "415/415 [==============================] - 2s 6ms/step - loss: 0.6554 - accuracy: 0.7258\n",
      "Epoch 62/100\n",
      "415/415 [==============================] - 2s 6ms/step - loss: 0.6551 - accuracy: 0.7231\n",
      "Epoch 63/100\n",
      "415/415 [==============================] - 2s 6ms/step - loss: 0.6540 - accuracy: 0.7239\n",
      "Epoch 64/100\n",
      "415/415 [==============================] - 2s 6ms/step - loss: 0.6544 - accuracy: 0.7242\n",
      "Epoch 65/100\n",
      "415/415 [==============================] - 2s 6ms/step - loss: 0.6530 - accuracy: 0.7253\n",
      "Epoch 66/100\n",
      "415/415 [==============================] - 2s 6ms/step - loss: 0.6557 - accuracy: 0.7238\n",
      "Epoch 67/100\n",
      "415/415 [==============================] - 2s 6ms/step - loss: 0.6521 - accuracy: 0.7259\n",
      "Epoch 68/100\n",
      "415/415 [==============================] - 2s 6ms/step - loss: 0.6512 - accuracy: 0.7263\n",
      "Epoch 69/100\n",
      "415/415 [==============================] - 2s 6ms/step - loss: 0.6513 - accuracy: 0.7227\n",
      "Epoch 70/100\n",
      "415/415 [==============================] - 2s 6ms/step - loss: 0.6513 - accuracy: 0.7257\n",
      "Epoch 71/100\n",
      "415/415 [==============================] - 2s 6ms/step - loss: 0.6510 - accuracy: 0.7270\n",
      "Epoch 72/100\n",
      "415/415 [==============================] - 2s 5ms/step - loss: 0.6511 - accuracy: 0.7250\n",
      "Epoch 73/100\n",
      "415/415 [==============================] - 2s 6ms/step - loss: 0.6497 - accuracy: 0.7270\n",
      "Epoch 74/100\n",
      "415/415 [==============================] - 2s 6ms/step - loss: 0.6492 - accuracy: 0.7276\n",
      "Epoch 75/100\n",
      "415/415 [==============================] - 2s 6ms/step - loss: 0.6492 - accuracy: 0.7265\n",
      "Epoch 76/100\n",
      "415/415 [==============================] - 2s 6ms/step - loss: 0.6492 - accuracy: 0.7259\n",
      "Epoch 77/100\n",
      "415/415 [==============================] - 2s 6ms/step - loss: 0.6485 - accuracy: 0.7261\n",
      "Epoch 78/100\n",
      "415/415 [==============================] - 2s 6ms/step - loss: 0.6469 - accuracy: 0.7274\n",
      "Epoch 79/100\n",
      "415/415 [==============================] - 2s 6ms/step - loss: 0.6465 - accuracy: 0.7248\n",
      "Epoch 80/100\n",
      "415/415 [==============================] - 2s 6ms/step - loss: 0.6490 - accuracy: 0.7266\n",
      "Epoch 81/100\n",
      "415/415 [==============================] - 2s 5ms/step - loss: 0.6458 - accuracy: 0.7273\n",
      "Epoch 82/100\n",
      "415/415 [==============================] - 2s 6ms/step - loss: 0.6450 - accuracy: 0.7270\n",
      "Epoch 83/100\n",
      "415/415 [==============================] - 2s 6ms/step - loss: 0.6487 - accuracy: 0.7266\n",
      "Epoch 84/100\n",
      "415/415 [==============================] - 2s 6ms/step - loss: 0.6453 - accuracy: 0.7269\n",
      "Epoch 85/100\n",
      "415/415 [==============================] - 2s 6ms/step - loss: 0.6444 - accuracy: 0.7285\n",
      "Epoch 86/100\n",
      "415/415 [==============================] - 2s 6ms/step - loss: 0.6461 - accuracy: 0.7261\n",
      "Epoch 87/100\n",
      "415/415 [==============================] - 2s 6ms/step - loss: 0.6451 - accuracy: 0.7288\n",
      "Epoch 88/100\n",
      "415/415 [==============================] - 2s 6ms/step - loss: 0.6444 - accuracy: 0.7283\n",
      "Epoch 89/100\n",
      "415/415 [==============================] - 2s 6ms/step - loss: 0.6435 - accuracy: 0.7300\n",
      "Epoch 90/100\n",
      "415/415 [==============================] - 2s 6ms/step - loss: 0.6430 - accuracy: 0.7279\n",
      "Epoch 91/100\n",
      "415/415 [==============================] - 2s 6ms/step - loss: 0.6432 - accuracy: 0.7297\n",
      "Epoch 92/100\n",
      "415/415 [==============================] - 2s 6ms/step - loss: 0.6433 - accuracy: 0.7274\n",
      "Epoch 93/100\n",
      "415/415 [==============================] - 2s 6ms/step - loss: 0.6433 - accuracy: 0.7304\n",
      "Epoch 94/100\n",
      "415/415 [==============================] - 2s 6ms/step - loss: 0.6424 - accuracy: 0.7274\n",
      "Epoch 95/100\n",
      "415/415 [==============================] - 2s 6ms/step - loss: 0.6420 - accuracy: 0.7282\n",
      "Epoch 96/100\n",
      "415/415 [==============================] - 2s 6ms/step - loss: 0.6431 - accuracy: 0.7253\n",
      "Epoch 97/100\n",
      "415/415 [==============================] - 2s 6ms/step - loss: 0.6430 - accuracy: 0.7295\n",
      "Epoch 98/100\n",
      "415/415 [==============================] - 2s 6ms/step - loss: 0.6403 - accuracy: 0.7281\n",
      "Epoch 99/100\n",
      "415/415 [==============================] - 2s 5ms/step - loss: 0.6425 - accuracy: 0.7275\n",
      "Epoch 100/100\n",
      "415/415 [==============================] - 2s 5ms/step - loss: 0.6417 - accuracy: 0.7298\n"
     ]
    }
   ],
   "source": [
    "N_BATCH = 32\n",
    "hist = model2.fit(\n",
    "    origin_images, number_labels,\n",
    "    epochs=100,\n",
    "    batch_size= N_BATCH,\n",
    "    verbose=1,  # 사용자 정의 콜백 추가\n",
    ")"
   ]
  },
  {
   "cell_type": "code",
   "execution_count": null,
   "metadata": {},
   "outputs": [],
   "source": [
    "# N_BATCH = 252\n",
    "# hist = model.fit(\n",
    "#     train_dataset, train_number_labels, \n",
    "#     validation_data = (test_dataset, test_number_labels),\n",
    "#     epochs=100,\n",
    "#     batch_size= N_BATCH,\n",
    "#     verbose=1,  # 사용자 정의 콜백 추가\n",
    "# )"
   ]
  },
  {
   "cell_type": "code",
   "execution_count": null,
   "metadata": {},
   "outputs": [],
   "source": [
    "# plt.imshow(test_dataset[0])\n",
    "# for i in range(20):\n",
    "#     plt.imshow(test_dataset[i], cmap='gray')\n",
    "#     plt.show()\n",
    "#     res = model.predict(test_dataset[i].reshape(1, 24, 32, 1))\n",
    "#     print(res[0].argmax())"
   ]
  },
  {
   "cell_type": "code",
   "execution_count": null,
   "metadata": {},
   "outputs": [],
   "source": [
    "# # print(test_dataset[0].shape)\n",
    "# # print(test_dataset[0].shape)\n",
    "# # print(test_dataset[0].reshape(1, 24, 32, 1).shape)\n",
    "# # plt.imshow(test_dataset[0])\n",
    "# for i in range(20):\n",
    "#     plt.imshow(test_dataset[i], cmap='gray')\n",
    "#     plt.show()\n",
    "#     res = model2.predict(test_dataset[i].reshape(1, 24, 32, 1))\n",
    "#     print(res[0].argmax())\n"
   ]
  },
  {
   "cell_type": "code",
   "execution_count": null,
   "metadata": {},
   "outputs": [],
   "source": []
  },
  {
   "cell_type": "code",
   "execution_count": 18,
   "metadata": {},
   "outputs": [],
   "source": [
    "model2.save('./v1_12.h5')"
   ]
  },
  {
   "cell_type": "code",
   "execution_count": 17,
   "metadata": {},
   "outputs": [
    {
     "name": "stdout",
     "output_type": "stream",
     "text": [
      "(13276, 24, 32, 1) (13276, 5)\n"
     ]
    }
   ],
   "source": [
    "print(origin_images.shape, number_labels.shape)"
   ]
  },
  {
   "cell_type": "code",
   "execution_count": 19,
   "metadata": {},
   "outputs": [
    {
     "name": "stdout",
     "output_type": "stream",
     "text": [
      "Epoch 1/50\n",
      "415/415 [==============================] - 5s 7ms/step - loss: 0.6440 - accuracy: 0.7279\n",
      "Epoch 2/50\n",
      "415/415 [==============================] - 3s 8ms/step - loss: 0.6432 - accuracy: 0.7319\n",
      "Epoch 3/50\n",
      "415/415 [==============================] - 3s 7ms/step - loss: 0.6420 - accuracy: 0.7296\n",
      "Epoch 4/50\n",
      "415/415 [==============================] - 3s 8ms/step - loss: 0.6406 - accuracy: 0.7306\n",
      "Epoch 5/50\n",
      "415/415 [==============================] - 3s 8ms/step - loss: 0.6442 - accuracy: 0.7309\n",
      "Epoch 6/50\n",
      "415/415 [==============================] - 3s 8ms/step - loss: 0.6440 - accuracy: 0.7265\n",
      "Epoch 7/50\n",
      "415/415 [==============================] - 3s 7ms/step - loss: 0.6433 - accuracy: 0.7266\n",
      "Epoch 8/50\n",
      "415/415 [==============================] - 3s 7ms/step - loss: 0.6455 - accuracy: 0.7248\n",
      "Epoch 9/50\n",
      "415/415 [==============================] - 3s 8ms/step - loss: 0.6413 - accuracy: 0.7305\n",
      "Epoch 10/50\n",
      "415/415 [==============================] - 3s 8ms/step - loss: 0.6393 - accuracy: 0.7298\n",
      "Epoch 11/50\n",
      "415/415 [==============================] - 3s 8ms/step - loss: 0.6403 - accuracy: 0.7300\n",
      "Epoch 12/50\n",
      "415/415 [==============================] - 3s 8ms/step - loss: 0.6408 - accuracy: 0.7296\n",
      "Epoch 13/50\n",
      "415/415 [==============================] - 3s 8ms/step - loss: 0.6420 - accuracy: 0.7313\n",
      "Epoch 14/50\n",
      "415/415 [==============================] - 3s 8ms/step - loss: 0.6450 - accuracy: 0.7254\n",
      "Epoch 15/50\n",
      "415/415 [==============================] - 3s 8ms/step - loss: 0.6422 - accuracy: 0.7297\n",
      "Epoch 16/50\n",
      "415/415 [==============================] - 3s 7ms/step - loss: 0.6399 - accuracy: 0.7330\n",
      "Epoch 17/50\n",
      "415/415 [==============================] - 3s 7ms/step - loss: 0.6407 - accuracy: 0.7338\n",
      "Epoch 18/50\n",
      "415/415 [==============================] - 3s 8ms/step - loss: 0.6421 - accuracy: 0.7280\n",
      "Epoch 19/50\n",
      "415/415 [==============================] - 3s 7ms/step - loss: 0.6399 - accuracy: 0.7333\n",
      "Epoch 20/50\n",
      "415/415 [==============================] - 3s 8ms/step - loss: 0.6418 - accuracy: 0.7323\n",
      "Epoch 21/50\n",
      "415/415 [==============================] - 3s 8ms/step - loss: 0.6564 - accuracy: 0.7235\n",
      "Epoch 22/50\n",
      "415/415 [==============================] - 3s 8ms/step - loss: 0.6451 - accuracy: 0.7196\n",
      "Epoch 23/50\n",
      "415/415 [==============================] - 3s 8ms/step - loss: 0.6432 - accuracy: 0.7245\n",
      "Epoch 24/50\n",
      "415/415 [==============================] - 3s 8ms/step - loss: 0.6462 - accuracy: 0.7251\n",
      "Epoch 25/50\n",
      "415/415 [==============================] - 3s 8ms/step - loss: 0.6444 - accuracy: 0.7276\n",
      "Epoch 26/50\n",
      "415/415 [==============================] - 3s 8ms/step - loss: 0.6496 - accuracy: 0.7260\n",
      "Epoch 27/50\n",
      "415/415 [==============================] - 3s 8ms/step - loss: 0.6450 - accuracy: 0.7269\n",
      "Epoch 28/50\n",
      "415/415 [==============================] - 3s 8ms/step - loss: 0.6458 - accuracy: 0.7228\n",
      "Epoch 29/50\n",
      "415/415 [==============================] - 3s 8ms/step - loss: 0.6421 - accuracy: 0.7293\n",
      "Epoch 30/50\n",
      "415/415 [==============================] - 3s 8ms/step - loss: 0.6426 - accuracy: 0.7305\n",
      "Epoch 31/50\n",
      "415/415 [==============================] - 3s 8ms/step - loss: 0.6456 - accuracy: 0.7305\n",
      "Epoch 32/50\n",
      "415/415 [==============================] - 3s 8ms/step - loss: 0.6472 - accuracy: 0.7286\n",
      "Epoch 33/50\n",
      "415/415 [==============================] - 3s 8ms/step - loss: 0.6454 - accuracy: 0.7307\n",
      "Epoch 34/50\n",
      "415/415 [==============================] - 3s 8ms/step - loss: 0.6423 - accuracy: 0.7298\n",
      "Epoch 35/50\n",
      "415/415 [==============================] - 3s 8ms/step - loss: 0.6431 - accuracy: 0.7299\n",
      "Epoch 36/50\n",
      "415/415 [==============================] - 3s 8ms/step - loss: 0.6423 - accuracy: 0.7276\n",
      "Epoch 37/50\n",
      "415/415 [==============================] - 3s 8ms/step - loss: 0.6399 - accuracy: 0.7328\n",
      "Epoch 38/50\n",
      "415/415 [==============================] - 3s 8ms/step - loss: 0.6399 - accuracy: 0.7298\n",
      "Epoch 39/50\n",
      "415/415 [==============================] - 3s 7ms/step - loss: 0.6386 - accuracy: 0.7335\n",
      "Epoch 40/50\n",
      "415/415 [==============================] - 3s 8ms/step - loss: 0.6555 - accuracy: 0.7163\n",
      "Epoch 41/50\n",
      "415/415 [==============================] - 3s 8ms/step - loss: 0.6462 - accuracy: 0.7198\n",
      "Epoch 42/50\n",
      "415/415 [==============================] - 3s 8ms/step - loss: 0.6441 - accuracy: 0.7248\n",
      "Epoch 43/50\n",
      "415/415 [==============================] - 3s 8ms/step - loss: 0.6416 - accuracy: 0.7268\n",
      "Epoch 44/50\n",
      "415/415 [==============================] - 3s 8ms/step - loss: 0.6425 - accuracy: 0.7249\n",
      "Epoch 45/50\n",
      "415/415 [==============================] - 3s 8ms/step - loss: 0.6421 - accuracy: 0.7280\n",
      "Epoch 46/50\n",
      "415/415 [==============================] - 3s 8ms/step - loss: 0.6401 - accuracy: 0.7274\n",
      "Epoch 47/50\n",
      "415/415 [==============================] - 3s 7ms/step - loss: 0.6391 - accuracy: 0.7282\n",
      "Epoch 48/50\n",
      "415/415 [==============================] - 3s 8ms/step - loss: 0.6407 - accuracy: 0.7286\n",
      "Epoch 49/50\n",
      "415/415 [==============================] - 3s 8ms/step - loss: 0.6393 - accuracy: 0.7282\n",
      "Epoch 50/50\n",
      "415/415 [==============================] - 3s 8ms/step - loss: 0.6378 - accuracy: 0.7312\n",
      "WARNING:tensorflow:Compiled the loaded model, but the compiled metrics have yet to be built. `model.compile_metrics` will be empty until you train or evaluate the model.\n"
     ]
    }
   ],
   "source": [
    "import tensorflow as tf\n",
    "from tensorflow_model_optimization.sparsity import keras as sparsity\n",
    "from tensorflow_model_optimization.sparsity.keras import UpdatePruningStep\n",
    "\n",
    "# train_dataset, train_number_labels,\n",
    "\n",
    "# 초기 모델 로드\n",
    "model = tf.keras.models.load_model('./v1_12.h5')\n",
    "\n",
    "# 프루닝 설정\n",
    "epochs = 30\n",
    "batch_size = 32\n",
    "num_train_samples = origin_images.shape[0]\n",
    "end_step = np.ceil(num_train_samples / batch_size).astype(np.int32) * epochs\n",
    "pruning_params = {\n",
    "    'pruning_schedule': sparsity.PolynomialDecay(initial_sparsity=0.50,\n",
    "                                                 final_sparsity=0.80,\n",
    "                                                 begin_step=0,\n",
    "                                                 end_step=end_step)\n",
    "}\n",
    "\n",
    "# 모델에 프루닝 래퍼 적용\n",
    "model_for_pruning = sparsity.prune_low_magnitude(model, **pruning_params)\n",
    "\n",
    "# 프루닝 모델 컴파일 및 훈련\n",
    "model_for_pruning.compile(optimizer='adam',\n",
    "                          loss=tf.keras.losses.categorical_crossentropy,\n",
    "                          metrics=['accuracy'])\n",
    "\n",
    "callbacks = [\n",
    "    UpdatePruningStep()\n",
    "]\n",
    "\n",
    "model_for_pruning.fit(origin_images, number_labels, epochs=epochs, callbacks=callbacks)\n",
    "\n",
    "# 프루닝 제거 및 최종 모델 저장\n",
    "final_model = sparsity.strip_pruning(model_for_pruning)\n",
    "final_model.save('pruned_model.h5')\n"
   ]
  },
  {
   "cell_type": "code",
   "execution_count": 20,
   "metadata": {},
   "outputs": [
    {
     "name": "stdout",
     "output_type": "stream",
     "text": [
      "Model: \"model\"\n",
      "__________________________________________________________________________________________________\n",
      " Layer (type)                Output Shape                 Param #   Connected to                  \n",
      "==================================================================================================\n",
      " input_1 (InputLayer)        [(None, 24, 32, 1)]          0         []                            \n",
      "                                                                                                  \n",
      " max_pooling2d (MaxPooling2  (None, 24, 32, 1)            0         ['input_1[0][0]']             \n",
      " D)                                                                                               \n",
      "                                                                                                  \n",
      " conv2d (Conv2D)             (None, 24, 32, 16)           32        ['input_1[0][0]']             \n",
      "                                                                                                  \n",
      " conv2d_1 (Conv2D)           (None, 24, 32, 32)           64        ['max_pooling2d[1][0]']       \n",
      "                                                                                                  \n",
      " concatenate (Concatenate)   (None, 24, 32, 48)           0         ['conv2d[1][0]',              \n",
      "                                                                     'conv2d_1[1][0]']            \n",
      "                                                                                                  \n",
      " global_average_pooling2d (  (None, 48)                   0         ['concatenate[1][0]']         \n",
      " GlobalAveragePooling2D)                                                                          \n",
      "                                                                                                  \n",
      " flatten (Flatten)           (None, 48)                   0         ['global_average_pooling2d[1][\n",
      "                                                                    0]']                          \n",
      "                                                                                                  \n",
      " dense (Dense)               (None, 32)                   1568      ['flatten[1][0]']             \n",
      "                                                                                                  \n",
      " number_output (Dense)       (None, 5)                    165       ['dense[1][0]']               \n",
      "                                                                                                  \n",
      "==================================================================================================\n",
      "Total params: 1829 (7.14 KB)\n",
      "Trainable params: 1829 (7.14 KB)\n",
      "Non-trainable params: 0 (0.00 Byte)\n",
      "__________________________________________________________________________________________________\n"
     ]
    }
   ],
   "source": [
    "final_model.summary()"
   ]
  },
  {
   "cell_type": "code",
   "execution_count": 25,
   "metadata": {},
   "outputs": [
    {
     "data": {
      "text/plain": [
       "dtype('uint8')"
      ]
     },
     "execution_count": 25,
     "metadata": {},
     "output_type": "execute_result"
    }
   ],
   "source": [
    "# train_dataset.dtype"
   ]
  },
  {
   "cell_type": "code",
   "execution_count": 32,
   "metadata": {},
   "outputs": [],
   "source": []
  },
  {
   "cell_type": "code",
   "execution_count": 37,
   "metadata": {},
   "outputs": [
    {
     "name": "stdout",
     "output_type": "stream",
     "text": [
      "255 17\n"
     ]
    }
   ],
   "source": [
    "# print(train_dataset[0].max(), train_dataset[0].min())"
   ]
  },
  {
   "cell_type": "code",
   "execution_count": 38,
   "metadata": {},
   "outputs": [],
   "source": [
    "# qt_dataset = train_dataset / train_dataset.max()"
   ]
  },
  {
   "cell_type": "code",
   "execution_count": 39,
   "metadata": {},
   "outputs": [
    {
     "name": "stdout",
     "output_type": "stream",
     "text": [
      "(11949, 24, 32, 1) 1.0 0.0\n"
     ]
    }
   ],
   "source": [
    "# print(qt_dataset.shape, qt_dataset.max(), qt_dataset.min())"
   ]
  },
  {
   "cell_type": "code",
   "execution_count": 21,
   "metadata": {},
   "outputs": [],
   "source": [
    "\n",
    "train_dataset = origin_images[:11949]\n",
    "train_number_labels = number_labels[:11949]\n",
    "train_target_image = target_images[:11949]\n",
    "test_dataset = origin_images[11949:]\n",
    "test_number_labels = number_labels[11949:]\n",
    "test_target_image = target_images[11949:]"
   ]
  },
  {
   "cell_type": "code",
   "execution_count": 22,
   "metadata": {},
   "outputs": [],
   "source": [
    "batch_size = 32\n",
    "train_dataset_tf = tf.data.Dataset.from_tensor_slices(test_dataset)\n",
    "# train_dataset을 배치로 만듦\n",
    "batched_train_dataset = train_dataset_tf.batch(batch_size)"
   ]
  },
  {
   "cell_type": "code",
   "execution_count": 23,
   "metadata": {},
   "outputs": [
    {
     "name": "stdout",
     "output_type": "stream",
     "text": [
      "WARNING:tensorflow:No training configuration found in the save file, so the model was *not* compiled. Compile it manually.\n",
      "INFO:tensorflow:Assets written to: /tmp/tmpox3fzbh1/assets\n"
     ]
    },
    {
     "name": "stderr",
     "output_type": "stream",
     "text": [
      "INFO:tensorflow:Assets written to: /tmp/tmpox3fzbh1/assets\n",
      "2023-12-04 09:48:27.803836: W tensorflow/compiler/mlir/lite/python/tf_tfl_flatbuffer_helpers.cc:364] Ignored output_format.\n",
      "2023-12-04 09:48:27.803871: W tensorflow/compiler/mlir/lite/python/tf_tfl_flatbuffer_helpers.cc:367] Ignored drop_control_dependency.\n",
      "2023-12-04 09:48:27.804196: I tensorflow/cc/saved_model/reader.cc:45] Reading SavedModel from: /tmp/tmpox3fzbh1\n",
      "2023-12-04 09:48:27.805012: I tensorflow/cc/saved_model/reader.cc:91] Reading meta graph with tags { serve }\n",
      "2023-12-04 09:48:27.805026: I tensorflow/cc/saved_model/reader.cc:132] Reading SavedModel debug info (if present) from: /tmp/tmpox3fzbh1\n",
      "2023-12-04 09:48:27.809044: I tensorflow/compiler/mlir/mlir_graph_optimization_pass.cc:375] MLIR V1 optimization pass is not enabled\n",
      "2023-12-04 09:48:27.809567: I tensorflow/cc/saved_model/loader.cc:231] Restoring SavedModel bundle.\n",
      "2023-12-04 09:48:27.829650: I tensorflow/cc/saved_model/loader.cc:215] Running initialization op on SavedModel bundle at path: /tmp/tmpox3fzbh1\n",
      "2023-12-04 09:48:27.836452: I tensorflow/cc/saved_model/loader.cc:314] SavedModel load for tags { serve }; Status: success: OK. Took 32258 microseconds.\n",
      "fully_quantize: 0, inference_type: 6, input_inference_type: FLOAT32, output_inference_type: FLOAT32\n"
     ]
    }
   ],
   "source": [
    "import tensorflow as tf\n",
    "\n",
    "# 기존 모델 로드\n",
    "model = tf.keras.models.load_model('pruned_model.h5')\n",
    "\n",
    "# 대표 데이터셋을 준비하는 함수\n",
    "def representative_data_gen():\n",
    "    for input_value in batched_train_dataset.take(100):\n",
    "        yield [input_value]\n",
    "\n",
    "# 훈련 데이터셋을 로드하고 배치 처리\n",
    "# 여기서 test_dataset와 batch_size는 적절한 값으로 설정해야 합니다.\n",
    "batched_train_dataset = tf.data.Dataset.from_tensor_slices(test_dataset).batch(batch_size)\n",
    "batched_train_dataset = batched_train_dataset.map(lambda x: tf.cast(x, tf.float32))\n",
    "\n",
    "# TFLite 변환기 설정\n",
    "converter = tf.lite.TFLiteConverter.from_keras_model(model)\n",
    "converter.optimizations = [tf.lite.Optimize.DEFAULT]\n",
    "converter.representative_dataset = representative_data_gen\n",
    "\n",
    "# 모든 연산을 float32로 제한\n",
    "converter.target_spec.supported_ops = [tf.lite.OpsSet.TFLITE_BUILTINS]\n",
    "\n",
    "# 입력과 출력을 float32로 설정\n",
    "converter.inference_input_type = tf.float32\n",
    "converter.inference_output_type = tf.float32\n",
    "\n",
    "# 모델을 TFLite 모델로 변환\n",
    "tflite_quant_model = converter.convert()\n",
    "\n",
    "# TFLite 모델 저장\n",
    "with open('quantized_model.tflite', 'wb') as f:\n",
    "    f.write(tflite_quant_model)\n"
   ]
  },
  {
   "cell_type": "code",
   "execution_count": 27,
   "metadata": {},
   "outputs": [
    {
     "name": "stdout",
     "output_type": "stream",
     "text": [
      "const uint8_t image_data[24*32] = {0x55, 0x58, 0x53, 0x5a, 0x96, 0x98, 0x7e, 0x73, 0x24, 0x13, 0x0c, 0x28, 0x27, 0x29, 0x21, 0x2f, 0x21, 0x24, 0x11, 0x19, 0x19, 0x2c, 0x1a, 0x13, 0x25, 0x2b, 0x1d, 0x22, 0x2b, 0x3f, 0x25, 0x4f, 0x62, 0x56, 0x4f, 0x6d, 0x92, 0xad, 0x99, 0x84, 0x45, 0x28, 0x24, 0x28, 0x33, 0x21, 0x21, 0x1b, 0x35, 0x0f, 0x1b, 0x11, 0x1e, 0x16, 0x1d, 0x19, 0x27, 0x15, 0x15, 0x18, 0x2a, 0x2c, 0x2a, 0x24, 0x55, 0x69, 0x5b, 0x7c, 0xbf, 0xd4, 0xae, 0xa6, 0x4e, 0x3a, 0x23, 0x31, 0x23, 0x2a, 0x20, 0x1a, 0x0e, 0x18, 0x0d, 0x21, 0x20, 0x19, 0x0e, 0x18, 0x20, 0x22, 0x15, 0x2b, 0x20, 0x2b, 0x23, 0x13, 0x55, 0x4b, 0x5c, 0x77, 0xab, 0xbf, 0xb6, 0x91, 0x66, 0x41, 0x32, 0x1a, 0x20, 0x18, 0x24, 0x14, 0x18, 0x05, 0x22, 0x06, 0x24, 0x15, 0x20, 0x14, 0x15, 0x14, 0x22, 0x12, 0x3e, 0x29, 0x41, 0x3e, 0x48, 0x4a, 0x47, 0x53, 0x94, 0xa6, 0x96, 0x88, 0x60, 0x55, 0x28, 0x31, 0x11, 0x31, 0x25, 0x29, 0x25, 0x27, 0x0a, 0x35, 0x14, 0x1c, 0x13, 0x20, 0x1e, 0x22, 0x0d, 0x1a, 0x1d, 0x1c, 0x1b, 0x15, 0x48, 0x47, 0x3d, 0x4b, 0x6e, 0x8e, 0x7c, 0x76, 0x64, 0x54, 0x3e, 0x2a, 0x2e, 0x2f, 0x3e, 0x3a, 0x38, 0x30, 0x2c, 0x18, 0x2f, 0x28, 0x19, 0x1a, 0x25, 0x22, 0x30, 0x1d, 0x30, 0x2b, 0x32, 0x1c, 0x4f, 0x40, 0x2b, 0x31, 0x48, 0x67, 0x56, 0x4f, 0x4e, 0x46, 0x37, 0x37, 0x45, 0x54, 0x62, 0x68, 0x4e, 0x52, 0x38, 0x30, 0x0e, 0x22, 0x23, 0x1c, 0x22, 0x25, 0x1c, 0x2a, 0x2c, 0x41, 0x2f, 0x2b, 0x46, 0x2f, 0x1c, 0x1c, 0x4d, 0x62, 0x58, 0x48, 0x39, 0x43, 0x63, 0x62, 0x86, 0x64, 0x72, 0x64, 0x68, 0x5c, 0x4f, 0x25, 0x27, 0x15, 0x1b, 0x20, 0x1d, 0x0f, 0x04, 0x21, 0x36, 0x36, 0x18, 0x1e, 0x3c, 0x3a, 0x21, 0x1c, 0x1e, 0x22, 0x3a, 0x40, 0x30, 0x35, 0x8b, 0x7d, 0xaf, 0xc6, 0x75, 0x70, 0x51, 0x58, 0x2a, 0x2f, 0x32, 0x2a, 0x13, 0x22, 0x16, 0x28, 0x01, 0x29, 0x24, 0x2b, 0x31, 0x1b, 0x25, 0x23, 0x25, 0x24, 0x1c, 0x1d, 0x2b, 0x39, 0x2b, 0x43, 0x4d, 0xbd, 0xda, 0x92, 0x9f, 0x70, 0x54, 0x3a, 0x2f, 0x23, 0x23, 0x1c, 0x2a, 0x14, 0x2f, 0x3d, 0x16, 0x21, 0x29, 0x24, 0x1b, 0x30, 0x22, 0x33, 0x12, 0x20, 0x1e, 0x12, 0x22, 0x25, 0x3a, 0x44, 0xa0, 0x7f, 0xe9, 0xe6, 0xaf, 0xbc, 0x4d, 0x51, 0x22, 0x24, 0x20, 0x2f, 0x1b, 0x1d, 0x2e, 0x30, 0x14, 0x27, 0x25, 0x37, 0x31, 0x45, 0x45, 0x1e, 0x21, 0x12, 0x1c, 0x19, 0x20, 0x1c, 0x1e, 0x2c, 0x4b, 0xa6, 0xda, 0xfd, 0xdf, 0xa7, 0x67, 0x6b, 0x2e, 0x2c, 0x29, 0x24, 0x32, 0x22, 0x27, 0x1b, 0x32, 0x2a, 0x2e, 0x3f, 0x38, 0x31, 0x23, 0x30, 0x00, 0x1e, 0x20, 0x22, 0x1e, 0x21, 0x28, 0x1e, 0x58, 0x66, 0xee, 0xfc, 0xd5, 0xd8, 0x8f, 0x6e, 0x3c, 0x2f, 0x29, 0x2a, 0x28, 0x29, 0x2e, 0x30, 0x4b, 0x5b, 0x84, 0x9a, 0x5b, 0x62, 0x46, 0x2e, 0x45, 0x27, 0x2f, 0x1c, 0x25, 0x1b, 0x35, 0x20, 0x33, 0x8f, 0xd9, 0xe4, 0xe6, 0xc5, 0x9c, 0x6b, 0x38, 0x23, 0x25, 0x20, 0x27, 0x40, 0x4d, 0x4d, 0x6f, 0x70, 0xa7, 0xad, 0x9f, 0x84, 0x87, 0x93, 0x5b, 0x5f, 0x3d, 0x35, 0x2e, 0x25, 0x28, 0x1c, 0x25, 0x32, 0x9f, 0x9a, 0xbf, 0xbf, 0x94, 0x69, 0x12, 0x29, 0x21, 0x20, 0x2b, 0x30, 0x53, 0x70, 0x7d, 0x7e, 0xb8, 0xb9, 0x96, 0x93, 0xb6, 0x9d, 0x7f, 0x67, 0x6d, 0x5f, 0x48, 0x2b, 0x33, 0x2a, 0x2a, 0x35, 0x69, 0x84, 0x8a, 0x8f, 0x6e, 0x2f, 0x16, 0x1d, 0x1c, 0x22, 0x2c, 0x29, 0x5c, 0x70, 0x79, 0x85, 0xa7, 0x8e, 0x88, 0x53, 0xc5, 0xb9, 0x8b, 0x94, 0x64, 0x76, 0x4a, 0x46, 0x35, 0x2e, 0x1e, 0x13, 0x23, 0x38, 0x30, 0x2a, 0x29, 0x20, 0x13, 0x1d, 0x25, 0x28, 0x20, 0x27, 0x43, 0x52, 0x73, 0x6a, 0xa2, 0xa8, 0x5b, 0x5d, 0xc4, 0xb1, 0x98, 0x7d, 0x79, 0x6e, 0x4b, 0x24, 0x29, 0x21, 0x25, 0x1c, 0x1c, 0x29, 0x21, 0x29, 0x24, 0x1a, 0x24, 0x21, 0x21, 0x1d, 0x20, 0x16, 0x35, 0x2b, 0x51, 0x5c, 0x9f, 0x8b, 0x5b, 0x4e, 0xcb, 0xbe, 0x84, 0x87, 0x55, 0x64, 0x2c, 0x1e, 0x27, 0x2c, 0x22, 0x20, 0x16, 0x23, 0x1b, 0x22, 0x1a, 0x1c, 0x16, 0x2a, 0x0d, 0x2a, 0x22, 0x24, 0x18, 0x2b, 0x20, 0x31, 0x61, 0x56, 0x30, 0x40, 0xc6, 0xaa, 0x8d, 0x6a, 0x55, 0x2a, 0x19, 0x11, 0x25, 0x24, 0x20, 0x12, 0x23, 0x1c, 0x1e, 0x14, 0x13, 0x1b, 0x1c, 0x12, 0x1e, 0x21, 0x28, 0x2a, 0x31, 0x2b, 0x33, 0x24, 0x68, 0x52, 0x54, 0x4a, 0x6a, 0x68, 0x46, 0x48, 0x28, 0x28, 0x1c, 0x27, 0x27, 0x20, 0x0d, 0x25, 0x1c, 0x27, 0x13, 0x12, 0x27, 0x3a, 0x25, 0x31, 0x1e, 0x35, 0x1d, 0x2b, 0x47, 0x4a, 0x3d, 0x3e, 0x4a, 0x45, 0x30, 0x45, 0x6e, 0x4d, 0x41, 0x25, 0x2f, 0x23, 0x32, 0x2a, 0x2b, 0x18, 0x29, 0x16, 0x35, 0x11, 0x1e, 0x13, 0x30, 0x2f, 0x44, 0x31, 0x3a, 0x2f, 0x37, 0x29, 0x51, 0x43, 0x44, 0x21, 0x55, 0x45, 0x40, 0x47, 0x79, 0x5b, 0x2e, 0x33, 0x1b, 0x2e, 0x29, 0x1c, 0x20, 0x27, 0x19, 0x24, 0x1c, 0x22, 0x15, 0x1a, 0x1e, 0x27, 0x32, 0x30, 0x32, 0x38, 0x3d, 0x31, 0x3c, 0x2e, 0x39, 0x32, 0x2b, 0x36, 0x44, 0x3d, 0x6d, 0x4f, 0x40, 0x14, 0x22, 0x15, 0x39, 0x0f, 0x23, 0x1e, 0x1d, 0x07, 0x22, 0x20, 0x22, 0x13, 0x1e, 0x22, 0x2b, 0x15, 0x36, 0x2a, 0x38, 0x32, 0x37, 0x36, 0x3d, 0x31, 0x44, 0x37, 0x54, 0x56};\n"
     ]
    }
   ],
   "source": [
    "\n",
    "\n",
    "# from PIL import Image\n",
    "# import numpy as np\n",
    "\n",
    "# # Load the uploaded image file\n",
    "# image_path = 'test/2023-11-04 03-29-16/1041_png.png'\n",
    "# image = Image.open(image_path)\n",
    "\n",
    "# # It seems there was an issue with the conversion process that led to a uniform array of zeros.\n",
    "# # Let's first check the original image and its array to see if the conversion was done correctly.\n",
    "# image_gray = image.convert('L')\n",
    "\n",
    "# image_resized = image_gray.resize((32, 24))\n",
    "\n",
    "# # Convert the image to a numpy array again without normalization to check its content\n",
    "# image_array_check = np.asarray(image_resized)\n",
    "\n",
    "# # Display the unique values in the array to verify the content\n",
    "# np.unique(image_array_check)\n",
    "\n",
    "# # The array contains a variety of values, indicating the image is not uniform and the conversion to a flat array of zeros was incorrect.\n",
    "# # Let's correct the conversion process.\n",
    "\n",
    "# # Normalize the image array properly\n",
    "# image_array_normalized = image_array_check / 255.0\n",
    "\n",
    "# # Convert the normalized array to a 1D array suitable for C array initialization\n",
    "# # We'll use integer values scaled to [0, 255] for the C array\n",
    "# image_array_int = image_array_check.flatten()\n",
    "\n",
    "# # Convert the image array to a list of hex values\n",
    "# image_array_hex = ['0x{:02x}'.format(pixel) for pixel in image_array_int]\n",
    "\n",
    "# # Format the C array\n",
    "# c_array = ', '.join(image_array_hex)\n",
    "# c_array_formatted = f'const uint8_t image_data[24*32] = {{{c_array}}};'\n",
    "\n",
    "# # Based on the provided code snippet, let's save the image data to a binary file.\n",
    "# # The image data is already flattened and normalized, we just need to save it.\n",
    "\n",
    "# # Convert the normalized array to bytes\n",
    "# binary_data = image_array_normalized.astype(np.uint8).tobytes()\n",
    "\n",
    "# # Define the path for the binary file\n",
    "# binary_file_path = './image_data.bin'\n",
    "\n",
    "# # Write the binary data to the file\n",
    "# with open(binary_file_path, 'wb') as bin_file:\n",
    "#     bin_file.write(binary_data)\n",
    "\n",
    "# binary_file_path  # Return the file path for the user to download the binary file\n",
    "\n",
    "\n",
    "# print(c_array_formatted)  # Print the first 500 characters for brevity\n",
    "\n",
    "\n",
    "\n"
   ]
  },
  {
   "cell_type": "markdown",
   "metadata": {},
   "source": []
  },
  {
   "cell_type": "code",
   "execution_count": 16,
   "metadata": {},
   "outputs": [],
   "source": []
  },
  {
   "cell_type": "code",
   "execution_count": null,
   "metadata": {},
   "outputs": [],
   "source": [
    "import os\n",
    "import re\n",
    "import cv2\n",
    "import numpy as np\n",
    "\n",
    "def extract_number(filename):\n",
    "    match = re.search(r'(\\d+)_png', filename)\n",
    "    if match:\n",
    "        return int(match.group(1))\n",
    "    return None\n",
    "\n",
    "def make_video_from_images(image_folder, video_name, fps=10.0):\n",
    "    # 이미지 폴더 내의 모든 파일들을 가져옵니다.\n",
    "    images = [img for img in os.listdir(image_folder) if img.endswith(\".png\") or img.endswith(\".jpg\")]\n",
    "\n",
    "    # 숫자 기준으로 이미지들을 정렬합니다.\n",
    "    images.sort(key=extract_number)\n",
    "\n",
    "    # 첫 번째 이미지를 통해 프레임의 너비와 높이를 가져옵니다.\n",
    "    frame = cv2.imread(os.path.join(image_folder, images[0]))\n",
    "    h, w, layers = frame.shape\n",
    "    size = (w, h)\n",
    "\n",
    "    # VideoWriter 객체를 초기화합니다.\n",
    "    out = cv2.VideoWriter(video_name, cv2.VideoWriter_fourcc(*'DIVX'), fps, size)\n",
    "\n",
    "    # 이미지들을 하나씩 동영상에 추가합니다.\n",
    "    for image in images:\n",
    "        img_path = os.path.join(image_folder, image)\n",
    "        img = cv2.imread(img_path)\n",
    "        out.write(img)\n",
    "\n",
    "    # 작업 완료 후, VideoWriter 객체를 해제합니다.\n",
    "    out.release()\n",
    "\n",
    "def save_draw_boxes_on_image(image, normalized_coords, save_path, num_people=None, width=32, height=24):\n",
    "    normalized_coords = normalized_coords.squeeze()\n",
    "    # Denormalize the coordinates\n",
    "    denormalized_coords = normalized_coords * [width, height, width, height, width, height, width, height]\n",
    "    if image.ndim == 4:\n",
    "        image = image[0]\n",
    "    # Create a figure and axis\n",
    "    fig, ax = plt.subplots(1, figsize=(12, 9))\n",
    "    # Display the image\n",
    "    ax.imshow(image[:, :, 0], cmap='gray')\n",
    "    if num_people is not None:\n",
    "        ax.text(0.5, 0.1, f\"Number of people: {num_people}\", \n",
    "                transform=ax.transAxes, \n",
    "                color='white', \n",
    "                ha=\"center\", \n",
    "                va=\"center\", \n",
    "                fontsize=12, \n",
    "                bbox=dict(boxstyle=\"round\", fc=\"red\"))\n",
    "    # Loop over each set of coordinates and draw the bounding box\n",
    "    for coord in denormalized_coords:\n",
    "        # Extract coordinates for the bounding box\n",
    "        top_left_x, top_left_y, top_right_x, top_right_y, bottom_right_x, bottom_right_y, bottom_left_x, bottom_left_y = coord\n",
    "        # Create a rectangle patch using top left and bottom right coordinates\n",
    "        rect = patches.Rectangle((top_left_x, top_left_y), bottom_right_x - top_left_x, bottom_right_y - top_left_y, linewidth=1, edgecolor='r', facecolor='none')\n",
    "        # Add the patch to the axis\n",
    "        ax.add_patch(rect)\n",
    "    plt.savefig(save_path)\n",
    "    plt.close()  # 이 라인을 추가하여 화면에 표시되는 창을 닫습니다.\n",
    "    return save_path\n",
    "\n",
    "def generate_video_from_images():\n",
    "    # 예측할 이미지 경로(예측 후 동영상으로 변환될 이미지)\n",
    "    image_dir = '/Users/mac/Dev/Project/ThermalCamera/Model/Custom/Datasets/original/Video/2023-11-04 03-32-16/'\n",
    "    image_files = sorted([f for f in os.listdir(image_dir) if f.endswith('.png')], key=extract_number)\n",
    "    print(image_files)\n",
    "    frame_height, frame_width = 24, 32\n",
    "    \n",
    "    for image_file in image_files:\n",
    "        image_path = os.path.join(image_dir, image_file)\n",
    "        img = cv2.imread(image_path, cv2.IMREAD_GRAYSCALE)\n",
    "        \n",
    "        img = img.reshape(24, 32, 1)\n",
    "        img_batch = np.expand_dims(img, axis=0)\n",
    "        res = model.predict(img_batch / img_batch.max())\n",
    "        # 예측 한 이미지를 저장할 폴더\n",
    "        output_folder = \"/Users/mac/Dev/Project/ThermalCamera/Model/Custom/Datasets/Video/img2/\"\n",
    "        save_path = os.path.join(output_folder, image_file)\n",
    "\n",
    "        saved_image_path = save_draw_boxes_on_image(img, res[2][:], save_path, res[1].argmax())\n",
    "        saved_image_gray = cv2.imread(saved_image_path, cv2.IMREAD_GRAYSCALE)\n",
    "        \n",
    "        saved_image = cv2.cvtColor(saved_image_gray, cv2.COLOR_GRAY2BGR)\n",
    "\n",
    "    # 이 부분에서 이미지들을 동영상으로 만드는 함수를 호출합니다.\n",
    "    # 예측 한 이미지를 저장할 폴더와 같은 폴더\n",
    "    image_folder = '/Users/mac/Dev/Project/ThermalCamera/Model/Custom/Datasets/Video/img2/'  # 이미지 폴더 경로\n",
    "    video_name = '/Users/mac/Dev/Project/ThermalCamera/Model/Custom/Datasets/Video/video4.avi'  # 저장될 동영상 파일 이름\n",
    "    make_video_from_images(image_folder, video_name)\n",
    "    print(\"Video generated successfully.\")\n",
    "\n",
    "if __name__ == \"__main__\":\n",
    "    generate_video_from_images()\n"
   ]
  }
 ],
 "metadata": {
  "kernelspec": {
   "display_name": "api",
   "language": "python",
   "name": "python3"
  },
  "language_info": {
   "codemirror_mode": {
    "name": "ipython",
    "version": 3
   },
   "file_extension": ".py",
   "mimetype": "text/x-python",
   "name": "python",
   "nbconvert_exporter": "python",
   "pygments_lexer": "ipython3",
   "version": "3.8.18"
  }
 },
 "nbformat": 4,
 "nbformat_minor": 2
}
