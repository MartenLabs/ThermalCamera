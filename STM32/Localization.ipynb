{
 "cells": [
  {
   "cell_type": "code",
   "execution_count": 21,
   "metadata": {},
   "outputs": [],
   "source": [
    "import numpy as np\n",
    "\n",
    "dataset1_origin = np.load('npz/dataset1_origin.npz', allow_pickle=True)\n",
    "dataset1_horizon = np.load('npz/dataset1_horizon.npz', allow_pickle=True)\n",
    "dataset1_vertical = np.load('npz/dataset1_vertical.npz', allow_pickle=True)\n",
    "dataset1_vh = np.load('npz/dataset1_vh.npz', allow_pickle=True)\n",
    "dataset2_origin = np.load('npz/dataset2_origin.npz', allow_pickle=True)\n",
    "dataset2_horizon = np.load('npz/dataset2_horizon.npz', allow_pickle=True)\n",
    "dataset2_vertical = np.load('npz/dataset2_vertical.npz', allow_pickle=True)\n",
    "dataset2_vh = np.load('npz/dataset2_vh.npz', allow_pickle=True)\n",
    "\n",
    "d1o_origin_images, d1o_target_images, d1o_number_labels, d1o_coordinates = dataset1_origin['images'], dataset1_origin['filters'], dataset1_origin['numbers'],  dataset1_origin['coordinates']\n",
    "d1h_origin_images, d1h_target_images, d1h_number_labels, d1h_coordinates = dataset1_horizon['images'], dataset1_horizon['filters'], dataset1_horizon['numbers'],  dataset1_horizon['coordinates']\n",
    "d1v_origin_images, d1v_target_images, d1v_number_labels, d1v_coordinates = dataset1_vertical['images'], dataset1_vertical['filters'], dataset1_vertical['numbers'],  dataset1_vertical['coordinates']\n",
    "d1vh_origin_images, d1vh_target_images, d1vh_number_labels, d1vh_coordinates = dataset1_vh['images'], dataset1_vh['filters'], dataset1_vh['numbers'],  dataset1_vh['coordinates']\n",
    "d2o_origin_images, d2o_target_images, d2o_number_labels, d2o_coordinates = dataset2_origin['images'], dataset2_origin['filters'], dataset2_origin['numbers'],  dataset2_origin['coordinates']\n",
    "d2h_origin_images, d2h_target_images, d2h_number_labels, d2h_coordinates = dataset2_horizon['images'], dataset2_horizon['filters'], dataset2_horizon['numbers'],  dataset2_horizon['coordinates']\n",
    "d2v_origin_images, d2v_target_images, d2v_number_labels, d2v_coordinates = dataset2_vertical['images'], dataset2_vertical['filters'], dataset2_vertical['numbers'],  dataset2_vertical['coordinates']\n",
    "d2vh_origin_images, d2vh_target_images, d2vh_number_labels, d2vh_coordinates = dataset2_vh['images'], dataset2_vh['filters'], dataset2_vh['numbers'],  dataset2_vh['coordinates']\n",
    "\n",
    "origin_images = np.concatenate([d1o_origin_images, d2o_origin_images, d1h_origin_images, d2h_origin_images, d1v_origin_images, d2v_origin_images, d1vh_origin_images, d2vh_origin_images], axis = 0)\n",
    "target_images = np.concatenate([d1o_target_images, d2o_target_images, d1h_target_images, d2h_target_images, d1v_target_images, d2v_target_images, d1vh_target_images, d2vh_target_images], axis = 0)\n",
    "numbers_labels = np.concatenate([d1o_number_labels, d2o_number_labels, d1h_number_labels, d2h_number_labels, d1v_number_labels, d2v_number_labels, d1vh_number_labels, d2vh_number_labels], axis = 0)\n",
    "coordinates = np.concatenate([d1o_coordinates, d2o_coordinates, d1h_coordinates, d2h_coordinates, d1v_coordinates, d2v_coordinates, d1vh_coordinates, d2vh_coordinates], axis = 0)\n"
   ]
  },
  {
   "cell_type": "code",
   "execution_count": 22,
   "metadata": {},
   "outputs": [
    {
     "data": {
      "text/plain": [
       "((2588, 24, 32), (2588,), (2588, 8))"
      ]
     },
     "execution_count": 22,
     "metadata": {},
     "output_type": "execute_result"
    }
   ],
   "source": [
    "# Filtering out the entries where numbers_labels is 1\n",
    "one_indices = np.where(numbers_labels == 1)[0]\n",
    "\n",
    "# Extracting corresponding entries for images and labels\n",
    "one_origin_images = origin_images[one_indices]\n",
    "one_number_labels = numbers_labels[one_indices]\n",
    "one_coordinates = coordinates[one_indices][:, 0, :]\n",
    "# Saving the filtered data into a .npz file\n",
    "np.savez('npz/localization.npz', images=one_origin_images, numbers=one_number_labels, coordinates = one_coordinates)\n",
    "\n",
    "# Verifying the shapes of the saved arrays\n",
    "one_origin_images.shape, one_number_labels.shape, one_coordinates.shape\n"
   ]
  },
  {
   "cell_type": "code",
   "execution_count": 24,
   "metadata": {},
   "outputs": [
    {
     "name": "stdout",
     "output_type": "stream",
     "text": [
      "(2588, 24, 32) (2588,) (2588, 8)\n",
      "[20 22  8 22  8 10 20 10]\n"
     ]
    }
   ],
   "source": [
    "datasets = np.load('npz/localization.npz', allow_pickle=True)\n",
    "images, numbers, coordinates = datasets['images'], datasets['numbers'], datasets['coordinates']\n",
    "\n",
    "print(images.shape, numbers.shape, coordinates.shape)\n",
    "\n",
    "print(coordinates[2500])"
   ]
  },
  {
   "cell_type": "code",
   "execution_count": 30,
   "metadata": {},
   "outputs": [],
   "source": [
    "import matplotlib.pyplot as plt\n",
    "def draw_bounding_box_from_vertices(image, vertices):\n",
    "    \"\"\"\n",
    "    Draw a bounding box on an image using a set of 8 coordinates representing four vertices.\n",
    "    \n",
    "    :param image: The image on which to draw the bounding box.\n",
    "    :param vertices: A list or array of 8 coordinates representing the four vertices of the box \n",
    "                     in the order (x1, y1, x2, y2, x3, y3, x4, y4).\n",
    "    :return: Image with the bounding box drawn.\n",
    "    \"\"\"\n",
    "    # Extract x and y coordinates\n",
    "    x_coords = vertices[0::2]\n",
    "    y_coords = vertices[1::2]\n",
    "\n",
    "    # Calculate min and max coordinates\n",
    "    minx, maxx = min(x_coords), max(x_coords)\n",
    "    miny, maxy = min(y_coords), max(y_coords)\n",
    "\n",
    "    # Create a figure and axis to display the image\n",
    "    fig, ax = plt.subplots()\n",
    "\n",
    "    # Display the image\n",
    "    ax.imshow(image)\n",
    "\n",
    "    # Create a Rectangle patch\n",
    "    rect = patches.Rectangle((minx, miny), maxx - minx, maxy - miny, linewidth=1, edgecolor='r', facecolor='none')\n",
    "\n",
    "    # Add the patch to the Axes\n",
    "    ax.add_patch(rect)\n",
    "\n",
    "    plt.show()\n",
    "\n",
    "# Example usage\n",
    "# draw_bounding_box_from_vertices(some_image, [20, 22, 8, 22, 8, 10, 20, 10])\n",
    "\n"
   ]
  },
  {
   "cell_type": "code",
   "execution_count": 38,
   "metadata": {},
   "outputs": [
    {
     "data": {
      "image/png": "[encoded data removed]",
      "text/plain": [
       "<Figure size 640x480 with 1 Axes>"
      ]
     },
     "metadata": {},
     "output_type": "display_data"
    }
   ],
   "source": [
    "draw_bounding_box_from_vertices(images[700], coordinates[700])"
   ]
  },
  {
   "cell_type": "code",
   "execution_count": null,
   "metadata": {},
   "outputs": [],
   "source": []
  }
 ],
 "metadata": {
  "kernelspec": {
   "display_name": "ssd",
   "language": "python",
   "name": "python3"
  },
  "language_info": {
   "codemirror_mode": {
    "name": "ipython",
    "version": 3
   },
   "file_extension": ".py",
   "mimetype": "text/x-python",
   "name": "python",
   "nbconvert_exporter": "python",
   "pygments_lexer": "ipython3",
   "version": "3.8.18"
  }
 },
 "nbformat": 4,
 "nbformat_minor": 2
}
