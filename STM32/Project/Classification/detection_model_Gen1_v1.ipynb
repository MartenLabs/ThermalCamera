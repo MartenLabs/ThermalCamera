{
 "cells": [
  {
   "cell_type": "code",
   "execution_count": 1,
   "metadata": {},
   "outputs": [
    {
     "name": "stderr",
     "output_type": "stream",
     "text": [
      "2024-01-03 13:37:41.482610: I tensorflow/core/util/port.cc:110] oneDNN custom operations are on. You may see slightly different numerical results due to floating-point round-off errors from different computation orders. To turn them off, set the environment variable `TF_ENABLE_ONEDNN_OPTS=0`.\n",
      "2024-01-03 13:37:41.523600: I tensorflow/core/platform/cpu_feature_guard.cc:182] This TensorFlow binary is optimized to use available CPU instructions in performance-critical operations.\n",
      "To enable the following instructions: AVX2 AVX512F AVX512_VNNI FMA, in other operations, rebuild TensorFlow with the appropriate compiler flags.\n",
      "2024-01-03 13:37:42.267069: W tensorflow/compiler/tf2tensorrt/utils/py_utils.cc:38] TF-TRT Warning: Could not find TensorRT\n"
     ]
    }
   ],
   "source": [
    "import tensorflow as tf\n",
    "from tensorflow import keras \n",
    "# from skimage import color\n",
    "import numpy as np\n",
    "import matplotlib.pyplot as plt\n",
    "import seaborn as sns\n",
    "import warnings \n",
    "from IPython.display import Image\n",
    "\n",
    "warnings.filterwarnings('ignore')\n",
    "%matplotlib inline"
   ]
  },
  {
   "cell_type": "code",
   "execution_count": 2,
   "metadata": {},
   "outputs": [
    {
     "name": "stdout",
     "output_type": "stream",
     "text": [
      "(13276, 24, 32)\n",
      "(13276, 24, 32)\n",
      "(13276,)\n",
      "(13276, 4, 8)\n"
     ]
    }
   ],
   "source": [
    "dataset1_origin = np.load('npz/dataset1_origin.npz', allow_pickle=True)\n",
    "dataset1_horizon = np.load('npz/dataset1_horizon.npz', allow_pickle=True)\n",
    "dataset1_vertical = np.load('npz/dataset1_vertical.npz', allow_pickle=True)\n",
    "dataset1_vh = np.load('npz/dataset1_vh.npz', allow_pickle=True)\n",
    "dataset2_origin = np.load('npz/dataset2_origin.npz', allow_pickle=True)\n",
    "dataset2_horizon = np.load('npz/dataset2_horizon.npz', allow_pickle=True)\n",
    "dataset2_vertical = np.load('npz/dataset2_vertical.npz', allow_pickle=True)\n",
    "dataset2_vh = np.load('npz/dataset2_vh.npz', allow_pickle=True)\n",
    "\n",
    "d1o_origin_images, d1o_target_images, d1o_number_labels, d1o_coordinates = dataset1_origin['images'], dataset1_origin['filters'], dataset1_origin['numbers'],  dataset1_origin['coordinates']\n",
    "d1h_origin_images, d1h_target_images, d1h_number_labels, d1h_coordinates = dataset1_horizon['images'], dataset1_horizon['filters'], dataset1_horizon['numbers'],  dataset1_horizon['coordinates']\n",
    "d1v_origin_images, d1v_target_images, d1v_number_labels, d1v_coordinates = dataset1_vertical['images'], dataset1_vertical['filters'], dataset1_vertical['numbers'],  dataset1_vertical['coordinates']\n",
    "d1vh_origin_images, d1vh_target_images, d1vh_number_labels, d1vh_coordinates = dataset1_vh['images'], dataset1_vh['filters'], dataset1_vh['numbers'],  dataset1_vh['coordinates']\n",
    "d2o_origin_images, d2o_target_images, d2o_number_labels, d2o_coordinates = dataset2_origin['images'], dataset2_origin['filters'], dataset2_origin['numbers'],  dataset2_origin['coordinates']\n",
    "d2h_origin_images, d2h_target_images, d2h_number_labels, d2h_coordinates = dataset2_horizon['images'], dataset2_horizon['filters'], dataset2_horizon['numbers'],  dataset2_horizon['coordinates']\n",
    "d2v_origin_images, d2v_target_images, d2v_number_labels, d2v_coordinates = dataset2_vertical['images'], dataset2_vertical['filters'], dataset2_vertical['numbers'],  dataset2_vertical['coordinates']\n",
    "d2vh_origin_images, d2vh_target_images, d2vh_number_labels, d2vh_coordinates = dataset2_vh['images'], dataset2_vh['filters'], dataset2_vh['numbers'],  dataset2_vh['coordinates']\n",
    "\n",
    "origin_images = np.concatenate([d1o_origin_images, d2o_origin_images, d1h_origin_images, d2h_origin_images, d1v_origin_images, d2v_origin_images, d1vh_origin_images, d2vh_origin_images], axis = 0)\n",
    "target_images = np.concatenate([d1o_target_images, d2o_target_images, d1h_target_images, d2h_target_images, d1v_target_images, d2v_target_images, d1vh_target_images, d2vh_target_images], axis = 0)\n",
    "numbers_labels = np.concatenate([d1o_number_labels, d2o_number_labels, d1h_number_labels, d2h_number_labels, d1v_number_labels, d2v_number_labels, d1vh_number_labels, d2vh_number_labels], axis = 0)\n",
    "coordinates = np.concatenate([d1o_coordinates, d2o_coordinates, d1h_coordinates, d2h_coordinates, d1v_coordinates, d2v_coordinates, d1vh_coordinates, d2vh_coordinates], axis = 0)\n",
    "\n",
    "print(origin_images.shape)\n",
    "print(target_images.shape)\n",
    "print(numbers_labels.shape)\n",
    "print(coordinates.shape)\n"
   ]
  },
  {
   "cell_type": "code",
   "execution_count": 3,
   "metadata": {},
   "outputs": [
    {
     "name": "stdout",
     "output_type": "stream",
     "text": [
      "(13276, 24, 32, 1)\n",
      "(13276, 24, 32, 1)\n"
     ]
    }
   ],
   "source": [
    "origin_images = origin_images.reshape(13276, 24, 32, 1)\n",
    "target_images = target_images.reshape(13276, 24, 32, 1)\n",
    "print(origin_images.shape)\n",
    "print(target_images.shape)"
   ]
  },
  {
   "cell_type": "code",
   "execution_count": 4,
   "metadata": {},
   "outputs": [
    {
     "name": "stdout",
     "output_type": "stream",
     "text": [
      "255 0\n",
      "255 0\n",
      "1.0 0.0\n",
      "1.0 0.0\n",
      "(13276, 24, 32, 1)\n",
      "(13276, 24, 32, 1)\n"
     ]
    }
   ],
   "source": [
    "print(origin_images.max(), origin_images.min())\n",
    "print(target_images.max(), target_images.min())\n",
    "\n",
    "origin_images = origin_images / origin_images.max()\n",
    "target_images = target_images / target_images.max()\n",
    "\n",
    "print(origin_images.max(), origin_images.min())\n",
    "print(target_images.max(), target_images.min())\n",
    "\n",
    "print(origin_images.shape)\n",
    "print(target_images.shape)"
   ]
  },
  {
   "cell_type": "code",
   "execution_count": 5,
   "metadata": {},
   "outputs": [],
   "source": [
    "shuffle_indices = np.random.permutation(origin_images.shape[0])\n",
    "origin_images_shuffled = origin_images[shuffle_indices]\n",
    "target_images_shuffled = target_images[shuffle_indices]\n",
    "numbers_labels_shuffled = numbers_labels[shuffle_indices]\n",
    "coordinates_shuffled = coordinates[shuffle_indices]\n"
   ]
  },
  {
   "cell_type": "code",
   "execution_count": 6,
   "metadata": {},
   "outputs": [
    {
     "name": "stdout",
     "output_type": "stream",
     "text": [
      "(13276, 5)\n"
     ]
    }
   ],
   "source": [
    "# norm_location = normalize_coordinates(coordinates)\n",
    "# print(norm_location.shape)\n",
    "\n",
    "from keras.utils import to_categorical\n",
    "\n",
    "number_labels_shuffled = to_categorical(numbers_labels_shuffled, num_classes=5)\n",
    "print(number_labels_shuffled.shape)"
   ]
  },
  {
   "cell_type": "code",
   "execution_count": 7,
   "metadata": {},
   "outputs": [
    {
     "data": {
      "image/png": "[encoded data removed]",
      "text/plain": [
       "<Figure size 640x480 with 1 Axes>"
      ]
     },
     "metadata": {},
     "output_type": "display_data"
    },
    {
     "name": "stdout",
     "output_type": "stream",
     "text": [
      "3\n",
      "[0. 0. 0. 1. 0.]\n"
     ]
    },
    {
     "data": {
      "image/png": "[encoded data removed]",
      "text/plain": [
       "<Figure size 640x480 with 1 Axes>"
      ]
     },
     "metadata": {},
     "output_type": "display_data"
    },
    {
     "name": "stdout",
     "output_type": "stream",
     "text": [
      "1\n",
      "[0. 1. 0. 0. 0.]\n"
     ]
    },
    {
     "data": {
      "image/png": "[encoded data removed]",
      "text/plain": [
       "<Figure size 640x480 with 1 Axes>"
      ]
     },
     "metadata": {},
     "output_type": "display_data"
    },
    {
     "name": "stdout",
     "output_type": "stream",
     "text": [
      "2\n",
      "[0. 0. 1. 0. 0.]\n"
     ]
    },
    {
     "data": {
      "image/png": "[encoded data removed]",
      "text/plain": [
       "<Figure size 640x480 with 1 Axes>"
      ]
     },
     "metadata": {},
     "output_type": "display_data"
    },
    {
     "name": "stdout",
     "output_type": "stream",
     "text": [
      "1\n",
      "[0. 1. 0. 0. 0.]\n"
     ]
    },
    {
     "data": {
      "image/png": "[encoded data removed]",
      "text/plain": [
       "<Figure size 640x480 with 1 Axes>"
      ]
     },
     "metadata": {},
     "output_type": "display_data"
    },
    {
     "name": "stdout",
     "output_type": "stream",
     "text": [
      "2\n",
      "[0. 0. 1. 0. 0.]\n"
     ]
    },
    {
     "data": {
      "image/png": "[encoded data removed]",
      "text/plain": [
       "<Figure size 640x480 with 1 Axes>"
      ]
     },
     "metadata": {},
     "output_type": "display_data"
    },
    {
     "name": "stdout",
     "output_type": "stream",
     "text": [
      "2\n",
      "[0. 0. 1. 0. 0.]\n"
     ]
    },
    {
     "data": {
      "image/png": "[encoded data removed]",
      "text/plain": [
       "<Figure size 640x480 with 1 Axes>"
      ]
     },
     "metadata": {},
     "output_type": "display_data"
    },
    {
     "name": "stdout",
     "output_type": "stream",
     "text": [
      "2\n",
      "[0. 0. 1. 0. 0.]\n"
     ]
    },
    {
     "data": {
      "image/png": "[encoded data removed]",
      "text/plain": [
       "<Figure size 640x480 with 1 Axes>"
      ]
     },
     "metadata": {},
     "output_type": "display_data"
    },
    {
     "name": "stdout",
     "output_type": "stream",
     "text": [
      "2\n",
      "[0. 0. 1. 0. 0.]\n"
     ]
    },
    {
     "data": {
      "image/png": "[encoded data removed]",
      "text/plain": [
       "<Figure size 640x480 with 1 Axes>"
      ]
     },
     "metadata": {},
     "output_type": "display_data"
    },
    {
     "name": "stdout",
     "output_type": "stream",
     "text": [
      "2\n",
      "[0. 0. 1. 0. 0.]\n"
     ]
    },
    {
     "data": {
      "image/png": "[encoded data removed]",
      "text/plain": [
       "<Figure size 640x480 with 1 Axes>"
      ]
     },
     "metadata": {},
     "output_type": "display_data"
    },
    {
     "name": "stdout",
     "output_type": "stream",
     "text": [
      "2\n",
      "[0. 0. 1. 0. 0.]\n"
     ]
    }
   ],
   "source": [
    "for i in range(1000, 1010):\n",
    "    plt.imshow(origin_images_shuffled[i])\n",
    "    plt.show()\n",
    "    print(numbers_labels_shuffled[i])\n",
    "    print(number_labels_shuffled[i])\n"
   ]
  },
  {
   "cell_type": "code",
   "execution_count": 8,
   "metadata": {},
   "outputs": [
    {
     "name": "stdout",
     "output_type": "stream",
     "text": [
      "[[0. 0. 0. 1. 0.]\n",
      " [0. 1. 0. 0. 0.]\n",
      " [0. 0. 1. 0. 0.]\n",
      " [0. 1. 0. 0. 0.]\n",
      " [0. 0. 1. 0. 0.]\n",
      " [0. 0. 1. 0. 0.]\n",
      " [0. 0. 1. 0. 0.]\n",
      " [0. 0. 1. 0. 0.]\n",
      " [0. 0. 1. 0. 0.]\n",
      " [0. 0. 1. 0. 0.]]\n"
     ]
    }
   ],
   "source": [
    "print(number_labels_shuffled[1000:1010])"
   ]
  },
  {
   "cell_type": "markdown",
   "metadata": {},
   "source": [
    "InputLayer \t\t\t(None, 24, 32, 1)\n",
    "UpSampling2D\t\t(None, 72, 96, 1)\n",
    "\n",
    "----------------------block 1---------------------------\n",
    "Conv2D \t\t\t\t(None, 72, 96, 3)\n",
    "BatchNormalization\t(None, 72, 96, 3)\n",
    "ELU\t\t\t\t\t(None, 72, 96, 3)\n",
    "ZeroPadding2D\t\t(None, 73, 97, 3)\n",
    "Conv2D\t\t\t\t(None, 36, 48, 1)\n",
    "BatchNormalization\t(None, 36, 48, 1) \t\tblock_1_project_BN\n",
    "\n",
    "\n",
    "----------------------block 2---------------------------\n",
    "Conv2D\t\t\t\t(None, 36, 48, 3)\n",
    "BatchNormalization\t(None, 36, 48, 3)\n",
    "ELU\t\t\t\t\t(None, 36, 48, 3)\n",
    "Conv2D\t\t\t\t(None, 36, 48, 1)\n",
    "BatchNormalization\t(None, 36, 48, 1)\t\tblock_2_project_BN\n",
    "Add\t(OutPut-1)\t\t(None, 36, 48, 1)\t\tblock_1_project_BN + block_2_project_BN \n",
    "\n",
    "\n",
    "----------------------block 3---------------------------\n",
    "Conv2D\t\t\t\t(None, 36, 48, 3)\n",
    "BatchNormalization\t(None, 36, 48, 3)\n",
    "ELU\t\t\t\t\t(None, 36, 48, 3)\n",
    "ZeroPadding2D\t\t(None, 37, 49, 3)\n",
    "Conv2D\t\t\t\t(None, 18, 24, 1)\n",
    "BatchNormalization\t(None, 18, 24, 1)\t\tblock_3_project_BN\n",
    "\n",
    "\n",
    "----------------------block 4---------------------------\n",
    "Conv2D\t\t\t\t(None, 18, 24, 3)\n",
    "BatchNormalization\t(None, 18, 24, 3)\n",
    "ELU\t\t\t\t\t(None, 18, 24, 3)\n",
    "Conv2D\t\t\t\t(None, 18, 24, 1)\n",
    "BatchNormalization\t(None, 18, 24, 1)\t\tblock_4_project_BN\n",
    "Add\t(OutPut-2)\t\t(None, 18, 24, 1)\t\tblock_3_project_BN + block_4_project_BN \n",
    "\n",
    "\n",
    "----------------------block 5---------------------------\n",
    "Conv2D\t\t\t\t(None, 18, 24, 3)\n",
    "BatchNormalization\t(None, 18, 24, 3)\n",
    "ELU\t\t\t\t\t(None, 18, 24, 3)\n",
    "ZeroPadding2D\t\t(None, 19, 25, 3)\n",
    "Conv2D\t\t\t\t(None, 9, 12, 1)\n",
    "BatchNormalization\t(None, 9, 12, 1)\t\tblock_5_project_BN\n"
   ]
  },
  {
   "cell_type": "code",
   "execution_count": 9,
   "metadata": {},
   "outputs": [],
   "source": [
    "import tensorflow as tf\n",
    "from tensorflow import keras \n",
    "import numpy as np\n",
    "import matplotlib.pyplot as plt\n",
    "import seaborn as sns\n",
    "import warnings \n",
    "from IPython.display import Image\n",
    "\n",
    "warnings.filterwarnings('ignore')\n",
    "from keras.layers import Dense, Input, MaxPool2D, Conv2D, Conv2DTranspose, Flatten, Reshape, Activation\n",
    "from keras.layers import BatchNormalization, Dropout, Activation, concatenate, ZeroPadding2D\n",
    "from keras.models import Model\n",
    "from keras.layers import Concatenate, MaxPooling2D\n",
    "from keras.models import Model\n",
    "from keras.layers import Multiply\n",
    "from keras.layers import MultiHeadAttention\n",
    "\n",
    "\n",
    "from tensorflow.keras.layers import DepthwiseConv2D, Conv2D, UpSampling2D, GlobalAveragePooling2D\n",
    "\n",
    "from keras.layers import ZeroPadding2D\n",
    "from keras.regularizers import l2\n",
    "from keras.metrics import Precision, Recall\n",
    "from keras.layers import Conv2D, MaxPooling2D, concatenate, Add\n",
    "\n",
    "\n",
    "class BackBone:\n",
    "    def __init__(self):\n",
    "        self.l2_regularizer = l2(0.001)\n",
    "\n",
    "    def residual_layer(self, feature_map, latent, name:str):\n",
    "        add_layer = Add(name = name+'_output')([feature_map, latent])\n",
    "        return add_layer\n",
    "\n",
    "    def feature_extraction_block(self, feature_map, name:str):\n",
    "        feature_map = Conv2D(filters=3, kernel_size = 5, strides = 1, padding = 'same', \n",
    "                        kernel_regularizer=self.l2_regularizer,\n",
    "                        name = name)(feature_map)\n",
    "        feature_map = BatchNormalization()(feature_map)\n",
    "        feature_map = Activation('ELU')(feature_map)\n",
    "        feature_map = Dropout(0.2)(feature_map)\n",
    "\n",
    "        feature_map = ZeroPadding2D(padding=((0, 1), (0, 1)), name=name+'_pad')(feature_map)\n",
    "        feature_map = Conv2D(filters=2, kernel_size = 3, strides = 2, padding = 'valid', \n",
    "                        kernel_regularizer=self.l2_regularizer,\n",
    "                        name = name+'_2')(feature_map)\n",
    "        feature_map = BatchNormalization()(feature_map)\n",
    "        return feature_map\n",
    "\n",
    "    def convolutional_residual_block(self, feature_map, name:str):\n",
    "        latent = Conv2D(filters=3, kernel_size = 3, strides = 1, padding = 'same', \n",
    "                        kernel_regularizer=self.l2_regularizer,\n",
    "                        name = name)(feature_map)\n",
    "        latent =  BatchNormalization()(latent)\n",
    "        latent = Activation('ELU')(latent)\n",
    "        feature_map = Dropout(0.2)(feature_map)\n",
    "\n",
    "        latent = Conv2D(filters=1, kernel_size = 3, strides = 1, padding = 'same', \n",
    "                        kernel_regularizer=self.l2_regularizer,\n",
    "                        name = name+'_2')(latent)\n",
    "        \n",
    "        latent = BatchNormalization()(latent)\n",
    "        feature_map = Dropout(0.2)(feature_map)\n",
    "        residual_block = self.residual_layer(feature_map, latent, name)\n",
    "        return residual_block\n",
    "\n",
    "\n",
    "    def __call__(self, input_shape=(24, 32, 1)):\n",
    "        inputs_image = Input(shape=input_shape)\n",
    "        upsample_layer = UpSampling2D(size=(3, 3))(inputs_image)\n",
    "        block_1 = self.feature_extraction_block(upsample_layer, 'block_1')\n",
    "        block_1_output = self.convolutional_residual_block(block_1, 'block_2')\n",
    "        block_2 = self.feature_extraction_block(block_1_output, 'block_3')\n",
    "        block_2_output = self.convolutional_residual_block(block_2, 'block_4')\n",
    "        block_3_output = self.feature_extraction_block(block_2_output, 'block_5')\n",
    "\n",
    "        latent = Flatten()(block_3_output)\n",
    "        latent = Dense(128, activation='ReLU', dtype='float32')(latent)\n",
    "        latent = Dropout(0.2)(latent)\n",
    "        # latent = Dense(32, activation='ReLU', dtype='float32')(latent)\n",
    "        # latent = Dropout(0.2)(latent)\n",
    "        number_output = Dense(5, activation='softmax', name='number_output', dtype='float32')(latent)\n",
    "\n",
    "        model = Model(inputs_image, number_output)\n",
    "        return model"
   ]
  },
  {
   "cell_type": "code",
   "execution_count": 10,
   "metadata": {},
   "outputs": [
    {
     "name": "stderr",
     "output_type": "stream",
     "text": [
      "2024-01-03 13:37:50.234494: I tensorflow/core/common_runtime/gpu/gpu_device.cc:1639] Created device /job:localhost/replica:0/task:0/device:GPU:0 with 22292 MB memory:  -> device: 0, name: NVIDIA GeForce RTX 3090, pci bus id: 0000:1d:00.0, compute capability: 8.6\n",
      "2024-01-03 13:37:50.239145: I tensorflow/core/common_runtime/gpu/gpu_device.cc:1639] Created device /job:localhost/replica:0/task:0/device:GPU:1 with 22292 MB memory:  -> device: 1, name: NVIDIA GeForce RTX 3090, pci bus id: 0000:1f:00.0, compute capability: 8.6\n",
      "2024-01-03 13:37:50.240777: I tensorflow/core/common_runtime/gpu/gpu_device.cc:1639] Created device /job:localhost/replica:0/task:0/device:GPU:2 with 22292 MB memory:  -> device: 2, name: NVIDIA GeForce RTX 3090, pci bus id: 0000:20:00.0, compute capability: 8.6\n",
      "2024-01-03 13:37:50.242794: I tensorflow/core/common_runtime/gpu/gpu_device.cc:1639] Created device /job:localhost/replica:0/task:0/device:GPU:3 with 22292 MB memory:  -> device: 3, name: NVIDIA GeForce RTX 3090, pci bus id: 0000:21:00.0, compute capability: 8.6\n",
      "2024-01-03 13:37:50.245893: I tensorflow/core/common_runtime/gpu/gpu_device.cc:1639] Created device /job:localhost/replica:0/task:0/device:GPU:4 with 22292 MB memory:  -> device: 4, name: NVIDIA GeForce RTX 3090, pci bus id: 0000:22:00.0, compute capability: 8.6\n",
      "2024-01-03 13:37:50.247476: I tensorflow/core/common_runtime/gpu/gpu_device.cc:1639] Created device /job:localhost/replica:0/task:0/device:GPU:5 with 22292 MB memory:  -> device: 5, name: NVIDIA GeForce RTX 3090, pci bus id: 0000:23:00.0, compute capability: 8.6\n",
      "2024-01-03 13:37:50.249058: I tensorflow/core/common_runtime/gpu/gpu_device.cc:1639] Created device /job:localhost/replica:0/task:0/device:GPU:6 with 22292 MB memory:  -> device: 6, name: NVIDIA GeForce RTX 3090, pci bus id: 0000:24:00.0, compute capability: 8.6\n"
     ]
    },
    {
     "name": "stdout",
     "output_type": "stream",
     "text": [
      "Model: \"model\"\n",
      "__________________________________________________________________________________________________\n",
      " Layer (type)                Output Shape                 Param #   Connected to                  \n",
      "==================================================================================================\n",
      " input_1 (InputLayer)        [(None, 24, 32, 1)]          0         []                            \n",
      "                                                                                                  \n",
      " up_sampling2d (UpSampling2  (None, 72, 96, 1)            0         ['input_1[0][0]']             \n",
      " D)                                                                                               \n",
      "                                                                                                  \n",
      " block_1 (Conv2D)            (None, 72, 96, 3)            78        ['up_sampling2d[0][0]']       \n",
      "                                                                                                  \n",
      " batch_normalization (Batch  (None, 72, 96, 3)            12        ['block_1[0][0]']             \n",
      " Normalization)                                                                                   \n",
      "                                                                                                  \n",
      " activation (Activation)     (None, 72, 96, 3)            0         ['batch_normalization[0][0]'] \n",
      "                                                                                                  \n",
      " dropout (Dropout)           (None, 72, 96, 3)            0         ['activation[0][0]']          \n",
      "                                                                                                  \n",
      " block_1_pad (ZeroPadding2D  (None, 73, 97, 3)            0         ['dropout[0][0]']             \n",
      " )                                                                                                \n",
      "                                                                                                  \n",
      " block_1_2 (Conv2D)          (None, 36, 48, 2)            56        ['block_1_pad[0][0]']         \n",
      "                                                                                                  \n",
      " batch_normalization_1 (Bat  (None, 36, 48, 2)            8         ['block_1_2[0][0]']           \n",
      " chNormalization)                                                                                 \n",
      "                                                                                                  \n",
      " block_2 (Conv2D)            (None, 36, 48, 3)            57        ['batch_normalization_1[0][0]'\n",
      "                                                                    ]                             \n",
      "                                                                                                  \n",
      " batch_normalization_2 (Bat  (None, 36, 48, 3)            12        ['block_2[0][0]']             \n",
      " chNormalization)                                                                                 \n",
      "                                                                                                  \n",
      " activation_1 (Activation)   (None, 36, 48, 3)            0         ['batch_normalization_2[0][0]'\n",
      "                                                                    ]                             \n",
      "                                                                                                  \n",
      " dropout_1 (Dropout)         (None, 36, 48, 2)            0         ['batch_normalization_1[0][0]'\n",
      "                                                                    ]                             \n",
      "                                                                                                  \n",
      " block_2_2 (Conv2D)          (None, 36, 48, 1)            28        ['activation_1[0][0]']        \n",
      "                                                                                                  \n",
      " dropout_2 (Dropout)         (None, 36, 48, 2)            0         ['dropout_1[0][0]']           \n",
      "                                                                                                  \n",
      " batch_normalization_3 (Bat  (None, 36, 48, 1)            4         ['block_2_2[0][0]']           \n",
      " chNormalization)                                                                                 \n",
      "                                                                                                  \n",
      " block_2_output (Add)        (None, 36, 48, 2)            0         ['dropout_2[0][0]',           \n",
      "                                                                     'batch_normalization_3[0][0]'\n",
      "                                                                    ]                             \n",
      "                                                                                                  \n",
      " block_3 (Conv2D)            (None, 36, 48, 3)            153       ['block_2_output[0][0]']      \n",
      "                                                                                                  \n",
      " batch_normalization_4 (Bat  (None, 36, 48, 3)            12        ['block_3[0][0]']             \n",
      " chNormalization)                                                                                 \n",
      "                                                                                                  \n",
      " activation_2 (Activation)   (None, 36, 48, 3)            0         ['batch_normalization_4[0][0]'\n",
      "                                                                    ]                             \n",
      "                                                                                                  \n",
      " dropout_3 (Dropout)         (None, 36, 48, 3)            0         ['activation_2[0][0]']        \n",
      "                                                                                                  \n",
      " block_3_pad (ZeroPadding2D  (None, 37, 49, 3)            0         ['dropout_3[0][0]']           \n",
      " )                                                                                                \n",
      "                                                                                                  \n",
      " block_3_2 (Conv2D)          (None, 18, 24, 2)            56        ['block_3_pad[0][0]']         \n",
      "                                                                                                  \n",
      " batch_normalization_5 (Bat  (None, 18, 24, 2)            8         ['block_3_2[0][0]']           \n",
      " chNormalization)                                                                                 \n",
      "                                                                                                  \n",
      " block_4 (Conv2D)            (None, 18, 24, 3)            57        ['batch_normalization_5[0][0]'\n",
      "                                                                    ]                             \n",
      "                                                                                                  \n",
      " batch_normalization_6 (Bat  (None, 18, 24, 3)            12        ['block_4[0][0]']             \n",
      " chNormalization)                                                                                 \n",
      "                                                                                                  \n",
      " activation_3 (Activation)   (None, 18, 24, 3)            0         ['batch_normalization_6[0][0]'\n",
      "                                                                    ]                             \n",
      "                                                                                                  \n",
      " dropout_4 (Dropout)         (None, 18, 24, 2)            0         ['batch_normalization_5[0][0]'\n",
      "                                                                    ]                             \n",
      "                                                                                                  \n",
      " block_4_2 (Conv2D)          (None, 18, 24, 1)            28        ['activation_3[0][0]']        \n",
      "                                                                                                  \n",
      " dropout_5 (Dropout)         (None, 18, 24, 2)            0         ['dropout_4[0][0]']           \n",
      "                                                                                                  \n",
      " batch_normalization_7 (Bat  (None, 18, 24, 1)            4         ['block_4_2[0][0]']           \n",
      " chNormalization)                                                                                 \n",
      "                                                                                                  \n",
      " block_4_output (Add)        (None, 18, 24, 2)            0         ['dropout_5[0][0]',           \n",
      "                                                                     'batch_normalization_7[0][0]'\n",
      "                                                                    ]                             \n",
      "                                                                                                  \n",
      " block_5 (Conv2D)            (None, 18, 24, 3)            153       ['block_4_output[0][0]']      \n",
      "                                                                                                  \n",
      " batch_normalization_8 (Bat  (None, 18, 24, 3)            12        ['block_5[0][0]']             \n",
      " chNormalization)                                                                                 \n",
      "                                                                                                  \n",
      " activation_4 (Activation)   (None, 18, 24, 3)            0         ['batch_normalization_8[0][0]'\n",
      "                                                                    ]                             \n",
      "                                                                                                  \n",
      " dropout_6 (Dropout)         (None, 18, 24, 3)            0         ['activation_4[0][0]']        \n",
      "                                                                                                  \n",
      " block_5_pad (ZeroPadding2D  (None, 19, 25, 3)            0         ['dropout_6[0][0]']           \n",
      " )                                                                                                \n",
      "                                                                                                  \n",
      " block_5_2 (Conv2D)          (None, 9, 12, 2)             56        ['block_5_pad[0][0]']         \n",
      "                                                                                                  \n",
      " batch_normalization_9 (Bat  (None, 9, 12, 2)             8         ['block_5_2[0][0]']           \n",
      " chNormalization)                                                                                 \n",
      "                                                                                                  \n",
      " flatten (Flatten)           (None, 216)                  0         ['batch_normalization_9[0][0]'\n",
      "                                                                    ]                             \n",
      "                                                                                                  \n",
      " dense (Dense)               (None, 128)                  27776     ['flatten[0][0]']             \n",
      "                                                                                                  \n",
      " dropout_7 (Dropout)         (None, 128)                  0         ['dense[0][0]']               \n",
      "                                                                                                  \n",
      " number_output (Dense)       (None, 5)                    645       ['dropout_7[0][0]']           \n",
      "                                                                                                  \n",
      "==================================================================================================\n",
      "Total params: 29235 (114.20 KB)\n",
      "Trainable params: 29189 (114.02 KB)\n",
      "Non-trainable params: 46 (184.00 Byte)\n",
      "__________________________________________________________________________________________________\n"
     ]
    }
   ],
   "source": [
    "import tensorflow as tf\n",
    "from keras.callbacks import ModelCheckpoint\n",
    "\n",
    "# strategy = tf.distribute.MirroredStrategy()\n",
    "\n",
    "# with strategy.scope():\n",
    "#     backbone = BackBone()\n",
    "#     model = backbone()\n",
    "#     model.compile(optimizer='adam', loss=['categorical_crossentropy'], metrics=['accuracy', Precision(), Recall()])\n",
    "#     checkpoint = ModelCheckpoint('v4_backbone_1_best_model.h5', monitor='val_accuracy', verbose=1, save_best_only=True, mode='max')\n",
    "\n",
    "backbone = BackBone()\n",
    "model = backbone()\n",
    "\n",
    "initial_learning_rate = 0.001\n",
    "lr_schedule = tf.keras.optimizers.schedules.ExponentialDecay(\n",
    "    initial_learning_rate,\n",
    "    decay_steps=1000,\n",
    "    decay_rate=0.96,\n",
    "    staircase=True)\n",
    "\n",
    "lr_reducer = tf.keras.callbacks.ReduceLROnPlateau(\n",
    "    monitor='val_loss',\n",
    "    factor=0.1,\n",
    "    patience=3,\n",
    "    min_lr=1e-6,\n",
    "    verbose=1)\n",
    "\n",
    "\n",
    "optimizer = tf.keras.optimizers.Adam(learning_rate=lr_schedule)\n",
    "model.compile(optimizer=optimizer, loss=['categorical_crossentropy'], metrics=['accuracy', Precision(), Recall()])\n",
    "\n",
    "# model.compile(optimizer='Adam', loss=['categorical_crossentropy'], metrics=['accuracy', Precision(), Recall()])\n",
    "checkpoint = ModelCheckpoint('v4_backbone_1_best_model.h5', monitor='val_accuracy', verbose=1, save_best_only=True, mode='max')\n",
    "\n",
    "model.summary()\n"
   ]
  },
  {
   "cell_type": "code",
   "execution_count": 11,
   "metadata": {},
   "outputs": [
    {
     "name": "stdout",
     "output_type": "stream",
     "text": [
      "Epoch 1/20\n"
     ]
    },
    {
     "name": "stderr",
     "output_type": "stream",
     "text": [
      "2024-01-03 13:37:53.132831: E tensorflow/core/grappler/optimizers/meta_optimizer.cc:954] layout failed: INVALID_ARGUMENT: Size of values 0 does not match size of permutation 4 @ fanin shape inmodel/dropout/dropout/SelectV2-2-TransposeNHWCToNCHW-LayoutOptimizer\n",
      "2024-01-03 13:37:54.421928: I tensorflow/compiler/xla/stream_executor/cuda/cuda_dnn.cc:432] Loaded cuDNN version 8905\n",
      "2024-01-03 13:37:55.187272: I tensorflow/compiler/xla/stream_executor/cuda/cuda_blas.cc:606] TensorFloat-32 will be used for the matrix multiplication. This will only be logged once.\n",
      "2024-01-03 13:37:55.191899: I tensorflow/compiler/xla/service/service.cc:168] XLA service 0x58153500 initialized for platform CUDA (this does not guarantee that XLA will be used). Devices:\n",
      "2024-01-03 13:37:55.191952: I tensorflow/compiler/xla/service/service.cc:176]   StreamExecutor device (0): NVIDIA GeForce RTX 3090, Compute Capability 8.6\n",
      "2024-01-03 13:37:55.191965: I tensorflow/compiler/xla/service/service.cc:176]   StreamExecutor device (1): NVIDIA GeForce RTX 3090, Compute Capability 8.6\n",
      "2024-01-03 13:37:55.191976: I tensorflow/compiler/xla/service/service.cc:176]   StreamExecutor device (2): NVIDIA GeForce RTX 3090, Compute Capability 8.6\n",
      "2024-01-03 13:37:55.191990: I tensorflow/compiler/xla/service/service.cc:176]   StreamExecutor device (3): NVIDIA GeForce RTX 3090, Compute Capability 8.6\n",
      "2024-01-03 13:37:55.192000: I tensorflow/compiler/xla/service/service.cc:176]   StreamExecutor device (4): NVIDIA GeForce RTX 3090, Compute Capability 8.6\n",
      "2024-01-03 13:37:55.192012: I tensorflow/compiler/xla/service/service.cc:176]   StreamExecutor device (5): NVIDIA GeForce RTX 3090, Compute Capability 8.6\n",
      "2024-01-03 13:37:55.192021: I tensorflow/compiler/xla/service/service.cc:176]   StreamExecutor device (6): NVIDIA GeForce RTX 3090, Compute Capability 8.6\n",
      "2024-01-03 13:37:55.201937: I tensorflow/compiler/mlir/tensorflow/utils/dump_mlir_util.cc:255] disabling MLIR crash reproducer, set env var `MLIR_CRASH_REPRODUCER_DIRECTORY` to enable.\n",
      "2024-01-03 13:37:55.343741: I ./tensorflow/compiler/jit/device_compiler.h:186] Compiled cluster using XLA!  This line is logged at most once for the lifetime of the process.\n"
     ]
    },
    {
     "name": "stdout",
     "output_type": "stream",
     "text": [
      "1162/1162 [==============================] - ETA: 0s - loss: 0.9387 - accuracy: 0.6222 - precision: 0.6715 - recall: 0.5486\n",
      "Epoch 1: val_accuracy improved from -inf to 0.74918, saving model to v4_backbone_1_best_model.h5\n",
      "1162/1162 [==============================] - 30s 19ms/step - loss: 0.9387 - accuracy: 0.6222 - precision: 0.6715 - recall: 0.5486 - val_loss: 0.6162 - val_accuracy: 0.7492 - val_precision: 0.7612 - val_recall: 0.7241\n",
      "Epoch 2/20\n",
      "1159/1162 [============================>.] - ETA: 0s - loss: 0.6421 - accuracy: 0.7299 - precision: 0.7538 - recall: 0.6913\n",
      "Epoch 2: val_accuracy improved from 0.74918 to 0.79739, saving model to v4_backbone_1_best_model.h5\n",
      "1162/1162 [==============================] - 21s 18ms/step - loss: 0.6417 - accuracy: 0.7300 - precision: 0.7538 - recall: 0.6913 - val_loss: 0.5147 - val_accuracy: 0.7974 - val_precision: 0.8120 - val_recall: 0.7841\n",
      "Epoch 3/20\n",
      "1162/1162 [==============================] - ETA: 0s - loss: 0.5521 - accuracy: 0.7776 - precision: 0.7947 - recall: 0.7549\n",
      "Epoch 3: val_accuracy did not improve from 0.79739\n",
      "1162/1162 [==============================] - 20s 18ms/step - loss: 0.5521 - accuracy: 0.7776 - precision: 0.7947 - recall: 0.7549 - val_loss: 0.5217 - val_accuracy: 0.7899 - val_precision: 0.8094 - val_recall: 0.7685\n",
      "Epoch 4/20\n",
      "1160/1162 [============================>.] - ETA: 0s - loss: 0.4689 - accuracy: 0.8186 - precision: 0.8329 - recall: 0.8002\n",
      "Epoch 4: val_accuracy improved from 0.79739 to 0.82902, saving model to v4_backbone_1_best_model.h5\n",
      "1162/1162 [==============================] - 21s 18ms/step - loss: 0.4689 - accuracy: 0.8188 - precision: 0.8330 - recall: 0.8004 - val_loss: 0.4331 - val_accuracy: 0.8290 - val_precision: 0.8470 - val_recall: 0.8132\n",
      "Epoch 5/20\n",
      "1162/1162 [==============================] - ETA: 0s - loss: 0.4348 - accuracy: 0.8298 - precision: 0.8408 - recall: 0.8147\n",
      "Epoch 5: val_accuracy improved from 0.82902 to 0.87597, saving model to v4_backbone_1_best_model.h5\n",
      "1162/1162 [==============================] - 21s 18ms/step - loss: 0.4348 - accuracy: 0.8298 - precision: 0.8408 - recall: 0.8147 - val_loss: 0.3538 - val_accuracy: 0.8760 - val_precision: 0.8890 - val_recall: 0.8609\n",
      "Epoch 6/20\n",
      "1162/1162 [==============================] - ETA: 0s - loss: 0.3930 - accuracy: 0.8539 - precision: 0.8642 - recall: 0.8424\n",
      "Epoch 6: val_accuracy improved from 0.87597 to 0.89053, saving model to v4_backbone_1_best_model.h5\n",
      "1162/1162 [==============================] - 20s 17ms/step - loss: 0.3930 - accuracy: 0.8539 - precision: 0.8642 - recall: 0.8424 - val_loss: 0.3117 - val_accuracy: 0.8905 - val_precision: 0.8988 - val_recall: 0.8787\n",
      "Epoch 7/20\n",
      "1160/1162 [============================>.] - ETA: 0s - loss: 0.3586 - accuracy: 0.8679 - precision: 0.8755 - recall: 0.8597\n",
      "Epoch 7: val_accuracy did not improve from 0.89053\n",
      "1162/1162 [==============================] - 19s 17ms/step - loss: 0.3585 - accuracy: 0.8679 - precision: 0.8755 - recall: 0.8597 - val_loss: 0.2971 - val_accuracy: 0.8883 - val_precision: 0.8926 - val_recall: 0.8822\n",
      "Epoch 8/20\n",
      "1161/1162 [============================>.] - ETA: 0s - loss: 0.3302 - accuracy: 0.8802 - precision: 0.8874 - recall: 0.8728\n",
      "Epoch 8: val_accuracy improved from 0.89053 to 0.89556, saving model to v4_backbone_1_best_model.h5\n",
      "1162/1162 [==============================] - 20s 17ms/step - loss: 0.3303 - accuracy: 0.8802 - precision: 0.8874 - recall: 0.8729 - val_loss: 0.2859 - val_accuracy: 0.8956 - val_precision: 0.9006 - val_recall: 0.8915\n",
      "Epoch 9/20\n",
      "1159/1162 [============================>.] - ETA: 0s - loss: 0.3190 - accuracy: 0.8836 - precision: 0.8889 - recall: 0.8772\n",
      "Epoch 9: val_accuracy improved from 0.89556 to 0.90384, saving model to v4_backbone_1_best_model.h5\n",
      "1162/1162 [==============================] - 20s 17ms/step - loss: 0.3188 - accuracy: 0.8837 - precision: 0.8890 - recall: 0.8772 - val_loss: 0.2743 - val_accuracy: 0.9038 - val_precision: 0.9081 - val_recall: 0.8981\n",
      "Epoch 10/20\n",
      "1162/1162 [==============================] - ETA: 0s - loss: 0.2908 - accuracy: 0.8955 - precision: 0.9007 - recall: 0.8897\n",
      "Epoch 10: val_accuracy improved from 0.90384 to 0.90585, saving model to v4_backbone_1_best_model.h5\n",
      "1162/1162 [==============================] - 20s 17ms/step - loss: 0.2908 - accuracy: 0.8955 - precision: 0.9007 - recall: 0.8897 - val_loss: 0.2759 - val_accuracy: 0.9058 - val_precision: 0.9097 - val_recall: 0.9001\n",
      "Epoch 11/20\n",
      "1160/1162 [============================>.] - ETA: 0s - loss: 0.2728 - accuracy: 0.9000 - precision: 0.9052 - recall: 0.8949\n",
      "Epoch 11: val_accuracy improved from 0.90585 to 0.92242, saving model to v4_backbone_1_best_model.h5\n",
      "1162/1162 [==============================] - 20s 17ms/step - loss: 0.2727 - accuracy: 0.9000 - precision: 0.9053 - recall: 0.8950 - val_loss: 0.2414 - val_accuracy: 0.9224 - val_precision: 0.9265 - val_recall: 0.9174\n",
      "Epoch 12/20\n",
      "1159/1162 [============================>.] - ETA: 0s - loss: 0.2688 - accuracy: 0.9050 - precision: 0.9092 - recall: 0.8996\n",
      "Epoch 12: val_accuracy did not improve from 0.92242\n",
      "1162/1162 [==============================] - 20s 17ms/step - loss: 0.2687 - accuracy: 0.9051 - precision: 0.9093 - recall: 0.8997 - val_loss: 0.2491 - val_accuracy: 0.9116 - val_precision: 0.9173 - val_recall: 0.9079\n",
      "Epoch 13/20\n",
      "1160/1162 [============================>.] - ETA: 0s - loss: 0.2465 - accuracy: 0.9148 - precision: 0.9186 - recall: 0.9098\n",
      "Epoch 13: val_accuracy did not improve from 0.92242\n",
      "1162/1162 [==============================] - 20s 17ms/step - loss: 0.2468 - accuracy: 0.9148 - precision: 0.9186 - recall: 0.9098 - val_loss: 0.2521 - val_accuracy: 0.9124 - val_precision: 0.9173 - val_recall: 0.9056\n",
      "Epoch 14/20\n",
      "1162/1162 [==============================] - ETA: 0s - loss: 0.2375 - accuracy: 0.9195 - precision: 0.9229 - recall: 0.9150\n",
      "Epoch 14: val_accuracy did not improve from 0.92242\n",
      "1162/1162 [==============================] - 20s 18ms/step - loss: 0.2375 - accuracy: 0.9195 - precision: 0.9229 - recall: 0.9150 - val_loss: 0.2376 - val_accuracy: 0.9224 - val_precision: 0.9271 - val_recall: 0.9189\n",
      "Epoch 15/20\n",
      "1159/1162 [============================>.] - ETA: 0s - loss: 0.2289 - accuracy: 0.9229 - precision: 0.9260 - recall: 0.9186\n",
      "Epoch 15: val_accuracy improved from 0.92242 to 0.92995, saving model to v4_backbone_1_best_model.h5\n",
      "1162/1162 [==============================] - 20s 17ms/step - loss: 0.2286 - accuracy: 0.9230 - precision: 0.9260 - recall: 0.9186 - val_loss: 0.2200 - val_accuracy: 0.9300 - val_precision: 0.9323 - val_recall: 0.9259\n",
      "Epoch 16/20\n",
      "1160/1162 [============================>.] - ETA: 0s - loss: 0.2227 - accuracy: 0.9209 - precision: 0.9248 - recall: 0.9177\n",
      "Epoch 16: val_accuracy did not improve from 0.92995\n",
      "1162/1162 [==============================] - 20s 17ms/step - loss: 0.2231 - accuracy: 0.9208 - precision: 0.9247 - recall: 0.9176 - val_loss: 0.2219 - val_accuracy: 0.9259 - val_precision: 0.9293 - val_recall: 0.9242\n",
      "Epoch 17/20\n",
      "1159/1162 [============================>.] - ETA: 0s - loss: 0.2092 - accuracy: 0.9272 - precision: 0.9300 - recall: 0.9235\n",
      "Epoch 17: val_accuracy did not improve from 0.92995\n",
      "1162/1162 [==============================] - 20s 17ms/step - loss: 0.2091 - accuracy: 0.9273 - precision: 0.9300 - recall: 0.9236 - val_loss: 0.2507 - val_accuracy: 0.9207 - val_precision: 0.9237 - val_recall: 0.9144\n",
      "Epoch 18/20\n",
      "1162/1162 [==============================] - ETA: 0s - loss: 0.2099 - accuracy: 0.9275 - precision: 0.9309 - recall: 0.9247\n",
      "Epoch 18: val_accuracy improved from 0.92995 to 0.93322, saving model to v4_backbone_1_best_model.h5\n",
      "1162/1162 [==============================] - 20s 17ms/step - loss: 0.2099 - accuracy: 0.9275 - precision: 0.9309 - recall: 0.9247 - val_loss: 0.2112 - val_accuracy: 0.9332 - val_precision: 0.9356 - val_recall: 0.9302\n",
      "Epoch 19/20\n",
      "1161/1162 [============================>.] - ETA: 0s - loss: 0.2023 - accuracy: 0.9327 - precision: 0.9353 - recall: 0.9299\n",
      "Epoch 19: val_accuracy did not improve from 0.93322\n",
      "1162/1162 [==============================] - 20s 17ms/step - loss: 0.2023 - accuracy: 0.9326 - precision: 0.9353 - recall: 0.9298 - val_loss: 0.2161 - val_accuracy: 0.9317 - val_precision: 0.9343 - val_recall: 0.9289\n",
      "Epoch 20/20\n",
      "1162/1162 [==============================] - ETA: 0s - loss: 0.1831 - accuracy: 0.9383 - precision: 0.9405 - recall: 0.9358\n",
      "Epoch 20: val_accuracy improved from 0.93322 to 0.93447, saving model to v4_backbone_1_best_model.h5\n",
      "1162/1162 [==============================] - 20s 18ms/step - loss: 0.1831 - accuracy: 0.9383 - precision: 0.9405 - recall: 0.9358 - val_loss: 0.2160 - val_accuracy: 0.9345 - val_precision: 0.9355 - val_recall: 0.9325\n"
     ]
    }
   ],
   "source": [
    "N_BATCH = 8\n",
    "hist = model.fit(\n",
    "    origin_images_shuffled, number_labels_shuffled,\n",
    "    validation_split = 0.3,\n",
    "    epochs=20,\n",
    "    batch_size= N_BATCH,\n",
    "    verbose=1,  \n",
    "    callbacks=[checkpoint]\n",
    "    # callbacks=[checkpoint, lr_reducer]\n",
    ")"
   ]
  },
  {
   "cell_type": "code",
   "execution_count": null,
   "metadata": {},
   "outputs": [],
   "source": []
  },
  {
   "cell_type": "code",
   "execution_count": 12,
   "metadata": {},
   "outputs": [
    {
     "ename": "SyntaxError",
     "evalue": "invalid syntax (1088857786.py, line 1)",
     "output_type": "error",
     "traceback": [
      "\u001b[0;36m  Cell \u001b[0;32mIn[12], line 1\u001b[0;36m\u001b[0m\n\u001b[0;31m    qq!!\u001b[0m\n\u001b[0m      ^\u001b[0m\n\u001b[0;31mSyntaxError\u001b[0m\u001b[0;31m:\u001b[0m invalid syntax\n"
     ]
    }
   ],
   "source": [
    "qq!!"
   ]
  },
  {
   "cell_type": "code",
   "execution_count": null,
   "metadata": {},
   "outputs": [],
   "source": [
    "model2.save('./v3_3().h5')"
   ]
  },
  {
   "cell_type": "code",
   "execution_count": null,
   "metadata": {},
   "outputs": [],
   "source": [
    "import tensorflow as tf\n",
    "from tensorflow_model_optimization.sparsity import keras as sparsity\n",
    "from tensorflow_model_optimization.sparsity.keras import UpdatePruningStep\n",
    "\n",
    "# train_dataset, train_number_labels,\n",
    "\n",
    "# 초기 모델 로드\n",
    "model = tf.keras.models.load_model('./v1_13.h5')\n",
    "\n",
    "# 프루닝 설정\n",
    "epochs = 100\n",
    "batch_size = 128\n",
    "num_train_samples = origin_images.shape[0]\n",
    "end_step = np.ceil(num_train_samples / batch_size).astype(np.int32) * epochs\n",
    "pruning_params = {\n",
    "    'pruning_schedule': sparsity.PolynomialDecay(initial_sparsity=0.50,\n",
    "                                                 final_sparsity=0.80,\n",
    "                                                 begin_step=0,\n",
    "                                                 end_step=end_step)\n",
    "}\n",
    "\n",
    "# 모델에 프루닝 래퍼 적용\n",
    "model_for_pruning = sparsity.prune_low_magnitude(model, **pruning_params)\n",
    "\n",
    "# 프루닝 모델 컴파일 및 훈련\n",
    "model_for_pruning.compile(optimizer='adam',\n",
    "                          loss=tf.keras.losses.categorical_crossentropy,\n",
    "                          metrics=['accuracy'])\n",
    "\n",
    "callbacks = [\n",
    "    UpdatePruningStep()\n",
    "]\n",
    "\n",
    "model_for_pruning.fit(origin_images, number_labels, epochs=epochs, callbacks=callbacks)\n",
    "\n",
    "# 프루닝 제거 및 최종 모델 저장\n",
    "final_model = sparsity.strip_pruning(model_for_pruning)\n",
    "final_model.save('pruned_model.h5')\n"
   ]
  },
  {
   "cell_type": "code",
   "execution_count": null,
   "metadata": {},
   "outputs": [],
   "source": [
    "final_model.summary()"
   ]
  },
  {
   "cell_type": "code",
   "execution_count": null,
   "metadata": {},
   "outputs": [],
   "source": [
    "batch_size = 32\n",
    "train_dataset_tf = tf.data.Dataset.from_tensor_slices(test_dataset)\n",
    "# train_dataset을 배치로 만듦\n",
    "batched_train_dataset = train_dataset_tf.batch(batch_size)"
   ]
  },
  {
   "cell_type": "code",
   "execution_count": null,
   "metadata": {},
   "outputs": [],
   "source": [
    "import tensorflow as tf\n",
    "\n",
    "# 기존 모델 로드\n",
    "model = tf.keras.models.load_model('pruned_model.h5')\n",
    "\n",
    "# 대표 데이터셋을 준비하는 함수\n",
    "def representative_data_gen():\n",
    "    for input_value in batched_train_dataset.take(100):\n",
    "        yield [input_value]\n",
    "\n",
    "# 훈련 데이터셋을 로드하고 배치 처리\n",
    "# 여기서 test_dataset와 batch_size는 적절한 값으로 설정해야 합니다.\n",
    "batched_train_dataset = tf.data.Dataset.from_tensor_slices(test_dataset).batch(batch_size)\n",
    "batched_train_dataset = batched_train_dataset.map(lambda x: tf.cast(x, tf.float32))\n",
    "\n",
    "# TFLite 변환기 설정\n",
    "converter = tf.lite.TFLiteConverter.from_keras_model(model)\n",
    "converter.optimizations = [tf.lite.Optimize.DEFAULT]\n",
    "converter.representative_dataset = representative_data_gen\n",
    "\n",
    "# 모든 연산을 float32로 제한\n",
    "converter.target_spec.supported_ops = [tf.lite.OpsSet.TFLITE_BUILTINS]\n",
    "\n",
    "# 입력과 출력을 float32로 설정\n",
    "converter.inference_input_type = tf.float32\n",
    "converter.inference_output_type = tf.float32\n",
    "\n",
    "# 모델을 TFLite 모델로 변환\n",
    "tflite_quant_model = converter.convert()\n",
    "\n",
    "# TFLite 모델 저장\n",
    "with open('quantized_model.tflite', 'wb') as f:\n",
    "    f.write(tflite_quant_model)\n"
   ]
  }
 ],
 "metadata": {
  "kernelspec": {
   "display_name": "ssd",
   "language": "python",
   "name": "python3"
  },
  "language_info": {
   "codemirror_mode": {
    "name": "ipython",
    "version": 3
   },
   "file_extension": ".py",
   "mimetype": "text/x-python",
   "name": "python",
   "nbconvert_exporter": "python",
   "pygments_lexer": "ipython3",
   "version": "3.8.18"
  }
 },
 "nbformat": 4,
 "nbformat_minor": 2
}
