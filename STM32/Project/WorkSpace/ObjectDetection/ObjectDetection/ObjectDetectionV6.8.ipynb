{
 "cells": [
  {
   "cell_type": "code",
   "execution_count": 1,
   "metadata": {},
   "outputs": [
    {
     "name": "stderr",
     "output_type": "stream",
     "text": [
      "2024-04-20 15:14:16.800174: I tensorflow/core/util/port.cc:111] oneDNN custom operations are on. You may see slightly different numerical results due to floating-point round-off errors from different computation orders. To turn them off, set the environment variable `TF_ENABLE_ONEDNN_OPTS=0`.\n",
      "2024-04-20 15:14:16.836087: E tensorflow/compiler/xla/stream_executor/cuda/cuda_dnn.cc:9342] Unable to register cuDNN factory: Attempting to register factory for plugin cuDNN when one has already been registered\n",
      "2024-04-20 15:14:16.836121: E tensorflow/compiler/xla/stream_executor/cuda/cuda_fft.cc:609] Unable to register cuFFT factory: Attempting to register factory for plugin cuFFT when one has already been registered\n",
      "2024-04-20 15:14:16.836139: E tensorflow/compiler/xla/stream_executor/cuda/cuda_blas.cc:1518] Unable to register cuBLAS factory: Attempting to register factory for plugin cuBLAS when one has already been registered\n",
      "2024-04-20 15:14:16.843491: I tensorflow/core/platform/cpu_feature_guard.cc:182] This TensorFlow binary is optimized to use available CPU instructions in performance-critical operations.\n",
      "To enable the following instructions: AVX2 AVX512F AVX512_VNNI FMA, in other operations, rebuild TensorFlow with the appropriate compiler flags.\n"
     ]
    },
    {
     "name": "stderr",
     "output_type": "stream",
     "text": [
      "2024-04-20 15:14:17.528523: W tensorflow/compiler/tf2tensorrt/utils/py_utils.cc:38] TF-TRT Warning: Could not find TensorRT\n"
     ]
    }
   ],
   "source": [
    "import os\n",
    "import numpy as np\n",
    "import matplotlib.pyplot as plt\n",
    "import tensorflow as tf\n",
    "from tensorflow.keras import layers, models\n",
    "from tensorflow.keras.optimizers import Adam\n",
    "\n",
    "AUTOTUNE = tf.data.AUTOTUNE\n",
    "\n",
    "RES_HEIGHT = 24\n",
    "RES_WIDTH = 32\n",
    "NUM_CLASS = 1\n",
    "N_BATCH = 3\n",
    "N_EPOCH = 200\n",
    "LR = 0.0002"
   ]
  },
  {
   "cell_type": "code",
   "execution_count": 2,
   "metadata": {},
   "outputs": [
    {
     "name": "stderr",
     "output_type": "stream",
     "text": [
      "2024-04-20 15:14:19.004995: I tensorflow/core/common_runtime/gpu/gpu_device.cc:1886] Created device /device:GPU:0 with 22190 MB memory:  -> device: 0, name: NVIDIA GeForce RTX 3090, pci bus id: 0000:1d:00.0, compute capability: 8.6\n",
      "2024-04-20 15:14:19.005919: I tensorflow/core/common_runtime/gpu/gpu_device.cc:1886] Created device /device:GPU:1 with 22190 MB memory:  -> device: 1, name: NVIDIA GeForce RTX 3090, pci bus id: 0000:1f:00.0, compute capability: 8.6\n",
      "2024-04-20 15:14:19.006653: I tensorflow/core/common_runtime/gpu/gpu_device.cc:1886] Created device /device:GPU:2 with 22190 MB memory:  -> device: 2, name: NVIDIA GeForce RTX 3090, pci bus id: 0000:20:00.0, compute capability: 8.6\n",
      "2024-04-20 15:14:19.007316: I tensorflow/core/common_runtime/gpu/gpu_device.cc:1886] Created device /device:GPU:3 with 22190 MB memory:  -> device: 3, name: NVIDIA GeForce RTX 3090, pci bus id: 0000:21:00.0, compute capability: 8.6\n",
      "2024-04-20 15:14:19.008046: I tensorflow/core/common_runtime/gpu/gpu_device.cc:1886] Created device /device:GPU:4 with 22190 MB memory:  -> device: 4, name: NVIDIA GeForce RTX 3090, pci bus id: 0000:22:00.0, compute capability: 8.6\n",
      "2024-04-20 15:14:19.008726: I tensorflow/core/common_runtime/gpu/gpu_device.cc:1886] Created device /device:GPU:5 with 22190 MB memory:  -> device: 5, name: NVIDIA GeForce RTX 3090, pci bus id: 0000:23:00.0, compute capability: 8.6\n",
      "2024-04-20 15:14:19.009397: I tensorflow/core/common_runtime/gpu/gpu_device.cc:1886] Created device /device:GPU:6 with 22190 MB memory:  -> device: 6, name: NVIDIA GeForce RTX 3090, pci bus id: 0000:24:00.0, compute capability: 8.6\n"
     ]
    },
    {
     "data": {
      "text/plain": [
       "[name: \"/device:CPU:0\"\n",
       " device_type: \"CPU\"\n",
       " memory_limit: 268435456\n",
       " locality {\n",
       " }\n",
       " incarnation: 10972329961857044208\n",
       " xla_global_id: -1,\n",
       " name: \"/device:GPU:0\"\n",
       " device_type: \"GPU\"\n",
       " memory_limit: 23267901440\n",
       " locality {\n",
       "   bus_id: 1\n",
       "   links {\n",
       "   }\n",
       " }\n",
       " incarnation: 15595676509915025857\n",
       " physical_device_desc: \"device: 0, name: NVIDIA GeForce RTX 3090, pci bus id: 0000:1d:00.0, compute capability: 8.6\"\n",
       " xla_global_id: 416903419,\n",
       " name: \"/device:GPU:1\"\n",
       " device_type: \"GPU\"\n",
       " memory_limit: 23267901440\n",
       " locality {\n",
       "   bus_id: 1\n",
       "   links {\n",
       "   }\n",
       " }\n",
       " incarnation: 13943705414919982320\n",
       " physical_device_desc: \"device: 1, name: NVIDIA GeForce RTX 3090, pci bus id: 0000:1f:00.0, compute capability: 8.6\"\n",
       " xla_global_id: 2144165316,\n",
       " name: \"/device:GPU:2\"\n",
       " device_type: \"GPU\"\n",
       " memory_limit: 23267901440\n",
       " locality {\n",
       "   bus_id: 1\n",
       "   links {\n",
       "   }\n",
       " }\n",
       " incarnation: 12669826920846657112\n",
       " physical_device_desc: \"device: 2, name: NVIDIA GeForce RTX 3090, pci bus id: 0000:20:00.0, compute capability: 8.6\"\n",
       " xla_global_id: 1651660799,\n",
       " name: \"/device:GPU:3\"\n",
       " device_type: \"GPU\"\n",
       " memory_limit: 23267901440\n",
       " locality {\n",
       "   bus_id: 1\n",
       "   links {\n",
       "   }\n",
       " }\n",
       " incarnation: 11851910704214998932\n",
       " physical_device_desc: \"device: 3, name: NVIDIA GeForce RTX 3090, pci bus id: 0000:21:00.0, compute capability: 8.6\"\n",
       " xla_global_id: 878896533,\n",
       " name: \"/device:GPU:4\"\n",
       " device_type: \"GPU\"\n",
       " memory_limit: 23267901440\n",
       " locality {\n",
       "   bus_id: 1\n",
       "   links {\n",
       "   }\n",
       " }\n",
       " incarnation: 294026778332546037\n",
       " physical_device_desc: \"device: 4, name: NVIDIA GeForce RTX 3090, pci bus id: 0000:22:00.0, compute capability: 8.6\"\n",
       " xla_global_id: 615190153,\n",
       " name: \"/device:GPU:5\"\n",
       " device_type: \"GPU\"\n",
       " memory_limit: 23267901440\n",
       " locality {\n",
       "   bus_id: 1\n",
       "   links {\n",
       "   }\n",
       " }\n",
       " incarnation: 15941439202809601699\n",
       " physical_device_desc: \"device: 5, name: NVIDIA GeForce RTX 3090, pci bus id: 0000:23:00.0, compute capability: 8.6\"\n",
       " xla_global_id: 1769886423,\n",
       " name: \"/device:GPU:6\"\n",
       " device_type: \"GPU\"\n",
       " memory_limit: 23267901440\n",
       " locality {\n",
       "   bus_id: 1\n",
       "   links {\n",
       "   }\n",
       " }\n",
       " incarnation: 15774621068365917512\n",
       " physical_device_desc: \"device: 6, name: NVIDIA GeForce RTX 3090, pci bus id: 0000:24:00.0, compute capability: 8.6\"\n",
       " xla_global_id: 893286608]"
      ]
     },
     "execution_count": 2,
     "metadata": {},
     "output_type": "execute_result"
    }
   ],
   "source": [
    "from tensorflow.python.client import device_lib\n",
    "device_lib.list_local_devices()"
   ]
  },
  {
   "cell_type": "markdown",
   "metadata": {},
   "source": [
    "### 현제 바운딩박스는 xmin, ymin, xmax, ymax "
   ]
  },
  {
   "cell_type": "code",
   "execution_count": 3,
   "metadata": {},
   "outputs": [
    {
     "name": "stdout",
     "output_type": "stream",
     "text": [
      "(17820, 24, 32, 1) (17820,) (17820, 4, 4) 17820\n",
      "255 0\n",
      "(5156, 24, 32, 1)\n",
      "(5156, 4, 4)\n",
      "5156\n",
      "[[1 1 1 0]\n",
      " [1 1 1 0]\n",
      " [1 1 1 1]\n",
      " ...\n",
      " [1 1 1 0]\n",
      " [1 1 1 0]\n",
      " [1 1 1 0]]\n"
     ]
    }
   ],
   "source": [
    "import numpy as np\n",
    "\n",
    "datasets = np.load('dataset/ObjectDetection.npz', allow_pickle=True)\n",
    "images, numbers, bboxes = datasets['images'], datasets['numbers'], datasets['bboxes']\n",
    "\n",
    "max_label_length = 4\n",
    "labels = []\n",
    "for num in numbers:\n",
    "    cls = [1] * num if num != 0 else [0]\n",
    "    cls += [0] * (max_label_length - len(cls))\n",
    "    labels.append(cls)\n",
    "\n",
    "# labels = np.array(labels)\n",
    "\n",
    "# non_zero_indices = np.where(numbers != 0)[0]\n",
    "non_zero_indices = np.where(numbers > 2)[0]\n",
    "\n",
    "# numbers가 0이 아닌 항목만 유지\n",
    "images_filtered = images[non_zero_indices]\n",
    "bboxes_filtered = bboxes[non_zero_indices]\n",
    "labels_filtered = np.array(labels)[non_zero_indices]\n",
    "\n",
    "print(images.shape, numbers.shape, bboxes.shape, len(labels))\n",
    "\n",
    "print(images.max(), images.min())\n",
    "\n",
    "dataset = {\n",
    "    'images' : images_filtered,\n",
    "    'bboxes' : bboxes_filtered,\n",
    "    'class' : labels_filtered\n",
    "}\n",
    "\n",
    "print(dataset['images'].shape)\n",
    "print(dataset['bboxes'].shape)\n",
    "print(len(dataset['class']))\n",
    "print(dataset['class'])\n"
   ]
  },
  {
   "cell_type": "code",
   "execution_count": 4,
   "metadata": {},
   "outputs": [
    {
     "name": "stdout",
     "output_type": "stream",
     "text": [
      "[[1 1 1 0]\n",
      " [1 1 1 0]\n",
      " [1 1 1 1]\n",
      " ...\n",
      " [1 1 1 0]\n",
      " [1 1 1 0]\n",
      " [1 1 1 0]]\n"
     ]
    }
   ],
   "source": [
    "print(dataset['class'])"
   ]
  },
  {
   "cell_type": "code",
   "execution_count": 5,
   "metadata": {},
   "outputs": [
    {
     "name": "stdout",
     "output_type": "stream",
     "text": [
      "[[ 2  7 15 17]\n",
      " [21  1 29  9]\n",
      " [28  4 32 12]\n",
      " [ 0  0  0  0]]\n",
      "255 0\n"
     ]
    },
    {
     "data": {
      "image/png": "[encoded data removed]",
      "text/plain": [
       "<Figure size 640x480 with 1 Axes>"
      ]
     },
     "metadata": {},
     "output_type": "display_data"
    }
   ],
   "source": [
    "plt.imshow(dataset['images'][0])\n",
    "print(dataset['bboxes'][0])\n",
    "print(dataset['images'].max(), dataset['images'].min())"
   ]
  },
  {
   "cell_type": "code",
   "execution_count": null,
   "metadata": {},
   "outputs": [],
   "source": []
  },
  {
   "cell_type": "code",
   "execution_count": 6,
   "metadata": {},
   "outputs": [
    {
     "name": "stdout",
     "output_type": "stream",
     "text": [
      "(24, 32, 1)\n",
      "24\n",
      "32\n",
      "bbox:  tf.Tensor(\n",
      "[[ 2  7 15 17]\n",
      " [21  1 29  9]\n",
      " [28  4 32 12]\n",
      " [ 0  0  0  0]], shape=(4, 4), dtype=int64)\n"
     ]
    },
    {
     "name": "stderr",
     "output_type": "stream",
     "text": [
      "2024-04-20 15:14:19.264056: I tensorflow/core/common_runtime/gpu/gpu_device.cc:1886] Created device /job:localhost/replica:0/task:0/device:GPU:0 with 22190 MB memory:  -> device: 0, name: NVIDIA GeForce RTX 3090, pci bus id: 0000:1d:00.0, compute capability: 8.6\n",
      "2024-04-20 15:14:19.264310: I tensorflow/core/common_runtime/gpu/gpu_device.cc:1886] Created device /job:localhost/replica:0/task:0/device:GPU:1 with 22190 MB memory:  -> device: 1, name: NVIDIA GeForce RTX 3090, pci bus id: 0000:1f:00.0, compute capability: 8.6\n",
      "2024-04-20 15:14:19.264548: I tensorflow/core/common_runtime/gpu/gpu_device.cc:1886] Created device /job:localhost/replica:0/task:0/device:GPU:2 with 22190 MB memory:  -> device: 2, name: NVIDIA GeForce RTX 3090, pci bus id: 0000:20:00.0, compute capability: 8.6\n",
      "2024-04-20 15:14:19.264772: I tensorflow/core/common_runtime/gpu/gpu_device.cc:1886] Created device /job:localhost/replica:0/task:0/device:GPU:3 with 22190 MB memory:  -> device: 3, name: NVIDIA GeForce RTX 3090, pci bus id: 0000:21:00.0, compute capability: 8.6\n",
      "2024-04-20 15:14:19.264995: I tensorflow/core/common_runtime/gpu/gpu_device.cc:1886] Created device /job:localhost/replica:0/task:0/device:GPU:4 with 22190 MB memory:  -> device: 4, name: NVIDIA GeForce RTX 3090, pci bus id: 0000:22:00.0, compute capability: 8.6\n",
      "2024-04-20 15:14:19.265226: I tensorflow/core/common_runtime/gpu/gpu_device.cc:1886] Created device /job:localhost/replica:0/task:0/device:GPU:5 with 22190 MB memory:  -> device: 5, name: NVIDIA GeForce RTX 3090, pci bus id: 0000:23:00.0, compute capability: 8.6\n",
      "2024-04-20 15:14:19.265442: I tensorflow/core/common_runtime/gpu/gpu_device.cc:1886] Created device /job:localhost/replica:0/task:0/device:GPU:6 with 22190 MB memory:  -> device: 6, name: NVIDIA GeForce RTX 3090, pci bus id: 0000:24:00.0, compute capability: 8.6\n"
     ]
    },
    {
     "data": {
      "image/png": "[encoded data removed]",
      "text/plain": [
       "<Figure size 800x800 with 1 Axes>"
      ]
     },
     "metadata": {},
     "output_type": "display_data"
    },
    {
     "name": "stdout",
     "output_type": "stream",
     "text": [
      "[[1 1 1 0]\n",
      " [1 1 1 0]\n",
      " [1 1 1 1]\n",
      " ...\n",
      " [1 1 1 0]\n",
      " [1 1 1 0]\n",
      " [1 1 1 0]]\n"
     ]
    }
   ],
   "source": [
    "import matplotlib.pyplot as plt\n",
    "import tensorflow as tf\n",
    "images = dataset['images']\n",
    "bboxes = dataset['bboxes']\n",
    "cls = dataset['class']\n",
    "\n",
    "boxes = bboxes\n",
    "plt.figure(figsize = (8, 8))\n",
    "plt.axis('off')\n",
    "image = images\n",
    "print(image[0].shape)\n",
    "print(image[0].shape[0])\n",
    "print(image[0].shape[1])\n",
    "plt.imshow(image[0])\n",
    "ax = plt.gca()\n",
    "boxes = boxes[0]\n",
    "boxes = tf.stack([\n",
    "\t(boxes[:, 0] ), \n",
    "\t(boxes[:, 1] ),\n",
    "\t(boxes[:, 2] ),\n",
    "\t(boxes[:, 3] )], axis = -1\n",
    ")\n",
    "print(\"bbox: \", boxes)\n",
    "# 각 바운딩 박스에 대해 반복하여 그리기\n",
    "for box in boxes:\n",
    "    xmin, ymin, xmax, ymax = box \n",
    "    w, h = xmax - xmin, ymax - ymin\n",
    "    patch = plt.Rectangle(\n",
    "        [xmin, ymin], w, h, fill=False, edgecolor=[1, 0, 0], linewidth=2\n",
    "    )\n",
    "    ax.add_patch(patch)\n",
    "plt.show()\n",
    "print(cls)"
   ]
  },
  {
   "cell_type": "code",
   "execution_count": 7,
   "metadata": {},
   "outputs": [
    {
     "data": {
      "text/plain": [
       "(255, 0)"
      ]
     },
     "execution_count": 7,
     "metadata": {},
     "output_type": "execute_result"
    }
   ],
   "source": [
    "images.max(), images.min()"
   ]
  },
  {
   "cell_type": "code",
   "execution_count": 8,
   "metadata": {},
   "outputs": [
    {
     "name": "stdout",
     "output_type": "stream",
     "text": [
      "IMG_SIZE_WIDTH:   32\n",
      "IMG_SIZE_HEIGHT:  24\n",
      "N_DATA:           5156\n",
      "N_TRAIN:          4125\n",
      "N_VAL:            1031\n"
     ]
    }
   ],
   "source": [
    "import os\n",
    "import random\n",
    "import tensorflow as tf\n",
    "\n",
    "IMG_SIZE_WIDTH = images.shape[2]\n",
    "IMG_SIZE_HEIGHT = images.shape[1]\n",
    "N_DATA = images.shape[0]\n",
    "N_VAL = int(images.shape[0] * 0.2)\n",
    "N_TRAIN = int(images.shape[0] - N_VAL)\n",
    "\n",
    "cur_dir = os.getcwd()\n",
    "tfr_dir = os.path.join(cur_dir, 'test/tfrecord/')\n",
    "os.makedirs(tfr_dir, exist_ok=True)\n",
    "\n",
    "tfr_train_dir = os.path.join(tfr_dir, 'od_train.tfr')\n",
    "tfr_val_dir = os.path.join(tfr_dir, 'od_val.tfr')\n",
    "\n",
    "print(\"IMG_SIZE_WIDTH:  \", IMG_SIZE_WIDTH)\n",
    "print(\"IMG_SIZE_HEIGHT: \", IMG_SIZE_HEIGHT)\n",
    "print(\"N_DATA:          \", N_DATA)\n",
    "print(\"N_TRAIN:         \", N_TRAIN)\n",
    "print(\"N_VAL:           \", N_VAL)\n",
    "\n",
    "shuffle_list = list(range(N_DATA))\n",
    "random.shuffle(shuffle_list)\n",
    "\n",
    "train_idx_list = shuffle_list[:N_TRAIN]\n",
    "val_idx_list = shuffle_list[N_TRAIN:]\n",
    "\n",
    "tfr_train_dir = os.path.join(tfr_dir, 'od_train.tfr')\n",
    "tfr_val_dir = os.path.join(tfr_dir, 'od_val.tfr')\n",
    "\n",
    "writer_train = tf.io.TFRecordWriter(tfr_train_dir)\n",
    "writer_val = tf.io.TFRecordWriter(tfr_val_dir)"
   ]
  },
  {
   "cell_type": "code",
   "execution_count": 9,
   "metadata": {},
   "outputs": [],
   "source": [
    "def _bytes_feature(value):\n",
    "    if isinstance(value, type(tf.constant(0))):\n",
    "        value = value.numpy()\n",
    "    return tf.train.Feature(bytes_list = tf.train.BytesList(value = [value]))\n",
    "\n",
    "def _float_feature(value):\n",
    "    return tf.train.Feature(float_list = tf.train.FloatList(value = value))\n",
    "\n",
    "def _int64_feature(value):\n",
    "    return tf.train.Feature(int32_list = tf.train.Int64List(value = [value]))\n",
    "\n",
    "\n",
    "def _bytes_feature_list(value_list):\n",
    "    \"\"\"value_list가 리스트일 때, 이를 serialize하여 bytes list로 변환하는 함수.\"\"\"\n",
    "    value_list = [tf.io.serialize_tensor(tf.constant(v)).numpy() for v in value_list]\n",
    "    return tf.train.Feature(bytes_list=tf.train.BytesList(value=value_list))\n"
   ]
  },
  {
   "cell_type": "code",
   "execution_count": 10,
   "metadata": {},
   "outputs": [
    {
     "name": "stdout",
     "output_type": "stream",
     "text": [
      "(5156, 24, 32, 1)\n",
      "(5156, 4, 4)\n",
      "(5156, 4)\n"
     ]
    }
   ],
   "source": [
    "dataset['images'] = dataset['images']\n",
    "dataset['bboxes'] = dataset['bboxes']\n",
    "dataset['class'] = np.array(dataset['class'])\n",
    "images = dataset['images']\n",
    "bboxes = dataset['bboxes']\n",
    "cls = dataset['class']\n",
    "print(images.shape)\n",
    "print(bboxes.shape)\n",
    "print(cls.shape)\n"
   ]
  },
  {
   "cell_type": "code",
   "execution_count": 11,
   "metadata": {},
   "outputs": [],
   "source": [
    "for idx in train_idx_list:\n",
    "    bbox = bboxes[idx]\n",
    "    xmin, ymin, xmax, ymax = bbox[:, 0] / RES_WIDTH, bbox[:, 1] / RES_HEIGHT, bbox[:, 2] / RES_WIDTH, bbox[:, 3] / RES_HEIGHT\n",
    "    bbox = np.stack([xmin, ymin, xmax, ymax], axis=-1).flatten()\n",
    "\n",
    "    image = images[idx]\n",
    "    bimage = image.tobytes()\n",
    "\n",
    "    number = numbers[idx]\n",
    "    class_id = cls[idx]\n",
    "    # print(len(cls))\n",
    "    serialized_cls = tf.io.serialize_tensor(tf.constant(class_id)).numpy()\n",
    "\n",
    "    example = tf.train.Example(features=tf.train.Features(feature={\n",
    "        'image': _bytes_feature(bimage),\n",
    "        'bbox': _float_feature(bbox),\n",
    "        'label': _bytes_feature(serialized_cls),\n",
    "        # 'number': _int64_feature(number)\n",
    "    }))\n",
    "    \n",
    "    writer_train.write(example.SerializeToString())\n",
    "writer_train.close()\n"
   ]
  },
  {
   "cell_type": "code",
   "execution_count": 12,
   "metadata": {},
   "outputs": [],
   "source": [
    "for idx in val_idx_list:\n",
    "    bbox = bboxes[idx]\n",
    "    xmin, ymin, xmax, ymax = bbox[:, 0] / RES_WIDTH, bbox[:, 1] / RES_HEIGHT, bbox[:, 2] / RES_WIDTH, bbox[:, 3] / RES_HEIGHT\n",
    "    bbox = np.stack([xmin, ymin, xmax, ymax], axis=-1).flatten()\n",
    "\n",
    "    image = images[idx]\n",
    "    bimage = image.tobytes()\n",
    "\n",
    "    number = numbers[idx]\n",
    "    class_id = cls[idx]\n",
    "    # print(len(cls))\n",
    "    serialized_cls = tf.io.serialize_tensor(tf.constant(class_id)).numpy()\n",
    "\n",
    "    example = tf.train.Example(features=tf.train.Features(feature={\n",
    "        'image': _bytes_feature(bimage),\n",
    "        'bbox': _float_feature(bbox),\n",
    "        'label': _bytes_feature(serialized_cls),\n",
    "        # 'number': _int64_feature(number)\n",
    "    }))\n",
    "    \n",
    "    writer_val.write(example.SerializeToString())\n",
    "writer_val.close()\n"
   ]
  },
  {
   "cell_type": "code",
   "execution_count": 13,
   "metadata": {},
   "outputs": [],
   "source": [
    "AUTOTUNE = tf.data.AUTOTUNE\n",
    "\n",
    "N_BATCH = 1\n",
    "# LR = 0.0005\n",
    "\n",
    "\n",
    "def _parse_function(tfrecord_serialized):\n",
    "    features = {\n",
    "        'image': tf.io.FixedLenFeature([], tf.string),\n",
    "        'bbox': tf.io.VarLenFeature(tf.float32),  \n",
    "        'label': tf.io.FixedLenFeature([], tf.string),\n",
    "        # 'number': tf.io.FixedLenFeature([], tf.int64)\n",
    "    }\n",
    "\n",
    "    parsed_features = tf.io.parse_single_example(tfrecord_serialized, features)\n",
    "\n",
    "    image = tf.io.decode_raw(parsed_features['image'], tf.uint8)\n",
    "    image = tf.reshape(image, [RES_HEIGHT, RES_WIDTH, 1])\n",
    "    image = tf.cast(image, tf.float32) \n",
    "    image = image / tf.reduce_max(image)\n",
    "\n",
    "    bbox = tf.sparse.to_dense(parsed_features['bbox']) \n",
    "    bbox = tf.cast(bbox, tf.float32)\n",
    "    # num_boxes = tf.shape(bbox)[0] // 4\n",
    "    bbox = tf.reshape(bbox, [-1, 4])\n",
    "\n",
    "    serialized_cls = parsed_features['label']\n",
    "    label = tf.io.parse_tensor(serialized_cls, out_type=tf.int64)\n",
    "    \n",
    "    # number = tf.cast(parsed_features['number'], tf.int64)\n",
    "    return image, bbox, label\n",
    "\n",
    "\n",
    "\n",
    "train_dataset = tf.data.TFRecordDataset(tfr_train_dir)\n",
    "train_dataset = train_dataset.map(_parse_function, num_parallel_calls=AUTOTUNE)\n",
    "train_dataset = train_dataset.shuffle(buffer_size=N_TRAIN).prefetch(AUTOTUNE).batch(N_BATCH, drop_remainder=True)"
   ]
  },
  {
   "cell_type": "code",
   "execution_count": 14,
   "metadata": {},
   "outputs": [],
   "source": [
    "AUTOTUNE = tf.data.AUTOTUNE\n",
    "\n",
    "N_BATCH = 1\n",
    "# LR = 0.0005\n",
    "\n",
    "\n",
    "def _parse_function(tfrecord_serialized):\n",
    "    features = {\n",
    "        'image': tf.io.FixedLenFeature([], tf.string),\n",
    "        'bbox': tf.io.VarLenFeature(tf.float32),  \n",
    "        'label': tf.io.FixedLenFeature([], tf.string),\n",
    "        # 'number': tf.io.FixedLenFeature([], tf.int64)\n",
    "    }\n",
    "\n",
    "    parsed_features = tf.io.parse_single_example(tfrecord_serialized, features)\n",
    "\n",
    "    image = tf.io.decode_raw(parsed_features['image'], tf.uint8)\n",
    "    image = tf.reshape(image, [RES_HEIGHT, RES_WIDTH, 1])\n",
    "    image = tf.cast(image, tf.float32) \n",
    "    image = image / tf.reduce_max(image)\n",
    "\n",
    "    bbox = tf.sparse.to_dense(parsed_features['bbox']) \n",
    "    bbox = tf.cast(bbox, tf.float32)\n",
    "    # num_boxes = tf.shape(bbox)[0] // 4\n",
    "    bbox = tf.reshape(bbox, [-1, 4])\n",
    "\n",
    "    serialized_cls = parsed_features['label']\n",
    "    label = tf.io.parse_tensor(serialized_cls, out_type=tf.int64)\n",
    "    \n",
    "    # number = tf.cast(parsed_features['number'], tf.int64)\n",
    "    return image, bbox, label\n",
    "\n",
    "\n",
    "\n",
    "val_dataset = tf.data.TFRecordDataset(tfr_val_dir)\n",
    "val_dataset = val_dataset.map(_parse_function, num_parallel_calls=AUTOTUNE)\n",
    "val_dataset = val_dataset.shuffle(buffer_size=N_TRAIN).prefetch(AUTOTUNE).batch(N_BATCH, drop_remainder=True)"
   ]
  },
  {
   "cell_type": "code",
   "execution_count": 15,
   "metadata": {},
   "outputs": [
    {
     "name": "stdout",
     "output_type": "stream",
     "text": [
      "(1, 24, 32, 1)\n",
      "tf.Tensor(\n",
      "[[[0.03125    0.04166667 0.28125    0.41666666]\n",
      "  [0.375      0.04166667 0.625      0.5416667 ]\n",
      "  [0.65625    0.20833333 0.9375     0.45833334]\n",
      "  [0.         0.         0.         0.        ]]], shape=(1, 4, 4), dtype=float32)\n",
      "tf.Tensor([[1 1 1 0]], shape=(1, 4), dtype=int64)\n"
     ]
    }
   ],
   "source": [
    "for img, bbox, label in val_dataset.take(1):\n",
    "    print(img.shape)\n",
    "    print(bbox)\n",
    "    print(label)"
   ]
  },
  {
   "cell_type": "code",
   "execution_count": null,
   "metadata": {},
   "outputs": [],
   "source": []
  },
  {
   "cell_type": "code",
   "execution_count": 16,
   "metadata": {},
   "outputs": [
    {
     "name": "stdout",
     "output_type": "stream",
     "text": [
      "(24, 32, 1)\n",
      "tf.Tensor([1 1 1 0], shape=(4,), dtype=int64)\n",
      "tf.Tensor(\n",
      "[[0.75       0.5        1.         0.7916667 ]\n",
      " [0.40625    0.5416667  0.71875    0.875     ]\n",
      " [0.0625     0.         0.3125     0.29166666]\n",
      " [0.         0.         0.         0.        ]], shape=(4, 4), dtype=float32)\n"
     ]
    },
    {
     "data": {
      "image/png": "[encoded data removed]",
      "text/plain": [
       "<Figure size 640x480 with 1 Axes>"
      ]
     },
     "metadata": {},
     "output_type": "display_data"
    }
   ],
   "source": [
    "import matplotlib.pyplot as plt\n",
    "\n",
    "idx = 0\n",
    "for image, bbox, label in val_dataset.take(1):\n",
    "    image = image[idx]\n",
    "    bbox = bbox[idx]\n",
    "    label = label[idx]\n",
    "    image = image.numpy()\n",
    "    plt.imshow(image)\n",
    "    ax = plt.gca()  \n",
    "    print(image.shape)\n",
    "    print(label)\n",
    "    print(bbox)\n",
    "    boxes = tf.stack(\n",
    "    \t[\n",
    "    \t bbox[:,0] * RES_WIDTH,\n",
    "    \t bbox[:,1] * RES_HEIGHT,\n",
    "    \t bbox[:,2] * RES_WIDTH,\n",
    "    \t bbox[:,3] * RES_HEIGHT\n",
    "    \t], axis = -1\n",
    "    )\n",
    "    for box in boxes:\n",
    "        xmin, ymin = box[:2]\n",
    "        w, h = box[2:] - box[:2]\n",
    "        patch = plt.Rectangle(\n",
    "            [xmin, ymin], w, h, fill=False, edgecolor=[1, 0, 0], linewidth=2\n",
    "        )\n",
    "        ax.add_patch(patch)\n",
    "    plt.show()"
   ]
  },
  {
   "cell_type": "code",
   "execution_count": 17,
   "metadata": {},
   "outputs": [],
   "source": [
    "def convert_to_xywh(boxes):\n",
    "    return tf.concat(\n",
    "        [(boxes[..., :2] + boxes[..., 2:]) / 2.0, boxes[..., 2:] - boxes[..., :2]],\n",
    "        axis=-1\n",
    "    )\n",
    "\n",
    "def convert_to_corners(boxes):\n",
    "    return tf.concat(\n",
    "        [boxes[..., :2] - boxes[..., 2:] / 2.0, boxes[..., :2] + boxes[..., 2:] / 2.0],\n",
    "        axis=-1\n",
    "    )"
   ]
  },
  {
   "cell_type": "code",
   "execution_count": 18,
   "metadata": {},
   "outputs": [],
   "source": [
    "def preprocess_data(image, gt_boxes, cls_ids):\n",
    "    bbox = convert_to_xywh(gt_boxes)\n",
    "    return image, bbox, cls_ids"
   ]
  },
  {
   "cell_type": "code",
   "execution_count": 19,
   "metadata": {},
   "outputs": [
    {
     "name": "stdout",
     "output_type": "stream",
     "text": [
      "(1, 24, 32, 1)\n",
      "(1, 4, 4)\n",
      "(1, 4)\n"
     ]
    }
   ],
   "source": [
    "for image, bbox, label in val_dataset.take(1):\n",
    "    print(image.shape)\n",
    "    print(bbox.shape)\n",
    "    print(label.shape)"
   ]
  },
  {
   "cell_type": "code",
   "execution_count": 20,
   "metadata": {},
   "outputs": [
    {
     "data": {
      "image/png": "[encoded data removed]",
      "text/plain": [
       "<Figure size 640x480 with 1 Axes>"
      ]
     },
     "metadata": {},
     "output_type": "display_data"
    },
    {
     "name": "stdout",
     "output_type": "stream",
     "text": [
      "tf.Tensor(1.0, shape=(), dtype=float32) tf.Tensor(0.0, shape=(), dtype=float32)\n"
     ]
    }
   ],
   "source": [
    "idx = 0\n",
    "for image, bbox, label in train_dataset.take(1):\n",
    "    anchor_img = np.zeros((*image.shape[:3], 3), dtype=np.uint8)\n",
    "    anchor_img = anchor_img[idx]\n",
    "\n",
    "    strides = [2, 4, 8]\n",
    "    colors = {\n",
    "        2: [0, 255, 0],  # 초록색\n",
    "        4: [0, 0, 255],  # 파란색\n",
    "        8: [255, 0, 0],   # 빨간색\n",
    "    }\n",
    "\n",
    "    for stride in strides:\n",
    "        color = colors[stride]\n",
    "        for y in range(0, anchor_img.shape[0], stride):\n",
    "            for x in range(0, anchor_img.shape[1], stride):\n",
    "                anchor_img[y, x, :] = color\n",
    "\n",
    "    # 이미지 표시\n",
    "    plt.imshow(image[idx], alpha=1)  \n",
    "    plt.imshow(anchor_img, alpha=0.5) \n",
    "    plt.axis('off')\n",
    "    plt.show()\n",
    "    print(tf.reduce_max(image), tf.reduce_min(image))"
   ]
  },
  {
   "cell_type": "code",
   "execution_count": 21,
   "metadata": {},
   "outputs": [
    {
     "name": "stdout",
     "output_type": "stream",
     "text": [
      "(24, 32, 1)\n",
      "tf.Tensor(\n",
      "[[0.140625   0.8125     0.28125    0.375     ]\n",
      " [0.296875   0.375      0.34375    0.5833334 ]\n",
      " [0.59375    0.4375     0.25       0.45833337]\n",
      " [0.         0.         0.         0.        ]], shape=(4, 4), dtype=float32)\n",
      "tf.Tensor([1 1 1 0], shape=(4,), dtype=int64)\n",
      "tf.Tensor(1.0, shape=(), dtype=float32) tf.Tensor(0.0, shape=(), dtype=float32)\n",
      "width:  32\n",
      "height:  24\n",
      "bbox:  tf.Tensor(\n",
      "[[0.         0.625      0.28125    0.375     ]\n",
      " [0.125      0.08333331 0.34375    0.5833334 ]\n",
      " [0.46875    0.20833331 0.25       0.45833337]\n",
      " [0.         0.         0.         0.        ]], shape=(4, 4), dtype=float32)\n",
      "tf.Tensor([0.      0.625   0.28125 0.375  ], shape=(4,), dtype=float32)\n",
      "tf.Tensor([0.125      0.08333331 0.34375    0.5833334 ], shape=(4,), dtype=float32)\n",
      "tf.Tensor([0.46875    0.20833331 0.25       0.45833337], shape=(4,), dtype=float32)\n",
      "tf.Tensor([0. 0. 0. 0.], shape=(4,), dtype=float32)\n"
     ]
    },
    {
     "data": {
      "image/png": "[encoded data removed]",
      "text/plain": [
       "<Figure size 640x480 with 1 Axes>"
      ]
     },
     "metadata": {},
     "output_type": "display_data"
    },
    {
     "name": "stdout",
     "output_type": "stream",
     "text": [
      "tf.Tensor([1 1 1 0], shape=(4,), dtype=int64)\n"
     ]
    }
   ],
   "source": [
    "idx = 0\n",
    "for image, bbox, label in val_dataset.take(1):\n",
    "    image, bbox, label = preprocess_data(image, bbox, label)\n",
    "    img = image[idx]\n",
    "    box = bbox[idx]\n",
    "    label = label[idx]\n",
    "    print(img.shape)\n",
    "    print(box)\n",
    "    print(label)\n",
    "    print(tf.reduce_max(image), tf.reduce_min(image))\n",
    "    # 이미지 시각화\n",
    "    plt.imshow(img)\n",
    "    ax = plt.gca()\n",
    "    width = img.shape[1]\n",
    "    height = img.shape[0]\n",
    "    print(\"width: \", width)\n",
    "    print(\"height: \", height)\n",
    "    boxes = tf.stack(\n",
    "        [\n",
    "            (box[:, 0] - 0.5 * box[:, 2]),  # xmin = x_center - width/2\n",
    "            (box[:, 1] - 0.5 * box[:, 3]),  # ymin = y_center - height/2\n",
    "            box[:, 2],\n",
    "            box[:, 3],\n",
    "            \n",
    "        ], axis=-1\n",
    "    )\n",
    "    print(\"bbox: \", boxes)\n",
    "    # 각 바운딩 박스에 대해 반복하여 그리기\n",
    "    for box in boxes:\n",
    "        xmin, ymin, w, h = box\n",
    "        print(box)\n",
    "        patch = plt.Rectangle(\n",
    "            [xmin * RES_WIDTH, ymin * RES_HEIGHT], w * RES_WIDTH, h * RES_HEIGHT, fill=False, edgecolor=[1, 0, 0], linewidth=2\n",
    "        )\n",
    "        ax.add_patch(patch)\n",
    "    plt.show()\n",
    "    print(label)\n",
    " "
   ]
  },
  {
   "cell_type": "code",
   "execution_count": 22,
   "metadata": {},
   "outputs": [
    {
     "name": "stdout",
     "output_type": "stream",
     "text": [
      "(24, 32, 1)\n",
      "tf.Tensor(\n",
      "[[0.078125  0.1875    0.15625   0.375    ]\n",
      " [0.609375  0.7916666 0.28125   0.4166667]\n",
      " [0.828125  0.5416666 0.34375   0.3333333]\n",
      " [0.        0.        0.        0.       ]], shape=(4, 4), dtype=float32)\n",
      "tf.Tensor([1 1 1 0], shape=(4,), dtype=int64)\n",
      "tf.Tensor(1.0, shape=(), dtype=float32) tf.Tensor(0.0, shape=(), dtype=float32)\n",
      "width:  32\n",
      "height:  24\n",
      "bbox:  tf.Tensor(\n",
      "[[0.         0.         0.15625    0.375     ]\n",
      " [0.46875    0.58333325 0.28125    0.4166667 ]\n",
      " [0.65625    0.37499997 0.34375    0.3333333 ]\n",
      " [0.         0.         0.         0.        ]], shape=(4, 4), dtype=float32)\n",
      "tf.Tensor([0.      0.      0.15625 0.375  ], shape=(4,), dtype=float32)\n",
      "tf.Tensor([0.46875    0.58333325 0.28125    0.4166667 ], shape=(4,), dtype=float32)\n",
      "tf.Tensor([0.65625    0.37499997 0.34375    0.3333333 ], shape=(4,), dtype=float32)\n",
      "tf.Tensor([0. 0. 0. 0.], shape=(4,), dtype=float32)\n"
     ]
    },
    {
     "data": {
      "image/png": "[encoded data removed]",
      "text/plain": [
       "<Figure size 640x480 with 1 Axes>"
      ]
     },
     "metadata": {},
     "output_type": "display_data"
    },
    {
     "name": "stdout",
     "output_type": "stream",
     "text": [
      "tf.Tensor([1 1 1 0], shape=(4,), dtype=int64)\n"
     ]
    }
   ],
   "source": [
    "idx = 0\n",
    "for image, bbox, label in train_dataset.take(1):\n",
    "    image, bbox, label = preprocess_data(image, bbox, label)\n",
    "    img = image[idx]\n",
    "    box = bbox[idx]\n",
    "    label = label[idx]\n",
    "    print(img.shape)\n",
    "    print(box)\n",
    "    print(label)\n",
    "    print(tf.reduce_max(image), tf.reduce_min(image))\n",
    "    # 이미지 시각화\n",
    "    plt.imshow(img)\n",
    "    ax = plt.gca()\n",
    "    width = img.shape[1]\n",
    "    height = img.shape[0]\n",
    "    print(\"width: \", width)\n",
    "    print(\"height: \", height)\n",
    "    boxes = tf.stack(\n",
    "        [\n",
    "            (box[:, 0] - 0.5 * box[:, 2]),  # xmin = x_center - width/2\n",
    "            (box[:, 1] - 0.5 * box[:, 3]),  # ymin = y_center - height/2\n",
    "            box[:, 2],\n",
    "            box[:, 3],\n",
    "            \n",
    "        ], axis=-1\n",
    "    )\n",
    "    print(\"bbox: \", boxes)\n",
    "    # 각 바운딩 박스에 대해 반복하여 그리기\n",
    "    for box in boxes:\n",
    "        xmin, ymin, w, h = box\n",
    "        print(box)\n",
    "        patch = plt.Rectangle(\n",
    "            [xmin * RES_WIDTH, ymin * RES_HEIGHT], w * RES_WIDTH, h * RES_HEIGHT, fill=False, edgecolor=[1, 0, 0], linewidth=2\n",
    "        )\n",
    "        ax.add_patch(patch)\n",
    "    plt.show()\n",
    "    print(label)\n",
    " "
   ]
  },
  {
   "cell_type": "code",
   "execution_count": 23,
   "metadata": {},
   "outputs": [],
   "source": [
    "class AnchorBox:\n",
    "    def __init__(self):\n",
    "        self.aspect_ratios = [0.6, 0.8, 1.1]         # 이거랑 2268\n",
    "        self.scales = [2** x for x in [1/3, 2/3]] # 이걸로 바운딩박스 갯수 조절가능\n",
    "        self._num_anchors = len(self.aspect_ratios) * len(self.scales)\n",
    "        self._strides = [2 ** i for i in range(0, 3)]\n",
    "        self._areas = [x ** 2 for x in [4.5, 5.5, 6.5]]\n",
    "        self._anchor_dims = self._compute_dims()\n",
    "\n",
    "    def _compute_dims(self):\n",
    "        anchor_dims_all = []\n",
    "        for area in self._areas:\n",
    "            anchor_dims = []\n",
    "            for ratio in self.aspect_ratios:\n",
    "                anchor_height = tf.math.sqrt(area / ratio)\n",
    "                anchor_width = area / anchor_height\n",
    "                dims = tf.reshape(\n",
    "                    tf.stack([anchor_width, anchor_height], axis=-1),\n",
    "                    [1, 1, 2]\n",
    "                )\n",
    "                dims = tf.cast(dims, tf.float32)  # 데이터 타입을 float32로 변환\n",
    "                for scale in self.scales:\n",
    "                    anchor_dims.append(scale * dims)\n",
    "            anchor_dims_all.append(tf.stack(anchor_dims, axis=-2))\n",
    "        return anchor_dims_all\n",
    "    \n",
    "    def _get_anchors(self, feature_height, feature_width, level):\n",
    "        rx = tf.range(feature_width, dtype = tf.float32) + 0.5\n",
    "        ry = tf.range(feature_height, dtype = tf.float32) + 0.5\n",
    "\n",
    "        centers = tf.stack(tf.meshgrid(rx, ry), axis = -1) * self._strides[level - 0] # stride시작점에 따라 바꿔야함 \n",
    "        centers = tf.expand_dims(centers, axis = -2)\n",
    "        centers = tf.tile(centers, [1, 1, self._num_anchors, 1])\n",
    "\n",
    "        dims = tf.tile(\n",
    "            self._anchor_dims[level - 0], [feature_height, feature_width, 1, 1] \n",
    "        )\n",
    "\n",
    "        anchors = tf.concat([centers, dims], axis=-1) \n",
    "\n",
    "        return tf.reshape(\n",
    "            anchors, [feature_height * feature_width * self._num_anchors, 4]\n",
    "        )\n",
    "\n",
    "    def get_anchors(self, image_height, image_width):\n",
    "        anchors = [\n",
    "            self._get_anchors(\n",
    "                tf.math.ceil(image_height / 2 ** i), # 올림\n",
    "                tf.math.ceil(image_width / 2 ** i),\n",
    "                i\n",
    "            )\n",
    "            for i in range(0, 3)\n",
    "        ]\n",
    "\n",
    "        return tf.concat(anchors, axis=0)"
   ]
  },
  {
   "cell_type": "code",
   "execution_count": 24,
   "metadata": {},
   "outputs": [
    {
     "name": "stdout",
     "output_type": "stream",
     "text": [
      "Anchor 음수 값: False\n",
      "tf.Tensor(\n",
      "[[ 0.5        0.5        4.3916883  7.31948  ]\n",
      " [ 0.5        0.5        5.53318    9.221967 ]\n",
      " [ 0.5        0.5        5.0710845  6.3388553]\n",
      " ...\n",
      " [30.        22.         9.228795  11.535995 ]\n",
      " [30.        22.         8.589207   7.8083696]\n",
      " [30.        22.        10.821721   9.837929 ]], shape=(6048, 4), dtype=float32)\n",
      "(6048, 4)\n",
      "(24, 32, 1)\n",
      "[[0.421875   0.6875     0.18582417 0.22524142]\n",
      " [0.703125   0.39583334 0.13724026 0.30497834]\n",
      " [0.46875    0.20833333 0.22711846 0.27529505]\n",
      " [0.796875   0.39583334 0.17291188 0.3842486 ]\n",
      " [0.484375   0.7291667  0.17291188 0.3842486 ]\n",
      " [0.609375   0.4375     0.13724026 0.30497834]\n",
      " [0.171875   0.1875     0.18582417 0.22524142]\n",
      " [0.65625    0.625      0.24403062 0.40671775]\n",
      " [0.109375   0.02083333 0.13724026 0.30497834]\n",
      " [0.828125   0.27083334 0.19966143 0.33276904]\n",
      " [0.828125   0.9791667  0.23412378 0.28378642]\n",
      " [0.640625   0.4375     0.23412378 0.28378642]\n",
      " [0.078125   0.27083334 0.19966143 0.33276904]\n",
      " [0.46875    0.9583333  0.22711846 0.27529505]\n",
      " [0.734375   0.47916666 0.13724026 0.30497834]\n",
      " [0.78125    0.375      0.24403062 0.40671775]\n",
      " [0.046875   0.7708333  0.18582417 0.22524142]\n",
      " [0.765625   0.8125     0.17291188 0.3842486 ]\n",
      " [0.703125   0.6875     0.18582417 0.22524142]\n",
      " [0.921875   0.6041667  0.15847139 0.26411897]\n",
      " [0.359375   0.6458333  0.19966143 0.33276904]\n",
      " [0.46875    0.875      0.24403062 0.40671775]\n",
      " [0.984375   0.27083334 0.19966143 0.33276904]\n",
      " [0.9375     0.5833333  0.28839985 0.48066643]\n",
      " [0.921875   0.7708333  0.13724026 0.30497834]\n",
      " [0.015625   0.35416666 0.13724026 0.30497834]\n",
      " [0.734375   0.35416666 0.17291188 0.3842486 ]\n",
      " [0.796875   0.0625     0.23412378 0.28378642]\n",
      " [0.1875     0.08333334 0.24976161 0.55502576]\n",
      " [0.890625   0.9791667  0.19966143 0.33276904]\n",
      " [0.71875    0.625      0.28615132 0.34685004]\n",
      " [0.890625   0.1875     0.19966143 0.33276904]\n",
      " [0.234375   0.3125     0.15847139 0.26411897]\n",
      " [0.796875   0.22916667 0.13724026 0.30497834]\n",
      " [0.734375   0.47916666 0.17291188 0.3842486 ]\n",
      " [0.984375   0.02083333 0.23412378 0.28378642]\n",
      " [0.671875   0.47916666 0.13724026 0.30497834]\n",
      " [0.453125   0.8958333  0.13724026 0.30497834]\n",
      " [0.828125   0.02083333 0.19966143 0.33276904]\n",
      " [0.046875   0.8541667  0.19966143 0.33276904]]\n"
     ]
    },
    {
     "data": {
      "image/png": "[encoded data removed]",
      "text/plain": [
       "<Figure size 640x480 with 1 Axes>"
      ]
     },
     "metadata": {},
     "output_type": "display_data"
    }
   ],
   "source": [
    "anchors = AnchorBox()\n",
    "anchor = anchors.get_anchors(24, 32)\n",
    "\n",
    "# 앵커 박스 정규화\n",
    "xmin = anchor[:, 0] / RES_WIDTH\n",
    "ymin = anchor[:, 1] / RES_HEIGHT\n",
    "xmax = anchor[:, 2] / RES_WIDTH\n",
    "ymax = anchor[:, 3] / RES_HEIGHT\n",
    "\n",
    "# 정규화된 좌표를 스택으로 결합\n",
    "normalized_anchor = tf.stack([xmin, ymin, xmax, ymax], axis=-1)\n",
    "\n",
    "has_negative_values = tf.reduce_any(tf.less(anchor, 0))\n",
    "print(\"Anchor 음수 값:\", has_negative_values.numpy())\n",
    "\n",
    "print(anchor)\n",
    "print(anchor.shape)\n",
    "import matplotlib.pyplot as plt\n",
    "import matplotlib.patches as patches\n",
    "\n",
    "def draw_bounding_boxes(data, num_samples):\n",
    "    fig, ax = plt.subplots()\n",
    "\n",
    "    plt.imshow(img)\n",
    "    print(img.shape)\n",
    "    data_np = data.numpy()\n",
    "\n",
    "    if len(data) > num_samples:\n",
    "        sampled_indices = np.random.choice(len(data), num_samples, replace=False)\n",
    "        sample_data = data_np[sampled_indices]\n",
    "    else : \n",
    "        sample_data = data_np\n",
    "    print(sample_data)\n",
    "    for center_x, center_y, width, height in sample_data:\n",
    "        top_left_x = center_x - width / 2\n",
    "        top_left_y = center_y - height / 2\n",
    "\n",
    "        rect = patches.Rectangle((top_left_x * RES_WIDTH, top_left_y * RES_HEIGHT), width * RES_WIDTH, height * RES_HEIGHT, linewidth=0.8, edgecolor='white', facecolor='none')\n",
    "        ax.add_patch(rect)\n",
    "    \n",
    "    plt.show()\n",
    "\n",
    "draw_bounding_boxes(normalized_anchor, 40)\n"
   ]
  },
  {
   "cell_type": "code",
   "execution_count": 25,
   "metadata": {},
   "outputs": [],
   "source": [
    "def compute_iou(boxes1, boxes2):\n",
    "    boxes1_corners = convert_to_corners(boxes1)\n",
    "    boxes2_corners = convert_to_corners(boxes2)\n",
    "    print(boxes1_corners.shape)\n",
    "    print(boxes2_corners.shape)\n",
    "    lu = tf.maximum(boxes1_corners[:, None, :2], boxes2_corners[:, :2])\n",
    "    rd = tf.minimum(boxes1_corners[:, None, 2:], boxes2_corners[:, 2:])  \n",
    "    \n",
    "    intersection = tf.maximum(rd - lu, 0.0)\n",
    "    intersection_area = intersection[:, :, 0] * intersection[:, :, 1]\n",
    "    boxes1_area = (boxes1_corners[:, 2] - boxes1_corners[:, 0]) * (boxes1_corners[:, 3] - boxes1_corners[:, 1])\n",
    "    boxes2_area = (boxes2_corners[:, 2] - boxes2_corners[:, 0]) * (boxes2_corners[:, 3] - boxes2_corners[:, 1])\n",
    "    union_area = tf.maximum(boxes1_area[:, None] + boxes2_area - intersection_area, 1e-8)\n",
    "\n",
    "    return intersection_area / union_area"
   ]
  },
  {
   "cell_type": "code",
   "execution_count": 26,
   "metadata": {},
   "outputs": [
    {
     "name": "stdout",
     "output_type": "stream",
     "text": [
      "GA.shape: (2, 4)\n",
      "GT.shape: (2, 4)\n",
      "GA (XYWH): tf.Tensor(\n",
      "[[60. 45. 20. 30.]\n",
      " [60. 45. 20. 30.]], shape=(2, 4), dtype=float64)\n",
      "GT (XYWH): tf.Tensor(\n",
      "[[60. 45. 20. 30.]\n",
      " [45. 60. 20. 30.]], shape=(2, 4), dtype=float64)\n",
      "(2, 4)\n",
      "(2, 4)\n"
     ]
    },
    {
     "name": "stdout",
     "output_type": "stream",
     "text": [
      "IoU: tf.Tensor(\n",
      "[[1.         0.06666667]\n",
      " [1.         0.06666667]], shape=(2, 2), dtype=float64)\n"
     ]
    }
   ],
   "source": [
    "GA = np.array([[50, 30, 70, 60], [50, 30, 70, 60]])  # 예: [xmin, ymin, xmax, ymax]\n",
    "GT = np.array([[50, 30, 70, 60], [35, 45, 55, 75]])  # 예: [xmin, ymin, xmax, ymax]\n",
    "\n",
    "print(\"GA.shape:\", GA.shape)\n",
    "print(\"GT.shape:\", GT.shape)\n",
    "\n",
    "GA_xywh = convert_to_xywh(GA)\n",
    "print(\"GA (XYWH):\", GA_xywh)\n",
    "\n",
    "GT_xywh = convert_to_xywh(GT)\n",
    "print(\"GT (XYWH):\", GT_xywh)\n",
    "\n",
    "iou = compute_iou(GA_xywh, GT_xywh)\n",
    "print(\"IoU:\", iou)\n",
    "# GA = convert_to_corners(GA)\n",
    "# print(GA)\n",
    "# GT = convert_to_corners(GT)\n",
    "# print(GT)"
   ]
  },
  {
   "cell_type": "code",
   "execution_count": 27,
   "metadata": {},
   "outputs": [
    {
     "data": {
      "image/png": "[encoded data removed]",
      "text/plain": [
       "<Figure size 640x480 with 1 Axes>"
      ]
     },
     "metadata": {},
     "output_type": "display_data"
    }
   ],
   "source": [
    "import matplotlib.pyplot as plt\n",
    "import matplotlib.patches as patches\n",
    "\n",
    "# 주어진 바운딩 박스 데이터\n",
    "box1 = [50, 30, 70, 60]  # [x_min, y_min, x_max, y_max]\n",
    "box2 = [35, 45, 55, 75]\n",
    "\n",
    "# 그림 생성\n",
    "fig, ax = plt.subplots()\n",
    "\n",
    "# 첫 번째 바운딩 박스 추가\n",
    "rect1 = patches.Rectangle((box1[0], box1[1]), box1[2] - box1[0], box1[3] - box1[1], \n",
    "                          linewidth=2, edgecolor='blue', facecolor='none')\n",
    "ax.add_patch(rect1)\n",
    "\n",
    "# 두 번째 바운딩 박스 추가\n",
    "rect2 = patches.Rectangle((box2[0], box2[1]), box2[2] - box2[0], box2[3] - box2[1], \n",
    "                          linewidth=2, edgecolor='red', facecolor='none')\n",
    "ax.add_patch(rect2)\n",
    "\n",
    "# 축 범위 설정\n",
    "ax.set_xlim(0, 90)\n",
    "ax.set_ylim(0, 90)\n",
    "\n",
    "# 그림 표시\n",
    "plt.show()\n",
    "\n"
   ]
  },
  {
   "cell_type": "code",
   "execution_count": 28,
   "metadata": {},
   "outputs": [],
   "source": [
    "def match_anchor_boxes(anchor_boxes, gt_boxes, match_iou = 0.5, ignore_iou = 0.4):\n",
    "        iou_matrix = compute_iou(anchor_boxes, gt_boxes)\n",
    "        print(\"iou_matrix:  \", iou_matrix)\n",
    "        max_iou = tf.reduce_max(iou_matrix, axis=1)\n",
    "        print(\"max_iou:  \", max_iou)\n",
    "\n",
    "\n",
    "        matched_gt_idx = tf.argmax(iou_matrix, axis = 1)\n",
    "        print(\"matched_gt_idx:  \", matched_gt_idx)\n",
    "    \n",
    "        positive_mask = tf.greater_equal(max_iou, match_iou)\n",
    "        print(\"positive_mask:  \", positive_mask)\n",
    "        negative_mask = tf.less(max_iou, ignore_iou)\n",
    "        print(\"negative_mask:  \", negative_mask)\n",
    "\n",
    "        ignore_mask = tf.logical_not(tf.logical_or(positive_mask, negative_mask))\n",
    "        print(\"ignore_mask:  \", ignore_mask)\n",
    "        return (\n",
    "            matched_gt_idx,\n",
    "            tf.cast(positive_mask, dtype = tf.float32),\n",
    "            tf.cast(ignore_mask, dtype = tf.float32),\n",
    "        )\n",
    "        "
   ]
  },
  {
   "cell_type": "code",
   "execution_count": 29,
   "metadata": {},
   "outputs": [
    {
     "name": "stdout",
     "output_type": "stream",
     "text": [
      "(8, 4)\n",
      "(4, 4)\n"
     ]
    },
    {
     "name": "stdout",
     "output_type": "stream",
     "text": [
      "iou_matrix:   tf.Tensor(\n",
      "[[1.         0.03100775 0.         0.        ]\n",
      " [0.03100775 1.         0.         0.        ]\n",
      " [0.         0.         1.         0.        ]\n",
      " [0.         0.         0.         0.        ]\n",
      " [0.         0.         0.06003535 0.        ]\n",
      " [0.         0.         0.09293901 0.        ]\n",
      " [0.         0.         0.11408175 0.        ]\n",
      " [0.16311106 0.         0.         0.        ]], shape=(8, 4), dtype=float32)\n",
      "max_iou:   tf.Tensor(\n",
      "[1.         1.         1.         0.         0.06003535 0.09293901\n",
      " 0.11408175 0.16311106], shape=(8,), dtype=float32)\n",
      "matched_gt_idx:   tf.Tensor([0 1 2 0 2 2 2 0], shape=(8,), dtype=int64)\n",
      "positive_mask:   tf.Tensor([ True  True  True False False False False False], shape=(8,), dtype=bool)\n",
      "negative_mask:   tf.Tensor([False False False  True  True  True  True  True], shape=(8,), dtype=bool)\n",
      "ignore_mask:   tf.Tensor([False False False False False False False False], shape=(8,), dtype=bool)\n"
     ]
    }
   ],
   "source": [
    "anchor = np.array([\n",
    "                    [27.,  18.5,  8.,   7.],\n",
    "                    [18.5, 15.5, 11.,   7.],\n",
    "                    [ 6.,   4.,   8.,   6.],\n",
    "                    [ 0.,   0.,   0.,   0.],\n",
    "                    [ 1., 1., 4.242641, 8.485281 ],\n",
    "                    [ 1.,         1.,         5.3453927, 10.690784 ],\n",
    "                    [ 1.,         1.,         6.7347727, 13.469543 ],\n",
    "                    [30.,        22.,         9.899496,   4.949747 ]])\n",
    "\n",
    "gt_boxes = np.array([[27.,  18.5,  8.,   7., ],\n",
    "                     [18.5, 15.5, 11.,   7. ],\n",
    "                     [ 6.,   4.,   8.,   6. ],\n",
    "                     [ 0.,   0.,   0.,   0. ]])\n",
    "# print(gt_boxes.shape)\n",
    "a, b, c = match_anchor_boxes(tf.cast(anchor, tf.float32), tf.cast(gt_boxes, tf.float32))"
   ]
  },
  {
   "cell_type": "code",
   "execution_count": null,
   "metadata": {},
   "outputs": [],
   "source": []
  },
  {
   "cell_type": "code",
   "execution_count": 30,
   "metadata": {},
   "outputs": [],
   "source": [
    "class LabelEncoder:\n",
    "    def __init__(self):\n",
    "        self._anchor_box = AnchorBox()\n",
    "        self._box_variance = tf.convert_to_tensor(\n",
    "            [0.1, 0.1, 0.2, 0.2], dtype=tf.float32)\n",
    "    \n",
    "    def _match_anchor_boxes(self, anchor_boxes, gt_boxes, match_iou = 0.5, ignore_iou = 0.5):\n",
    "        iou_matrix = compute_iou(anchor_boxes, gt_boxes)\n",
    "        print(\"iou_matrix:  \", iou_matrix.shape)\n",
    "        max_iou = tf.reduce_max(iou_matrix, axis=1)\n",
    "        print(\"max_iou:  \", max_iou.shape)\n",
    "\n",
    "        matched_gt_idx = tf.argmax(iou_matrix, axis = 1)\n",
    "        print(\"matched_gt_idx:  \", matched_gt_idx)\n",
    "        print(\"max_iou:\", max_iou)\n",
    "        positive_mask = tf.greater_equal(max_iou, match_iou)\n",
    "        print(\"positive_mask:  \", positive_mask)\n",
    "        negative_mask = tf.less(max_iou, ignore_iou)\n",
    "        print(\"negative_mask:  \", negative_mask.shape)\n",
    "\n",
    "        ignore_mask = tf.logical_not(tf.logical_or(positive_mask, negative_mask))\n",
    "        print(\"ignore_mask:  \", ignore_mask.shape)\n",
    "        return (\n",
    "            matched_gt_idx,\n",
    "            tf.cast(positive_mask, dtype = tf.float32),\n",
    "            tf.cast(ignore_mask, dtype = tf.float32),\n",
    "        )\n",
    "    \n",
    "    def _compute_box_target(self, anchor_boxes, matched_gt_boxes):\n",
    "        print(\"_compute_box_target anchor_boxes: \", anchor_boxes)\n",
    "        print(\"_compute_box_target matched_gt_boxes : \", matched_gt_boxes)\n",
    "        box_target = tf.concat(\n",
    "            [\n",
    "                (matched_gt_boxes[:, :2] - anchor_boxes[:, :2]) / anchor_boxes[:, 2:],\n",
    "                tf.math.log(matched_gt_boxes[:, 2:] / anchor_boxes[:, 2:])\n",
    "            ],\n",
    "            axis = -1,\n",
    "        )\n",
    "        print(\"box_target:  \", box_target)\n",
    "        box_target = box_target / self._box_variance\n",
    "        print(\"box_target:  \", box_target)\n",
    "        return box_target\n",
    "    \n",
    "\n",
    "    def _encode_sample(self, image_shape, gt_boxes, cls_ids):        \n",
    "        print(\"image_shape:\", image_shape.shape)\n",
    "        anchor_boxes = self._anchor_box.get_anchors(image_shape[1], image_shape[2])\n",
    "        # 앵커 박스 정규화\n",
    "        xmin = anchor_boxes[:, 0] / RES_WIDTH\n",
    "        ymin = anchor_boxes[:, 1] / RES_HEIGHT\n",
    "        xmax = anchor_boxes[:, 2] / RES_WIDTH\n",
    "        ymax = anchor_boxes[:, 3] / RES_HEIGHT\n",
    "\n",
    "        # 정규화된 좌표를 스택으로 결합\n",
    "        normalized_anchor = tf.stack([xmin, ymin, xmax, ymax], axis=-1)\n",
    "        \n",
    "        print(\"anchor_boxes  : \", normalized_anchor)\n",
    "        cls_ids = tf.cast(cls_ids, dtype=tf.float32)\n",
    "        print(\"cls_ids\", cls_ids)\n",
    "        matched_gt_idx, positive_mask, ignore_mask = self._match_anchor_boxes(\n",
    "            normalized_anchor, gt_boxes\n",
    "        )\n",
    "        print(\"matched_gt_idx:  \", matched_gt_idx)\n",
    "        print(\"positive_mask:  \", positive_mask)\n",
    "        print(\"ignore_mask:  \", ignore_mask)\n",
    "\n",
    "        matched_gt_boxes = tf.gather(gt_boxes, matched_gt_idx)\n",
    "\n",
    "        print(\"matched_gt_boxes:  \", matched_gt_boxes)\n",
    "        \n",
    "        box_target = self._compute_box_target(normalized_anchor, matched_gt_boxes)\n",
    "        print(\"box_target:  \", box_target)\n",
    "\n",
    "        matched_gt_cls_ids = tf.gather(cls_ids, matched_gt_idx)\n",
    "        print(\"matched_gt_cls_ids:  \", matched_gt_cls_ids)\n",
    "        \n",
    "        cls_target = tf.where(tf.cast(positive_mask, tf.bool), matched_gt_cls_ids, -1.0)\n",
    "        cls_target = tf.where(tf.cast(ignore_mask, tf.bool), -2.0, cls_target)\n",
    "\n",
    "        print(\"cls_target:  \", cls_target)\n",
    "\n",
    "        cls_target = tf.expand_dims(cls_target, axis=-1)\n",
    "        print(\"cls_target:  \", cls_target)\n",
    "        num_ones = tf.math.count_nonzero(tf.equal(cls_target, 1.0))\n",
    "        print(\"Number of 1.0 values in cls_target:\", num_ones)\n",
    "\n",
    "\n",
    "        label = tf.concat([box_target, cls_target], axis=-1)\n",
    "        print(\"label:  \", label)\n",
    "        return label\n",
    "\n",
    "    def encode_batch(self, batch_images, gt_boxes, cls_ids):       \n",
    "        images_shape = tf.shape(batch_images)\n",
    "        print(\"images_shape:  \", images_shape)\n",
    "        batch_size = images_shape[0]\n",
    "        print(\"batch_size:  \", batch_size)\n",
    "\n",
    "        print(\"gt_boxes: \", gt_boxes)\n",
    "\n",
    "        labels = tf.TensorArray(dtype=tf.float32, size=batch_size, dynamic_size=True)\n",
    "        print(\"labels:  \", labels)\n",
    "        # batch_size_val = batch_size.numpy()\n",
    "        for i in range(batch_size):\n",
    "            label = self._encode_sample(images_shape, gt_boxes[i], cls_ids[i])\n",
    "            print(\"label:  \", label)\n",
    "            labels = labels.write(i, label)\n",
    "        return batch_images, labels.stack()"
   ]
  },
  {
   "cell_type": "markdown",
   "metadata": {},
   "source": []
  },
  {
   "cell_type": "code",
   "execution_count": 31,
   "metadata": {},
   "outputs": [
    {
     "name": "stdout",
     "output_type": "stream",
     "text": [
      "Eager execution:  True\n"
     ]
    }
   ],
   "source": [
    "print(\"Eager execution: \", tf.executing_eagerly())\n",
    "if not tf.executing_eagerly():\n",
    "    tf.compat.v1.enable_eager_execution()"
   ]
  },
  {
   "cell_type": "code",
   "execution_count": 32,
   "metadata": {},
   "outputs": [
    {
     "name": "stdout",
     "output_type": "stream",
     "text": [
      "(1, 24, 32, 1) (1, 4, 4) (1, 4)\n",
      "images_shape:   tf.Tensor([ 1 24 32  1], shape=(4,), dtype=int32)\n",
      "batch_size:   tf.Tensor(1, shape=(), dtype=int32)\n",
      "gt_boxes:  tf.Tensor(\n",
      "[[[0.765625   0.875      0.15625    0.25      ]\n",
      "  [0.40625    0.8541666  0.25       0.2916667 ]\n",
      "  [0.625      0.6875     0.3125     0.29166663]\n",
      "  [0.65625    0.4791667  0.25       0.29166666]]], shape=(1, 4, 4), dtype=float32)\n",
      "labels:   <tensorflow.python.ops.tensor_array_ops.TensorArray object at 0x7f879849eac0>\n",
      "image_shape: (4,)\n",
      "anchor_boxes  :  tf.Tensor(\n",
      "[[0.015625   0.02083333 0.13724026 0.30497834]\n",
      " [0.015625   0.02083333 0.17291188 0.3842486 ]\n",
      " [0.015625   0.02083333 0.15847139 0.26411897]\n",
      " ...\n",
      " [0.9375     0.9166667  0.28839985 0.48066643]\n",
      " [0.9375     0.9166667  0.2684127  0.32534873]\n",
      " [0.9375     0.9166667  0.33817878 0.4099137 ]], shape=(6048, 4), dtype=float32)\n",
      "cls_ids tf.Tensor([1. 1. 1. 1.], shape=(4,), dtype=float32)\n",
      "(6048, 4)\n",
      "(4, 4)\n",
      "iou_matrix:   (6048, 4)\n",
      "max_iou:   (6048,)\n",
      "matched_gt_idx:   tf.Tensor([0 0 0 ... 0 0 0], shape=(6048,), dtype=int64)\n",
      "max_iou: tf.Tensor([0.         0.         0.         ... 0.07640491 0.08547557 0.11856867], shape=(6048,), dtype=float32)\n",
      "positive_mask:   tf.Tensor([False False False ... False False False], shape=(6048,), dtype=bool)\n",
      "negative_mask:   (6048,)\n",
      "ignore_mask:   (6048,)\n",
      "matched_gt_idx:   tf.Tensor([0 0 0 ... 0 0 0], shape=(6048,), dtype=int64)\n",
      "positive_mask:   tf.Tensor([0. 0. 0. ... 0. 0. 0.], shape=(6048,), dtype=float32)\n",
      "ignore_mask:   tf.Tensor([0. 0. 0. ... 0. 0. 0.], shape=(6048,), dtype=float32)\n",
      "matched_gt_boxes:   tf.Tensor(\n",
      "[[0.765625 0.875    0.15625  0.25    ]\n",
      " [0.765625 0.875    0.15625  0.25    ]\n",
      " [0.765625 0.875    0.15625  0.25    ]\n",
      " ...\n",
      " [0.765625 0.875    0.15625  0.25    ]\n",
      " [0.765625 0.875    0.15625  0.25    ]\n",
      " [0.765625 0.875    0.15625  0.25    ]], shape=(6048, 4), dtype=float32)\n",
      "_compute_box_target anchor_boxes:  tf.Tensor(\n",
      "[[0.015625   0.02083333 0.13724026 0.30497834]\n",
      " [0.015625   0.02083333 0.17291188 0.3842486 ]\n",
      " [0.015625   0.02083333 0.15847139 0.26411897]\n",
      " ...\n",
      " [0.9375     0.9166667  0.28839985 0.48066643]\n",
      " [0.9375     0.9166667  0.2684127  0.32534873]\n",
      " [0.9375     0.9166667  0.33817878 0.4099137 ]], shape=(6048, 4), dtype=float32)\n",
      "_compute_box_target matched_gt_boxes :  tf.Tensor(\n",
      "[[0.765625 0.875    0.15625  0.25    ]\n",
      " [0.765625 0.875    0.15625  0.25    ]\n",
      " [0.765625 0.875    0.15625  0.25    ]\n",
      " ...\n",
      " [0.765625 0.875    0.15625  0.25    ]\n",
      " [0.765625 0.875    0.15625  0.25    ]\n",
      " [0.765625 0.875    0.15625  0.25    ]], shape=(6048, 4), dtype=float32)\n",
      "box_target:   tf.Tensor(\n",
      "[[ 5.4648685   2.8007455   0.12972414 -0.19877985]\n",
      " [ 4.3374696   2.222953   -0.10132485 -0.42982882]\n",
      " [ 4.7327156   3.2340224  -0.01411682 -0.05493871]\n",
      " ...\n",
      " [-0.5959608  -0.08668524 -0.61289054 -0.65371263]\n",
      " [-0.64033854 -0.12806776 -0.54106843 -0.26343668]\n",
      " [-0.50823706 -0.10164747 -0.7721174  -0.49448568]], shape=(6048, 4), dtype=float32)\n",
      "box_target:   tf.Tensor(\n",
      "[[54.648685   28.007454    0.6486207  -0.9938992 ]\n",
      " [43.374695   22.22953    -0.5066242  -2.1491442 ]\n",
      " [47.327156   32.34022    -0.07058408 -0.27469355]\n",
      " ...\n",
      " [-5.959608   -0.8668524  -3.0644526  -3.268563  ]\n",
      " [-6.403385   -1.2806776  -2.705342   -1.3171834 ]\n",
      " [-5.0823708  -1.0164746  -3.860587   -2.4724283 ]], shape=(6048, 4), dtype=float32)\n",
      "box_target:   tf.Tensor(\n",
      "[[54.648685   28.007454    0.6486207  -0.9938992 ]\n",
      " [43.374695   22.22953    -0.5066242  -2.1491442 ]\n",
      " [47.327156   32.34022    -0.07058408 -0.27469355]\n",
      " ...\n",
      " [-5.959608   -0.8668524  -3.0644526  -3.268563  ]\n",
      " [-6.403385   -1.2806776  -2.705342   -1.3171834 ]\n",
      " [-5.0823708  -1.0164746  -3.860587   -2.4724283 ]], shape=(6048, 4), dtype=float32)\n",
      "matched_gt_cls_ids:   tf.Tensor([1. 1. 1. ... 1. 1. 1.], shape=(6048,), dtype=float32)\n",
      "cls_target:   tf.Tensor([-1. -1. -1. ... -1. -1. -1.], shape=(6048,), dtype=float32)\n",
      "cls_target:   tf.Tensor(\n",
      "[[-1.]\n",
      " [-1.]\n",
      " [-1.]\n",
      " ...\n",
      " [-1.]\n",
      " [-1.]\n",
      " [-1.]], shape=(6048, 1), dtype=float32)\n",
      "Number of 1.0 values in cls_target: tf.Tensor(240, shape=(), dtype=int64)\n",
      "label:   tf.Tensor(\n",
      "[[54.648685   28.007454    0.6486207  -0.9938992  -1.        ]\n",
      " [43.374695   22.22953    -0.5066242  -2.1491442  -1.        ]\n",
      " [47.327156   32.34022    -0.07058408 -0.27469355 -1.        ]\n",
      " ...\n",
      " [-5.959608   -0.8668524  -3.0644526  -3.268563   -1.        ]\n",
      " [-6.403385   -1.2806776  -2.705342   -1.3171834  -1.        ]\n",
      " [-5.0823708  -1.0164746  -3.860587   -2.4724283  -1.        ]], shape=(6048, 5), dtype=float32)\n",
      "label:   tf.Tensor(\n",
      "[[54.648685   28.007454    0.6486207  -0.9938992  -1.        ]\n",
      " [43.374695   22.22953    -0.5066242  -2.1491442  -1.        ]\n",
      " [47.327156   32.34022    -0.07058408 -0.27469355 -1.        ]\n",
      " ...\n",
      " [-5.959608   -0.8668524  -3.0644526  -3.268563   -1.        ]\n",
      " [-6.403385   -1.2806776  -2.705342   -1.3171834  -1.        ]\n",
      " [-5.0823708  -1.0164746  -3.860587   -2.4724283  -1.        ]], shape=(6048, 5), dtype=float32)\n"
     ]
    }
   ],
   "source": [
    "label_encoder = LabelEncoder()\n",
    "\n",
    "for image, bbox, label in train_dataset.take(1):\n",
    "    img, box, label = preprocess_data(image, bbox, label)\n",
    "    print(img.shape, box.shape, label.shape)\n",
    "\n",
    "    label_encoder.encode_batch(img, box, label)\n",
    "    "
   ]
  },
  {
   "cell_type": "code",
   "execution_count": 33,
   "metadata": {},
   "outputs": [],
   "source": [
    "label_encoder = LabelEncoder()\n",
    "\n",
    "autotune = tf.data.AUTOTUNE\n",
    "train_dataset = train_dataset.map(preprocess_data, num_parallel_calls=autotune)"
   ]
  },
  {
   "cell_type": "code",
   "execution_count": 34,
   "metadata": {},
   "outputs": [
    {
     "name": "stdout",
     "output_type": "stream",
     "text": [
      "(1, 24, 32, 1)\n",
      "(1, 4, 4)\n",
      "(1, 4)\n"
     ]
    }
   ],
   "source": [
    "for img, bbox, label in train_dataset.take(1):\n",
    "    print(img.shape)\n",
    "    print(bbox.shape)\n",
    "    print(label.shape)"
   ]
  },
  {
   "cell_type": "code",
   "execution_count": 35,
   "metadata": {},
   "outputs": [
    {
     "name": "stdout",
     "output_type": "stream",
     "text": [
      "images_shape:   Tensor(\"Shape:0\", shape=(4,), dtype=int32)\n",
      "batch_size:   Tensor(\"strided_slice:0\", shape=(), dtype=int32)\n",
      "gt_boxes:  Tensor(\"args_1:0\", shape=(1, None, 4), dtype=float32)\n",
      "labels:   <tensorflow.python.ops.tensor_array_ops.TensorArray object at 0x7f8798420580>\n",
      "image_shape: (4,)\n",
      "anchor_boxes  :  Tensor(\"while/stack_3:0\", shape=(None, 4), dtype=float32)\n",
      "cls_ids Tensor(\"while/Cast:0\", dtype=float32)\n",
      "(None, 4)\n",
      "(None, 4)\n",
      "iou_matrix:   (None, None)\n",
      "max_iou:   (None,)\n",
      "matched_gt_idx:   Tensor(\"while/ArgMax:0\", shape=(None,), dtype=int64)\n",
      "max_iou: Tensor(\"while/Max:0\", shape=(None,), dtype=float32)\n",
      "positive_mask:   Tensor(\"while/GreaterEqual:0\", shape=(None,), dtype=bool)\n",
      "negative_mask:   (None,)\n",
      "ignore_mask:   (None,)\n",
      "matched_gt_idx:   Tensor(\"while/ArgMax:0\", shape=(None,), dtype=int64)\n",
      "positive_mask:   Tensor(\"while/Cast_1:0\", shape=(None,), dtype=float32)\n",
      "ignore_mask:   Tensor(\"while/Cast_2:0\", shape=(None,), dtype=float32)\n",
      "matched_gt_boxes:   Tensor(\"while/GatherV2:0\", shape=(None, 4), dtype=float32)\n",
      "_compute_box_target anchor_boxes:  Tensor(\"while/stack_3:0\", shape=(None, 4), dtype=float32)\n",
      "_compute_box_target matched_gt_boxes :  Tensor(\"while/GatherV2:0\", shape=(None, 4), dtype=float32)\n",
      "box_target:   Tensor(\"while/concat_6:0\", shape=(None, 4), dtype=float32)\n",
      "box_target:   Tensor(\"while/truediv_17:0\", shape=(None, 4), dtype=float32)\n",
      "box_target:   Tensor(\"while/truediv_17:0\", shape=(None, 4), dtype=float32)\n",
      "matched_gt_cls_ids:   Tensor(\"while/GatherV2_1:0\", dtype=float32)\n",
      "cls_target:   Tensor(\"while/SelectV2_1:0\", dtype=float32)\n",
      "cls_target:   Tensor(\"while/ExpandDims_3:0\", dtype=float32)\n",
      "Number of 1.0 values in cls_target: Tensor(\"while/count_nonzero/Sum:0\", shape=(), dtype=int64)\n",
      "label:   Tensor(\"while/concat_7:0\", shape=(None, None), dtype=float32)\n",
      "label:   Tensor(\"while/concat_7:0\", shape=(None, None), dtype=float32)\n"
     ]
    }
   ],
   "source": [
    "train_dataset = train_dataset.map(\n",
    "    label_encoder.encode_batch, num_parallel_calls=autotune\n",
    ")"
   ]
  },
  {
   "cell_type": "code",
   "execution_count": 36,
   "metadata": {},
   "outputs": [
    {
     "name": "stdout",
     "output_type": "stream",
     "text": [
      "1.0 0.020242915\n",
      "(1, 6048, 5)\n",
      "Positive 개수: 240\n",
      "Negative 개수: 5808\n",
      "1.0 0.0\n",
      "(1, 6048, 5)\n",
      "Positive 개수: 183\n",
      "Negative 개수: 5865\n",
      "1.0 0.0\n",
      "(1, 6048, 5)\n",
      "Positive 개수: 195\n",
      "Negative 개수: 5853\n"
     ]
    }
   ],
   "source": [
    "positive_count = []\n",
    "negative_count = []\n",
    "ignore_count = []\n",
    "for batch in train_dataset.take(3):\n",
    "    images, labels = batch\n",
    "    print(np.array(images).max(), np.array(images).min())\n",
    "    print(labels.shape)\n",
    "\n",
    "    # labels 텐서에서 positive, negative, ignore 값의 개수를 계산\n",
    "    positive_count = tf.reduce_sum(tf.cast(tf.equal(labels[0, :, 4], 1.0), tf.int32))\n",
    "    negative_count = tf.reduce_sum(tf.cast(tf.equal(labels[0, :, 4], -1.0), tf.int32))\n",
    "    ignore_count = tf.reduce_sum(tf.cast(tf.equal(labels[0, :, 4], -2.0), tf.int32))\n",
    "\n",
    "    print(\"Positive 개수:\", positive_count.numpy())\n",
    "    print(\"Negative 개수:\", negative_count.numpy())\n",
    "    # print(\"Ignore 개수:\", ignore_count.numpy())\n"
   ]
  },
  {
   "cell_type": "code",
   "execution_count": 37,
   "metadata": {},
   "outputs": [
    {
     "name": "stdout",
     "output_type": "stream",
     "text": [
      "Positive 개수: 202\n",
      "Negative 개수: 5846\n",
      "Ignore 개수: 0\n",
      "Positive 202\n"
     ]
    },
    {
     "data": {
      "image/png": "[encoded data removed]",
      "text/plain": [
       "<Figure size 640x480 with 1 Axes>"
      ]
     },
     "metadata": {},
     "output_type": "display_data"
    }
   ],
   "source": [
    "def decode_predictions(labels, anchors, box_variance=[0.1, 0.1, 0.2, 0.2]):\n",
    "    decoded_boxes = []\n",
    "    label_idx = 0\n",
    "    for label in labels:\n",
    "        # if label[4] == 1.0:\n",
    "        #     print(\"label:\", label)\n",
    "        # elif label[4] == -1.0:\n",
    "        #     print(\"label:\", label)\n",
    "        dx, dy, dw, dh = label[:4]\n",
    "        anchor = anchors[label_idx]\n",
    "        anchor_x, anchor_y, anchor_w, anchor_h = anchor\n",
    "        cx = dx * box_variance[0] * anchor_w + anchor_x\n",
    "        cy = dy * box_variance[1] * anchor_h + anchor_y\n",
    "        width = np.exp(dw * box_variance[2]) * anchor_w\n",
    "        height = np.exp(dh * box_variance[3]) * anchor_h\n",
    "        x_min = cx - width / 2\n",
    "        y_min = cy - height / 2\n",
    "        decoded_box = [x_min, y_min, width, height]\n",
    "        # print(np.array(decoded_box))\n",
    "        if label[4] == 1.0:\n",
    "            decoded_boxes.append(decoded_box)\n",
    "        label_idx += 1\n",
    "        # if len(np.array(decoded_boxes)) > 1: \n",
    "            # break\n",
    "    print(\"Positive\",len(np.array(decoded_boxes)))\n",
    "    return decoded_boxes    \n",
    "    # print(np.array(decoded_boxes))\n",
    "    \n",
    "\n",
    "# 바운딩 박스 그리기 함수\n",
    "def draw_positive_bounding_boxes(image, decoded_boxes):\n",
    "    plt.imshow(image)\n",
    "    ax = plt.gca()\n",
    "    # print(len(decoded_boxes))\n",
    "    i = 0\n",
    "    for box in decoded_boxes:\n",
    "        i+=1\n",
    "        # print(box)\n",
    "        x_min, y_min, width, height = box\n",
    "        rect = patches.Rectangle((x_min, y_min), width, height, linewidth=1, edgecolor='r', facecolor='none')\n",
    "        ax.add_patch(rect)\n",
    "    # print(i)\n",
    "    plt.show()\n",
    "\n",
    "# 앵커 박스 생성\n",
    "anchor_box = AnchorBox()\n",
    "anchors = anchor_box.get_anchors(24, 32)\n",
    "# train_dataset에서 첫 번째 배치를 가져오고, 바운딩 박스 그리기\n",
    "for batch in train_dataset.take(1):\n",
    "    image = batch[0][0].numpy()\n",
    "    labels = batch[1][0].numpy()  # 여기서 labels는 [오프셋x, 오프셋y, 스케일w, 스케일h, 클래스, 앵커 박스 인덱스]를 포함한다고 가정\n",
    "    # print(labels)\n",
    "    positive_count = tf.reduce_sum(tf.cast(tf.equal(labels[:, 4], 1.0), tf.int32))\n",
    "    negative_count = tf.reduce_sum(tf.cast(tf.equal(labels[:, 4], -1.0), tf.int32))\n",
    "    ignore_count = tf.reduce_sum(tf.cast(tf.equal(labels[:, 4], -2.0), tf.int32))\n",
    "\n",
    "    print(\"Positive 개수:\", positive_count.numpy())\n",
    "    print(\"Negative 개수:\", negative_count.numpy())\n",
    "    print(\"Ignore 개수:\", ignore_count.numpy())\n",
    "\n",
    "    # 오프셋 디코딩 및 바운딩 박스 그리기\n",
    "    decoded_boxes = decode_predictions(labels, anchors)\n",
    "    draw_positive_bounding_boxes(image, decoded_boxes)"
   ]
  },
  {
   "cell_type": "code",
   "execution_count": null,
   "metadata": {},
   "outputs": [],
   "source": []
  },
  {
   "cell_type": "code",
   "execution_count": 38,
   "metadata": {},
   "outputs": [],
   "source": [
    "class Conv(layers.Layer):\n",
    "    def __init__(self, out_channels, kernel_size=3, stride=2, padding='SAME'):\n",
    "        super(Conv, self).__init__()\n",
    "        self.conv = layers.Conv2D(out_channels, kernel_size, strides=stride, padding=padding, kernel_initializer=tf.keras.initializers.HeNormal())\n",
    "        self.batch_norm = layers.BatchNormalization()\n",
    "        self.relu = layers.Activation('relu')\n",
    "\n",
    "    def call(self, x):\n",
    "        x = self.conv(x)\n",
    "        x = self.batch_norm(x)\n",
    "        return self.relu(x)"
   ]
  },
  {
   "cell_type": "code",
   "execution_count": 39,
   "metadata": {},
   "outputs": [],
   "source": [
    "class Bottleneck(layers.Layer):\n",
    "    def __init__(self, out_channels, stride=1):\n",
    "        super(Bottleneck, self).__init__()\n",
    "        self.conv_0 = Conv(out_channels, kernel_size=1, stride=stride, padding='same')\n",
    "        self.conv_1 = Conv(out_channels, kernel_size=3, stride=stride, padding='same')\n",
    "\n",
    "    def call(self, x):\n",
    "        identity = x\n",
    "        out = self.conv_0(x)\n",
    "        out = self.conv_1(out)\n",
    "        out += identity\n",
    "        return out"
   ]
  },
  {
   "cell_type": "code",
   "execution_count": 40,
   "metadata": {},
   "outputs": [],
   "source": [
    "class ChannelAttention(layers.Layer):\n",
    "    def __init__(self, pool_types=['avg', 'max'], kernel_size=3):\n",
    "        super(ChannelAttention, self).__init__()\n",
    "        self.pool_types = pool_types\n",
    "        self.conv = layers.Conv2D(1, kernel_size=kernel_size, strides=1, padding='same', use_bias=False, kernel_initializer=tf.keras.initializers.HeNormal())\n",
    "        self.sigmoid = layers.Activation('sigmoid')\n",
    "\n",
    "    def call(self, x):\n",
    "        pooled_features = []\n",
    "        for pool_type in self.pool_types:\n",
    "            if pool_type == 'avg':\n",
    "                pooled = tf.reduce_mean(x, axis=[1, 2], keepdims=True)\n",
    "            elif pool_type == 'max':\n",
    "                pooled = tf.reduce_max(x, axis=[1, 2], keepdims=True)\n",
    "            pooled_features.append(pooled)\n",
    "        \n",
    "        concat = tf.concat(pooled_features, axis=-1)\n",
    "        attention = self.conv(concat)\n",
    "        attention = self.sigmoid(attention)\n",
    "        return x * attention"
   ]
  },
  {
   "cell_type": "code",
   "execution_count": 41,
   "metadata": {},
   "outputs": [],
   "source": [
    "class SpatialAttention(layers.Layer):\n",
    "    def __init__(self, kernel_size=3):\n",
    "        super(SpatialAttention, self).__init__()\n",
    "        self.conv = layers.Conv2D(1, kernel_size=kernel_size, strides=1, padding='same', use_bias=False, kernel_initializer=tf.keras.initializers.HeNormal())\n",
    "        self.sigmoid = layers.Activation('sigmoid')\n",
    "\n",
    "    def call(self, x):\n",
    "        avg_out = tf.reduce_mean(x, axis=-1, keepdims=True)\n",
    "        max_out = tf.reduce_max(x, axis=-1, keepdims=True)\n",
    "        x = tf.concat([avg_out, max_out], axis=-1)\n",
    "        x = self.conv(x)\n",
    "        return self.sigmoid(x)\n"
   ]
  },
  {
   "cell_type": "code",
   "execution_count": 42,
   "metadata": {},
   "outputs": [],
   "source": [
    "class CBAM(layers.Layer):\n",
    "    def __init__(self, pool_types=['avg', 'max'], kernel_size=3):\n",
    "        super(CBAM, self).__init__()\n",
    "        self.channel_attention = ChannelAttention(pool_types, kernel_size)\n",
    "        self.spatial_attention = SpatialAttention(kernel_size)\n",
    "\n",
    "    def call(self, x):\n",
    "        x = self.channel_attention(x)\n",
    "        x = self.spatial_attention(x) * x\n",
    "        return x"
   ]
  },
  {
   "cell_type": "code",
   "execution_count": 43,
   "metadata": {},
   "outputs": [],
   "source": [
    "class SPPF(layers.Layer):\n",
    "    def __init__(self, out_channels, kernel_size=3, stride=1, padding='SAME'):\n",
    "        super(SPPF, self).__init__()\n",
    "        self.conv1 = Conv(out_channels, kernel_size=kernel_size, stride=stride, padding=padding)\n",
    "        self.maxpool1 = layers.MaxPooling2D(pool_size=1, strides=1, padding='SAME')\n",
    "        self.maxpool2 = layers.MaxPooling2D(pool_size=3, strides=1, padding='SAME')\n",
    "        self.maxpool3 = layers.MaxPooling2D(pool_size=5, strides=1, padding='SAME')\n",
    "        self.conv2 = Conv(out_channels, kernel_size=kernel_size, stride=stride, padding=padding)\n",
    "    def call(self, inputs):\n",
    "        x = self.conv1(inputs)\n",
    "    \n",
    "        pool1 = self.maxpool1(x)\n",
    "        pool2 = self.maxpool2(x)\n",
    "        pool3 = self.maxpool3(x)\n",
    "\n",
    "        concatenated = tf.concat([x, pool1, pool2, pool3], axis=-1)\n",
    "\n",
    "        out = self.conv2(concatenated)\n",
    "        return out"
   ]
  },
  {
   "cell_type": "code",
   "execution_count": 44,
   "metadata": {},
   "outputs": [],
   "source": [
    "# MultiStageFeatureExtractionLayer\n",
    "class MSFELayer(layers.Layer):\n",
    "    def __init__(self, sperate_input_channel, out_channel):\n",
    "        super(MSFELayer, self).__init__()\n",
    "        self.cbam = CBAM()\n",
    "        self.bottleneck = Bottleneck(sperate_input_channel)\n",
    "        self.conv_out = Conv(out_channel, kernel_size=3, stride=1, padding='SAME')\n",
    "\n",
    "    def call(self, x):\n",
    "        cbam = self.cbam(x)\n",
    "        bottle = self.bottleneck(x)\n",
    "        out = tf.concat([bottle, cbam], axis = -1)\n",
    "        out = self.conv_out(out)\n",
    "        return out\n"
   ]
  },
  {
   "cell_type": "code",
   "execution_count": 45,
   "metadata": {},
   "outputs": [],
   "source": [
    "class Upsample(layers.Layer):\n",
    "    def __init__(self, size, interpolation = 'bilinear'):\n",
    "        super(Upsample, self).__init__()\n",
    "        self.upsample = layers.UpSampling2D(size=size, interpolation = interpolation)\n",
    "        # self.conv = layers.Conv2D(out_channel, kernel_size = 1, strides = 1, padding='same', kernel_initializer=tf.keras.initializers.HeNormal())\n",
    "    def call(self, inputs):\n",
    "        out = self.upsample(inputs)\n",
    "        # out = self.conv(out)\n",
    "        return out\n"
   ]
  },
  {
   "cell_type": "code",
   "execution_count": 46,
   "metadata": {},
   "outputs": [],
   "source": [
    "class Conv2DTranspose(layers.Layer):\n",
    "    def __init__(self, out_channel, size):\n",
    "        super(Conv2DTranspose, self).__init__()\n",
    "        self.transpose = layers.Conv2DTranspose(filters=out_channel, kernel_size=3, strides=size, padding='same', kernel_initializer=tf.keras.initializers.HeNormal())\n",
    "\n",
    "    def call(self, x):\n",
    "        return self.transpose(x)\n",
    "    "
   ]
  },
  {
   "cell_type": "code",
   "execution_count": 47,
   "metadata": {},
   "outputs": [],
   "source": [
    "class CSUpsample(layers.Layer):\n",
    "    def __init__(self, out_channel, kernel_size, size, interpolation = 'bilinear'):\n",
    "        super(CSUpsample, self).__init__()\n",
    "        self.upsample = Upsample(size=size, interpolation = interpolation)\n",
    "        self.transpose = Conv2DTranspose(out_channel * 2, size=size)\n",
    "        self.conv = Conv(out_channel, kernel_size = kernel_size, stride=1, padding='SAME')\n",
    "    \n",
    "    def call(self, x):\n",
    "        upsample, transpose = tf.split(x, num_or_size_splits=2, axis=-1)\n",
    "        upsample = self.upsample(upsample)\n",
    "        transpose = self.transpose(transpose)\n",
    "\n",
    "        out = tf.concat([upsample, transpose], axis = -1)\n",
    "        out = self.conv(out)\n",
    "        return out"
   ]
  },
  {
   "cell_type": "code",
   "execution_count": 48,
   "metadata": {},
   "outputs": [],
   "source": [
    "class SelfAttention(layers.Layer):\n",
    "    def __init__(self, filters, reduction=2, **kwargs):\n",
    "        super(SelfAttention, self).__init__(**kwargs)\n",
    "        self.filters = filters\n",
    "        self.reduction = reduction\n",
    "        self.f = layers.Conv2D(filters // reduction, 1, use_bias=False)\n",
    "        self.g = layers.Conv2D(filters // reduction, 1, use_bias=False)\n",
    "        self.h = layers.Conv2D(filters, 1, use_bias=False)\n",
    "        self.softmax = layers.Softmax(axis=-1)\n",
    "\n",
    "    def call(self, x):\n",
    "        f = self.f(x)\n",
    "        g = self.g(x)\n",
    "        h = self.h(x)\n",
    "\n",
    "        s = tf.matmul(g, f, transpose_b=True)\n",
    "        beta = self.softmax(s)\n",
    "\n",
    "        o = tf.matmul(beta, h)\n",
    "        o = tf.add(o, x)\n",
    "        return o\n",
    "\n",
    "    def compute_output_shape(self, input_shape):\n",
    "        return input_shape"
   ]
  },
  {
   "cell_type": "code",
   "execution_count": 49,
   "metadata": {},
   "outputs": [],
   "source": [
    "class BackBone(tf.keras.layers.Layer):\n",
    "    def __init__(self):\n",
    "        super(BackBone, self).__init__()\n",
    "        self.conv1 = Conv(out_channels=8, kernel_size=3, stride=1) # 24, 32\n",
    "        self.msfe1 = MSFELayer(8, 12)\n",
    "\n",
    "        self.conv2 = Conv(out_channels=12, kernel_size=3, stride=2) # 12, 16\n",
    "        self.msfe2 = MSFELayer(12, 20)\n",
    "\n",
    "        self.conv3 = Conv(out_channels=20, kernel_size=3, stride=2) # 6, 8\n",
    "        self.msfe3 = MSFELayer(20, 28)\n",
    "\n",
    "        self.conv4 = Conv(out_channels=28, kernel_size=3, stride=2) # 3, 4\n",
    "        self.msfe4 = MSFELayer(28, 36)\n",
    "        # self.sppf = SPPFast(24)\n",
    "\n",
    "    def call(self, inputs):\n",
    "        p1 = self.conv1(inputs) \n",
    "        p1_out = self.msfe1(p1) # 24, 32, 18\n",
    "\n",
    "        p2 = self.conv2(p1_out)\n",
    "        p2_out = self.msfe2(p2) # 12, 16, 21\n",
    "\n",
    "        p3 = self.conv3(p2_out) \n",
    "        p3_out = self.msfe3(p3) # 6, 8, 24\n",
    "\n",
    "        p4 = self.conv4(p3_out)\n",
    "        p4_out = self.msfe4(p4) # 3, 4, 27\n",
    "\n",
    "        # return p1_out, p2_out, p3_out, p4_out\n",
    "        return p1_out, p2_out, p3_out, p4_out"
   ]
  },
  {
   "cell_type": "code",
   "execution_count": 50,
   "metadata": {},
   "outputs": [],
   "source": [
    "class FPPN(tf.keras.layers.Layer):\n",
    "    def __init__(self):\n",
    "        super(FPPN, self).__init__()\n",
    "        self.csupsample1 = layers.Conv2DTranspose(filters=36, kernel_size=3, strides=(2, 2), padding='same', kernel_initializer=tf.keras.initializers.HeNormal())\n",
    "        self.csupsample2 = layers.Conv2DTranspose(filters=36, kernel_size=3, strides=(2, 2), padding='same', kernel_initializer=tf.keras.initializers.HeNormal())\n",
    "        self.csupsample3 = layers.Conv2DTranspose(filters=36, kernel_size=3, strides=(2, 2), padding='same', kernel_initializer=tf.keras.initializers.HeNormal())\n",
    "        # FPN layers\n",
    "        self.lateral_conv1 = MSFELayer(12, 36)\n",
    "        self.lateral_conv2 = MSFELayer(20, 36)\n",
    "        self.lateral_conv3 = MSFELayer(28, 36)\n",
    "        self.lateral_conv4 = MSFELayer(36, 36)\n",
    "        \n",
    "        self.smooth_conv1 = layers.Conv2D(36, 3, padding='same', kernel_initializer=tf.keras.initializers.HeNormal(), use_bias=False)\n",
    "        self.smooth_conv2 = layers.Conv2D(36, 3, padding='same', kernel_initializer=tf.keras.initializers.HeNormal(), use_bias=False)\n",
    "        self.smooth_conv3 = layers.Conv2D(36, 3, padding='same', kernel_initializer=tf.keras.initializers.HeNormal(), use_bias=False)\n",
    "        \n",
    "#   • c1=tf.Tensor(shape=(None, 24, 32, 12), dtype=float32)\n",
    "#   • c2=tf.Tensor(shape=(None, 12, 16, 12), dtype=float32)\n",
    "#   • c3=tf.Tensor(shape=(None, 6, 8, 20), dtype=float32)\n",
    "\n",
    "    def call(self, p1_out, p2_out, p3_out, p4_out):\n",
    "        lateral_conv1 = self.lateral_conv1(p1_out)\n",
    "        lateral_conv2 = self.lateral_conv2(p2_out)\n",
    "        lateral_conv3 = self.lateral_conv3(p3_out)\n",
    "        lateral_conv4 = self.lateral_conv4(p4_out)\n",
    "\n",
    "        fpn_out4 = lateral_conv4\n",
    "        fpn_out3 = layers.Add()([self.csupsample1(fpn_out4), lateral_conv3])\n",
    "        fpn_out2 = layers.Add()([self.csupsample2(fpn_out3), lateral_conv2])\n",
    "        fpn_out1 = layers.Add()([self.csupsample3(fpn_out2), lateral_conv1])\n",
    "\n",
    "        fpn_out1 = self.smooth_conv1(fpn_out1)\n",
    "        fpn_out2 = self.smooth_conv2(fpn_out2)\n",
    "        fpn_out3 = self.smooth_conv3(fpn_out3)\n",
    "        \n",
    "        return fpn_out1, fpn_out2, fpn_out3    "
   ]
  },
  {
   "cell_type": "code",
   "execution_count": 51,
   "metadata": {},
   "outputs": [],
   "source": [
    "# class CustomModel(tf.keras.Model):\n",
    "#     def __init__(self, num_classes=1, num_anchors_per_location=9):\n",
    "#         super(CustomModel, self).__init__()\n",
    "#         self.backbone = BackBone()\n",
    "#         self.neck = NeckLayer()\n",
    "#         self.head = HeadLayer()\n",
    "#         self.backbone.trainable = True\n",
    "#         self.neck.trainable = True\n",
    "#         self.head.trainable = True\n",
    "\n",
    "#         self.prior_probability = tf.constant_initializer(-np.log((1 - 0.01) / 0.01))\n",
    "\n",
    "#         self.num_classes = num_classes\n",
    "\n",
    "#         # 각 위치(픽셀)에서 예측해야 하는 앵커 박스의 수\n",
    "#         self.num_anchors_per_location = num_anchors_per_location\n",
    "\n",
    "#         self.classification_conv1 = layers.Conv2D(128, 1, strides=1, padding='same', kernel_initializer=tf.keras.initializers.HeNormal(), bias_initializer = self.prior_probability)\n",
    "#         self.classification_conv2 = layers.Conv2D(128, 1, strides=1, padding='same', kernel_initializer=tf.keras.initializers.HeNormal(), bias_initializer = self.prior_probability)\n",
    "     \n",
    "#         self.regression_conv1 = layers.Conv2D(128, 1, strides=1, padding='same', kernel_initializer=tf.keras.initializers.HeNormal(), bias_initializer = self.prior_probability)\n",
    "#         self.regression_conv2 = layers.Conv2D(128, 1, strides=1, padding='same', kernel_initializer=tf.keras.initializers.HeNormal(), bias_initializer = self.prior_probability)\n",
    "    \n",
    "    \n",
    "#         # 분류 헤드\n",
    "#         self.classification_head = tf.keras.Sequential([\n",
    "#             self.classification_conv1,\n",
    "#             self.classification_conv2,\n",
    "#             layers.Conv2D(self.num_anchors_per_location * num_classes, 3, padding=\"same\", kernel_initializer=tf.keras.initializers.HeNormal(), bias_initializer = self.prior_probability)\n",
    "#         ])\n",
    "\n",
    "#         # 회귀 헤드\n",
    "#         self.regression_head = tf.keras.Sequential([\n",
    "#             self.regression_conv1,\n",
    "#             self.regression_conv2,\n",
    "#             layers.Conv2D(self.num_anchors_per_location * 4, 3, padding=\"same\", kernel_initializer=tf.keras.initializers.HeNormal(), bias_initializer = self.prior_probability)\n",
    "#         ])\n",
    "\n",
    "#         self.classification_head.trainable = True\n",
    "#         self.regression_head.trainable = True\n",
    "        \n",
    "#     def call(self, inputs):\n",
    "#         p3, p4, p5 = self.backbone(inputs)\n",
    "#         x, c14, c10 = self.neck(p3, p4, p5)\n",
    "#         out1, out2, out3 = self.head(x, c14, c10)\n",
    "\n",
    "#         cls_outputs = []\n",
    "#         reg_outputs = []\n",
    "#         N = tf.shape(inputs)[0]\n",
    "#         for feature in [out1, out2, out3]:\n",
    "#             # print(feature.shape)\n",
    "#             # 첫 번째 feature 맵 (None, 12, 16, 32)의 경우: 12x16 위치 각각에 9개의 앵커 박스 = 12x16x9 = 1728\n",
    "#             # 두 번째 feature 맵 (None, 6, 8, 32)의 경우: 6x8 위치 각각에 9개의 앵커 박스 = 6x8x9 = 432\n",
    "#             # 세 번째 feature 맵 (None, 3, 4, 32)의 경우: 3x4 위치 각각에 9개의 앵커 박스 = 3x4x9 = 108\n",
    "#             cls_output = self.classification_head(feature)\n",
    "#             reg_output = self.regression_head(feature)\n",
    "#             reg_output = tf.reshape(reg_output, [N, -1, 4])\n",
    "            \n",
    "#             cls_output = tf.reshape(cls_output, [N, -1, self.num_classes])\n",
    "#             cls_outputs.append(cls_output)\n",
    "#             reg_outputs.append(reg_output)\n",
    "\n",
    "#         # 결과 결합\n",
    "#         reg_outputs = tf.concat(reg_outputs, axis=1)\n",
    "#         cls_outputs = tf.concat(cls_outputs, axis=1)\n",
    "#         # 최종 출력\n",
    "#         final_output = tf.concat([reg_outputs, cls_outputs], axis=-1)\n",
    "#         # print(final_output.shape)\n",
    "#         return final_output\n"
   ]
  },
  {
   "cell_type": "markdown",
   "metadata": {},
   "source": []
  },
  {
   "cell_type": "code",
   "execution_count": 52,
   "metadata": {},
   "outputs": [],
   "source": [
    "class DetectionModel(tf.keras.Model):\n",
    "    def __init__(self, num_classes = 1, num_anchors_per_location = 6):\n",
    "        super(DetectionModel, self).__init__()\n",
    "\n",
    "        self.backbone = BackBone()\n",
    "        # self.neck = Neck()\n",
    "        # self.head = Head()\n",
    "        self.fppn = FPPN()\n",
    "        self.msfe1 = MSFELayer(36, 72)\n",
    "        self.conv1 = Conv(72, kernel_size = 1, stride=1)\n",
    "        self.conv2 = Conv(72, kernel_size = 3, stride=1)\n",
    "        self.cbam = CBAM()\n",
    "        self.attention = SelfAttention(num_anchors_per_location * num_classes)\n",
    "        # self.msfe2 = MSFELayer(72, 72)\n",
    "        \n",
    "        \n",
    "        self.prior_probability = tf.constant_initializer(-np.log((1 - 0.01) / 0.01))\n",
    "        self.num_classes = num_classes\n",
    "        self.num_anchors_per_location = num_anchors_per_location\n",
    "\n",
    "        self.classification_head = tf.keras.Sequential([\n",
    "            self.msfe1,\n",
    "            self.conv1,\n",
    "            self.conv2,\n",
    "            layers.Conv2D(num_anchors_per_location * num_classes, 3, padding=\"same\", kernel_initializer=tf.keras.initializers.HeNormal()),\n",
    "            self.cbam,\n",
    "            self.attention,\n",
    "            layers.Conv2D(num_anchors_per_location * num_classes, 3, padding=\"same\", kernel_initializer=tf.keras.initializers.HeNormal()),\n",
    "            # layers.Activation('sigmoid')\n",
    "        ])\n",
    "        \n",
    "        self.regression_head = tf.keras.Sequential([\n",
    "            layers.Conv2D(36, 1, strides=1, padding='same', kernel_initializer=tf.keras.initializers.HeNormal()),\n",
    "            layers.Conv2D(36, 1, strides=1, padding='same', kernel_initializer=tf.keras.initializers.HeNormal()),\n",
    "            # self.msfe2,\n",
    "            # self.conv2,\n",
    "            layers.Conv2D(num_anchors_per_location * 4, 1, padding=\"same\", kernel_initializer=tf.keras.initializers.HeNormal()),\n",
    "        ])\n",
    "\n",
    "    def call(self, inputs):\n",
    "        p1_out, p2_out, p3_out, p4_out = self.backbone(inputs)\n",
    "        # c1, c2, c3 = self.neck(p1, p2, p3, p4)\n",
    "        # h1_out, h2_out, h3_out = self.head(c1, c2, c3)\n",
    "        fpn_out1, fpn_out2, fpn_out3 = self.fppn(p1_out, p2_out, p3_out, p4_out)\n",
    "\n",
    "        cls_outputs = []\n",
    "        reg_outputs = []\n",
    "        N = tf.shape(inputs)[0]\n",
    "        \n",
    "        for _, feature in enumerate([fpn_out1, fpn_out2, fpn_out3]):\n",
    "            cls_output = self.classification_head(feature)\n",
    "            reg_output = self.regression_head(feature)\n",
    "            \n",
    "            H, W = feature.shape[1], feature.shape[2]\n",
    "            num_anchors = H * W * self.num_anchors_per_location\n",
    "\n",
    "            reg_output = tf.reshape(reg_output, [N, num_anchors, 4])\n",
    "            cls_output = tf.reshape(cls_output, [N, num_anchors, self.num_classes])\n",
    "\n",
    "            cls_outputs.append(cls_output)\n",
    "            reg_outputs.append(reg_output)\n",
    "\n",
    "        reg_outputs = tf.concat(reg_outputs, axis=1)\n",
    "        cls_outputs = tf.concat(cls_outputs, axis=1)\n",
    "        final_output = tf.concat([reg_outputs, cls_outputs], axis=-1)\n",
    "        # clipped_outputs = tf.clip_by_value(cls_outputs, -4, 4)\n",
    "        return final_output"
   ]
  },
  {
   "cell_type": "code",
   "execution_count": null,
   "metadata": {},
   "outputs": [],
   "source": []
  },
  {
   "cell_type": "code",
   "execution_count": 53,
   "metadata": {},
   "outputs": [
    {
     "name": "stdout",
     "output_type": "stream",
     "text": [
      "Model: \"detection_model\"\n",
      "_________________________________________________________________\n",
      " Layer (type)                Output Shape              Param #   \n",
      "=================================================================\n",
      " back_bone (BackBone)        multiple                  63012     \n",
      "                                                                 \n",
      " fppn (FPPN)                 multiple                  162020    \n",
      "                                                                 \n",
      " msfe_layer_8 (MSFELayer)    (None, None, None, 72)    61002     \n",
      "                                                                 \n",
      " conv_31 (Conv)              (None, None, None, 72)    5544      \n",
      "                                                                 \n",
      " conv_32 (Conv)              (None, None, None, 72)    47016     \n",
      "                                                                 \n",
      " cbam_9 (CBAM)               (None, None, None, 6)     126       \n",
      "                                                                 \n",
      " self_attention (SelfAttent  (None, None, None, 6)     72        \n",
      " ion)                                                            \n",
      "                                                                 \n",
      " sequential (Sequential)     (None, None, None, 6)     117984    \n",
      "                                                                 \n",
      " sequential_1 (Sequential)   (None, None, None, 24)    3552      \n",
      "                                                                 \n",
      "=================================================================\n",
      "Total params: 346568 (1.32 MB)\n",
      "Trainable params: 344720 (1.32 MB)\n",
      "Non-trainable params: 1848 (7.22 KB)\n",
      "_________________________________________________________________\n"
     ]
    }
   ],
   "source": [
    "model = DetectionModel(num_classes=1)\n",
    "model.trainable = True\n",
    "model.build(input_shape=(None, 24, 32, 1))\n",
    "model.summary()"
   ]
  },
  {
   "cell_type": "markdown",
   "metadata": {},
   "source": []
  },
  {
   "cell_type": "code",
   "execution_count": 54,
   "metadata": {},
   "outputs": [],
   "source": [
    "# class BoxLoss(tf.losses.Loss):  \n",
    "#     def __init__(self, delta):\n",
    "#         super(BoxLoss, self).__init__(\n",
    "#             reduction=\"none\", name=\"BoxLoss\"\n",
    "#         )\n",
    "#         self._delta = delta\n",
    "\n",
    "#     def call(self, y_true, y_pred):\n",
    "#         difference = y_true - y_pred\n",
    "#         absolute_difference = tf.abs(difference)\n",
    "#         squared_difference = difference ** 2\n",
    "#         loss = tf.where(\n",
    "#             tf.less_equal(absolute_difference, self._delta),  # 여기를 수정\n",
    "#             0.5 * squared_difference,\n",
    "#             absolute_difference - 0.5\n",
    "#         )\n",
    "\n",
    "#         return tf.reduce_sum(loss, axis=-1)"
   ]
  },
  {
   "cell_type": "code",
   "execution_count": 55,
   "metadata": {},
   "outputs": [],
   "source": [
    "# class ClassificationLoss(tf.losses.Loss):   \n",
    "#     def __init__(self, alpha, gamma):\n",
    "#         super(ClassificationLoss, self).__init__(\n",
    "#             reduction=\"none\", name=\"ClassificationLoss\"\n",
    "#         )\n",
    "#         self._alpha = alpha\n",
    "#         self._gamma = gamma\n",
    "\n",
    "#     def call(self, y_true, y_pred):\n",
    "#         cross_entropy = tf.nn.sigmoid_cross_entropy_with_logits(\n",
    "#             labels=y_true, logits=y_pred)\n",
    "        \n",
    "#         probs = tf.nn.sigmoid(y_pred)\n",
    "#         alpha = tf.where(tf.equal(y_true, 1.0), self._alpha, (1.0 - self._alpha))\n",
    "#         pt = tf.where(tf.equal(y_true, 1.0), probs, 1 - probs)\n",
    "        \n",
    "#         loss = alpha * tf.pow(1.0 - pt, self._gamma) * cross_entropy\n",
    "\n",
    "#         return tf.reduce_sum(loss, axis=-1)"
   ]
  },
  {
   "cell_type": "code",
   "execution_count": 56,
   "metadata": {},
   "outputs": [],
   "source": [
    "# class Loss(tf.losses.Loss):    \n",
    "#     def __init__(self, num_classes=1, alpha=0.75, gamma=2.0, delta=1.0):\n",
    "#         super(Loss, self).__init__(reduction=\"auto\", name=\"Loss\")\n",
    "#         self._cls_loss = ClassificationLoss(alpha, gamma)\n",
    "#         self._box_loss = BoxLoss(delta)\n",
    "#         self._num_classes = num_classes\n",
    "\n",
    "#     def call(self, y_true, y_pred):\n",
    "#         y_pred = tf.cast(y_pred, dtype=tf.float32)\n",
    "#         print(y_pred.shape)\n",
    "#         # 바운딩 박스 레이블과 예측값\n",
    "#         box_labels = y_true[:, :, :4]\n",
    "#         box_predictions = y_pred[:, :, :4]\n",
    "#         # 클래스 레이블과 예측값\n",
    "#         # cls_labels = tf.one_hot(\n",
    "#         #     tf.cast(y_true[:, :, 4], dtype=tf.int32),\n",
    "#         #     depth=self._num_classes,\n",
    "#         #     dtype=tf.float32,\n",
    "#         # )\n",
    "#         # print(cls_labels)\n",
    "#         cls_labels = y_true[:, :, 4:]\n",
    "#         cls_predictions = y_pred[:, :, 4:]\n",
    "#         # print(cls_predictions)\n",
    "#         # cls_true = y_true[:, :, 4:]\n",
    "#         # positive와 ignore 마스크\n",
    "#         positive_mask = tf.cast(tf.greater(y_true[:, :, 4], -1.0), dtype=tf.float32)\n",
    "#         ignore_mask = tf.cast(tf.equal(y_true[:, :, 4], -2.0), dtype=tf.float32)\n",
    "\n",
    "#         cls_loss = self._cls_loss(cls_labels, cls_predictions)\n",
    "#         box_loss = self._box_loss(box_labels, box_predictions)\n",
    "\n",
    "#         # Positive 예시에 대한 추가 가중치 적용\n",
    "#         # positive_weight_multiplier = 10.0\n",
    "#         # cls_loss = tf.where(tf.equal(positive_mask, 1.0), cls_loss * positive_weight_multiplier, cls_loss)\n",
    "\n",
    "#         # Ignore 예시에 대한 손실 0으로 설정\n",
    "#         cls_loss = tf.where(tf.equal(ignore_mask, 1.0), 0.0, cls_loss)\n",
    "#         box_loss = tf.where(tf.equal(positive_mask, 1.0), box_loss, 0.0)\n",
    "\n",
    "#         # 손실 정규화\n",
    "#         normalizer = tf.reduce_sum(positive_mask, axis=-1)\n",
    "#         cls_loss = tf.math.divide_no_nan(tf.reduce_sum(cls_loss, axis=-1), normalizer)\n",
    "#         box_loss = tf.math.divide_no_nan(tf.reduce_sum(box_loss, axis=-1), normalizer)\n",
    "        \n",
    "#         # 최종 손실 계산\n",
    "#         loss = cls_loss + box_loss\n",
    "#         return loss\n"
   ]
  },
  {
   "cell_type": "code",
   "execution_count": 57,
   "metadata": {},
   "outputs": [],
   "source": [
    "# class CIoULoss(tf.losses.Loss):\n",
    "#     def __init__(self, delta=2.0, anchors=None, name=\"CIoULoss\"):\n",
    "#         super(CIoULoss, self).__init__(reduction=\"none\", name=name)\n",
    "#         self._delta = delta\n",
    "#         self.anchors = anchors\n",
    "\n",
    "#     def call(self, y_true, y_pred):\n",
    "#         # Decode true and predicted boxes\n",
    "#         true_boxes = self.decode_predictions(y_true, self.anchors)\n",
    "#         pred_boxes = self.decode_predictions(y_pred, self.anchors)\n",
    "\n",
    "#         # Calculate IoU\n",
    "#         iou = self.iou(true_boxes, pred_boxes)\n",
    "\n",
    "#         # Calculate center distances\n",
    "#         center_true = (true_boxes[..., 0:2] + true_boxes[..., 2:4]) / 2\n",
    "#         center_pred = (pred_boxes[..., 0:2] + pred_boxes[..., 2:4]) / 2\n",
    "#         center_distance = tf.reduce_sum(tf.square(center_true - center_pred), axis=-1)\n",
    "\n",
    "#         # Calculate diagonal lengths\n",
    "#         diag_true = tf.square(true_boxes[..., 2:4] - true_boxes[..., 0:2])\n",
    "#         diag_pred = tf.square(pred_boxes[..., 2:4] - pred_boxes[..., 0:2])\n",
    "#         diag_sum = diag_true + diag_pred\n",
    "\n",
    "#         # Calculate aspect ratio\n",
    "#         aspect_ratio_true = diag_true[..., 0] / diag_true[..., 1]\n",
    "#         aspect_ratio_pred = diag_pred[..., 0] / diag_pred[..., 1]\n",
    "#         aspect_ratio = tf.square(tf.maximum(aspect_ratio_true / aspect_ratio_pred, aspect_ratio_pred / aspect_ratio_true))\n",
    "\n",
    "#         # Calculate CIOU\n",
    "#         ciou = iou - (center_distance / tf.reduce_sum(diag_sum, axis=-1)) - (aspect_ratio / tf.reduce_sum(diag_sum, axis=-1))\n",
    "#         ciou_loss = 1 - tf.clip_by_value(ciou, 0.0, 1.0 - self._delta)\n",
    "\n",
    "#         return ciou_loss\n",
    "\n",
    "#     @staticmethod\n",
    "#     def iou(y_true, y_pred):\n",
    "#         # Calculate intersection\n",
    "#         x1 = tf.maximum(y_true[..., 0], y_pred[..., 0])\n",
    "#         y1 = tf.maximum(y_true[..., 1], y_pred[..., 1])\n",
    "#         x2 = tf.minimum(y_true[..., 2], y_pred[..., 2])\n",
    "#         y2 = tf.minimum(y_true[..., 3], y_pred[..., 3])\n",
    "        \n",
    "#         intersection = tf.maximum(0.0, x2 - x1) * tf.maximum(0.0, y2 - y1)\n",
    "        \n",
    "#         # Calculate union\n",
    "#         area_true = (y_true[..., 2] - y_true[..., 0]) * (y_true[..., 3] - y_true[..., 1])\n",
    "#         area_pred = (y_pred[..., 2] - y_pred[..., 0]) * (y_pred[..., 3] - y_pred[..., 1])\n",
    "#         union = area_true + area_pred - intersection\n",
    "        \n",
    "#         # Calculate IoU\n",
    "#         iou = intersection / (union + 1e-6)\n",
    "        \n",
    "#         return iou\n",
    "\n",
    "#     def decode_predictions(self, labels, anchors, box_variance=[0.1, 0.1, 0.2, 0.2]):\n",
    "#         anchor_x = anchors[..., 0]\n",
    "#         anchor_y = anchors[..., 1]\n",
    "#         anchor_w = anchors[..., 2]\n",
    "#         anchor_h = anchors[..., 3]\n",
    "\n",
    "#         cx = labels[..., 0] * box_variance[0] * anchor_w + anchor_x\n",
    "#         cy = labels[..., 1] * box_variance[1] * anchor_h + anchor_y\n",
    "#         width = tf.exp(labels[..., 2] * box_variance[2]) * anchor_w\n",
    "#         height = tf.exp(labels[..., 3] * box_variance[3]) * anchor_h\n",
    "\n",
    "#         x_min = cx - width / 2\n",
    "#         y_min = cy - height / 2\n",
    "#         x_max = x_min + width\n",
    "#         y_max = y_min + height\n",
    "\n",
    "#         decoded_boxes = tf.stack([x_min, y_min, x_max, y_max], axis=-1)\n",
    "#         return decoded_boxes\n",
    "    \n",
    "# class BoxLoss(tf.losses.Loss):\n",
    "#     def __init__(self, delta):\n",
    "#         super(BoxLoss, self).__init__(reduction=\"none\", name=\"BoxLoss\")\n",
    "#         self._delta = delta\n",
    "\n",
    "#     def call(self, y_true_box, y_pred_box):\n",
    "#         difference = y_true_box - y_pred_box\n",
    "#         absolute_difference = tf.abs(difference)\n",
    "#         squared_difference = difference ** 2\n",
    "#         loss = tf.where(\n",
    "#             tf.less_equal(absolute_difference, self._delta),\n",
    "#             0.5 * squared_difference,\n",
    "#             absolute_difference - 0.5 * self._delta\n",
    "#         )\n",
    "#         return tf.reduce_mean(loss)  # 배치에 대한 평균을 반환\n",
    "\n",
    "\n",
    "# class CombinedCIoUBoxLoss(tf.losses.Loss):\n",
    "#     def __init__(self, delta=2.0, anchors=None, weight_ciou=0.5, weight_box=0.5, name=\"CombinedCIoUBoxLoss\"):\n",
    "#         super(CombinedCIoUBoxLoss, self).__init__(reduction=\"none\", name=name)\n",
    "#         self.ciou_loss = CIoULoss(delta=delta, anchors=anchors)\n",
    "#         self.box_loss = BoxLoss(delta=delta)\n",
    "#         self.weight_ciou = weight_ciou\n",
    "#         self.weight_box = weight_box\n",
    "\n",
    "#     def call(self, y_true, y_pred):\n",
    "#         # CIoU and Box loss calculations\n",
    "#         # ciou_loss = self.ciou_loss(y_true, y_pred)\n",
    "#         box_loss = self.box_loss(y_true, y_pred)\n",
    "\n",
    "#         # combined_loss = self.weight_ciou * ciou_loss + self.weight_box * box_loss\n",
    "#         return tf.reduce_mean(box_loss)  # Compute the mean loss over the batch\n",
    "\n",
    "\n",
    "# # class ClassificationLoss(tf.losses.Loss):\n",
    "# #     def __init__(self, alpha=3, gamma=3):\n",
    "# #         super(ClassificationLoss, self).__init__(reduction=\"none\", name=\"ClassificationLoss\")\n",
    "# #         self._alpha = alpha\n",
    "# #         self._gamma = gamma\n",
    "\n",
    "# #     def call(self, y_true, y_pred):\n",
    "# #         cross_entropy = tf.nn.sigmoid_cross_entropy_with_logits(labels=y_true, logits=y_pred)\n",
    "# #         probs = tf.nn.sigmoid(y_pred)\n",
    "# #         alpha = tf.where(tf.equal(y_true, 1.0), self._alpha, (1.0 - self._alpha))\n",
    "# #         pt = tf.where(tf.equal(y_true, 1.0), probs, 1 - probs)\n",
    "# #         loss = alpha * tf.math.pow(1.0 - pt + 1e-6, self._gamma) * cross_entropy\n",
    "# #         return tf.reduce_sum(loss, axis=-1)\n",
    "\n",
    "\n",
    "# class ClassificationLoss(tf.losses.Loss):\n",
    "#     def __init__(self, reduction=\"auto\", name=\"ClassificationLoss\"):\n",
    "#         super(ClassificationLoss, self).__init__(reduction=reduction, name=name)\n",
    "    \n",
    "#     def call(self, y_true_cls, y_pred_cls):\n",
    "#         # 레이블 매핑: -2 또는 -1 -> 0, 1 -> 1\n",
    "#         labels = tf.where(y_true_cls == 1, 1, 0)\n",
    "        \n",
    "#         # 바이너리 크로스 엔트로피 계산\n",
    "#         bce_loss = tf.keras.losses.binary_crossentropy(\n",
    "#             y_true=tf.cast(labels, dtype=tf.float32),\n",
    "#             y_pred=y_pred_cls,\n",
    "#             from_logits=True\n",
    "#         )\n",
    "        \n",
    "#         return tf.reduce_mean(bce_loss)  # 배치에 대한 평균 손실 반환\n",
    "\n",
    "\n",
    "# # class ClassificationLoss(tf.losses.Loss):\n",
    "# #     def __init__(self):\n",
    "# #         super(ClassificationLoss, self).__init__(reduction=\"none\", name=\"ClassificationLoss\")\n",
    "        \n",
    "# #     def call(self, y_true, y_pred):\n",
    "# #         mse = tf.keras.losses.MeanSquaredError(reduction=tf.keras.losses.Reduction.NONE)\n",
    "# #         loss = mse(y_true, tf.nn.sigmoid(y_pred))\n",
    "# #         # loss = mse(y_true, tf.nn.sigmoid(y_pred))\n",
    "# #         return tf.reduce_mean(loss, axis=-1)\n",
    "\n",
    "\n",
    "# class FocalLoss(tf.keras.losses.Loss):\n",
    "#     def __init__(self, alpha=0.75, gamma=5.0, **kwargs):\n",
    "#         super().__init__(**kwargs)\n",
    "#         self.alpha = alpha\n",
    "#         self.gamma = gamma\n",
    "\n",
    "#     def call(self, y_true, y_pred):\n",
    "#         y_true = tf.cast(y_true, tf.float32)\n",
    "#         y_pred = tf.nn.sigmoid(y_pred)\n",
    "\n",
    "#         alpha_t = tf.where(y_true == 1, self.alpha, 1 - self.alpha)\n",
    "#         p_t = tf.where(y_true == 1, y_pred, 1 - y_pred)\n",
    "#         focal_loss = -alpha_t * tf.pow(1 - p_t, self.gamma) * tf.math.log(p_t + tf.keras.backend.epsilon())\n",
    "\n",
    "#         return tf.reduce_mean(focal_loss)\n",
    "\n",
    "\n",
    "# class F1ScoreLoss(tf.keras.losses.Loss):\n",
    "#     def __init__(self, threshold=0.5, epsilon=1e-7, **kwargs):\n",
    "#         super().__init__(**kwargs)\n",
    "#         self.threshold = threshold\n",
    "#         self.epsilon = epsilon\n",
    "\n",
    "#     def call(self, y_true, y_pred):\n",
    "#         # 레이블 매핑과 확률 계산\n",
    "#         y_true = tf.cast(y_true, tf.float32)\n",
    "#         y_pred = tf.nn.sigmoid(y_pred)\n",
    "#         y_pred = tf.cast(y_pred > self.threshold, tf.float32)\n",
    "\n",
    "#         # True positives, False positives, False negatives 계산\n",
    "#         tp = tf.reduce_sum(y_true * y_pred)\n",
    "#         fp = tf.reduce_sum((1 - y_true) * y_pred)\n",
    "#         fn = tf.reduce_sum(y_true * (1 - y_pred))\n",
    "\n",
    "#         # Precision and Recall 계산\n",
    "#         precision = tp / (tp + fp + self.epsilon)\n",
    "#         recall = tp / (tp + fn + self.epsilon)\n",
    "\n",
    "#         # F1-Score 계산\n",
    "#         f1_score = 2 * (precision * recall) / (precision + recall + self.epsilon)\n",
    "\n",
    "#         # F1 Loss 계산\n",
    "#         return 1 - f1_score\n",
    "    \n",
    "\n",
    "# class CombinedLoss(tf.losses.Loss):\n",
    "#     def __init__(self, alpha=0.5, gamma=3.0, focal_loss_weight=0.5, name=\"CombinedLoss\"):\n",
    "#         super(CombinedLoss, self).__init__(name=name)\n",
    "#         self.alpha = alpha\n",
    "#         self.gamma = gamma\n",
    "#         self.focal_loss_weight = focal_loss_weight\n",
    "#         self.classification_loss = FocalLoss(alpha=0.35, gamma=3.0)\n",
    "#         self.cls_binary = ClassificationLoss()\n",
    "#         self.f1_loss = F1ScoreLoss()\n",
    "#     def call(self, y_true_cls, y_pred_cls):\n",
    "#         # Focal Loss 계산\n",
    "#         focal_loss = self.classification_loss(y_true_cls, y_pred_cls)\n",
    "#         # Binary Cross-Entropy Loss 계산\n",
    "#         binary_loss = self.cls_binary(y_true_cls, y_pred_cls)\n",
    "#         # 손실 함수 결합\n",
    "#         combined_loss = self.focal_loss_weight * focal_loss + (1 - self.focal_loss_weight) * binary_loss\n",
    "\n",
    "#         return combined_loss\n",
    "\n",
    "\n",
    "# class Loss(tf.losses.Loss):\n",
    "#     def __init__(self, num_classes=1, gamma=3.0, delta=3, anchors=None):\n",
    "#         super(Loss, self).__init__(reduction=\"auto\", name=\"Loss\")\n",
    "#         self._cls_loss = CombinedLoss()\n",
    "#         self._box_loss = CombinedCIoUBoxLoss(delta, anchors)  # anchors 전달\n",
    "#         self._num_classes = num_classes\n",
    "\n",
    "#     def call(self, y_true, y_pred):\n",
    "#         y_pred = tf.cast(y_pred, dtype=tf.float32)\n",
    "        \n",
    "#         box_predictions = y_pred[:, :, :4]\n",
    "#         cls_predictions = y_pred[:, :, 4:]\n",
    "\n",
    "#         box_labels = y_true[:, :, :4]\n",
    "#         cls_labels = y_true[:, :, 4:]\n",
    "\n",
    "#         # positive_mask = tf.cast(tf.math.greater(y_true[:, :, 4], -1.0), dtype=tf.float32)\n",
    "#         # ignore_mask = tf.cast(tf.math.equal(y_true[:, :, 4], -2.0), dtype=tf.float32)\n",
    "\n",
    "#         cls_loss = self._cls_loss(cls_labels, cls_predictions)\n",
    "#         box_loss = self._box_loss(box_labels, box_predictions)\n",
    "#         # cls_loss = tf.where(tf.equal(ignore_mask, 1.0), 0.0, cls_loss)\n",
    "#         # box_loss = tf.where(tf.equal(positive_mask, 1.0), box_loss, 0.0)\n",
    "\n",
    "#         # normalizer = tf.reduce_sum(positive_mask, axis=-1) + 1e-6\n",
    "#         # cls_loss = tf.math.divide_no_nan(tf.reduce_sum(cls_loss, axis=-1), normalizer)\n",
    "#         # box_loss = tf.math.divide_no_nan(tf.reduce_sum(box_loss, axis=-1), normalizer)\n",
    "\n",
    "#         cls_weight = 1.0\n",
    "#         box_weight = 1.0\n",
    "#         loss = cls_weight * cls_loss + box_weight * box_loss\n",
    "#         return loss"
   ]
  },
  {
   "cell_type": "code",
   "execution_count": 58,
   "metadata": {},
   "outputs": [],
   "source": [
    "class BoxLoss(tf.losses.Loss):\n",
    "    def __init__(self, delta):\n",
    "        super(BoxLoss, self).__init__(reduction=\"none\", name=\"BoxLoss\")\n",
    "        self._delta = delta\n",
    "\n",
    "    def call(self, y_true, y_pred, sample_weight=None):\n",
    "        difference = y_true - y_pred\n",
    "        absolute_difference = tf.abs(difference)\n",
    "        squared_difference = difference ** 2\n",
    "        loss = tf.where(\n",
    "            tf.less_equal(absolute_difference, self._delta),\n",
    "            0.5 * squared_difference,\n",
    "            absolute_difference - 0.5 * self._delta\n",
    "        )\n",
    "\n",
    "        # # Positive 샘플에 대해서만 손실을 계산하고, 나머지는 0으로 설정\n",
    "        # positive_mask = tf.cast(tf.greater(y_true, 0.0), tf.float32)\n",
    "        # loss = loss * positive_mask\n",
    "\n",
    "        # if sample_weight is not None:\n",
    "        #     loss = tf.multiply(loss, sample_weight)\n",
    "\n",
    "        return tf.reduce_sum(loss, axis=-1)\n",
    "\n",
    "\n",
    "class ConditionalFocalLoss(tf.keras.losses.Loss):\n",
    "    def __init__(self, alpha=0.5, gamma=5.0, threshold=0.75, **kwargs):\n",
    "        super(ConditionalFocalLoss, self).__init__(**kwargs)\n",
    "        self.alpha = alpha\n",
    "        self.gamma = gamma\n",
    "        self.threshold = threshold\n",
    "\n",
    "    def call(self, y_true, y_pred):\n",
    "        y_true_binary = tf.cast(y_true >= 0.5, tf.float32)\n",
    "        alpha_factor = self.alpha * tf.ones_like(y_true_binary)\n",
    "        alpha_t = tf.where(tf.equal(y_true_binary, 1.0), alpha_factor, 1 - alpha_factor)\n",
    "        \n",
    "        p_t = tf.where(tf.equal(y_true_binary, 1.0), y_pred, 1 - y_pred)\n",
    "        \n",
    "        # Condition 1: y_true = 1\n",
    "        condition1 = tf.equal(y_true_binary, 1.0)\n",
    "        loss1 = tf.where(tf.less(p_t, self.threshold),\n",
    "                         -alpha_t * tf.pow(1.0 - p_t, self.gamma) * tf.math.log(tf.clip_by_value(p_t, 1e-8, 1.0)),\n",
    "                         0.0)\n",
    "        \n",
    "        # Condition 2: y_true = 0\n",
    "        condition2 = tf.equal(y_true_binary, 0.0)\n",
    "        loss2 = tf.where(tf.greater_equal(p_t, self.threshold),\n",
    "                         -alpha_t * tf.pow(1.0 - p_t, self.gamma) * tf.math.log(tf.clip_by_value(p_t, 1e-8, 1.0)),\n",
    "                         0.0)\n",
    "        \n",
    "        fl = tf.where(condition1, loss1, tf.where(condition2, loss2, 0.0))\n",
    "\n",
    "        return tf.reduce_sum(fl)\n",
    "\n",
    "\n",
    "class FocalLoss(tf.keras.losses.Loss):  # Precision (0.55 best)\n",
    "    def __init__(self, alpha=0.25, gamma=2.0, threshold=0.75, **kwargs):\n",
    "        super(FocalLoss, self).__init__(**kwargs)\n",
    "        self.alpha = alpha\n",
    "        self.gamma = gamma\n",
    "        self.threshold = threshold\n",
    "    \n",
    "    def call(self, y_true, y_pred):\n",
    "        y_true = tf.cast(y_true, tf.float32)\n",
    "        alpha_factor = self.alpha * tf.ones_like(y_true)\n",
    "        alpha_t = tf.where(tf.greater(y_true, self.threshold), alpha_factor, 1 - alpha_factor)\n",
    "        \n",
    "        p_t = tf.where(tf.greater(y_true, self.threshold), y_pred, 1 - y_pred)\n",
    "        fl = -alpha_t * tf.pow(1.0 - p_t, self.gamma) * tf.math.log(tf.clip_by_value(p_t, 1e-8, 1.0))\n",
    "\n",
    "        return tf.reduce_sum(fl)\n",
    "\n",
    "\n",
    "class IoUF1ScoreLoss(tf.keras.losses.Loss):  # Precision\n",
    "    def __init__(self, threshold=0.5, beta=3, reduction='auto', **kwargs):\n",
    "        super().__init__(reduction=reduction, **kwargs)\n",
    "        self.threshold = threshold\n",
    "        self.beta = beta\n",
    "\n",
    "    def call(self, y_true, y_pred):\n",
    "        y_true_binary = tf.cast(y_true >= self.threshold, tf.float32)\n",
    "        y_pred_binary = tf.cast(y_pred >= self.threshold, tf.float32)\n",
    "\n",
    "        tp = tf.reduce_sum(y_true_binary * y_pred_binary, axis=-1)\n",
    "        fp = tf.reduce_sum((1 - y_true_binary) * y_pred_binary, axis=-1)\n",
    "        fn = tf.reduce_sum(y_true_binary * (1 - y_pred_binary), axis=-1)\n",
    "\n",
    "        precision = tp / (tp + fp + tf.keras.backend.epsilon())\n",
    "        recall = tp / (tp + fn + tf.keras.backend.epsilon())\n",
    "\n",
    "        beta_squared = self.beta ** 2\n",
    "        f1_score = (1 + beta_squared) * (precision * recall) / (beta_squared * precision + recall + tf.keras.backend.epsilon())\n",
    "\n",
    "        return 1 - f1_score\n",
    "\n",
    "\n",
    "# Original\n",
    "# class Loss(tf.losses.Loss):\n",
    "#     def __init__(self, num_classes=1, alpha=0.25, gamma=3, delta=1):\n",
    "#         super(Loss, self).__init__(reduction=\"auto\", name=\"Loss\")\n",
    "#         self._box_loss = BoxLoss(delta=delta)\n",
    "#         self._f1_loss = IoUF1ScoreLoss()\n",
    "#         self._focal_loss = FocalLoss(alpha=alpha, gamma=gamma)\n",
    "#         self._num_classes = num_classes\n",
    "\n",
    "#     def call(self, y_true, y_pred):\n",
    "#         y_pred = tf.cast(y_pred, dtype=tf.float32)\n",
    "#         box_labels = y_true[:, :, :4]\n",
    "#         box_predictions = y_pred[:, :, :4]\n",
    "#         cls_labels = y_true[:, :, 4:]\n",
    "#         cls_predictions = y_pred[:, :, 4:]\n",
    "#         positive_mask = tf.cast(tf.equal(cls_labels, 1.0), tf.bool)\n",
    "#         num_positives = tf.reduce_sum(tf.cast(positive_mask, tf.float32), axis=1)\n",
    "\n",
    "#         f1_loss = self._f1_loss(tf.boolean_mask(cls_labels, positive_mask),\n",
    "#                                 tf.boolean_mask(cls_predictions, positive_mask))\n",
    "#         focal_loss = self._focal_loss(tf.boolean_mask(cls_labels, positive_mask),\n",
    "#                                       tf.boolean_mask(cls_predictions, positive_mask))\n",
    "#         box_loss = self._box_loss(box_labels, box_predictions, sample_weight=tf.cast(positive_mask, tf.float32))\n",
    "\n",
    "#         cls_weight = 0.7\n",
    "#         box_weight = 0.3\n",
    "#         loss = cls_weight * ((focal_loss + f1_loss) / (num_positives + 1e-6)) + box_weight * box_loss\n",
    "\n",
    "#         return loss\n",
    "\n",
    "\n",
    "\n",
    "\n",
    "# # Hard Negative Mining \n",
    "class Loss(tf.losses.Loss):\n",
    "    def __init__(self, num_classes=1, alpha=0.25, gamma=2, delta=1, negative_ratio=1.5):\n",
    "        super(Loss, self).__init__(reduction=\"auto\", name=\"Loss\")\n",
    "        self._box_loss = BoxLoss(delta=delta)\n",
    "        self._focal_loss = ConditionalFocalLoss(alpha=alpha, gamma=gamma)\n",
    "        self._num_classes = num_classes\n",
    "        self._negative_ratio = negative_ratio\n",
    "\n",
    "    def call(self, y_true, y_pred):\n",
    "        y_pred = tf.cast(y_pred, dtype=tf.float32)\n",
    "        box_labels = y_true[:, :, :4]\n",
    "        box_predictions = y_pred[:, :, :4]\n",
    "        cls_labels = y_true[:, :, 4:]\n",
    "        cls_predictions = y_pred[:, :, 4:]\n",
    "\n",
    "        positive_mask = tf.cast(tf.equal(cls_labels, 1.0), tf.bool)\n",
    "        negative_mask = tf.cast(tf.equal(cls_labels, -1.0), tf.bool)\n",
    "\n",
    "        num_positives = tf.reduce_sum(tf.cast(positive_mask, tf.float32), axis=1)\n",
    "        num_negatives = tf.cast(self._negative_ratio * tf.reduce_max(num_positives), tf.int32)\n",
    "\n",
    "        negative_cls_loss = self._focal_loss(tf.boolean_mask(cls_labels, negative_mask),\n",
    "                                             tf.boolean_mask(cls_predictions, negative_mask))\n",
    "        negative_cls_loss = tf.reshape(negative_cls_loss, [-1])\n",
    "        _, top_k_indices = tf.math.top_k(negative_cls_loss, k=tf.minimum(num_negatives, tf.shape(negative_cls_loss)[0]), sorted=True)\n",
    "        negative_indices = tf.where(negative_mask)\n",
    "        hard_negative_indices = tf.gather(negative_indices, top_k_indices)\n",
    "        hard_negative_mask = tf.scatter_nd(hard_negative_indices, tf.ones(tf.shape(top_k_indices)[0], dtype=tf.int32),\n",
    "                                           tf.cast(tf.shape(negative_mask), tf.int64))\n",
    "        hard_negative_mask = tf.cast(hard_negative_mask, tf.bool)\n",
    "\n",
    "        focal_loss = self._focal_loss(tf.boolean_mask(cls_labels, tf.logical_or(positive_mask, hard_negative_mask)),\n",
    "                                      tf.boolean_mask(cls_predictions, tf.logical_or(positive_mask, hard_negative_mask)))\n",
    "        box_loss = self._box_loss(box_labels, box_predictions, sample_weight=tf.cast(positive_mask, tf.float32))\n",
    "\n",
    "        cls_weight = 0.7\n",
    "        box_weight = 0.3\n",
    "        loss = cls_weight * focal_loss + box_weight * box_loss\n",
    "\n",
    "        return loss\n",
    "\n",
    "\n",
    "# # Hard Positive Mining\n",
    "# class Loss(tf.losses.Loss):\n",
    "#     def __init__(self, num_classes=1, alpha=0.25, gamma=3, delta=1, hard_positive_ratio=0.1):\n",
    "#         super(Loss, self).__init__(reduction=\"auto\", name=\"Loss\")\n",
    "#         self._box_loss = BoxLoss(delta=delta)\n",
    "#         # self._conditional_loss = ConditionalFocalLoss(alpha=alpha, gamma=gamma)\n",
    "#         self._f1_loss = IoUF1ScoreLoss()\n",
    "#         self._focal_loss = FocalLoss(alpha=alpha, gamma=gamma)\n",
    "#         self._num_classes = num_classes\n",
    "#         self._hard_positive_ratio = hard_positive_ratio\n",
    "\n",
    "#     def call(self, y_true, y_pred):\n",
    "#         y_pred = tf.cast(y_pred, dtype=tf.float32)\n",
    "#         box_labels = y_true[:, :, :4]\n",
    "#         box_predictions = y_pred[:, :, :4]\n",
    "#         cls_labels = y_true[:, :, 4:]\n",
    "#         # cls_predictions = tf.nn.sigmoid(y_pred[:, :, 4:])\n",
    "#         cls_predictions = y_pred[:, :, 4:]\n",
    "\n",
    "#         positive_mask = tf.cast(tf.equal(cls_labels, 1.0), tf.bool)\n",
    "#         num_positives = tf.reduce_sum(tf.cast(positive_mask, tf.float32), axis=1)\n",
    "\n",
    "#         # Hard Positive Mining\n",
    "#         num_hard_positives = tf.reduce_max(tf.cast(self._hard_positive_ratio * num_positives, tf.int32))\n",
    "#         positive_cls_loss = self._focal_loss(tf.boolean_mask(cls_labels, positive_mask), tf.boolean_mask(cls_predictions, positive_mask))\n",
    "#         positive_cls_loss = tf.reshape(positive_cls_loss, [-1])\n",
    "#         _, hard_positive_indices = tf.math.top_k(positive_cls_loss, k=tf.minimum(num_hard_positives, tf.shape(positive_cls_loss)[0]), sorted=True)\n",
    "#         positive_indices = tf.where(positive_mask)\n",
    "#         hard_positive_indices = tf.gather(positive_indices, hard_positive_indices)\n",
    "#         hard_positive_mask = tf.scatter_nd(hard_positive_indices, tf.ones(tf.shape(hard_positive_indices)[0], dtype=tf.int32), tf.cast(tf.shape(positive_mask), tf.int64))\n",
    "#         hard_positive_mask = tf.cast(hard_positive_mask, tf.bool)\n",
    "\n",
    "#         selected_mask = hard_positive_mask\n",
    "#         num_positives_selected = tf.reduce_sum(tf.cast(selected_mask, tf.float32), axis=1)\n",
    "\n",
    "\n",
    "#         f1_loss = self._f1_loss(tf.boolean_mask(cls_labels, selected_mask), tf.boolean_mask(cls_predictions, selected_mask))\n",
    "#         # f1_loss = f1_loss / (num_positives_selected + 1e-6)\n",
    "        \n",
    "#         # conditional_loss = self._conditional_loss(tf.boolean_mask(cls_labels, selected_mask), tf.boolean_mask(cls_predictions, selected_mask))\n",
    "#         # conditional_loss = conditional_loss / (num_positives_selected + 1e-6)\n",
    "        \n",
    "#         focal_loss = self._focal_loss(tf.boolean_mask(cls_labels, selected_mask), tf.boolean_mask(cls_predictions, selected_mask))\n",
    "#         # focal_loss = focal_loss / (num_positives_selected + 1e-6)\n",
    "\n",
    "#         box_loss = self._box_loss(box_labels, box_predictions, sample_weight=tf.cast(positive_mask, tf.float32))\n",
    "#         # box_loss = box_loss / (num_positives_selected + 1e-6)\n",
    "\n",
    "#         # cls_loss = 0.3 * f1_loss + 0.4 * conditional_loss + 0.3 * focal_loss\n",
    "#         cls_weight = 0.7\n",
    "#         box_weight = 0.3\n",
    "#         loss = cls_weight * ((focal_loss + f1_loss)  / (num_positives_selected + 1e-6)) + box_weight * box_loss\n",
    "\n",
    "\n",
    "#         return loss"
   ]
  },
  {
   "cell_type": "code",
   "execution_count": null,
   "metadata": {},
   "outputs": [],
   "source": []
  },
  {
   "cell_type": "code",
   "execution_count": 59,
   "metadata": {},
   "outputs": [],
   "source": [
    "# class Recall(tf.keras.metrics.Metric):\n",
    "#     def __init__(self, name='Recall', **kwargs):\n",
    "#         super(Recall, self).__init__(name=name, **kwargs)\n",
    "#         self.true_positives = self.add_weight(name='tp', initializer='zeros')\n",
    "#         self.actual_positives = self.add_weight(name='actual_positives', initializer='zeros')\n",
    "\n",
    "#     def update_state(self, y_true, y_pred, sample_weight=None):\n",
    "#         y_pred_cls = y_pred[:, :, 4:]\n",
    "#         y_true_cls = y_true[:, :, 4:]\n",
    "\n",
    "#         labels = tf.where(y_true_cls == 1, 1, 0)\n",
    "#         probabilities = tf.nn.sigmoid(y_pred_cls)\n",
    "#         pred_positives = tf.cast(probabilities > 0.5, self.dtype)\n",
    "\n",
    "#         true_positives = tf.logical_and(tf.equal(labels, 1), tf.cast(pred_positives, tf.bool))\n",
    "#         true_positives = tf.cast(true_positives, self.dtype)\n",
    "#         self.true_positives.assign_add(tf.reduce_sum(true_positives))\n",
    "        \n",
    "#         actual_positives = tf.cast(labels, self.dtype)\n",
    "#         self.actual_positives.assign_add(tf.reduce_sum(actual_positives))\n",
    "\n",
    "#     def result(self):\n",
    "#         return self.true_positives / (self.actual_positives + tf.keras.backend.epsilon())\n",
    "\n",
    "\n",
    "# class Precision(tf.keras.metrics.Metric):\n",
    "#     def __init__(self, name='Precision', **kwargs):\n",
    "#         super(Precision, self).__init__(name=name, **kwargs)\n",
    "#         self.true_positives = self.add_weight(name='tp', initializer='zeros')\n",
    "#         self.predicted_positives = self.add_weight(name='tp_fp', initializer='zeros')\n",
    "\n",
    "#     def update_state(self, y_true, y_pred, sample_weight=None):\n",
    "#         # 분류 예측 부분 추출\n",
    "#         y_pred_cls = y_pred[:, :, 4:]\n",
    "#         y_true_cls = y_true[:, :, 4:]\n",
    "\n",
    "#         # 레이블 매핑: -2 또는 -1 -> 0, 1 -> 1\n",
    "#         labels = tf.where(y_true_cls == 1, 1, 0)\n",
    "#         # 확률 계산 (sigmoid를 통해 로짓을 확률로 변환)\n",
    "#         probabilities = tf.nn.sigmoid(y_pred_cls)\n",
    "#         pred_positives = tf.cast(probabilities > 0.5, self.dtype)  # self.dtype으로 캐스팅\n",
    "#         # True positives 계산\n",
    "#         true_positives = tf.logical_and(tf.equal(labels, 1), tf.cast(pred_positives, tf.bool))\n",
    "#         true_positives = tf.cast(true_positives, self.dtype)\n",
    "#         self.true_positives.assign_add(tf.reduce_sum(true_positives))\n",
    "#         self.predicted_positives.assign_add(tf.reduce_sum(pred_positives))\n",
    "\n",
    "#     def result(self):\n",
    "#         return self.true_positives / (self.predicted_positives + tf.keras.backend.epsilon())\n",
    "\n"
   ]
  },
  {
   "cell_type": "code",
   "execution_count": 60,
   "metadata": {},
   "outputs": [],
   "source": [
    "# initial_learning_rate = 0.0002\n",
    "# lr_schedule = tf.keras.optimizers.schedules.ExponentialDecay(\n",
    "#     initial_learning_rate=initial_learning_rate,\n",
    "#     decay_steps=1000,\n",
    "#     decay_rate=0.96,\n",
    "#     staircase=True)\n",
    "\n",
    "initial_learning_rate = 0.0005\n",
    "decay_steps = 5\n",
    "decay_rate = 0.5\n",
    "staircase = True\n",
    "\n",
    "def lr_schedule(epoch):\n",
    "    return initial_learning_rate * (decay_rate ** (epoch // decay_steps))\n",
    "\n",
    "lr_callback = tf.keras.callbacks.LearningRateScheduler(lr_schedule, verbose=1)\n"
   ]
  },
  {
   "cell_type": "code",
   "execution_count": 61,
   "metadata": {},
   "outputs": [],
   "source": [
    "# import tensorflow as tf\n",
    "# from tensorflow.keras import backend as K\n",
    "\n",
    "\n",
    "# class Recall(tf.keras.metrics.Metric):\n",
    "#     def __init__(self, name='Recall', threshold=0.5, **kwargs):\n",
    "#         super(Recall, self).__init__(name=name, **kwargs)\n",
    "#         self.threshold = threshold\n",
    "#         self.true_positives = self.add_weight(name='tp', initializer='zeros')\n",
    "#         self.actual_positives = self.add_weight(name='actual_positives', initializer='zeros')\n",
    "\n",
    "#     def update_state(self, y_true, y_pred, sample_weight=None):\n",
    "#         # IoU 기준으로 레이블 결정 (0.5 기준)\n",
    "#         labels = tf.cast(y_true[:, :, 4:] >= self.threshold, tf.int32)\n",
    "#         probabilities = y_pred[:, :, 4:]\n",
    "#         pred_positives = tf.cast(probabilities > self.threshold, self.dtype)\n",
    "\n",
    "#         true_positives = tf.logical_and(labels == 1, tf.cast(pred_positives, tf.bool))\n",
    "#         true_positives = tf.cast(true_positives, self.dtype)\n",
    "#         self.true_positives.assign_add(tf.reduce_sum(true_positives))\n",
    "        \n",
    "#         actual_positives = tf.cast(labels, self.dtype)\n",
    "#         self.actual_positives.assign_add(tf.reduce_sum(actual_positives))\n",
    "\n",
    "#     def result(self):\n",
    "#         return self.true_positives / (self.actual_positives + tf.keras.backend.epsilon())\n",
    "\n",
    "\n",
    "# class Precision(tf.keras.metrics.Metric):\n",
    "#     def __init__(self, name='Precision', threshold=0.5, **kwargs):\n",
    "#         super(Precision, self).__init__(name=name, **kwargs)\n",
    "#         self.threshold = threshold\n",
    "#         self.true_positives = self.add_weight(name='tp', initializer='zeros')\n",
    "#         self.predicted_positives = self.add_weight(name='predicted_positives', initializer='zeros')\n",
    "\n",
    "#     def update_state(self, y_true, y_pred, sample_weight=None):\n",
    "#         # IoU 기준으로 레이블 결정 (0.5 기준)\n",
    "#         labels = tf.cast(y_true[:, :, 4:] >= self.threshold, tf.int32)\n",
    "#         probabilities = y_pred[:, :, 4:]\n",
    "#         pred_positives = tf.cast(probabilities > self.threshold, self.dtype)\n",
    "\n",
    "#         true_positives = tf.logical_and(labels == 1, tf.cast(pred_positives, tf.bool))\n",
    "#         true_positives = tf.cast(true_positives, self.dtype)\n",
    "#         self.true_positives.assign_add(tf.reduce_sum(true_positives))\n",
    "#         self.predicted_positives.assign_add(tf.reduce_sum(pred_positives))\n",
    "\n",
    "#     def result(self):\n",
    "#         return self.true_positives / (self.predicted_positives + tf.keras.backend.epsilon())\n",
    "\n",
    "\n",
    "# class F1Score(tf.keras.metrics.Metric):\n",
    "#     def __init__(self, name='F1Score', threshold=0.5, **kwargs):\n",
    "#         super(F1Score, self).__init__(name=name, **kwargs)\n",
    "#         self.threshold = threshold\n",
    "#         self.precision = Precision(threshold=threshold)\n",
    "#         self.recall = Recall(threshold=threshold)\n",
    "\n",
    "#     def update_state(self, y_true, y_pred, sample_weight=None):\n",
    "#         self.precision.update_state(y_true, y_pred, sample_weight)\n",
    "#         self.recall.update_state(y_true, y_pred, sample_weight)\n",
    "\n",
    "#     def result(self):\n",
    "#         precision = self.precision.result()\n",
    "#         recall = self.recall.result()\n",
    "#         f1_score = 2 * ((precision * recall) / (precision + recall + K.epsilon()))\n",
    "#         return f1_score\n",
    "\n",
    "#     def reset_state(self):\n",
    "#         self.precision.reset_state()\n",
    "#         self.recall.reset_state()\n"
   ]
  },
  {
   "cell_type": "code",
   "execution_count": 62,
   "metadata": {},
   "outputs": [],
   "source": [
    "from keras.metrics import Precision, Recall\n",
    "# import tfr\n",
    "\n",
    "num_classes = 1\n",
    "\n",
    "anchor_box = AnchorBox()\n",
    "anchors = anchor_box.get_anchors(24, 32)\n",
    "\n",
    "model = DetectionModel(num_classes)\n",
    "loss_fn = Loss(num_classes=1)\n",
    "# optimizer = tf.optimizers.Adam(clipnorm = 1.0)\n",
    "\n",
    "\n",
    "# map_metric = MeanAveragePrecision(num_classes=num_classes, anchors=anchors)\n",
    "# iou_metric = IntersectionOverUnion(num_classes=num_classes, anchors=anchors)\n",
    "\n",
    "\n",
    "# anchor_box = AnchorBox()\n",
    "# anchors = anchor_box.get_anchors(24, 32)\n",
    "# iou_metric = MultiBoxIoUMetric(anchors=anchors)\n",
    "\n",
    "\n",
    "\n",
    "# model.compile(optimizer=optimizer, \n",
    "#               loss=[loss_fn],\n",
    "#               metrics=[Precision()])\n",
    "\n",
    "model.compile(optimizer='adam', \n",
    "              loss=[loss_fn],\n",
    "              metrics=['accuracy', Precision(), Recall()]) # F1Score(), "
   ]
  },
  {
   "cell_type": "code",
   "execution_count": 63,
   "metadata": {},
   "outputs": [],
   "source": [
    "tf.config.run_functions_eagerly(False)"
   ]
  },
  {
   "cell_type": "code",
   "execution_count": 64,
   "metadata": {},
   "outputs": [
    {
     "name": "stdout",
     "output_type": "stream",
     "text": [
      "Images shape: (9, 24, 32, 1)\n",
      "Labels shape: (9, 6048, 5)\n",
      "Images max: 1.0\n",
      "Images min: 0.0\n",
      "Labels shape: (9, 6048, 4)\n"
     ]
    }
   ],
   "source": [
    "# 가정: train_dataset은 이미 tf.data.Dataset 객체로 생성되어 있음\n",
    "new_batch_size = 9\n",
    "\n",
    "# 기존 데이터셋에서 배치 사이즈를 새로운 값으로 변경\n",
    "train_dataset = train_dataset.unbatch()  # 먼저, 기존 배치를 해제\n",
    "train_dataset = train_dataset.batch(new_batch_size, drop_remainder=True)  # 새로운 배치 사이즈로 재배치\n",
    "\n",
    "# 배치 사이즈 변경 후 데이터셋을 확인하기 위한 코드\n",
    "for images, labels in train_dataset.take(1):\n",
    "    print(f\"Images shape: {images.shape}\")\n",
    "    print(f\"Labels shape: {labels.shape}\")\n",
    "    print(f\"Images max: {tf.reduce_max(images)}\")\n",
    "    print(f\"Images min: {tf.reduce_min(images)}\")\n",
    "    # print(\"labels[:, :, :4]: \", labels[:, :, :4])\n",
    "    print(\"Labels shape:\", labels[:, :, :4].shape)\n",
    "    # print(labels)"
   ]
  },
  {
   "cell_type": "code",
   "execution_count": 65,
   "metadata": {},
   "outputs": [
    {
     "name": "stdout",
     "output_type": "stream",
     "text": [
      "\n",
      "Epoch 1: LearningRateScheduler setting learning rate to 0.0005.\n",
      "Epoch 1/60\n"
     ]
    },
    {
     "name": "stderr",
     "output_type": "stream",
     "text": [
      "2024-04-20 15:14:54.239642: I tensorflow/compiler/xla/stream_executor/cuda/cuda_dnn.cc:442] Loaded cuDNN version 8700\n",
      "2024-04-20 15:14:57.277987: I tensorflow/compiler/xla/service/service.cc:168] XLA service 0x7f7c09c16c90 initialized for platform CUDA (this does not guarantee that XLA will be used). Devices:\n",
      "2024-04-20 15:14:57.278019: I tensorflow/compiler/xla/service/service.cc:176]   StreamExecutor device (0): NVIDIA GeForce RTX 3090, Compute Capability 8.6\n",
      "2024-04-20 15:14:57.278024: I tensorflow/compiler/xla/service/service.cc:176]   StreamExecutor device (1): NVIDIA GeForce RTX 3090, Compute Capability 8.6\n",
      "2024-04-20 15:14:57.278027: I tensorflow/compiler/xla/service/service.cc:176]   StreamExecutor device (2): NVIDIA GeForce RTX 3090, Compute Capability 8.6\n",
      "2024-04-20 15:14:57.278031: I tensorflow/compiler/xla/service/service.cc:176]   StreamExecutor device (3): NVIDIA GeForce RTX 3090, Compute Capability 8.6\n",
      "2024-04-20 15:14:57.278035: I tensorflow/compiler/xla/service/service.cc:176]   StreamExecutor device (4): NVIDIA GeForce RTX 3090, Compute Capability 8.6\n",
      "2024-04-20 15:14:57.278038: I tensorflow/compiler/xla/service/service.cc:176]   StreamExecutor device (5): NVIDIA GeForce RTX 3090, Compute Capability 8.6\n",
      "2024-04-20 15:14:57.278041: I tensorflow/compiler/xla/service/service.cc:176]   StreamExecutor device (6): NVIDIA GeForce RTX 3090, Compute Capability 8.6\n",
      "2024-04-20 15:14:57.282295: I tensorflow/compiler/mlir/tensorflow/utils/dump_mlir_util.cc:269] disabling MLIR crash reproducer, set env var `MLIR_CRASH_REPRODUCER_DIRECTORY` to enable.\n",
      "2024-04-20 15:14:57.406830: I ./tensorflow/compiler/jit/device_compiler.h:186] Compiled cluster using XLA!  This line is logged at most once for the lifetime of the process.\n"
     ]
    },
    {
     "name": "stdout",
     "output_type": "stream",
     "text": [
      "458/458 [==============================] - 56s 57ms/step - loss: 104.3520 - accuracy: 0.1690 - precision: 0.9939 - recall: 0.4019 - lr: 5.0000e-04\n",
      "\n",
      "Epoch 2: LearningRateScheduler setting learning rate to 0.0005.\n",
      "Epoch 2/60\n",
      "458/458 [==============================] - 25s 54ms/step - loss: 0.6158 - accuracy: 0.1087 - precision: 0.9983 - recall: 0.3874 - lr: 5.0000e-04\n",
      "\n",
      "Epoch 3: LearningRateScheduler setting learning rate to 0.0005.\n",
      "Epoch 3/60\n",
      " 71/458 [===>..........................] - ETA: 21s - loss: 0.2373 - accuracy: 0.1010 - precision: 0.9985 - recall: 0.3936"
     ]
    }
   ],
   "source": [
    "epochs = 10\n",
    "\n",
    "model.fit(\n",
    "    # image, label,\n",
    "    train_dataset,\n",
    "    # batch_size= 12,\n",
    "    epochs=epochs,\n",
    "    callbacks=lr_callback,\n",
    "    verbose=1,\n",
    ")"
   ]
  },
  {
   "cell_type": "code",
   "execution_count": null,
   "metadata": {},
   "outputs": [],
   "source": [
    "# for img, label in val_dataset.take(10):\n",
    "#     # predictions = inference_model.predict(tf.expand_dims(img[0], axis=0))  # img에 첫 번째 차원을 추가\n",
    "#     predictions = model.predict(tf.expand_dims(img[0], axis=0))  # img에 첫 번째 차원을 추가\n",
    "#     print(predictions[0, :10, :])\n",
    "#     # positive_count = tf.reduce_sum(tf.cast(tf.equal(predictions[:, :, 4], 1.0), tf.int32))\n",
    "#     positive_count = tf.reduce_sum(tf.cast(tf.greater(predictions[:, :, 4], -1.0), tf.int32))\n",
    "#     # ignore_count = tf.reduce_sum(tf.cast(tf.less(predictions[:, :, 4], -2.0), tf.int32))\n",
    "\n",
    "#     print(\"Positive 개수:\", positive_count.numpy())z|\n",
    "#     # print(\"Negative 개수:\", negative_count.numpy())\n",
    "#     # print(\"Ignore 개수:\", ignore_count.numpy())"
   ]
  },
  {
   "cell_type": "code",
   "execution_count": null,
   "metadata": {},
   "outputs": [],
   "source": [
    "# import numpy as np\n",
    "# import matplotlib.pyplot as plt\n",
    "# import matplotlib.patches as patches\n",
    "# import tensorflow as tf\n",
    "\n",
    "# # decode_predictions 함수 정의\n",
    "# def decode_predictions(labels, anchors, box_variance=[0.1, 0.1, 0.2, 0.2]):\n",
    "#     decoded_boxes = []\n",
    "#     for label_idx, label in enumerate(labels):\n",
    "#         if label[4] > -1.0:  # 양성 레이블 조건 확인\n",
    "#             dx, dy, dw, dh = label[:4]\n",
    "#             anchor = anchors[label_idx]\n",
    "#             anchor_x, anchor_y, anchor_w, anchor_h = anchor\n",
    "#             cx = dx * box_variance[0] * anchor_w + anchor_x\n",
    "#             cy = dy * box_variance[1] * anchor_h + anchor_y\n",
    "#             width = np.exp(dw * box_variance[2]) * anchor_w\n",
    "#             height = np.exp(dh * box_variance[3]) * anchor_h\n",
    "#             x_min = cx - width / 2\n",
    "#             y_min = cy - height / 2\n",
    "#             decoded_box = [x_min, y_min, width, height]\n",
    "#             decoded_boxes.append(decoded_box)\n",
    "#     return decoded_boxes\n",
    "\n",
    "# # draw_positive_bounding_boxes 함수 정의\n",
    "# def draw_positive_bounding_boxes(image, decoded_boxes):\n",
    "#     plt.imshow(image)\n",
    "#     ax = plt.gca()\n",
    "#     for box in decoded_boxes:\n",
    "#         x_min, y_min, width, height = box\n",
    "#         rect = patches.Rectangle((x_min, y_min), width, height, linewidth=1, edgecolor='r', facecolor='none')\n",
    "#         ax.add_patch(rect)\n",
    "#     plt.show()\n",
    "\n",
    "# # 앵커 박스 및 디코딩 로직 사용 예시\n",
    "# # 주의: AnchorBox 클래스의 구현과 train_dataset의 정의가 필요합니다.\n",
    "\n",
    "# # 예를 들어, 앵커 박스 생성 및 train_dataset에서의 사용 예제는 다음과 같습니다:\n",
    "# anchor_box = AnchorBox()\n",
    "# anchors = anchor_box.get_anchors(24, 32)  # 앵커 박스 생성 예시, 실제 사용 시에는 해당 구현에 맞게 조정 필요\n",
    "\n",
    "# for batch in train_dataset.take(1):\n",
    "#     image = batch[0][0].numpy()\n",
    "#     labels = batch[1][0].numpy()\n",
    "#     decoded_boxes = decode_predictions(labels, anchors)\n",
    "#     draw_positive_bounding_boxes(image, decoded_boxes)\n"
   ]
  },
  {
   "cell_type": "code",
   "execution_count": null,
   "metadata": {},
   "outputs": [
    {
     "name": "stdout",
     "output_type": "stream",
     "text": [
      "Images shape: (1, 24, 32, 1)\n",
      "Images max: 1.0\n",
      "Images min: 0.0\n"
     ]
    }
   ],
   "source": [
    "# 가정: train_dataset은 이미 tf.data.Dataset 객체로 생성되어 있음\n",
    "# new_batch_size = 9\n",
    "\n",
    "# # 기존 데이터셋에서 배치 사이즈를 새로운 값으로 변경\n",
    "# val_dataset = val_dataset.unbatch()  # 먼저, 기존 배치를 해제\n",
    "# val_dataset = val_dataset.batch(new_batch_size, drop_remainder=True)  # 새로운 배치 사이즈로 재배치\n",
    "\n",
    "# 배치 사이즈 변경 후 데이터셋을 확인하기 위한 코드\n",
    "for images, _, _ in val_dataset.take(1):\n",
    "    print(f\"Images shape: {images.shape}\")\n",
    "    print(f\"Images max: {tf.reduce_max(images)}\")\n",
    "    print(f\"Images min: {tf.reduce_min(images)}\")"
   ]
  },
  {
   "cell_type": "code",
   "execution_count": null,
   "metadata": {},
   "outputs": [
    {
     "name": "stdout",
     "output_type": "stream",
     "text": [
      "1/1 [==============================] - 2s 2s/step\n"
     ]
    },
    {
     "data": {
      "image/png": "[encoded data removed]",
      "text/plain": [
       "<Figure size 1000x1000 with 1 Axes>"
      ]
     },
     "metadata": {},
     "output_type": "display_data"
    },
    {
     "name": "stdout",
     "output_type": "stream",
     "text": [
      "1/1 [==============================] - 0s 35ms/step\n"
     ]
    },
    {
     "data": {
      "image/png": "[encoded data removed]",
      "text/plain": [
       "<Figure size 1000x1000 with 1 Axes>"
      ]
     },
     "metadata": {},
     "output_type": "display_data"
    },
    {
     "name": "stdout",
     "output_type": "stream",
     "text": [
      "1/1 [==============================] - 0s 38ms/step\n"
     ]
    },
    {
     "data": {
      "image/png": "[encoded data removed]",
      "text/plain": [
       "<Figure size 1000x1000 with 1 Axes>"
      ]
     },
     "metadata": {},
     "output_type": "display_data"
    },
    {
     "name": "stdout",
     "output_type": "stream",
     "text": [
      "1/1 [==============================] - 0s 40ms/step\n"
     ]
    },
    {
     "data": {
      "image/png": "[encoded data removed]",
      "text/plain": [
       "<Figure size 1000x1000 with 1 Axes>"
      ]
     },
     "metadata": {},
     "output_type": "display_data"
    },
    {
     "name": "stdout",
     "output_type": "stream",
     "text": [
      "1/1 [==============================] - 0s 35ms/step\n"
     ]
    },
    {
     "data": {
      "image/png": "[encoded data removed]",
      "text/plain": [
       "<Figure size 1000x1000 with 1 Axes>"
      ]
     },
     "metadata": {},
     "output_type": "display_data"
    },
    {
     "name": "stdout",
     "output_type": "stream",
     "text": [
      "1/1 [==============================] - 0s 34ms/step\n"
     ]
    },
    {
     "data": {
      "image/png": "[encoded data removed]",
      "text/plain": [
       "<Figure size 1000x1000 with 1 Axes>"
      ]
     },
     "metadata": {},
     "output_type": "display_data"
    },
    {
     "name": "stdout",
     "output_type": "stream",
     "text": [
      "1/1 [==============================] - 0s 34ms/step\n"
     ]
    },
    {
     "data": {
      "image/png": "[encoded data removed]",
      "text/plain": [
       "<Figure size 1000x1000 with 1 Axes>"
      ]
     },
     "metadata": {},
     "output_type": "display_data"
    },
    {
     "name": "stdout",
     "output_type": "stream",
     "text": [
      "1/1 [==============================] - 0s 34ms/step\n"
     ]
    },
    {
     "data": {
      "image/png": "[encoded data removed]",
      "text/plain": [
       "<Figure size 1000x1000 with 1 Axes>"
      ]
     },
     "metadata": {},
     "output_type": "display_data"
    },
    {
     "name": "stdout",
     "output_type": "stream",
     "text": [
      "1/1 [==============================] - 0s 35ms/step\n"
     ]
    },
    {
     "data": {
      "image/png": "[encoded data removed]",
      "text/plain": [
       "<Figure size 1000x1000 with 1 Axes>"
      ]
     },
     "metadata": {},
     "output_type": "display_data"
    },
    {
     "name": "stdout",
     "output_type": "stream",
     "text": [
      "1/1 [==============================] - 0s 34ms/step\n"
     ]
    },
    {
     "data": {
      "image/png": "[encoded data removed]",
      "text/plain": [
       "<Figure size 1000x1000 with 1 Axes>"
      ]
     },
     "metadata": {},
     "output_type": "display_data"
    },
    {
     "name": "stdout",
     "output_type": "stream",
     "text": [
      "1/1 [==============================] - 0s 34ms/step\n"
     ]
    },
    {
     "data": {
      "image/png": "[encoded data removed]",
      "text/plain": [
       "<Figure size 1000x1000 with 1 Axes>"
      ]
     },
     "metadata": {},
     "output_type": "display_data"
    },
    {
     "name": "stdout",
     "output_type": "stream",
     "text": [
      "1/1 [==============================] - 0s 34ms/step\n"
     ]
    },
    {
     "data": {
      "image/png": "[encoded data removed]",
      "text/plain": [
       "<Figure size 1000x1000 with 1 Axes>"
      ]
     },
     "metadata": {},
     "output_type": "display_data"
    },
    {
     "name": "stdout",
     "output_type": "stream",
     "text": [
      "1/1 [==============================] - 0s 34ms/step\n"
     ]
    },
    {
     "data": {
      "image/png": "[encoded data removed]",
      "text/plain": [
       "<Figure size 1000x1000 with 1 Axes>"
      ]
     },
     "metadata": {},
     "output_type": "display_data"
    },
    {
     "name": "stdout",
     "output_type": "stream",
     "text": [
      "1/1 [==============================] - 0s 34ms/step\n"
     ]
    },
    {
     "data": {
      "image/png": "[encoded data removed]",
      "text/plain": [
       "<Figure size 1000x1000 with 1 Axes>"
      ]
     },
     "metadata": {},
     "output_type": "display_data"
    },
    {
     "name": "stdout",
     "output_type": "stream",
     "text": [
      "1/1 [==============================] - 0s 37ms/step\n"
     ]
    },
    {
     "data": {
      "image/png": "[encoded data removed]",
      "text/plain": [
       "<Figure size 1000x1000 with 1 Axes>"
      ]
     },
     "metadata": {},
     "output_type": "display_data"
    },
    {
     "name": "stdout",
     "output_type": "stream",
     "text": [
      "1/1 [==============================] - 0s 40ms/step\n"
     ]
    },
    {
     "data": {
      "image/png": "[encoded data removed]",
      "text/plain": [
       "<Figure size 1000x1000 with 1 Axes>"
      ]
     },
     "metadata": {},
     "output_type": "display_data"
    },
    {
     "name": "stdout",
     "output_type": "stream",
     "text": [
      "1/1 [==============================] - 0s 40ms/step\n"
     ]
    },
    {
     "data": {
      "image/png": "[encoded data removed]",
      "text/plain": [
       "<Figure size 1000x1000 with 1 Axes>"
      ]
     },
     "metadata": {},
     "output_type": "display_data"
    },
    {
     "name": "stdout",
     "output_type": "stream",
     "text": [
      "1/1 [==============================] - 0s 39ms/step\n"
     ]
    },
    {
     "data": {
      "image/png": "[encoded data removed]",
      "text/plain": [
       "<Figure size 1000x1000 with 1 Axes>"
      ]
     },
     "metadata": {},
     "output_type": "display_data"
    },
    {
     "name": "stdout",
     "output_type": "stream",
     "text": [
      "1/1 [==============================] - 0s 34ms/step\n"
     ]
    },
    {
     "data": {
      "image/png": "[encoded data removed]",
      "text/plain": [
       "<Figure size 1000x1000 with 1 Axes>"
      ]
     },
     "metadata": {},
     "output_type": "display_data"
    },
    {
     "name": "stdout",
     "output_type": "stream",
     "text": [
      "1/1 [==============================] - 0s 36ms/step\n"
     ]
    },
    {
     "data": {
      "image/png": "[encoded data removed]",
      "text/plain": [
       "<Figure size 1000x1000 with 1 Axes>"
      ]
     },
     "metadata": {},
     "output_type": "display_data"
    },
    {
     "name": "stdout",
     "output_type": "stream",
     "text": [
      "1/1 [==============================] - 0s 34ms/step\n"
     ]
    },
    {
     "data": {
      "image/png": "[encoded data removed]",
      "text/plain": [
       "<Figure size 1000x1000 with 1 Axes>"
      ]
     },
     "metadata": {},
     "output_type": "display_data"
    },
    {
     "name": "stdout",
     "output_type": "stream",
     "text": [
      "1/1 [==============================] - 0s 34ms/step\n"
     ]
    },
    {
     "data": {
      "image/png": "[encoded data removed]",
      "text/plain": [
       "<Figure size 1000x1000 with 1 Axes>"
      ]
     },
     "metadata": {},
     "output_type": "display_data"
    },
    {
     "name": "stdout",
     "output_type": "stream",
     "text": [
      "1/1 [==============================] - 0s 33ms/step\n"
     ]
    },
    {
     "data": {
      "image/png": "[encoded data removed]",
      "text/plain": [
       "<Figure size 1000x1000 with 1 Axes>"
      ]
     },
     "metadata": {},
     "output_type": "display_data"
    },
    {
     "name": "stdout",
     "output_type": "stream",
     "text": [
      "1/1 [==============================] - 0s 35ms/step\n"
     ]
    },
    {
     "data": {
      "image/png": "[encoded data removed]",
      "text/plain": [
       "<Figure size 1000x1000 with 1 Axes>"
      ]
     },
     "metadata": {},
     "output_type": "display_data"
    },
    {
     "name": "stdout",
     "output_type": "stream",
     "text": [
      "1/1 [==============================] - 0s 34ms/step\n"
     ]
    },
    {
     "data": {
      "image/png": "[encoded data removed]",
      "text/plain": [
       "<Figure size 1000x1000 with 1 Axes>"
      ]
     },
     "metadata": {},
     "output_type": "display_data"
    },
    {
     "name": "stdout",
     "output_type": "stream",
     "text": [
      "1/1 [==============================] - 0s 35ms/step\n"
     ]
    },
    {
     "data": {
      "image/png": "[encoded data removed]",
      "text/plain": [
       "<Figure size 1000x1000 with 1 Axes>"
      ]
     },
     "metadata": {},
     "output_type": "display_data"
    },
    {
     "name": "stdout",
     "output_type": "stream",
     "text": [
      "1/1 [==============================] - 0s 38ms/step\n"
     ]
    },
    {
     "data": {
      "image/png": "[encoded data removed]",
      "text/plain": [
       "<Figure size 1000x1000 with 1 Axes>"
      ]
     },
     "metadata": {},
     "output_type": "display_data"
    },
    {
     "name": "stdout",
     "output_type": "stream",
     "text": [
      "1/1 [==============================] - 0s 35ms/step\n"
     ]
    },
    {
     "data": {
      "image/png": "[encoded data removed]",
      "text/plain": [
       "<Figure size 1000x1000 with 1 Axes>"
      ]
     },
     "metadata": {},
     "output_type": "display_data"
    },
    {
     "name": "stdout",
     "output_type": "stream",
     "text": [
      "1/1 [==============================] - 0s 35ms/step\n"
     ]
    },
    {
     "data": {
      "image/png": "[encoded data removed]",
      "text/plain": [
       "<Figure size 1000x1000 with 1 Axes>"
      ]
     },
     "metadata": {},
     "output_type": "display_data"
    },
    {
     "name": "stdout",
     "output_type": "stream",
     "text": [
      "1/1 [==============================] - 0s 34ms/step\n"
     ]
    },
    {
     "data": {
      "image/png": "[encoded data removed]",
      "text/plain": [
       "<Figure size 1000x1000 with 1 Axes>"
      ]
     },
     "metadata": {},
     "output_type": "display_data"
    }
   ],
   "source": [
    "import numpy as np\n",
    "import matplotlib.pyplot as plt\n",
    "import matplotlib.patches as patches\n",
    "import tensorflow as tf\n",
    "\n",
    "def iou(box1, box2):\n",
    "    x1, y1, x2, y2 = box1\n",
    "    x3, y3, x4, y4 = box2\n",
    "\n",
    "    x_overlap = max(0, min(x2, x4) - max(x1, x3))\n",
    "    y_overlap = max(0, min(y2, y4) - max(y1, y3))\n",
    "\n",
    "    intersection = x_overlap * y_overlap\n",
    "    area1 = (x2 - x1) * (y2 - y1)\n",
    "    area2 = (x4 - x3) * (y4 - y3)\n",
    "    union = area1 + area2 - intersection\n",
    "\n",
    "    return intersection / union\n",
    "\n",
    "def decode_predictions(predictions, anchors, box_variance=[0.1, 0.1, 0.2, 0.2], iou_threshold=0.5, score_threshold=0.6, top_n=10):\n",
    "    decoded_boxes = []\n",
    "    scores = []\n",
    "    for i, prediction in enumerate(predictions):\n",
    "        score = prediction[-1]\n",
    "        if score > score_threshold:\n",
    "            scores.append((score, i))\n",
    "\n",
    "    # 점수에 따라 내림차순 정렬\n",
    "    scores.sort(reverse=True)\n",
    "\n",
    "    # 상위 N개 선택\n",
    "    scores = scores[:top_n]\n",
    "\n",
    "    # NMS 적용\n",
    "    while scores:\n",
    "        score, i = scores.pop(0)\n",
    "        prediction = predictions[i]\n",
    "        dx, dy, dw, dh = prediction[:4]\n",
    "        anchor = anchors[i]\n",
    "        anchor_x, anchor_y, anchor_w, anchor_h = anchor\n",
    "        cx = dx * box_variance[0] * anchor_w + anchor_x\n",
    "        cy = dy * box_variance[1] * anchor_h + anchor_y\n",
    "        width = np.exp(dw * box_variance[2]) * anchor_w\n",
    "        height = np.exp(dh * box_variance[3]) * anchor_h\n",
    "        x_min = cx - width / 2\n",
    "        y_min = cy - height / 2\n",
    "        decoded_box = [x_min, y_min, x_min + width, y_min + height, score]\n",
    "        keep = True\n",
    "        for other_box in decoded_boxes:\n",
    "            if iou(decoded_box[:4], other_box[:4]) >= iou_threshold:\n",
    "                keep = False\n",
    "                break\n",
    "        if keep:\n",
    "            decoded_boxes.append(decoded_box)\n",
    "\n",
    "    return decoded_boxes\n",
    "\n",
    "def draw_bounding_boxes(image, boxes, class_names):\n",
    "    plt.figure(figsize=(10, 10))\n",
    "    plt.imshow(image, cmap='gray')  # 이미지가 grayscale인 경우 cmap='gray'를 추가합니다.\n",
    "    ax = plt.gca()\n",
    "    for box in boxes:\n",
    "        x_min, y_min, x_max, y_max, score = box\n",
    "        rect = patches.Rectangle((x_min, y_min), x_max - x_min, y_max - y_min, linewidth=1, edgecolor='r', facecolor='none')\n",
    "        ax.add_patch(rect)\n",
    "\n",
    "        # 박스 위에 클래스 이름과 확률 표시\n",
    "        class_name = class_names[0]  # 예시로 'person' 클래스를 사용합니다.\n",
    "        # text = f'{class_name}: {score / 4:.2f}'\n",
    "        text = f'{class_name}'\n",
    "        ax.text(x_min, y_min, text, fontsize=10, bbox=dict(facecolor='yellow', alpha=0.5))\n",
    "\n",
    "    plt.axis('off')\n",
    "    plt.show()\n",
    "\n",
    "# AnchorBox 클래스와 get_anchors 함수가 필요합니다.\n",
    "anchor_box = AnchorBox()\n",
    "anchors = anchor_box.get_anchors(24, 32)  # 앵커 박스 생성 예시\n",
    "\n",
    "class_names = ['person']  # 클래스 이름 리스트\n",
    "\n",
    "for img, _ in train_dataset.take(30):    \n",
    "    predictions = model.predict(tf.expand_dims(img[0], axis=0))[0]  # 첫 번째 이미지에 대한 예측 결과\n",
    "    decoded_boxes = decode_predictions(predictions, anchors)  # 예측된 바운딩 박스 디코딩\n",
    "    draw_bounding_boxes(img[0].numpy(), decoded_boxes, class_names)  # 디코딩된 바운딩 박스를 이미지에 그리기\n"
   ]
  },
  {
   "cell_type": "code",
   "execution_count": null,
   "metadata": {},
   "outputs": [
    {
     "ename": "SyntaxError",
     "evalue": "invalid syntax (3888922174.py, line 1)",
     "output_type": "error",
     "traceback": [
      "\u001b[0;36m  Cell \u001b[0;32mIn[70], line 1\u001b[0;36m\u001b[0m\n\u001b[0;31m    q!\u001b[0m\n\u001b[0m     ^\u001b[0m\n\u001b[0;31mSyntaxError\u001b[0m\u001b[0;31m:\u001b[0m invalid syntax\n"
     ]
    }
   ],
   "source": [
    "q!"
   ]
  },
  {
   "cell_type": "code",
   "execution_count": null,
   "metadata": {},
   "outputs": [],
   "source": [
    "anchor_box = AnchorBox()\n",
    "anchors = anchor_box.get_anchors(24, 32)"
   ]
  },
  {
   "cell_type": "code",
   "execution_count": null,
   "metadata": {},
   "outputs": [],
   "source": [
    "class DecodePredictions(tf.keras.layers.Layer):\n",
    "    def __init__(self, confidence_threshold=0.5, iou_threshold=0.5, top_k=100, num_classes=1, **kwargs):\n",
    "        super().__init__(**kwargs)\n",
    "        self.confidence_threshold = confidence_threshold\n",
    "        self.iou_threshold = iou_threshold\n",
    "        self.top_k = top_k\n",
    "        self.num_classes = num_classes\n",
    "\n",
    "    def call(self, inputs):\n",
    "        predictions = inputs\n",
    "\n",
    "        # 앵커 박스 생성\n",
    "        anchor_box = AnchorBox()\n",
    "        anchors = anchor_box.get_anchors(24, 32)\n",
    "\n",
    "        # 스코어 필터링\n",
    "        scores = predictions[..., -1]\n",
    "        score_mask = scores > self.confidence_threshold\n",
    "        filtered_predictions = tf.boolean_mask(predictions, score_mask)\n",
    "        filtered_anchors = tf.boolean_mask(anchors, tf.reshape(score_mask, [-1]))\n",
    "\n",
    "        # NMS 적용\n",
    "        boxes = self.decode_boxes(filtered_predictions, filtered_anchors)\n",
    "        nms_indices = tf.image.non_max_suppression(boxes, tf.boolean_mask(scores, score_mask), max_output_size=self.top_k, iou_threshold=self.iou_threshold)\n",
    "        decoded_boxes = tf.gather(boxes, nms_indices)\n",
    "        decoded_scores = tf.gather(tf.boolean_mask(scores, score_mask), nms_indices)\n",
    "\n",
    "        # 바운딩 박스와 스코어 합치기\n",
    "        decoded_predictions = tf.concat([decoded_boxes, tf.expand_dims(decoded_scores, axis=-1)], axis=-1)\n",
    "\n",
    "        return decoded_predictions\n",
    "\n",
    "    def decode_boxes(self, predictions, anchors):\n",
    "        box_variance = [0.1, 0.1, 0.2, 0.2]\n",
    "        dx = predictions[..., 0]\n",
    "        dy = predictions[..., 1]\n",
    "        dw = predictions[..., 2]\n",
    "        dh = predictions[..., 3]\n",
    "        anchor_x = anchors[..., 0]\n",
    "        anchor_y = anchors[..., 1]\n",
    "        anchor_w = anchors[..., 2]\n",
    "        anchor_h = anchors[..., 3]\n",
    "\n",
    "        cx = dx * box_variance[0] * anchor_w + anchor_x\n",
    "        cy = dy * box_variance[1] * anchor_h + anchor_y\n",
    "        width = tf.exp(dw * box_variance[2]) * anchor_w\n",
    "        height = tf.exp(dh * box_variance[3]) * anchor_h\n",
    "\n",
    "        x_min = cx - width / 2\n",
    "        y_min = cy - height / 2\n",
    "        x_max = x_min + width\n",
    "        y_max = y_min + height\n",
    "\n",
    "        boxes = tf.stack([x_min, y_min, x_max, y_max], axis=-1)\n",
    "        return boxes\n",
    "\n"
   ]
  },
  {
   "cell_type": "code",
   "execution_count": null,
   "metadata": {},
   "outputs": [],
   "source": []
  },
  {
   "cell_type": "code",
   "execution_count": null,
   "metadata": {},
   "outputs": [],
   "source": [
    "# 추론 모델 생성\n",
    "image = tf.keras.Input(shape=[24, 32, 1], name=\"image\")\n",
    "predictions = model(image, training=False)\n",
    "detections = DecodePredictions(confidence_threshold=0.5)(predictions)\n",
    "inference_model = tf.keras.Model(inputs=image, outputs=detections)"
   ]
  },
  {
   "cell_type": "code",
   "execution_count": null,
   "metadata": {},
   "outputs": [],
   "source": [
    "class_names = ['person']  # 클래스 이름 리스트\n",
    "\n",
    "for img, _, _ in val_dataset.take(10):    \n",
    "    predictions = inference_model.predict(tf.expand_dims(img[0], axis=0))  # 첫 번째 이미지에 대한 예측 결과\n",
    "    print(predictions)\n",
    "    draw_bounding_boxes(img[0].numpy(), predictions, class_names)  # 디코딩된 바운딩 박스를 이미지에 그리기\n",
    "    "
   ]
  },
  {
   "cell_type": "code",
   "execution_count": null,
   "metadata": {},
   "outputs": [],
   "source": [
    "# from tensorflow import keras\n",
    "# custom_objects = {\n",
    "#     'DepthwiseSeparableConv': DepthwiseSeparableConv,\n",
    "#     'DepthwiseConv': DepthwiseConv,\n",
    "#     'Conv': Conv,\n",
    "#     'Bottleneck': Bottleneck,\n",
    "#     'CSPDenseLayer': CSPDenseLayer,\n",
    "#     'ChannelAttention': ChannelAttention,\n",
    "#     'SpatialAttention': SpatialAttention,\n",
    "#     'CBAM': CBAM,\n",
    "#     'SPPF': SPPFast,\n",
    "#     'BackBone': BackBone,\n",
    "#     'NeckLayer': NeckLayer,\n",
    "#     'HeadLayer': HeadLayer,\n",
    "#     'CustomModel': CustomModel,\n",
    "#     'DecodePredictions': DecodePredictions\n",
    "# }\n",
    "\n",
    "export_path = 'ObjectDetection/model_v6_backup_plan'\n",
    "inference_model.save(export_path, save_format=\"tf\")"
   ]
  },
  {
   "cell_type": "code",
   "execution_count": null,
   "metadata": {},
   "outputs": [],
   "source": [
    "# import tensorflow as tf\n",
    "\n",
    "# custom_objects = {\n",
    "#     'DepthwiseSeparableConv': DepthwiseSeparableConv,\n",
    "#     'DepthwiseConv': DepthwiseConv,\n",
    "#     'Conv': Conv,\n",
    "#     'Bottleneck': Bottleneck,\n",
    "#     'CSPDenseLayer': CSPDenseLayer,\n",
    "#     'ChannelAttention': ChannelAttention,\n",
    "#     'SpatialAttention': SpatialAttention,\n",
    "#     'CBAM': CBAM,\n",
    "#     'SPPF': SPPFast,\n",
    "#     'BackBone': BackBone,\n",
    "#     'NeckLayer': NeckLayer,\n",
    "#     'HeadLayer': HeadLayer,\n",
    "#     'CustomModel': CustomModel,\n",
    "#     'DecodePredictions': DecodePredictions\n",
    "# }\n",
    "\n",
    "# export_path = 'ObjectDetection/model_v6_backup_plan'\n",
    "# loaded_model = tf.keras.models.load_model(export_path, custom_objects=custom_objects, compile=False)"
   ]
  },
  {
   "cell_type": "code",
   "execution_count": null,
   "metadata": {},
   "outputs": [],
   "source": [
    "# class_names = ['person']  # 클래스 이름 리스트\n",
    "\n",
    "# for img, _, _ in val_dataset.take(1):    \n",
    "#     predictions = loaded_model.predict(tf.expand_dims(img[0], axis=0))  # 첫 번째 이미지에 대한 예측 결과\n",
    "#     print(predictions)\n",
    "#     draw_bounding_boxes(img[0].numpy(), predictions, class_names)  # 디코딩된 바운딩 박스를 이미지에 그리기\n",
    "    "
   ]
  },
  {
   "cell_type": "code",
   "execution_count": null,
   "metadata": {},
   "outputs": [],
   "source": [
    "import tensorflow as tf\n",
    "\n",
    "saved_model_dir = 'ObjectDetection/model_v6_backup_plan'\n",
    "\n",
    "converter = tf.lite.TFLiteConverter.from_saved_model(saved_model_dir)\n",
    "converter.target_spec.supported_ops = [tf.lite.OpsSet.TFLITE_BUILTINS,\n",
    "                                       tf.lite.OpsSet.SELECT_TF_OPS]\n",
    "converter.optimizations = [tf.lite.Optimize.DEFAULT]\n",
    "# 입력과 출력의 데이터 타입을 설정\n",
    "converter.inference_input_type = tf.float32\n",
    "converter.inference_output_type = tf.float32\n",
    "\n",
    "tflite_model = converter.convert()\n",
    "open('ObjectDetection/tflite/model_v6.6.tflite', 'wb').write(tflite_model)"
   ]
  },
  {
   "cell_type": "code",
   "execution_count": null,
   "metadata": {},
   "outputs": [],
   "source": [
    "# TensorFlow Lite 모델 로드\n",
    "tflite_model_path = 'ObjectDetection/tflite/model_v6.6.tflite'\n",
    "interpreter = tf.lite.Interpreter(model_path=tflite_model_path)\n",
    "interpreter.allocate_tensors()\n",
    "\n",
    "input_details = interpreter.get_input_details()\n",
    "output_details = interpreter.get_output_details()\n",
    "\n",
    "class_names = ['person']  # 클래스 이름 리스트\n",
    "\n",
    "def draw_bounding_boxes(image, boxes, class_names):\n",
    "    plt.figure(figsize=(10, 10))\n",
    "    plt.imshow(image, cmap='gray')  # 이미지가 grayscale인 경우 cmap='gray'를 추가합니다.\n",
    "    ax = plt.gca()\n",
    "    for box in boxes:\n",
    "        x_min, y_min, x_max, y_max, score = box\n",
    "        rect = patches.Rectangle((x_min, y_min), x_max - x_min, y_max - y_min, linewidth=1, edgecolor='r', facecolor='none')\n",
    "        ax.add_patch(rect)\n",
    "\n",
    "        # 박스 위에 클래스 이름과 확률 표시\n",
    "        class_name = class_names[0]  # 예시로 'person' 클래스를 사용합니다.\n",
    "        # text = f'{class_name}: {score / 4:.2f}'\n",
    "        text = f'{class_name}'\n",
    "        ax.text(x_min, y_min, text, fontsize=10, bbox=dict(facecolor='yellow', alpha=0.5))\n",
    "\n",
    "    plt.axis('off')\n",
    "    plt.show()\n",
    "    \n",
    "for img, _, _ in val_dataset.take(50):\n",
    "    # 입력 이미지 전처리\n",
    "    input_data = tf.expand_dims(img[0], axis=0)\n",
    "    input_data = input_data.numpy()\n",
    "    \n",
    "    # 모델 추론\n",
    "    interpreter.set_tensor(input_details[0]['index'], input_data)\n",
    "    interpreter.invoke()\n",
    "    predictions = interpreter.get_tensor(output_details[0]['index'])\n",
    "    # print(predictions)\n",
    "    predictions[:, -1]\n",
    "    \n",
    "    scores = predictions[:, -1]\n",
    "\n",
    "    # scores가 0.5 이상인 인덱스를 찾습니다.\n",
    "    indices = tf.where(scores >= 0.5)\n",
    "\n",
    "    # 해당 인덱스에 해당하는 predictions만 필터링합니다.\n",
    "    filtered_predictions = tf.gather(predictions, indices[:, 0])\n",
    "\n",
    "    # 결과 후처리 및 시각화\n",
    "    draw_bounding_boxes(img[0].numpy(), filtered_predictions, class_names)"
   ]
  },
  {
   "cell_type": "code",
   "execution_count": null,
   "metadata": {},
   "outputs": [],
   "source": [
    "q! 이거 봐라 개쩔꺼다"
   ]
  },
  {
   "cell_type": "code",
   "execution_count": null,
   "metadata": {},
   "outputs": [],
   "source": [
    "# import numpy as np\n",
    "# import matplotlib.pyplot as plt\n",
    "# import matplotlib.patches as patches\n",
    "# import tensorflow as tf\n",
    "\n",
    "# import numpy as np\n",
    "\n",
    "\n",
    "# def iou(box1, box2):\n",
    "#     x1, y1, x2, y2 = box1\n",
    "#     x3, y3, x4, y4 = box2\n",
    "    \n",
    "#     x_overlap = max(0, min(x2, x4) - max(x1, x3))\n",
    "#     y_overlap = max(0, min(y2, y4) - max(y1, y3))\n",
    "    \n",
    "#     intersection = x_overlap * y_overlap\n",
    "#     area1 = (x2 - x1) * (y2 - y1)\n",
    "#     area2 = (x4 - x3) * (y4 - y3)\n",
    "#     union = area1 + area2 - intersection\n",
    "    \n",
    "#     return intersection / union\n",
    "\n",
    "# def decode_predictions(predictions, anchors, box_variance=[0.1, 0.1, 0.2, 0.2], iou_threshold=0.5, score_threshold=0.9, top_n=9000):\n",
    "#     decoded_boxes = []\n",
    "#     scores = []\n",
    "    \n",
    "#     for i, prediction in enumerate(predictions):\n",
    "#         score = prediction[-1]\n",
    "#         if score > score_threshold:\n",
    "#             scores.append((score, i))\n",
    "    \n",
    "#     # 점수에 따라 내림차순 정렬\n",
    "#     scores.sort(reverse=True)\n",
    "    \n",
    "#     # 상위 N개 선택\n",
    "#     scores = scores[:top_n]\n",
    "    \n",
    "#     # NMS 적용\n",
    "#     for score, i in scores:\n",
    "#         prediction = predictions[i]\n",
    "#         dx, dy, dw, dh = prediction[:4]\n",
    "#         anchor = anchors[i]\n",
    "#         anchor_x, anchor_y, anchor_w, anchor_h = anchor\n",
    "        \n",
    "#         cx = dx * box_variance[0] * anchor_w + anchor_x\n",
    "#         cy = dy * box_variance[1] * anchor_h + anchor_y\n",
    "#         width = np.exp(dw * box_variance[2]) * anchor_w\n",
    "#         height = np.exp(dh * box_variance[3]) * anchor_h\n",
    "        \n",
    "#         x_min = cx - width / 2\n",
    "#         y_min = cy - height / 2\n",
    "#         decoded_box = [x_min, y_min, x_min + width, y_min + height]\n",
    "        \n",
    "#         keep = True\n",
    "#         for other_box in decoded_boxes:\n",
    "#             if iou(decoded_box, other_box) >= iou_threshold:\n",
    "#                 keep = False\n",
    "#                 break\n",
    "        \n",
    "#         if keep:\n",
    "#             decoded_boxes.append(decoded_box)\n",
    "    \n",
    "#     return decoded_boxes\n",
    "\n",
    "# def draw_bounding_boxes(image, boxes):\n",
    "#     plt.figure(figsize=(5, 5))\n",
    "#     plt.imshow(image)\n",
    "#     ax = plt.gca()\n",
    "#     for box in boxes:\n",
    "#         x_min, y_min, x_max, y_max = box\n",
    "#         rect = patches.Rectangle((x_min, y_min), x_max - x_min, y_max - y_min, linewidth=1, edgecolor='r', facecolor='none')\n",
    "#         ax.add_patch(rect)\n",
    "#     plt.axis('off')\n",
    "#     plt.show()\n",
    "\n",
    "# # AnchorBox 클래스와 get_anchors 함수가 필요합니다.\n",
    "\n",
    "# anchor_box = AnchorBox()\n",
    "# anchors = anchor_box.get_anchors(24, 32)  # 앵커 박스 생성 예시\n",
    "\n",
    "# for img, _, _ in val_dataset:    \n",
    "#     predictions = model.predict(tf.expand_dims(img[0], axis=0))[0]  # 첫 번째 이미지에 대한 예측 결과\n",
    "#     decoded_boxes = decode_predictions(predictions, anchors)  # 예측된 바운딩 박스 디코딩\n",
    "#     draw_bounding_boxes(img[0].numpy(), decoded_boxes)  # 디코딩된 바운딩 박스를 이미지에 그리기\n"
   ]
  },
  {
   "cell_type": "code",
   "execution_count": null,
   "metadata": {},
   "outputs": [],
   "source": [
    "q!"
   ]
  },
  {
   "cell_type": "markdown",
   "metadata": {},
   "source": [
    "# 이미지 저장"
   ]
  },
  {
   "cell_type": "code",
   "execution_count": null,
   "metadata": {},
   "outputs": [],
   "source": [
    "import numpy as np\n",
    "import matplotlib.pyplot as plt\n",
    "import matplotlib.patches as patches\n",
    "import tensorflow as tf\n",
    "from PIL import Image\n",
    "\n",
    "def iou(box1, box2):\n",
    "    x1, y1, x2, y2 = box1\n",
    "    x3, y3, x4, y4 = box2\n",
    "    \n",
    "    x_overlap = max(0, min(x2, x4) - max(x1, x3))\n",
    "    y_overlap = max(0, min(y2, y4) - max(y1, y3))\n",
    "    \n",
    "    intersection = x_overlap * y_overlap\n",
    "    area1 = (x2 - x1) * (y2 - y1)\n",
    "    area2 = (x4 - x3) * (y4 - y3)\n",
    "    union = area1 + area2 - intersection\n",
    "    \n",
    "    return intersection / union\n",
    "\n",
    "def decode_predictions(predictions, anchors, box_variance=[0.1, 0.1, 0.2, 0.2], iou_threshold=0.5, score_threshold=0.9, top_n=9000):\n",
    "    decoded_boxes = []\n",
    "    scores = []\n",
    "    \n",
    "    for i, prediction in enumerate(predictions):\n",
    "        score = prediction[-1]\n",
    "        if score > score_threshold:\n",
    "            scores.append((score, i))\n",
    "    \n",
    "    # 점수에 따라 내림차순 정렬\n",
    "    scores.sort(reverse=True)\n",
    "    \n",
    "    # 상위 N개 선택\n",
    "    scores = scores[:top_n]\n",
    "    \n",
    "    # NMS 적용\n",
    "    for score, i in scores:\n",
    "        prediction = predictions[i]\n",
    "        dx, dy, dw, dh = prediction[:4]\n",
    "        anchor = anchors[i]\n",
    "        anchor_x, anchor_y, anchor_w, anchor_h = anchor\n",
    "        \n",
    "        cx = dx * box_variance[0] * anchor_w + anchor_x\n",
    "        cy = dy * box_variance[1] * anchor_h + anchor_y\n",
    "        width = np.exp(dw * box_variance[2]) * anchor_w\n",
    "        height = np.exp(dh * box_variance[3]) * anchor_h\n",
    "        \n",
    "        x_min = cx - width / 2\n",
    "        y_min = cy - height / 2\n",
    "        decoded_box = [x_min, y_min, x_min + width, y_min + height]\n",
    "        \n",
    "        keep = True\n",
    "        for other_box in decoded_boxes:\n",
    "            if iou(decoded_box, other_box) >= iou_threshold:\n",
    "                keep = False\n",
    "                break\n",
    "        \n",
    "        if keep:\n",
    "            decoded_boxes.append(decoded_box)\n",
    "    \n",
    "    return decoded_boxes\n",
    "\n",
    "def draw_bounding_boxes(image, boxes, save_path=None):\n",
    "    plt.figure(figsize=(5, 5))\n",
    "    plt.imshow(image)\n",
    "    ax = plt.gca()\n",
    "    for box in boxes:\n",
    "        x_min, y_min, x_max, y_max = box\n",
    "        rect = patches.Rectangle((x_min, y_min), x_max - x_min, y_max - y_min, linewidth=1, edgecolor='r', facecolor='none')\n",
    "        ax.add_patch(rect)\n",
    "    plt.axis('off')\n",
    "    \n",
    "    if save_path:\n",
    "        plt.savefig(save_path, bbox_inches='tight', pad_inches=0)\n",
    "    else:\n",
    "        plt.show()\n",
    "\n",
    "# AnchorBox 클래스와 get_anchors 함수가 필요합니다.\n",
    "\n",
    "anchor_box = AnchorBox()\n",
    "anchors = anchor_box.get_anchors(24, 32)  # 앵커 박스 생성 예시\n",
    "\n",
    "for i, (img, _, _) in enumerate(val_dataset):    \n",
    "    predictions = model.predict(tf.expand_dims(img[0], axis=0))[0]  # 첫 번째 이미지에 대한 예측 결과\n",
    "    decoded_boxes = decode_predictions(predictions, anchors)  # 예측된 바운딩 박스 디코딩\n",
    "    save_path = f\"prediction_img/output_{i}.png\"  # 이미지 저장 경로 지정\n",
    "    draw_bounding_boxes(img[0].numpy(), decoded_boxes, save_path=save_path)  # 디코딩된 바운딩 박스를 이미지에 그리고 저장"
   ]
  },
  {
   "cell_type": "code",
   "execution_count": null,
   "metadata": {},
   "outputs": [],
   "source": []
  }
 ],
 "metadata": {
  "kernelspec": {
   "display_name": "torch",
   "language": "python",
   "name": "python3"
  },
  "language_info": {
   "codemirror_mode": {
    "name": "ipython",
    "version": 3
   },
   "file_extension": ".py",
   "mimetype": "text/x-python",
   "name": "python",
   "nbconvert_exporter": "python",
   "pygments_lexer": "ipython3",
   "version": "3.9.0"
  }
 },
 "nbformat": 4,
 "nbformat_minor": 2
}
