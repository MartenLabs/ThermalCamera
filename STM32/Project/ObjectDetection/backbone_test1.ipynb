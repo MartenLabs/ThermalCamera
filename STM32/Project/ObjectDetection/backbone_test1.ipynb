{
 "cells": [
  {
   "cell_type": "code",
   "execution_count": 1,
   "metadata": {},
   "outputs": [
    {
     "name": "stderr",
     "output_type": "stream",
     "text": [
      "2024-04-18 08:26:45.406206: I tensorflow/core/util/port.cc:111] oneDNN custom operations are on. You may see slightly different numerical results due to floating-point round-off errors from different computation orders. To turn them off, set the environment variable `TF_ENABLE_ONEDNN_OPTS=0`.\n",
      "2024-04-18 08:26:45.442824: E tensorflow/compiler/xla/stream_executor/cuda/cuda_dnn.cc:9342] Unable to register cuDNN factory: Attempting to register factory for plugin cuDNN when one has already been registered\n",
      "2024-04-18 08:26:45.442857: E tensorflow/compiler/xla/stream_executor/cuda/cuda_fft.cc:609] Unable to register cuFFT factory: Attempting to register factory for plugin cuFFT when one has already been registered\n",
      "2024-04-18 08:26:45.442878: E tensorflow/compiler/xla/stream_executor/cuda/cuda_blas.cc:1518] Unable to register cuBLAS factory: Attempting to register factory for plugin cuBLAS when one has already been registered\n",
      "2024-04-18 08:26:45.450522: I tensorflow/core/platform/cpu_feature_guard.cc:182] This TensorFlow binary is optimized to use available CPU instructions in performance-critical operations.\n",
      "To enable the following instructions: AVX2 AVX512F AVX512_VNNI FMA, in other operations, rebuild TensorFlow with the appropriate compiler flags.\n",
      "2024-04-18 08:26:46.155155: W tensorflow/compiler/tf2tensorrt/utils/py_utils.cc:38] TF-TRT Warning: Could not find TensorRT\n"
     ]
    }
   ],
   "source": [
    "import os\n",
    "import numpy as np\n",
    "import matplotlib.pyplot as plt\n",
    "import tensorflow as tf\n",
    "from tensorflow.keras import layers, models\n",
    "from tensorflow.keras.optimizers import Adam\n",
    "\n",
    "AUTOTUNE = tf.data.AUTOTUNE\n",
    "\n",
    "RES_HEIGHT = 24\n",
    "RES_WIDTH = 32\n",
    "NUM_CLASS = 5\n",
    "N_BATCH = 9\n",
    "N_EPOCH = 10\n",
    "LR = 0.002"
   ]
  },
  {
   "cell_type": "code",
   "execution_count": 2,
   "metadata": {},
   "outputs": [
    {
     "data": {
      "text/plain": [
       "[PhysicalDevice(name='/physical_device:GPU:0', device_type='GPU'),\n",
       " PhysicalDevice(name='/physical_device:GPU:1', device_type='GPU'),\n",
       " PhysicalDevice(name='/physical_device:GPU:2', device_type='GPU'),\n",
       " PhysicalDevice(name='/physical_device:GPU:3', device_type='GPU'),\n",
       " PhysicalDevice(name='/physical_device:GPU:4', device_type='GPU'),\n",
       " PhysicalDevice(name='/physical_device:GPU:5', device_type='GPU'),\n",
       " PhysicalDevice(name='/physical_device:GPU:6', device_type='GPU')]"
      ]
     },
     "execution_count": 2,
     "metadata": {},
     "output_type": "execute_result"
    }
   ],
   "source": [
    "import tensorflow as tf\n",
    "\n",
    "# 사용할 GPU를 설정 (여기서는 GPU 0번만 사용)\n",
    "gpus = tf.config.experimental.list_physical_devices('GPU')\n",
    "if gpus:\n",
    "    try:\n",
    "        # GPU 0만 TensorFlow에서 사용하도록 설정\n",
    "        tf.config.experimental.set_visible_devices(gpus[2], 'GPU')\n",
    "        \n",
    "        # GPU 메모리 성장 허용 설정\n",
    "        tf.config.experimental.set_memory_growth(gpus[2], True)\n",
    "    except RuntimeError as e:\n",
    "        # GPU가 이미 사용 중이라면 예외 발생\n",
    "        print(e)\n",
    "        \n",
    "# TensorFlow가 실제로 GPU를 사용하는지 확인하기 위한 간단한 테스트\n",
    "tf.config.list_physical_devices('GPU')\n"
   ]
  },
  {
   "cell_type": "code",
   "execution_count": 3,
   "metadata": {},
   "outputs": [],
   "source": [
    "def load_and_combine_npz_files(npz_files):\n",
    "    all_images = []\n",
    "    all_labels = []\n",
    "    \n",
    "    for npz_file in npz_files:\n",
    "        data = np.load(npz_file, allow_pickle=True)\n",
    "        all_images.append(data['images'])\n",
    "        all_labels.append(data['numbers'])\n",
    "        \n",
    "    combined_images = np.concatenate(all_images, axis=0)\n",
    "    combined_labels = np.concatenate(all_labels, axis=0)\n",
    "    return combined_images, combined_labels"
   ]
  },
  {
   "cell_type": "code",
   "execution_count": 4,
   "metadata": {},
   "outputs": [],
   "source": [
    "def add_noise_to_edges(images, noise_factor=50, edge_width=4):\n",
    "    noisy_images = images.astype(np.float32)\n",
    "    height, width = images.shape[1], images.shape[2]\n",
    "    for i in range(images.shape[0]):\n",
    "        noisy_images[i, :edge_width, :] += np.random.normal(scale=noise_factor, size=(edge_width, width))\n",
    "        noisy_images[i, -edge_width:, :] += np.random.normal(scale=noise_factor, size=(edge_width, width))\n",
    "        noisy_images[i, :, :edge_width] += np.random.normal(scale=noise_factor, size=(height, edge_width))\n",
    "        noisy_images[i, :, -edge_width:] += np.random.normal(scale=noise_factor, size=(height, edge_width))\n",
    "    return np.clip(noisy_images, 0, 255).astype(np.float32)\n",
    "\n",
    "def add_selective_noise(images, noise_factor=60, noise_ratio=0.1):\n",
    "    noisy_images = np.copy(images).astype(np.float32)\n",
    "    height, width = images.shape[1], images.shape[2]\n",
    "    total_pixels = height * width\n",
    "    for i in range(images.shape[0]):\n",
    "        noise_pixels = int(total_pixels * noise_ratio)\n",
    "        noise_indices = np.random.choice(total_pixels, noise_pixels, replace=False)\n",
    "        noise = np.random.normal(scale=noise_factor, size=(height, width))\n",
    "        flat_img = images[i].flatten()\n",
    "        np.put(flat_img, noise_indices, noise.flatten()[noise_indices])\n",
    "        noisy_images[i] = flat_img.reshape(height, width)\n",
    "    return np.clip(noisy_images, 0, 255).astype(np.float32)"
   ]
  },
  {
   "cell_type": "code",
   "execution_count": 5,
   "metadata": {},
   "outputs": [
    {
     "name": "stdout",
     "output_type": "stream",
     "text": [
      "1600\n",
      "402\n"
     ]
    },
    {
     "name": "stderr",
     "output_type": "stream",
     "text": [
      "2024-04-18 08:26:47.951068: I tensorflow/core/common_runtime/gpu/gpu_device.cc:1886] Created device /job:localhost/replica:0/task:0/device:GPU:0 with 21939 MB memory:  -> device: 2, name: NVIDIA GeForce RTX 3090, pci bus id: 0000:20:00.0, compute capability: 8.6\n"
     ]
    }
   ],
   "source": [
    "num_classes = 5\n",
    "\n",
    "def preprocess_images_and_labels(images, labels):\n",
    "    images = tf.expand_dims(images, -1)\n",
    "\n",
    "    # images = tf.image.resize(images, [96, 128], method='nearest')\n",
    "    images = images / 255.0  # Normalize images to [0, 1]\n",
    "    labels = tf.one_hot(labels, depth=num_classes)\n",
    "    return images, labels\n",
    "\n",
    "npz_files = [\n",
    "    'dataset/make/horizon1.npz',\n",
    "    'dataset/make/horizon3.npz',\n",
    "    'dataset/make/hv1.npz',\n",
    "    'dataset/make/hv3.npz',\n",
    "    'dataset/make/origin1.npz',\n",
    "    'dataset/make/origin3.npz',\n",
    "    'dataset/make/vertical1.npz',\n",
    "    'dataset/make/vertical3.npz',\n",
    "    'dataset/npz/dataset2_horizon.npz',\n",
    "    'dataset/npz/dataset2_origin.npz',\n",
    "    'dataset/npz/dataset2_vertical.npz',\n",
    "    'dataset/npz/dataset2_vh.npz',\n",
    "]\n",
    "\n",
    "combined_images, combined_labels = load_and_combine_npz_files(npz_files)\n",
    "noisy_images = add_noise_to_edges(combined_images)\n",
    "noisy_images = add_selective_noise(noisy_images)\n",
    "\n",
    "extended_images = np.concatenate([combined_images, noisy_images], axis=0)\n",
    "extended_labels = np.concatenate([combined_labels, combined_labels], axis=0)\n",
    "\n",
    "# Convert to TensorFlow Dataset\n",
    "dataset = tf.data.Dataset.from_tensor_slices((extended_images, extended_labels))\n",
    "\n",
    "shuffle_buffer_size = len(dataset)\n",
    "# Preprocess and batch the dataset\n",
    "# 데이터셋을 섞고 배치 처리하기\n",
    "batched_dataset = dataset.shuffle(shuffle_buffer_size).map(lambda x, y: preprocess_images_and_labels(x, y)).batch(N_BATCH).prefetch(tf.data.AUTOTUNE)\n",
    "\n",
    "# 배치의 총 수 계산하기\n",
    "total_batches = len(extended_images) // N_BATCH\n",
    "\n",
    "# 훈련 및 검증 배치의 수 계산하기\n",
    "train_batches = int(0.80 * total_batches)\n",
    "# val_batches = total_batches - train_batches (필요한 경우)\n",
    "\n",
    "# 훈련 및 검증 데이터셋으로 분할하기\n",
    "train_dataset = batched_dataset.take(train_batches)\n",
    "val_dataset = batched_dataset.skip(train_batches)\n",
    "\n",
    "print(len(train_dataset))\n",
    "\n",
    "print(len(val_dataset))"
   ]
  },
  {
   "cell_type": "code",
   "execution_count": 6,
   "metadata": {},
   "outputs": [
    {
     "name": "stdout",
     "output_type": "stream",
     "text": [
      "(18016, 24, 32)\n"
     ]
    }
   ],
   "source": [
    "print(extended_images.shape)"
   ]
  },
  {
   "cell_type": "code",
   "execution_count": 7,
   "metadata": {},
   "outputs": [],
   "source": [
    "# print(extended_images[10000].shape) # 0\n",
    "# print(extended_labels[10000])\n",
    "\n",
    "# print(extended_images[6000].shape) # 1\n",
    "# print(extended_labels[6000])\n",
    "\n",
    "# print(extended_images[9000].shape) # 2\n",
    "# print(extended_labels[9000])\n",
    "\n",
    "# print(extended_images[13000].shape) # 3\n",
    "# print(extended_labels[13000])\n",
    "\n",
    "# print(extended_images[26485].shape) # 4\n",
    "# print(extended_labels[26485])\n",
    "\n"
   ]
  },
  {
   "cell_type": "code",
   "execution_count": 8,
   "metadata": {},
   "outputs": [
    {
     "data": {
      "text/plain": [
       "<matplotlib.image.AxesImage at 0x7f5758d3dc40>"
      ]
     },
     "execution_count": 8,
     "metadata": {},
     "output_type": "execute_result"
    },
    {
     "data": {
      "image/png": "[encoded data removed]",
      "text/plain": [
       "<Figure size 640x480 with 1 Axes>"
      ]
     },
     "metadata": {},
     "output_type": "display_data"
    }
   ],
   "source": [
    "plt.imshow(extended_images[8000])"
   ]
  },
  {
   "cell_type": "code",
   "execution_count": 9,
   "metadata": {},
   "outputs": [
    {
     "name": "stdout",
     "output_type": "stream",
     "text": [
      "[[ 4645]\n",
      " [ 4674]\n",
      " [ 4675]\n",
      " ...\n",
      " [17947]\n",
      " [17948]\n",
      " [17949]]\n"
     ]
    }
   ],
   "source": [
    "print(np.argwhere(extended_labels>3))"
   ]
  },
  {
   "cell_type": "code",
   "execution_count": 10,
   "metadata": {},
   "outputs": [],
   "source": [
    "# #10000, 6000, 9000, 13000, 26485\n",
    "# def python_2d_array_to_c_const_2d_array(python_array, variable_name=\"array\"):\n",
    "#     # 2차원 배열의 각 행을 문자열로 변환\n",
    "#     rows_str = []\n",
    "#     for row in python_array:\n",
    "#         row_str = \", \".join(str(element) for element in row)\n",
    "#         rows_str.append(f\"    {{{row_str}}}\")\n",
    "    \n",
    "#     # 전체 배열을 문자열로 변환\n",
    "#     array_str = \",\\n\".join(rows_str)\n",
    "    \n",
    "#     # C언어 형식의 문자열로 변환 (변수 이름 포함, 2차원 배열)\n",
    "#     c_array_str = f\"const float {variable_name}[][32] = {{\\n{array_str}\\n}};\"\n",
    "#     return c_array_str\n",
    "\n",
    "# # 주어진 2차원 Python 배열 예시 (실제 데이터는 이 코드에서 직접 변환해야 함)\n",
    "# python_array_example = extended_images[26483]\n",
    "\n",
    "# # 변환 실행 및 결과 출력\n",
    "# variable_name_example = 'four'\n",
    "# c_const_code = python_2d_array_to_c_const_2d_array(python_array_example, variable_name_example)\n",
    "# print(c_const_code)\n"
   ]
  },
  {
   "cell_type": "code",
   "execution_count": 11,
   "metadata": {},
   "outputs": [
    {
     "name": "stdout",
     "output_type": "stream",
     "text": [
      "Batch images shape: (9, 24, 32, 1)\n",
      "Batch labels shape: (9, 5)\n"
     ]
    },
    {
     "data": {
      "image/png": "[encoded data removed]",
      "text/plain": [
       "<Figure size 640x480 with 1 Axes>"
      ]
     },
     "metadata": {},
     "output_type": "display_data"
    },
    {
     "data": {
      "image/png": "[encoded data removed]",
      "text/plain": [
       "<Figure size 640x480 with 1 Axes>"
      ]
     },
     "metadata": {},
     "output_type": "display_data"
    },
    {
     "data": {
      "image/png": "[encoded data removed]",
      "text/plain": [
       "<Figure size 640x480 with 1 Axes>"
      ]
     },
     "metadata": {},
     "output_type": "display_data"
    },
    {
     "data": {
      "image/png": "[encoded data removed]",
      "text/plain": [
       "<Figure size 640x480 with 1 Axes>"
      ]
     },
     "metadata": {},
     "output_type": "display_data"
    },
    {
     "data": {
      "image/png": "[encoded data removed]",
      "text/plain": [
       "<Figure size 640x480 with 1 Axes>"
      ]
     },
     "metadata": {},
     "output_type": "display_data"
    },
    {
     "data": {
      "image/png": "[encoded data removed]",
      "text/plain": [
       "<Figure size 640x480 with 1 Axes>"
      ]
     },
     "metadata": {},
     "output_type": "display_data"
    },
    {
     "data": {
      "image/png": "[encoded data removed]",
      "text/plain": [
       "<Figure size 640x480 with 1 Axes>"
      ]
     },
     "metadata": {},
     "output_type": "display_data"
    },
    {
     "data": {
      "image/png": "[encoded data removed]",
      "text/plain": [
       "<Figure size 640x480 with 1 Axes>"
      ]
     },
     "metadata": {},
     "output_type": "display_data"
    },
    {
     "data": {
      "image/png": "[encoded data removed]",
      "text/plain": [
       "<Figure size 640x480 with 1 Axes>"
      ]
     },
     "metadata": {},
     "output_type": "display_data"
    }
   ],
   "source": [
    "# Assuming `train_dataset` is your TensorFlow dataset prepared for training\n",
    "for images, labels in val_dataset.take(1):  # take(1) takes the first batch\n",
    "    print(\"Batch images shape:\", images.shape)  # Print the shape of the batch of images\n",
    "    print(\"Batch labels shape:\", labels.shape)  # Print the shape of the batch of labels\n",
    "    \n",
    "    # TensorFlow datasets typically deal with batches directly,\n",
    "    # so we iterate through the batch like this:\n",
    "    for img, label in zip(images, labels):\n",
    "        # Since the images were normalized to [0, 1], we don't need to scale them back for visualization\n",
    "        plt.imshow(img.numpy(), cmap='gray')\n",
    "        plt.title(f\"Label: {np.argmax(label.numpy())}\")\n",
    "        plt.show()\n",
    "    break\n"
   ]
  },
  {
   "cell_type": "code",
   "execution_count": 12,
   "metadata": {},
   "outputs": [],
   "source": [
    "class DepthwiseSeparableConv(layers.Layer):\n",
    "    def __init__(self, in_channels, out_channels, kernel_size, stride=1, padding=0):\n",
    "        super(DepthwiseSeparableConv, self).__init__()\n",
    "        self.depthwise = layers.DepthwiseConv2D(kernel_size=kernel_size, padding='same' if padding else 'valid', depth_multiplier=1, strides=stride)\n",
    "        self.pointwise = layers.Conv2D(out_channels, kernel_size=1, strides=1)\n",
    "\n",
    "    def call(self, x):\n",
    "        out = self.depthwise(x)\n",
    "        out = self.pointwise(out)\n",
    "        return out\n",
    "\n",
    "class DepthwiseConv(layers.Layer):\n",
    "    def __init__(self, in_channels, out_channels, kernel_size=3, stride=1, padding=1):\n",
    "        super(DepthwiseConv, self).__init__()\n",
    "        self.depthwise = DepthwiseSeparableConv(in_channels, out_channels, kernel_size, stride, padding)\n",
    "        self.batch_norm = layers.BatchNormalization()\n",
    "        self.silu = layers.Activation('silu')\n",
    "\n",
    "    def call(self, x):\n",
    "        out = self.depthwise(x)\n",
    "        out = self.batch_norm(out)\n",
    "        out = self.silu(out)\n",
    "        return out"
   ]
  },
  {
   "cell_type": "code",
   "execution_count": 13,
   "metadata": {},
   "outputs": [],
   "source": [
    "class Conv(layers.Layer):\n",
    "    def __init__(self, out_channels, kernel_size=3, stride=2, padding='SAME'):\n",
    "        super(Conv, self).__init__()\n",
    "        self.conv = layers.Conv2D(out_channels, kernel_size, strides=stride, padding=padding, kernel_initializer=tf.keras.initializers.HeNormal())\n",
    "        self.batch_norm = layers.BatchNormalization()\n",
    "        self.relu = layers.Activation('relu')\n",
    "\n",
    "    def call(self, x):\n",
    "        x = self.conv(x)\n",
    "        x = self.batch_norm(x)\n",
    "        return self.relu(x)"
   ]
  },
  {
   "cell_type": "code",
   "execution_count": 14,
   "metadata": {},
   "outputs": [],
   "source": [
    "class Bottleneck(layers.Layer):\n",
    "    def __init__(self, out_channels, stride=1):\n",
    "        super(Bottleneck, self).__init__()\n",
    "        self.conv_0 = Conv(out_channels, kernel_size=1, stride=stride, padding='same')\n",
    "        self.conv_1 = Conv(out_channels, kernel_size=3, stride=stride, padding='same')\n",
    "\n",
    "    def call(self, x):\n",
    "        identity = x\n",
    "        out = self.conv_0(x)\n",
    "        out = self.conv_1(out)\n",
    "        out += identity\n",
    "        return out"
   ]
  },
  {
   "cell_type": "code",
   "execution_count": 15,
   "metadata": {},
   "outputs": [],
   "source": [
    "class ChannelAttention(layers.Layer):\n",
    "    def __init__(self, pool_types=['avg', 'max'], kernel_size=3):\n",
    "        super(ChannelAttention, self).__init__()\n",
    "        self.pool_types = pool_types\n",
    "        self.conv = layers.Conv2D(1, kernel_size=kernel_size, strides=1, padding='same', use_bias=False, kernel_initializer=tf.keras.initializers.HeNormal())\n",
    "        self.sigmoid = layers.Activation('sigmoid')\n",
    "\n",
    "    def call(self, x):\n",
    "        pooled_features = []\n",
    "        for pool_type in self.pool_types:\n",
    "            if pool_type == 'avg':\n",
    "                pooled = tf.reduce_mean(x, axis=[1, 2], keepdims=True)\n",
    "            elif pool_type == 'max':\n",
    "                pooled = tf.reduce_max(x, axis=[1, 2], keepdims=True)\n",
    "            pooled_features.append(pooled)\n",
    "        \n",
    "        concat = tf.concat(pooled_features, axis=-1)\n",
    "        attention = self.conv(concat)\n",
    "        attention = self.sigmoid(attention)\n",
    "        return x * attention"
   ]
  },
  {
   "cell_type": "code",
   "execution_count": 16,
   "metadata": {},
   "outputs": [],
   "source": [
    "class SpatialAttention(layers.Layer):\n",
    "    def __init__(self, kernel_size=3):\n",
    "        super(SpatialAttention, self).__init__()\n",
    "        self.conv = layers.Conv2D(1, kernel_size=kernel_size, strides=1, padding='same', use_bias=False, kernel_initializer=tf.keras.initializers.HeNormal())\n",
    "        self.sigmoid = layers.Activation('sigmoid')\n",
    "\n",
    "    def call(self, x):\n",
    "        avg_out = tf.reduce_mean(x, axis=-1, keepdims=True)\n",
    "        max_out = tf.reduce_max(x, axis=-1, keepdims=True)\n",
    "        x = tf.concat([avg_out, max_out], axis=-1)\n",
    "        x = self.conv(x)\n",
    "        return self.sigmoid(x)\n"
   ]
  },
  {
   "cell_type": "code",
   "execution_count": 17,
   "metadata": {},
   "outputs": [],
   "source": [
    "class CBAM(layers.Layer):\n",
    "    def __init__(self, pool_types=['avg', 'max'], kernel_size=3):\n",
    "        super(CBAM, self).__init__()\n",
    "        self.channel_attention = ChannelAttention(pool_types, kernel_size)\n",
    "        self.spatial_attention = SpatialAttention(kernel_size)\n",
    "\n",
    "    def call(self, x):\n",
    "        x = self.channel_attention(x)\n",
    "        x = self.spatial_attention(x) * x\n",
    "        return x"
   ]
  },
  {
   "cell_type": "code",
   "execution_count": 18,
   "metadata": {},
   "outputs": [],
   "source": [
    "class SPPF(layers.Layer):\n",
    "    def __init__(self, out_channels, kernel_size=3, stride=1, padding='SAME'):\n",
    "        super(SPPF, self).__init__()\n",
    "        self.conv1 = Conv(out_channels, kernel_size=kernel_size, stride=stride, padding=padding)\n",
    "        self.maxpool1 = layers.MaxPooling2D(pool_size=1, strides=1, padding='SAME')\n",
    "        self.maxpool2 = layers.MaxPooling2D(pool_size=3, strides=1, padding='SAME')\n",
    "        self.maxpool3 = layers.MaxPooling2D(pool_size=5, strides=1, padding='SAME')\n",
    "        self.conv2 = Conv(out_channels, kernel_size=kernel_size, stride=stride, padding=padding)\n",
    "    def call(self, inputs):\n",
    "        x = self.conv1(inputs)\n",
    "    \n",
    "        pool1 = self.maxpool1(x)\n",
    "        pool2 = self.maxpool2(x)\n",
    "        pool3 = self.maxpool3(x)\n",
    "\n",
    "        concatenated = tf.concat([x, pool1, pool2, pool3], axis=-1)\n",
    "\n",
    "        out = self.conv2(concatenated)\n",
    "        return out"
   ]
  },
  {
   "cell_type": "code",
   "execution_count": 19,
   "metadata": {},
   "outputs": [],
   "source": [
    "# MultiStageFeatureExtractionLayer\n",
    "class MSFELayer(layers.Layer):\n",
    "    def __init__(self, sperate_input_channel, out_channel):\n",
    "        super(MSFELayer, self).__init__()\n",
    "        # self.sppf = SPPF(sperate_input_channel)\n",
    "        self.cbam = CBAM()\n",
    "        self.bottleneck = Bottleneck(sperate_input_channel)\n",
    "        # self.conv1 = Conv(sperate_input_channel, kernel_size=1, stride=1, padding='SAME')\n",
    "        self.conv_out = Conv(out_channel, kernel_size=3, stride=1, padding='SAME')\n",
    "\n",
    "    def call(self, x):\n",
    "        # bottle, cbam = tf.split(x, num_or_size_splits=2, axis=-1)\n",
    "        # sppf = self.sppf(x)\n",
    "        cbam = self.cbam(x)\n",
    "        bottle = self.bottleneck(x)\n",
    "        \n",
    "        # conv = self.conv1(conv)\n",
    "        out = tf.concat([bottle, cbam], axis = -1)\n",
    "        out = self.conv_out(out)\n",
    "        return out\n"
   ]
  },
  {
   "cell_type": "code",
   "execution_count": 20,
   "metadata": {},
   "outputs": [],
   "source": [
    "# # MultiStageFeatureExtractionLayer\n",
    "# class MSFELayer(layers.Layer):\n",
    "#     def __init__(self, sperate_input_channel, out_channel):\n",
    "#         super(MSFELayer, self).__init__()\n",
    "#         # self.sppf = SPPF(sperate_input_channel)\n",
    "#         self.cbam = CBAM()\n",
    "#         self.bottleneck = Bottleneck(sperate_input_channel)\n",
    "#         # self.conv1 = Conv(sperate_input_channel, kernel_size=1, stride=1, padding='SAME')\n",
    "#         self.conv_out = Conv(out_channel, kernel_size=3, stride=1, padding='SAME')\n",
    "\n",
    "#     def call(self, x):\n",
    "#         # bottle, cbam = tf.split(x, num_or_size_splits=2, axis=-1)\n",
    "#         # sppf = self.sppf(x)\n",
    "#         cbam = self.cbam(x)\n",
    "#         # bottle = self.bottleneck(x)\n",
    "        \n",
    "#         # conv = self.conv1(conv)\n",
    "#         # out = tf.concat([bottle, cbam], axis = -1)\n",
    "#         out = self.conv_out(cbam)\n",
    "#         return out\n"
   ]
  },
  {
   "cell_type": "code",
   "execution_count": 21,
   "metadata": {},
   "outputs": [],
   "source": [
    "def BackBone():\n",
    "    input_layer = tf.keras.Input(shape=(24, 32, 1))\n",
    "    x = Conv(8, 3, 1)(input_layer) # 24, 32\n",
    "    x = MSFELayer(8, 12)(x)\n",
    "\n",
    "    x = Conv(12, 3, 2)(x)   # 12, 16\n",
    "    x = MSFELayer(12, 20)(x)\n",
    "\n",
    "    # x = Conv(16, 3, 1)(x)    # 12, 16\n",
    "    # x = MSFELayer(16, 20)(x)\n",
    "\n",
    "    x = Conv(20, 3, 2)(x)    # 6, 8\n",
    "    x = MSFELayer(20, 28)(x)\n",
    "\n",
    "\n",
    "    x = Conv(28, 3, 2)(x)    # 3, 2\n",
    "    x = MSFELayer(28, 36)(x) # 3, 2\n",
    "\n",
    "\n",
    "    x = layers.GlobalAveragePooling2D()(x)\n",
    "    output_layer = layers.Dense(5, activation='softmax')(x)\n",
    "\n",
    "    # 모델 인스턴스 생성\n",
    "    model = models.Model(inputs=input_layer, outputs=output_layer)\n",
    "\n",
    "    return model\n",
    "\n"
   ]
  },
  {
   "cell_type": "code",
   "execution_count": 22,
   "metadata": {},
   "outputs": [],
   "source": [
    "import tensorflow as tf\n",
    "from keras.callbacks import ModelCheckpoint\n",
    "\n",
    "model = BackBone()\n",
    "# model = backbone()\n",
    "\n",
    "initial_learning_rate = LR\n",
    "lr_schedule = tf.keras.optimizers.schedules.ExponentialDecay(\n",
    "    initial_learning_rate,\n",
    "    decay_steps=5000,\n",
    "    decay_rate=0.90,\n",
    "    staircase=True)\n",
    "\n",
    "lr_reducer = tf.keras.callbacks.ReduceLROnPlateau(\n",
    "    monitor='val_loss',\n",
    "    factor=0.1,\n",
    "    patience=3,\n",
    "    min_lr=1e-6,\n",
    "    verbose=1)"
   ]
  },
  {
   "cell_type": "code",
   "execution_count": 23,
   "metadata": {},
   "outputs": [],
   "source": [
    "optimizer = tf.keras.optimizers.Adam(learning_rate=lr_schedule)\n",
    "model.compile(optimizer=optimizer, loss=['categorical_crossentropy'], metrics=['accuracy', tf.keras.metrics.Precision(), tf.keras.metrics.Recall()])\n",
    "\n",
    "checkpoint = ModelCheckpoint('Classification/Model/model.h5', monitor='val_accuracy', verbose=1, save_best_only=True, mode='max')"
   ]
  },
  {
   "cell_type": "code",
   "execution_count": 24,
   "metadata": {},
   "outputs": [],
   "source": [
    "model.build(input_shape=(1, 24, 32, 1))"
   ]
  },
  {
   "cell_type": "code",
   "execution_count": 25,
   "metadata": {},
   "outputs": [
    {
     "name": "stdout",
     "output_type": "stream",
     "text": [
      "Model: \"model\"\n",
      "_________________________________________________________________\n",
      " Layer (type)                Output Shape              Param #   \n",
      "=================================================================\n",
      " input_1 (InputLayer)        [(None, 24, 32, 1)]       0         \n",
      "                                                                 \n",
      " conv (Conv)                 (None, 24, 32, 8)         112       \n",
      "                                                                 \n",
      " msfe_layer (MSFELayer)      (None, 24, 32, 12)        2670      \n",
      "                                                                 \n",
      " conv_4 (Conv)               (None, 12, 16, 12)        1356      \n",
      "                                                                 \n",
      " msfe_layer_1 (MSFELayer)    (None, 12, 16, 20)        6214      \n",
      "                                                                 \n",
      " conv_8 (Conv)               (None, 6, 8, 20)          3700      \n",
      "                                                                 \n",
      " msfe_layer_2 (MSFELayer)    (None, 6, 8, 28)          14798     \n",
      "                                                                 \n",
      " conv_12 (Conv)              (None, 3, 4, 28)          7196      \n",
      "                                                                 \n",
      " msfe_layer_3 (MSFELayer)    (None, 3, 4, 36)          26966     \n",
      "                                                                 \n",
      " global_average_pooling2d (  (None, 36)                0         \n",
      " GlobalAveragePooling2D)                                         \n",
      "                                                                 \n",
      " dense (Dense)               (None, 5)                 185       \n",
      "                                                                 \n",
      "=================================================================\n",
      "Total params: 63197 (246.86 KB)\n",
      "Trainable params: 62597 (244.52 KB)\n",
      "Non-trainable params: 600 (2.34 KB)\n",
      "_________________________________________________________________\n"
     ]
    }
   ],
   "source": [
    "model.summary()"
   ]
  },
  {
   "cell_type": "code",
   "execution_count": 26,
   "metadata": {},
   "outputs": [
    {
     "name": "stdout",
     "output_type": "stream",
     "text": [
      "Epoch 1/10\n"
     ]
    },
    {
     "name": "stderr",
     "output_type": "stream",
     "text": [
      "2024-04-18 08:26:55.561731: I tensorflow/compiler/xla/stream_executor/cuda/cuda_dnn.cc:442] Loaded cuDNN version 8700\n",
      "2024-04-18 08:26:56.470553: I tensorflow/compiler/xla/service/service.cc:168] XLA service 0x55a5915db450 initialized for platform CUDA (this does not guarantee that XLA will be used). Devices:\n",
      "2024-04-18 08:26:56.470600: I tensorflow/compiler/xla/service/service.cc:176]   StreamExecutor device (0): NVIDIA GeForce RTX 3090, Compute Capability 8.6\n",
      "2024-04-18 08:26:56.481280: I tensorflow/compiler/mlir/tensorflow/utils/dump_mlir_util.cc:269] disabling MLIR crash reproducer, set env var `MLIR_CRASH_REPRODUCER_DIRECTORY` to enable.\n",
      "2024-04-18 08:26:56.622837: I ./tensorflow/compiler/jit/device_compiler.h:186] Compiled cluster using XLA!  This line is logged at most once for the lifetime of the process.\n"
     ]
    },
    {
     "name": "stdout",
     "output_type": "stream",
     "text": [
      "1600/1600 [==============================] - ETA: 0s - loss: 0.8468 - accuracy: 0.6466 - precision: 0.7083 - recall: 0.5403\n",
      "Epoch 1: val_accuracy improved from -inf to 0.62777, saving model to Classification/Model/model.h5\n",
      "1600/1600 [==============================] - 68s 35ms/step - loss: 0.8468 - accuracy: 0.6466 - precision: 0.7083 - recall: 0.5403 - val_loss: 0.8089 - val_accuracy: 0.6278 - val_precision: 0.6421 - val_recall: 0.5736\n",
      "Epoch 2/10\n"
     ]
    },
    {
     "name": "stderr",
     "output_type": "stream",
     "text": [
      "/home/gpuadmin/anaconda3/envs/tensor/lib/python3.9/site-packages/keras/src/engine/training.py:3079: UserWarning: You are saving your model as an HDF5 file via `model.save()`. This file format is considered legacy. We recommend using instead the native Keras format, e.g. `model.save('my_model.keras')`.\n",
      "  saving_api.save_model(\n"
     ]
    },
    {
     "name": "stdout",
     "output_type": "stream",
     "text": [
      "1600/1600 [==============================] - ETA: 0s - loss: 0.5596 - accuracy: 0.7697 - precision: 0.7907 - recall: 0.7401\n",
      "Epoch 2: val_accuracy improved from 0.62777 to 0.81333, saving model to Classification/Model/model.h5\n",
      "1600/1600 [==============================] - 54s 34ms/step - loss: 0.5596 - accuracy: 0.7697 - precision: 0.7907 - recall: 0.7401 - val_loss: 0.4410 - val_accuracy: 0.8133 - val_precision: 0.8268 - val_recall: 0.7945\n",
      "Epoch 3/10\n",
      "1599/1600 [============================>.] - ETA: 0s - loss: 0.4540 - accuracy: 0.8183 - precision: 0.8327 - recall: 0.8020\n",
      "Epoch 3: val_accuracy improved from 0.81333 to 0.85730, saving model to Classification/Model/model.h5\n",
      "1600/1600 [==============================] - 54s 34ms/step - loss: 0.4540 - accuracy: 0.8183 - precision: 0.8327 - recall: 0.8021 - val_loss: 0.3896 - val_accuracy: 0.8573 - val_precision: 0.8642 - val_recall: 0.8465\n",
      "Epoch 4/10\n",
      "1599/1600 [============================>.] - ETA: 0s - loss: 0.3768 - accuracy: 0.8553 - precision: 0.8660 - recall: 0.8455\n",
      "Epoch 4: val_accuracy improved from 0.85730 to 0.91095, saving model to Classification/Model/model.h5\n",
      "1600/1600 [==============================] - 54s 34ms/step - loss: 0.3773 - accuracy: 0.8551 - precision: 0.8659 - recall: 0.8454 - val_loss: 0.2626 - val_accuracy: 0.9110 - val_precision: 0.9185 - val_recall: 0.9035\n",
      "Epoch 5/10\n",
      "1599/1600 [============================>.] - ETA: 0s - loss: 0.3216 - accuracy: 0.8796 - precision: 0.8876 - recall: 0.8705\n",
      "Epoch 5: val_accuracy improved from 0.91095 to 0.92257, saving model to Classification/Model/model.h5\n",
      "1600/1600 [==============================] - 54s 34ms/step - loss: 0.3215 - accuracy: 0.8797 - precision: 0.8876 - recall: 0.8706 - val_loss: 0.2230 - val_accuracy: 0.9226 - val_precision: 0.9284 - val_recall: 0.9145\n",
      "Epoch 6/10\n",
      "1600/1600 [==============================] - ETA: 0s - loss: 0.2862 - accuracy: 0.8970 - precision: 0.9038 - recall: 0.8905\n",
      "Epoch 6: val_accuracy improved from 0.92257 to 0.92865, saving model to Classification/Model/model.h5\n",
      "1600/1600 [==============================] - 53s 33ms/step - loss: 0.2862 - accuracy: 0.8970 - precision: 0.9038 - recall: 0.8905 - val_loss: 0.1968 - val_accuracy: 0.9287 - val_precision: 0.9334 - val_recall: 0.9223\n",
      "Epoch 7/10\n",
      "1599/1600 [============================>.] - ETA: 0s - loss: 0.2388 - accuracy: 0.9099 - precision: 0.9158 - recall: 0.9041\n",
      "Epoch 7: val_accuracy did not improve from 0.92865\n",
      "1600/1600 [==============================] - 54s 34ms/step - loss: 0.2387 - accuracy: 0.9099 - precision: 0.9158 - recall: 0.9042 - val_loss: 0.3086 - val_accuracy: 0.8689 - val_precision: 0.8726 - val_recall: 0.8659\n",
      "Epoch 8/10\n",
      "1599/1600 [============================>.] - ETA: 0s - loss: 0.2185 - accuracy: 0.9213 - precision: 0.9257 - recall: 0.9157\n",
      "Epoch 8: val_accuracy did not improve from 0.92865\n",
      "1600/1600 [==============================] - 54s 34ms/step - loss: 0.2184 - accuracy: 0.9213 - precision: 0.9258 - recall: 0.9158 - val_loss: 0.2200 - val_accuracy: 0.9145 - val_precision: 0.9214 - val_recall: 0.9040\n",
      "Epoch 9/10\n",
      "1599/1600 [============================>.] - ETA: 0s - loss: 0.1981 - accuracy: 0.9266 - precision: 0.9298 - recall: 0.9227\n",
      "Epoch 9: val_accuracy improved from 0.92865 to 0.95741, saving model to Classification/Model/model.h5\n",
      "1600/1600 [==============================] - 54s 34ms/step - loss: 0.1982 - accuracy: 0.9266 - precision: 0.9298 - recall: 0.9226 - val_loss: 0.1295 - val_accuracy: 0.9574 - val_precision: 0.9597 - val_recall: 0.9544\n",
      "Epoch 10/10\n",
      "1599/1600 [============================>.] - ETA: 0s - loss: 0.1776 - accuracy: 0.9359 - precision: 0.9389 - recall: 0.9326\n",
      "Epoch 10: val_accuracy improved from 0.95741 to 0.96184, saving model to Classification/Model/model.h5\n",
      "1600/1600 [==============================] - 54s 34ms/step - loss: 0.1776 - accuracy: 0.9359 - precision: 0.9389 - recall: 0.9326 - val_loss: 0.1192 - val_accuracy: 0.9618 - val_precision: 0.9666 - val_recall: 0.9591\n"
     ]
    }
   ],
   "source": [
    "hist = model.fit(\n",
    "    train_dataset,\n",
    "    validation_data=val_dataset,\n",
    "    epochs=N_EPOCH,\n",
    "    verbose=1,  \n",
    "    callbacks=[checkpoint]\n",
    "    # callbacks=[checkpoint, lr_reducer]\n",
    ")\n",
    "\n",
    "\n",
    "# 기존\n",
    "# Epoch 13: val_accuracy improved from 0.96870 to 0.97386, saving model to Classification/Model/model.h5\n",
    "# 1204/1204 [==============================] - 53s 44ms/step - loss: 0.1284 - accuracy: 0.9574 - precision_1: 0.9591 - recall_1: 0.9559 - val_loss: 0.0773 - val_accuracy: 0.9739 - val_precision_1: 0.9745 - val_recall_1: 0.9728\n",
    "\n",
    "\n",
    "# Only BottleNeck\n",
    "# Epoch 10: val_accuracy improved from 0.93114 to 0.94718, saving model to Classification/Model/model.h5\n",
    "# 1600/1600 [==============================] - 40s 25ms/step - loss: 0.2397 - accuracy: 0.9144 - precision: 0.9189 - recall: 0.9100 - val_loss: 0.1552 - val_accuracy: 0.9472 - val_precision: 0.9491 - val_recall: 0.9439\n",
    "\n",
    "# Only CBAM\n"
   ]
  },
  {
   "cell_type": "code",
   "execution_count": 27,
   "metadata": {},
   "outputs": [
    {
     "ename": "SyntaxError",
     "evalue": "invalid syntax (3888922174.py, line 1)",
     "output_type": "error",
     "traceback": [
      "\u001b[0;36m  Cell \u001b[0;32mIn[27], line 1\u001b[0;36m\u001b[0m\n\u001b[0;31m    q!\u001b[0m\n\u001b[0m     ^\u001b[0m\n\u001b[0;31mSyntaxError\u001b[0m\u001b[0;31m:\u001b[0m invalid syntax\n"
     ]
    }
   ],
   "source": [
    "q!"
   ]
  },
  {
   "cell_type": "code",
   "execution_count": null,
   "metadata": {},
   "outputs": [],
   "source": [
    "hist = model.fit(\n",
    "    train_dataset,\n",
    "    validation_data=val_dataset,\n",
    "    epochs=N_EPOCH,\n",
    "    verbose=1,  \n",
    "    callbacks=[checkpoint]\n",
    "    # callbacks=[checkpoint, lr_reducer]\n",
    ")\n",
    "\n"
   ]
  },
  {
   "cell_type": "code",
   "execution_count": null,
   "metadata": {},
   "outputs": [],
   "source": [
    "val_acc = model.evaluate(val_dataset) \n",
    "print(f\"Validation Accuracy: {val_acc[1] * 100:.2f}%\")"
   ]
  },
  {
   "cell_type": "code",
   "execution_count": null,
   "metadata": {},
   "outputs": [],
   "source": [
    "import matplotlib.pyplot as plt\n",
    "\n",
    "for images, labels in val_dataset.take(1):  # Take a single batch from the validation dataset\n",
    "    predictions = model.predict(images)\n",
    "    predicted_classes = tf.argmax(predictions, axis=1)\n",
    "    \n",
    "    for img, label, predicted in zip(images, labels, predicted_classes):\n",
    "        plt.imshow(img.numpy().squeeze(), cmap='gray')  # Assuming grayscale images\n",
    "        plt.title(f\"Actual: {np.argmax(label)}, Predicted: {predicted.numpy()}\")\n",
    "        plt.show()\n",
    "\n"
   ]
  },
  {
   "cell_type": "code",
   "execution_count": null,
   "metadata": {},
   "outputs": [],
   "source": [
    "from tensorflow import keras\n",
    "custom_objects = {\n",
    "    'Conv': Conv,\n",
    "    'DepthwiseSeparableConv': DepthwiseSeparableConv,\n",
    "    'DepthwiseConv': DepthwiseConv,\n",
    "    'Bottleneck': Bottleneck,\n",
    "    'CSPDenseLayer': CSPDenseLayer,\n",
    "    'CBAM': CBAM,\n",
    "    'SPPF': SPPF,\n",
    "}\n",
    "\n",
    "model = keras.models.load_model('Classification/Model/model.h5', custom_objects=custom_objects, compile=False)\n",
    "\n",
    "export_path = 'Classification/Model/model.pb'\n",
    "model.save(export_path, save_format=\"tf\")"
   ]
  },
  {
   "cell_type": "code",
   "execution_count": null,
   "metadata": {},
   "outputs": [],
   "source": [
    "import tensorflow as tf\n",
    "\n",
    "saved_model_dir = 'Classification/Model/model.pb'\n",
    "converter = tf.lite.TFLiteConverter.from_saved_model(saved_model_dir)\n",
    "converter.target_spec.supported_ops = [tf.lite.OpsSet.TFLITE_BUILTINS,\n",
    "                                       tf.lite.OpsSet.SELECT_TF_OPS]\n",
    "tflite_model = converter.convert()\n",
    "open('Classification/Model/model.tflite', 'wb').write(tflite_model)"
   ]
  },
  {
   "cell_type": "code",
   "execution_count": null,
   "metadata": {},
   "outputs": [],
   "source": [
    "import numpy as np\n",
    "import tensorflow as tf\n",
    "\n",
    "# TFLite 모델 파일 경로\n",
    "tflite_model_file = 'Classification/Model/model_conv.tflite'\n",
    "\n",
    "# TFLite 모델을 로드합니다.\n",
    "interpreter = tf.lite.Interpreter(model_path=tflite_model_file)\n",
    "interpreter.allocate_tensors()\n",
    "\n",
    "# 가중치의 총합을 계산합니다.\n",
    "total_weights = 0\n",
    "for tensor_details in interpreter.get_tensor_details():\n",
    "    # 각 tensor의 shape에서 요소의 총수(가중치 수)를 계산합니다.\n",
    "    total_weights += np.prod(tensor_details['shape'])\n",
    "\n",
    "print(f'Total weights in the model: {total_weights}')\n"
   ]
  },
  {
   "cell_type": "code",
   "execution_count": null,
   "metadata": {},
   "outputs": [],
   "source": []
  }
 ],
 "metadata": {
  "kernelspec": {
   "display_name": "ssd",
   "language": "python",
   "name": "python3"
  },
  "language_info": {
   "codemirror_mode": {
    "name": "ipython",
    "version": 3
   },
   "file_extension": ".py",
   "mimetype": "text/x-python",
   "name": "python",
   "nbconvert_exporter": "python",
   "pygments_lexer": "ipython3",
   "version": "3.9.0"
  }
 },
 "nbformat": 4,
 "nbformat_minor": 2
}
