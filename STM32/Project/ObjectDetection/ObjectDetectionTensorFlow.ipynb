{
 "cells": [
  {
   "cell_type": "code",
   "execution_count": 185,
   "metadata": {},
   "outputs": [],
   "source": [
    "import os\n",
    "import numpy as np\n",
    "import matplotlib.pyplot as plt\n",
    "import tensorflow as tf\n",
    "from tensorflow.keras import layers, models\n",
    "from tensorflow.keras.optimizers import Adam\n",
    "\n",
    "AUTOTUNE = tf.data.AUTOTUNE\n",
    "\n",
    "RES_HEIGHT = 24\n",
    "RES_WIDTH = 32\n",
    "NUM_CLASS = 5\n",
    "N_BATCH = 32\n",
    "N_EPOCH = 60\n",
    "LR = 0.002"
   ]
  },
  {
   "cell_type": "code",
   "execution_count": 186,
   "metadata": {},
   "outputs": [
    {
     "name": "stderr",
     "output_type": "stream",
     "text": [
      "2024-03-27 13:00:23.695701: I tensorflow/core/common_runtime/gpu/gpu_device.cc:1886] Created device /device:GPU:0 with 22455 MB memory:  -> device: 0, name: NVIDIA GeForce RTX 3090, pci bus id: 0000:1d:00.0, compute capability: 8.6\n",
      "2024-03-27 13:00:23.696127: I tensorflow/core/common_runtime/gpu/gpu_device.cc:1886] Created device /device:GPU:1 with 22455 MB memory:  -> device: 1, name: NVIDIA GeForce RTX 3090, pci bus id: 0000:1f:00.0, compute capability: 8.6\n",
      "2024-03-27 13:00:23.696519: I tensorflow/core/common_runtime/gpu/gpu_device.cc:1886] Created device /device:GPU:2 with 22455 MB memory:  -> device: 2, name: NVIDIA GeForce RTX 3090, pci bus id: 0000:20:00.0, compute capability: 8.6\n",
      "2024-03-27 13:00:23.696911: I tensorflow/core/common_runtime/gpu/gpu_device.cc:1886] Created device /device:GPU:3 with 22455 MB memory:  -> device: 3, name: NVIDIA GeForce RTX 3090, pci bus id: 0000:21:00.0, compute capability: 8.6\n",
      "2024-03-27 13:00:23.697318: I tensorflow/core/common_runtime/gpu/gpu_device.cc:1886] Created device /device:GPU:4 with 22455 MB memory:  -> device: 4, name: NVIDIA GeForce RTX 3090, pci bus id: 0000:22:00.0, compute capability: 8.6\n",
      "2024-03-27 13:00:23.697709: I tensorflow/core/common_runtime/gpu/gpu_device.cc:1886] Created device /device:GPU:5 with 22455 MB memory:  -> device: 5, name: NVIDIA GeForce RTX 3090, pci bus id: 0000:23:00.0, compute capability: 8.6\n",
      "2024-03-27 13:00:23.698110: I tensorflow/core/common_runtime/gpu/gpu_device.cc:1886] Created device /device:GPU:6 with 22455 MB memory:  -> device: 6, name: NVIDIA GeForce RTX 3090, pci bus id: 0000:24:00.0, compute capability: 8.6\n"
     ]
    },
    {
     "data": {
      "text/plain": [
       "[name: \"/device:CPU:0\"\n",
       " device_type: \"CPU\"\n",
       " memory_limit: 268435456\n",
       " locality {\n",
       " }\n",
       " incarnation: 3017052933442462313\n",
       " xla_global_id: -1,\n",
       " name: \"/device:GPU:0\"\n",
       " device_type: \"GPU\"\n",
       " memory_limit: 23546626048\n",
       " locality {\n",
       "   bus_id: 1\n",
       "   links {\n",
       "   }\n",
       " }\n",
       " incarnation: 3054137598552543581\n",
       " physical_device_desc: \"device: 0, name: NVIDIA GeForce RTX 3090, pci bus id: 0000:1d:00.0, compute capability: 8.6\"\n",
       " xla_global_id: 416903419,\n",
       " name: \"/device:GPU:1\"\n",
       " device_type: \"GPU\"\n",
       " memory_limit: 23546626048\n",
       " locality {\n",
       "   bus_id: 1\n",
       "   links {\n",
       "   }\n",
       " }\n",
       " incarnation: 661682140120021622\n",
       " physical_device_desc: \"device: 1, name: NVIDIA GeForce RTX 3090, pci bus id: 0000:1f:00.0, compute capability: 8.6\"\n",
       " xla_global_id: 2144165316,\n",
       " name: \"/device:GPU:2\"\n",
       " device_type: \"GPU\"\n",
       " memory_limit: 23546626048\n",
       " locality {\n",
       "   bus_id: 1\n",
       "   links {\n",
       "   }\n",
       " }\n",
       " incarnation: 8857360503155287186\n",
       " physical_device_desc: \"device: 2, name: NVIDIA GeForce RTX 3090, pci bus id: 0000:20:00.0, compute capability: 8.6\"\n",
       " xla_global_id: 1651660799,\n",
       " name: \"/device:GPU:3\"\n",
       " device_type: \"GPU\"\n",
       " memory_limit: 23546626048\n",
       " locality {\n",
       "   bus_id: 1\n",
       "   links {\n",
       "   }\n",
       " }\n",
       " incarnation: 13360695944926879574\n",
       " physical_device_desc: \"device: 3, name: NVIDIA GeForce RTX 3090, pci bus id: 0000:21:00.0, compute capability: 8.6\"\n",
       " xla_global_id: 878896533,\n",
       " name: \"/device:GPU:4\"\n",
       " device_type: \"GPU\"\n",
       " memory_limit: 23546626048\n",
       " locality {\n",
       "   bus_id: 1\n",
       "   links {\n",
       "   }\n",
       " }\n",
       " incarnation: 13350385215465522375\n",
       " physical_device_desc: \"device: 4, name: NVIDIA GeForce RTX 3090, pci bus id: 0000:22:00.0, compute capability: 8.6\"\n",
       " xla_global_id: 615190153,\n",
       " name: \"/device:GPU:5\"\n",
       " device_type: \"GPU\"\n",
       " memory_limit: 23546626048\n",
       " locality {\n",
       "   bus_id: 1\n",
       "   links {\n",
       "   }\n",
       " }\n",
       " incarnation: 12412386941317450285\n",
       " physical_device_desc: \"device: 5, name: NVIDIA GeForce RTX 3090, pci bus id: 0000:23:00.0, compute capability: 8.6\"\n",
       " xla_global_id: 1769886423,\n",
       " name: \"/device:GPU:6\"\n",
       " device_type: \"GPU\"\n",
       " memory_limit: 23546626048\n",
       " locality {\n",
       "   bus_id: 1\n",
       "   links {\n",
       "   }\n",
       " }\n",
       " incarnation: 15846504748453047779\n",
       " physical_device_desc: \"device: 6, name: NVIDIA GeForce RTX 3090, pci bus id: 0000:24:00.0, compute capability: 8.6\"\n",
       " xla_global_id: 893286608]"
      ]
     },
     "execution_count": 186,
     "metadata": {},
     "output_type": "execute_result"
    }
   ],
   "source": [
    "from tensorflow.python.client import device_lib\n",
    "device_lib.list_local_devices()"
   ]
  },
  {
   "cell_type": "code",
   "execution_count": 187,
   "metadata": {},
   "outputs": [
    {
     "name": "stdout",
     "output_type": "stream",
     "text": [
      "(17820, 24, 32, 1) (17820,) (17820, 4, 4) 17820\n",
      "255 0\n",
      "(16824, 24, 32, 1)\n",
      "(16824, 4, 4)\n",
      "16824\n"
     ]
    }
   ],
   "source": [
    "import numpy as np\n",
    "\n",
    "datasets = np.load('dataset/ObjectDetection.npz', allow_pickle=True)\n",
    "images, numbers, bboxes = datasets['images'], datasets['numbers'], datasets['bboxes']\n",
    "\n",
    "max_label_length = 4\n",
    "labels = []\n",
    "for num in numbers:\n",
    "    cls = [1] * num if num != 0 else [0]\n",
    "    cls += [0] * (max_label_length - len(cls))\n",
    "    labels.append(cls)\n",
    "\n",
    "# labels = np.array(labels)\n",
    "\n",
    "non_zero_indices = np.where(numbers != 0)[0]\n",
    "\n",
    "# numbers가 0이 아닌 항목만 유지\n",
    "images_filtered = images[non_zero_indices]\n",
    "bboxes_filtered = bboxes[non_zero_indices]\n",
    "labels_filtered = np.array(labels)[non_zero_indices]\n",
    "\n",
    "print(images.shape, numbers.shape, bboxes.shape, len(labels))\n",
    "\n",
    "print(images.max(), images.min())\n",
    "# print(bboxes[0:9100])\n",
    "# print(labels[0:9100])\n",
    "# labels = np.array(labels)\n",
    "\n",
    "dataset = {\n",
    "    'images' : images_filtered,\n",
    "    'bboxes' : bboxes_filtered,\n",
    "    'class' : labels_filtered\n",
    "}\n",
    "\n",
    "print(dataset['images'].shape)\n",
    "print(dataset['bboxes'].shape)\n",
    "print(len(dataset['class']))\n"
   ]
  },
  {
   "cell_type": "code",
   "execution_count": 188,
   "metadata": {},
   "outputs": [
    {
     "name": "stdout",
     "output_type": "stream",
     "text": [
      "[1 1 1 0]\n"
     ]
    }
   ],
   "source": [
    "print(dataset['class'][16000])"
   ]
  },
  {
   "cell_type": "code",
   "execution_count": 189,
   "metadata": {},
   "outputs": [
    {
     "data": {
      "text/plain": [
       "<matplotlib.image.AxesImage at 0x7fd9f7c7eb20>"
      ]
     },
     "execution_count": 189,
     "metadata": {},
     "output_type": "execute_result"
    },
    {
     "data": {
      "image/png": "[encoded data removed]",
      "text/plain": [
       "<Figure size 640x480 with 1 Axes>"
      ]
     },
     "metadata": {},
     "output_type": "display_data"
    }
   ],
   "source": [
    "plt.imshow(dataset['images'][16000])"
   ]
  },
  {
   "cell_type": "code",
   "execution_count": null,
   "metadata": {},
   "outputs": [],
   "source": []
  },
  {
   "cell_type": "code",
   "execution_count": 190,
   "metadata": {},
   "outputs": [
    {
     "name": "stdout",
     "output_type": "stream",
     "text": [
      "[[ 4 13 12 22]\n",
      " [10  4 18 15]\n",
      " [25  8 32 14]\n",
      " [ 0  0  0  0]]\n"
     ]
    }
   ],
   "source": [
    "print(dataset['bboxes'][9000])"
   ]
  },
  {
   "cell_type": "code",
   "execution_count": 191,
   "metadata": {},
   "outputs": [
    {
     "name": "stdout",
     "output_type": "stream",
     "text": [
      "(24, 32, 1)\n",
      "24\n",
      "32\n",
      "[[ 7 17 15 24]\n",
      " [13 13 23 21]\n",
      " [19  8 28 17]\n",
      " [ 0  0  0  0]]\n",
      "bbox:  tf.Tensor(\n",
      "[[ 7 17 15 24]\n",
      " [13 13 23 21]\n",
      " [19  8 28 17]\n",
      " [ 0  0  0  0]], shape=(4, 4), dtype=int64)\n"
     ]
    },
    {
     "data": {
      "image/png": "[encoded data removed]",
      "text/plain": [
       "<Figure size 800x800 with 1 Axes>"
      ]
     },
     "metadata": {},
     "output_type": "display_data"
    },
    {
     "name": "stdout",
     "output_type": "stream",
     "text": [
      "[1 1 1 0]\n"
     ]
    }
   ],
   "source": [
    "import matplotlib.pyplot as plt\n",
    "import tensorflow as tf\n",
    "images = dataset['images']\n",
    "bboxes = dataset['bboxes']\n",
    "cls = dataset['class']\n",
    "\n",
    "boxes = bboxes[16000]\n",
    "plt.figure(figsize = (8, 8))\n",
    "plt.axis('off')\n",
    "image = images[16000]\n",
    "print(image.shape)\n",
    "print(image.shape[0])\n",
    "print(image.shape[1])\n",
    "print(boxes)\n",
    "plt.imshow(image)\n",
    "ax = plt.gca()\n",
    "boxes = tf.stack([\n",
    "\t(boxes[:, 0] ), \n",
    "\t(boxes[:, 1] ),\n",
    "\t(boxes[:, 2] ),\n",
    "\t(boxes[:, 3] )], axis = -1\n",
    ")\n",
    "print(\"bbox: \", boxes)\n",
    "# 각 바운딩 박스에 대해 반복하여 그리기\n",
    "for box in boxes:\n",
    "    xmin, ymin, xmax, ymax = box \n",
    "    w, h = xmax - xmin, ymax - ymin\n",
    "    patch = plt.Rectangle(\n",
    "        [xmin, ymin], w, h, fill=False, edgecolor=[1, 0, 0], linewidth=2\n",
    "    )\n",
    "    ax.add_patch(patch)\n",
    "plt.show()\n",
    "print(cls[16000])"
   ]
  },
  {
   "cell_type": "code",
   "execution_count": 192,
   "metadata": {},
   "outputs": [
    {
     "data": {
      "text/plain": [
       "(255, 0)"
      ]
     },
     "execution_count": 192,
     "metadata": {},
     "output_type": "execute_result"
    }
   ],
   "source": [
    "images.max(), images.min()"
   ]
  },
  {
   "cell_type": "code",
   "execution_count": 193,
   "metadata": {},
   "outputs": [
    {
     "name": "stdout",
     "output_type": "stream",
     "text": [
      "IMG_SIZE_WIDTH:   32\n",
      "IMG_SIZE_HEIGHT:  24\n",
      "N_DATA:           16824\n",
      "N_TRAIN:          16824\n"
     ]
    }
   ],
   "source": [
    "import os\n",
    "import random\n",
    "import tensorflow as tf\n",
    "\n",
    "IMG_SIZE_WIDTH = images.shape[2]\n",
    "IMG_SIZE_HEIGHT = images.shape[1]\n",
    "N_DATA = images.shape[0]\n",
    "N_TRAIN = images.shape[0]\n",
    "LOG_DIR = 'Log/v1'\n",
    "\n",
    "cur_dir = os.getcwd()\n",
    "tfr_dir = os.path.join(cur_dir, 'dataset/tfrecord/')\n",
    "os.makedirs(tfr_dir, exist_ok=True)\n",
    "\n",
    "tfr_train_dir = os.path.join(tfr_dir, 'od_train.tfr')\n",
    "tfr_val_dir = os.path.join(tfr_dir, 'od_val.tfr')\n",
    "\n",
    "print(\"IMG_SIZE_WIDTH:  \", IMG_SIZE_WIDTH)\n",
    "print(\"IMG_SIZE_HEIGHT: \", IMG_SIZE_HEIGHT)\n",
    "print(\"N_DATA:          \", N_DATA)\n",
    "print(\"N_TRAIN:         \", N_TRAIN)\n",
    "\n",
    "\n",
    "\n",
    "shuffle_list = list(range(N_DATA))\n",
    "random.shuffle(shuffle_list)\n",
    "\n",
    "train_idx_list = shuffle_list[:N_TRAIN]\n",
    "\n",
    "cur_dir = os.getcwd()\n",
    "tfr_dir = os.path.join(cur_dir, 'dataset/tfrecord')\n",
    "os.makedirs(tfr_dir, exist_ok=True)\n",
    "\n",
    "tfr_train_dir = os.path.join(tfr_dir, 'od_train.tfr')\n",
    "\n",
    "writer_train = tf.io.TFRecordWriter(tfr_train_dir)"
   ]
  },
  {
   "cell_type": "code",
   "execution_count": 194,
   "metadata": {},
   "outputs": [],
   "source": [
    "def _bytes_feature(value):\n",
    "    if isinstance(value, type(tf.constant(0))):\n",
    "        value = value.numpy()\n",
    "    return tf.train.Feature(bytes_list = tf.train.BytesList(value = [value]))\n",
    "\n",
    "def _float_feature(value):\n",
    "    return tf.train.Feature(float_list = tf.train.FloatList(value = value))\n",
    "\n",
    "def _int64_feature(value):\n",
    "    return tf.train.Feature(int32_list = tf.train.Int64List(value = [value]))\n",
    "\n",
    "\n",
    "def _bytes_feature_list(value_list):\n",
    "    \"\"\"value_list가 리스트일 때, 이를 serialize하여 bytes list로 변환하는 함수.\"\"\"\n",
    "    value_list = [tf.io.serialize_tensor(tf.constant(v)).numpy() for v in value_list]\n",
    "    return tf.train.Feature(bytes_list=tf.train.BytesList(value=value_list))\n"
   ]
  },
  {
   "cell_type": "code",
   "execution_count": 195,
   "metadata": {},
   "outputs": [
    {
     "name": "stdout",
     "output_type": "stream",
     "text": [
      "4\n"
     ]
    }
   ],
   "source": [
    "max_label_length = max(len(cls) for cls in labels)\n",
    "print(max_label_length)"
   ]
  },
  {
   "cell_type": "code",
   "execution_count": 196,
   "metadata": {},
   "outputs": [
    {
     "name": "stdout",
     "output_type": "stream",
     "text": [
      "(16824, 24, 32, 1)\n"
     ]
    }
   ],
   "source": [
    "images = dataset['images']\n",
    "bboxes = dataset['bboxes']\n",
    "cls = dataset['class']\n",
    "print(images.shape)"
   ]
  },
  {
   "cell_type": "code",
   "execution_count": 197,
   "metadata": {},
   "outputs": [],
   "source": [
    "for idx in train_idx_list:\n",
    "    bbox = bboxes[idx]\n",
    "    xmin, ymin, xmax, ymax = bbox[:, 0], bbox[:, 1], bbox[:, 2], bbox[:, 3]\n",
    "    bbox = np.stack([xmin, ymin, xmax, ymax], axis=-1).flatten()\n",
    "\n",
    "    image = images[idx]\n",
    "    bimage = image.tobytes()\n",
    "\n",
    "    number = numbers[idx]\n",
    "    class_id = cls[idx]\n",
    "    # print(len(cls))\n",
    "    serialized_cls = tf.io.serialize_tensor(tf.constant(class_id)).numpy()\n",
    "\n",
    "    example = tf.train.Example(features=tf.train.Features(feature={\n",
    "        'image': _bytes_feature(bimage),\n",
    "        'bbox': _float_feature(bbox),\n",
    "        'label': _bytes_feature(serialized_cls),\n",
    "        # 'number': _int64_feature(number)\n",
    "    }))\n",
    "    \n",
    "    writer_train.write(example.SerializeToString())\n",
    "writer_train.close()\n"
   ]
  },
  {
   "cell_type": "code",
   "execution_count": 198,
   "metadata": {},
   "outputs": [],
   "source": [
    "AUTOTUNE = tf.data.AUTOTUNE\n",
    "\n",
    "RES_HEIGHT =24\n",
    "RES_WIDTH = 32\n",
    "N_EPOCHS = 100\n",
    "N_BATCH = 9\n",
    "# LR = 0.0005\n",
    "\n",
    "\n",
    "def _parse_function(tfrecord_serialized):\n",
    "    features = {\n",
    "        'image': tf.io.FixedLenFeature([], tf.string),\n",
    "        'bbox': tf.io.VarLenFeature(tf.float32),  \n",
    "        'label': tf.io.FixedLenFeature([], tf.string),\n",
    "        # 'number': tf.io.FixedLenFeature([], tf.int64)\n",
    "    }\n",
    "\n",
    "    parsed_features = tf.io.parse_single_example(tfrecord_serialized, features)\n",
    "\n",
    "    image = tf.io.decode_raw(parsed_features['image'], tf.uint8)\n",
    "    image = tf.reshape(image, [RES_HEIGHT, RES_WIDTH, 1])\n",
    "    image = image / tf.reduce_max(image)\n",
    "    image = tf.cast(image, tf.float32) \n",
    "    # image = image / tf.reduce_max(image)\n",
    "\n",
    "    bbox = tf.sparse.to_dense(parsed_features['bbox']) \n",
    "    bbox = tf.cast(bbox, tf.float32)\n",
    "    # num_boxes = tf.shape(bbox)[0] // 4\n",
    "    bbox = tf.reshape(bbox, [-1, 4])\n",
    "\n",
    "    serialized_cls = parsed_features['label']\n",
    "    label = tf.io.parse_tensor(serialized_cls, out_type=tf.int64)\n",
    "    \n",
    "    # number = tf.cast(parsed_features['number'], tf.int64)\n",
    "    return image, bbox, label\n",
    "\n",
    "\n",
    "train_dataset = tf.data.TFRecordDataset(tfr_train_dir)\n",
    "train_dataset = train_dataset.map(_parse_function, num_parallel_calls=AUTOTUNE)\n",
    "train_dataset = train_dataset.shuffle(buffer_size=N_TRAIN).prefetch(AUTOTUNE).batch(N_BATCH, drop_remainder=True)"
   ]
  },
  {
   "cell_type": "code",
   "execution_count": 199,
   "metadata": {},
   "outputs": [],
   "source": [
    "def convert_types(image, bbox, label):\n",
    "    # 필요한 필드의 데이터 타입을 int32로 변환\n",
    "    label = tf.cast(label, tf.int32)\n",
    "    # 추가적인 필드가 있다면 여기에 tf.cast 적용\n",
    "    return image, bbox, label\n",
    "\n",
    "train_dataset = train_dataset.map(convert_types)\n"
   ]
  },
  {
   "cell_type": "code",
   "execution_count": 200,
   "metadata": {},
   "outputs": [
    {
     "name": "stdout",
     "output_type": "stream",
     "text": [
      "(24, 32, 1)\n",
      "tf.Tensor([1 1 1 0], shape=(4,), dtype=int32)\n",
      "tf.Tensor(\n",
      "[[22. 14. 28. 24.]\n",
      " [26. 15. 32. 23.]\n",
      " [24.  8. 32. 16.]\n",
      " [ 0.  0.  0.  0.]], shape=(4, 4), dtype=float32)\n"
     ]
    },
    {
     "data": {
      "image/png": "[encoded data removed]",
      "text/plain": [
       "<Figure size 640x480 with 1 Axes>"
      ]
     },
     "metadata": {},
     "output_type": "display_data"
    }
   ],
   "source": [
    "import matplotlib.pyplot as plt\n",
    "\n",
    "idx = 0\n",
    "for image, bbox, label in train_dataset.take(1):\n",
    "    image = image[idx]\n",
    "    bbox = bbox[idx]\n",
    "    label = label[idx]\n",
    "    image = image.numpy()\n",
    "    plt.imshow(image)\n",
    "    ax = plt.gca()  \n",
    "    print(image.shape)\n",
    "    print(label)\n",
    "    print(bbox)\n",
    "    boxes = tf.stack(\n",
    "    \t[\n",
    "    \t bbox[:,0],\n",
    "    \t bbox[:,1],\n",
    "    \t bbox[:,2],\n",
    "    \t bbox[:,3]\n",
    "    \t], axis = -1\n",
    "    )\n",
    "    for box in boxes:\n",
    "        xmin, ymin = box[:2]\n",
    "        w, h = box[2:] - box[:2]\n",
    "        patch = plt.Rectangle(\n",
    "            [xmin, ymin], w, h, fill=False, edgecolor=[1, 0, 0], linewidth=2\n",
    "        )\n",
    "        ax.add_patch(patch)\n",
    "    plt.show()"
   ]
  },
  {
   "cell_type": "code",
   "execution_count": 201,
   "metadata": {},
   "outputs": [],
   "source": [
    "def convert_to_xywh(boxes):    \n",
    "    return tf.concat(\n",
    "        [(boxes[..., :2] + boxes[..., 2:]) / 2.0, boxes[..., 2:] - boxes[..., :2]],\n",
    "        axis=-1\n",
    "    )"
   ]
  },
  {
   "cell_type": "code",
   "execution_count": 202,
   "metadata": {},
   "outputs": [],
   "source": [
    "def convert_to_corners(boxes):\n",
    "    return tf.concat(\n",
    "        [boxes[..., :2] - boxes[..., 2:] / 2.0, boxes[..., :2] + boxes[..., 2:] / 2.0],\n",
    "        axis=-1\n",
    "    )"
   ]
  },
  {
   "cell_type": "code",
   "execution_count": 203,
   "metadata": {},
   "outputs": [],
   "source": [
    "def preprocess_data(image, gt_boxes, cls_ids):\n",
    "    cls_ids = tf.cast(cls_ids, dtype = tf.int32)\n",
    "    \n",
    "    bbox = convert_to_xywh(gt_boxes)\n",
    "    print(image.shape)\n",
    "    print(bbox.shape)\n",
    "    print(cls_ids.shape)\n",
    "    return image, bbox, cls_ids"
   ]
  },
  {
   "cell_type": "code",
   "execution_count": 204,
   "metadata": {},
   "outputs": [
    {
     "data": {
      "image/png": "[encoded data removed]",
      "text/plain": [
       "<Figure size 640x480 with 1 Axes>"
      ]
     },
     "metadata": {},
     "output_type": "display_data"
    },
    {
     "name": "stdout",
     "output_type": "stream",
     "text": [
      "tf.Tensor(1.0, shape=(), dtype=float32) tf.Tensor(0.0, shape=(), dtype=float32)\n"
     ]
    }
   ],
   "source": [
    "idx = 0\n",
    "for image, bbox, label in train_dataset.take(1):\n",
    "    anchor_img = np.zeros((*image.shape[:3], 3), dtype=np.uint8)\n",
    "    anchor_img = anchor_img[idx]\n",
    "\n",
    "    strides = [2, 4, 8]\n",
    "    colors = {\n",
    "        2: [0, 255, 0],  # 초록색\n",
    "        4: [0, 0, 255],  # 파란색\n",
    "        8: [255, 0, 0],   # 빨간색\n",
    "    }\n",
    "\n",
    "    for stride in strides:\n",
    "        color = colors[stride]\n",
    "        for y in range(0, anchor_img.shape[0], stride):\n",
    "            for x in range(0, anchor_img.shape[1], stride):\n",
    "                anchor_img[y, x, :] = color\n",
    "\n",
    "    # 이미지 표시\n",
    "    plt.imshow(image[idx], alpha=1)  \n",
    "    plt.imshow(anchor_img, alpha=0.5) \n",
    "    plt.axis('off')\n",
    "    plt.show()\n",
    "    print(tf.reduce_max(image), tf.reduce_min(image))"
   ]
  },
  {
   "cell_type": "code",
   "execution_count": 205,
   "metadata": {},
   "outputs": [
    {
     "name": "stdout",
     "output_type": "stream",
     "text": [
      "(9, 24, 32, 1)\n",
      "(9, 4, 4)\n",
      "(9, 4)\n",
      "(24, 32, 1)\n",
      "tf.Tensor(\n",
      "[[13.5 21.5  7.   5. ]\n",
      " [27.  13.5 10.   9. ]\n",
      " [ 0.   0.   0.   0. ]\n",
      " [ 0.   0.   0.   0. ]], shape=(4, 4), dtype=float32)\n",
      "tf.Tensor([1 1 0 0], shape=(4,), dtype=int32)\n",
      "tf.Tensor(1.0, shape=(), dtype=float32) tf.Tensor(0.0, shape=(), dtype=float32)\n",
      "width:  32\n",
      "height:  24\n",
      "bbox:  tf.Tensor(\n",
      "[[10. 19.  7.  5.]\n",
      " [22.  9. 10.  9.]\n",
      " [ 0.  0.  0.  0.]\n",
      " [ 0.  0.  0.  0.]], shape=(4, 4), dtype=float32)\n",
      "tf.Tensor([10. 19.  7.  5.], shape=(4,), dtype=float32)\n",
      "tf.Tensor([22.  9. 10.  9.], shape=(4,), dtype=float32)\n",
      "tf.Tensor([0. 0. 0. 0.], shape=(4,), dtype=float32)\n",
      "tf.Tensor([0. 0. 0. 0.], shape=(4,), dtype=float32)\n"
     ]
    },
    {
     "data": {
      "image/png": "[encoded data removed]",
      "text/plain": [
       "<Figure size 640x480 with 1 Axes>"
      ]
     },
     "metadata": {},
     "output_type": "display_data"
    },
    {
     "name": "stdout",
     "output_type": "stream",
     "text": [
      "tf.Tensor([1 1 0 0], shape=(4,), dtype=int32)\n"
     ]
    }
   ],
   "source": [
    "idx = 0\n",
    "for image, bbox, label in train_dataset.take(1):\n",
    "    image, bbox, label = preprocess_data(image, bbox, label)\n",
    "    img = image[idx]\n",
    "    box = bbox[idx]\n",
    "    label = label[idx]\n",
    "    print(img.shape)\n",
    "    print(box)\n",
    "    print(label)\n",
    "    print(tf.reduce_max(image), tf.reduce_min(image))\n",
    "    # 이미지 시각화\n",
    "    plt.imshow(img)\n",
    "    ax = plt.gca()\n",
    "    width = img.shape[1]\n",
    "    height = img.shape[0]\n",
    "    print(\"width: \", width)\n",
    "    print(\"height: \", height)\n",
    "    boxes = tf.stack(\n",
    "        [\n",
    "            (box[:, 0] - 0.5 * box[:, 2]),  # xmin = x_center - width/2\n",
    "            (box[:, 1] - 0.5 * box[:, 3]),  # ymin = y_center - height/2\n",
    "            box[:, 2],\n",
    "            box[:, 3],\n",
    "            \n",
    "        ], axis=-1\n",
    "    )\n",
    "    print(\"bbox: \", boxes)\n",
    "    # 각 바운딩 박스에 대해 반복하여 그리기\n",
    "    for box in boxes:\n",
    "        xmin, ymin, w, h = box\n",
    "        print(box)\n",
    "        patch = plt.Rectangle(\n",
    "            [xmin, ymin], w, h, fill=False, edgecolor=[1, 0, 0], linewidth=2\n",
    "        )\n",
    "        ax.add_patch(patch)\n",
    "    plt.show()\n",
    "    print(label)\n",
    " "
   ]
  },
  {
   "cell_type": "markdown",
   "metadata": {},
   "source": [
    "self.aspect_ratios = [0.5, 1.0, 2.0]        \n",
    "self.scales = [2** x for x in [0, 1/3, 2/3]] \n",
    "\n",
    "self.aspect_ratios * self.scales = 9 이므로 \n",
    "\n",
    "(None, 12, 16, 32) // stride 2\n",
    "\n",
    "(None, 6, 8, 32)   // stride 4\n",
    "\n",
    "(None, 3, 4, 32)   // stride 8\n",
    "\n",
    "가 출력이다 그래서 총 갯수가 2268개이다 \n",
    "\n",
    "그럼 AnchorBox도 \n",
    "\n",
    "self._strides = [2 ** i for i in range(1, 4)] \n",
    "\n",
    "stride = 2, 4, 8 이 나와야 하며 그에 따라 self._areas = [x ** 2 for x in [5.5, 6.0, 6.5]] \n",
    "self._areas 도 3개가 나와야 한다 \n",
    "\n",
    "그러면 \n",
    "\n",
    "12 * 16 * 9 = 1,728\n",
    "\n",
    "6 * 8 * 9 = 432\n",
    "\n",
    "3 * 4 * 9 = 108\n",
    "\n",
    "== > 1,728 + 432 + 108 = 2,268 인 바운딩 박스 갯수와 출력 갯수가 일치하게 된다 !\n",
    "\n"
   ]
  },
  {
   "cell_type": "code",
   "execution_count": 249,
   "metadata": {},
   "outputs": [],
   "source": [
    "class AnchorBox:\n",
    "    def __init__(self):\n",
    "        self.aspect_ratios = [0.5, 1.0, 2.0]         # 이거랑 2268\n",
    "        self.scales = [2** x for x in [0, 1/3, 2/3]] # 이걸로 바운딩박스 갯수 조절가능\n",
    "        self._num_anchors = len(self.aspect_ratios) * len(self.scales)\n",
    "        self._strides = [2 ** i for i in range(1, 4)]\n",
    "        self._areas = [x ** 2 for x in [5.5, 6.0, 6.5]]\n",
    "        self._anchor_dims = self._compute_dims()\n",
    "\n",
    "    def _compute_dims(self):\n",
    "        anchor_dims_all = []\n",
    "\n",
    "        for area in self._areas:\n",
    "            anchor_dims = []\n",
    "            for ratio in self.aspect_ratios: \n",
    "                anchor_height = tf.math.sqrt(area / ratio)\n",
    "                anchor_width = area / anchor_height\n",
    "                dims = tf.reshape(\n",
    "                    tf.stack([anchor_width, anchor_height], axis = -1), [1, 1, 2]\n",
    "                )\n",
    "                for scale in self.scales: \n",
    "                    anchor_dims.append(scale * dims) \n",
    "            anchor_dims_all.append(tf.stack(anchor_dims, axis = -2))\n",
    "        return anchor_dims_all \n",
    "    \n",
    "    def _get_anchors(self, feature_height, feature_width, level):\n",
    "        rx = tf.range(feature_width, dtype = tf.float32) + 0.5\n",
    "        ry = tf.range(feature_height, dtype = tf.float32) + 0.5\n",
    "\n",
    "        centers = tf.stack(tf.meshgrid(rx, ry), axis = -1) * self._strides[level - 1]\n",
    "        centers = tf.expand_dims(centers, axis = -2)\n",
    "        centers = tf.tile(centers, [1, 1, self._num_anchors, 1])\n",
    "\n",
    "        dims = tf.tile(\n",
    "            self._anchor_dims[level - 1], [feature_height, feature_width, 1, 1] \n",
    "        )\n",
    "\n",
    "        anchors = tf.concat([centers, dims], axis=-1) \n",
    "        # print(f\"anchors: {anchors}\")\n",
    "\n",
    "        # print(f\"{tf.reshape(anchors, [feature_height * feature_width * self._num_anchors, 4]).shape}\")\n",
    "\n",
    "        return tf.reshape(\n",
    "            anchors, [feature_height * feature_width * self._num_anchors, 4]\n",
    "        )\n",
    "\n",
    "    def get_anchors(self, image_height, image_width):\n",
    "        anchors = [\n",
    "            self._get_anchors(\n",
    "                tf.math.ceil(image_height / 2 ** i), # 올림\n",
    "                tf.math.ceil(image_width / 2 ** i),\n",
    "                i\n",
    "            )\n",
    "            for i in range(1, 4)\n",
    "        ]\n",
    "\n",
    "        return tf.concat(anchors, axis=0)\n",
    "\n",
    "        # 앵커 박스의 좌표를 이미지 크기 내로 제한\n",
    "        # anchors = tf.clip_by_value(anchors, 0, [image_height, image_width, image_height, image_width])\n",
    "        # return tf.concat(anchors, axis=0)\n",
    "        # return anchors"
   ]
  },
  {
   "cell_type": "code",
   "execution_count": 207,
   "metadata": {},
   "outputs": [
    {
     "name": "stdout",
     "output_type": "stream",
     "text": [
      "Anchor 음수 값: False\n",
      "tf.Tensor(\n",
      "[[ 1.         1.         3.8890874  7.7781744]\n",
      " [ 1.         1.         4.8999434  9.799886 ]\n",
      " [ 1.         1.         6.1735415 12.347082 ]\n",
      " ...\n",
      " [28.        20.         9.192389   4.596194 ]\n",
      " [28.        20.        11.581684   5.7908416]\n",
      " [28.        20.        14.592007   7.296003 ]], shape=(2268, 4), dtype=float32)\n",
      "(2268, 4)\n",
      "(24, 32, 1)\n",
      "[[11.        23.         4.8999434  9.799886 ]\n",
      " [23.         7.         6.929566   6.929566 ]\n",
      " [17.         9.         7.778175   3.8890872]\n",
      " ...\n",
      " [14.         2.        10.690785   5.345392 ]\n",
      " [ 9.        17.        12.347083   6.173541 ]\n",
      " [13.        13.         6.929566   6.929566 ]]\n"
     ]
    },
    {
     "data": {
      "image/png": "[encoded data removed]",
      "text/plain": [
       "<Figure size 640x480 with 1 Axes>"
      ]
     },
     "metadata": {},
     "output_type": "display_data"
    }
   ],
   "source": [
    "anchors = AnchorBox()\n",
    "anchor = anchors.get_anchors(24, 32)\n",
    "\n",
    "has_negative_values = tf.reduce_any(tf.less(anchor, 0))\n",
    "print(\"Anchor 음수 값:\", has_negative_values.numpy())\n",
    "\n",
    "print(anchor)\n",
    "print(anchor.shape)\n",
    "import matplotlib.pyplot as plt\n",
    "import matplotlib.patches as patches\n",
    "\n",
    "def draw_bounding_boxes(data, num_samples):\n",
    "    fig, ax = plt.subplots()\n",
    "\n",
    "    plt.imshow(img)\n",
    "    print(img.shape)\n",
    "    data_np = data.numpy()\n",
    "\n",
    "    if len(data) > num_samples:\n",
    "        sampled_indices = np.random.choice(len(data), num_samples, replace=False)\n",
    "        sample_data = data_np[sampled_indices]\n",
    "    else : \n",
    "        sample_data = data_np\n",
    "    print(sample_data)\n",
    "    for center_x, center_y, width, height in sample_data:\n",
    "        top_left_x = center_x - width / 2\n",
    "        top_left_y = center_y - height / 2\n",
    "\n",
    "        rect = patches.Rectangle((top_left_x, top_left_y), width, height, linewidth=0.8, edgecolor='white', facecolor='none')\n",
    "        ax.add_patch(rect)\n",
    "    \n",
    "    plt.show()\n",
    "\n",
    "draw_bounding_boxes(anchor, 1000)\n"
   ]
  },
  {
   "cell_type": "code",
   "execution_count": null,
   "metadata": {},
   "outputs": [],
   "source": []
  },
  {
   "cell_type": "code",
   "execution_count": 208,
   "metadata": {},
   "outputs": [],
   "source": [
    "def compute_iou(boxes1, boxes2):\n",
    "    boxes1_corners = convert_to_corners(boxes1)\n",
    "    # print(\"boxes1: \", boxes1.shape)\n",
    "    # print(\"boxes1_corners: \", boxes1_corners.shape)\n",
    "    boxes2_corners = convert_to_corners(boxes2)\n",
    "    # print(\"boxes2: \", boxes2.shape)\n",
    "    # print(\"boxes2_corners: \", boxes2_corners.shape)\n",
    "    lu = tf.maximum(boxes1_corners[:, None, :2], boxes2_corners[:, :2])\n",
    "    # print(\"lu: \", lu.shape)\n",
    "    rd = tf.minimum(boxes1_corners[:, None, 2:], boxes2_corners[:, 2:])  \n",
    "    # print(\"rd: \", rd.shape)\n",
    "\n",
    "    \n",
    "    intersection = tf.maximum(rd - lu, 0.0)\n",
    "    # print(\"intersection: \", intersection.shape)\n",
    "    intersection_area = intersection[:, :, 0] * intersection[:, :, 1]\n",
    "    # print(\"intersection_area: \", intersection_area.shape)\n",
    "    boxes1_area = boxes1[:, 2] * boxes1[:, 3]\n",
    "    boxes2_area = boxes2[:, 2] * boxes2[:, 3]\n",
    "    union_area = tf.maximum(boxes1_area[:, None] + boxes2_area - intersection_area, 1e-8)\n",
    "    # print(\"union_area: \", union_area.shape)\n",
    "    # return tf.clip_by_value(intersection_area / union_area, 0.0, 1.0)\n",
    "    # print(intersection_area / union_area)\n",
    "    return intersection_area / union_area"
   ]
  },
  {
   "cell_type": "code",
   "execution_count": 209,
   "metadata": {},
   "outputs": [
    {
     "data": {
      "image/png": "[encoded data removed]",
      "text/plain": [
       "<Figure size 640x480 with 1 Axes>"
      ]
     },
     "metadata": {},
     "output_type": "display_data"
    }
   ],
   "source": [
    "import matplotlib.pyplot as plt\n",
    "import matplotlib.patches as patches\n",
    "\n",
    "# 주어진 바운딩 박스 데이터\n",
    "box1 = [62, 54, 78, 70]  # [x_min, y_min, x_max, y_max]\n",
    "box2 = [60, 52, 82, 82]\n",
    "\n",
    "# 그림 생성\n",
    "fig, ax = plt.subplots()\n",
    "\n",
    "# 첫 번째 바운딩 박스 추가\n",
    "rect1 = patches.Rectangle((box1[0], box1[1]), box1[2] - box1[0], box1[3] - box1[1], \n",
    "                          linewidth=2, edgecolor='blue', facecolor='none')\n",
    "ax.add_patch(rect1)\n",
    "\n",
    "# 두 번째 바운딩 박스 추가\n",
    "rect2 = patches.Rectangle((box2[0], box2[1]), box2[2] - box2[0], box2[3] - box2[1], \n",
    "                          linewidth=2, edgecolor='red', facecolor='none')\n",
    "ax.add_patch(rect2)\n",
    "\n",
    "# 축 범위 설정\n",
    "ax.set_xlim(0, 90)\n",
    "ax.set_ylim(0, 90)\n",
    "\n",
    "# 그림 표시\n",
    "plt.show()\n",
    "\n"
   ]
  },
  {
   "cell_type": "code",
   "execution_count": 210,
   "metadata": {},
   "outputs": [
    {
     "name": "stdout",
     "output_type": "stream",
     "text": [
      "tf.Tensor([[0.2]], shape=(1, 1), dtype=float64)\n"
     ]
    }
   ],
   "source": [
    "GA = np.array([[70, 62, 16, 16]])\n",
    "GT = np.array([[76, 72, 32, 40]])\n",
    "\n",
    "print(compute_iou(GA, GT))"
   ]
  },
  {
   "cell_type": "code",
   "execution_count": 211,
   "metadata": {},
   "outputs": [
    {
     "name": "stdout",
     "output_type": "stream",
     "text": [
      "(2, 4)\n",
      "tf.Tensor([45.5 34.  19.  14. ], shape=(4,), dtype=float64)\n",
      "tf.Tensor([60.5 52. ], shape=(2,), dtype=float64)\n"
     ]
    }
   ],
   "source": [
    "gt_boxes = np.array([[27.,  18.5,  8.,   7., ],\n",
    "                     [18.5, 15.5, 11.,   7. ]])\n",
    "\n",
    "print(gt_boxes.shape)\n",
    "matched_gt_idx = tf.reduce_sum(gt_boxes, axis = 0)\n",
    "print(matched_gt_idx)\n",
    "\n",
    "matched_gt_idx = tf.reduce_sum(gt_boxes, axis = 1)\n",
    "print(matched_gt_idx)"
   ]
  },
  {
   "cell_type": "code",
   "execution_count": 212,
   "metadata": {},
   "outputs": [],
   "source": [
    "def match_anchor_boxes(anchor_boxes, gt_boxes, match_iou = 0.5, ignore_iou = 0.4):\n",
    "        iou_matrix = compute_iou(anchor_boxes, gt_boxes)\n",
    "        print(\"iou_matrix:  \", iou_matrix)\n",
    "        max_iou = tf.reduce_max(iou_matrix, axis=1)\n",
    "        print(\"max_iou:  \", max_iou)\n",
    "\n",
    "\n",
    "        matched_gt_idx = tf.argmax(iou_matrix, axis = 1)\n",
    "        print(\"matched_gt_idx:  \", matched_gt_idx)\n",
    "    \n",
    "        positive_mask = tf.greater_equal(max_iou, match_iou)\n",
    "        print(\"positive_mask:  \", positive_mask)\n",
    "        negative_mask = tf.less(max_iou, ignore_iou)\n",
    "        print(\"negative_mask:  \", negative_mask)\n",
    "\n",
    "        ignore_mask = tf.logical_not(tf.logical_or(positive_mask, negative_mask))\n",
    "        print(\"ignore_mask:  \", ignore_mask)\n",
    "        return (\n",
    "            matched_gt_idx,\n",
    "            tf.cast(positive_mask, dtype = tf.float32),\n",
    "            tf.cast(ignore_mask, dtype = tf.float32),\n",
    "        )\n",
    "        "
   ]
  },
  {
   "cell_type": "code",
   "execution_count": 213,
   "metadata": {},
   "outputs": [
    {
     "name": "stdout",
     "output_type": "stream",
     "text": [
      "iou_matrix:   tf.Tensor(\n",
      "[[1.         0.03100775 0.         0.        ]\n",
      " [0.03100775 1.         0.         0.        ]\n",
      " [0.         0.         1.         0.        ]\n",
      " [0.         0.         0.         0.        ]\n",
      " [0.         0.         0.06003535 0.        ]\n",
      " [0.         0.         0.09293901 0.        ]\n",
      " [0.         0.         0.11408175 0.        ]\n",
      " [0.16311105 0.         0.         0.        ]], shape=(8, 4), dtype=float32)\n",
      "max_iou:   tf.Tensor(\n",
      "[1.         1.         1.         0.         0.06003535 0.09293901\n",
      " 0.11408175 0.16311105], shape=(8,), dtype=float32)\n",
      "matched_gt_idx:   tf.Tensor([0 1 2 0 2 2 2 0], shape=(8,), dtype=int64)\n",
      "positive_mask:   tf.Tensor([ True  True  True False False False False False], shape=(8,), dtype=bool)\n",
      "negative_mask:   tf.Tensor([False False False  True  True  True  True  True], shape=(8,), dtype=bool)\n",
      "ignore_mask:   tf.Tensor([False False False False False False False False], shape=(8,), dtype=bool)\n"
     ]
    }
   ],
   "source": [
    "# anchors = AnchorBox()\n",
    "# anchor = anchors.get_anchors(24, 32)\n",
    "# print(anchor.shape)\n",
    "# anchor_boxes = np.array([[27.0, 23.0, 8.485282, 4.2426405]])\n",
    "anchor = np.array([[27.,  18.5,  8.,   7., ],\n",
    "                     [18.5, 15.5, 11.,   7. ],\n",
    "                     [ 6.,   4.,   8.,   6. ],\n",
    "                     [ 0.,   0.,   0.,   0. ],\n",
    "                     [ 1., 1., 4.242641, 8.485281 ],\n",
    "                     [ 1.,         1.,         5.3453927, 10.690784 ],\n",
    "                    [ 1.,         1.,         6.7347727, 13.469543 ],\n",
    "                    [30.,        22.,         9.899496,   4.949747 ]])\n",
    "\n",
    "gt_boxes = np.array([[27.,  18.5,  8.,   7., ],\n",
    "                     [18.5, 15.5, 11.,   7. ],\n",
    "                     [ 6.,   4.,   8.,   6. ],\n",
    "                     [ 0.,   0.,   0.,   0. ]])\n",
    "# print(gt_boxes.shape)\n",
    "a, b, c = match_anchor_boxes(tf.cast(anchor, tf.float32), tf.cast(gt_boxes, tf.float32))\n",
    "# print(a, b, c)"
   ]
  },
  {
   "cell_type": "code",
   "execution_count": 214,
   "metadata": {},
   "outputs": [],
   "source": [
    "class LabelEncoder:\n",
    "    def __init__(self):\n",
    "        self._anchor_box = AnchorBox()\n",
    "        self._box_variance = tf.convert_to_tensor(\n",
    "            [0.1, 0.1, 0.2, 0.2], dtype=tf.float32)\n",
    "    \n",
    "    def _match_anchor_boxes(self, anchor_boxes, gt_boxes, match_iou = 0.5, ignore_iou = 0.4):\n",
    "        iou_matrix = compute_iou(anchor_boxes, gt_boxes)\n",
    "        print(\"iou_matrix:  \", iou_matrix.shape)\n",
    "        max_iou = tf.reduce_max(iou_matrix, axis=1)\n",
    "        print(\"max_iou:  \", max_iou.shape)\n",
    "\n",
    "        matched_gt_idx = tf.argmax(iou_matrix, axis = 1)\n",
    "        print(\"matched_gt_idx:  \", matched_gt_idx)\n",
    "        print(\"max_iou:\", max_iou)\n",
    "        positive_mask = tf.greater_equal(max_iou, match_iou)\n",
    "        print(\"positive_mask:  \", positive_mask)\n",
    "        negative_mask = tf.less(max_iou, ignore_iou)\n",
    "        print(\"negative_mask:  \", negative_mask.shape)\n",
    "\n",
    "        ignore_mask = tf.logical_not(tf.logical_or(positive_mask, negative_mask))\n",
    "        print(\"ignore_mask:  \", ignore_mask.shape)\n",
    "        return (\n",
    "            matched_gt_idx,\n",
    "            tf.cast(positive_mask, dtype = tf.float32),\n",
    "            tf.cast(ignore_mask, dtype = tf.float32),\n",
    "        )\n",
    "    \n",
    "    def _compute_box_target(self, anchor_boxes, matched_gt_boxes):\n",
    "        box_target = tf.concat(\n",
    "            [\n",
    "                (matched_gt_boxes[:, :2] - anchor_boxes[:, :2]) / anchor_boxes[:, 2:],\n",
    "                tf.math.log(matched_gt_boxes[:, 2:] / anchor_boxes[:, 2:])\n",
    "            ],\n",
    "            axis = -1,\n",
    "        )\n",
    "        print(\"box_target:  \", box_target)\n",
    "        box_target = box_target / self._box_variance\n",
    "        print(\"box_target:  \", box_target)\n",
    "        return box_target\n",
    "    \n",
    "\n",
    "    def _encode_sample(self, image_shape, gt_boxes, cls_ids):        \n",
    "        anchor_boxes = self._anchor_box.get_anchors(image_shape[1], image_shape[2])\n",
    "        print(\"anchor_boxes  : \", anchor_boxes)\n",
    "        cls_ids = tf.cast(cls_ids, dtype=tf.float32)\n",
    "        print(\"cls_ids\", cls_ids)\n",
    "        matched_gt_idx, positive_mask, ignore_mask = self._match_anchor_boxes(\n",
    "            anchor_boxes, gt_boxes\n",
    "        )\n",
    "        print(\"matched_gt_idx:  \", matched_gt_idx)\n",
    "        print(\"positive_mask:  \", positive_mask)\n",
    "        print(\"ignore_mask:  \", ignore_mask)\n",
    "\n",
    "        matched_gt_boxes = tf.gather(gt_boxes, matched_gt_idx)\n",
    "\n",
    "        print(\"matched_gt_boxes:  \", matched_gt_boxes)\n",
    "        \n",
    "        box_target = self._compute_box_target(anchor_boxes, matched_gt_boxes)\n",
    "        print(\"box_target:  \", box_target)\n",
    "\n",
    "        matched_gt_cls_ids = tf.gather(cls_ids, matched_gt_idx)\n",
    "        print(\"matched_gt_cls_ids:  \", matched_gt_cls_ids)\n",
    "        \n",
    "        cls_target = tf.where(\n",
    "            tf.not_equal(positive_mask, 1.0), -1.0, matched_gt_cls_ids\n",
    "        )\n",
    "        print(\"cls_target:  \", cls_target)\n",
    "\n",
    "        cls_target = tf.where(tf.equal(ignore_mask, 1.0), -2.0, cls_target)\n",
    "        print(\"cls_target:  \", cls_target)\n",
    "\n",
    "        cls_target = tf.expand_dims(cls_target, axis=-1)\n",
    "        print(\"cls_target:  \", cls_target)\n",
    "\n",
    "\n",
    "        label = tf.concat([box_target, cls_target], axis=-1)\n",
    "        print(\"label:  \", label)\n",
    "        return label\n",
    "\n",
    "    def encode_batch(self, batch_images, gt_boxes, cls_ids):       \n",
    "        images_shape = tf.shape(batch_images)\n",
    "        print(\"images_shape:  \", images_shape)\n",
    "        batch_size = images_shape[0]\n",
    "        print(\"batch_size:  \", batch_size)\n",
    "\n",
    "        labels = tf.TensorArray(dtype=tf.float32, size=batch_size, dynamic_size=True)\n",
    "        print(\"labels:  \", labels)\n",
    "        # batch_size_val = batch_size.numpy()\n",
    "        for i in range(1):\n",
    "            label = self._encode_sample(images_shape, gt_boxes[i], cls_ids[i])\n",
    "            print(\"label:  \", label)\n",
    "            labels = labels.write(i, label)\n",
    "        return batch_images, labels.stack()"
   ]
  },
  {
   "cell_type": "code",
   "execution_count": 215,
   "metadata": {},
   "outputs": [
    {
     "name": "stdout",
     "output_type": "stream",
     "text": [
      "Eager execution:  True\n"
     ]
    }
   ],
   "source": [
    "print(\"Eager execution: \", tf.executing_eagerly())\n",
    "if not tf.executing_eagerly():\n",
    "    tf.compat.v1.enable_eager_execution()"
   ]
  },
  {
   "cell_type": "code",
   "execution_count": 216,
   "metadata": {},
   "outputs": [
    {
     "name": "stdout",
     "output_type": "stream",
     "text": [
      "(9, 24, 32, 1)\n",
      "(9, 4, 4)\n",
      "(9, 4)\n",
      "(9, 24, 32, 1) (9, 4, 4) (9, 4)\n",
      "images_shape:   tf.Tensor([ 9 24 32  1], shape=(4,), dtype=int32)\n",
      "batch_size:   tf.Tensor(9, shape=(), dtype=int32)\n",
      "labels:   <tensorflow.python.ops.tensor_array_ops.TensorArray object at 0x7fd8c879ba00>\n",
      "anchor_boxes  :  tf.Tensor(\n",
      "[[ 1.         1.         3.8890874  7.7781744]\n",
      " [ 1.         1.         4.8999434  9.799886 ]\n",
      " [ 1.         1.         6.1735415 12.347082 ]\n",
      " ...\n",
      " [28.        20.         9.192389   4.596194 ]\n",
      " [28.        20.        11.581684   5.7908416]\n",
      " [28.        20.        14.592007   7.296003 ]], shape=(2268, 4), dtype=float32)\n",
      "cls_ids tf.Tensor([1. 1. 0. 0.], shape=(4,), dtype=float32)\n",
      "iou_matrix:   (2268, 4)\n",
      "max_iou:   (2268,)\n",
      "matched_gt_idx:   tf.Tensor([0 0 0 ... 0 0 0], shape=(2268,), dtype=int64)\n",
      "max_iou: tf.Tensor([0.0412993  0.06759299 0.10082412 ... 0.         0.         0.        ], shape=(2268,), dtype=float32)\n",
      "positive_mask:   tf.Tensor([False False False ... False False False], shape=(2268,), dtype=bool)\n",
      "negative_mask:   (2268,)\n",
      "ignore_mask:   (2268,)\n",
      "matched_gt_idx:   tf.Tensor([0 0 0 ... 0 0 0], shape=(2268,), dtype=int64)\n",
      "positive_mask:   tf.Tensor([0. 0. 0. ... 0. 0. 0.], shape=(2268,), dtype=float32)\n",
      "ignore_mask:   tf.Tensor([0. 0. 0. ... 0. 0. 0.], shape=(2268,), dtype=float32)\n",
      "matched_gt_boxes:   tf.Tensor(\n",
      "[[ 5.   8.5 10.  11. ]\n",
      " [ 5.   8.5 10.  11. ]\n",
      " [ 5.   8.5 10.  11. ]\n",
      " ...\n",
      " [ 5.   8.5 10.  11. ]\n",
      " [ 5.   8.5 10.  11. ]\n",
      " [ 5.   8.5 10.  11. ]], shape=(2268, 4), dtype=float32)\n",
      "box_target:   tf.Tensor(\n",
      "[[ 1.0285189   0.96423656  0.94441056  0.34657356]\n",
      " [ 0.816336    0.76531506  0.71336144  0.11552452]\n",
      " [ 0.64792633  0.60743093  0.48231244 -0.11552448]\n",
      " ...\n",
      " [-2.50207    -2.5020702   0.08420928  0.8726667 ]\n",
      " [-1.9858942  -1.9858944  -0.1468398   0.64161766]\n",
      " [-1.5762054  -1.5762055  -0.37788877  0.4105686 ]], shape=(2268, 4), dtype=float32)\n",
      "box_target:   tf.Tensor(\n",
      "[[ 10.285189     9.642365     4.7220526    1.7328678 ]\n",
      " [  8.16336      7.6531506    3.5668073    0.5776226 ]\n",
      " [  6.4792633    6.0743093    2.4115622   -0.57762235]\n",
      " ...\n",
      " [-25.020699   -25.020702     0.42104638   4.3633337 ]\n",
      " [-19.858942   -19.858944    -0.734199     3.2080882 ]\n",
      " [-15.7620535  -15.762054    -1.8894439    2.0528429 ]], shape=(2268, 4), dtype=float32)\n",
      "box_target:   tf.Tensor(\n",
      "[[ 10.285189     9.642365     4.7220526    1.7328678 ]\n",
      " [  8.16336      7.6531506    3.5668073    0.5776226 ]\n",
      " [  6.4792633    6.0743093    2.4115622   -0.57762235]\n",
      " ...\n",
      " [-25.020699   -25.020702     0.42104638   4.3633337 ]\n",
      " [-19.858942   -19.858944    -0.734199     3.2080882 ]\n",
      " [-15.7620535  -15.762054    -1.8894439    2.0528429 ]], shape=(2268, 4), dtype=float32)\n",
      "matched_gt_cls_ids:   tf.Tensor([1. 1. 1. ... 1. 1. 1.], shape=(2268,), dtype=float32)\n",
      "cls_target:   tf.Tensor([-1. -1. -1. ... -1. -1. -1.], shape=(2268,), dtype=float32)\n",
      "cls_target:   tf.Tensor([-1. -1. -1. ... -1. -1. -1.], shape=(2268,), dtype=float32)\n",
      "cls_target:   tf.Tensor(\n",
      "[[-1.]\n",
      " [-1.]\n",
      " [-1.]\n",
      " ...\n",
      " [-1.]\n",
      " [-1.]\n",
      " [-1.]], shape=(2268, 1), dtype=float32)\n",
      "label:   tf.Tensor(\n",
      "[[ 10.285189     9.642365     4.7220526    1.7328678   -1.        ]\n",
      " [  8.16336      7.6531506    3.5668073    0.5776226   -1.        ]\n",
      " [  6.4792633    6.0743093    2.4115622   -0.57762235  -1.        ]\n",
      " ...\n",
      " [-25.020699   -25.020702     0.42104638   4.3633337   -1.        ]\n",
      " [-19.858942   -19.858944    -0.734199     3.2080882   -1.        ]\n",
      " [-15.7620535  -15.762054    -1.8894439    2.0528429   -1.        ]], shape=(2268, 5), dtype=float32)\n",
      "label:   tf.Tensor(\n",
      "[[ 10.285189     9.642365     4.7220526    1.7328678   -1.        ]\n",
      " [  8.16336      7.6531506    3.5668073    0.5776226   -1.        ]\n",
      " [  6.4792633    6.0743093    2.4115622   -0.57762235  -1.        ]\n",
      " ...\n",
      " [-25.020699   -25.020702     0.42104638   4.3633337   -1.        ]\n",
      " [-19.858942   -19.858944    -0.734199     3.2080882   -1.        ]\n",
      " [-15.7620535  -15.762054    -1.8894439    2.0528429   -1.        ]], shape=(2268, 5), dtype=float32)\n"
     ]
    }
   ],
   "source": [
    "label_encoder = LabelEncoder()\n",
    "\n",
    "for image, bbox, label in train_dataset.take(1):\n",
    "    img, box, label = preprocess_data(image, bbox, label)\n",
    "    # img = np.expand_dims(img, axis = 0)\n",
    "    # box = np.expand_dims(box, axis = 0)\n",
    "    # label = np.expand_dims(label, axis = 0)\n",
    "    print(img.shape, box.shape, label.shape)\n",
    "\n",
    "    label_encoder.encode_batch(img, box, label)\n",
    "    "
   ]
  },
  {
   "cell_type": "code",
   "execution_count": 217,
   "metadata": {},
   "outputs": [
    {
     "name": "stdout",
     "output_type": "stream",
     "text": [
      "(9, 24, 32, 1)\n",
      "(9, None, 4)\n",
      "<unknown>\n"
     ]
    }
   ],
   "source": [
    "label_encoder = LabelEncoder()\n",
    "\n",
    "autotune = tf.data.AUTOTUNE\n",
    "num_classes = 1\n",
    "batch_size = 9\n",
    "\n",
    "train_dataset = train_dataset.map(preprocess_data, num_parallel_calls=autotune)\n",
    "# train_dataset = train_dataset.shuffle(batch_size * 8)\n",
    "\n",
    "# train_dataset = train_dataset.padded_batch(\n",
    "#     batch_size=batch_size, \n",
    "#     padded_shapes = ([9, 24, 32, 1], [9, 4, 4], [9, 4]),\n",
    "#     padding_values=(0.0, 1e-8, -1), \n",
    "#     drop_remainder=True\n",
    "# )"
   ]
  },
  {
   "cell_type": "code",
   "execution_count": 218,
   "metadata": {},
   "outputs": [
    {
     "name": "stdout",
     "output_type": "stream",
     "text": [
      "images_shape:   Tensor(\"Shape:0\", shape=(4,), dtype=int32)\n",
      "batch_size:   Tensor(\"strided_slice:0\", shape=(), dtype=int32)\n",
      "labels:   <tensorflow.python.ops.tensor_array_ops.TensorArray object at 0x7fd8b8715490>\n",
      "anchor_boxes  :  Tensor(\"concat_3:0\", shape=(2268, 4), dtype=float32)\n",
      "cls_ids Tensor(\"Cast:0\", dtype=float32)\n",
      "iou_matrix:   (2268, None)\n",
      "max_iou:   (2268,)\n",
      "matched_gt_idx:   Tensor(\"ArgMax:0\", shape=(2268,), dtype=int64)\n",
      "max_iou: Tensor(\"Max:0\", shape=(2268,), dtype=float32)\n",
      "positive_mask:   Tensor(\"GreaterEqual:0\", shape=(2268,), dtype=bool)\n",
      "negative_mask:   (2268,)\n",
      "ignore_mask:   (2268,)\n",
      "matched_gt_idx:   Tensor(\"ArgMax:0\", shape=(2268,), dtype=int64)\n",
      "positive_mask:   Tensor(\"Cast_1:0\", shape=(2268,), dtype=float32)\n",
      "ignore_mask:   Tensor(\"Cast_2:0\", shape=(2268,), dtype=float32)\n",
      "matched_gt_boxes:   Tensor(\"GatherV2:0\", shape=(2268, 4), dtype=float32)\n",
      "box_target:   Tensor(\"concat_6:0\", shape=(2268, 4), dtype=float32)\n",
      "box_target:   Tensor(\"truediv_13:0\", shape=(2268, 4), dtype=float32)\n",
      "box_target:   Tensor(\"truediv_13:0\", shape=(2268, 4), dtype=float32)\n",
      "matched_gt_cls_ids:   Tensor(\"GatherV2_1:0\", dtype=float32)\n",
      "cls_target:   Tensor(\"SelectV2:0\", dtype=float32)\n",
      "cls_target:   Tensor(\"SelectV2_1:0\", dtype=float32)\n",
      "cls_target:   Tensor(\"ExpandDims_3:0\", dtype=float32)\n",
      "label:   Tensor(\"concat_7:0\", shape=(2268, None), dtype=float32)\n",
      "label:   Tensor(\"concat_7:0\", shape=(2268, None), dtype=float32)\n"
     ]
    }
   ],
   "source": [
    "train_dataset = train_dataset.map(\n",
    "    label_encoder.encode_batch, num_parallel_calls=autotune\n",
    ")\n",
    "# train_dataset = train_dataset.apply(tf.data.experimental.ignore_errors())\n",
    "train_dataset = train_dataset.prefetch(autotune)"
   ]
  },
  {
   "cell_type": "code",
   "execution_count": 248,
   "metadata": {},
   "outputs": [
    {
     "name": "stdout",
     "output_type": "stream",
     "text": [
      "(9, 2268, 5)\n",
      "Positive 개수: 24\n",
      "Negative 개수: 2223\n",
      "Ignore 개수: 21\n",
      "(9, 2268, 5)\n",
      "Positive 개수: 18\n",
      "Negative 개수: 2210\n",
      "Ignore 개수: 40\n",
      "(9, 2268, 5)\n",
      "Positive 개수: 39\n",
      "Negative 개수: 2155\n",
      "Ignore 개수: 74\n",
      "(9, 2268, 5)\n",
      "Positive 개수: 30\n",
      "Negative 개수: 2163\n",
      "Ignore 개수: 75\n",
      "(9, 2268, 5)\n",
      "Positive 개수: 40\n",
      "Negative 개수: 2138\n",
      "Ignore 개수: 90\n",
      "(9, 2268, 5)\n",
      "Positive 개수: 45\n",
      "Negative 개수: 2148\n",
      "Ignore 개수: 75\n",
      "(9, 2268, 5)\n",
      "Positive 개수: 76\n",
      "Negative 개수: 2108\n",
      "Ignore 개수: 84\n",
      "(9, 2268, 5)\n",
      "Positive 개수: 21\n",
      "Negative 개수: 2220\n",
      "Ignore 개수: 27\n",
      "(9, 2268, 5)\n",
      "Positive 개수: 65\n",
      "Negative 개수: 2112\n",
      "Ignore 개수: 91\n",
      "(9, 2268, 5)\n",
      "Positive 개수: 22\n",
      "Negative 개수: 2202\n",
      "Ignore 개수: 44\n"
     ]
    }
   ],
   "source": [
    "positive_count = []\n",
    "negative_count = []\n",
    "ignore_count = []\n",
    "for batch in train_dataset.take(10):\n",
    "    images, labels = batch\n",
    "    print(labels.shape)\n",
    "\n",
    "    # labels 텐서에서 positive, negative, ignore 값의 개수를 계산\n",
    "    positive_count = tf.reduce_sum(tf.cast(tf.equal(labels[0, :, 4], 1.0), tf.int32))\n",
    "    negative_count = tf.reduce_sum(tf.cast(tf.equal(labels[0, :, 4], -1.0), tf.int32))\n",
    "    ignore_count = tf.reduce_sum(tf.cast(tf.equal(labels[0, :, 4], -2.0), tf.int32))\n",
    "\n",
    "    print(\"Positive 개수:\", positive_count.numpy())\n",
    "    print(\"Negative 개수:\", negative_count.numpy())\n",
    "    print(\"Ignore 개수:\", ignore_count.numpy())\n"
   ]
  },
  {
   "cell_type": "code",
   "execution_count": 220,
   "metadata": {},
   "outputs": [],
   "source": [
    "# def cut_labels(images, labels):\n",
    "#     # ignore 상태가 아닌 앵커 박스만 필터링\n",
    "#     mask = tf.not_equal(labels[:, 4], -2.0)\n",
    "#     filtered_labels = tf.boolean_mask(labels, mask)\n",
    "\n",
    "#     # 필터링된 레이블을 원하는 크기로 조절\n",
    "#     desired_count = 24192\n",
    "#     current_count = tf.shape(filtered_labels)[0]\n",
    "\n",
    "#     # 필요한 경우 레이블을 패딩\n",
    "#     if current_count < desired_count:\n",
    "#         # 누락된 개수만큼 ignore 상태(-2.0)로 패딩\n",
    "#         padding_count = desired_count - current_count\n",
    "#         padding = tf.fill([padding_count, 5], -2.0)  # -2.0으로 채워진 텐서 생성\n",
    "#         filtered_labels = tf.concat([filtered_labels, padding], axis=0)\n",
    "#     else:\n",
    "#         filtered_labels = filtered_labels[:desired_count, :]\n",
    "\n",
    "#     return images, filtered_labels"
   ]
  },
  {
   "cell_type": "code",
   "execution_count": 221,
   "metadata": {},
   "outputs": [
    {
     "name": "stdout",
     "output_type": "stream",
     "text": [
      "2\n",
      "(9, 24, 32, 1)\n",
      "(9, 2268, 5)\n"
     ]
    },
    {
     "data": {
      "image/png": "[encoded data removed]",
      "text/plain": [
       "<Figure size 640x480 with 1 Axes>"
      ]
     },
     "metadata": {},
     "output_type": "display_data"
    },
    {
     "name": "stdout",
     "output_type": "stream",
     "text": [
      "tf.Tensor(8, shape=(), dtype=int32)\n"
     ]
    }
   ],
   "source": [
    "for batch in train_dataset.take(1):\n",
    "    print(len(batch))\n",
    "    print(batch[0].shape) # 이미지\n",
    "    print(batch[1].shape) # 라벨\n",
    "    plt.imshow(batch[0][0])\n",
    "    plt.show()\n",
    "    print(tf.reduce_sum(tf.cast(tf.equal(batch[1][0, :, 4], 1.0), tf.int32)))\n"
   ]
  },
  {
   "cell_type": "code",
   "execution_count": 222,
   "metadata": {},
   "outputs": [
    {
     "name": "stdout",
     "output_type": "stream",
     "text": [
      "Positive 개수: 76\n",
      "Negative 개수: 2064\n",
      "Ignore 개수: 128\n",
      "Positive 76\n"
     ]
    },
    {
     "data": {
      "image/png": "[encoded data removed]",
      "text/plain": [
       "<Figure size 640x480 with 1 Axes>"
      ]
     },
     "metadata": {},
     "output_type": "display_data"
    }
   ],
   "source": [
    "def decode_predictions(labels, anchors, box_variance=[0.1, 0.1, 0.2, 0.2]):\n",
    "    decoded_boxes = []\n",
    "    label_idx = 0\n",
    "    for label in labels:\n",
    "        # if label[4] == 1.0:\n",
    "        #     print(\"label:\", label)\n",
    "        # elif label[4] == -1.0:\n",
    "        #     print(\"label:\", label)\n",
    "        dx, dy, dw, dh = label[:4]\n",
    "        anchor = anchors[label_idx]\n",
    "        anchor_x, anchor_y, anchor_w, anchor_h = anchor\n",
    "        cx = dx * box_variance[0] * anchor_w + anchor_x\n",
    "        cy = dy * box_variance[1] * anchor_h + anchor_y\n",
    "        width = np.exp(dw * box_variance[2]) * anchor_w\n",
    "        height = np.exp(dh * box_variance[3]) * anchor_h\n",
    "        x_min = cx - width / 2\n",
    "        y_min = cy - height / 2\n",
    "        decoded_box = [x_min, y_min, width, height]\n",
    "        # print(np.array(decoded_box))\n",
    "        if label[4] == 1.0:\n",
    "            decoded_boxes.append(decoded_box)\n",
    "        label_idx += 1\n",
    "        # if len(np.array(decoded_boxes)) > 1: \n",
    "            # break\n",
    "    print(\"Positive\",len(np.array(decoded_boxes)))\n",
    "    return decoded_boxes    \n",
    "    # print(np.array(decoded_boxes))\n",
    "    \n",
    "\n",
    "\n",
    "# 바운딩 박스 그리기 함수\n",
    "def draw_positive_bounding_boxes(image, decoded_boxes):\n",
    "    plt.imshow(image)\n",
    "    ax = plt.gca()\n",
    "    # print(len(decoded_boxes))\n",
    "    i = 0\n",
    "    for box in decoded_boxes:\n",
    "        i+=1\n",
    "        # print(box)\n",
    "        x_min, y_min, width, height = box\n",
    "        rect = patches.Rectangle((x_min, y_min), width, height, linewidth=1, edgecolor='r', facecolor='none')\n",
    "        ax.add_patch(rect)\n",
    "    # print(i)\n",
    "    plt.show()\n",
    "\n",
    "# 앵커 박스 생성\n",
    "anchor_box = AnchorBox()\n",
    "anchors = anchor_box.get_anchors(24, 32)\n",
    "# train_dataset에서 첫 번째 배치를 가져오고, 바운딩 박스 그리기\n",
    "for batch in train_dataset.take(1):\n",
    "    image = batch[0][0].numpy()\n",
    "    labels = batch[1][0].numpy()  # 여기서 labels는 [오프셋x, 오프셋y, 스케일w, 스케일h, 클래스, 앵커 박스 인덱스]를 포함한다고 가정\n",
    "    # print(labels)\n",
    "    positive_count = tf.reduce_sum(tf.cast(tf.equal(labels[:, 4], 1.0), tf.int32))\n",
    "    negative_count = tf.reduce_sum(tf.cast(tf.equal(labels[:, 4], -1.0), tf.int32))\n",
    "    ignore_count = tf.reduce_sum(tf.cast(tf.equal(labels[:, 4], -2.0), tf.int32))\n",
    "\n",
    "    print(\"Positive 개수:\", positive_count.numpy())\n",
    "    print(\"Negative 개수:\", negative_count.numpy())\n",
    "    print(\"Ignore 개수:\", ignore_count.numpy())\n",
    "\n",
    "    # 오프셋 디코딩 및 바운딩 박스 그리기\n",
    "    decoded_boxes = decode_predictions(labels, anchors)\n",
    "    draw_positive_bounding_boxes(image, decoded_boxes)"
   ]
  },
  {
   "cell_type": "code",
   "execution_count": 223,
   "metadata": {},
   "outputs": [
    {
     "name": "stdout",
     "output_type": "stream",
     "text": [
      "(76, 4)\n"
     ]
    }
   ],
   "source": [
    "print(np.array(decoded_boxes).shape)"
   ]
  },
  {
   "cell_type": "code",
   "execution_count": 224,
   "metadata": {},
   "outputs": [],
   "source": [
    "class DepthwiseSeparableConv(layers.Layer):\n",
    "    def __init__(self, in_channels, out_channels, kernel_size, stride=1, padding=0):\n",
    "        super(DepthwiseSeparableConv, self).__init__()\n",
    "        self.depthwise = layers.DepthwiseConv2D(kernel_size=kernel_size, padding='same' if padding else 'valid', depth_multiplier=1, strides=stride)\n",
    "        self.pointwise = layers.Conv2D(out_channels, kernel_size=1, strides=1)\n",
    "\n",
    "    def call(self, x):\n",
    "        out = self.depthwise(x)\n",
    "        out = self.pointwise(out)\n",
    "        return out\n",
    "\n",
    "class DepthwiseConv(layers.Layer):\n",
    "    def __init__(self, in_channels, out_channels, kernel_size=3, stride=1, padding=1):\n",
    "        super(DepthwiseConv, self).__init__()\n",
    "        self.depthwise = DepthwiseSeparableConv(in_channels, out_channels, kernel_size, stride, padding)\n",
    "        self.batch_norm = layers.BatchNormalization()\n",
    "        self.silu = layers.Activation('silu')\n",
    "\n",
    "    def call(self, x):\n",
    "        out = self.depthwise(x)\n",
    "        out = self.batch_norm(out)\n",
    "        out = self.silu(out)\n",
    "        return out"
   ]
  },
  {
   "cell_type": "code",
   "execution_count": 225,
   "metadata": {},
   "outputs": [],
   "source": [
    "class Conv(layers.Layer):\n",
    "    def __init__(self, in_channels, out_channels, kernel_size=3, stride=2, padding=1):\n",
    "        super(Conv, self).__init__()\n",
    "        self.conv = layers.Conv2D(out_channels, kernel_size, strides=stride, padding='same')\n",
    "        self.batch_norm = layers.BatchNormalization()\n",
    "        self.silu = layers.Activation('silu')\n",
    "\n",
    "    def call(self, x):\n",
    "        x = self.conv(x)\n",
    "        x = self.batch_norm(x)\n",
    "        return self.silu(x)"
   ]
  },
  {
   "cell_type": "code",
   "execution_count": 226,
   "metadata": {},
   "outputs": [],
   "source": [
    "class Bottleneck(layers.Layer):\n",
    "    def __init__(self, in_out_channels, mid_channels, stride=1):\n",
    "        super(Bottleneck, self).__init__()\n",
    "        self.conv_0 = Conv(in_out_channels, mid_channels, kernel_size=1, stride=stride, padding=0)\n",
    "        self.conv_1 = Conv(mid_channels, mid_channels, kernel_size=3, stride=stride, padding=1)\n",
    "        self.conv_3 = Conv(mid_channels, in_out_channels, kernel_size=1, stride=stride, padding=0)\n",
    "\n",
    "    def call(self, x):\n",
    "        identity = x\n",
    "        out = self.conv_0(x)\n",
    "        out = self.conv_1(out)\n",
    "        out = self.conv_3(out)\n",
    "        out += identity\n",
    "        return out"
   ]
  },
  {
   "cell_type": "code",
   "execution_count": 227,
   "metadata": {},
   "outputs": [],
   "source": [
    "class CSPDenseLayer(layers.Layer):\n",
    "    def __init__(self, in_out_channels, bottleneck_mid_channels, out_channels):\n",
    "        super(CSPDenseLayer, self).__init__()\n",
    "        self.conv_0 = DepthwiseConv(in_out_channels // 2, in_out_channels, stride=1)\n",
    "        self.conv_1 = DepthwiseConv(in_out_channels // 2, in_out_channels, stride=1)\n",
    "        self.bottleneck = Bottleneck(in_out_channels, bottleneck_mid_channels)\n",
    "        self.conv_3 = Conv(in_out_channels * 2, out_channels, stride=1)\n",
    "\n",
    "    def call(self, x):\n",
    "        x1, x2 = tf.split(x, num_or_size_splits=2, axis=-1)\n",
    "        x1 = self.conv_0(x1)\n",
    "        x2 = self.conv_1(x2)\n",
    "        out = self.bottleneck(x1)\n",
    "        out = tf.concat([out, x2], axis=-1)\n",
    "        out = self.conv_3(out)\n",
    "        return out"
   ]
  },
  {
   "cell_type": "code",
   "execution_count": 228,
   "metadata": {},
   "outputs": [],
   "source": [
    "class ChannelAttention(layers.Layer):\n",
    "    def __init__(self, in_channels, reduction_ratio=16, pool_types=['avg', 'max'], kernel_size=7):\n",
    "        super(ChannelAttention, self).__init__()\n",
    "        self.pool_types = pool_types\n",
    "        self.conv = layers.Conv2D(1, kernel_size=kernel_size, strides=1, padding='same', use_bias=False)\n",
    "        self.sigmoid = layers.Activation('sigmoid')\n",
    "\n",
    "    def call(self, x):\n",
    "        pooled_features = []\n",
    "        for pool_type in self.pool_types:\n",
    "            if pool_type == 'avg':\n",
    "                pooled = tf.reduce_mean(x, axis=[1, 2], keepdims=True)\n",
    "            elif pool_type == 'max':\n",
    "                pooled = tf.reduce_max(x, axis=[1, 2], keepdims=True)\n",
    "            pooled_features.append(pooled)\n",
    "        \n",
    "        concat = tf.concat(pooled_features, axis=-1)\n",
    "        attention = self.conv(concat)\n",
    "        attention = self.sigmoid(attention)\n",
    "        return x * attention"
   ]
  },
  {
   "cell_type": "code",
   "execution_count": 229,
   "metadata": {},
   "outputs": [],
   "source": [
    "class SpatialAttention(layers.Layer):\n",
    "    def __init__(self, kernel_size=7):\n",
    "        super(SpatialAttention, self).__init__()\n",
    "        self.conv = layers.Conv2D(1, kernel_size=kernel_size, strides=1, padding='same', use_bias=False)\n",
    "        self.sigmoid = layers.Activation('sigmoid')\n",
    "\n",
    "    def call(self, x):\n",
    "        avg_out = tf.reduce_mean(x, axis=-1, keepdims=True)\n",
    "        max_out = tf.reduce_max(x, axis=-1, keepdims=True)\n",
    "        x = tf.concat([avg_out, max_out], axis=-1)\n",
    "        x = self.conv(x)\n",
    "        return self.sigmoid(x)\n"
   ]
  },
  {
   "cell_type": "code",
   "execution_count": 230,
   "metadata": {},
   "outputs": [],
   "source": [
    "class CBAM(layers.Layer):\n",
    "    def __init__(self, in_channels, reduction_ratio=16, pool_types=['avg', 'max'], kernel_size=7):\n",
    "        super(CBAM, self).__init__()\n",
    "        self.channel_attention = ChannelAttention(in_channels, reduction_ratio, pool_types, kernel_size)\n",
    "        self.spatial_attention = SpatialAttention(kernel_size)\n",
    "\n",
    "    def call(self, x):\n",
    "        x = self.channel_attention(x)\n",
    "        x = self.spatial_attention(x) * x\n",
    "        return x"
   ]
  },
  {
   "cell_type": "code",
   "execution_count": 231,
   "metadata": {},
   "outputs": [],
   "source": [
    "class SPPF(layers.Layer):\n",
    "    def __init__(self, out_channels, kernel_size=3, stride=1, padding='SAME'):\n",
    "        super(SPPF, self).__init__()\n",
    "        self.conv = layers.Conv2D(filters=out_channels, kernel_size=kernel_size, strides=stride, padding=padding)\n",
    "        self.maxpool = layers.MaxPooling2D(pool_size=4, strides=1, padding='SAME')\n",
    "        \n",
    "    def call(self, inputs):\n",
    "        x = self.conv(inputs)\n",
    "        \n",
    "        pool1 = self.maxpool(x)\n",
    "        pool2 = self.maxpool(pool1)\n",
    "        pool3 = self.maxpool(pool2)\n",
    "        \n",
    "        concatenated = tf.concat([x, pool1, pool2, pool3], axis=-1)\n",
    "        return concatenated\n"
   ]
  },
  {
   "cell_type": "code",
   "execution_count": 232,
   "metadata": {},
   "outputs": [],
   "source": [
    "class Upsample(layers.Layer):\n",
    "    def __init__(self, size, interpolation = 'nearest'):\n",
    "        super(Upsample, self).__init__()\n",
    "        self.upsample = layers.UpSampling2D(size=size, interpolation = interpolation)\n",
    "\n",
    "    def call(self, inputs):\n",
    "        return self.upsample(inputs)\n"
   ]
  },
  {
   "cell_type": "code",
   "execution_count": 233,
   "metadata": {},
   "outputs": [],
   "source": [
    "# def BackBone(inputs):\n",
    "#     x = Conv(in_channels=1, out_channels=8, kernel_size=6, stride=2, padding=2)(inputs) # 12, 16\n",
    "#     x = Conv(in_channels=8, out_channels=16, kernel_size=3, stride=1)(x)   # 12, 16\n",
    "#     x = CSPDenseLayer(16, 4, 16)(x)                         \n",
    "#     p3 = CBAM(16)(x)                                         \n",
    "\n",
    "#     x = Conv(in_channels=16, out_channels=32, kernel_size=3, stride=2)(p3)  # 6, 8\n",
    "#     x = CSPDenseLayer(32, 8, 32)(x)\n",
    "#     p4 = CBAM(32)(x)\n",
    "\n",
    "#     x = Conv(in_channels=32, out_channels=32, kernel_size=3, stride=2)(p4)  # 3, 4\n",
    "#     x = CSPDenseLayer(32, 16, 32)(x)\n",
    "#     x = CBAM(32)(x)\n",
    "#     x = SPPF(out_channels = 32, kernel_size = 1, stride = 1)(x)\n",
    "#     p5 = Conv(in_channels = 64, out_channels = 64, kernel_size = 1, stride= 1)(x) \n",
    "\n",
    "#     return p3, p4, p5\n"
   ]
  },
  {
   "cell_type": "code",
   "execution_count": 234,
   "metadata": {},
   "outputs": [],
   "source": [
    "import tensorflow as tf\n",
    "from tensorflow.keras import layers, models\n",
    "\n",
    "class BackBone(tf.keras.layers.Layer):\n",
    "    def __init__(self):\n",
    "        super(BackBone, self).__init__()\n",
    "        # Define layers here\n",
    "        self.conv1 = Conv(in_channels=1, out_channels=8, kernel_size=6, stride=2, padding=2)\n",
    "        self.conv2 = Conv(in_channels=8, out_channels=16, kernel_size=3, stride=1)\n",
    "        # Assume CSPDenseLayer and CBAM are implemented\n",
    "        self.csp1 = CSPDenseLayer(16, 4, 16)\n",
    "        self.cbam1 = CBAM(16)\n",
    "        self.conv3 = Conv(in_channels=16, out_channels=32, kernel_size=3, stride=2)\n",
    "        self.csp2 = CSPDenseLayer(32, 8, 32)\n",
    "        self.cbam2 = CBAM(32)\n",
    "        self.conv4 = Conv(in_channels=32, out_channels=32, kernel_size=3, stride=2)\n",
    "        self.csp3 = CSPDenseLayer(32, 16, 32)\n",
    "        self.cbam3 = CBAM(32)\n",
    "        # Assume SPPF is implemented\n",
    "        self.sppf = SPPF(out_channels=32, kernel_size=1, stride=1)\n",
    "        self.conv5 = Conv(in_channels = 64, out_channels = 64, kernel_size = 1, stride= 1)\n",
    "        \n",
    "    def call(self, inputs):\n",
    "        x = self.conv1(inputs)\n",
    "        x = self.conv2(x)\n",
    "        x = self.csp1(x)\n",
    "        p3 = self.cbam1(x)\n",
    "\n",
    "        x = self.conv3(p3)\n",
    "        x = self.csp2(x)\n",
    "        p4 = self.cbam2(x)\n",
    "\n",
    "        x = self.conv4(p4)\n",
    "        x = self.csp3(x)\n",
    "        x = self.cbam3(x)\n",
    "        x = self.sppf(x)\n",
    "        p5 = self.conv5(x)\n",
    "\n",
    "        return p3, p4, p5\n"
   ]
  },
  {
   "cell_type": "code",
   "execution_count": 235,
   "metadata": {},
   "outputs": [],
   "source": [
    "class NeckLayer(tf.keras.layers.Layer):\n",
    "    def __init__(self):\n",
    "        super(NeckLayer, self).__init__()\n",
    "        self.conv_c10 = Conv(in_channels=32, out_channels=32, kernel_size=1, stride=1)\n",
    "        self.upsample1 = Upsample(size=(2, 2))\n",
    "        self.conv_c14 = Conv(in_channels=16, out_channels=16, kernel_size=1, stride=1)\n",
    "        self.upsample2 = Upsample(size=(2, 2))\n",
    "\n",
    "    def call(self, p3, p4, p5):\n",
    "        c10 = self.conv_c10(p5)\n",
    "        x = self.upsample1(c10)\n",
    "        x = layers.concatenate([x, p4])\n",
    "        x = CSPDenseLayer(32, 8, 32)(x)\n",
    "        c14 = self.conv_c14(x)\n",
    "        x = self.upsample2(c14)\n",
    "        x = layers.concatenate([x, p3])\n",
    "        return x, c10, c14"
   ]
  },
  {
   "cell_type": "code",
   "execution_count": 236,
   "metadata": {},
   "outputs": [],
   "source": [
    "# def Neck(p3, p4, p5):\n",
    "#     c10 = Conv(in_channels = 32, out_channels = 32, kernel_size = 1, stride= 1)(p5) \n",
    "#     x = Upsample(size=(2, 2))(c10)  # 6, 8\n",
    "#     x = layers.concatenate([x, p4])\n",
    "#     x = CSPDenseLayer(32, 8, 32)(x)\n",
    "\n",
    "#     c14 = Conv(in_channels = 16, out_channels = 16, kernel_size = 1, stride= 1)(x) \n",
    "#     x = Upsample(size=(2, 2))(c14) # 12, 16\n",
    "#     x = layers.concatenate([x, p3])\n",
    "\n",
    "#     return x, c10, c14"
   ]
  },
  {
   "cell_type": "code",
   "execution_count": 237,
   "metadata": {},
   "outputs": [],
   "source": [
    "class HeadLayer(tf.keras.layers.Layer):\n",
    "    def __init__(self):\n",
    "        super(HeadLayer, self).__init__()\n",
    "        self.csp_dense1 = CSPDenseLayer(32, 8, 32)\n",
    "        self.conv1 = Conv(in_channels=32, out_channels=32, kernel_size=3, stride=2)\n",
    "        # c14와의 concatenate는 call 메서드에서 처리\n",
    "        self.csp_dense2 = CSPDenseLayer(32, 8, 32)\n",
    "        self.conv2 = Conv(in_channels=32, out_channels=32, kernel_size=3, stride=2)\n",
    "        # c10와의 concatenate는 call 메서드에서 처리\n",
    "        self.csp_dense3 = CSPDenseLayer(32, 8, 32)\n",
    "\n",
    "    def call(self, x, c10, c14):\n",
    "        out1 = self.csp_dense1(x)\n",
    "        x = self.conv1(out1)\n",
    "        x = layers.concatenate([x, c14])\n",
    "        out2 = self.csp_dense2(x)\n",
    "        x = self.conv2(out2)\n",
    "        x = layers.concatenate([x, c10])\n",
    "        out3 = self.csp_dense3(x)\n",
    "        return out1, out2, out3\n"
   ]
  },
  {
   "cell_type": "code",
   "execution_count": 238,
   "metadata": {},
   "outputs": [],
   "source": [
    "# def Head(x, c10, c14):\n",
    "#     out1 = CSPDenseLayer(16, 4, 16)(x)\n",
    "#     x = Conv(in_channels=16, out_channels=16, kernel_size = 3, stride = 2)(out1)\n",
    "#     x = layers.concatenate([x, c14])\n",
    "#     out2 = CSPDenseLayer(16, 4, 16)(x)\n",
    "\n",
    "#     x = Conv(in_channels=32, out_channels=32, kernel_size = 3, stride = 2)(out2) \n",
    "#     x = layers.concatenate([x, c10])\n",
    "#     out3 = CSPDenseLayer(64, 16, 64)(x)\n",
    "\n",
    "#     return out1, out2, out3"
   ]
  },
  {
   "cell_type": "code",
   "execution_count": 256,
   "metadata": {},
   "outputs": [],
   "source": [
    "class CustomModel(tf.keras.Model):\n",
    "    def __init__(self, num_classes=1, num_anchors_per_location=9):\n",
    "        super(CustomModel, self).__init__()\n",
    "        self.backbone = BackBone()\n",
    "        self.neck = NeckLayer()\n",
    "        self.head = HeadLayer()\n",
    "        self.num_classes = num_classes\n",
    "        # 각 위치(픽셀)에서 예측해야 하는 앵커 박스의 수\n",
    "        self.num_anchors_per_location = num_anchors_per_location\n",
    "\n",
    "        # 분류 및 회귀 헤드를 위한 레이어 분리\n",
    "        self.classification_head = layers.Conv2D(self.num_anchors_per_location * num_classes, 3, padding=\"same\")\n",
    "        self.regression_head = layers.Conv2D(self.num_anchors_per_location * 4, 3, padding=\"same\")\n",
    "\n",
    "    def call(self, inputs):\n",
    "        p3, p4, p5 = self.backbone(inputs)\n",
    "        x, c10, c14 = self.neck(p3, p4, p5)\n",
    "        out1, out2, out3 = self.head(x, c10, c14)\n",
    "\n",
    "        cls_outputs = []\n",
    "        reg_outputs = []\n",
    "\n",
    "        for feature in [out1, out2, out3]:\n",
    "            print(feature.shape)\n",
    "            # 첫 번째 feature 맵 (None, 12, 16, 32)의 경우: 12x16 위치 각각에 9개의 앵커 박스 = 12x16x9 = 1728\n",
    "            # 두 번째 feature 맵 (None, 6, 8, 32)의 경우: 6x8 위치 각각에 9개의 앵커 박스 = 6x8x9 = 432\n",
    "            # 세 번째 feature 맵 (None, 3, 4, 32)의 경우: 3x4 위치 각각에 9개의 앵커 박스 = 3x4x9 = 108\n",
    "            cls_output = self.classification_head(feature)\n",
    "            print(\"cls_output: \", cls_output)\n",
    "            reg_output = self.regression_head(feature)\n",
    "            print(\"reg_output: \", reg_output)\n",
    "            # 각 특징 맵의 크기에 따라 동적으로 reshape\n",
    "            height, width = feature.shape[1], feature.shape[2]\n",
    "            reg_output = tf.reshape(reg_output, [-1, height * width * self.num_anchors_per_location, 4])\n",
    "            \n",
    "            cls_output = tf.reshape(cls_output, [-1, height * width * self.num_anchors_per_location, self.num_classes])\n",
    "            cls_output = tf.nn.softmax(cls_output) \n",
    "            \n",
    "            print(\"reshaped cls_output: \", cls_output)\n",
    "            print(\"reshaped reg_output: \", reg_output)\n",
    "            \n",
    "            reg_outputs.append(reg_output)\n",
    "            cls_outputs.append(cls_output)\n",
    "\n",
    "        # 결과 결합\n",
    "        cls_outputs = tf.concat(cls_outputs, axis=1)\n",
    "        reg_outputs = tf.concat(reg_outputs, axis=1)\n",
    "        # 최종 출력\n",
    "        final_output = tf.concat([cls_outputs, reg_outputs], axis=-1)\n",
    "        print(\"final_output.shape: \", final_output.shape)\n",
    "        return final_output\n"
   ]
  },
  {
   "cell_type": "code",
   "execution_count": 257,
   "metadata": {},
   "outputs": [
    {
     "name": "stdout",
     "output_type": "stream",
     "text": [
      "(None, 12, 16, 32)\n",
      "cls_output:  Tensor(\"conv2d_574/BiasAdd:0\", shape=(None, 12, 16, 9), dtype=float32)\n",
      "reg_output:  Tensor(\"conv2d_575/BiasAdd:0\", shape=(None, 12, 16, 36), dtype=float32)\n",
      "reshaped cls_output:  Tensor(\"Softmax:0\", shape=(None, 1728, 1), dtype=float32)\n",
      "reshaped reg_output:  Tensor(\"Reshape:0\", shape=(None, 1728, 4), dtype=float32)\n",
      "(None, 6, 8, 32)\n",
      "cls_output:  Tensor(\"conv2d_574/BiasAdd_1:0\", shape=(None, 6, 8, 9), dtype=float32)\n",
      "reg_output:  Tensor(\"conv2d_575/BiasAdd_1:0\", shape=(None, 6, 8, 36), dtype=float32)\n",
      "reshaped cls_output:  Tensor(\"Softmax_1:0\", shape=(None, 432, 1), dtype=float32)\n",
      "reshaped reg_output:  Tensor(\"Reshape_2:0\", shape=(None, 432, 4), dtype=float32)\n",
      "(None, 3, 4, 32)\n",
      "cls_output:  Tensor(\"conv2d_574/BiasAdd_2:0\", shape=(None, 3, 4, 9), dtype=float32)\n",
      "reg_output:  Tensor(\"conv2d_575/BiasAdd_2:0\", shape=(None, 3, 4, 36), dtype=float32)\n",
      "reshaped cls_output:  Tensor(\"Softmax_2:0\", shape=(None, 108, 1), dtype=float32)\n",
      "reshaped reg_output:  Tensor(\"Reshape_4:0\", shape=(None, 108, 4), dtype=float32)\n",
      "final_output.shape:  (None, 2268, 5)\n",
      "Model: \"custom_model_8\"\n",
      "_________________________________________________________________\n",
      " Layer (type)                Output Shape              Param #   \n",
      "=================================================================\n",
      " back_bone_11 (BackBone)     multiple                  84550     \n",
      "                                                                 \n",
      " neck_layer_8 (NeckLayer)    multiple                  2800      \n",
      "                                                                 \n",
      " head_layer_8 (HeadLayer)    multiple                  85520     \n",
      "                                                                 \n",
      " conv2d_574 (Conv2D)         multiple                  2601      \n",
      "                                                                 \n",
      " conv2d_575 (Conv2D)         multiple                  10404     \n",
      "                                                                 \n",
      "=================================================================\n",
      "Total params: 185875 (726.07 KB)\n",
      "Trainable params: 183731 (717.70 KB)\n",
      "Non-trainable params: 2144 (8.38 KB)\n",
      "_________________________________________________________________\n"
     ]
    }
   ],
   "source": [
    "model = CustomModel(num_classes=1)\n",
    "model.build(input_shape=(None, 24, 32, 1))\n",
    "model.summary()"
   ]
  },
  {
   "cell_type": "code",
   "execution_count": 241,
   "metadata": {},
   "outputs": [
    {
     "ename": "SyntaxError",
     "evalue": "invalid syntax (3888922174.py, line 1)",
     "output_type": "error",
     "traceback": [
      "\u001b[0;36m  Cell \u001b[0;32mIn[241], line 1\u001b[0;36m\u001b[0m\n\u001b[0;31m    q!\u001b[0m\n\u001b[0m     ^\u001b[0m\n\u001b[0;31mSyntaxError\u001b[0m\u001b[0;31m:\u001b[0m invalid syntax\n"
     ]
    }
   ],
   "source": [
    "q!"
   ]
  },
  {
   "cell_type": "code",
   "execution_count": null,
   "metadata": {},
   "outputs": [],
   "source": [
    "import tensorflow as tf\n",
    "from keras.callbacks import ModelCheckpoint\n",
    "\n",
    "model = BackBone()\n",
    "# model = backbone()\n",
    "\n",
    "initial_learning_rate = LR\n",
    "lr_schedule = tf.keras.optimizers.schedules.ExponentialDecay(\n",
    "    initial_learning_rate,\n",
    "    decay_steps=5000,\n",
    "    decay_rate=0.90,\n",
    "    staircase=True)\n",
    "\n",
    "lr_reducer = tf.keras.callbacks.ReduceLROnPlateau(\n",
    "    monitor='val_loss',\n",
    "    factor=0.1,\n",
    "    patience=3,\n",
    "    min_lr=1e-6,\n",
    "    verbose=1)"
   ]
  },
  {
   "cell_type": "code",
   "execution_count": null,
   "metadata": {},
   "outputs": [],
   "source": []
  },
  {
   "cell_type": "code",
   "execution_count": null,
   "metadata": {},
   "outputs": [
    {
     "ename": "AttributeError",
     "evalue": "'BackBone' object has no attribute 'compile'",
     "output_type": "error",
     "traceback": [
      "\u001b[0;31m---------------------------------------------------------------------------\u001b[0m",
      "\u001b[0;31mAttributeError\u001b[0m                            Traceback (most recent call last)",
      "Cell \u001b[0;32mIn[182], line 2\u001b[0m\n\u001b[1;32m      1\u001b[0m optimizer \u001b[38;5;241m=\u001b[39m tf\u001b[38;5;241m.\u001b[39mkeras\u001b[38;5;241m.\u001b[39moptimizers\u001b[38;5;241m.\u001b[39mAdam(learning_rate\u001b[38;5;241m=\u001b[39mlr_schedule)\n\u001b[0;32m----> 2\u001b[0m \u001b[43mmodel\u001b[49m\u001b[38;5;241;43m.\u001b[39;49m\u001b[43mcompile\u001b[49m(optimizer\u001b[38;5;241m=\u001b[39moptimizer, loss\u001b[38;5;241m=\u001b[39m[\u001b[38;5;124m'\u001b[39m\u001b[38;5;124mcategorical_crossentropy\u001b[39m\u001b[38;5;124m'\u001b[39m], metrics\u001b[38;5;241m=\u001b[39m[\u001b[38;5;124m'\u001b[39m\u001b[38;5;124maccuracy\u001b[39m\u001b[38;5;124m'\u001b[39m, tf\u001b[38;5;241m.\u001b[39mkeras\u001b[38;5;241m.\u001b[39mmetrics\u001b[38;5;241m.\u001b[39mPrecision(), tf\u001b[38;5;241m.\u001b[39mkeras\u001b[38;5;241m.\u001b[39mmetrics\u001b[38;5;241m.\u001b[39mRecall()])\n\u001b[1;32m      4\u001b[0m checkpoint \u001b[38;5;241m=\u001b[39m ModelCheckpoint(\u001b[38;5;124m'\u001b[39m\u001b[38;5;124mClassification/Model/model.h5\u001b[39m\u001b[38;5;124m'\u001b[39m, monitor\u001b[38;5;241m=\u001b[39m\u001b[38;5;124m'\u001b[39m\u001b[38;5;124mval_accuracy\u001b[39m\u001b[38;5;124m'\u001b[39m, verbose\u001b[38;5;241m=\u001b[39m\u001b[38;5;241m1\u001b[39m, save_best_only\u001b[38;5;241m=\u001b[39m\u001b[38;5;28;01mTrue\u001b[39;00m, mode\u001b[38;5;241m=\u001b[39m\u001b[38;5;124m'\u001b[39m\u001b[38;5;124mmax\u001b[39m\u001b[38;5;124m'\u001b[39m)\n",
      "\u001b[0;31mAttributeError\u001b[0m: 'BackBone' object has no attribute 'compile'"
     ]
    }
   ],
   "source": [
    "optimizer = tf.keras.optimizers.Adam(learning_rate=lr_schedule)\n",
    "model.compile(optimizer=optimizer, loss=['categorical_crossentropy'], metrics=['accuracy', tf.keras.metrics.Precision(), tf.keras.metrics.Recall()])\n",
    "\n",
    "checkpoint = ModelCheckpoint('Classification/Model/model.h5', monitor='val_accuracy', verbose=1, save_best_only=True, mode='max')"
   ]
  },
  {
   "cell_type": "code",
   "execution_count": null,
   "metadata": {},
   "outputs": [],
   "source": [
    "# from tensorflow.keras.callbacks import TensorBoard\n",
    "\n",
    "# log_dir = DIR\n",
    "# tensorboard_callback = TensorBoard(log_dir=log_dir, histogram_freq=1)"
   ]
  },
  {
   "cell_type": "code",
   "execution_count": null,
   "metadata": {},
   "outputs": [],
   "source": [
    "model.build(input_shape=(1, 24, 32, 1))"
   ]
  },
  {
   "cell_type": "code",
   "execution_count": null,
   "metadata": {},
   "outputs": [],
   "source": [
    "model.summary()"
   ]
  },
  {
   "cell_type": "code",
   "execution_count": null,
   "metadata": {},
   "outputs": [],
   "source": [
    "hist = model.fit(\n",
    "    train_dataset,\n",
    "    validation_data=val_dataset,\n",
    "    epochs=N_EPOCH,\n",
    "    verbose=1,  \n",
    "    callbacks=[checkpoint]\n",
    "    # callbacks=[checkpoint, lr_reducer]\n",
    ")\n"
   ]
  },
  {
   "cell_type": "code",
   "execution_count": null,
   "metadata": {},
   "outputs": [],
   "source": [
    "val_acc = model.evaluate(val_dataset) \n",
    "\n",
    "print(f\"Validation Accuracy: {val_acc[1] * 100:.2f}%\")"
   ]
  },
  {
   "cell_type": "code",
   "execution_count": null,
   "metadata": {},
   "outputs": [],
   "source": [
    "import matplotlib.pyplot as plt\n",
    "\n",
    "for images, labels in val_dataset.take(1):  # Take a single batch from the validation dataset\n",
    "    predictions = model.predict(images)\n",
    "    predicted_classes = tf.argmax(predictions, axis=1)\n",
    "    \n",
    "    for img, label, predicted in zip(images, labels, predicted_classes):\n",
    "        plt.imshow(img.numpy().squeeze(), cmap='gray')  # Assuming grayscale images\n",
    "        plt.title(f\"Actual: {np.argmax(label)}, Predicted: {predicted.numpy()}\")\n",
    "        plt.show()\n",
    "\n"
   ]
  },
  {
   "cell_type": "code",
   "execution_count": null,
   "metadata": {},
   "outputs": [],
   "source": [
    "from tensorflow import keras\n",
    "custom_objects = {\n",
    "    'Conv': Conv,\n",
    "    'DepthwiseSeparableConv': DepthwiseSeparableConv,\n",
    "    'DepthwiseConv': DepthwiseConv,\n",
    "    'Bottleneck': Bottleneck,\n",
    "    'CSPDenseLayer': CSPDenseLayer,\n",
    "    'CBAM': CBAM,\n",
    "    'SPPF': SPPF,\n",
    "}\n",
    "\n",
    "model = keras.models.load_model('Classification/Model/model.h5', custom_objects=custom_objects, compile=False)\n",
    "\n",
    "export_path = 'Classification/Model/model.pb'\n",
    "model.save(export_path, save_format=\"tf\")"
   ]
  },
  {
   "cell_type": "code",
   "execution_count": null,
   "metadata": {},
   "outputs": [],
   "source": [
    "import tensorflow as tf\n",
    "\n",
    "saved_model_dir = 'Classification/Model/model.pb'\n",
    "converter = tf.lite.TFLiteConverter.from_saved_model(saved_model_dir)\n",
    "converter.target_spec.supported_ops = [tf.lite.OpsSet.TFLITE_BUILTINS,\n",
    "                                       tf.lite.OpsSet.SELECT_TF_OPS]\n",
    "tflite_model = converter.convert()\n",
    "open('Classification/Model/model.tflite', 'wb').write(tflite_model)"
   ]
  },
  {
   "cell_type": "code",
   "execution_count": null,
   "metadata": {},
   "outputs": [],
   "source": [
    "import numpy as np\n",
    "import tensorflow as tf\n",
    "\n",
    "\n",
    "tflite_model_file = 'Classification/Model/model_conv.tflite'\n",
    "\n",
    "interpreter = tf.lite.Interpreter(model_path=tflite_model_file)\n",
    "interpreter.allocate_tensors()\n",
    "\n",
    "\n",
    "total_weights = 0\n",
    "for tensor_details in interpreter.get_tensor_details():\n",
    "\n",
    "    total_weights += np.prod(tensor_details['shape'])\n",
    "\n",
    "print(f'Total weights in the model: {total_weights}')\n"
   ]
  },
  {
   "cell_type": "code",
   "execution_count": null,
   "metadata": {},
   "outputs": [],
   "source": [
    "# def BackBone():\n",
    "#     input_layer = tf.keras.Input(shape=(24, 32, 1))\n",
    "\n",
    "#     x = Conv(in_channels=1, out_channels=8, kernel_size=6, stride=2, padding=2)(input_layer) # 12, 16\n",
    "#     x = Conv(in_channels=8, out_channels=16, kernel_size=3, stride=1)(x)   # 12, 16\n",
    "#     x = CSPDenseLayer(16, 4, 16)(x)                         \n",
    "#     p3 = CBAM(16)(x)                                         \n",
    "\n",
    "#     x = Conv(in_channels=16, out_channels=32, kernel_size=3, stride=2)(p3)  # 6, 8\n",
    "#     x = CSPDenseLayer(32, 8, 32)(x)\n",
    "#     p4 = CBAM(32)(x)\n",
    "\n",
    "#     x = Conv(in_channels=32, out_channels=32, kernel_size=3, stride=2)(p4)  # 3, 4\n",
    "#     x = CSPDenseLayer(32, 16, 32)(x)\n",
    "#     x = CBAM(32)(x)\n",
    "#     x = SPPF(out_channels = 32, kernel_size = 1, stride = 1)(x)\n",
    "#     p5 = Conv(in_channels = 64, out_channels = 64, kernel_size = 1, stride= 1)(x) \n",
    "\n",
    "#     c_10 = Conv(in_channels = 32, out_channels = 32, kernel_size = 1, stride= 1)(p5) \n",
    "#     x = Upsample(size=(2, 2))(c_10)  # 6, 8\n",
    "#     x = layers.concatenate([x, p4])\n",
    "#     x = CSPDenseLayer(32, 8, 32)(x)\n",
    "\n",
    "#     c_14 = Conv(in_channels = 16, out_channels = 16, kernel_size = 1, stride= 1)(x) \n",
    "#     x = Upsample(size=(2, 2))(c_14) # 12, 16\n",
    "#     x = layers.concatenate([x, p3])\n",
    "#     out1 = CSPDenseLayer(16, 4, 16)(x)\n",
    "    \n",
    "#     x = Conv(in_channels=16, out_channels=16, kernel_size = 3, stride = 2)(out1)\n",
    "#     x = layers.concatenate([x, c_14])\n",
    "#     out2 = CSPDenseLayer(16, 4, 16)(x)\n",
    "\n",
    "#     x = Conv(in_channels=32, out_channels=32, kernel_size = 3, stride = 2)(out2) # 3, 4\n",
    "#     x = layers.concatenate([x, c_10])\n",
    "#     out3 = CSPDenseLayer(64, 16, 64)(x)\n",
    "\n",
    "    # x = layers.GlobalAveragePooling2D()(out3)\n",
    "    # output_layer = layers.Dense(5, activation='softmax')(x)\n",
    "\n",
    "    # # 모델 인스턴스 생성\n",
    "    # model = models.Model(inputs=input_layer, outputs=output_layer)\n",
    "\n",
    "    # return model\n"
   ]
  }
 ],
 "metadata": {
  "kernelspec": {
   "display_name": "ssd",
   "language": "python",
   "name": "python3"
  },
  "language_info": {
   "codemirror_mode": {
    "name": "ipython",
    "version": 3
   },
   "file_extension": ".py",
   "mimetype": "text/x-python",
   "name": "python",
   "nbconvert_exporter": "python",
   "pygments_lexer": "ipython3",
   "version": "3.9.0"
  }
 },
 "nbformat": 4,
 "nbformat_minor": 2
}
