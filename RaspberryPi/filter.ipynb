{
 "cells": [
  {
   "cell_type": "code",
   "execution_count": 1,
   "metadata": {},
   "outputs": [
    {
     "name": "stderr",
     "output_type": "stream",
     "text": [
      "2024-01-30 13:08:35.097468: I tensorflow/core/util/port.cc:110] oneDNN custom operations are on. You may see slightly different numerical results due to floating-point round-off errors from different computation orders. To turn them off, set the environment variable `TF_ENABLE_ONEDNN_OPTS=0`.\n",
      "2024-01-30 13:08:35.138376: I tensorflow/core/platform/cpu_feature_guard.cc:182] This TensorFlow binary is optimized to use available CPU instructions in performance-critical operations.\n",
      "To enable the following instructions: AVX2 AVX512F AVX512_VNNI FMA, in other operations, rebuild TensorFlow with the appropriate compiler flags.\n",
      "2024-01-30 13:08:35.926194: W tensorflow/compiler/tf2tensorrt/utils/py_utils.cc:38] TF-TRT Warning: Could not find TensorRT\n"
     ]
    }
   ],
   "source": [
    "import tensorflow as tf\n",
    "from tensorflow import keras \n",
    "import os\n",
    "import numpy as np\n",
    "import matplotlib.pyplot as plt\n",
    "import seaborn as sns\n",
    "import warnings \n",
    "from IPython.display import Image\n",
    "\n",
    "warnings.filterwarnings('ignore')\n",
    "%matplotlib inline\n",
    "\n",
    "DIR = 'Filter_Model/'\n",
    "\n",
    "AUTOTUNE = tf.data.AUTOTUNE\n",
    "\n",
    "RES_HEIGHT = 24\n",
    "RES_WIDTH = 32\n",
    "NUM_CLASS = 5\n",
    "N_BATCH =8\n",
    "N_EPOCH = 100\n",
    "LR = 0.0005"
   ]
  },
  {
   "cell_type": "code",
   "execution_count": 2,
   "metadata": {},
   "outputs": [
    {
     "name": "stdout",
     "output_type": "stream",
     "text": [
      "(13276, 24, 32)\n",
      "(13276, 24, 32)\n",
      "(13276,)\n",
      "(13276, 4, 8)\n"
     ]
    }
   ],
   "source": [
    "dataset1_origin = np.load('npz/dataset1_origin.npz', allow_pickle=True)\n",
    "dataset1_horizon = np.load('npz/dataset1_horizon.npz', allow_pickle=True)\n",
    "dataset1_vertical = np.load('npz/dataset1_vertical.npz', allow_pickle=True)\n",
    "dataset1_vh = np.load('npz/dataset1_vh.npz', allow_pickle=True)\n",
    "dataset2_origin = np.load('npz/dataset2_origin.npz', allow_pickle=True)\n",
    "dataset2_horizon = np.load('npz/dataset2_horizon.npz', allow_pickle=True)\n",
    "dataset2_vertical = np.load('npz/dataset2_vertical.npz', allow_pickle=True)\n",
    "dataset2_vh = np.load('npz/dataset2_vh.npz', allow_pickle=True)\n",
    "\n",
    "d1o_origin_images, d1o_target_images, d1o_number_labels, d1o_coordinates = dataset1_origin['images'], dataset1_origin['filters'], dataset1_origin['numbers'],  dataset1_origin['coordinates']\n",
    "d1h_origin_images, d1h_target_images, d1h_number_labels, d1h_coordinates = dataset1_horizon['images'], dataset1_horizon['filters'], dataset1_horizon['numbers'],  dataset1_horizon['coordinates']\n",
    "d1v_origin_images, d1v_target_images, d1v_number_labels, d1v_coordinates = dataset1_vertical['images'], dataset1_vertical['filters'], dataset1_vertical['numbers'],  dataset1_vertical['coordinates']\n",
    "d1vh_origin_images, d1vh_target_images, d1vh_number_labels, d1vh_coordinates = dataset1_vh['images'], dataset1_vh['filters'], dataset1_vh['numbers'],  dataset1_vh['coordinates']\n",
    "d2o_origin_images, d2o_target_images, d2o_number_labels, d2o_coordinates = dataset2_origin['images'], dataset2_origin['filters'], dataset2_origin['numbers'],  dataset2_origin['coordinates']\n",
    "d2h_origin_images, d2h_target_images, d2h_number_labels, d2h_coordinates = dataset2_horizon['images'], dataset2_horizon['filters'], dataset2_horizon['numbers'],  dataset2_horizon['coordinates']\n",
    "d2v_origin_images, d2v_target_images, d2v_number_labels, d2v_coordinates = dataset2_vertical['images'], dataset2_vertical['filters'], dataset2_vertical['numbers'],  dataset2_vertical['coordinates']\n",
    "d2vh_origin_images, d2vh_target_images, d2vh_number_labels, d2vh_coordinates = dataset2_vh['images'], dataset2_vh['filters'], dataset2_vh['numbers'],  dataset2_vh['coordinates']\n",
    "\n",
    "origin_images = np.concatenate([d1o_origin_images, d2o_origin_images, d1h_origin_images, d2h_origin_images, d1v_origin_images, d2v_origin_images, d1vh_origin_images, d2vh_origin_images], axis = 0)\n",
    "target_images = np.concatenate([d1o_target_images, d2o_target_images, d1h_target_images, d2h_target_images, d1v_target_images, d2v_target_images, d1vh_target_images, d2vh_target_images], axis = 0)\n",
    "numbers_labels = np.concatenate([d1o_number_labels, d2o_number_labels, d1h_number_labels, d2h_number_labels, d1v_number_labels, d2v_number_labels, d1vh_number_labels, d2vh_number_labels], axis = 0)\n",
    "coordinates = np.concatenate([d1o_coordinates, d2o_coordinates, d1h_coordinates, d2h_coordinates, d1v_coordinates, d2v_coordinates, d1vh_coordinates, d2vh_coordinates], axis = 0)\n",
    "\n",
    "print(origin_images.shape)\n",
    "print(target_images.shape)\n",
    "print(numbers_labels.shape)\n",
    "print(coordinates.shape)\n"
   ]
  },
  {
   "cell_type": "code",
   "execution_count": 3,
   "metadata": {},
   "outputs": [
    {
     "name": "stdout",
     "output_type": "stream",
     "text": [
      "(13276, 24, 32, 1)\n",
      "(13276, 24, 32, 1)\n"
     ]
    }
   ],
   "source": [
    "origin_images = origin_images.reshape(13276, 24, 32, 1)\n",
    "print(origin_images.shape)\n",
    "target_images = target_images.reshape(13276, 24, 32, 1)\n",
    "print(target_images.shape)"
   ]
  },
  {
   "cell_type": "code",
   "execution_count": 4,
   "metadata": {},
   "outputs": [
    {
     "name": "stdout",
     "output_type": "stream",
     "text": [
      "255 0\n",
      "1.0 0.0\n",
      "(13276, 24, 32, 1)\n",
      "255 0\n",
      "1.0 0.0\n",
      "(13276, 24, 32, 1)\n"
     ]
    }
   ],
   "source": [
    "print(origin_images.max(), origin_images.min())\n",
    "origin_images = origin_images / origin_images.max()\n",
    "print(origin_images.max(), origin_images.min())\n",
    "print(origin_images.shape)\n",
    "\n",
    "\n",
    "print(target_images.max(), target_images.min())\n",
    "target_images = target_images / target_images.max()\n",
    "print(target_images.max(), target_images.min())\n",
    "print(target_images.shape)\n"
   ]
  },
  {
   "cell_type": "code",
   "execution_count": 5,
   "metadata": {},
   "outputs": [],
   "source": [
    "# def resize_and_pad_image(image, target, label, min_side=96, max_side=128):\n",
    "    \n",
    "#     # image_shape = tf.cast(tf.shape(image)[:2], dtype = tf.float32)\n",
    "#     # ratio = min_side / tf.reduce_min(image_shape)\n",
    "#     # if ratio * tf.reduce_max(image_shape) > max_side:\n",
    "#     #   ratio = max_side / tf.reduce_max(image_shape)\n",
    "\n",
    "#     # new_image_shape = ratio * image_shape\n",
    "\n",
    "#     # image = tf.image.resize(image, \n",
    "#     #                         tf.cast(new_image_shape, dtype=tf.int32), \n",
    "#     #                         method=tf.image.ResizeMethod.NEAREST_NEIGHBOR)\n",
    "    \n",
    "#     target_shape = tf.cast(tf.shape(target)[:2], dtype = tf.float32)\n",
    "#     ratio = min_side / tf.reduce_min(target_shape)\n",
    "#     if ratio * tf.reduce_max(target_shape) > max_side:\n",
    "#       ratio = max_side / tf.reduce_max(target_shape)\n",
    "\n",
    "#     new_target_image_shape = ratio * target_shape\n",
    "\n",
    "#     target = tf.image.resize(target, \n",
    "#                             tf.cast(new_target_image_shape, dtype=tf.int32),)\n",
    "#                             # method=tf.image.ResizeMethod.NEAREST_NEIGHBOR)\n",
    "    \n",
    "\n",
    "#     return image, target, label\n"
   ]
  },
  {
   "cell_type": "code",
   "execution_count": 6,
   "metadata": {},
   "outputs": [],
   "source": [
    "# from sklearn.model_selection import train_test_split\n",
    "# train_images, val_images,  train_target, val_target, train_labels, val_labels = train_test_split(\n",
    "#     origin_images, target_images, numbers_labels, test_size=0.3, random_state=42\n",
    "# )"
   ]
  },
  {
   "cell_type": "code",
   "execution_count": 7,
   "metadata": {},
   "outputs": [],
   "source": [
    "def one_hot_encode(image, target, label):\n",
    "    label = tf.one_hot(label, depth=NUM_CLASS)\n",
    "    return image, target, label"
   ]
  },
  {
   "cell_type": "code",
   "execution_count": 8,
   "metadata": {},
   "outputs": [
    {
     "name": "stderr",
     "output_type": "stream",
     "text": [
      "2024-01-30 13:08:41.922123: I tensorflow/core/common_runtime/gpu/gpu_device.cc:1639] Created device /job:localhost/replica:0/task:0/device:GPU:0 with 22041 MB memory:  -> device: 0, name: NVIDIA GeForce RTX 3090, pci bus id: 0000:1d:00.0, compute capability: 8.6\n",
      "2024-01-30 13:08:41.924187: I tensorflow/core/common_runtime/gpu/gpu_device.cc:1639] Created device /job:localhost/replica:0/task:0/device:GPU:1 with 22292 MB memory:  -> device: 1, name: NVIDIA GeForce RTX 3090, pci bus id: 0000:1f:00.0, compute capability: 8.6\n",
      "2024-01-30 13:08:41.926045: I tensorflow/core/common_runtime/gpu/gpu_device.cc:1639] Created device /job:localhost/replica:0/task:0/device:GPU:2 with 22292 MB memory:  -> device: 2, name: NVIDIA GeForce RTX 3090, pci bus id: 0000:20:00.0, compute capability: 8.6\n",
      "2024-01-30 13:08:41.927883: I tensorflow/core/common_runtime/gpu/gpu_device.cc:1639] Created device /job:localhost/replica:0/task:0/device:GPU:3 with 22292 MB memory:  -> device: 3, name: NVIDIA GeForce RTX 3090, pci bus id: 0000:21:00.0, compute capability: 8.6\n",
      "2024-01-30 13:08:41.929661: I tensorflow/core/common_runtime/gpu/gpu_device.cc:1639] Created device /job:localhost/replica:0/task:0/device:GPU:4 with 22292 MB memory:  -> device: 4, name: NVIDIA GeForce RTX 3090, pci bus id: 0000:22:00.0, compute capability: 8.6\n",
      "2024-01-30 13:08:41.931405: I tensorflow/core/common_runtime/gpu/gpu_device.cc:1639] Created device /job:localhost/replica:0/task:0/device:GPU:5 with 22292 MB memory:  -> device: 5, name: NVIDIA GeForce RTX 3090, pci bus id: 0000:23:00.0, compute capability: 8.6\n",
      "2024-01-30 13:08:41.933216: I tensorflow/core/common_runtime/gpu/gpu_device.cc:1639] Created device /job:localhost/replica:0/task:0/device:GPU:6 with 22292 MB memory:  -> device: 6, name: NVIDIA GeForce RTX 3090, pci bus id: 0000:24:00.0, compute capability: 8.6\n"
     ]
    }
   ],
   "source": [
    "train_ds = tf.data.Dataset.from_tensor_slices((origin_images, target_images, numbers_labels))"
   ]
  },
  {
   "cell_type": "code",
   "execution_count": 9,
   "metadata": {},
   "outputs": [],
   "source": [
    "# train_ds = train_ds.map(resize_and_pad_image)"
   ]
  },
  {
   "cell_type": "code",
   "execution_count": 10,
   "metadata": {},
   "outputs": [
    {
     "data": {
      "image/png": "[encoded data removed]",
      "text/plain": [
       "<Figure size 640x480 with 1 Axes>"
      ]
     },
     "metadata": {},
     "output_type": "display_data"
    },
    {
     "name": "stdout",
     "output_type": "stream",
     "text": [
      "(24, 32, 1)\n",
      "tf.Tensor(0, shape=(), dtype=int64)\n"
     ]
    },
    {
     "data": {
      "image/png": "[encoded data removed]",
      "text/plain": [
       "<Figure size 640x480 with 1 Axes>"
      ]
     },
     "metadata": {},
     "output_type": "display_data"
    },
    {
     "name": "stdout",
     "output_type": "stream",
     "text": [
      "(24, 32, 1)\n"
     ]
    }
   ],
   "source": [
    "for img, target, label in train_ds.take(1):\n",
    "    plt.imshow(img)\n",
    "    plt.show()\n",
    "    print(img.shape)\n",
    "    print(label)\n",
    "    plt.imshow(target)\n",
    "    plt.show()\n",
    "    print(target.shape)\n",
    "    "
   ]
  },
  {
   "cell_type": "code",
   "execution_count": 11,
   "metadata": {},
   "outputs": [],
   "source": [
    "train_ds = train_ds.map(one_hot_encode)"
   ]
  },
  {
   "cell_type": "code",
   "execution_count": 12,
   "metadata": {},
   "outputs": [],
   "source": [
    "train_ds = train_ds.shuffle(buffer_size=len(origin_images)).batch(1).prefetch(buffer_size = AUTOTUNE)"
   ]
  },
  {
   "cell_type": "code",
   "execution_count": null,
   "metadata": {},
   "outputs": [],
   "source": []
  },
  {
   "cell_type": "code",
   "execution_count": 13,
   "metadata": {},
   "outputs": [
    {
     "data": {
      "image/png": "[encoded data removed]",
      "text/plain": [
       "<Figure size 640x480 with 1 Axes>"
      ]
     },
     "metadata": {},
     "output_type": "display_data"
    },
    {
     "name": "stdout",
     "output_type": "stream",
     "text": [
      "(24, 32, 1)\n"
     ]
    },
    {
     "data": {
      "image/png": "[encoded data removed]",
      "text/plain": [
       "<Figure size 640x480 with 1 Axes>"
      ]
     },
     "metadata": {},
     "output_type": "display_data"
    },
    {
     "name": "stdout",
     "output_type": "stream",
     "text": [
      "(24, 32, 1)\n"
     ]
    },
    {
     "data": {
      "image/png": "[encoded data removed]",
      "text/plain": [
       "<Figure size 640x480 with 1 Axes>"
      ]
     },
     "metadata": {},
     "output_type": "display_data"
    },
    {
     "name": "stdout",
     "output_type": "stream",
     "text": [
      "(24, 32, 1)\n"
     ]
    },
    {
     "data": {
      "image/png": "[encoded data removed]",
      "text/plain": [
       "<Figure size 640x480 with 1 Axes>"
      ]
     },
     "metadata": {},
     "output_type": "display_data"
    },
    {
     "name": "stdout",
     "output_type": "stream",
     "text": [
      "(24, 32, 1)\n"
     ]
    },
    {
     "data": {
      "image/png": "[encoded data removed]",
      "text/plain": [
       "<Figure size 640x480 with 1 Axes>"
      ]
     },
     "metadata": {},
     "output_type": "display_data"
    },
    {
     "name": "stdout",
     "output_type": "stream",
     "text": [
      "(24, 32, 1)\n"
     ]
    },
    {
     "data": {
      "image/png": "[encoded data removed]",
      "text/plain": [
       "<Figure size 640x480 with 1 Axes>"
      ]
     },
     "metadata": {},
     "output_type": "display_data"
    },
    {
     "name": "stdout",
     "output_type": "stream",
     "text": [
      "(24, 32, 1)\n"
     ]
    },
    {
     "data": {
      "image/png": "[encoded data removed]",
      "text/plain": [
       "<Figure size 640x480 with 1 Axes>"
      ]
     },
     "metadata": {},
     "output_type": "display_data"
    },
    {
     "name": "stdout",
     "output_type": "stream",
     "text": [
      "(24, 32, 1)\n"
     ]
    },
    {
     "data": {
      "image/png": "[encoded data removed]",
      "text/plain": [
       "<Figure size 640x480 with 1 Axes>"
      ]
     },
     "metadata": {},
     "output_type": "display_data"
    },
    {
     "name": "stdout",
     "output_type": "stream",
     "text": [
      "(24, 32, 1)\n"
     ]
    },
    {
     "data": {
      "image/png": "[encoded data removed]",
      "text/plain": [
       "<Figure size 640x480 with 1 Axes>"
      ]
     },
     "metadata": {},
     "output_type": "display_data"
    },
    {
     "name": "stdout",
     "output_type": "stream",
     "text": [
      "(24, 32, 1)\n"
     ]
    },
    {
     "data": {
      "image/png": "[encoded data removed]",
      "text/plain": [
       "<Figure size 640x480 with 1 Axes>"
      ]
     },
     "metadata": {},
     "output_type": "display_data"
    },
    {
     "name": "stdout",
     "output_type": "stream",
     "text": [
      "(24, 32, 1)\n"
     ]
    }
   ],
   "source": [
    "for images, targets, labels in train_ds.take(5):\n",
    "    plt.imshow(images[0].numpy())\n",
    "    plt.title(str(labels[0].numpy().argmax()))\n",
    "    plt.show()\n",
    "    print(images[0].shape)\n",
    "\n",
    "    plt.imshow(targets[0].numpy())\n",
    "    plt.title(str(labels[0].numpy().argmax()))\n",
    "    plt.show()\n",
    "    print(targets[0].shape)"
   ]
  },
  {
   "cell_type": "markdown",
   "metadata": {},
   "source": []
  },
  {
   "cell_type": "code",
   "execution_count": 14,
   "metadata": {},
   "outputs": [],
   "source": [
    "from keras.layers import Dense, Input, Conv2D, Conv2DTranspose, Flatten, Activation\n",
    "from keras.layers import Input, GlobalAveragePooling2D, Conv2D, ReLU, Reshape, Multiply\n",
    "from keras.layers import BatchNormalization, Dropout, ZeroPadding2D, Concatenate\n",
    "from keras.models import Model\n",
    "from tensorflow.keras.layers import Input, Lambda\n",
    "from keras.layers import ZeroPadding2D, DepthwiseConv2D\n",
    "from keras.regularizers import l2\n",
    "from keras.layers import Add\n",
    "import tensorflow as tf\n",
    "\n",
    "class BackBone(tf.keras.Model):\n",
    "    def __init__(self):\n",
    "        super(BackBone, self).__init__()\n",
    "        self.l2_regularizer = l2(0.001)\n",
    "\n",
    "    def squeeze_excite_block(self, input_tensor, ratio=8):\n",
    "        \"\"\" Squeeze and Excitation block \"\"\"\n",
    "        channels = input_tensor.shape[-1]\n",
    "\n",
    "        x = GlobalAveragePooling2D()(input_tensor)\n",
    "        x = Reshape((1, 1, channels))(x)\n",
    "\n",
    "        x = Conv2D(channels // ratio, (1, 1), padding='same')(x)\n",
    "        x = ReLU()(x)\n",
    "        x = Conv2D(channels, (1, 1), padding='same')(x)\n",
    "        x = tf.keras.activations.sigmoid(x)\n",
    "        out = Multiply()([input_tensor, x])\n",
    "        return out\n",
    "\n",
    "    def residual_layer(self, feature_map, latent, name:str):\n",
    "        \"\"\" Residual block \"\"\"\n",
    "        add_layer = Add(name = name+'_output')([feature_map, latent])\n",
    "        return add_layer\n",
    "\n",
    "    def feature_extraction_block(self, feature_map, filters_conv1:int, filters_conv2:int, name:str):\n",
    "        feature_map = Conv2D(filters=filters_conv1, kernel_size = 3, strides = 1, padding = 'same', \n",
    "                        kernel_regularizer=self.l2_regularizer,\n",
    "                        name = name+'_1')(feature_map)\n",
    "        feature_map = Conv2D(filters=filters_conv1, kernel_size = 3, strides = 1, padding = 'same', \n",
    "                        kernel_regularizer=self.l2_regularizer,\n",
    "                        name = name+'_2')(feature_map)\n",
    "        feature_map = BatchNormalization()(feature_map)\n",
    "        feature_map = Activation('relu')(feature_map)\n",
    "        feature_map = DepthwiseConv2D(kernel_size=3, padding = 'same')(feature_map)\n",
    "        feature_map = BatchNormalization()(feature_map)\n",
    "        feature_map = Dropout(0.3)(feature_map)\n",
    "\n",
    "        feature_map = Conv2D(filters=filters_conv2, kernel_size = 3, strides = 1, padding = 'same', \n",
    "                        kernel_regularizer=self.l2_regularizer,\n",
    "                        name = name+'_3')(feature_map)\n",
    "        feature_map = Conv2D(filters=filters_conv2, kernel_size = 3, strides = 2, padding = 'same', \n",
    "                        kernel_regularizer=self.l2_regularizer,\n",
    "                        name = name+'_4')(feature_map)\n",
    "        feature_map = BatchNormalization()(feature_map)\n",
    "        feature_map = Activation('relu')(feature_map)\n",
    "        feature_map = self.squeeze_excite_block(feature_map)\n",
    "        return feature_map\n",
    "\n",
    "    def convolutional_residual_block(self, feature_map, filters_conv1:int, filters_conv2:int, name:str):\n",
    "        latent = Conv2D(filters=filters_conv1, kernel_size = 3, strides = 1, padding = 'same', \n",
    "                        kernel_regularizer=self.l2_regularizer,\n",
    "                        name = name+'_1')(feature_map)\n",
    "        latent = Conv2D(filters=filters_conv1, kernel_size = 3, strides = 1, padding = 'same', \n",
    "                        kernel_regularizer=self.l2_regularizer,\n",
    "                        name = name+'_2')(feature_map)\n",
    "        latent = BatchNormalization()(latent)\n",
    "        latent = Activation('relu')(latent)\n",
    "        latent = DepthwiseConv2D(kernel_size=3, padding = 'same')(latent)\n",
    "        latent = Dropout(0.3)(latent)\n",
    "\n",
    "        latent = Conv2D(filters=filters_conv2, kernel_size = 3, strides = 1, padding = 'same', \n",
    "                        kernel_regularizer=self.l2_regularizer,\n",
    "                        name = name+'_3')(latent)\n",
    "        latent = Conv2D(filters=filters_conv2, kernel_size = 3, strides = 1, padding = 'same', \n",
    "                        kernel_regularizer=self.l2_regularizer,\n",
    "                        name = name+'_4')(latent)\n",
    "        latent = BatchNormalization()(latent)\n",
    "        latent = Activation('relu')(latent)\n",
    "        residual_block = self.residual_layer(feature_map, latent, name)\n",
    "        return residual_block\n",
    "    \n",
    "    def normalize_image(self, image):\n",
    "        # 입력 이미지의 최대값으로 나누어 정규화\n",
    "        return image / tf.reduce_max(image)\n",
    "\n",
    "\n",
    "    def conditional_normalize(self, image):\n",
    "        # 입력 이미지의 최대값이 1보다 큰 경우에만 정규화 수행\n",
    "        return tf.cond(tf.reduce_max(image) > 1, lambda: self.normalize_image(image), lambda: image)\n",
    "\n",
    "\n",
    "\n",
    "    def __call__(self, input_shape=(24, 32, 1)):\n",
    "        inputs_image = Input(shape=input_shape)\n",
    "\n",
    "        normalized_inputs = Lambda(self.conditional_normalize)(inputs_image)\n",
    "        \n",
    "        upscale_inputs_image = Conv2DTranspose(filters = 4, kernel_size = 3, strides = 4,\n",
    "\t\t\t\t\t\tpadding = 'same')(normalized_inputs)\n",
    "        upscale_inputs_image = Activation('relu')(upscale_inputs_image)\n",
    "        upscale_inputs_image = BatchNormalization()(upscale_inputs_image)\n",
    "        block_1 = self.feature_extraction_block(inputs_image, 8, 16, 'block_1')\n",
    "        block_1_output = self.convolutional_residual_block(block_1, 8, 16,'block_2')\n",
    "        block_2 = self.feature_extraction_block(block_1_output, 8, 16, 'block_3')\n",
    "        block_2_output = self.convolutional_residual_block(block_2, 8, 16, 'block_4')\n",
    "        block_3 = self.feature_extraction_block(block_2_output, 8, 16, 'block_5')\n",
    "        block_3_output = self.convolutional_residual_block(block_3, 8, 16, 'block_6')\n",
    "        # block_4 = self.feature_extraction_block(block_3_output, 8, 16, 'block_7')\n",
    "        # block_4_output = self.convolutional_residual_block(block_4, 8, 16, 'block_8')\n",
    "\n",
    "        latent = GlobalAveragePooling2D()(block_3_output)\n",
    "        # number_dense = Dense(32, activation='relu')(latent)\n",
    "        number_output = Dense(5, activation='softmax', name='number_output', dtype='float32')(latent)\n",
    "        \n",
    "        flatten = Flatten()(block_3_output)\n",
    "        latent_vector = Dense(units = 16)(flatten)\n",
    "        latent_vector = Dense(3 * 4 * 16)(latent_vector)\n",
    "        latent_vector = Reshape(target_shape = (3, 4, 16))(latent_vector)\n",
    "        \n",
    "        filtered_image = Conv2DTranspose(filters = 8, kernel_size = 3, strides = 2,\n",
    "\t\t\t\t\t\tpadding = 'same')(latent_vector)\n",
    "        filtered_image = Concatenate()([filtered_image, block_2_output])\n",
    "\n",
    "        filtered_image = Conv2DTranspose(filters = 8, kernel_size = 3, strides = 2,\n",
    "\t\t\t\t\t    padding = 'same')(filtered_image)\n",
    "        filtered_image = Concatenate()([filtered_image, block_1_output])\n",
    "\n",
    "        filtered_image = Activation('relu')(filtered_image)\n",
    "        filtered_image = BatchNormalization()(filtered_image)\n",
    "        filtered_image = Conv2DTranspose(filters = 8, kernel_size = 3, strides = 2,\n",
    "\t\t\t\t\t\tpadding = 'same')(filtered_image)\n",
    "        filtered_image = Concatenate()([filtered_image, inputs_image])\n",
    "        filtered_image_outputs = Conv2DTranspose(filters = 1, kernel_size = 3, strides = 1,\n",
    "\t\t\t\t\t\tpadding = 'same', activation = 'sigmoid', name = 'filtered_image_outputs')(filtered_image)\n",
    "        \n",
    "    \n",
    "\n",
    "\n",
    "        model = Model(inputs = inputs_image, outputs = (filtered_image_outputs, number_output))\n",
    "        return model"
   ]
  },
  {
   "cell_type": "code",
   "execution_count": 15,
   "metadata": {},
   "outputs": [
    {
     "name": "stdout",
     "output_type": "stream",
     "text": [
      "Model: \"model\"\n",
      "__________________________________________________________________________________________________\n",
      " Layer (type)                Output Shape                 Param #   Connected to                  \n",
      "==================================================================================================\n",
      " input_1 (InputLayer)        [(None, 24, 32, 1)]          0         []                            \n",
      "                                                                                                  \n",
      " block_1_1 (Conv2D)          (None, 24, 32, 8)            80        ['input_1[0][0]']             \n",
      "                                                                                                  \n",
      " block_1_2 (Conv2D)          (None, 24, 32, 8)            584       ['block_1_1[0][0]']           \n",
      "                                                                                                  \n",
      " batch_normalization_1 (Bat  (None, 24, 32, 8)            32        ['block_1_2[0][0]']           \n",
      " chNormalization)                                                                                 \n",
      "                                                                                                  \n",
      " activation_1 (Activation)   (None, 24, 32, 8)            0         ['batch_normalization_1[0][0]'\n",
      "                                                                    ]                             \n",
      "                                                                                                  \n",
      " depthwise_conv2d (Depthwis  (None, 24, 32, 8)            80        ['activation_1[0][0]']        \n",
      " eConv2D)                                                                                         \n",
      "                                                                                                  \n",
      " batch_normalization_2 (Bat  (None, 24, 32, 8)            32        ['depthwise_conv2d[0][0]']    \n",
      " chNormalization)                                                                                 \n",
      "                                                                                                  \n",
      " dropout (Dropout)           (None, 24, 32, 8)            0         ['batch_normalization_2[0][0]'\n",
      "                                                                    ]                             \n",
      "                                                                                                  \n",
      " block_1_3 (Conv2D)          (None, 24, 32, 16)           1168      ['dropout[0][0]']             \n",
      "                                                                                                  \n",
      " block_1_4 (Conv2D)          (None, 12, 16, 16)           2320      ['block_1_3[0][0]']           \n",
      "                                                                                                  \n",
      " batch_normalization_3 (Bat  (None, 12, 16, 16)           64        ['block_1_4[0][0]']           \n",
      " chNormalization)                                                                                 \n",
      "                                                                                                  \n",
      " activation_2 (Activation)   (None, 12, 16, 16)           0         ['batch_normalization_3[0][0]'\n",
      "                                                                    ]                             \n",
      "                                                                                                  \n",
      " global_average_pooling2d (  (None, 16)                   0         ['activation_2[0][0]']        \n",
      " GlobalAveragePooling2D)                                                                          \n",
      "                                                                                                  \n",
      " reshape (Reshape)           (None, 1, 1, 16)             0         ['global_average_pooling2d[0][\n",
      "                                                                    0]']                          \n",
      "                                                                                                  \n",
      " conv2d (Conv2D)             (None, 1, 1, 2)              34        ['reshape[0][0]']             \n",
      "                                                                                                  \n",
      " re_lu (ReLU)                (None, 1, 1, 2)              0         ['conv2d[0][0]']              \n",
      "                                                                                                  \n",
      " conv2d_1 (Conv2D)           (None, 1, 1, 16)             48        ['re_lu[0][0]']               \n",
      "                                                                                                  \n",
      " tf.math.sigmoid (TFOpLambd  (None, 1, 1, 16)             0         ['conv2d_1[0][0]']            \n",
      " a)                                                                                               \n",
      "                                                                                                  \n",
      " multiply (Multiply)         (None, 12, 16, 16)           0         ['activation_2[0][0]',        \n",
      "                                                                     'tf.math.sigmoid[0][0]']     \n",
      "                                                                                                  \n",
      " block_2_2 (Conv2D)          (None, 12, 16, 8)            1160      ['multiply[0][0]']            \n",
      "                                                                                                  \n",
      " batch_normalization_4 (Bat  (None, 12, 16, 8)            32        ['block_2_2[0][0]']           \n",
      " chNormalization)                                                                                 \n",
      "                                                                                                  \n",
      " activation_3 (Activation)   (None, 12, 16, 8)            0         ['batch_normalization_4[0][0]'\n",
      "                                                                    ]                             \n",
      "                                                                                                  \n",
      " depthwise_conv2d_1 (Depthw  (None, 12, 16, 8)            80        ['activation_3[0][0]']        \n",
      " iseConv2D)                                                                                       \n",
      "                                                                                                  \n",
      " dropout_1 (Dropout)         (None, 12, 16, 8)            0         ['depthwise_conv2d_1[0][0]']  \n",
      "                                                                                                  \n",
      " block_2_3 (Conv2D)          (None, 12, 16, 16)           1168      ['dropout_1[0][0]']           \n",
      "                                                                                                  \n",
      " block_2_4 (Conv2D)          (None, 12, 16, 16)           2320      ['block_2_3[0][0]']           \n",
      "                                                                                                  \n",
      " batch_normalization_5 (Bat  (None, 12, 16, 16)           64        ['block_2_4[0][0]']           \n",
      " chNormalization)                                                                                 \n",
      "                                                                                                  \n",
      " activation_4 (Activation)   (None, 12, 16, 16)           0         ['batch_normalization_5[0][0]'\n",
      "                                                                    ]                             \n",
      "                                                                                                  \n",
      " block_2_output (Add)        (None, 12, 16, 16)           0         ['multiply[0][0]',            \n",
      "                                                                     'activation_4[0][0]']        \n",
      "                                                                                                  \n",
      " block_3_1 (Conv2D)          (None, 12, 16, 8)            1160      ['block_2_output[0][0]']      \n",
      "                                                                                                  \n",
      " block_3_2 (Conv2D)          (None, 12, 16, 8)            584       ['block_3_1[0][0]']           \n",
      "                                                                                                  \n",
      " batch_normalization_6 (Bat  (None, 12, 16, 8)            32        ['block_3_2[0][0]']           \n",
      " chNormalization)                                                                                 \n",
      "                                                                                                  \n",
      " activation_5 (Activation)   (None, 12, 16, 8)            0         ['batch_normalization_6[0][0]'\n",
      "                                                                    ]                             \n",
      "                                                                                                  \n",
      " depthwise_conv2d_2 (Depthw  (None, 12, 16, 8)            80        ['activation_5[0][0]']        \n",
      " iseConv2D)                                                                                       \n",
      "                                                                                                  \n",
      " batch_normalization_7 (Bat  (None, 12, 16, 8)            32        ['depthwise_conv2d_2[0][0]']  \n",
      " chNormalization)                                                                                 \n",
      "                                                                                                  \n",
      " dropout_2 (Dropout)         (None, 12, 16, 8)            0         ['batch_normalization_7[0][0]'\n",
      "                                                                    ]                             \n",
      "                                                                                                  \n",
      " block_3_3 (Conv2D)          (None, 12, 16, 16)           1168      ['dropout_2[0][0]']           \n",
      "                                                                                                  \n",
      " block_3_4 (Conv2D)          (None, 6, 8, 16)             2320      ['block_3_3[0][0]']           \n",
      "                                                                                                  \n",
      " batch_normalization_8 (Bat  (None, 6, 8, 16)             64        ['block_3_4[0][0]']           \n",
      " chNormalization)                                                                                 \n",
      "                                                                                                  \n",
      " activation_6 (Activation)   (None, 6, 8, 16)             0         ['batch_normalization_8[0][0]'\n",
      "                                                                    ]                             \n",
      "                                                                                                  \n",
      " global_average_pooling2d_1  (None, 16)                   0         ['activation_6[0][0]']        \n",
      "  (GlobalAveragePooling2D)                                                                        \n",
      "                                                                                                  \n",
      " reshape_1 (Reshape)         (None, 1, 1, 16)             0         ['global_average_pooling2d_1[0\n",
      "                                                                    ][0]']                        \n",
      "                                                                                                  \n",
      " conv2d_2 (Conv2D)           (None, 1, 1, 2)              34        ['reshape_1[0][0]']           \n",
      "                                                                                                  \n",
      " re_lu_1 (ReLU)              (None, 1, 1, 2)              0         ['conv2d_2[0][0]']            \n",
      "                                                                                                  \n",
      " conv2d_3 (Conv2D)           (None, 1, 1, 16)             48        ['re_lu_1[0][0]']             \n",
      "                                                                                                  \n",
      " tf.math.sigmoid_1 (TFOpLam  (None, 1, 1, 16)             0         ['conv2d_3[0][0]']            \n",
      " bda)                                                                                             \n",
      "                                                                                                  \n",
      " multiply_1 (Multiply)       (None, 6, 8, 16)             0         ['activation_6[0][0]',        \n",
      "                                                                     'tf.math.sigmoid_1[0][0]']   \n",
      "                                                                                                  \n",
      " block_4_2 (Conv2D)          (None, 6, 8, 8)              1160      ['multiply_1[0][0]']          \n",
      "                                                                                                  \n",
      " batch_normalization_9 (Bat  (None, 6, 8, 8)              32        ['block_4_2[0][0]']           \n",
      " chNormalization)                                                                                 \n",
      "                                                                                                  \n",
      " activation_7 (Activation)   (None, 6, 8, 8)              0         ['batch_normalization_9[0][0]'\n",
      "                                                                    ]                             \n",
      "                                                                                                  \n",
      " depthwise_conv2d_3 (Depthw  (None, 6, 8, 8)              80        ['activation_7[0][0]']        \n",
      " iseConv2D)                                                                                       \n",
      "                                                                                                  \n",
      " dropout_3 (Dropout)         (None, 6, 8, 8)              0         ['depthwise_conv2d_3[0][0]']  \n",
      "                                                                                                  \n",
      " block_4_3 (Conv2D)          (None, 6, 8, 16)             1168      ['dropout_3[0][0]']           \n",
      "                                                                                                  \n",
      " block_4_4 (Conv2D)          (None, 6, 8, 16)             2320      ['block_4_3[0][0]']           \n",
      "                                                                                                  \n",
      " batch_normalization_10 (Ba  (None, 6, 8, 16)             64        ['block_4_4[0][0]']           \n",
      " tchNormalization)                                                                                \n",
      "                                                                                                  \n",
      " activation_8 (Activation)   (None, 6, 8, 16)             0         ['batch_normalization_10[0][0]\n",
      "                                                                    ']                            \n",
      "                                                                                                  \n",
      " block_4_output (Add)        (None, 6, 8, 16)             0         ['multiply_1[0][0]',          \n",
      "                                                                     'activation_8[0][0]']        \n",
      "                                                                                                  \n",
      " block_5_1 (Conv2D)          (None, 6, 8, 8)              1160      ['block_4_output[0][0]']      \n",
      "                                                                                                  \n",
      " block_5_2 (Conv2D)          (None, 6, 8, 8)              584       ['block_5_1[0][0]']           \n",
      "                                                                                                  \n",
      " batch_normalization_11 (Ba  (None, 6, 8, 8)              32        ['block_5_2[0][0]']           \n",
      " tchNormalization)                                                                                \n",
      "                                                                                                  \n",
      " activation_9 (Activation)   (None, 6, 8, 8)              0         ['batch_normalization_11[0][0]\n",
      "                                                                    ']                            \n",
      "                                                                                                  \n",
      " depthwise_conv2d_4 (Depthw  (None, 6, 8, 8)              80        ['activation_9[0][0]']        \n",
      " iseConv2D)                                                                                       \n",
      "                                                                                                  \n",
      " batch_normalization_12 (Ba  (None, 6, 8, 8)              32        ['depthwise_conv2d_4[0][0]']  \n",
      " tchNormalization)                                                                                \n",
      "                                                                                                  \n",
      " dropout_4 (Dropout)         (None, 6, 8, 8)              0         ['batch_normalization_12[0][0]\n",
      "                                                                    ']                            \n",
      "                                                                                                  \n",
      " block_5_3 (Conv2D)          (None, 6, 8, 16)             1168      ['dropout_4[0][0]']           \n",
      "                                                                                                  \n",
      " block_5_4 (Conv2D)          (None, 3, 4, 16)             2320      ['block_5_3[0][0]']           \n",
      "                                                                                                  \n",
      " batch_normalization_13 (Ba  (None, 3, 4, 16)             64        ['block_5_4[0][0]']           \n",
      " tchNormalization)                                                                                \n",
      "                                                                                                  \n",
      " activation_10 (Activation)  (None, 3, 4, 16)             0         ['batch_normalization_13[0][0]\n",
      "                                                                    ']                            \n",
      "                                                                                                  \n",
      " global_average_pooling2d_2  (None, 16)                   0         ['activation_10[0][0]']       \n",
      "  (GlobalAveragePooling2D)                                                                        \n",
      "                                                                                                  \n",
      " reshape_2 (Reshape)         (None, 1, 1, 16)             0         ['global_average_pooling2d_2[0\n",
      "                                                                    ][0]']                        \n",
      "                                                                                                  \n",
      " conv2d_4 (Conv2D)           (None, 1, 1, 2)              34        ['reshape_2[0][0]']           \n",
      "                                                                                                  \n",
      " re_lu_2 (ReLU)              (None, 1, 1, 2)              0         ['conv2d_4[0][0]']            \n",
      "                                                                                                  \n",
      " conv2d_5 (Conv2D)           (None, 1, 1, 16)             48        ['re_lu_2[0][0]']             \n",
      "                                                                                                  \n",
      " tf.math.sigmoid_2 (TFOpLam  (None, 1, 1, 16)             0         ['conv2d_5[0][0]']            \n",
      " bda)                                                                                             \n",
      "                                                                                                  \n",
      " multiply_2 (Multiply)       (None, 3, 4, 16)             0         ['activation_10[0][0]',       \n",
      "                                                                     'tf.math.sigmoid_2[0][0]']   \n",
      "                                                                                                  \n",
      " block_6_2 (Conv2D)          (None, 3, 4, 8)              1160      ['multiply_2[0][0]']          \n",
      "                                                                                                  \n",
      " batch_normalization_14 (Ba  (None, 3, 4, 8)              32        ['block_6_2[0][0]']           \n",
      " tchNormalization)                                                                                \n",
      "                                                                                                  \n",
      " activation_11 (Activation)  (None, 3, 4, 8)              0         ['batch_normalization_14[0][0]\n",
      "                                                                    ']                            \n",
      "                                                                                                  \n",
      " depthwise_conv2d_5 (Depthw  (None, 3, 4, 8)              80        ['activation_11[0][0]']       \n",
      " iseConv2D)                                                                                       \n",
      "                                                                                                  \n",
      " dropout_5 (Dropout)         (None, 3, 4, 8)              0         ['depthwise_conv2d_5[0][0]']  \n",
      "                                                                                                  \n",
      " block_6_3 (Conv2D)          (None, 3, 4, 16)             1168      ['dropout_5[0][0]']           \n",
      "                                                                                                  \n",
      " block_6_4 (Conv2D)          (None, 3, 4, 16)             2320      ['block_6_3[0][0]']           \n",
      "                                                                                                  \n",
      " batch_normalization_15 (Ba  (None, 3, 4, 16)             64        ['block_6_4[0][0]']           \n",
      " tchNormalization)                                                                                \n",
      "                                                                                                  \n",
      " activation_12 (Activation)  (None, 3, 4, 16)             0         ['batch_normalization_15[0][0]\n",
      "                                                                    ']                            \n",
      "                                                                                                  \n",
      " block_6_output (Add)        (None, 3, 4, 16)             0         ['multiply_2[0][0]',          \n",
      "                                                                     'activation_12[0][0]']       \n",
      "                                                                                                  \n",
      " flatten (Flatten)           (None, 192)                  0         ['block_6_output[0][0]']      \n",
      "                                                                                                  \n",
      " dense (Dense)               (None, 16)                   3088      ['flatten[0][0]']             \n",
      "                                                                                                  \n",
      " dense_1 (Dense)             (None, 192)                  3264      ['dense[0][0]']               \n",
      "                                                                                                  \n",
      " reshape_3 (Reshape)         (None, 3, 4, 16)             0         ['dense_1[0][0]']             \n",
      "                                                                                                  \n",
      " conv2d_transpose_1 (Conv2D  (None, 6, 8, 8)              1160      ['reshape_3[0][0]']           \n",
      " Transpose)                                                                                       \n",
      "                                                                                                  \n",
      " concatenate (Concatenate)   (None, 6, 8, 24)             0         ['conv2d_transpose_1[0][0]',  \n",
      "                                                                     'block_4_output[0][0]']      \n",
      "                                                                                                  \n",
      " conv2d_transpose_2 (Conv2D  (None, 12, 16, 8)            1736      ['concatenate[0][0]']         \n",
      " Transpose)                                                                                       \n",
      "                                                                                                  \n",
      " concatenate_1 (Concatenate  (None, 12, 16, 24)           0         ['conv2d_transpose_2[0][0]',  \n",
      " )                                                                   'block_2_output[0][0]']      \n",
      "                                                                                                  \n",
      " activation_13 (Activation)  (None, 12, 16, 24)           0         ['concatenate_1[0][0]']       \n",
      "                                                                                                  \n",
      " batch_normalization_16 (Ba  (None, 12, 16, 24)           96        ['activation_13[0][0]']       \n",
      " tchNormalization)                                                                                \n",
      "                                                                                                  \n",
      " conv2d_transpose_3 (Conv2D  (None, 24, 32, 8)            1736      ['batch_normalization_16[0][0]\n",
      " Transpose)                                                         ']                            \n",
      "                                                                                                  \n",
      " concatenate_2 (Concatenate  (None, 24, 32, 9)            0         ['conv2d_transpose_3[0][0]',  \n",
      " )                                                                   'input_1[0][0]']             \n",
      "                                                                                                  \n",
      " global_average_pooling2d_3  (None, 16)                   0         ['block_6_output[0][0]']      \n",
      "  (GlobalAveragePooling2D)                                                                        \n",
      "                                                                                                  \n",
      " filtered_image_outputs (Co  (None, 24, 32, 1)            82        ['concatenate_2[0][0]']       \n",
      " nv2DTranspose)                                                                                   \n",
      "                                                                                                  \n",
      " number_output (Dense)       (None, 5)                    85        ['global_average_pooling2d_3[0\n",
      "                                                                    ][0]']                        \n",
      "                                                                                                  \n",
      "==================================================================================================\n",
      "Total params: 41205 (160.96 KB)\n",
      "Trainable params: 40821 (159.46 KB)\n",
      "Non-trainable params: 384 (1.50 KB)\n",
      "__________________________________________________________________________________________________\n"
     ]
    }
   ],
   "source": [
    "backbone = BackBone()\n",
    "model = backbone()\n",
    "model.summary()"
   ]
  },
  {
   "cell_type": "code",
   "execution_count": 16,
   "metadata": {},
   "outputs": [],
   "source": [
    "import tensorflow as tf\n",
    "from keras.metrics import Precision, Recall\n",
    "from keras.callbacks import ModelCheckpoint\n",
    "\n",
    "backbone = BackBone()\n",
    "model = backbone()\n",
    "\n",
    "initial_learning_rate = LR\n",
    "lr_schedule = tf.keras.optimizers.schedules.ExponentialDecay(\n",
    "    initial_learning_rate,\n",
    "    decay_steps=10000,\n",
    "    decay_rate=0.60,\n",
    "    staircase=True)\n",
    "\n",
    "# lr_reducer = tf.keras.callbacks.ReduceLROnPlateau(\n",
    "#     monitor='val_loss',\n",
    "#     factor=0.1,\n",
    "#     patience=3,\n",
    "#     min_lr=1e-6,\n",
    "#     verbose=1)\n",
    "\n",
    "# strategy = tf.distribute.MirroredStrategy()\n",
    "# with strategy.scope():\n",
    "#     backbone = BackBone()\n",
    "#     model = backbone()\n",
    "#     optimizer = tf.keras.optimizers.Adam(learning_rate=lr_schedule)\n",
    "#     model.compile(optimizer=optimizer, loss=['categorical_crossentropy'], metrics=['accuracy', Precision(), Recall()])\n",
    "#     checkpoint = ModelCheckpoint('v4_backbone_1_best_model.h5', monitor='val_accuracy', verbose=1, save_best_only=True, mode='max')\n",
    "\n",
    "\n",
    "optimizer = tf.keras.optimizers.Adam(learning_rate=lr_schedule)\n",
    "model.compile(optimizer=optimizer, \n",
    "              loss={'filtered_image_outputs': 'mse', 'number_output': 'categorical_crossentropy'}, \n",
    "              metrics={'filtered_image_outputs': ['accuracy'], 'number_output': ['accuracy', Precision(), Recall()]})\n",
    "\n",
    "\n",
    "\n",
    "checkpoint = ModelCheckpoint('Filter_Model/model/filter_model.h5', monitor='val_number_output_accuracy', verbose=1, save_best_only=True, mode='max')\n",
    "\n",
    "# model.summary()"
   ]
  },
  {
   "cell_type": "code",
   "execution_count": 17,
   "metadata": {},
   "outputs": [],
   "source": [
    "# from keras.utils import plot_model\n",
    "\n",
    "# plot_model(model, to_file='./detection_model.png', show_shapes=True, show_layer_names=True)\n",
    "# Image(filename='detection_model.png')"
   ]
  },
  {
   "cell_type": "code",
   "execution_count": 18,
   "metadata": {},
   "outputs": [],
   "source": [
    "from tensorflow.keras.callbacks import TensorBoard\n",
    "\n",
    "log_dir = DIR\n",
    "tensorboard_callback = TensorBoard(log_dir=log_dir, histogram_freq=1)\n"
   ]
  },
  {
   "cell_type": "code",
   "execution_count": 19,
   "metadata": {},
   "outputs": [
    {
     "name": "stdout",
     "output_type": "stream",
     "text": [
      "(1, 24, 32, 1)\n",
      "(1, 24, 32, 1)\n",
      "(1, 5)\n"
     ]
    }
   ],
   "source": [
    "for image, target, label in train_ds.take(1):\n",
    "    print(image.shape)\n",
    "    print(target.shape)\n",
    "    print(label.shape)"
   ]
  },
  {
   "cell_type": "code",
   "execution_count": 20,
   "metadata": {},
   "outputs": [
    {
     "name": "stdout",
     "output_type": "stream",
     "text": [
      "(13276, 24, 32, 1)\n",
      "(13276, 24, 32, 1)\n",
      "(13276, 5)\n"
     ]
    }
   ],
   "source": [
    "images = []\n",
    "targets = []\n",
    "labels = []\n",
    "for image, target, label in train_ds:\n",
    "    images.append(image[0])\n",
    "    targets.append(target[0])\n",
    "    labels.append(label[0])\n",
    "\n",
    "images = np.array(images)\n",
    "targets = np.array(targets)\n",
    "labels = np.array(labels)\n",
    "\n",
    "print(images.shape)\n",
    "print(targets.shape)\n",
    "print(labels.shape)"
   ]
  },
  {
   "cell_type": "code",
   "execution_count": 21,
   "metadata": {},
   "outputs": [
    {
     "name": "stdout",
     "output_type": "stream",
     "text": [
      "Epoch 1/100\n"
     ]
    },
    {
     "name": "stderr",
     "output_type": "stream",
     "text": [
      "2024-01-30 13:09:04.471690: E tensorflow/core/grappler/optimizers/meta_optimizer.cc:954] layout failed: INVALID_ARGUMENT: Size of values 0 does not match size of permutation 4 @ fanin shape inmodel_1/dropout_6/dropout/SelectV2-2-TransposeNHWCToNCHW-LayoutOptimizer\n",
      "2024-01-30 13:09:06.318649: I tensorflow/compiler/xla/stream_executor/cuda/cuda_dnn.cc:432] Loaded cuDNN version 8905\n",
      "2024-01-30 13:09:07.121166: I tensorflow/compiler/xla/stream_executor/cuda/cuda_blas.cc:606] TensorFloat-32 will be used for the matrix multiplication. This will only be logged once.\n",
      "2024-01-30 13:09:07.372038: I tensorflow/compiler/xla/service/service.cc:168] XLA service 0x7fc48801a420 initialized for platform CUDA (this does not guarantee that XLA will be used). Devices:\n",
      "2024-01-30 13:09:07.372085: I tensorflow/compiler/xla/service/service.cc:176]   StreamExecutor device (0): NVIDIA GeForce RTX 3090, Compute Capability 8.6\n",
      "2024-01-30 13:09:07.372102: I tensorflow/compiler/xla/service/service.cc:176]   StreamExecutor device (1): NVIDIA GeForce RTX 3090, Compute Capability 8.6\n",
      "2024-01-30 13:09:07.372116: I tensorflow/compiler/xla/service/service.cc:176]   StreamExecutor device (2): NVIDIA GeForce RTX 3090, Compute Capability 8.6\n",
      "2024-01-30 13:09:07.372130: I tensorflow/compiler/xla/service/service.cc:176]   StreamExecutor device (3): NVIDIA GeForce RTX 3090, Compute Capability 8.6\n",
      "2024-01-30 13:09:07.372144: I tensorflow/compiler/xla/service/service.cc:176]   StreamExecutor device (4): NVIDIA GeForce RTX 3090, Compute Capability 8.6\n",
      "2024-01-30 13:09:07.372158: I tensorflow/compiler/xla/service/service.cc:176]   StreamExecutor device (5): NVIDIA GeForce RTX 3090, Compute Capability 8.6\n",
      "2024-01-30 13:09:07.372173: I tensorflow/compiler/xla/service/service.cc:176]   StreamExecutor device (6): NVIDIA GeForce RTX 3090, Compute Capability 8.6\n",
      "2024-01-30 13:09:07.382841: I tensorflow/compiler/mlir/tensorflow/utils/dump_mlir_util.cc:255] disabling MLIR crash reproducer, set env var `MLIR_CRASH_REPRODUCER_DIRECTORY` to enable.\n",
      "2024-01-30 13:09:07.535204: I ./tensorflow/compiler/jit/device_compiler.h:186] Compiled cluster using XLA!  This line is logged at most once for the lifetime of the process.\n"
     ]
    },
    {
     "name": "stdout",
     "output_type": "stream",
     "text": [
      "291/291 [==============================] - ETA: 0s - loss: 1.4767 - filtered_image_outputs_loss: 0.0552 - number_output_loss: 1.1845 - filtered_image_outputs_accuracy: 0.7608 - number_output_accuracy: 0.5376 - number_output_precision: 0.6447 - number_output_recall: 0.2879\n",
      "Epoch 1: val_number_output_accuracy improved from -inf to 0.20286, saving model to Filter_Model/model/filter_model.h5\n",
      "291/291 [==============================] - 31s 49ms/step - loss: 1.4767 - filtered_image_outputs_loss: 0.0552 - number_output_loss: 1.1845 - filtered_image_outputs_accuracy: 0.7608 - number_output_accuracy: 0.5376 - number_output_precision: 0.6447 - number_output_recall: 0.2879 - val_loss: 2.0101 - val_filtered_image_outputs_loss: 0.0328 - val_number_output_loss: 1.7449 - val_filtered_image_outputs_accuracy: 0.7947 - val_number_output_accuracy: 0.2029 - val_number_output_precision: 0.2029 - val_number_output_recall: 0.2029\n",
      "Epoch 2/100\n",
      "291/291 [==============================] - ETA: 0s - loss: 1.0462 - filtered_image_outputs_loss: 0.0098 - number_output_loss: 0.8089 - filtered_image_outputs_accuracy: 0.7928 - number_output_accuracy: 0.6861 - number_output_precision: 0.7184 - number_output_recall: 0.6177\n",
      "Epoch 2: val_number_output_accuracy improved from 0.20286 to 0.29525, saving model to Filter_Model/model/filter_model.h5\n",
      "291/291 [==============================] - 12s 40ms/step - loss: 1.0462 - filtered_image_outputs_loss: 0.0098 - number_output_loss: 0.8089 - filtered_image_outputs_accuracy: 0.7928 - number_output_accuracy: 0.6861 - number_output_precision: 0.7184 - number_output_recall: 0.6177 - val_loss: 2.0241 - val_filtered_image_outputs_loss: 0.0084 - val_number_output_loss: 1.7932 - val_filtered_image_outputs_accuracy: 0.7947 - val_number_output_accuracy: 0.2953 - val_number_output_precision: 0.2938 - val_number_output_recall: 0.2779\n",
      "Epoch 3/100\n",
      "291/291 [==============================] - ETA: 0s - loss: 0.9191 - filtered_image_outputs_loss: 0.0075 - number_output_loss: 0.6938 - filtered_image_outputs_accuracy: 0.7930 - number_output_accuracy: 0.7322 - number_output_precision: 0.7541 - number_output_recall: 0.6899\n",
      "Epoch 3: val_number_output_accuracy improved from 0.29525 to 0.57293, saving model to Filter_Model/model/filter_model.h5\n",
      "291/291 [==============================] - 11s 39ms/step - loss: 0.9191 - filtered_image_outputs_loss: 0.0075 - number_output_loss: 0.6938 - filtered_image_outputs_accuracy: 0.7930 - number_output_accuracy: 0.7322 - number_output_precision: 0.7541 - number_output_recall: 0.6899 - val_loss: 1.2156 - val_filtered_image_outputs_loss: 0.0061 - val_number_output_loss: 0.9966 - val_filtered_image_outputs_accuracy: 0.7950 - val_number_output_accuracy: 0.5729 - val_number_output_precision: 0.5836 - val_number_output_recall: 0.5523\n",
      "Epoch 4/100\n",
      "291/291 [==============================] - ETA: 0s - loss: 0.8338 - filtered_image_outputs_loss: 0.0063 - number_output_loss: 0.6190 - filtered_image_outputs_accuracy: 0.7932 - number_output_accuracy: 0.7553 - number_output_precision: 0.7721 - number_output_recall: 0.7337\n",
      "Epoch 4: val_number_output_accuracy improved from 0.57293 to 0.79588, saving model to Filter_Model/model/filter_model.h5\n",
      "291/291 [==============================] - 11s 39ms/step - loss: 0.8338 - filtered_image_outputs_loss: 0.0063 - number_output_loss: 0.6190 - filtered_image_outputs_accuracy: 0.7932 - number_output_accuracy: 0.7553 - number_output_precision: 0.7721 - number_output_recall: 0.7337 - val_loss: 0.7275 - val_filtered_image_outputs_loss: 0.0046 - val_number_output_loss: 0.5189 - val_filtered_image_outputs_accuracy: 0.7949 - val_number_output_accuracy: 0.7959 - val_number_output_precision: 0.8049 - val_number_output_recall: 0.7863\n",
      "Epoch 5/100\n",
      "290/291 [============================>.] - ETA: 0s - loss: 0.7707 - filtered_image_outputs_loss: 0.0057 - number_output_loss: 0.5651 - filtered_image_outputs_accuracy: 0.7932 - number_output_accuracy: 0.7702 - number_output_precision: 0.7819 - number_output_recall: 0.7546\n",
      "Epoch 5: val_number_output_accuracy did not improve from 0.79588\n",
      "291/291 [==============================] - 11s 37ms/step - loss: 0.7705 - filtered_image_outputs_loss: 0.0057 - number_output_loss: 0.5650 - filtered_image_outputs_accuracy: 0.7932 - number_output_accuracy: 0.7700 - number_output_precision: 0.7819 - number_output_recall: 0.7544 - val_loss: 0.8049 - val_filtered_image_outputs_loss: 0.0048 - val_number_output_loss: 0.6044 - val_filtered_image_outputs_accuracy: 0.7950 - val_number_output_accuracy: 0.7605 - val_number_output_precision: 0.7707 - val_number_output_recall: 0.7484\n",
      "Epoch 6/100\n",
      "291/291 [==============================] - ETA: 0s - loss: 0.7188 - filtered_image_outputs_loss: 0.0055 - number_output_loss: 0.5213 - filtered_image_outputs_accuracy: 0.7933 - number_output_accuracy: 0.7929 - number_output_precision: 0.8014 - number_output_recall: 0.7792\n",
      "Epoch 6: val_number_output_accuracy did not improve from 0.79588\n",
      "291/291 [==============================] - 11s 38ms/step - loss: 0.7188 - filtered_image_outputs_loss: 0.0055 - number_output_loss: 0.5213 - filtered_image_outputs_accuracy: 0.7933 - number_output_accuracy: 0.7929 - number_output_precision: 0.8014 - number_output_recall: 0.7792 - val_loss: 0.8945 - val_filtered_image_outputs_loss: 0.0044 - val_number_output_loss: 0.7016 - val_filtered_image_outputs_accuracy: 0.7950 - val_number_output_accuracy: 0.7221 - val_number_output_precision: 0.7305 - val_number_output_recall: 0.7105\n",
      "Epoch 7/100\n",
      "291/291 [==============================] - ETA: 0s - loss: 0.6843 - filtered_image_outputs_loss: 0.0052 - number_output_loss: 0.4942 - filtered_image_outputs_accuracy: 0.7933 - number_output_accuracy: 0.8033 - number_output_precision: 0.8109 - number_output_recall: 0.7884\n",
      "Epoch 7: val_number_output_accuracy improved from 0.79588 to 0.83204, saving model to Filter_Model/model/filter_model.h5\n",
      "291/291 [==============================] - 11s 39ms/step - loss: 0.6843 - filtered_image_outputs_loss: 0.0052 - number_output_loss: 0.4942 - filtered_image_outputs_accuracy: 0.7933 - number_output_accuracy: 0.8033 - number_output_precision: 0.8109 - number_output_recall: 0.7884 - val_loss: 0.6176 - val_filtered_image_outputs_loss: 0.0041 - val_number_output_loss: 0.4320 - val_filtered_image_outputs_accuracy: 0.7949 - val_number_output_accuracy: 0.8320 - val_number_output_precision: 0.8394 - val_number_output_recall: 0.8217\n",
      "Epoch 8/100\n",
      "291/291 [==============================] - ETA: 0s - loss: 0.6574 - filtered_image_outputs_loss: 0.0049 - number_output_loss: 0.4741 - filtered_image_outputs_accuracy: 0.7933 - number_output_accuracy: 0.8104 - number_output_precision: 0.8182 - number_output_recall: 0.7961\n",
      "Epoch 8: val_number_output_accuracy improved from 0.83204 to 0.84509, saving model to Filter_Model/model/filter_model.h5\n",
      "291/291 [==============================] - 12s 40ms/step - loss: 0.6574 - filtered_image_outputs_loss: 0.0049 - number_output_loss: 0.4741 - filtered_image_outputs_accuracy: 0.7933 - number_output_accuracy: 0.8104 - number_output_precision: 0.8182 - number_output_recall: 0.7961 - val_loss: 0.5794 - val_filtered_image_outputs_loss: 0.0039 - val_number_output_loss: 0.4003 - val_filtered_image_outputs_accuracy: 0.7949 - val_number_output_accuracy: 0.8451 - val_number_output_precision: 0.8498 - val_number_output_recall: 0.8398\n",
      "Epoch 9/100\n",
      "291/291 [==============================] - ETA: 0s - loss: 0.6248 - filtered_image_outputs_loss: 0.0046 - number_output_loss: 0.4478 - filtered_image_outputs_accuracy: 0.7933 - number_output_accuracy: 0.8204 - number_output_precision: 0.8271 - number_output_recall: 0.8108\n",
      "Epoch 9: val_number_output_accuracy did not improve from 0.84509\n",
      "291/291 [==============================] - 11s 38ms/step - loss: 0.6248 - filtered_image_outputs_loss: 0.0046 - number_output_loss: 0.4478 - filtered_image_outputs_accuracy: 0.7933 - number_output_accuracy: 0.8204 - number_output_precision: 0.8271 - number_output_recall: 0.8108 - val_loss: 0.5891 - val_filtered_image_outputs_loss: 0.0037 - val_number_output_loss: 0.4160 - val_filtered_image_outputs_accuracy: 0.7950 - val_number_output_accuracy: 0.8335 - val_number_output_precision: 0.8408 - val_number_output_recall: 0.8210\n",
      "Epoch 10/100\n",
      "291/291 [==============================] - ETA: 0s - loss: 0.6144 - filtered_image_outputs_loss: 0.0044 - number_output_loss: 0.4431 - filtered_image_outputs_accuracy: 0.7933 - number_output_accuracy: 0.8215 - number_output_precision: 0.8308 - number_output_recall: 0.8099\n",
      "Epoch 10: val_number_output_accuracy did not improve from 0.84509\n",
      "291/291 [==============================] - 11s 38ms/step - loss: 0.6144 - filtered_image_outputs_loss: 0.0044 - number_output_loss: 0.4431 - filtered_image_outputs_accuracy: 0.7933 - number_output_accuracy: 0.8215 - number_output_precision: 0.8308 - number_output_recall: 0.8099 - val_loss: 0.5836 - val_filtered_image_outputs_loss: 0.0035 - val_number_output_loss: 0.4157 - val_filtered_image_outputs_accuracy: 0.7948 - val_number_output_accuracy: 0.8298 - val_number_output_precision: 0.8339 - val_number_output_recall: 0.8195\n",
      "Epoch 11/100\n",
      "290/291 [============================>.] - ETA: 0s - loss: 0.5699 - filtered_image_outputs_loss: 0.0043 - number_output_loss: 0.4036 - filtered_image_outputs_accuracy: 0.7933 - number_output_accuracy: 0.8405 - number_output_precision: 0.8489 - number_output_recall: 0.8294\n",
      "Epoch 11: val_number_output_accuracy improved from 0.84509 to 0.84635, saving model to Filter_Model/model/filter_model.h5\n",
      "291/291 [==============================] - 12s 40ms/step - loss: 0.5696 - filtered_image_outputs_loss: 0.0043 - number_output_loss: 0.4034 - filtered_image_outputs_accuracy: 0.7933 - number_output_accuracy: 0.8406 - number_output_precision: 0.8490 - number_output_recall: 0.8295 - val_loss: 0.5619 - val_filtered_image_outputs_loss: 0.0035 - val_number_output_loss: 0.3988 - val_filtered_image_outputs_accuracy: 0.7949 - val_number_output_accuracy: 0.8463 - val_number_output_precision: 0.8584 - val_number_output_recall: 0.8353\n",
      "Epoch 12/100\n",
      "291/291 [==============================] - ETA: 0s - loss: 0.5730 - filtered_image_outputs_loss: 0.0042 - number_output_loss: 0.4113 - filtered_image_outputs_accuracy: 0.7933 - number_output_accuracy: 0.8386 - number_output_precision: 0.8457 - number_output_recall: 0.8289\n",
      "Epoch 12: val_number_output_accuracy improved from 0.84635 to 0.85162, saving model to Filter_Model/model/filter_model.h5\n",
      "291/291 [==============================] - 11s 38ms/step - loss: 0.5730 - filtered_image_outputs_loss: 0.0042 - number_output_loss: 0.4113 - filtered_image_outputs_accuracy: 0.7933 - number_output_accuracy: 0.8386 - number_output_precision: 0.8457 - number_output_recall: 0.8289 - val_loss: 0.5253 - val_filtered_image_outputs_loss: 0.0034 - val_number_output_loss: 0.3665 - val_filtered_image_outputs_accuracy: 0.7949 - val_number_output_accuracy: 0.8516 - val_number_output_precision: 0.8540 - val_number_output_recall: 0.8476\n",
      "Epoch 13/100\n",
      "290/291 [============================>.] - ETA: 0s - loss: 0.5573 - filtered_image_outputs_loss: 0.0041 - number_output_loss: 0.3999 - filtered_image_outputs_accuracy: 0.7933 - number_output_accuracy: 0.8385 - number_output_precision: 0.8455 - number_output_recall: 0.8294\n",
      "Epoch 13: val_number_output_accuracy did not improve from 0.85162\n",
      "291/291 [==============================] - 11s 38ms/step - loss: 0.5572 - filtered_image_outputs_loss: 0.0041 - number_output_loss: 0.3998 - filtered_image_outputs_accuracy: 0.7933 - number_output_accuracy: 0.8385 - number_output_precision: 0.8455 - number_output_recall: 0.8294 - val_loss: 0.6139 - val_filtered_image_outputs_loss: 0.0034 - val_number_output_loss: 0.4591 - val_filtered_image_outputs_accuracy: 0.7949 - val_number_output_accuracy: 0.8157 - val_number_output_precision: 0.8235 - val_number_output_recall: 0.8047\n",
      "Epoch 14/100\n",
      "290/291 [============================>.] - ETA: 0s - loss: 0.5479 - filtered_image_outputs_loss: 0.0039 - number_output_loss: 0.3946 - filtered_image_outputs_accuracy: 0.7933 - number_output_accuracy: 0.8455 - number_output_precision: 0.8515 - number_output_recall: 0.8381\n",
      "Epoch 14: val_number_output_accuracy improved from 0.85162 to 0.88426, saving model to Filter_Model/model/filter_model.h5\n",
      "291/291 [==============================] - 12s 40ms/step - loss: 0.5478 - filtered_image_outputs_loss: 0.0039 - number_output_loss: 0.3945 - filtered_image_outputs_accuracy: 0.7933 - number_output_accuracy: 0.8456 - number_output_precision: 0.8516 - number_output_recall: 0.8383 - val_loss: 0.4508 - val_filtered_image_outputs_loss: 0.0033 - val_number_output_loss: 0.3000 - val_filtered_image_outputs_accuracy: 0.7948 - val_number_output_accuracy: 0.8843 - val_number_output_precision: 0.8880 - val_number_output_recall: 0.8800\n",
      "Epoch 15/100\n",
      "290/291 [============================>.] - ETA: 0s - loss: 0.5288 - filtered_image_outputs_loss: 0.0038 - number_output_loss: 0.3794 - filtered_image_outputs_accuracy: 0.7934 - number_output_accuracy: 0.8518 - number_output_precision: 0.8590 - number_output_recall: 0.8444\n",
      "Epoch 15: val_number_output_accuracy did not improve from 0.88426\n",
      "291/291 [==============================] - 11s 38ms/step - loss: 0.5297 - filtered_image_outputs_loss: 0.0038 - number_output_loss: 0.3802 - filtered_image_outputs_accuracy: 0.7933 - number_output_accuracy: 0.8515 - number_output_precision: 0.8587 - number_output_recall: 0.8441 - val_loss: 0.5619 - val_filtered_image_outputs_loss: 0.0035 - val_number_output_loss: 0.4145 - val_filtered_image_outputs_accuracy: 0.7949 - val_number_output_accuracy: 0.8278 - val_number_output_precision: 0.8355 - val_number_output_recall: 0.8238\n",
      "Epoch 16/100\n",
      "290/291 [============================>.] - ETA: 0s - loss: 0.5218 - filtered_image_outputs_loss: 0.0037 - number_output_loss: 0.3758 - filtered_image_outputs_accuracy: 0.7933 - number_output_accuracy: 0.8534 - number_output_precision: 0.8601 - number_output_recall: 0.8463\n",
      "Epoch 16: val_number_output_accuracy did not improve from 0.88426\n",
      "291/291 [==============================] - 11s 38ms/step - loss: 0.5216 - filtered_image_outputs_loss: 0.0037 - number_output_loss: 0.3756 - filtered_image_outputs_accuracy: 0.7933 - number_output_accuracy: 0.8535 - number_output_precision: 0.8602 - number_output_recall: 0.8464 - val_loss: 0.5402 - val_filtered_image_outputs_loss: 0.0033 - val_number_output_loss: 0.3963 - val_filtered_image_outputs_accuracy: 0.7950 - val_number_output_accuracy: 0.8433 - val_number_output_precision: 0.8479 - val_number_output_recall: 0.8398\n",
      "Epoch 17/100\n",
      "291/291 [==============================] - ETA: 0s - loss: 0.5016 - filtered_image_outputs_loss: 0.0036 - number_output_loss: 0.3589 - filtered_image_outputs_accuracy: 0.7933 - number_output_accuracy: 0.8558 - number_output_precision: 0.8616 - number_output_recall: 0.8481\n",
      "Epoch 17: val_number_output_accuracy did not improve from 0.88426\n",
      "291/291 [==============================] - 11s 39ms/step - loss: 0.5016 - filtered_image_outputs_loss: 0.0036 - number_output_loss: 0.3589 - filtered_image_outputs_accuracy: 0.7933 - number_output_accuracy: 0.8558 - number_output_precision: 0.8616 - number_output_recall: 0.8481 - val_loss: 0.4543 - val_filtered_image_outputs_loss: 0.0034 - val_number_output_loss: 0.3135 - val_filtered_image_outputs_accuracy: 0.7947 - val_number_output_accuracy: 0.8742 - val_number_output_precision: 0.8770 - val_number_output_recall: 0.8717\n",
      "Epoch 18/100\n",
      "291/291 [==============================] - ETA: 0s - loss: 0.4977 - filtered_image_outputs_loss: 0.0035 - number_output_loss: 0.3582 - filtered_image_outputs_accuracy: 0.7933 - number_output_accuracy: 0.8636 - number_output_precision: 0.8675 - number_output_recall: 0.8569\n",
      "Epoch 18: val_number_output_accuracy improved from 0.88426 to 0.88627, saving model to Filter_Model/model/filter_model.h5\n",
      "291/291 [==============================] - 11s 39ms/step - loss: 0.4977 - filtered_image_outputs_loss: 0.0035 - number_output_loss: 0.3582 - filtered_image_outputs_accuracy: 0.7933 - number_output_accuracy: 0.8636 - number_output_precision: 0.8675 - number_output_recall: 0.8569 - val_loss: 0.4388 - val_filtered_image_outputs_loss: 0.0032 - val_number_output_loss: 0.3011 - val_filtered_image_outputs_accuracy: 0.7949 - val_number_output_accuracy: 0.8863 - val_number_output_precision: 0.8915 - val_number_output_recall: 0.8785\n",
      "Epoch 19/100\n",
      "290/291 [============================>.] - ETA: 0s - loss: 0.4932 - filtered_image_outputs_loss: 0.0035 - number_output_loss: 0.3566 - filtered_image_outputs_accuracy: 0.7934 - number_output_accuracy: 0.8619 - number_output_precision: 0.8688 - number_output_recall: 0.8561\n",
      "Epoch 19: val_number_output_accuracy improved from 0.88627 to 0.89405, saving model to Filter_Model/model/filter_model.h5\n",
      "291/291 [==============================] - 11s 37ms/step - loss: 0.4943 - filtered_image_outputs_loss: 0.0035 - number_output_loss: 0.3577 - filtered_image_outputs_accuracy: 0.7933 - number_output_accuracy: 0.8615 - number_output_precision: 0.8684 - number_output_recall: 0.8558 - val_loss: 0.4258 - val_filtered_image_outputs_loss: 0.0030 - val_number_output_loss: 0.2910 - val_filtered_image_outputs_accuracy: 0.7949 - val_number_output_accuracy: 0.8940 - val_number_output_precision: 0.8984 - val_number_output_recall: 0.8878\n",
      "Epoch 20/100\n",
      "291/291 [==============================] - ETA: 0s - loss: 0.4799 - filtered_image_outputs_loss: 0.0034 - number_output_loss: 0.3461 - filtered_image_outputs_accuracy: 0.7933 - number_output_accuracy: 0.8665 - number_output_precision: 0.8716 - number_output_recall: 0.8606\n",
      "Epoch 20: val_number_output_accuracy did not improve from 0.89405\n",
      "291/291 [==============================] - 11s 38ms/step - loss: 0.4799 - filtered_image_outputs_loss: 0.0034 - number_output_loss: 0.3461 - filtered_image_outputs_accuracy: 0.7933 - number_output_accuracy: 0.8665 - number_output_precision: 0.8716 - number_output_recall: 0.8606 - val_loss: 0.4449 - val_filtered_image_outputs_loss: 0.0031 - val_number_output_loss: 0.3128 - val_filtered_image_outputs_accuracy: 0.7949 - val_number_output_accuracy: 0.8878 - val_number_output_precision: 0.8896 - val_number_output_recall: 0.8838\n",
      "Epoch 21/100\n",
      "291/291 [==============================] - ETA: 0s - loss: 0.4656 - filtered_image_outputs_loss: 0.0034 - number_output_loss: 0.3346 - filtered_image_outputs_accuracy: 0.7933 - number_output_accuracy: 0.8757 - number_output_precision: 0.8799 - number_output_recall: 0.8679\n",
      "Epoch 21: val_number_output_accuracy improved from 0.89405 to 0.89706, saving model to Filter_Model/model/filter_model.h5\n",
      "291/291 [==============================] - 11s 39ms/step - loss: 0.4656 - filtered_image_outputs_loss: 0.0034 - number_output_loss: 0.3346 - filtered_image_outputs_accuracy: 0.7933 - number_output_accuracy: 0.8757 - number_output_precision: 0.8799 - number_output_recall: 0.8679 - val_loss: 0.4124 - val_filtered_image_outputs_loss: 0.0032 - val_number_output_loss: 0.2828 - val_filtered_image_outputs_accuracy: 0.7949 - val_number_output_accuracy: 0.8971 - val_number_output_precision: 0.9014 - val_number_output_recall: 0.8928\n",
      "Epoch 22/100\n",
      "291/291 [==============================] - ETA: 0s - loss: 0.4577 - filtered_image_outputs_loss: 0.0034 - number_output_loss: 0.3291 - filtered_image_outputs_accuracy: 0.7933 - number_output_accuracy: 0.8719 - number_output_precision: 0.8764 - number_output_recall: 0.8660\n",
      "Epoch 22: val_number_output_accuracy did not improve from 0.89706\n",
      "291/291 [==============================] - 11s 38ms/step - loss: 0.4577 - filtered_image_outputs_loss: 0.0034 - number_output_loss: 0.3291 - filtered_image_outputs_accuracy: 0.7933 - number_output_accuracy: 0.8719 - number_output_precision: 0.8764 - number_output_recall: 0.8660 - val_loss: 0.4286 - val_filtered_image_outputs_loss: 0.0030 - val_number_output_loss: 0.3016 - val_filtered_image_outputs_accuracy: 0.7949 - val_number_output_accuracy: 0.8810 - val_number_output_precision: 0.8861 - val_number_output_recall: 0.8750\n",
      "Epoch 23/100\n",
      "290/291 [============================>.] - ETA: 0s - loss: 0.4588 - filtered_image_outputs_loss: 0.0033 - number_output_loss: 0.3325 - filtered_image_outputs_accuracy: 0.7933 - number_output_accuracy: 0.8738 - number_output_precision: 0.8797 - number_output_recall: 0.8665\n",
      "Epoch 23: val_number_output_accuracy did not improve from 0.89706\n",
      "291/291 [==============================] - 11s 37ms/step - loss: 0.4587 - filtered_image_outputs_loss: 0.0033 - number_output_loss: 0.3324 - filtered_image_outputs_accuracy: 0.7933 - number_output_accuracy: 0.8739 - number_output_precision: 0.8797 - number_output_recall: 0.8666 - val_loss: 0.4483 - val_filtered_image_outputs_loss: 0.0029 - val_number_output_loss: 0.3235 - val_filtered_image_outputs_accuracy: 0.7949 - val_number_output_accuracy: 0.8710 - val_number_output_precision: 0.8726 - val_number_output_recall: 0.8687\n",
      "Epoch 24/100\n",
      "290/291 [============================>.] - ETA: 0s - loss: 0.4598 - filtered_image_outputs_loss: 0.0032 - number_output_loss: 0.3358 - filtered_image_outputs_accuracy: 0.7934 - number_output_accuracy: 0.8726 - number_output_precision: 0.8771 - number_output_recall: 0.8654\n",
      "Epoch 24: val_number_output_accuracy did not improve from 0.89706\n",
      "291/291 [==============================] - 11s 38ms/step - loss: 0.4599 - filtered_image_outputs_loss: 0.0032 - number_output_loss: 0.3359 - filtered_image_outputs_accuracy: 0.7934 - number_output_accuracy: 0.8726 - number_output_precision: 0.8771 - number_output_recall: 0.8654 - val_loss: 0.5622 - val_filtered_image_outputs_loss: 0.0029 - val_number_output_loss: 0.4395 - val_filtered_image_outputs_accuracy: 0.7948 - val_number_output_accuracy: 0.8283 - val_number_output_precision: 0.8307 - val_number_output_recall: 0.8255\n",
      "Epoch 25/100\n",
      "290/291 [============================>.] - ETA: 0s - loss: 0.4374 - filtered_image_outputs_loss: 0.0031 - number_output_loss: 0.3156 - filtered_image_outputs_accuracy: 0.7934 - number_output_accuracy: 0.8793 - number_output_precision: 0.8834 - number_output_recall: 0.8721\n",
      "Epoch 25: val_number_output_accuracy did not improve from 0.89706\n",
      "291/291 [==============================] - 11s 37ms/step - loss: 0.4379 - filtered_image_outputs_loss: 0.0031 - number_output_loss: 0.3160 - filtered_image_outputs_accuracy: 0.7934 - number_output_accuracy: 0.8790 - number_output_precision: 0.8831 - number_output_recall: 0.8717 - val_loss: 0.6349 - val_filtered_image_outputs_loss: 0.0028 - val_number_output_loss: 0.5143 - val_filtered_image_outputs_accuracy: 0.7949 - val_number_output_accuracy: 0.7909 - val_number_output_precision: 0.8003 - val_number_output_recall: 0.7745\n",
      "Epoch 26/100\n",
      "290/291 [============================>.] - ETA: 0s - loss: 0.4440 - filtered_image_outputs_loss: 0.0031 - number_output_loss: 0.3240 - filtered_image_outputs_accuracy: 0.7934 - number_output_accuracy: 0.8765 - number_output_precision: 0.8809 - number_output_recall: 0.8703\n",
      "Epoch 26: val_number_output_accuracy did not improve from 0.89706\n",
      "291/291 [==============================] - 11s 37ms/step - loss: 0.4437 - filtered_image_outputs_loss: 0.0031 - number_output_loss: 0.3237 - filtered_image_outputs_accuracy: 0.7933 - number_output_accuracy: 0.8766 - number_output_precision: 0.8809 - number_output_recall: 0.8703 - val_loss: 0.4188 - val_filtered_image_outputs_loss: 0.0029 - val_number_output_loss: 0.3000 - val_filtered_image_outputs_accuracy: 0.7949 - val_number_output_accuracy: 0.8735 - val_number_output_precision: 0.8764 - val_number_output_recall: 0.8707\n",
      "Epoch 27/100\n",
      "290/291 [============================>.] - ETA: 0s - loss: 0.4366 - filtered_image_outputs_loss: 0.0031 - number_output_loss: 0.3184 - filtered_image_outputs_accuracy: 0.7933 - number_output_accuracy: 0.8800 - number_output_precision: 0.8854 - number_output_recall: 0.8735\n",
      "Epoch 27: val_number_output_accuracy did not improve from 0.89706\n",
      "291/291 [==============================] - 11s 39ms/step - loss: 0.4363 - filtered_image_outputs_loss: 0.0031 - number_output_loss: 0.3181 - filtered_image_outputs_accuracy: 0.7933 - number_output_accuracy: 0.8801 - number_output_precision: 0.8856 - number_output_recall: 0.8737 - val_loss: 0.4687 - val_filtered_image_outputs_loss: 0.0028 - val_number_output_loss: 0.3516 - val_filtered_image_outputs_accuracy: 0.7949 - val_number_output_accuracy: 0.8722 - val_number_output_precision: 0.8838 - val_number_output_recall: 0.8592\n",
      "Epoch 28/100\n",
      "291/291 [==============================] - ETA: 0s - loss: 0.4149 - filtered_image_outputs_loss: 0.0030 - number_output_loss: 0.2986 - filtered_image_outputs_accuracy: 0.7933 - number_output_accuracy: 0.8888 - number_output_precision: 0.8925 - number_output_recall: 0.8836\n",
      "Epoch 28: val_number_output_accuracy improved from 0.89706 to 0.90660, saving model to Filter_Model/model/filter_model.h5\n",
      "291/291 [==============================] - 11s 38ms/step - loss: 0.4149 - filtered_image_outputs_loss: 0.0030 - number_output_loss: 0.2986 - filtered_image_outputs_accuracy: 0.7933 - number_output_accuracy: 0.8888 - number_output_precision: 0.8925 - number_output_recall: 0.8836 - val_loss: 0.3743 - val_filtered_image_outputs_loss: 0.0029 - val_number_output_loss: 0.2592 - val_filtered_image_outputs_accuracy: 0.7950 - val_number_output_accuracy: 0.9066 - val_number_output_precision: 0.9109 - val_number_output_recall: 0.9013\n",
      "Epoch 29/100\n",
      "291/291 [==============================] - ETA: 0s - loss: 0.4171 - filtered_image_outputs_loss: 0.0030 - number_output_loss: 0.3026 - filtered_image_outputs_accuracy: 0.7933 - number_output_accuracy: 0.8850 - number_output_precision: 0.8900 - number_output_recall: 0.8796\n",
      "Epoch 29: val_number_output_accuracy did not improve from 0.90660\n",
      "291/291 [==============================] - 11s 39ms/step - loss: 0.4171 - filtered_image_outputs_loss: 0.0030 - number_output_loss: 0.3026 - filtered_image_outputs_accuracy: 0.7933 - number_output_accuracy: 0.8850 - number_output_precision: 0.8900 - number_output_recall: 0.8796 - val_loss: 0.5013 - val_filtered_image_outputs_loss: 0.0028 - val_number_output_loss: 0.3879 - val_filtered_image_outputs_accuracy: 0.7949 - val_number_output_accuracy: 0.8393 - val_number_output_precision: 0.8570 - val_number_output_recall: 0.8200\n",
      "Epoch 30/100\n",
      "291/291 [==============================] - ETA: 0s - loss: 0.4115 - filtered_image_outputs_loss: 0.0029 - number_output_loss: 0.2988 - filtered_image_outputs_accuracy: 0.7934 - number_output_accuracy: 0.8857 - number_output_precision: 0.8905 - number_output_recall: 0.8803\n",
      "Epoch 30: val_number_output_accuracy did not improve from 0.90660\n",
      "291/291 [==============================] - 11s 37ms/step - loss: 0.4115 - filtered_image_outputs_loss: 0.0029 - number_output_loss: 0.2988 - filtered_image_outputs_accuracy: 0.7934 - number_output_accuracy: 0.8857 - number_output_precision: 0.8905 - number_output_recall: 0.8803 - val_loss: 0.4408 - val_filtered_image_outputs_loss: 0.0027 - val_number_output_loss: 0.3291 - val_filtered_image_outputs_accuracy: 0.7950 - val_number_output_accuracy: 0.8785 - val_number_output_precision: 0.8916 - val_number_output_recall: 0.8592\n",
      "Epoch 31/100\n",
      "291/291 [==============================] - ETA: 0s - loss: 0.4016 - filtered_image_outputs_loss: 0.0029 - number_output_loss: 0.2905 - filtered_image_outputs_accuracy: 0.7933 - number_output_accuracy: 0.8921 - number_output_precision: 0.8967 - number_output_recall: 0.8855\n",
      "Epoch 31: val_number_output_accuracy did not improve from 0.90660\n",
      "291/291 [==============================] - 11s 38ms/step - loss: 0.4016 - filtered_image_outputs_loss: 0.0029 - number_output_loss: 0.2905 - filtered_image_outputs_accuracy: 0.7933 - number_output_accuracy: 0.8921 - number_output_precision: 0.8967 - number_output_recall: 0.8855 - val_loss: 0.3798 - val_filtered_image_outputs_loss: 0.0027 - val_number_output_loss: 0.2697 - val_filtered_image_outputs_accuracy: 0.7949 - val_number_output_accuracy: 0.8988 - val_number_output_precision: 0.9002 - val_number_output_recall: 0.8943\n",
      "Epoch 32/100\n",
      "291/291 [==============================] - ETA: 0s - loss: 0.4065 - filtered_image_outputs_loss: 0.0029 - number_output_loss: 0.2969 - filtered_image_outputs_accuracy: 0.7933 - number_output_accuracy: 0.8906 - number_output_precision: 0.8946 - number_output_recall: 0.8854\n",
      "Epoch 32: val_number_output_accuracy did not improve from 0.90660\n",
      "291/291 [==============================] - 11s 38ms/step - loss: 0.4065 - filtered_image_outputs_loss: 0.0029 - number_output_loss: 0.2969 - filtered_image_outputs_accuracy: 0.7933 - number_output_accuracy: 0.8906 - number_output_precision: 0.8946 - number_output_recall: 0.8854 - val_loss: 0.6360 - val_filtered_image_outputs_loss: 0.0028 - val_number_output_loss: 0.5272 - val_filtered_image_outputs_accuracy: 0.7949 - val_number_output_accuracy: 0.7901 - val_number_output_precision: 0.7913 - val_number_output_recall: 0.7881\n",
      "Epoch 33/100\n",
      "291/291 [==============================] - ETA: 0s - loss: 0.4154 - filtered_image_outputs_loss: 0.0029 - number_output_loss: 0.3072 - filtered_image_outputs_accuracy: 0.7933 - number_output_accuracy: 0.8808 - number_output_precision: 0.8855 - number_output_recall: 0.8750\n",
      "Epoch 33: val_number_output_accuracy did not improve from 0.90660\n",
      "291/291 [==============================] - 11s 38ms/step - loss: 0.4154 - filtered_image_outputs_loss: 0.0029 - number_output_loss: 0.3072 - filtered_image_outputs_accuracy: 0.7933 - number_output_accuracy: 0.8808 - number_output_precision: 0.8855 - number_output_recall: 0.8750 - val_loss: 0.3800 - val_filtered_image_outputs_loss: 0.0026 - val_number_output_loss: 0.2727 - val_filtered_image_outputs_accuracy: 0.7948 - val_number_output_accuracy: 0.9016 - val_number_output_precision: 0.9039 - val_number_output_recall: 0.9001\n",
      "Epoch 34/100\n",
      "291/291 [==============================] - ETA: 0s - loss: 0.3933 - filtered_image_outputs_loss: 0.0028 - number_output_loss: 0.2865 - filtered_image_outputs_accuracy: 0.7933 - number_output_accuracy: 0.8933 - number_output_precision: 0.8973 - number_output_recall: 0.8889\n",
      "Epoch 34: val_number_output_accuracy did not improve from 0.90660\n",
      "291/291 [==============================] - 11s 38ms/step - loss: 0.3933 - filtered_image_outputs_loss: 0.0028 - number_output_loss: 0.2865 - filtered_image_outputs_accuracy: 0.7933 - number_output_accuracy: 0.8933 - number_output_precision: 0.8973 - number_output_recall: 0.8889 - val_loss: 0.3762 - val_filtered_image_outputs_loss: 0.0027 - val_number_output_loss: 0.2701 - val_filtered_image_outputs_accuracy: 0.7949 - val_number_output_accuracy: 0.9011 - val_number_output_precision: 0.9058 - val_number_output_recall: 0.8978\n",
      "Epoch 35/100\n",
      "290/291 [============================>.] - ETA: 0s - loss: 0.3807 - filtered_image_outputs_loss: 0.0028 - number_output_loss: 0.2751 - filtered_image_outputs_accuracy: 0.7934 - number_output_accuracy: 0.8964 - number_output_precision: 0.9002 - number_output_recall: 0.8933\n",
      "Epoch 35: val_number_output_accuracy improved from 0.90660 to 0.92995, saving model to Filter_Model/model/filter_model.h5\n",
      "291/291 [==============================] - 11s 39ms/step - loss: 0.3807 - filtered_image_outputs_loss: 0.0028 - number_output_loss: 0.2751 - filtered_image_outputs_accuracy: 0.7933 - number_output_accuracy: 0.8965 - number_output_precision: 0.9002 - number_output_recall: 0.8934 - val_loss: 0.3161 - val_filtered_image_outputs_loss: 0.0026 - val_number_output_loss: 0.2113 - val_filtered_image_outputs_accuracy: 0.7949 - val_number_output_accuracy: 0.9300 - val_number_output_precision: 0.9326 - val_number_output_recall: 0.9272\n",
      "Epoch 36/100\n",
      "291/291 [==============================] - ETA: 0s - loss: 0.3553 - filtered_image_outputs_loss: 0.0027 - number_output_loss: 0.2511 - filtered_image_outputs_accuracy: 0.7933 - number_output_accuracy: 0.9062 - number_output_precision: 0.9107 - number_output_recall: 0.9016\n",
      "Epoch 36: val_number_output_accuracy did not improve from 0.92995\n",
      "291/291 [==============================] - 11s 38ms/step - loss: 0.3553 - filtered_image_outputs_loss: 0.0027 - number_output_loss: 0.2511 - filtered_image_outputs_accuracy: 0.7933 - number_output_accuracy: 0.9062 - number_output_precision: 0.9107 - number_output_recall: 0.9016 - val_loss: 0.3273 - val_filtered_image_outputs_loss: 0.0026 - val_number_output_loss: 0.2238 - val_filtered_image_outputs_accuracy: 0.7948 - val_number_output_accuracy: 0.9244 - val_number_output_precision: 0.9275 - val_number_output_recall: 0.9217\n",
      "Epoch 37/100\n",
      "290/291 [============================>.] - ETA: 0s - loss: 0.3638 - filtered_image_outputs_loss: 0.0028 - number_output_loss: 0.2608 - filtered_image_outputs_accuracy: 0.7933 - number_output_accuracy: 0.9013 - number_output_precision: 0.9073 - number_output_recall: 0.8984\n",
      "Epoch 37: val_number_output_accuracy did not improve from 0.92995\n",
      "291/291 [==============================] - 11s 38ms/step - loss: 0.3637 - filtered_image_outputs_loss: 0.0028 - number_output_loss: 0.2607 - filtered_image_outputs_accuracy: 0.7933 - number_output_accuracy: 0.9012 - number_output_precision: 0.9072 - number_output_recall: 0.8983 - val_loss: 0.4782 - val_filtered_image_outputs_loss: 0.0026 - val_number_output_loss: 0.3759 - val_filtered_image_outputs_accuracy: 0.7949 - val_number_output_accuracy: 0.8612 - val_number_output_precision: 0.8642 - val_number_output_recall: 0.8564\n",
      "Epoch 38/100\n",
      "291/291 [==============================] - ETA: 0s - loss: 0.3570 - filtered_image_outputs_loss: 0.0027 - number_output_loss: 0.2551 - filtered_image_outputs_accuracy: 0.7934 - number_output_accuracy: 0.9069 - number_output_precision: 0.9100 - number_output_recall: 0.9033\n",
      "Epoch 38: val_number_output_accuracy did not improve from 0.92995\n",
      "291/291 [==============================] - 11s 37ms/step - loss: 0.3570 - filtered_image_outputs_loss: 0.0027 - number_output_loss: 0.2551 - filtered_image_outputs_accuracy: 0.7934 - number_output_accuracy: 0.9069 - number_output_precision: 0.9100 - number_output_recall: 0.9033 - val_loss: 0.3753 - val_filtered_image_outputs_loss: 0.0026 - val_number_output_loss: 0.2742 - val_filtered_image_outputs_accuracy: 0.7949 - val_number_output_accuracy: 0.9028 - val_number_output_precision: 0.9076 - val_number_output_recall: 0.8951\n",
      "Epoch 39/100\n",
      "291/291 [==============================] - ETA: 0s - loss: 0.3413 - filtered_image_outputs_loss: 0.0027 - number_output_loss: 0.2406 - filtered_image_outputs_accuracy: 0.7933 - number_output_accuracy: 0.9090 - number_output_precision: 0.9122 - number_output_recall: 0.9057\n",
      "Epoch 39: val_number_output_accuracy did not improve from 0.92995\n",
      "291/291 [==============================] - 11s 38ms/step - loss: 0.3413 - filtered_image_outputs_loss: 0.0027 - number_output_loss: 0.2406 - filtered_image_outputs_accuracy: 0.7933 - number_output_accuracy: 0.9090 - number_output_precision: 0.9122 - number_output_recall: 0.9057 - val_loss: 0.3486 - val_filtered_image_outputs_loss: 0.0026 - val_number_output_loss: 0.2486 - val_filtered_image_outputs_accuracy: 0.7949 - val_number_output_accuracy: 0.9094 - val_number_output_precision: 0.9141 - val_number_output_recall: 0.9026\n",
      "Epoch 40/100\n",
      "291/291 [==============================] - ETA: 0s - loss: 0.3496 - filtered_image_outputs_loss: 0.0027 - number_output_loss: 0.2499 - filtered_image_outputs_accuracy: 0.7933 - number_output_accuracy: 0.9065 - number_output_precision: 0.9107 - number_output_recall: 0.9023\n",
      "Epoch 40: val_number_output_accuracy improved from 0.92995 to 0.93146, saving model to Filter_Model/model/filter_model.h5\n",
      "291/291 [==============================] - 11s 39ms/step - loss: 0.3496 - filtered_image_outputs_loss: 0.0027 - number_output_loss: 0.2499 - filtered_image_outputs_accuracy: 0.7933 - number_output_accuracy: 0.9065 - number_output_precision: 0.9107 - number_output_recall: 0.9023 - val_loss: 0.3053 - val_filtered_image_outputs_loss: 0.0026 - val_number_output_loss: 0.2061 - val_filtered_image_outputs_accuracy: 0.7949 - val_number_output_accuracy: 0.9315 - val_number_output_precision: 0.9330 - val_number_output_recall: 0.9297\n",
      "Epoch 41/100\n",
      "291/291 [==============================] - ETA: 0s - loss: 0.3431 - filtered_image_outputs_loss: 0.0027 - number_output_loss: 0.2443 - filtered_image_outputs_accuracy: 0.7933 - number_output_accuracy: 0.9089 - number_output_precision: 0.9125 - number_output_recall: 0.9058\n",
      "Epoch 41: val_number_output_accuracy did not improve from 0.93146\n",
      "291/291 [==============================] - 11s 39ms/step - loss: 0.3431 - filtered_image_outputs_loss: 0.0027 - number_output_loss: 0.2443 - filtered_image_outputs_accuracy: 0.7933 - number_output_accuracy: 0.9089 - number_output_precision: 0.9125 - number_output_recall: 0.9058 - val_loss: 0.3467 - val_filtered_image_outputs_loss: 0.0026 - val_number_output_loss: 0.2486 - val_filtered_image_outputs_accuracy: 0.7949 - val_number_output_accuracy: 0.9182 - val_number_output_precision: 0.9230 - val_number_output_recall: 0.9119\n",
      "Epoch 42/100\n",
      "290/291 [============================>.] - ETA: 0s - loss: 0.3364 - filtered_image_outputs_loss: 0.0027 - number_output_loss: 0.2386 - filtered_image_outputs_accuracy: 0.7933 - number_output_accuracy: 0.9137 - number_output_precision: 0.9169 - number_output_recall: 0.9101\n",
      "Epoch 42: val_number_output_accuracy did not improve from 0.93146\n",
      "291/291 [==============================] - 11s 38ms/step - loss: 0.3363 - filtered_image_outputs_loss: 0.0027 - number_output_loss: 0.2385 - filtered_image_outputs_accuracy: 0.7933 - number_output_accuracy: 0.9137 - number_output_precision: 0.9170 - number_output_recall: 0.9101 - val_loss: 0.3044 - val_filtered_image_outputs_loss: 0.0025 - val_number_output_loss: 0.2072 - val_filtered_image_outputs_accuracy: 0.7948 - val_number_output_accuracy: 0.9227 - val_number_output_precision: 0.9258 - val_number_output_recall: 0.9204\n",
      "Epoch 43/100\n",
      "290/291 [============================>.] - ETA: 0s - loss: 0.3358 - filtered_image_outputs_loss: 0.0027 - number_output_loss: 0.2390 - filtered_image_outputs_accuracy: 0.7934 - number_output_accuracy: 0.9126 - number_output_precision: 0.9165 - number_output_recall: 0.9086\n",
      "Epoch 43: val_number_output_accuracy did not improve from 0.93146\n",
      "291/291 [==============================] - 11s 39ms/step - loss: 0.3357 - filtered_image_outputs_loss: 0.0027 - number_output_loss: 0.2389 - filtered_image_outputs_accuracy: 0.7933 - number_output_accuracy: 0.9126 - number_output_precision: 0.9165 - number_output_recall: 0.9086 - val_loss: 0.3800 - val_filtered_image_outputs_loss: 0.0026 - val_number_output_loss: 0.2837 - val_filtered_image_outputs_accuracy: 0.7949 - val_number_output_accuracy: 0.8930 - val_number_output_precision: 0.8971 - val_number_output_recall: 0.8885\n",
      "Epoch 44/100\n",
      "291/291 [==============================] - ETA: 0s - loss: 0.3326 - filtered_image_outputs_loss: 0.0027 - number_output_loss: 0.2366 - filtered_image_outputs_accuracy: 0.7933 - number_output_accuracy: 0.9163 - number_output_precision: 0.9205 - number_output_recall: 0.9125\n",
      "Epoch 44: val_number_output_accuracy did not improve from 0.93146\n",
      "291/291 [==============================] - 11s 37ms/step - loss: 0.3326 - filtered_image_outputs_loss: 0.0027 - number_output_loss: 0.2366 - filtered_image_outputs_accuracy: 0.7933 - number_output_accuracy: 0.9163 - number_output_precision: 0.9205 - number_output_recall: 0.9125 - val_loss: 0.3962 - val_filtered_image_outputs_loss: 0.0025 - val_number_output_loss: 0.3009 - val_filtered_image_outputs_accuracy: 0.7949 - val_number_output_accuracy: 0.8903 - val_number_output_precision: 0.8923 - val_number_output_recall: 0.8880\n",
      "Epoch 45/100\n",
      "291/291 [==============================] - ETA: 0s - loss: 0.3306 - filtered_image_outputs_loss: 0.0027 - number_output_loss: 0.2355 - filtered_image_outputs_accuracy: 0.7933 - number_output_accuracy: 0.9169 - number_output_precision: 0.9200 - number_output_recall: 0.9132\n",
      "Epoch 45: val_number_output_accuracy did not improve from 0.93146\n",
      "291/291 [==============================] - 11s 37ms/step - loss: 0.3306 - filtered_image_outputs_loss: 0.0027 - number_output_loss: 0.2355 - filtered_image_outputs_accuracy: 0.7933 - number_output_accuracy: 0.9169 - number_output_precision: 0.9200 - number_output_recall: 0.9132 - val_loss: 0.3136 - val_filtered_image_outputs_loss: 0.0025 - val_number_output_loss: 0.2191 - val_filtered_image_outputs_accuracy: 0.7949 - val_number_output_accuracy: 0.9207 - val_number_output_precision: 0.9243 - val_number_output_recall: 0.9169\n",
      "Epoch 46/100\n",
      "291/291 [==============================] - ETA: 0s - loss: 0.3298 - filtered_image_outputs_loss: 0.0027 - number_output_loss: 0.2355 - filtered_image_outputs_accuracy: 0.7933 - number_output_accuracy: 0.9118 - number_output_precision: 0.9159 - number_output_recall: 0.9085\n",
      "Epoch 46: val_number_output_accuracy did not improve from 0.93146\n",
      "291/291 [==============================] - 11s 37ms/step - loss: 0.3298 - filtered_image_outputs_loss: 0.0027 - number_output_loss: 0.2355 - filtered_image_outputs_accuracy: 0.7933 - number_output_accuracy: 0.9118 - number_output_precision: 0.9159 - number_output_recall: 0.9085 - val_loss: 0.3176 - val_filtered_image_outputs_loss: 0.0025 - val_number_output_loss: 0.2239 - val_filtered_image_outputs_accuracy: 0.7948 - val_number_output_accuracy: 0.9217 - val_number_output_precision: 0.9250 - val_number_output_recall: 0.9194\n",
      "Epoch 47/100\n",
      "291/291 [==============================] - ETA: 0s - loss: 0.3284 - filtered_image_outputs_loss: 0.0026 - number_output_loss: 0.2348 - filtered_image_outputs_accuracy: 0.7933 - number_output_accuracy: 0.9132 - number_output_precision: 0.9167 - number_output_recall: 0.9093\n",
      "Epoch 47: val_number_output_accuracy improved from 0.93146 to 0.93171, saving model to Filter_Model/model/filter_model.h5\n",
      "291/291 [==============================] - 11s 37ms/step - loss: 0.3284 - filtered_image_outputs_loss: 0.0026 - number_output_loss: 0.2348 - filtered_image_outputs_accuracy: 0.7933 - number_output_accuracy: 0.9132 - number_output_precision: 0.9167 - number_output_recall: 0.9093 - val_loss: 0.2888 - val_filtered_image_outputs_loss: 0.0025 - val_number_output_loss: 0.1958 - val_filtered_image_outputs_accuracy: 0.7948 - val_number_output_accuracy: 0.9317 - val_number_output_precision: 0.9335 - val_number_output_recall: 0.9305\n",
      "Epoch 48/100\n",
      "291/291 [==============================] - ETA: 0s - loss: 0.3225 - filtered_image_outputs_loss: 0.0027 - number_output_loss: 0.2298 - filtered_image_outputs_accuracy: 0.7933 - number_output_accuracy: 0.9169 - number_output_precision: 0.9206 - number_output_recall: 0.9135\n",
      "Epoch 48: val_number_output_accuracy did not improve from 0.93171\n",
      "291/291 [==============================] - 11s 37ms/step - loss: 0.3225 - filtered_image_outputs_loss: 0.0027 - number_output_loss: 0.2298 - filtered_image_outputs_accuracy: 0.7933 - number_output_accuracy: 0.9169 - number_output_precision: 0.9206 - number_output_recall: 0.9135 - val_loss: 0.3041 - val_filtered_image_outputs_loss: 0.0026 - val_number_output_loss: 0.2118 - val_filtered_image_outputs_accuracy: 0.7949 - val_number_output_accuracy: 0.9237 - val_number_output_precision: 0.9258 - val_number_output_recall: 0.9209\n",
      "Epoch 49/100\n",
      "290/291 [============================>.] - ETA: 0s - loss: 0.3183 - filtered_image_outputs_loss: 0.0026 - number_output_loss: 0.2263 - filtered_image_outputs_accuracy: 0.7933 - number_output_accuracy: 0.9167 - number_output_precision: 0.9181 - number_output_recall: 0.9137\n",
      "Epoch 49: val_number_output_accuracy did not improve from 0.93171\n",
      "291/291 [==============================] - 11s 38ms/step - loss: 0.3183 - filtered_image_outputs_loss: 0.0026 - number_output_loss: 0.2262 - filtered_image_outputs_accuracy: 0.7933 - number_output_accuracy: 0.9166 - number_output_precision: 0.9181 - number_output_recall: 0.9136 - val_loss: 0.3192 - val_filtered_image_outputs_loss: 0.0026 - val_number_output_loss: 0.2276 - val_filtered_image_outputs_accuracy: 0.7948 - val_number_output_accuracy: 0.9204 - val_number_output_precision: 0.9213 - val_number_output_recall: 0.9194\n",
      "Epoch 50/100\n",
      "290/291 [============================>.] - ETA: 0s - loss: 0.3194 - filtered_image_outputs_loss: 0.0026 - number_output_loss: 0.2280 - filtered_image_outputs_accuracy: 0.7934 - number_output_accuracy: 0.9168 - number_output_precision: 0.9198 - number_output_recall: 0.9134\n",
      "Epoch 50: val_number_output_accuracy improved from 0.93171 to 0.93372, saving model to Filter_Model/model/filter_model.h5\n",
      "291/291 [==============================] - 12s 40ms/step - loss: 0.3191 - filtered_image_outputs_loss: 0.0026 - number_output_loss: 0.2278 - filtered_image_outputs_accuracy: 0.7933 - number_output_accuracy: 0.9169 - number_output_precision: 0.9199 - number_output_recall: 0.9135 - val_loss: 0.2929 - val_filtered_image_outputs_loss: 0.0024 - val_number_output_loss: 0.2021 - val_filtered_image_outputs_accuracy: 0.7949 - val_number_output_accuracy: 0.9337 - val_number_output_precision: 0.9362 - val_number_output_recall: 0.9320\n",
      "Epoch 51/100\n",
      "290/291 [============================>.] - ETA: 0s - loss: 0.3253 - filtered_image_outputs_loss: 0.0026 - number_output_loss: 0.2346 - filtered_image_outputs_accuracy: 0.7934 - number_output_accuracy: 0.9153 - number_output_precision: 0.9184 - number_output_recall: 0.9110\n",
      "Epoch 51: val_number_output_accuracy did not improve from 0.93372\n",
      "291/291 [==============================] - 11s 37ms/step - loss: 0.3258 - filtered_image_outputs_loss: 0.0026 - number_output_loss: 0.2350 - filtered_image_outputs_accuracy: 0.7934 - number_output_accuracy: 0.9150 - number_output_precision: 0.9181 - number_output_recall: 0.9107 - val_loss: 0.2911 - val_filtered_image_outputs_loss: 0.0025 - val_number_output_loss: 0.2007 - val_filtered_image_outputs_accuracy: 0.7949 - val_number_output_accuracy: 0.9297 - val_number_output_precision: 0.9315 - val_number_output_recall: 0.9289\n",
      "Epoch 52/100\n",
      "291/291 [==============================] - ETA: 0s - loss: 0.3124 - filtered_image_outputs_loss: 0.0027 - number_output_loss: 0.2223 - filtered_image_outputs_accuracy: 0.7933 - number_output_accuracy: 0.9178 - number_output_precision: 0.9206 - number_output_recall: 0.9143\n",
      "Epoch 52: val_number_output_accuracy did not improve from 0.93372\n",
      "291/291 [==============================] - 11s 38ms/step - loss: 0.3124 - filtered_image_outputs_loss: 0.0027 - number_output_loss: 0.2223 - filtered_image_outputs_accuracy: 0.7933 - number_output_accuracy: 0.9178 - number_output_precision: 0.9206 - number_output_recall: 0.9143 - val_loss: 0.3172 - val_filtered_image_outputs_loss: 0.0025 - val_number_output_loss: 0.2276 - val_filtered_image_outputs_accuracy: 0.7949 - val_number_output_accuracy: 0.9247 - val_number_output_precision: 0.9266 - val_number_output_recall: 0.9224\n",
      "Epoch 53/100\n",
      "291/291 [==============================] - ETA: 0s - loss: 0.3150 - filtered_image_outputs_loss: 0.0026 - number_output_loss: 0.2254 - filtered_image_outputs_accuracy: 0.7933 - number_output_accuracy: 0.9162 - number_output_precision: 0.9189 - number_output_recall: 0.9122\n",
      "Epoch 53: val_number_output_accuracy did not improve from 0.93372\n",
      "291/291 [==============================] - 11s 38ms/step - loss: 0.3150 - filtered_image_outputs_loss: 0.0026 - number_output_loss: 0.2254 - filtered_image_outputs_accuracy: 0.7933 - number_output_accuracy: 0.9162 - number_output_precision: 0.9189 - number_output_recall: 0.9122 - val_loss: 0.2834 - val_filtered_image_outputs_loss: 0.0024 - val_number_output_loss: 0.1944 - val_filtered_image_outputs_accuracy: 0.7949 - val_number_output_accuracy: 0.9332 - val_number_output_precision: 0.9363 - val_number_output_recall: 0.9297\n",
      "Epoch 54/100\n",
      "291/291 [==============================] - ETA: 0s - loss: 0.3156 - filtered_image_outputs_loss: 0.0026 - number_output_loss: 0.2267 - filtered_image_outputs_accuracy: 0.7933 - number_output_accuracy: 0.9186 - number_output_precision: 0.9221 - number_output_recall: 0.9150\n",
      "Epoch 54: val_number_output_accuracy improved from 0.93372 to 0.93422, saving model to Filter_Model/model/filter_model.h5\n",
      "291/291 [==============================] - 11s 38ms/step - loss: 0.3156 - filtered_image_outputs_loss: 0.0026 - number_output_loss: 0.2267 - filtered_image_outputs_accuracy: 0.7933 - number_output_accuracy: 0.9186 - number_output_precision: 0.9221 - number_output_recall: 0.9150 - val_loss: 0.2861 - val_filtered_image_outputs_loss: 0.0025 - val_number_output_loss: 0.1977 - val_filtered_image_outputs_accuracy: 0.7949 - val_number_output_accuracy: 0.9342 - val_number_output_precision: 0.9373 - val_number_output_recall: 0.9312\n",
      "Epoch 55/100\n",
      "291/291 [==============================] - ETA: 0s - loss: 0.3096 - filtered_image_outputs_loss: 0.0026 - number_output_loss: 0.2213 - filtered_image_outputs_accuracy: 0.7934 - number_output_accuracy: 0.9184 - number_output_precision: 0.9212 - number_output_recall: 0.9153\n",
      "Epoch 55: val_number_output_accuracy improved from 0.93422 to 0.93999, saving model to Filter_Model/model/filter_model.h5\n",
      "291/291 [==============================] - 11s 38ms/step - loss: 0.3096 - filtered_image_outputs_loss: 0.0026 - number_output_loss: 0.2213 - filtered_image_outputs_accuracy: 0.7934 - number_output_accuracy: 0.9184 - number_output_precision: 0.9212 - number_output_recall: 0.9153 - val_loss: 0.2848 - val_filtered_image_outputs_loss: 0.0025 - val_number_output_loss: 0.1970 - val_filtered_image_outputs_accuracy: 0.7949 - val_number_output_accuracy: 0.9400 - val_number_output_precision: 0.9406 - val_number_output_recall: 0.9382\n",
      "Epoch 56/100\n",
      "290/291 [============================>.] - ETA: 0s - loss: 0.2917 - filtered_image_outputs_loss: 0.0026 - number_output_loss: 0.2041 - filtered_image_outputs_accuracy: 0.7933 - number_output_accuracy: 0.9242 - number_output_precision: 0.9267 - number_output_recall: 0.9213\n",
      "Epoch 56: val_number_output_accuracy did not improve from 0.93999\n",
      "291/291 [==============================] - 11s 39ms/step - loss: 0.2915 - filtered_image_outputs_loss: 0.0026 - number_output_loss: 0.2039 - filtered_image_outputs_accuracy: 0.7933 - number_output_accuracy: 0.9244 - number_output_precision: 0.9268 - number_output_recall: 0.9214 - val_loss: 0.3145 - val_filtered_image_outputs_loss: 0.0025 - val_number_output_loss: 0.2273 - val_filtered_image_outputs_accuracy: 0.7949 - val_number_output_accuracy: 0.9232 - val_number_output_precision: 0.9269 - val_number_output_recall: 0.9169\n",
      "Epoch 57/100\n",
      "291/291 [==============================] - ETA: 0s - loss: 0.3041 - filtered_image_outputs_loss: 0.0026 - number_output_loss: 0.2170 - filtered_image_outputs_accuracy: 0.7933 - number_output_accuracy: 0.9228 - number_output_precision: 0.9260 - number_output_recall: 0.9183\n",
      "Epoch 57: val_number_output_accuracy did not improve from 0.93999\n",
      "291/291 [==============================] - 11s 37ms/step - loss: 0.3041 - filtered_image_outputs_loss: 0.0026 - number_output_loss: 0.2170 - filtered_image_outputs_accuracy: 0.7933 - number_output_accuracy: 0.9228 - number_output_precision: 0.9260 - number_output_recall: 0.9183 - val_loss: 0.2726 - val_filtered_image_outputs_loss: 0.0024 - val_number_output_loss: 0.1861 - val_filtered_image_outputs_accuracy: 0.7949 - val_number_output_accuracy: 0.9345 - val_number_output_precision: 0.9376 - val_number_output_recall: 0.9325\n",
      "Epoch 58/100\n",
      "290/291 [============================>.] - ETA: 0s - loss: 0.3047 - filtered_image_outputs_loss: 0.0026 - number_output_loss: 0.2182 - filtered_image_outputs_accuracy: 0.7934 - number_output_accuracy: 0.9195 - number_output_precision: 0.9226 - number_output_recall: 0.9159\n",
      "Epoch 58: val_number_output_accuracy did not improve from 0.93999\n",
      "291/291 [==============================] - 11s 38ms/step - loss: 0.3046 - filtered_image_outputs_loss: 0.0026 - number_output_loss: 0.2180 - filtered_image_outputs_accuracy: 0.7933 - number_output_accuracy: 0.9196 - number_output_precision: 0.9227 - number_output_recall: 0.9161 - val_loss: 0.3018 - val_filtered_image_outputs_loss: 0.0025 - val_number_output_loss: 0.2155 - val_filtered_image_outputs_accuracy: 0.7949 - val_number_output_accuracy: 0.9274 - val_number_output_precision: 0.9295 - val_number_output_recall: 0.9242\n",
      "Epoch 59/100\n",
      "291/291 [==============================] - ETA: 0s - loss: 0.3065 - filtered_image_outputs_loss: 0.0026 - number_output_loss: 0.2206 - filtered_image_outputs_accuracy: 0.7933 - number_output_accuracy: 0.9195 - number_output_precision: 0.9231 - number_output_recall: 0.9172\n",
      "Epoch 59: val_number_output_accuracy did not improve from 0.93999\n",
      "291/291 [==============================] - 11s 39ms/step - loss: 0.3065 - filtered_image_outputs_loss: 0.0026 - number_output_loss: 0.2206 - filtered_image_outputs_accuracy: 0.7933 - number_output_accuracy: 0.9195 - number_output_precision: 0.9231 - number_output_recall: 0.9172 - val_loss: 0.3315 - val_filtered_image_outputs_loss: 0.0024 - val_number_output_loss: 0.2459 - val_filtered_image_outputs_accuracy: 0.7949 - val_number_output_accuracy: 0.9136 - val_number_output_precision: 0.9158 - val_number_output_recall: 0.9116\n",
      "Epoch 60/100\n",
      "291/291 [==============================] - ETA: 0s - loss: 0.3027 - filtered_image_outputs_loss: 0.0026 - number_output_loss: 0.2172 - filtered_image_outputs_accuracy: 0.7933 - number_output_accuracy: 0.9213 - number_output_precision: 0.9239 - number_output_recall: 0.9183\n",
      "Epoch 60: val_number_output_accuracy did not improve from 0.93999\n",
      "291/291 [==============================] - 11s 38ms/step - loss: 0.3027 - filtered_image_outputs_loss: 0.0026 - number_output_loss: 0.2172 - filtered_image_outputs_accuracy: 0.7933 - number_output_accuracy: 0.9213 - number_output_precision: 0.9239 - number_output_recall: 0.9183 - val_loss: 0.2970 - val_filtered_image_outputs_loss: 0.0025 - val_number_output_loss: 0.2119 - val_filtered_image_outputs_accuracy: 0.7949 - val_number_output_accuracy: 0.9295 - val_number_output_precision: 0.9331 - val_number_output_recall: 0.9252\n",
      "Epoch 61/100\n",
      "290/291 [============================>.] - ETA: 0s - loss: 0.2928 - filtered_image_outputs_loss: 0.0025 - number_output_loss: 0.2079 - filtered_image_outputs_accuracy: 0.7934 - number_output_accuracy: 0.9251 - number_output_precision: 0.9278 - number_output_recall: 0.9213\n",
      "Epoch 61: val_number_output_accuracy did not improve from 0.93999\n",
      "291/291 [==============================] - 11s 37ms/step - loss: 0.2928 - filtered_image_outputs_loss: 0.0025 - number_output_loss: 0.2079 - filtered_image_outputs_accuracy: 0.7934 - number_output_accuracy: 0.9251 - number_output_precision: 0.9278 - number_output_recall: 0.9213 - val_loss: 0.3029 - val_filtered_image_outputs_loss: 0.0024 - val_number_output_loss: 0.2185 - val_filtered_image_outputs_accuracy: 0.7949 - val_number_output_accuracy: 0.9224 - val_number_output_precision: 0.9236 - val_number_output_recall: 0.9202\n",
      "Epoch 62/100\n",
      "291/291 [==============================] - ETA: 0s - loss: 0.2942 - filtered_image_outputs_loss: 0.0025 - number_output_loss: 0.2098 - filtered_image_outputs_accuracy: 0.7933 - number_output_accuracy: 0.9260 - number_output_precision: 0.9292 - number_output_recall: 0.9235\n",
      "Epoch 62: val_number_output_accuracy did not improve from 0.93999\n",
      "291/291 [==============================] - 11s 38ms/step - loss: 0.2942 - filtered_image_outputs_loss: 0.0025 - number_output_loss: 0.2098 - filtered_image_outputs_accuracy: 0.7933 - number_output_accuracy: 0.9260 - number_output_precision: 0.9292 - number_output_recall: 0.9235 - val_loss: 0.2799 - val_filtered_image_outputs_loss: 0.0024 - val_number_output_loss: 0.1959 - val_filtered_image_outputs_accuracy: 0.7948 - val_number_output_accuracy: 0.9350 - val_number_output_precision: 0.9367 - val_number_output_recall: 0.9332\n",
      "Epoch 63/100\n",
      "290/291 [============================>.] - ETA: 0s - loss: 0.2961 - filtered_image_outputs_loss: 0.0025 - number_output_loss: 0.2123 - filtered_image_outputs_accuracy: 0.7933 - number_output_accuracy: 0.9222 - number_output_precision: 0.9254 - number_output_recall: 0.9194\n",
      "Epoch 63: val_number_output_accuracy did not improve from 0.93999\n",
      "291/291 [==============================] - 11s 38ms/step - loss: 0.2964 - filtered_image_outputs_loss: 0.0025 - number_output_loss: 0.2125 - filtered_image_outputs_accuracy: 0.7933 - number_output_accuracy: 0.9220 - number_output_precision: 0.9252 - number_output_recall: 0.9192 - val_loss: 0.3557 - val_filtered_image_outputs_loss: 0.0024 - val_number_output_loss: 0.2723 - val_filtered_image_outputs_accuracy: 0.7949 - val_number_output_accuracy: 0.9046 - val_number_output_precision: 0.9054 - val_number_output_recall: 0.9033\n",
      "Epoch 64/100\n",
      "291/291 [==============================] - ETA: 0s - loss: 0.2884 - filtered_image_outputs_loss: 0.0025 - number_output_loss: 0.2051 - filtered_image_outputs_accuracy: 0.7933 - number_output_accuracy: 0.9294 - number_output_precision: 0.9323 - number_output_recall: 0.9271\n",
      "Epoch 64: val_number_output_accuracy improved from 0.93999 to 0.94276, saving model to Filter_Model/model/filter_model.h5\n",
      "291/291 [==============================] - 11s 38ms/step - loss: 0.2884 - filtered_image_outputs_loss: 0.0025 - number_output_loss: 0.2051 - filtered_image_outputs_accuracy: 0.7933 - number_output_accuracy: 0.9294 - number_output_precision: 0.9323 - number_output_recall: 0.9271 - val_loss: 0.2721 - val_filtered_image_outputs_loss: 0.0025 - val_number_output_loss: 0.1890 - val_filtered_image_outputs_accuracy: 0.7948 - val_number_output_accuracy: 0.9428 - val_number_output_precision: 0.9445 - val_number_output_recall: 0.9402\n",
      "Epoch 65/100\n",
      "290/291 [============================>.] - ETA: 0s - loss: 0.2878 - filtered_image_outputs_loss: 0.0025 - number_output_loss: 0.2049 - filtered_image_outputs_accuracy: 0.7933 - number_output_accuracy: 0.9279 - number_output_precision: 0.9310 - number_output_recall: 0.9250\n",
      "Epoch 65: val_number_output_accuracy did not improve from 0.94276\n",
      "291/291 [==============================] - 11s 37ms/step - loss: 0.2880 - filtered_image_outputs_loss: 0.0025 - number_output_loss: 0.2050 - filtered_image_outputs_accuracy: 0.7933 - number_output_accuracy: 0.9279 - number_output_precision: 0.9310 - number_output_recall: 0.9250 - val_loss: 0.2699 - val_filtered_image_outputs_loss: 0.0023 - val_number_output_loss: 0.1873 - val_filtered_image_outputs_accuracy: 0.7949 - val_number_output_accuracy: 0.9377 - val_number_output_precision: 0.9404 - val_number_output_recall: 0.9345\n",
      "Epoch 66/100\n",
      "291/291 [==============================] - ETA: 0s - loss: 0.2869 - filtered_image_outputs_loss: 0.0025 - number_output_loss: 0.2044 - filtered_image_outputs_accuracy: 0.7933 - number_output_accuracy: 0.9268 - number_output_precision: 0.9296 - number_output_recall: 0.9244\n",
      "Epoch 66: val_number_output_accuracy did not improve from 0.94276\n",
      "291/291 [==============================] - 11s 38ms/step - loss: 0.2869 - filtered_image_outputs_loss: 0.0025 - number_output_loss: 0.2044 - filtered_image_outputs_accuracy: 0.7933 - number_output_accuracy: 0.9268 - number_output_precision: 0.9296 - number_output_recall: 0.9244 - val_loss: 0.3457 - val_filtered_image_outputs_loss: 0.0024 - val_number_output_loss: 0.2636 - val_filtered_image_outputs_accuracy: 0.7948 - val_number_output_accuracy: 0.9071 - val_number_output_precision: 0.9084 - val_number_output_recall: 0.9061\n",
      "Epoch 67/100\n",
      "291/291 [==============================] - ETA: 0s - loss: 0.2953 - filtered_image_outputs_loss: 0.0025 - number_output_loss: 0.2133 - filtered_image_outputs_accuracy: 0.7933 - number_output_accuracy: 0.9250 - number_output_precision: 0.9273 - number_output_recall: 0.9226\n",
      "Epoch 67: val_number_output_accuracy did not improve from 0.94276\n",
      "291/291 [==============================] - 11s 36ms/step - loss: 0.2953 - filtered_image_outputs_loss: 0.0025 - number_output_loss: 0.2133 - filtered_image_outputs_accuracy: 0.7933 - number_output_accuracy: 0.9250 - number_output_precision: 0.9273 - number_output_recall: 0.9226 - val_loss: 0.2823 - val_filtered_image_outputs_loss: 0.0025 - val_number_output_loss: 0.2005 - val_filtered_image_outputs_accuracy: 0.7948 - val_number_output_accuracy: 0.9335 - val_number_output_precision: 0.9357 - val_number_output_recall: 0.9312\n",
      "Epoch 68/100\n",
      "290/291 [============================>.] - ETA: 0s - loss: 0.2814 - filtered_image_outputs_loss: 0.0025 - number_output_loss: 0.1998 - filtered_image_outputs_accuracy: 0.7933 - number_output_accuracy: 0.9287 - number_output_precision: 0.9312 - number_output_recall: 0.9259\n",
      "Epoch 68: val_number_output_accuracy did not improve from 0.94276\n",
      "291/291 [==============================] - 11s 38ms/step - loss: 0.2814 - filtered_image_outputs_loss: 0.0025 - number_output_loss: 0.1999 - filtered_image_outputs_accuracy: 0.7933 - number_output_accuracy: 0.9285 - number_output_precision: 0.9311 - number_output_recall: 0.9258 - val_loss: 0.2669 - val_filtered_image_outputs_loss: 0.0023 - val_number_output_loss: 0.1857 - val_filtered_image_outputs_accuracy: 0.7949 - val_number_output_accuracy: 0.9380 - val_number_output_precision: 0.9413 - val_number_output_recall: 0.9345\n",
      "Epoch 69/100\n",
      "290/291 [============================>.] - ETA: 0s - loss: 0.2779 - filtered_image_outputs_loss: 0.0025 - number_output_loss: 0.1968 - filtered_image_outputs_accuracy: 0.7933 - number_output_accuracy: 0.9295 - number_output_precision: 0.9316 - number_output_recall: 0.9262\n",
      "Epoch 69: val_number_output_accuracy did not improve from 0.94276\n",
      "291/291 [==============================] - 11s 38ms/step - loss: 0.2780 - filtered_image_outputs_loss: 0.0025 - number_output_loss: 0.1969 - filtered_image_outputs_accuracy: 0.7933 - number_output_accuracy: 0.9294 - number_output_precision: 0.9315 - number_output_recall: 0.9261 - val_loss: 0.2809 - val_filtered_image_outputs_loss: 0.0024 - val_number_output_loss: 0.2001 - val_filtered_image_outputs_accuracy: 0.7949 - val_number_output_accuracy: 0.9377 - val_number_output_precision: 0.9392 - val_number_output_recall: 0.9350\n",
      "Epoch 70/100\n",
      "291/291 [==============================] - ETA: 0s - loss: 0.2669 - filtered_image_outputs_loss: 0.0025 - number_output_loss: 0.1862 - filtered_image_outputs_accuracy: 0.7934 - number_output_accuracy: 0.9361 - number_output_precision: 0.9384 - number_output_recall: 0.9333\n",
      "Epoch 70: val_number_output_accuracy did not improve from 0.94276\n",
      "291/291 [==============================] - 11s 39ms/step - loss: 0.2669 - filtered_image_outputs_loss: 0.0025 - number_output_loss: 0.1862 - filtered_image_outputs_accuracy: 0.7934 - number_output_accuracy: 0.9361 - number_output_precision: 0.9384 - number_output_recall: 0.9333 - val_loss: 0.3700 - val_filtered_image_outputs_loss: 0.0023 - val_number_output_loss: 0.2897 - val_filtered_image_outputs_accuracy: 0.7949 - val_number_output_accuracy: 0.8925 - val_number_output_precision: 0.8959 - val_number_output_recall: 0.8885\n",
      "Epoch 71/100\n",
      "290/291 [============================>.] - ETA: 0s - loss: 0.2600 - filtered_image_outputs_loss: 0.0024 - number_output_loss: 0.1798 - filtered_image_outputs_accuracy: 0.7933 - number_output_accuracy: 0.9351 - number_output_precision: 0.9378 - number_output_recall: 0.9324\n",
      "Epoch 71: val_number_output_accuracy improved from 0.94276 to 0.94376, saving model to Filter_Model/model/filter_model.h5\n",
      "291/291 [==============================] - 11s 39ms/step - loss: 0.2602 - filtered_image_outputs_loss: 0.0024 - number_output_loss: 0.1799 - filtered_image_outputs_accuracy: 0.7933 - number_output_accuracy: 0.9350 - number_output_precision: 0.9377 - number_output_recall: 0.9323 - val_loss: 0.2502 - val_filtered_image_outputs_loss: 0.0023 - val_number_output_loss: 0.1702 - val_filtered_image_outputs_accuracy: 0.7949 - val_number_output_accuracy: 0.9438 - val_number_output_precision: 0.9468 - val_number_output_recall: 0.9428\n",
      "Epoch 72/100\n",
      "290/291 [============================>.] - ETA: 0s - loss: 0.2663 - filtered_image_outputs_loss: 0.0025 - number_output_loss: 0.1864 - filtered_image_outputs_accuracy: 0.7933 - number_output_accuracy: 0.9332 - number_output_precision: 0.9351 - number_output_recall: 0.9294\n",
      "Epoch 72: val_number_output_accuracy did not improve from 0.94376\n",
      "291/291 [==============================] - 11s 38ms/step - loss: 0.2661 - filtered_image_outputs_loss: 0.0025 - number_output_loss: 0.1862 - filtered_image_outputs_accuracy: 0.7933 - number_output_accuracy: 0.9333 - number_output_precision: 0.9352 - number_output_recall: 0.9295 - val_loss: 0.2652 - val_filtered_image_outputs_loss: 0.0023 - val_number_output_loss: 0.1856 - val_filtered_image_outputs_accuracy: 0.7949 - val_number_output_accuracy: 0.9372 - val_number_output_precision: 0.9392 - val_number_output_recall: 0.9355\n",
      "Epoch 73/100\n",
      "290/291 [============================>.] - ETA: 0s - loss: 0.2599 - filtered_image_outputs_loss: 0.0025 - number_output_loss: 0.1804 - filtered_image_outputs_accuracy: 0.7933 - number_output_accuracy: 0.9380 - number_output_precision: 0.9400 - number_output_recall: 0.9357\n",
      "Epoch 73: val_number_output_accuracy improved from 0.94376 to 0.94928, saving model to Filter_Model/model/filter_model.h5\n",
      "291/291 [==============================] - 11s 37ms/step - loss: 0.2598 - filtered_image_outputs_loss: 0.0025 - number_output_loss: 0.1802 - filtered_image_outputs_accuracy: 0.7934 - number_output_accuracy: 0.9381 - number_output_precision: 0.9401 - number_output_recall: 0.9358 - val_loss: 0.2468 - val_filtered_image_outputs_loss: 0.0024 - val_number_output_loss: 0.1675 - val_filtered_image_outputs_accuracy: 0.7948 - val_number_output_accuracy: 0.9493 - val_number_output_precision: 0.9514 - val_number_output_recall: 0.9478\n",
      "Epoch 74/100\n",
      "291/291 [==============================] - ETA: 0s - loss: 0.2593 - filtered_image_outputs_loss: 0.0024 - number_output_loss: 0.1802 - filtered_image_outputs_accuracy: 0.7933 - number_output_accuracy: 0.9358 - number_output_precision: 0.9375 - number_output_recall: 0.9326\n",
      "Epoch 74: val_number_output_accuracy did not improve from 0.94928\n",
      "291/291 [==============================] - 11s 38ms/step - loss: 0.2593 - filtered_image_outputs_loss: 0.0024 - number_output_loss: 0.1802 - filtered_image_outputs_accuracy: 0.7933 - number_output_accuracy: 0.9358 - number_output_precision: 0.9375 - number_output_recall: 0.9326 - val_loss: 0.2669 - val_filtered_image_outputs_loss: 0.0023 - val_number_output_loss: 0.1881 - val_filtered_image_outputs_accuracy: 0.7949 - val_number_output_accuracy: 0.9397 - val_number_output_precision: 0.9425 - val_number_output_recall: 0.9377\n",
      "Epoch 75/100\n",
      "290/291 [============================>.] - ETA: 0s - loss: 0.2602 - filtered_image_outputs_loss: 0.0024 - number_output_loss: 0.1815 - filtered_image_outputs_accuracy: 0.7933 - number_output_accuracy: 0.9356 - number_output_precision: 0.9381 - number_output_recall: 0.9335\n",
      "Epoch 75: val_number_output_accuracy improved from 0.94928 to 0.94979, saving model to Filter_Model/model/filter_model.h5\n",
      "291/291 [==============================] - 11s 38ms/step - loss: 0.2602 - filtered_image_outputs_loss: 0.0024 - number_output_loss: 0.1815 - filtered_image_outputs_accuracy: 0.7933 - number_output_accuracy: 0.9355 - number_output_precision: 0.9380 - number_output_recall: 0.9335 - val_loss: 0.2411 - val_filtered_image_outputs_loss: 0.0023 - val_number_output_loss: 0.1626 - val_filtered_image_outputs_accuracy: 0.7949 - val_number_output_accuracy: 0.9498 - val_number_output_precision: 0.9507 - val_number_output_recall: 0.9480\n",
      "Epoch 76/100\n",
      "290/291 [============================>.] - ETA: 0s - loss: 0.2582 - filtered_image_outputs_loss: 0.0024 - number_output_loss: 0.1799 - filtered_image_outputs_accuracy: 0.7933 - number_output_accuracy: 0.9356 - number_output_precision: 0.9380 - number_output_recall: 0.9327\n",
      "Epoch 76: val_number_output_accuracy did not improve from 0.94979\n",
      "291/291 [==============================] - 11s 38ms/step - loss: 0.2589 - filtered_image_outputs_loss: 0.0024 - number_output_loss: 0.1806 - filtered_image_outputs_accuracy: 0.7933 - number_output_accuracy: 0.9355 - number_output_precision: 0.9380 - number_output_recall: 0.9326 - val_loss: 0.3181 - val_filtered_image_outputs_loss: 0.0024 - val_number_output_loss: 0.2399 - val_filtered_image_outputs_accuracy: 0.7949 - val_number_output_accuracy: 0.9156 - val_number_output_precision: 0.9168 - val_number_output_recall: 0.9134\n",
      "Epoch 77/100\n",
      "291/291 [==============================] - ETA: 0s - loss: 0.2560 - filtered_image_outputs_loss: 0.0024 - number_output_loss: 0.1780 - filtered_image_outputs_accuracy: 0.7934 - number_output_accuracy: 0.9374 - number_output_precision: 0.9399 - number_output_recall: 0.9350\n",
      "Epoch 77: val_number_output_accuracy did not improve from 0.94979\n",
      "291/291 [==============================] - 11s 38ms/step - loss: 0.2560 - filtered_image_outputs_loss: 0.0024 - number_output_loss: 0.1780 - filtered_image_outputs_accuracy: 0.7934 - number_output_accuracy: 0.9374 - number_output_precision: 0.9399 - number_output_recall: 0.9350 - val_loss: 0.3014 - val_filtered_image_outputs_loss: 0.0023 - val_number_output_loss: 0.2237 - val_filtered_image_outputs_accuracy: 0.7949 - val_number_output_accuracy: 0.9187 - val_number_output_precision: 0.9197 - val_number_output_recall: 0.9149\n",
      "Epoch 78/100\n",
      "291/291 [==============================] - ETA: 0s - loss: 0.2567 - filtered_image_outputs_loss: 0.0024 - number_output_loss: 0.1791 - filtered_image_outputs_accuracy: 0.7934 - number_output_accuracy: 0.9370 - number_output_precision: 0.9387 - number_output_recall: 0.9348\n",
      "Epoch 78: val_number_output_accuracy did not improve from 0.94979\n",
      "291/291 [==============================] - 11s 37ms/step - loss: 0.2567 - filtered_image_outputs_loss: 0.0024 - number_output_loss: 0.1791 - filtered_image_outputs_accuracy: 0.7934 - number_output_accuracy: 0.9370 - number_output_precision: 0.9387 - number_output_recall: 0.9348 - val_loss: 0.2433 - val_filtered_image_outputs_loss: 0.0024 - val_number_output_loss: 0.1659 - val_filtered_image_outputs_accuracy: 0.7949 - val_number_output_accuracy: 0.9478 - val_number_output_precision: 0.9496 - val_number_output_recall: 0.9463\n",
      "Epoch 79/100\n",
      "290/291 [============================>.] - ETA: 0s - loss: 0.2498 - filtered_image_outputs_loss: 0.0024 - number_output_loss: 0.1726 - filtered_image_outputs_accuracy: 0.7933 - number_output_accuracy: 0.9373 - number_output_precision: 0.9397 - number_output_recall: 0.9346\n",
      "Epoch 79: val_number_output_accuracy did not improve from 0.94979\n",
      "291/291 [==============================] - 11s 37ms/step - loss: 0.2499 - filtered_image_outputs_loss: 0.0024 - number_output_loss: 0.1726 - filtered_image_outputs_accuracy: 0.7933 - number_output_accuracy: 0.9373 - number_output_precision: 0.9396 - number_output_recall: 0.9346 - val_loss: 0.2592 - val_filtered_image_outputs_loss: 0.0023 - val_number_output_loss: 0.1822 - val_filtered_image_outputs_accuracy: 0.7949 - val_number_output_accuracy: 0.9407 - val_number_output_precision: 0.9430 - val_number_output_recall: 0.9395\n",
      "Epoch 80/100\n",
      "291/291 [==============================] - ETA: 0s - loss: 0.2487 - filtered_image_outputs_loss: 0.0024 - number_output_loss: 0.1718 - filtered_image_outputs_accuracy: 0.7934 - number_output_accuracy: 0.9381 - number_output_precision: 0.9398 - number_output_recall: 0.9355\n",
      "Epoch 80: val_number_output_accuracy did not improve from 0.94979\n",
      "291/291 [==============================] - 11s 38ms/step - loss: 0.2487 - filtered_image_outputs_loss: 0.0024 - number_output_loss: 0.1718 - filtered_image_outputs_accuracy: 0.7934 - number_output_accuracy: 0.9381 - number_output_precision: 0.9398 - number_output_recall: 0.9355 - val_loss: 0.2692 - val_filtered_image_outputs_loss: 0.0023 - val_number_output_loss: 0.1926 - val_filtered_image_outputs_accuracy: 0.7948 - val_number_output_accuracy: 0.9370 - val_number_output_precision: 0.9390 - val_number_output_recall: 0.9357\n",
      "Epoch 81/100\n",
      "290/291 [============================>.] - ETA: 0s - loss: 0.2445 - filtered_image_outputs_loss: 0.0024 - number_output_loss: 0.1679 - filtered_image_outputs_accuracy: 0.7934 - number_output_accuracy: 0.9406 - number_output_precision: 0.9427 - number_output_recall: 0.9386\n",
      "Epoch 81: val_number_output_accuracy did not improve from 0.94979\n",
      "291/291 [==============================] - 11s 38ms/step - loss: 0.2447 - filtered_image_outputs_loss: 0.0024 - number_output_loss: 0.1681 - filtered_image_outputs_accuracy: 0.7933 - number_output_accuracy: 0.9405 - number_output_precision: 0.9426 - number_output_recall: 0.9384 - val_loss: 0.2454 - val_filtered_image_outputs_loss: 0.0023 - val_number_output_loss: 0.1691 - val_filtered_image_outputs_accuracy: 0.7949 - val_number_output_accuracy: 0.9433 - val_number_output_precision: 0.9458 - val_number_output_recall: 0.9420\n",
      "Epoch 82/100\n",
      "291/291 [==============================] - ETA: 0s - loss: 0.2474 - filtered_image_outputs_loss: 0.0024 - number_output_loss: 0.1712 - filtered_image_outputs_accuracy: 0.7934 - number_output_accuracy: 0.9411 - number_output_precision: 0.9426 - number_output_recall: 0.9391\n",
      "Epoch 82: val_number_output_accuracy did not improve from 0.94979\n",
      "291/291 [==============================] - 12s 40ms/step - loss: 0.2474 - filtered_image_outputs_loss: 0.0024 - number_output_loss: 0.1712 - filtered_image_outputs_accuracy: 0.7934 - number_output_accuracy: 0.9411 - number_output_precision: 0.9426 - number_output_recall: 0.9391 - val_loss: 0.2472 - val_filtered_image_outputs_loss: 0.0023 - val_number_output_loss: 0.1712 - val_filtered_image_outputs_accuracy: 0.7949 - val_number_output_accuracy: 0.9488 - val_number_output_precision: 0.9506 - val_number_output_recall: 0.9475\n",
      "Epoch 83/100\n",
      "290/291 [============================>.] - ETA: 0s - loss: 0.2408 - filtered_image_outputs_loss: 0.0024 - number_output_loss: 0.1649 - filtered_image_outputs_accuracy: 0.7933 - number_output_accuracy: 0.9433 - number_output_precision: 0.9453 - number_output_recall: 0.9399\n",
      "Epoch 83: val_number_output_accuracy did not improve from 0.94979\n",
      "291/291 [==============================] - 11s 39ms/step - loss: 0.2411 - filtered_image_outputs_loss: 0.0024 - number_output_loss: 0.1651 - filtered_image_outputs_accuracy: 0.7933 - number_output_accuracy: 0.9432 - number_output_precision: 0.9451 - number_output_recall: 0.9397 - val_loss: 0.2385 - val_filtered_image_outputs_loss: 0.0023 - val_number_output_loss: 0.1628 - val_filtered_image_outputs_accuracy: 0.7949 - val_number_output_accuracy: 0.9483 - val_number_output_precision: 0.9494 - val_number_output_recall: 0.9473\n",
      "Epoch 84/100\n",
      "291/291 [==============================] - ETA: 0s - loss: 0.2470 - filtered_image_outputs_loss: 0.0024 - number_output_loss: 0.1714 - filtered_image_outputs_accuracy: 0.7933 - number_output_accuracy: 0.9378 - number_output_precision: 0.9400 - number_output_recall: 0.9350\n",
      "Epoch 84: val_number_output_accuracy did not improve from 0.94979\n",
      "291/291 [==============================] - 11s 38ms/step - loss: 0.2470 - filtered_image_outputs_loss: 0.0024 - number_output_loss: 0.1714 - filtered_image_outputs_accuracy: 0.7933 - number_output_accuracy: 0.9378 - number_output_precision: 0.9400 - number_output_recall: 0.9350 - val_loss: 0.2795 - val_filtered_image_outputs_loss: 0.0023 - val_number_output_loss: 0.2040 - val_filtered_image_outputs_accuracy: 0.7948 - val_number_output_accuracy: 0.9292 - val_number_output_precision: 0.9306 - val_number_output_recall: 0.9257\n",
      "Epoch 85/100\n",
      "290/291 [============================>.] - ETA: 0s - loss: 0.2411 - filtered_image_outputs_loss: 0.0024 - number_output_loss: 0.1657 - filtered_image_outputs_accuracy: 0.7933 - number_output_accuracy: 0.9397 - number_output_precision: 0.9421 - number_output_recall: 0.9370\n",
      "Epoch 85: val_number_output_accuracy did not improve from 0.94979\n",
      "291/291 [==============================] - 11s 37ms/step - loss: 0.2412 - filtered_image_outputs_loss: 0.0024 - number_output_loss: 0.1658 - filtered_image_outputs_accuracy: 0.7933 - number_output_accuracy: 0.9396 - number_output_precision: 0.9421 - number_output_recall: 0.9369 - val_loss: 0.2482 - val_filtered_image_outputs_loss: 0.0023 - val_number_output_loss: 0.1732 - val_filtered_image_outputs_accuracy: 0.7949 - val_number_output_accuracy: 0.9460 - val_number_output_precision: 0.9466 - val_number_output_recall: 0.9438\n",
      "Epoch 86/100\n",
      "291/291 [==============================] - ETA: 0s - loss: 0.2493 - filtered_image_outputs_loss: 0.0024 - number_output_loss: 0.1742 - filtered_image_outputs_accuracy: 0.7933 - number_output_accuracy: 0.9376 - number_output_precision: 0.9402 - number_output_recall: 0.9347\n",
      "Epoch 86: val_number_output_accuracy did not improve from 0.94979\n",
      "291/291 [==============================] - 11s 37ms/step - loss: 0.2493 - filtered_image_outputs_loss: 0.0024 - number_output_loss: 0.1742 - filtered_image_outputs_accuracy: 0.7933 - number_output_accuracy: 0.9376 - number_output_precision: 0.9402 - number_output_recall: 0.9347 - val_loss: 0.2517 - val_filtered_image_outputs_loss: 0.0023 - val_number_output_loss: 0.1769 - val_filtered_image_outputs_accuracy: 0.7949 - val_number_output_accuracy: 0.9435 - val_number_output_precision: 0.9451 - val_number_output_recall: 0.9423\n",
      "Epoch 87/100\n",
      "291/291 [==============================] - ETA: 0s - loss: 0.2483 - filtered_image_outputs_loss: 0.0024 - number_output_loss: 0.1735 - filtered_image_outputs_accuracy: 0.7933 - number_output_accuracy: 0.9412 - number_output_precision: 0.9435 - number_output_recall: 0.9384\n",
      "Epoch 87: val_number_output_accuracy did not improve from 0.94979\n",
      "291/291 [==============================] - 11s 38ms/step - loss: 0.2483 - filtered_image_outputs_loss: 0.0024 - number_output_loss: 0.1735 - filtered_image_outputs_accuracy: 0.7933 - number_output_accuracy: 0.9412 - number_output_precision: 0.9435 - number_output_recall: 0.9384 - val_loss: 0.2653 - val_filtered_image_outputs_loss: 0.0023 - val_number_output_loss: 0.1908 - val_filtered_image_outputs_accuracy: 0.7949 - val_number_output_accuracy: 0.9395 - val_number_output_precision: 0.9410 - val_number_output_recall: 0.9367\n",
      "Epoch 88/100\n",
      "290/291 [============================>.] - ETA: 0s - loss: 0.2432 - filtered_image_outputs_loss: 0.0025 - number_output_loss: 0.1687 - filtered_image_outputs_accuracy: 0.7934 - number_output_accuracy: 0.9383 - number_output_precision: 0.9411 - number_output_recall: 0.9370\n",
      "Epoch 88: val_number_output_accuracy did not improve from 0.94979\n",
      "291/291 [==============================] - 11s 38ms/step - loss: 0.2431 - filtered_image_outputs_loss: 0.0025 - number_output_loss: 0.1686 - filtered_image_outputs_accuracy: 0.7934 - number_output_accuracy: 0.9383 - number_output_precision: 0.9412 - number_output_recall: 0.9370 - val_loss: 0.2365 - val_filtered_image_outputs_loss: 0.0023 - val_number_output_loss: 0.1622 - val_filtered_image_outputs_accuracy: 0.7949 - val_number_output_accuracy: 0.9485 - val_number_output_precision: 0.9504 - val_number_output_recall: 0.9468\n",
      "Epoch 89/100\n",
      "291/291 [==============================] - ETA: 0s - loss: 0.2408 - filtered_image_outputs_loss: 0.0024 - number_output_loss: 0.1665 - filtered_image_outputs_accuracy: 0.7934 - number_output_accuracy: 0.9426 - number_output_precision: 0.9447 - number_output_recall: 0.9401\n",
      "Epoch 89: val_number_output_accuracy did not improve from 0.94979\n",
      "291/291 [==============================] - 11s 40ms/step - loss: 0.2408 - filtered_image_outputs_loss: 0.0024 - number_output_loss: 0.1665 - filtered_image_outputs_accuracy: 0.7934 - number_output_accuracy: 0.9426 - number_output_precision: 0.9447 - number_output_recall: 0.9401 - val_loss: 0.2478 - val_filtered_image_outputs_loss: 0.0023 - val_number_output_loss: 0.1739 - val_filtered_image_outputs_accuracy: 0.7949 - val_number_output_accuracy: 0.9440 - val_number_output_precision: 0.9458 - val_number_output_recall: 0.9425\n",
      "Epoch 90/100\n",
      "291/291 [==============================] - ETA: 0s - loss: 0.2504 - filtered_image_outputs_loss: 0.0024 - number_output_loss: 0.1764 - filtered_image_outputs_accuracy: 0.7934 - number_output_accuracy: 0.9368 - number_output_precision: 0.9390 - number_output_recall: 0.9347\n",
      "Epoch 90: val_number_output_accuracy did not improve from 0.94979\n",
      "291/291 [==============================] - 11s 38ms/step - loss: 0.2504 - filtered_image_outputs_loss: 0.0024 - number_output_loss: 0.1764 - filtered_image_outputs_accuracy: 0.7934 - number_output_accuracy: 0.9368 - number_output_precision: 0.9390 - number_output_recall: 0.9347 - val_loss: 0.2479 - val_filtered_image_outputs_loss: 0.0023 - val_number_output_loss: 0.1742 - val_filtered_image_outputs_accuracy: 0.7949 - val_number_output_accuracy: 0.9410 - val_number_output_precision: 0.9426 - val_number_output_recall: 0.9402\n",
      "Epoch 91/100\n",
      "290/291 [============================>.] - ETA: 0s - loss: 0.2477 - filtered_image_outputs_loss: 0.0024 - number_output_loss: 0.1740 - filtered_image_outputs_accuracy: 0.7933 - number_output_accuracy: 0.9366 - number_output_precision: 0.9388 - number_output_recall: 0.9342\n",
      "Epoch 91: val_number_output_accuracy did not improve from 0.94979\n",
      "291/291 [==============================] - 11s 37ms/step - loss: 0.2476 - filtered_image_outputs_loss: 0.0024 - number_output_loss: 0.1739 - filtered_image_outputs_accuracy: 0.7933 - number_output_accuracy: 0.9367 - number_output_precision: 0.9389 - number_output_recall: 0.9343 - val_loss: 0.2456 - val_filtered_image_outputs_loss: 0.0022 - val_number_output_loss: 0.1722 - val_filtered_image_outputs_accuracy: 0.7949 - val_number_output_accuracy: 0.9430 - val_number_output_precision: 0.9446 - val_number_output_recall: 0.9418\n",
      "Epoch 92/100\n",
      "291/291 [==============================] - ETA: 0s - loss: 0.2347 - filtered_image_outputs_loss: 0.0024 - number_output_loss: 0.1614 - filtered_image_outputs_accuracy: 0.7933 - number_output_accuracy: 0.9439 - number_output_precision: 0.9458 - number_output_recall: 0.9411\n",
      "Epoch 92: val_number_output_accuracy did not improve from 0.94979\n",
      "291/291 [==============================] - 11s 38ms/step - loss: 0.2347 - filtered_image_outputs_loss: 0.0024 - number_output_loss: 0.1614 - filtered_image_outputs_accuracy: 0.7933 - number_output_accuracy: 0.9439 - number_output_precision: 0.9458 - number_output_recall: 0.9411 - val_loss: 0.2462 - val_filtered_image_outputs_loss: 0.0023 - val_number_output_loss: 0.1731 - val_filtered_image_outputs_accuracy: 0.7949 - val_number_output_accuracy: 0.9440 - val_number_output_precision: 0.9460 - val_number_output_recall: 0.9415\n",
      "Epoch 93/100\n",
      "290/291 [============================>.] - ETA: 0s - loss: 0.2351 - filtered_image_outputs_loss: 0.0024 - number_output_loss: 0.1620 - filtered_image_outputs_accuracy: 0.7933 - number_output_accuracy: 0.9430 - number_output_precision: 0.9450 - number_output_recall: 0.9418\n",
      "Epoch 93: val_number_output_accuracy did not improve from 0.94979\n",
      "291/291 [==============================] - 11s 37ms/step - loss: 0.2356 - filtered_image_outputs_loss: 0.0024 - number_output_loss: 0.1625 - filtered_image_outputs_accuracy: 0.7934 - number_output_accuracy: 0.9428 - number_output_precision: 0.9447 - number_output_recall: 0.9416 - val_loss: 0.2495 - val_filtered_image_outputs_loss: 0.0023 - val_number_output_loss: 0.1767 - val_filtered_image_outputs_accuracy: 0.7948 - val_number_output_accuracy: 0.9407 - val_number_output_precision: 0.9418 - val_number_output_recall: 0.9390\n",
      "Epoch 94/100\n",
      "290/291 [============================>.] - ETA: 0s - loss: 0.2439 - filtered_image_outputs_loss: 0.0024 - number_output_loss: 0.1710 - filtered_image_outputs_accuracy: 0.7933 - number_output_accuracy: 0.9391 - number_output_precision: 0.9415 - number_output_recall: 0.9365\n",
      "Epoch 94: val_number_output_accuracy did not improve from 0.94979\n",
      "291/291 [==============================] - 11s 39ms/step - loss: 0.2438 - filtered_image_outputs_loss: 0.0024 - number_output_loss: 0.1710 - filtered_image_outputs_accuracy: 0.7934 - number_output_accuracy: 0.9391 - number_output_precision: 0.9415 - number_output_recall: 0.9365 - val_loss: 0.2428 - val_filtered_image_outputs_loss: 0.0023 - val_number_output_loss: 0.1702 - val_filtered_image_outputs_accuracy: 0.7949 - val_number_output_accuracy: 0.9463 - val_number_output_precision: 0.9480 - val_number_output_recall: 0.9438\n",
      "Epoch 95/100\n",
      "291/291 [==============================] - ETA: 0s - loss: 0.2344 - filtered_image_outputs_loss: 0.0024 - number_output_loss: 0.1618 - filtered_image_outputs_accuracy: 0.7933 - number_output_accuracy: 0.9433 - number_output_precision: 0.9453 - number_output_recall: 0.9406\n",
      "Epoch 95: val_number_output_accuracy did not improve from 0.94979\n",
      "291/291 [==============================] - 11s 38ms/step - loss: 0.2344 - filtered_image_outputs_loss: 0.0024 - number_output_loss: 0.1618 - filtered_image_outputs_accuracy: 0.7933 - number_output_accuracy: 0.9433 - number_output_precision: 0.9453 - number_output_recall: 0.9406 - val_loss: 0.2427 - val_filtered_image_outputs_loss: 0.0023 - val_number_output_loss: 0.1704 - val_filtered_image_outputs_accuracy: 0.7949 - val_number_output_accuracy: 0.9440 - val_number_output_precision: 0.9447 - val_number_output_recall: 0.9438\n",
      "Epoch 96/100\n",
      "291/291 [==============================] - ETA: 0s - loss: 0.2368 - filtered_image_outputs_loss: 0.0024 - number_output_loss: 0.1644 - filtered_image_outputs_accuracy: 0.7934 - number_output_accuracy: 0.9407 - number_output_precision: 0.9433 - number_output_recall: 0.9388\n",
      "Epoch 96: val_number_output_accuracy did not improve from 0.94979\n",
      "291/291 [==============================] - 11s 38ms/step - loss: 0.2368 - filtered_image_outputs_loss: 0.0024 - number_output_loss: 0.1644 - filtered_image_outputs_accuracy: 0.7934 - number_output_accuracy: 0.9407 - number_output_precision: 0.9433 - number_output_recall: 0.9388 - val_loss: 0.2659 - val_filtered_image_outputs_loss: 0.0023 - val_number_output_loss: 0.1937 - val_filtered_image_outputs_accuracy: 0.7949 - val_number_output_accuracy: 0.9377 - val_number_output_precision: 0.9388 - val_number_output_recall: 0.9360\n",
      "Epoch 97/100\n",
      "291/291 [==============================] - ETA: 0s - loss: 0.2331 - filtered_image_outputs_loss: 0.0024 - number_output_loss: 0.1609 - filtered_image_outputs_accuracy: 0.7934 - number_output_accuracy: 0.9446 - number_output_precision: 0.9461 - number_output_recall: 0.9429\n",
      "Epoch 97: val_number_output_accuracy did not improve from 0.94979\n",
      "291/291 [==============================] - 11s 37ms/step - loss: 0.2331 - filtered_image_outputs_loss: 0.0024 - number_output_loss: 0.1609 - filtered_image_outputs_accuracy: 0.7934 - number_output_accuracy: 0.9446 - number_output_precision: 0.9461 - number_output_recall: 0.9429 - val_loss: 0.2484 - val_filtered_image_outputs_loss: 0.0023 - val_number_output_loss: 0.1765 - val_filtered_image_outputs_accuracy: 0.7949 - val_number_output_accuracy: 0.9420 - val_number_output_precision: 0.9448 - val_number_output_recall: 0.9402\n",
      "Epoch 98/100\n",
      "290/291 [============================>.] - ETA: 0s - loss: 0.2282 - filtered_image_outputs_loss: 0.0024 - number_output_loss: 0.1563 - filtered_image_outputs_accuracy: 0.7934 - number_output_accuracy: 0.9432 - number_output_precision: 0.9457 - number_output_recall: 0.9419\n",
      "Epoch 98: val_number_output_accuracy did not improve from 0.94979\n",
      "291/291 [==============================] - 11s 37ms/step - loss: 0.2280 - filtered_image_outputs_loss: 0.0024 - number_output_loss: 0.1561 - filtered_image_outputs_accuracy: 0.7934 - number_output_accuracy: 0.9433 - number_output_precision: 0.9458 - number_output_recall: 0.9420 - val_loss: 0.2472 - val_filtered_image_outputs_loss: 0.0023 - val_number_output_loss: 0.1755 - val_filtered_image_outputs_accuracy: 0.7948 - val_number_output_accuracy: 0.9470 - val_number_output_precision: 0.9486 - val_number_output_recall: 0.9455\n",
      "Epoch 99/100\n",
      "291/291 [==============================] - ETA: 0s - loss: 0.2340 - filtered_image_outputs_loss: 0.0024 - number_output_loss: 0.1624 - filtered_image_outputs_accuracy: 0.7933 - number_output_accuracy: 0.9421 - number_output_precision: 0.9443 - number_output_recall: 0.9397\n",
      "Epoch 99: val_number_output_accuracy did not improve from 0.94979\n",
      "291/291 [==============================] - 11s 37ms/step - loss: 0.2340 - filtered_image_outputs_loss: 0.0024 - number_output_loss: 0.1624 - filtered_image_outputs_accuracy: 0.7933 - number_output_accuracy: 0.9421 - number_output_precision: 0.9443 - number_output_recall: 0.9397 - val_loss: 0.2832 - val_filtered_image_outputs_loss: 0.0023 - val_number_output_loss: 0.2118 - val_filtered_image_outputs_accuracy: 0.7948 - val_number_output_accuracy: 0.9252 - val_number_output_precision: 0.9267 - val_number_output_recall: 0.9242\n",
      "Epoch 100/100\n",
      "291/291 [==============================] - ETA: 0s - loss: 0.2336 - filtered_image_outputs_loss: 0.0024 - number_output_loss: 0.1622 - filtered_image_outputs_accuracy: 0.7934 - number_output_accuracy: 0.9415 - number_output_precision: 0.9436 - number_output_recall: 0.9394\n",
      "Epoch 100: val_number_output_accuracy did not improve from 0.94979\n",
      "291/291 [==============================] - 11s 37ms/step - loss: 0.2336 - filtered_image_outputs_loss: 0.0024 - number_output_loss: 0.1622 - filtered_image_outputs_accuracy: 0.7934 - number_output_accuracy: 0.9415 - number_output_precision: 0.9436 - number_output_recall: 0.9394 - val_loss: 0.2343 - val_filtered_image_outputs_loss: 0.0023 - val_number_output_loss: 0.1631 - val_filtered_image_outputs_accuracy: 0.7949 - val_number_output_accuracy: 0.9480 - val_number_output_precision: 0.9496 - val_number_output_recall: 0.9470\n"
     ]
    }
   ],
   "source": [
    "hist = model.fit(\n",
    "    images, (targets, labels),\n",
    "    validation_split=0.3,\n",
    "    batch_size=32,\n",
    "    epochs=N_EPOCH,\n",
    "    verbose=1,  \n",
    "    callbacks=[checkpoint, tensorboard_callback]\n",
    ")\n",
    "\n",
    "# tensorboard --logdir=Final/v10_final --bind_all"
   ]
  },
  {
   "cell_type": "code",
   "execution_count": 22,
   "metadata": {},
   "outputs": [],
   "source": [
    "# plt.plot(hist.history['loss'], label = 'loss')\n",
    "# plt.plot(hist.history['accuracy'], label = 'accuracy')\n",
    "# plt.plot(hist.history['val_loss'], label = 'val_loss')\n",
    "# plt.plot(hist.history['val_accuracy'], label = 'val_accuracy')\n",
    "# plt.legend(loc = 'upper left')\n",
    "\n",
    "# plt.savefig('filter_model.png')"
   ]
  },
  {
   "cell_type": "code",
   "execution_count": null,
   "metadata": {},
   "outputs": [],
   "source": []
  },
  {
   "cell_type": "code",
   "execution_count": 2,
   "metadata": {},
   "outputs": [
    {
     "ename": "NameError",
     "evalue": "name 'images' is not defined",
     "output_type": "error",
     "traceback": [
      "\u001b[0;31m---------------------------------------------------------------------------\u001b[0m",
      "\u001b[0;31mNameError\u001b[0m                                 Traceback (most recent call last)",
      "Cell \u001b[0;32mIn[2], line 1\u001b[0m\n\u001b[0;32m----> 1\u001b[0m \u001b[38;5;28mprint\u001b[39m(\u001b[43mimages\u001b[49m[\u001b[38;5;241m22000\u001b[39m]\u001b[38;5;241m.\u001b[39mshape)\n\u001b[1;32m      2\u001b[0m image \u001b[38;5;241m=\u001b[39m images[\u001b[38;5;241m22000\u001b[39m]\n\u001b[1;32m      3\u001b[0m expand_image \u001b[38;5;241m=\u001b[39m np\u001b[38;5;241m.\u001b[39mexpand_dims(image, axis \u001b[38;5;241m=\u001b[39m \u001b[38;5;241m0\u001b[39m)\n",
      "\u001b[0;31mNameError\u001b[0m: name 'images' is not defined"
     ]
    }
   ],
   "source": [
    "print(images[22000].shape)\n",
    "image = images[22000]\n",
    "expand_image = np.expand_dims(image, axis = 0)\n",
    "print(expand_image.shape)"
   ]
  },
  {
   "cell_type": "code",
   "execution_count": 3,
   "metadata": {},
   "outputs": [
    {
     "ename": "NameError",
     "evalue": "name 'plt' is not defined",
     "output_type": "error",
     "traceback": [
      "\u001b[0;31m---------------------------------------------------------------------------\u001b[0m",
      "\u001b[0;31mNameError\u001b[0m                                 Traceback (most recent call last)",
      "Cell \u001b[0;32mIn[3], line 1\u001b[0m\n\u001b[0;32m----> 1\u001b[0m \u001b[43mplt\u001b[49m\u001b[38;5;241m.\u001b[39mimshow(image)\n\u001b[1;32m      2\u001b[0m plt\u001b[38;5;241m.\u001b[39mshow()\n",
      "\u001b[0;31mNameError\u001b[0m: name 'plt' is not defined"
     ]
    }
   ],
   "source": [
    "plt.imshow(image)\n",
    "plt.show()"
   ]
  },
  {
   "cell_type": "code",
   "execution_count": 4,
   "metadata": {},
   "outputs": [
    {
     "ename": "NameError",
     "evalue": "name 'model' is not defined",
     "output_type": "error",
     "traceback": [
      "\u001b[0;31m---------------------------------------------------------------------------\u001b[0m",
      "\u001b[0;31mNameError\u001b[0m                                 Traceback (most recent call last)",
      "Cell \u001b[0;32mIn[4], line 1\u001b[0m\n\u001b[0;32m----> 1\u001b[0m noise_removed_image, people_count \u001b[38;5;241m=\u001b[39m \u001b[43mmodel\u001b[49m\u001b[38;5;241m.\u001b[39mpredict(expand_image)\n\u001b[1;32m      2\u001b[0m noise_removed_image \u001b[38;5;241m=\u001b[39m noise_removed_image[\u001b[38;5;241m0\u001b[39m]\n\u001b[1;32m      3\u001b[0m noise_removed_image \u001b[38;5;241m=\u001b[39m ((noise_removed_image \u001b[38;5;241m-\u001b[39m np\u001b[38;5;241m.\u001b[39mmin(noise_removed_image)) \u001b[38;5;241m/\u001b[39m (np\u001b[38;5;241m.\u001b[39mmax(noise_removed_image) \u001b[38;5;241m-\u001b[39m np\u001b[38;5;241m.\u001b[39mmin(noise_removed_image)) \u001b[38;5;241m*\u001b[39m \u001b[38;5;241m255\u001b[39m)\u001b[38;5;241m.\u001b[39mastype(np\u001b[38;5;241m.\u001b[39muint8)\n",
      "\u001b[0;31mNameError\u001b[0m: name 'model' is not defined"
     ]
    }
   ],
   "source": [
    "noise_removed_image, people_count = model.predict(expand_image)\n",
    "noise_removed_image = noise_removed_image[0]\n",
    "noise_removed_image = ((noise_removed_image - np.min(noise_removed_image)) / (np.max(noise_removed_image) - np.min(noise_removed_image)) * 255).astype(np.uint8)\n",
    "print(noise_removed_image.shape)\n",
    "print(noise_removed_image.max())\n",
    "print(noise_removed_image.min())\n",
    "plt.imshow(noise_removed_image)\n",
    "plt.show()\n",
    "print(np.argmax(people_count[0]))"
   ]
  },
  {
   "cell_type": "code",
   "execution_count": 44,
   "metadata": {},
   "outputs": [
    {
     "ename": "SyntaxError",
     "evalue": "invalid syntax (1088857786.py, line 1)",
     "output_type": "error",
     "traceback": [
      "\u001b[0;36m  Cell \u001b[0;32mIn[44], line 1\u001b[0;36m\u001b[0m\n\u001b[0;31m    qq!!\u001b[0m\n\u001b[0m      ^\u001b[0m\n\u001b[0;31mSyntaxError\u001b[0m\u001b[0;31m:\u001b[0m invalid syntax\n"
     ]
    }
   ],
   "source": [
    "qq!!"
   ]
  },
  {
   "cell_type": "code",
   "execution_count": null,
   "metadata": {},
   "outputs": [],
   "source": [
    "model2.save('./v3_3().h5')"
   ]
  },
  {
   "cell_type": "code",
   "execution_count": null,
   "metadata": {},
   "outputs": [],
   "source": [
    "import tensorflow as tf\n",
    "from tensorflow_model_optimization.sparsity import keras as sparsity\n",
    "from tensorflow_model_optimization.sparsity.keras import UpdatePruningStep\n",
    "\n",
    "# train_dataset, train_number_labels,\n",
    "\n",
    "# 초기 모델 로드\n",
    "model = tf.keras.models.load_model('./v4_backbone_1_best_model.h5')\n",
    "\n",
    "# 프루닝 설정\n",
    "epochs = 1\n",
    "batch_size = 128\n",
    "num_train_samples = sum(1 for _ in val_ds)\n",
    "end_step = np.ceil(num_train_samples / batch_size).astype(np.int32) * epochs\n",
    "pruning_params = {\n",
    "    'pruning_schedule': sparsity.PolynomialDecay(initial_sparsity=0.50,\n",
    "                                                 final_sparsity=0.80,\n",
    "                                                 begin_step=0,\n",
    "                                                 end_step=end_step)\n",
    "}\n",
    "\n",
    "# 모델에 프루닝 래퍼 적용\n",
    "model_for_pruning = sparsity.prune_low_magnitude(model, **pruning_params)\n",
    "\n",
    "# 프루닝 모델 컴파일 및 훈련\n",
    "model_for_pruning.compile(optimizer='adam',\n",
    "                          loss=tf.keras.losses.categorical_crossentropy,\n",
    "                          metrics=['accuracy'])\n",
    "\n",
    "callbacks = [\n",
    "    UpdatePruningStep()\n",
    "]\n",
    "\n",
    "model_for_pruning.fit(val_ds, epochs=epochs, callbacks=callbacks)\n",
    "\n",
    "# 프루닝 제거 및 최종 모델 저장\n",
    "final_model = sparsity.strip_pruning(model_for_pruning)\n",
    "final_model.save('pruned_model.h5')\n"
   ]
  },
  {
   "cell_type": "code",
   "execution_count": null,
   "metadata": {},
   "outputs": [],
   "source": [
    "final_model.summary()"
   ]
  },
  {
   "cell_type": "code",
   "execution_count": null,
   "metadata": {},
   "outputs": [],
   "source": [
    "batch_size = 1\n",
    "# train_dataset_tf = tf.data.Dataset.from_tensor_slices(test_dataset)\n",
    "# train_dataset을 배치로 만듦\n",
    "# batched_train_dataset = train_dataset_tf.batch(batch_size)"
   ]
  },
  {
   "cell_type": "code",
   "execution_count": null,
   "metadata": {},
   "outputs": [],
   "source": [
    "import tensorflow as tf\n",
    "\n",
    "# 기존 모델 로드\n",
    "model = tf.keras.models.load_model('v4_backbone_1_best_model.h5')\n",
    "\n",
    "# 대표 데이터셋을 준비하는 함수\n",
    "def representative_data_gen():\n",
    "    for input_value, _ in val_ds.take(100):  # val_ds의 각 요소는 (data, label) 튜플\n",
    "        # data 부분만 추출하고 float32 타입으로 캐스팅\n",
    "        yield [tf.cast(input_value, tf.float32).numpy()]\n",
    "\n",
    "# 훈련 데이터셋을 로드하고 배치 처리\n",
    "# 여기서 val_ds는 이미 tf.data.Dataset 형식이고, batch_size는 적절한 값으로 설정해야 합니다.\n",
    "batched_train_dataset = val_ds.batch(batch_size)\n",
    "batched_train_dataset = batched_train_dataset.map(lambda x, y: (tf.cast(x, tf.float32), y))  # x는 입력 데이터, y는 레이블\n",
    "\n",
    "# TFLite 변환기 설정\n",
    "converter = tf.lite.TFLiteConverter.from_keras_model(model)\n",
    "converter.optimizations = [tf.lite.Optimize.DEFAULT]\n",
    "converter.representative_dataset = representative_data_gen\n",
    "\n",
    "# 모든 연산을 float32로 제한\n",
    "converter.target_spec.supported_ops = [tf.lite.OpsSet.TFLITE_BUILTINS]\n",
    "\n",
    "# 입력과 출력을 float32로 설정\n",
    "converter.inference_input_type = tf.float32\n",
    "converter.inference_output_type = tf.float32\n",
    "\n",
    "# 모델을 TFLite 모델로 변환\n",
    "tflite_quant_model = converter.convert()\n",
    "\n",
    "# TFLite 모델 저장\n",
    "with open('quantized_model_v1.tflite', 'wb') as f:\n",
    "    f.write(tflite_quant_model)\n"
   ]
  },
  {
   "cell_type": "code",
   "execution_count": null,
   "metadata": {},
   "outputs": [],
   "source": []
  }
 ],
 "metadata": {
  "kernelspec": {
   "display_name": "ssd",
   "language": "python",
   "name": "python3"
  },
  "language_info": {
   "codemirror_mode": {
    "name": "ipython",
    "version": 3
   },
   "file_extension": ".py",
   "mimetype": "text/x-python",
   "name": "python",
   "nbconvert_exporter": "python",
   "pygments_lexer": "ipython3",
   "version": "3.8.18"
  }
 },
 "nbformat": 4,
 "nbformat_minor": 2
}
